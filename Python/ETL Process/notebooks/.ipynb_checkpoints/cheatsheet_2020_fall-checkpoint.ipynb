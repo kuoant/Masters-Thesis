{
 "cells": [
  {
   "cell_type": "markdown",
   "metadata": {},
   "source": [
    "# Information Systems for Engineers 2020 - Cheat Sheet"
   ]
  },
  {
   "cell_type": "markdown",
   "metadata": {},
   "source": [
    "During the exam, you will be required to write SQL queries using a Jupyter notebook."
   ]
  },
  {
   "cell_type": "markdown",
   "metadata": {},
   "source": [
    "This notebook is designed to help you start writing your queries by providing you an environment with the datasets loaded and a simple query that you can use to recap the syntax of SQL."
   ]
  },
  {
   "cell_type": "markdown",
   "metadata": {},
   "source": [
    "Feel free to extend this notebook and use it for preparing the answers you need for the exam. Take into account that the content of this notebook will not be considered for grading."
   ]
  },
  {
   "cell_type": "markdown",
   "metadata": {},
   "source": [
    "## SQL"
   ]
  },
  {
   "cell_type": "markdown",
   "metadata": {},
   "source": [
    "There is a local PostgreSQL 12 installation with a dataset loaded into a database. Run the next cell to connect to it."
   ]
  },
  {
   "cell_type": "code",
   "execution_count": 1,
   "metadata": {},
   "outputs": [],
   "source": [
    "%load_ext sql\n",
    "%sql  postgresql://postgres:example@db "
   ]
  },
  {
   "cell_type": "markdown",
   "metadata": {},
   "source": [
    "To print the tables currently loaded in the database run:"
   ]
  },
  {
   "cell_type": "code",
   "execution_count": 2,
   "metadata": {},
   "outputs": [
    {
     "name": "stdout",
     "output_type": "stream",
     "text": [
      " * postgresql://postgres:***@db\n",
      "4 rows affected.\n"
     ]
    },
    {
     "data": {
      "text/html": [
       "<table>\n",
       "    <tr>\n",
       "        <th>table_catalog</th>\n",
       "        <th>table_schema</th>\n",
       "        <th>table_name</th>\n",
       "        <th>table_type</th>\n",
       "        <th>self_referencing_column_name</th>\n",
       "        <th>reference_generation</th>\n",
       "        <th>user_defined_type_catalog</th>\n",
       "        <th>user_defined_type_schema</th>\n",
       "        <th>user_defined_type_name</th>\n",
       "        <th>is_insertable_into</th>\n",
       "        <th>is_typed</th>\n",
       "        <th>commit_action</th>\n",
       "    </tr>\n",
       "    <tr>\n",
       "        <td>postgres</td>\n",
       "        <td>public</td>\n",
       "        <td>categories</td>\n",
       "        <td>BASE TABLE</td>\n",
       "        <td>None</td>\n",
       "        <td>None</td>\n",
       "        <td>None</td>\n",
       "        <td>None</td>\n",
       "        <td>None</td>\n",
       "        <td>YES</td>\n",
       "        <td>NO</td>\n",
       "        <td>None</td>\n",
       "    </tr>\n",
       "    <tr>\n",
       "        <td>postgres</td>\n",
       "        <td>public</td>\n",
       "        <td>customers</td>\n",
       "        <td>BASE TABLE</td>\n",
       "        <td>None</td>\n",
       "        <td>None</td>\n",
       "        <td>None</td>\n",
       "        <td>None</td>\n",
       "        <td>None</td>\n",
       "        <td>YES</td>\n",
       "        <td>NO</td>\n",
       "        <td>None</td>\n",
       "    </tr>\n",
       "    <tr>\n",
       "        <td>postgres</td>\n",
       "        <td>public</td>\n",
       "        <td>nwemployees</td>\n",
       "        <td>BASE TABLE</td>\n",
       "        <td>None</td>\n",
       "        <td>None</td>\n",
       "        <td>None</td>\n",
       "        <td>None</td>\n",
       "        <td>None</td>\n",
       "        <td>YES</td>\n",
       "        <td>NO</td>\n",
       "        <td>None</td>\n",
       "    </tr>\n",
       "    <tr>\n",
       "        <td>postgres</td>\n",
       "        <td>public</td>\n",
       "        <td>employeeterritories</td>\n",
       "        <td>BASE TABLE</td>\n",
       "        <td>None</td>\n",
       "        <td>None</td>\n",
       "        <td>None</td>\n",
       "        <td>None</td>\n",
       "        <td>None</td>\n",
       "        <td>YES</td>\n",
       "        <td>NO</td>\n",
       "        <td>None</td>\n",
       "    </tr>\n",
       "</table>"
      ],
      "text/plain": [
       "[('postgres', 'public', 'categories', 'BASE TABLE', None, None, None, None, None, 'YES', 'NO', None),\n",
       " ('postgres', 'public', 'customers', 'BASE TABLE', None, None, None, None, None, 'YES', 'NO', None),\n",
       " ('postgres', 'public', 'nwemployees', 'BASE TABLE', None, None, None, None, None, 'YES', 'NO', None),\n",
       " ('postgres', 'public', 'employeeterritories', 'BASE TABLE', None, None, None, None, None, 'YES', 'NO', None)]"
      ]
     },
     "execution_count": 2,
     "metadata": {},
     "output_type": "execute_result"
    }
   ],
   "source": [
    "%%sql\n",
    "\n",
    "SELECT * \n",
    "FROM INFORMATION_SCHEMA.TABLES \n",
    "WHERE TABLE_TYPE = 'BASE TABLE' and TABLE_CATALOG = 'postgres' and TABLE_SCHEMA = 'public'\n",
    "LIMIT 4;"
   ]
  },
  {
   "cell_type": "markdown",
   "metadata": {},
   "source": [
    "To print the attributes of a particular table (`stations`, for example) run:"
   ]
  },
  {
   "cell_type": "code",
   "execution_count": 3,
   "metadata": {},
   "outputs": [
    {
     "name": "stdout",
     "output_type": "stream",
     "text": [
      " * postgresql://postgres:***@db\n",
      "4 rows affected.\n"
     ]
    },
    {
     "data": {
      "text/html": [
       "<table>\n",
       "    <tr>\n",
       "        <th>column_name</th>\n",
       "        <th>data_type</th>\n",
       "        <th>character_maximum_length</th>\n",
       "    </tr>\n",
       "    <tr>\n",
       "        <td>num_platforms</td>\n",
       "        <td>integer</td>\n",
       "        <td>None</td>\n",
       "    </tr>\n",
       "    <tr>\n",
       "        <td>avg_weekday_passengers</td>\n",
       "        <td>integer</td>\n",
       "        <td>None</td>\n",
       "    </tr>\n",
       "    <tr>\n",
       "        <td>avg_weekend_passengers</td>\n",
       "        <td>integer</td>\n",
       "        <td>None</td>\n",
       "    </tr>\n",
       "    <tr>\n",
       "        <td>id</td>\n",
       "        <td>character varying</td>\n",
       "        <td>10</td>\n",
       "    </tr>\n",
       "</table>"
      ],
      "text/plain": [
       "[('num_platforms', 'integer', None),\n",
       " ('avg_weekday_passengers', 'integer', None),\n",
       " ('avg_weekend_passengers', 'integer', None),\n",
       " ('id', 'character varying', 10)]"
      ]
     },
     "execution_count": 3,
     "metadata": {},
     "output_type": "execute_result"
    }
   ],
   "source": [
    "%%sql\n",
    "\n",
    "SELECT column_name, data_type, character_maximum_length\n",
    "FROM INFORMATION_SCHEMA.COLUMNS \n",
    "WHERE table_name = 'stations'\n",
    "LIMIT 4;"
   ]
  },
  {
   "cell_type": "markdown",
   "metadata": {},
   "source": [
    "## Complex query example\n",
    "\n",
    "A more complex PostgreSQL query would look like:"
   ]
  },
  {
   "cell_type": "code",
   "execution_count": 4,
   "metadata": {},
   "outputs": [
    {
     "name": "stdout",
     "output_type": "stream",
     "text": [
      " * postgresql://postgres:***@db\n",
      "6 rows affected.\n"
     ]
    },
    {
     "data": {
      "text/html": [
       "<table>\n",
       "    <tr>\n",
       "        <th>id</th>\n",
       "        <th>name</th>\n",
       "        <th>service</th>\n",
       "        <th>open_mon</th>\n",
       "        <th>avg_weekday_passengers</th>\n",
       "    </tr>\n",
       "    <tr>\n",
       "        <td>BRU</td>\n",
       "        <td>Brunnen</td>\n",
       "        <td>Western Union</td>\n",
       "        <td>True</td>\n",
       "        <td>3000</td>\n",
       "    </tr>\n",
       "    <tr>\n",
       "        <td>SCHW</td>\n",
       "        <td>Schwyz</td>\n",
       "        <td>Western Union</td>\n",
       "        <td>True</td>\n",
       "        <td>3200</td>\n",
       "    </tr>\n",
       "    <tr>\n",
       "        <td>EBR</td>\n",
       "        <td>Emmenbrucke</td>\n",
       "        <td>Western Union</td>\n",
       "        <td>True</td>\n",
       "        <td>5600</td>\n",
       "    </tr>\n",
       "    <tr>\n",
       "        <td>OWT</td>\n",
       "        <td>Oberwinterthur</td>\n",
       "        <td>Western Union</td>\n",
       "        <td>True</td>\n",
       "        <td>5700</td>\n",
       "    </tr>\n",
       "    <tr>\n",
       "        <td>CHAM</td>\n",
       "        <td>Cham</td>\n",
       "        <td>Western Union</td>\n",
       "        <td>True</td>\n",
       "        <td>6800</td>\n",
       "    </tr>\n",
       "    <tr>\n",
       "        <td>UZ</td>\n",
       "        <td>Uznach</td>\n",
       "        <td>Western Union</td>\n",
       "        <td>True</td>\n",
       "        <td>8600</td>\n",
       "    </tr>\n",
       "</table>"
      ],
      "text/plain": [
       "[('BRU', 'Brunnen', 'Western Union', True, 3000),\n",
       " ('SCHW', 'Schwyz', 'Western Union', True, 3200),\n",
       " ('EBR', 'Emmenbrucke', 'Western Union', True, 5600),\n",
       " ('OWT', 'Oberwinterthur', 'Western Union', True, 5700),\n",
       " ('CHAM', 'Cham', 'Western Union', True, 6800),\n",
       " ('UZ', 'Uznach', 'Western Union', True, 8600)]"
      ]
     },
     "execution_count": 4,
     "metadata": {},
     "output_type": "execute_result"
    }
   ],
   "source": [
    "%%sql\n",
    "\n",
    "SELECT id, name, service, open_mon, avg_weekday_passengers FROM (\n",
    "    stations JOIN station_services \n",
    "    ON stations.id=station_services.station_id \n",
    "    AND station_services.open_mon=True\n",
    ") as monday_services \n",
    "    GROUP BY id, name, service, open_mon, avg_weekday_passengers \n",
    "    HAVING service='Western Union' AND avg_weekday_passengers < 10000\n",
    "    ORDER BY avg_weekday_passengers ASC;"
   ]
  },
  {
   "cell_type": "markdown",
   "metadata": {},
   "source": [
    "## Exam database − semi-realistic train travel data around Zürich"
   ]
  },
  {
   "cell_type": "markdown",
   "metadata": {},
   "source": [
    "The dataset represents stations, train routes, train trips and customer's trips on the SBB around Zürich. Some of the station and timetable data is real, some is synthetic, as is all the customer trip data.\n",
    "\n",
    "Here is some basic information on the database tables."
   ]
  },
  {
   "cell_type": "markdown",
   "metadata": {},
   "source": [
    "### `stations` table\n",
    "\n",
    "Information on the train stations in the network around Zürich.\n",
    "\n",
    "`name` is the name of the station\n",
    "\n",
    "`num_platforms` is the number of platforms in the station\n",
    "\n",
    "`avg_weekday_passengers` is the average number of daily passengers on a weekday\n",
    "\n",
    "`avg_weekend_passengers` is the average number of daily passengers on a weekend day"
   ]
  },
  {
   "cell_type": "code",
   "execution_count": 5,
   "metadata": {},
   "outputs": [
    {
     "name": "stdout",
     "output_type": "stream",
     "text": [
      " * postgresql://postgres:***@db\n",
      "4 rows affected.\n"
     ]
    },
    {
     "data": {
      "text/html": [
       "<table>\n",
       "    <tr>\n",
       "        <th>id</th>\n",
       "        <th>name</th>\n",
       "        <th>num_platforms</th>\n",
       "        <th>avg_weekday_passengers</th>\n",
       "        <th>avg_weekend_passengers</th>\n",
       "        <th>owner</th>\n",
       "    </tr>\n",
       "    <tr>\n",
       "        <td>BG</td>\n",
       "        <td>Brugg AG</td>\n",
       "        <td>3</td>\n",
       "        <td>24500</td>\n",
       "        <td>11700</td>\n",
       "        <td>SBB</td>\n",
       "    </tr>\n",
       "    <tr>\n",
       "        <td>SS</td>\n",
       "        <td>Sursee</td>\n",
       "        <td>2</td>\n",
       "        <td>13900</td>\n",
       "        <td>8100</td>\n",
       "        <td>SBB</td>\n",
       "    </tr>\n",
       "    <tr>\n",
       "        <td>SEM</td>\n",
       "        <td>Sempach-Neuenkirch</td>\n",
       "        <td>2</td>\n",
       "        <td>2500</td>\n",
       "        <td>1400</td>\n",
       "        <td>SBB</td>\n",
       "    </tr>\n",
       "    <tr>\n",
       "        <td>EBR</td>\n",
       "        <td>Emmenbrucke</td>\n",
       "        <td>2</td>\n",
       "        <td>5600</td>\n",
       "        <td>3200</td>\n",
       "        <td>SBB</td>\n",
       "    </tr>\n",
       "</table>"
      ],
      "text/plain": [
       "[('BG', 'Brugg AG', 3, 24500, 11700, 'SBB'),\n",
       " ('SS', 'Sursee', 2, 13900, 8100, 'SBB'),\n",
       " ('SEM', 'Sempach-Neuenkirch', 2, 2500, 1400, 'SBB'),\n",
       " ('EBR', 'Emmenbrucke', 2, 5600, 3200, 'SBB')]"
      ]
     },
     "execution_count": 5,
     "metadata": {},
     "output_type": "execute_result"
    }
   ],
   "source": [
    "%%sql\n",
    "SELECT * FROM stations LIMIT 4;"
   ]
  },
  {
   "cell_type": "markdown",
   "metadata": {},
   "source": [
    "### `station_services` table\n",
    "\n",
    "Contains the services offered by the stations in the network, and their opening days.\n",
    "\n",
    "`station_id` is the station id as defined in the `stations` table\n",
    "\n",
    "`service` is the description of the service\n",
    "\n",
    "`open_mon` represents whether the service is open on monday\n",
    "\n",
    "`open_tue` represents whether the service is open on tueday\n",
    "\n",
    "`open_wed` represents whether the service is open on wednesday\n",
    "\n",
    "`open_thu` represents whether the service is open on thursday\n",
    "\n",
    "`open_fri` represents whether the service is open on friday\n",
    "\n",
    "`open_sat` represents whether the service is open on saturday\n",
    "\n",
    "`open_sun` represents whether the service is open on sunday"
   ]
  },
  {
   "cell_type": "code",
   "execution_count": 6,
   "metadata": {},
   "outputs": [
    {
     "name": "stdout",
     "output_type": "stream",
     "text": [
      " * postgresql://postgres:***@db\n",
      "4 rows affected.\n"
     ]
    },
    {
     "data": {
      "text/html": [
       "<table>\n",
       "    <tr>\n",
       "        <th>station_id</th>\n",
       "        <th>service</th>\n",
       "        <th>open_mon</th>\n",
       "        <th>open_tue</th>\n",
       "        <th>open_wed</th>\n",
       "        <th>open_thu</th>\n",
       "        <th>open_fri</th>\n",
       "        <th>open_sat</th>\n",
       "        <th>open_sun</th>\n",
       "    </tr>\n",
       "    <tr>\n",
       "        <td>BAA</td>\n",
       "        <td>Geldwechsel</td>\n",
       "        <td>True</td>\n",
       "        <td>True</td>\n",
       "        <td>True</td>\n",
       "        <td>True</td>\n",
       "        <td>True</td>\n",
       "        <td>True</td>\n",
       "        <td>False</td>\n",
       "    </tr>\n",
       "    <tr>\n",
       "        <td>BAA</td>\n",
       "        <td>Gepaeck</td>\n",
       "        <td>True</td>\n",
       "        <td>True</td>\n",
       "        <td>True</td>\n",
       "        <td>True</td>\n",
       "        <td>True</td>\n",
       "        <td>True</td>\n",
       "        <td>False</td>\n",
       "    </tr>\n",
       "    <tr>\n",
       "        <td>BAA</td>\n",
       "        <td>Gepaeckaufbewahrung</td>\n",
       "        <td>True</td>\n",
       "        <td>True</td>\n",
       "        <td>True</td>\n",
       "        <td>True</td>\n",
       "        <td>True</td>\n",
       "        <td>True</td>\n",
       "        <td>False</td>\n",
       "    </tr>\n",
       "    <tr>\n",
       "        <td>BAA</td>\n",
       "        <td>Western Union</td>\n",
       "        <td>True</td>\n",
       "        <td>True</td>\n",
       "        <td>True</td>\n",
       "        <td>True</td>\n",
       "        <td>True</td>\n",
       "        <td>True</td>\n",
       "        <td>False</td>\n",
       "    </tr>\n",
       "</table>"
      ],
      "text/plain": [
       "[('BAA', 'Geldwechsel', True, True, True, True, True, True, False),\n",
       " ('BAA', 'Gepaeck', True, True, True, True, True, True, False),\n",
       " ('BAA', 'Gepaeckaufbewahrung', True, True, True, True, True, True, False),\n",
       " ('BAA', 'Western Union', True, True, True, True, True, True, False)]"
      ]
     },
     "execution_count": 6,
     "metadata": {},
     "output_type": "execute_result"
    }
   ],
   "source": [
    "%%sql\n",
    "SELECT * FROM station_services LIMIT 4;"
   ]
  },
  {
   "cell_type": "markdown",
   "metadata": {},
   "source": [
    "### `train_routes` table\n",
    "\n",
    "A train route is a fixed path and train configuration. There are multiple trips on the same route within a day.\n",
    "\n",
    "`route_kind` is the kind of route, e.g. 'InterRegio'\n",
    "\n",
    "`bikes_permitted` represents whether bikes are permitted on this route\n",
    "\n",
    "`carriages` is the number of carriages in this train configuration\n"
   ]
  },
  {
   "cell_type": "code",
   "execution_count": 7,
   "metadata": {},
   "outputs": [
    {
     "name": "stdout",
     "output_type": "stream",
     "text": [
      " * postgresql://postgres:***@db\n",
      "4 rows affected.\n"
     ]
    },
    {
     "data": {
      "text/html": [
       "<table>\n",
       "    <tr>\n",
       "        <th>id</th>\n",
       "        <th>route_kind</th>\n",
       "        <th>bikes_permitted</th>\n",
       "        <th>carriages</th>\n",
       "    </tr>\n",
       "    <tr>\n",
       "        <td>11-3-j20-1</td>\n",
       "        <td>Intercity</td>\n",
       "        <td>True</td>\n",
       "        <td>3</td>\n",
       "    </tr>\n",
       "    <tr>\n",
       "        <td>1-16-j20-1</td>\n",
       "        <td>InterRegio</td>\n",
       "        <td>True</td>\n",
       "        <td>6</td>\n",
       "    </tr>\n",
       "    <tr>\n",
       "        <td>1-1-A-j20-1</td>\n",
       "        <td>Intercity</td>\n",
       "        <td>False</td>\n",
       "        <td>10</td>\n",
       "    </tr>\n",
       "    <tr>\n",
       "        <td>12-21-j20-1</td>\n",
       "        <td>Intercity</td>\n",
       "        <td>False</td>\n",
       "        <td>2</td>\n",
       "    </tr>\n",
       "</table>"
      ],
      "text/plain": [
       "[('11-3-j20-1', 'Intercity', True, 3),\n",
       " ('1-16-j20-1', 'InterRegio', True, 6),\n",
       " ('1-1-A-j20-1', 'Intercity', False, 10),\n",
       " ('12-21-j20-1', 'Intercity', False, 2)]"
      ]
     },
     "execution_count": 7,
     "metadata": {},
     "output_type": "execute_result"
    }
   ],
   "source": [
    "%%sql\n",
    "SELECT * FROM train_routes LIMIT 4;"
   ]
  },
  {
   "cell_type": "markdown",
   "metadata": {},
   "source": [
    "### `train_trips` table\n",
    "\n",
    "A train trip is a single one-way trip of a train on a route.\n",
    "\n",
    "`route_id` is the corresponding train_route (in the `train_routes` table)\n",
    "\n",
    "`headsign` is the headsign on the train for this trip\n",
    "\n",
    "`occupancy_1st_class` is the estimate of occupancy in 1st class, as an integer between 1 and 3 (inclusive)\n",
    "\n",
    "`occupancy_2nd_class` is the estimate of occupancy in 2nd class, as an integer between 1 and 3 (inclusive)"
   ]
  },
  {
   "cell_type": "code",
   "execution_count": 8,
   "metadata": {},
   "outputs": [
    {
     "name": "stdout",
     "output_type": "stream",
     "text": [
      " * postgresql://postgres:***@db\n",
      "4 rows affected.\n"
     ]
    },
    {
     "data": {
      "text/html": [
       "<table>\n",
       "    <tr>\n",
       "        <th>id</th>\n",
       "        <th>route_id</th>\n",
       "        <th>headsign</th>\n",
       "        <th>occupancy_1st_class</th>\n",
       "        <th>occupancy_2nd_class</th>\n",
       "    </tr>\n",
       "    <tr>\n",
       "        <td>1.TA.11-3-j20-1.1.R</td>\n",
       "        <td>11-3-j20-1</td>\n",
       "        <td>Chur</td>\n",
       "        <td>1</td>\n",
       "        <td>3</td>\n",
       "    </tr>\n",
       "    <tr>\n",
       "        <td>10.TA.11-3-j20-1.1.R</td>\n",
       "        <td>11-3-j20-1</td>\n",
       "        <td>Chur</td>\n",
       "        <td>2</td>\n",
       "        <td>2</td>\n",
       "    </tr>\n",
       "    <tr>\n",
       "        <td>100.TA.11-3-j20-1.30.R</td>\n",
       "        <td>11-3-j20-1</td>\n",
       "        <td>Chur</td>\n",
       "        <td>1</td>\n",
       "        <td>1</td>\n",
       "    </tr>\n",
       "    <tr>\n",
       "        <td>101.TA.11-3-j20-1.34.R</td>\n",
       "        <td>11-3-j20-1</td>\n",
       "        <td>Chur</td>\n",
       "        <td>2</td>\n",
       "        <td>1</td>\n",
       "    </tr>\n",
       "</table>"
      ],
      "text/plain": [
       "[('1.TA.11-3-j20-1.1.R', '11-3-j20-1', 'Chur', 1, 3),\n",
       " ('10.TA.11-3-j20-1.1.R', '11-3-j20-1', 'Chur', 2, 2),\n",
       " ('100.TA.11-3-j20-1.30.R', '11-3-j20-1', 'Chur', 1, 1),\n",
       " ('101.TA.11-3-j20-1.34.R', '11-3-j20-1', 'Chur', 2, 1)]"
      ]
     },
     "execution_count": 8,
     "metadata": {},
     "output_type": "execute_result"
    }
   ],
   "source": [
    "%%sql\n",
    "SELECT * FROM train_trips LIMIT 4;"
   ]
  },
  {
   "cell_type": "markdown",
   "metadata": {},
   "source": [
    "### `customer_trips` table\n",
    "\n",
    "`trip_id` is the train trip (in table `train_trips`) corresponding to this customer trip\n",
    "\n",
    "`board_station_id` is the id of the station where the passenger boarded the train\n",
    "\n",
    "`board_time` is the time and date when the passenger boarded the train\n",
    "\n",
    "`alight_station_id` is the id of the station where the passenger alighted the train\n",
    "\n",
    "`alight_time` is the time and date when the passenger alighted the train\n",
    "\n",
    "`stops` is the number of stops encompassed by the customer's trip\n",
    "\n",
    "`ticket_kind` is the kind of ticket used for this trip, e.g. 'Day'\n",
    "\n",
    "`duration_mins` is the duration of the customer's trip in minutes"
   ]
  },
  {
   "cell_type": "markdown",
   "metadata": {},
   "source": [
    "Contains the services offered by the stations in the network."
   ]
  },
  {
   "cell_type": "code",
   "execution_count": 9,
   "metadata": {},
   "outputs": [
    {
     "name": "stdout",
     "output_type": "stream",
     "text": [
      " * postgresql://postgres:***@db\n",
      "4 rows affected.\n"
     ]
    },
    {
     "data": {
      "text/html": [
       "<table>\n",
       "    <tr>\n",
       "        <th>id</th>\n",
       "        <th>trip_id</th>\n",
       "        <th>board_station_id</th>\n",
       "        <th>board_time</th>\n",
       "        <th>alight_station_id</th>\n",
       "        <th>alight_time</th>\n",
       "        <th>stops</th>\n",
       "        <th>ticket_kind</th>\n",
       "        <th>duration_mins</th>\n",
       "    </tr>\n",
       "    <tr>\n",
       "        <td>1</td>\n",
       "        <td>1.TA.1-16-j20-1.1.R</td>\n",
       "        <td>BD</td>\n",
       "        <td>2019-03-12 05:38:00</td>\n",
       "        <td>ZUE</td>\n",
       "        <td>2019-03-12 05:54:00</td>\n",
       "        <td>1</td>\n",
       "        <td>Single</td>\n",
       "        <td>17</td>\n",
       "    </tr>\n",
       "    <tr>\n",
       "        <td>2</td>\n",
       "        <td>1.TA.1-36-j20-1.1.H</td>\n",
       "        <td>BD</td>\n",
       "        <td>2019-03-12 05:52:00</td>\n",
       "        <td>BG</td>\n",
       "        <td>2019-03-12 06:00:00</td>\n",
       "        <td>1</td>\n",
       "        <td>GA</td>\n",
       "        <td>9</td>\n",
       "    </tr>\n",
       "    <tr>\n",
       "        <td>3</td>\n",
       "        <td>1.TA.12-21-j20-1.1.H</td>\n",
       "        <td>LZ</td>\n",
       "        <td>2019-03-12 22:18:00</td>\n",
       "        <td>FL</td>\n",
       "        <td>2019-03-12 23:22:00</td>\n",
       "        <td>2</td>\n",
       "        <td>Single</td>\n",
       "        <td>65</td>\n",
       "    </tr>\n",
       "    <tr>\n",
       "        <td>4</td>\n",
       "        <td>1.TA.12-21-j20-1.1.H</td>\n",
       "        <td>GD</td>\n",
       "        <td>2019-03-12 23:05:00</td>\n",
       "        <td>FL</td>\n",
       "        <td>2019-03-12 23:22:00</td>\n",
       "        <td>1</td>\n",
       "        <td>Day</td>\n",
       "        <td>18</td>\n",
       "    </tr>\n",
       "</table>"
      ],
      "text/plain": [
       "[(1, '1.TA.1-16-j20-1.1.R', 'BD', datetime.datetime(2019, 3, 12, 5, 38), 'ZUE', datetime.datetime(2019, 3, 12, 5, 54), 1, 'Single', 17),\n",
       " (2, '1.TA.1-36-j20-1.1.H', 'BD', datetime.datetime(2019, 3, 12, 5, 52), 'BG', datetime.datetime(2019, 3, 12, 6, 0), 1, 'GA', 9),\n",
       " (3, '1.TA.12-21-j20-1.1.H', 'LZ', datetime.datetime(2019, 3, 12, 22, 18), 'FL', datetime.datetime(2019, 3, 12, 23, 22), 2, 'Single', 65),\n",
       " (4, '1.TA.12-21-j20-1.1.H', 'GD', datetime.datetime(2019, 3, 12, 23, 5), 'FL', datetime.datetime(2019, 3, 12, 23, 22), 1, 'Day', 18)]"
      ]
     },
     "execution_count": 9,
     "metadata": {},
     "output_type": "execute_result"
    }
   ],
   "source": [
    "%%sql\n",
    "SELECT * FROM customer_trips LIMIT 4;"
   ]
  },
  {
   "cell_type": "markdown",
   "metadata": {},
   "source": [
    "The customer trips represent one operation day, from early morning of March 12th 2019 to late night (early morning of March 13th 2019)."
   ]
  },
  {
   "cell_type": "code",
   "execution_count": 10,
   "metadata": {},
   "outputs": [
    {
     "name": "stdout",
     "output_type": "stream",
     "text": [
      " * postgresql://postgres:***@db\n",
      "1 rows affected.\n"
     ]
    },
    {
     "data": {
      "text/html": [
       "<table>\n",
       "    <tr>\n",
       "        <th>min</th>\n",
       "        <th>max</th>\n",
       "    </tr>\n",
       "    <tr>\n",
       "        <td>2019-03-12 04:25:00</td>\n",
       "        <td>2019-03-13 01:24:00</td>\n",
       "    </tr>\n",
       "</table>"
      ],
      "text/plain": [
       "[(datetime.datetime(2019, 3, 12, 4, 25), datetime.datetime(2019, 3, 13, 1, 24))]"
      ]
     },
     "execution_count": 10,
     "metadata": {},
     "output_type": "execute_result"
    }
   ],
   "source": [
    "%%sql\n",
    "SELECT MIN(board_time), MAX(alight_time) FROM customer_trips;"
   ]
  },
  {
   "cell_type": "markdown",
   "metadata": {},
   "source": [
    "##### Note: the examples provided above do not contain all the query operations you might need during the exam.\n",
    "\n",
    "Now its your turn, you can write all your queries in new cells below. Feel free to add as many cells as needed."
   ]
  },
  {
   "cell_type": "markdown",
   "metadata": {},
   "source": [
    "---"
   ]
  },
  {
   "cell_type": "markdown",
   "metadata": {},
   "source": [
    "# Round 1"
   ]
  },
  {
   "cell_type": "code",
   "execution_count": 11,
   "metadata": {},
   "outputs": [
    {
     "name": "stdout",
     "output_type": "stream",
     "text": [
      " * postgresql://postgres:***@db\n",
      "1 rows affected.\n"
     ]
    },
    {
     "data": {
      "text/html": [
       "<table>\n",
       "    <tr>\n",
       "        <th>count</th>\n",
       "    </tr>\n",
       "    <tr>\n",
       "        <td>198</td>\n",
       "    </tr>\n",
       "</table>"
      ],
      "text/plain": [
       "[(198,)]"
      ]
     },
     "execution_count": 11,
     "metadata": {},
     "output_type": "execute_result"
    }
   ],
   "source": [
    "%%sql\n",
    "SELECT COUNT(*)\n",
    "FROM station_services ss\n",
    "JOIN stations s\n",
    "ON s.id = ss.station_id"
   ]
  },
  {
   "cell_type": "code",
   "execution_count": 12,
   "metadata": {},
   "outputs": [
    {
     "name": "stdout",
     "output_type": "stream",
     "text": [
      " * postgresql://postgres:***@db\n",
      "1 rows affected.\n"
     ]
    },
    {
     "data": {
      "text/html": [
       "<table>\n",
       "    <tr>\n",
       "        <th>count</th>\n",
       "    </tr>\n",
       "    <tr>\n",
       "        <td>7</td>\n",
       "    </tr>\n",
       "</table>"
      ],
      "text/plain": [
       "[(7,)]"
      ]
     },
     "execution_count": 12,
     "metadata": {},
     "output_type": "execute_result"
    }
   ],
   "source": [
    "%%sql\n",
    "SELECT COUNT(*)\n",
    "FROM station_services\n",
    "WHERE station_id = 'ZEN'"
   ]
  },
  {
   "cell_type": "code",
   "execution_count": 13,
   "metadata": {},
   "outputs": [
    {
     "name": "stdout",
     "output_type": "stream",
     "text": [
      " * postgresql://postgres:***@db\n",
      "1 rows affected.\n"
     ]
    },
    {
     "data": {
      "text/html": [
       "<table>\n",
       "    <tr>\n",
       "        <th>num_services</th>\n",
       "    </tr>\n",
       "    <tr>\n",
       "        <td>12</td>\n",
       "    </tr>\n",
       "</table>"
      ],
      "text/plain": [
       "[(12,)]"
      ]
     },
     "execution_count": 13,
     "metadata": {},
     "output_type": "execute_result"
    }
   ],
   "source": [
    "%%sql\n",
    "SELECT COUNT(*) AS num_services\n",
    "FROM station_services\n",
    "GROUP BY station_id\n",
    "ORDER BY COUNT(*) DESC\n",
    "LIMIT 1"
   ]
  },
  {
   "cell_type": "code",
   "execution_count": 14,
   "metadata": {},
   "outputs": [
    {
     "name": "stdout",
     "output_type": "stream",
     "text": [
      " * postgresql://postgres:***@db\n",
      "1 rows affected.\n"
     ]
    },
    {
     "data": {
      "text/html": [
       "<table>\n",
       "    <tr>\n",
       "        <th>count</th>\n",
       "    </tr>\n",
       "    <tr>\n",
       "        <td>41</td>\n",
       "    </tr>\n",
       "</table>"
      ],
      "text/plain": [
       "[(41,)]"
      ]
     },
     "execution_count": 14,
     "metadata": {},
     "output_type": "execute_result"
    }
   ],
   "source": [
    "%%sql\n",
    "SELECT COUNT(*)\n",
    "FROM stations"
   ]
  },
  {
   "cell_type": "code",
   "execution_count": 15,
   "metadata": {},
   "outputs": [
    {
     "name": "stdout",
     "output_type": "stream",
     "text": [
      " * postgresql://postgres:***@db\n",
      "1 rows affected.\n"
     ]
    },
    {
     "data": {
      "text/html": [
       "<table>\n",
       "    <tr>\n",
       "        <th>max</th>\n",
       "    </tr>\n",
       "    <tr>\n",
       "        <td>471300</td>\n",
       "    </tr>\n",
       "</table>"
      ],
      "text/plain": [
       "[(471300,)]"
      ]
     },
     "execution_count": 15,
     "metadata": {},
     "output_type": "execute_result"
    }
   ],
   "source": [
    "%%sql\n",
    "SELECT MAX(avg_weekday_passengers)\n",
    "FROM stations"
   ]
  },
  {
   "cell_type": "code",
   "execution_count": 16,
   "metadata": {},
   "outputs": [
    {
     "name": "stdout",
     "output_type": "stream",
     "text": [
      " * postgresql://postgres:***@db\n",
      "1 rows affected.\n"
     ]
    },
    {
     "data": {
      "text/html": [
       "<table>\n",
       "    <tr>\n",
       "        <th>count</th>\n",
       "    </tr>\n",
       "    <tr>\n",
       "        <td>77150</td>\n",
       "    </tr>\n",
       "</table>"
      ],
      "text/plain": [
       "[(77150,)]"
      ]
     },
     "execution_count": 16,
     "metadata": {},
     "output_type": "execute_result"
    }
   ],
   "source": [
    "%%sql\n",
    "SELECT COUNT(*)\n",
    "FROM customer_trips c\n",
    "JOIN train_trips t\n",
    "ON t.id = c.trip_id\n",
    "JOIN train_routes tr\n",
    "ON tr.id = t.route_id\n",
    "WHERE bikes_permitted IS TRUE\n",
    "LIMIT 10;"
   ]
  },
  {
   "cell_type": "code",
   "execution_count": 17,
   "metadata": {},
   "outputs": [
    {
     "name": "stdout",
     "output_type": "stream",
     "text": [
      " * postgresql://postgres:***@db\n",
      "1 rows affected.\n"
     ]
    },
    {
     "data": {
      "text/html": [
       "<table>\n",
       "    <tr>\n",
       "        <th>round</th>\n",
       "    </tr>\n",
       "    <tr>\n",
       "        <td>21</td>\n",
       "    </tr>\n",
       "</table>"
      ],
      "text/plain": [
       "[(Decimal('21'),)]"
      ]
     },
     "execution_count": 17,
     "metadata": {},
     "output_type": "execute_result"
    }
   ],
   "source": [
    "%%sql\n",
    "SELECT ROUND(AVG(duration_mins), 0)\n",
    "FROM customer_trips\n",
    "WHERE board_station_id = 'ZUE' AND alight_station_id IN\n",
    "    (SELECT id\n",
    "    FROM stations\n",
    "    WHERE num_platforms = 2)\n",
    "LIMIT 10;"
   ]
  },
  {
   "cell_type": "code",
   "execution_count": 18,
   "metadata": {},
   "outputs": [
    {
     "name": "stdout",
     "output_type": "stream",
     "text": [
      " * postgresql://postgres:***@db\n",
      "1 rows affected.\n"
     ]
    },
    {
     "data": {
      "text/html": [
       "<table>\n",
       "    <tr>\n",
       "        <th>count</th>\n",
       "    </tr>\n",
       "    <tr>\n",
       "        <td>1304</td>\n",
       "    </tr>\n",
       "</table>"
      ],
      "text/plain": [
       "[(1304,)]"
      ]
     },
     "execution_count": 18,
     "metadata": {},
     "output_type": "execute_result"
    }
   ],
   "source": [
    "%%sql\n",
    "SELECT COUNT(*)\n",
    "FROM stations s1\n",
    "CROSS JOIN stations s2\n",
    "WHERE s1.id != s2.id AND\n",
    "        s1.id || s2.id NOT IN \n",
    "        (SELECT board_station_id || alight_station_id\n",
    "        FROM customer_trips)"
   ]
  },
  {
   "cell_type": "markdown",
   "metadata": {},
   "source": [
    "---"
   ]
  },
  {
   "cell_type": "markdown",
   "metadata": {},
   "source": [
    "# Round 2"
   ]
  },
  {
   "cell_type": "code",
   "execution_count": 19,
   "metadata": {},
   "outputs": [
    {
     "name": "stdout",
     "output_type": "stream",
     "text": [
      " * postgresql://postgres:***@db\n",
      "1 rows affected.\n"
     ]
    },
    {
     "data": {
      "text/html": [
       "<table>\n",
       "    <tr>\n",
       "        <th>count</th>\n",
       "    </tr>\n",
       "    <tr>\n",
       "        <td>198</td>\n",
       "    </tr>\n",
       "</table>"
      ],
      "text/plain": [
       "[(198,)]"
      ]
     },
     "execution_count": 19,
     "metadata": {},
     "output_type": "execute_result"
    }
   ],
   "source": [
    "%%sql\n",
    "SELECT COUNT(*)\n",
    "FROM station_services ss\n",
    "JOIN stations s\n",
    "ON ss.station_id = s.id\n",
    "LIMIT 10;"
   ]
  },
  {
   "cell_type": "code",
   "execution_count": 20,
   "metadata": {},
   "outputs": [
    {
     "name": "stdout",
     "output_type": "stream",
     "text": [
      " * postgresql://postgres:***@db\n",
      "1 rows affected.\n"
     ]
    },
    {
     "data": {
      "text/html": [
       "<table>\n",
       "    <tr>\n",
       "        <th>count</th>\n",
       "    </tr>\n",
       "    <tr>\n",
       "        <td>7</td>\n",
       "    </tr>\n",
       "</table>"
      ],
      "text/plain": [
       "[(7,)]"
      ]
     },
     "execution_count": 20,
     "metadata": {},
     "output_type": "execute_result"
    }
   ],
   "source": [
    "%%sql\n",
    "SELECT COUNT(DISTINCT ss.service)\n",
    "FROM station_services ss\n",
    "JOIN stations s\n",
    "ON ss.station_id = s.id\n",
    "WHERE ss.station_id = 'ZEN'\n",
    "LIMIT 10;"
   ]
  },
  {
   "cell_type": "code",
   "execution_count": 21,
   "metadata": {},
   "outputs": [
    {
     "name": "stdout",
     "output_type": "stream",
     "text": [
      " * postgresql://postgres:***@db\n",
      "1 rows affected.\n"
     ]
    },
    {
     "data": {
      "text/html": [
       "<table>\n",
       "    <tr>\n",
       "        <th>station_id</th>\n",
       "        <th>max_services</th>\n",
       "    </tr>\n",
       "    <tr>\n",
       "        <td>LZ</td>\n",
       "        <td>12</td>\n",
       "    </tr>\n",
       "</table>"
      ],
      "text/plain": [
       "[('LZ', 12)]"
      ]
     },
     "execution_count": 21,
     "metadata": {},
     "output_type": "execute_result"
    }
   ],
   "source": [
    "%%sql\n",
    "SELECT ss.station_id, COUNT(DISTINCT ss.service) AS max_services\n",
    "FROM station_services ss\n",
    "JOIN stations s\n",
    "ON ss.station_id = s.id\n",
    "GROUP BY ss.station_id\n",
    "ORDER BY max_services DESC\n",
    "LIMIT 1;"
   ]
  },
  {
   "cell_type": "code",
   "execution_count": 22,
   "metadata": {},
   "outputs": [
    {
     "name": "stdout",
     "output_type": "stream",
     "text": [
      " * postgresql://postgres:***@db\n",
      "1 rows affected.\n"
     ]
    },
    {
     "data": {
      "text/html": [
       "<table>\n",
       "    <tr>\n",
       "        <th>count</th>\n",
       "    </tr>\n",
       "    <tr>\n",
       "        <td>41</td>\n",
       "    </tr>\n",
       "</table>"
      ],
      "text/plain": [
       "[(41,)]"
      ]
     },
     "execution_count": 22,
     "metadata": {},
     "output_type": "execute_result"
    }
   ],
   "source": [
    "%%sql\n",
    "SELECT COUNT(*)\n",
    "FROM stations s\n",
    "LIMIT 10;"
   ]
  },
  {
   "cell_type": "code",
   "execution_count": 23,
   "metadata": {},
   "outputs": [
    {
     "name": "stdout",
     "output_type": "stream",
     "text": [
      " * postgresql://postgres:***@db\n",
      "1 rows affected.\n"
     ]
    },
    {
     "data": {
      "text/html": [
       "<table>\n",
       "    <tr>\n",
       "        <th>avg_weekday_passengers</th>\n",
       "    </tr>\n",
       "    <tr>\n",
       "        <td>471300</td>\n",
       "    </tr>\n",
       "</table>"
      ],
      "text/plain": [
       "[(471300,)]"
      ]
     },
     "execution_count": 23,
     "metadata": {},
     "output_type": "execute_result"
    }
   ],
   "source": [
    "%%sql\n",
    "SELECT avg_weekday_passengers\n",
    "FROM stations s\n",
    "ORDER BY avg_weekday_passengers DESC\n",
    "LIMIT 1;"
   ]
  },
  {
   "cell_type": "code",
   "execution_count": 24,
   "metadata": {},
   "outputs": [
    {
     "name": "stdout",
     "output_type": "stream",
     "text": [
      " * postgresql://postgres:***@db\n",
      "1 rows affected.\n"
     ]
    },
    {
     "data": {
      "text/html": [
       "<table>\n",
       "    <tr>\n",
       "        <th>count</th>\n",
       "    </tr>\n",
       "    <tr>\n",
       "        <td>77150</td>\n",
       "    </tr>\n",
       "</table>"
      ],
      "text/plain": [
       "[(77150,)]"
      ]
     },
     "execution_count": 24,
     "metadata": {},
     "output_type": "execute_result"
    }
   ],
   "source": [
    "%%sql\n",
    "SELECT COUNT(DISTINCT ct.id)\n",
    "FROM customer_trips ct\n",
    "JOIN train_trips tt\n",
    "ON ct.trip_id = tt.id\n",
    "JOIN train_routes tr\n",
    "ON tr.id = tt.route_id\n",
    "WHERE bikes_permitted = TRUE\n",
    "LIMIT 10;"
   ]
  },
  {
   "cell_type": "code",
   "execution_count": 25,
   "metadata": {},
   "outputs": [
    {
     "name": "stdout",
     "output_type": "stream",
     "text": [
      " * postgresql://postgres:***@db\n",
      "1 rows affected.\n"
     ]
    },
    {
     "data": {
      "text/html": [
       "<table>\n",
       "    <tr>\n",
       "        <th>avg_trip_time</th>\n",
       "    </tr>\n",
       "    <tr>\n",
       "        <td>21</td>\n",
       "    </tr>\n",
       "</table>"
      ],
      "text/plain": [
       "[(Decimal('21'),)]"
      ]
     },
     "execution_count": 25,
     "metadata": {},
     "output_type": "execute_result"
    }
   ],
   "source": [
    "%%sql\n",
    "SELECT ROUND(AVG(ct.duration_mins),0) AS avg_trip_time\n",
    "FROM customer_trips ct\n",
    "JOIN stations s\n",
    "ON ct.alight_station_id = s.id \n",
    "WHERE board_station_id = 'ZUE' AND s.num_platforms = 2\n",
    "LIMIT 10;"
   ]
  },
  {
   "cell_type": "code",
   "execution_count": 26,
   "metadata": {},
   "outputs": [
    {
     "name": "stdout",
     "output_type": "stream",
     "text": [
      " * postgresql://postgres:***@db\n",
      "1 rows affected.\n"
     ]
    },
    {
     "data": {
      "text/html": [
       "<table>\n",
       "    <tr>\n",
       "        <th>count</th>\n",
       "    </tr>\n",
       "    <tr>\n",
       "        <td>1304</td>\n",
       "    </tr>\n",
       "</table>"
      ],
      "text/plain": [
       "[(1304,)]"
      ]
     },
     "execution_count": 26,
     "metadata": {},
     "output_type": "execute_result"
    }
   ],
   "source": [
    "%%sql\n",
    "SELECT COUNT(*)\n",
    "FROM stations s1, stations s2\n",
    "WHERE s1.id != s2.id AND (s1.id, s2.id) NOT IN\n",
    "    (SELECT board_station_id, alight_station_id\n",
    "    FROM customer_trips)\n",
    "LIMIT 10; "
   ]
  },
  {
   "cell_type": "markdown",
   "metadata": {},
   "source": [
    "---"
   ]
  },
  {
   "cell_type": "markdown",
   "metadata": {},
   "source": [
    "# Round 3"
   ]
  },
  {
   "cell_type": "code",
   "execution_count": 27,
   "metadata": {},
   "outputs": [
    {
     "name": "stdout",
     "output_type": "stream",
     "text": [
      " * postgresql://postgres:***@db\n",
      "1 rows affected.\n"
     ]
    },
    {
     "data": {
      "text/html": [
       "<table>\n",
       "    <tr>\n",
       "        <th>count</th>\n",
       "    </tr>\n",
       "    <tr>\n",
       "        <td>198</td>\n",
       "    </tr>\n",
       "</table>"
      ],
      "text/plain": [
       "[(198,)]"
      ]
     },
     "execution_count": 27,
     "metadata": {},
     "output_type": "execute_result"
    }
   ],
   "source": [
    "%%sql\n",
    "SELECT COUNT(*)\n",
    "FROM station_services ss\n",
    "JOIN stations s\n",
    "ON ss.station_id = s.id\n",
    "LIMIT 10;"
   ]
  },
  {
   "cell_type": "code",
   "execution_count": 28,
   "metadata": {},
   "outputs": [
    {
     "name": "stdout",
     "output_type": "stream",
     "text": [
      " * postgresql://postgres:***@db\n",
      "1 rows affected.\n"
     ]
    },
    {
     "data": {
      "text/html": [
       "<table>\n",
       "    <tr>\n",
       "        <th>count</th>\n",
       "    </tr>\n",
       "    <tr>\n",
       "        <td>7</td>\n",
       "    </tr>\n",
       "</table>"
      ],
      "text/plain": [
       "[(7,)]"
      ]
     },
     "execution_count": 28,
     "metadata": {},
     "output_type": "execute_result"
    }
   ],
   "source": [
    "%%sql\n",
    "SELECT COUNT(*)\n",
    "FROM station_services\n",
    "WHERE station_id = 'ZEN'\n",
    "LIMIT 10;"
   ]
  },
  {
   "cell_type": "code",
   "execution_count": 29,
   "metadata": {},
   "outputs": [
    {
     "name": "stdout",
     "output_type": "stream",
     "text": [
      " * postgresql://postgres:***@db\n",
      "5 rows affected.\n"
     ]
    },
    {
     "data": {
      "text/html": [
       "<table>\n",
       "    <tr>\n",
       "        <th>station_id</th>\n",
       "        <th>service</th>\n",
       "        <th>open_mon</th>\n",
       "        <th>open_tue</th>\n",
       "        <th>open_wed</th>\n",
       "        <th>open_thu</th>\n",
       "        <th>open_fri</th>\n",
       "        <th>open_sat</th>\n",
       "        <th>open_sun</th>\n",
       "    </tr>\n",
       "    <tr>\n",
       "        <td>BAA</td>\n",
       "        <td>Geldwechsel</td>\n",
       "        <td>True</td>\n",
       "        <td>True</td>\n",
       "        <td>True</td>\n",
       "        <td>True</td>\n",
       "        <td>True</td>\n",
       "        <td>True</td>\n",
       "        <td>False</td>\n",
       "    </tr>\n",
       "    <tr>\n",
       "        <td>BAA</td>\n",
       "        <td>Gepaeck</td>\n",
       "        <td>True</td>\n",
       "        <td>True</td>\n",
       "        <td>True</td>\n",
       "        <td>True</td>\n",
       "        <td>True</td>\n",
       "        <td>True</td>\n",
       "        <td>False</td>\n",
       "    </tr>\n",
       "    <tr>\n",
       "        <td>BAA</td>\n",
       "        <td>Gepaeckaufbewahrung</td>\n",
       "        <td>True</td>\n",
       "        <td>True</td>\n",
       "        <td>True</td>\n",
       "        <td>True</td>\n",
       "        <td>True</td>\n",
       "        <td>True</td>\n",
       "        <td>False</td>\n",
       "    </tr>\n",
       "    <tr>\n",
       "        <td>BAA</td>\n",
       "        <td>Western Union</td>\n",
       "        <td>True</td>\n",
       "        <td>True</td>\n",
       "        <td>True</td>\n",
       "        <td>True</td>\n",
       "        <td>True</td>\n",
       "        <td>True</td>\n",
       "        <td>False</td>\n",
       "    </tr>\n",
       "    <tr>\n",
       "        <td>BAA</td>\n",
       "        <td>Aufgabezeiten Fluggepaeck nach Zurich Flughafen</td>\n",
       "        <td>True</td>\n",
       "        <td>True</td>\n",
       "        <td>True</td>\n",
       "        <td>True</td>\n",
       "        <td>True</td>\n",
       "        <td>True</td>\n",
       "        <td>False</td>\n",
       "    </tr>\n",
       "</table>"
      ],
      "text/plain": [
       "[('BAA', 'Geldwechsel', True, True, True, True, True, True, False),\n",
       " ('BAA', 'Gepaeck', True, True, True, True, True, True, False),\n",
       " ('BAA', 'Gepaeckaufbewahrung', True, True, True, True, True, True, False),\n",
       " ('BAA', 'Western Union', True, True, True, True, True, True, False),\n",
       " ('BAA', 'Aufgabezeiten Fluggepaeck nach Zurich Flughafen', True, True, True, True, True, True, False)]"
      ]
     },
     "execution_count": 29,
     "metadata": {},
     "output_type": "execute_result"
    }
   ],
   "source": [
    "%%sql\n",
    "SELECT *\n",
    "FROM station_services\n",
    "LIMIT 5;"
   ]
  },
  {
   "cell_type": "code",
   "execution_count": 30,
   "metadata": {},
   "outputs": [
    {
     "name": "stdout",
     "output_type": "stream",
     "text": [
      " * postgresql://postgres:***@db\n",
      "1 rows affected.\n"
     ]
    },
    {
     "data": {
      "text/html": [
       "<table>\n",
       "    <tr>\n",
       "        <th>station_id</th>\n",
       "        <th>num_ser</th>\n",
       "    </tr>\n",
       "    <tr>\n",
       "        <td>LZ</td>\n",
       "        <td>12</td>\n",
       "    </tr>\n",
       "</table>"
      ],
      "text/plain": [
       "[('LZ', 12)]"
      ]
     },
     "execution_count": 30,
     "metadata": {},
     "output_type": "execute_result"
    }
   ],
   "source": [
    "%%sql\n",
    "SELECT station_id, COUNT(DISTINCT service) AS num_ser\n",
    "FROM station_services\n",
    "GROUP BY station_id\n",
    "ORDER BY num_ser DESC\n",
    "LIMIT 1;"
   ]
  },
  {
   "cell_type": "code",
   "execution_count": 31,
   "metadata": {},
   "outputs": [
    {
     "name": "stdout",
     "output_type": "stream",
     "text": [
      " * postgresql://postgres:***@db\n",
      "1 rows affected.\n"
     ]
    },
    {
     "data": {
      "text/html": [
       "<table>\n",
       "    <tr>\n",
       "        <th>count</th>\n",
       "    </tr>\n",
       "    <tr>\n",
       "        <td>41</td>\n",
       "    </tr>\n",
       "</table>"
      ],
      "text/plain": [
       "[(41,)]"
      ]
     },
     "execution_count": 31,
     "metadata": {},
     "output_type": "execute_result"
    }
   ],
   "source": [
    "%%sql\n",
    "SELECT COUNT(*)\n",
    "FROM stations\n",
    "LIMIT 10;"
   ]
  },
  {
   "cell_type": "code",
   "execution_count": 32,
   "metadata": {},
   "outputs": [
    {
     "name": "stdout",
     "output_type": "stream",
     "text": [
      " * postgresql://postgres:***@db\n",
      "1 rows affected.\n"
     ]
    },
    {
     "data": {
      "text/html": [
       "<table>\n",
       "    <tr>\n",
       "        <th>avg_weekday_passengers</th>\n",
       "    </tr>\n",
       "    <tr>\n",
       "        <td>471300</td>\n",
       "    </tr>\n",
       "</table>"
      ],
      "text/plain": [
       "[(471300,)]"
      ]
     },
     "execution_count": 32,
     "metadata": {},
     "output_type": "execute_result"
    }
   ],
   "source": [
    "%%sql\n",
    "SELECT avg_weekday_passengers\n",
    "FROM stations\n",
    "ORDER BY avg_weekday_passengers DESC\n",
    "LIMIT 1;"
   ]
  },
  {
   "cell_type": "code",
   "execution_count": 33,
   "metadata": {},
   "outputs": [
    {
     "name": "stdout",
     "output_type": "stream",
     "text": [
      " * postgresql://postgres:***@db\n",
      "1 rows affected.\n"
     ]
    },
    {
     "data": {
      "text/html": [
       "<table>\n",
       "    <tr>\n",
       "        <th>count</th>\n",
       "    </tr>\n",
       "    <tr>\n",
       "        <td>77150</td>\n",
       "    </tr>\n",
       "</table>"
      ],
      "text/plain": [
       "[(77150,)]"
      ]
     },
     "execution_count": 33,
     "metadata": {},
     "output_type": "execute_result"
    }
   ],
   "source": [
    "%%sql\n",
    "SELECT COUNT(DISTINCT ct.id)\n",
    "FROM train_trips tt\n",
    "JOIN customer_trips ct\n",
    "ON ct.trip_id = tt.id\n",
    "JOIN train_routes tr\n",
    "ON tt.route_id = tr.id\n",
    "WHERE bikes_permitted = TRUE\n",
    "LIMIT 10;"
   ]
  },
  {
   "cell_type": "code",
   "execution_count": 34,
   "metadata": {},
   "outputs": [
    {
     "name": "stdout",
     "output_type": "stream",
     "text": [
      " * postgresql://postgres:***@db\n",
      "1 rows affected.\n"
     ]
    },
    {
     "data": {
      "text/html": [
       "<table>\n",
       "    <tr>\n",
       "        <th>round</th>\n",
       "    </tr>\n",
       "    <tr>\n",
       "        <td>21</td>\n",
       "    </tr>\n",
       "</table>"
      ],
      "text/plain": [
       "[(Decimal('21'),)]"
      ]
     },
     "execution_count": 34,
     "metadata": {},
     "output_type": "execute_result"
    }
   ],
   "source": [
    "%%sql\n",
    "SELECT ROUND(AVG(duration_mins), 0)\n",
    "FROM customer_trips ct\n",
    "JOIN stations s\n",
    "ON s.id = ct.alight_station_id\n",
    "WHERE board_station_id = 'ZUE' AND num_platforms = 2\n",
    "LIMIT 10;"
   ]
  },
  {
   "cell_type": "code",
   "execution_count": 35,
   "metadata": {},
   "outputs": [
    {
     "name": "stdout",
     "output_type": "stream",
     "text": [
      " * postgresql://postgres:***@db\n",
      "1 rows affected.\n"
     ]
    },
    {
     "data": {
      "text/html": [
       "<table>\n",
       "    <tr>\n",
       "        <th>count</th>\n",
       "    </tr>\n",
       "    <tr>\n",
       "        <td>1304</td>\n",
       "    </tr>\n",
       "</table>"
      ],
      "text/plain": [
       "[(1304,)]"
      ]
     },
     "execution_count": 35,
     "metadata": {},
     "output_type": "execute_result"
    }
   ],
   "source": [
    "%%sql\n",
    "SELECT COUNT(*)\n",
    "FROM stations s1\n",
    "CROSS JOIN stations s2\n",
    "WHERE s1.id != s2.id AND (s1.id, s2.id) NOT IN\n",
    "                                (SELECT board_station_id, alight_station_id\n",
    "                                FROM customer_trips)\n",
    "LIMIT 10;"
   ]
  },
  {
   "cell_type": "markdown",
   "metadata": {},
   "source": [
    "---"
   ]
  },
  {
   "cell_type": "markdown",
   "metadata": {},
   "source": [
    "# Round 4"
   ]
  },
  {
   "cell_type": "code",
   "execution_count": 36,
   "metadata": {
    "scrolled": false
   },
   "outputs": [
    {
     "name": "stdout",
     "output_type": "stream",
     "text": [
      " * postgresql://postgres:***@db\n",
      "1 rows affected.\n"
     ]
    },
    {
     "data": {
      "text/html": [
       "<table>\n",
       "    <tr>\n",
       "        <th>count</th>\n",
       "    </tr>\n",
       "    <tr>\n",
       "        <td>198</td>\n",
       "    </tr>\n",
       "</table>"
      ],
      "text/plain": [
       "[(198,)]"
      ]
     },
     "execution_count": 36,
     "metadata": {},
     "output_type": "execute_result"
    }
   ],
   "source": [
    "%%sql\n",
    "SELECT COUNT(*)\n",
    "FROM station_services ss\n",
    "JOIN stations s\n",
    "ON   ss.station_id = s.id\n",
    "LIMIT 10;"
   ]
  },
  {
   "cell_type": "code",
   "execution_count": 37,
   "metadata": {
    "scrolled": true
   },
   "outputs": [
    {
     "name": "stdout",
     "output_type": "stream",
     "text": [
      " * postgresql://postgres:***@db\n",
      "1 rows affected.\n"
     ]
    },
    {
     "data": {
      "text/html": [
       "<table>\n",
       "    <tr>\n",
       "        <th>count</th>\n",
       "    </tr>\n",
       "    <tr>\n",
       "        <td>7</td>\n",
       "    </tr>\n",
       "</table>"
      ],
      "text/plain": [
       "[(7,)]"
      ]
     },
     "execution_count": 37,
     "metadata": {},
     "output_type": "execute_result"
    }
   ],
   "source": [
    "%%sql\n",
    "SELECT COUNT(*)\n",
    "FROM station_services\n",
    "WHERE station_id = 'ZEN'\n",
    "LIMIT 10;"
   ]
  },
  {
   "cell_type": "code",
   "execution_count": 38,
   "metadata": {
    "scrolled": true
   },
   "outputs": [
    {
     "name": "stdout",
     "output_type": "stream",
     "text": [
      " * postgresql://postgres:***@db\n",
      "1 rows affected.\n"
     ]
    },
    {
     "data": {
      "text/html": [
       "<table>\n",
       "    <tr>\n",
       "        <th>station_id</th>\n",
       "        <th>num_serv</th>\n",
       "    </tr>\n",
       "    <tr>\n",
       "        <td>LZ</td>\n",
       "        <td>12</td>\n",
       "    </tr>\n",
       "</table>"
      ],
      "text/plain": [
       "[('LZ', 12)]"
      ]
     },
     "execution_count": 38,
     "metadata": {},
     "output_type": "execute_result"
    }
   ],
   "source": [
    "%%sql\n",
    "SELECT station_id, COUNT(service) AS num_serv\n",
    "FROM station_services\n",
    "GROUP BY station_id\n",
    "ORDER BY num_serv DESC\n",
    "LIMIT 1;"
   ]
  },
  {
   "cell_type": "code",
   "execution_count": 39,
   "metadata": {
    "scrolled": true
   },
   "outputs": [
    {
     "name": "stdout",
     "output_type": "stream",
     "text": [
      " * postgresql://postgres:***@db\n",
      "1 rows affected.\n"
     ]
    },
    {
     "data": {
      "text/html": [
       "<table>\n",
       "    <tr>\n",
       "        <th>count</th>\n",
       "    </tr>\n",
       "    <tr>\n",
       "        <td>41</td>\n",
       "    </tr>\n",
       "</table>"
      ],
      "text/plain": [
       "[(41,)]"
      ]
     },
     "execution_count": 39,
     "metadata": {},
     "output_type": "execute_result"
    }
   ],
   "source": [
    "%%sql\n",
    "SELECT COUNT(*)\n",
    "FROM stations\n",
    "LIMIT 10;"
   ]
  },
  {
   "cell_type": "code",
   "execution_count": 40,
   "metadata": {
    "scrolled": true
   },
   "outputs": [
    {
     "name": "stdout",
     "output_type": "stream",
     "text": [
      " * postgresql://postgres:***@db\n",
      "1 rows affected.\n"
     ]
    },
    {
     "data": {
      "text/html": [
       "<table>\n",
       "    <tr>\n",
       "        <th>avg_weekday_passengers</th>\n",
       "    </tr>\n",
       "    <tr>\n",
       "        <td>471300</td>\n",
       "    </tr>\n",
       "</table>"
      ],
      "text/plain": [
       "[(471300,)]"
      ]
     },
     "execution_count": 40,
     "metadata": {},
     "output_type": "execute_result"
    }
   ],
   "source": [
    "%%sql\n",
    "SELECT avg_weekday_passengers\n",
    "FROM stations\n",
    "ORDER BY avg_weekday_passengers DESC\n",
    "LIMIT 1;"
   ]
  },
  {
   "cell_type": "code",
   "execution_count": 41,
   "metadata": {
    "scrolled": true
   },
   "outputs": [
    {
     "name": "stdout",
     "output_type": "stream",
     "text": [
      " * postgresql://postgres:***@db\n",
      "1 rows affected.\n"
     ]
    },
    {
     "data": {
      "text/html": [
       "<table>\n",
       "    <tr>\n",
       "        <th>count</th>\n",
       "    </tr>\n",
       "    <tr>\n",
       "        <td>77150</td>\n",
       "    </tr>\n",
       "</table>"
      ],
      "text/plain": [
       "[(77150,)]"
      ]
     },
     "execution_count": 41,
     "metadata": {},
     "output_type": "execute_result"
    }
   ],
   "source": [
    "%%sql\n",
    "SELECT COUNT(*)\n",
    "FROM customer_trips ct\n",
    "JOIN train_trips tt\n",
    "ON tt.id = ct.trip_id\n",
    "JOIN train_routes tr\n",
    "ON tr.id = tt.route_id\n",
    "WHERE bikes_permitted = TRUE\n",
    "LIMIT 10;"
   ]
  },
  {
   "cell_type": "code",
   "execution_count": 42,
   "metadata": {
    "scrolled": true
   },
   "outputs": [
    {
     "name": "stdout",
     "output_type": "stream",
     "text": [
      " * postgresql://postgres:***@db\n",
      "1 rows affected.\n"
     ]
    },
    {
     "data": {
      "text/html": [
       "<table>\n",
       "    <tr>\n",
       "        <th>round</th>\n",
       "    </tr>\n",
       "    <tr>\n",
       "        <td>21</td>\n",
       "    </tr>\n",
       "</table>"
      ],
      "text/plain": [
       "[(Decimal('21'),)]"
      ]
     },
     "execution_count": 42,
     "metadata": {},
     "output_type": "execute_result"
    }
   ],
   "source": [
    "%%sql\n",
    "SELECT ROUND(AVG(duration_mins),0)\n",
    "FROM customer_trips ct\n",
    "JOIN stations s\n",
    "ON ct.alight_station_id = s.id\n",
    "WHERE board_station_id = 'ZUE' AND num_platforms = 2\n",
    "LIMIT 10;"
   ]
  },
  {
   "cell_type": "code",
   "execution_count": 43,
   "metadata": {
    "scrolled": true
   },
   "outputs": [
    {
     "name": "stdout",
     "output_type": "stream",
     "text": [
      " * postgresql://postgres:***@db\n",
      "1 rows affected.\n"
     ]
    },
    {
     "data": {
      "text/html": [
       "<table>\n",
       "    <tr>\n",
       "        <th>count</th>\n",
       "    </tr>\n",
       "    <tr>\n",
       "        <td>1304</td>\n",
       "    </tr>\n",
       "</table>"
      ],
      "text/plain": [
       "[(1304,)]"
      ]
     },
     "execution_count": 43,
     "metadata": {},
     "output_type": "execute_result"
    }
   ],
   "source": [
    "%%sql\n",
    "SELECT COUNT(*)\n",
    "FROM stations s1\n",
    "CROSS JOIN stations s2\n",
    "WHERE s1.id != s2.id AND (s1.id, s2.id) NOT IN (SELECT board_station_id, alight_station_id FROM customer_trips)\n",
    "LIMIT 10;"
   ]
  },
  {
   "cell_type": "markdown",
   "metadata": {},
   "source": [
    "---"
   ]
  },
  {
   "cell_type": "markdown",
   "metadata": {},
   "source": [
    "# Round 5"
   ]
  },
  {
   "cell_type": "code",
   "execution_count": 44,
   "metadata": {},
   "outputs": [
    {
     "name": "stdout",
     "output_type": "stream",
     "text": [
      " * postgresql://postgres:***@db\n",
      "1 rows affected.\n"
     ]
    },
    {
     "data": {
      "text/html": [
       "<table>\n",
       "    <tr>\n",
       "        <th>count</th>\n",
       "    </tr>\n",
       "    <tr>\n",
       "        <td>198</td>\n",
       "    </tr>\n",
       "</table>"
      ],
      "text/plain": [
       "[(198,)]"
      ]
     },
     "execution_count": 44,
     "metadata": {},
     "output_type": "execute_result"
    }
   ],
   "source": [
    "%%sql\n",
    "SELECT COUNT(*)\n",
    "FROM station_services ss\n",
    "JOIN stations s\n",
    "ON ss.station_id = s.id\n",
    "LIMIT 10;"
   ]
  },
  {
   "cell_type": "code",
   "execution_count": 45,
   "metadata": {},
   "outputs": [
    {
     "name": "stdout",
     "output_type": "stream",
     "text": [
      " * postgresql://postgres:***@db\n",
      "1 rows affected.\n"
     ]
    },
    {
     "data": {
      "text/html": [
       "<table>\n",
       "    <tr>\n",
       "        <th>count</th>\n",
       "    </tr>\n",
       "    <tr>\n",
       "        <td>7</td>\n",
       "    </tr>\n",
       "</table>"
      ],
      "text/plain": [
       "[(7,)]"
      ]
     },
     "execution_count": 45,
     "metadata": {},
     "output_type": "execute_result"
    }
   ],
   "source": [
    "%%sql\n",
    "SELECT COUNT(DISTINCT service)\n",
    "FROM station_services\n",
    "WHERE station_id = 'ZEN'\n",
    "LIMIT 10;"
   ]
  },
  {
   "cell_type": "code",
   "execution_count": 46,
   "metadata": {},
   "outputs": [
    {
     "name": "stdout",
     "output_type": "stream",
     "text": [
      " * postgresql://postgres:***@db\n",
      "1 rows affected.\n"
     ]
    },
    {
     "data": {
      "text/html": [
       "<table>\n",
       "    <tr>\n",
       "        <th>station_id</th>\n",
       "        <th>num_ser</th>\n",
       "    </tr>\n",
       "    <tr>\n",
       "        <td>LZ</td>\n",
       "        <td>12</td>\n",
       "    </tr>\n",
       "</table>"
      ],
      "text/plain": [
       "[('LZ', 12)]"
      ]
     },
     "execution_count": 46,
     "metadata": {},
     "output_type": "execute_result"
    }
   ],
   "source": [
    "%%sql\n",
    "SELECT station_id, COUNT(DISTINCT service) AS num_ser\n",
    "FROM station_services\n",
    "GROUP BY station_id\n",
    "ORDER BY num_ser DESC\n",
    "LIMIT 1;"
   ]
  },
  {
   "cell_type": "code",
   "execution_count": 47,
   "metadata": {},
   "outputs": [
    {
     "name": "stdout",
     "output_type": "stream",
     "text": [
      " * postgresql://postgres:***@db\n",
      "1 rows affected.\n"
     ]
    },
    {
     "data": {
      "text/html": [
       "<table>\n",
       "    <tr>\n",
       "        <th>count</th>\n",
       "    </tr>\n",
       "    <tr>\n",
       "        <td>41</td>\n",
       "    </tr>\n",
       "</table>"
      ],
      "text/plain": [
       "[(41,)]"
      ]
     },
     "execution_count": 47,
     "metadata": {},
     "output_type": "execute_result"
    }
   ],
   "source": [
    "%%sql\n",
    "SELECT COUNT(*)\n",
    "FROM stations\n",
    "LIMIT 10;"
   ]
  },
  {
   "cell_type": "code",
   "execution_count": 48,
   "metadata": {},
   "outputs": [
    {
     "name": "stdout",
     "output_type": "stream",
     "text": [
      " * postgresql://postgres:***@db\n",
      "1 rows affected.\n"
     ]
    },
    {
     "data": {
      "text/html": [
       "<table>\n",
       "    <tr>\n",
       "        <th>max</th>\n",
       "    </tr>\n",
       "    <tr>\n",
       "        <td>471300</td>\n",
       "    </tr>\n",
       "</table>"
      ],
      "text/plain": [
       "[(471300,)]"
      ]
     },
     "execution_count": 48,
     "metadata": {},
     "output_type": "execute_result"
    }
   ],
   "source": [
    "%%sql\n",
    "SELECT MAX(avg_weekday_passengers)\n",
    "FROM stations\n",
    "LIMIT 10;"
   ]
  },
  {
   "cell_type": "code",
   "execution_count": 49,
   "metadata": {},
   "outputs": [
    {
     "name": "stdout",
     "output_type": "stream",
     "text": [
      " * postgresql://postgres:***@db\n",
      "1 rows affected.\n"
     ]
    },
    {
     "data": {
      "text/html": [
       "<table>\n",
       "    <tr>\n",
       "        <th>count</th>\n",
       "    </tr>\n",
       "    <tr>\n",
       "        <td>77150</td>\n",
       "    </tr>\n",
       "</table>"
      ],
      "text/plain": [
       "[(77150,)]"
      ]
     },
     "execution_count": 49,
     "metadata": {},
     "output_type": "execute_result"
    }
   ],
   "source": [
    "%%sql\n",
    "SELECT COUNT(*)\n",
    "FROM customer_trips ct\n",
    "JOIN train_trips tt\n",
    "ON tt.id = ct.trip_id\n",
    "JOIN train_routes tr\n",
    "ON tr.id = tt.route_id\n",
    "WHERE bikes_permitted = TRUE\n",
    "LIMIT 10;"
   ]
  },
  {
   "cell_type": "code",
   "execution_count": 50,
   "metadata": {},
   "outputs": [
    {
     "name": "stdout",
     "output_type": "stream",
     "text": [
      " * postgresql://postgres:***@db\n",
      "1 rows affected.\n"
     ]
    },
    {
     "data": {
      "text/html": [
       "<table>\n",
       "    <tr>\n",
       "        <th>round</th>\n",
       "    </tr>\n",
       "    <tr>\n",
       "        <td>21</td>\n",
       "    </tr>\n",
       "</table>"
      ],
      "text/plain": [
       "[(Decimal('21'),)]"
      ]
     },
     "execution_count": 50,
     "metadata": {},
     "output_type": "execute_result"
    }
   ],
   "source": [
    "%%sql\n",
    "SELECT ROUND(AVG(duration_mins), 0)\n",
    "FROM customer_trips ct\n",
    "JOIN stations s\n",
    "ON s.id = ct.alight_station_id\n",
    "WHERE board_station_id = 'ZUE' AND s.num_platforms = 2\n",
    "LIMIT 10;"
   ]
  },
  {
   "cell_type": "code",
   "execution_count": 51,
   "metadata": {},
   "outputs": [
    {
     "name": "stdout",
     "output_type": "stream",
     "text": [
      " * postgresql://postgres:***@db\n",
      "1 rows affected.\n"
     ]
    },
    {
     "data": {
      "text/html": [
       "<table>\n",
       "    <tr>\n",
       "        <th>count</th>\n",
       "    </tr>\n",
       "    <tr>\n",
       "        <td>1304</td>\n",
       "    </tr>\n",
       "</table>"
      ],
      "text/plain": [
       "[(1304,)]"
      ]
     },
     "execution_count": 51,
     "metadata": {},
     "output_type": "execute_result"
    }
   ],
   "source": [
    "%%sql\n",
    "SELECT COUNT(*)\n",
    "FROM\n",
    "    (SELECT s1.id, s2.id\n",
    "    FROM stations s1\n",
    "    CROSS JOIN stations s2\n",
    "    WHERE s1.id != s2.id AND (s1.id, s2.id) NOT IN (SELECT board_station_id, alight_station_id\n",
    "                                                    FROM customer_trips))"
   ]
  },
  {
   "cell_type": "markdown",
   "metadata": {},
   "source": [
    "---"
   ]
  },
  {
   "cell_type": "markdown",
   "metadata": {},
   "source": [
    "# Round 6"
   ]
  },
  {
   "cell_type": "code",
   "execution_count": 52,
   "metadata": {},
   "outputs": [
    {
     "name": "stdout",
     "output_type": "stream",
     "text": [
      " * postgresql://postgres:***@db\n",
      "1 rows affected.\n"
     ]
    },
    {
     "data": {
      "text/html": [
       "<table>\n",
       "    <tr>\n",
       "        <th>count</th>\n",
       "    </tr>\n",
       "    <tr>\n",
       "        <td>198</td>\n",
       "    </tr>\n",
       "</table>"
      ],
      "text/plain": [
       "[(198,)]"
      ]
     },
     "execution_count": 52,
     "metadata": {},
     "output_type": "execute_result"
    }
   ],
   "source": [
    "%%sql\n",
    "SELECT COUNT(*)\n",
    "FROM station_services ss\n",
    "JOIN stations s\n",
    "ON ss.station_id = s.id\n",
    "LIMIT 10;"
   ]
  },
  {
   "cell_type": "code",
   "execution_count": 53,
   "metadata": {},
   "outputs": [
    {
     "name": "stdout",
     "output_type": "stream",
     "text": [
      " * postgresql://postgres:***@db\n",
      "1 rows affected.\n"
     ]
    },
    {
     "data": {
      "text/html": [
       "<table>\n",
       "    <tr>\n",
       "        <th>count</th>\n",
       "    </tr>\n",
       "    <tr>\n",
       "        <td>7</td>\n",
       "    </tr>\n",
       "</table>"
      ],
      "text/plain": [
       "[(7,)]"
      ]
     },
     "execution_count": 53,
     "metadata": {},
     "output_type": "execute_result"
    }
   ],
   "source": [
    "%%sql\n",
    "SELECT COUNT(DISTINCT service)\n",
    "FROM station_services\n",
    "WHERE station_id = 'ZEN'\n",
    "LIMIT 10;"
   ]
  },
  {
   "cell_type": "code",
   "execution_count": 54,
   "metadata": {},
   "outputs": [
    {
     "name": "stdout",
     "output_type": "stream",
     "text": [
      " * postgresql://postgres:***@db\n",
      "1 rows affected.\n"
     ]
    },
    {
     "data": {
      "text/html": [
       "<table>\n",
       "    <tr>\n",
       "        <th>station_id</th>\n",
       "        <th>tot_ser</th>\n",
       "    </tr>\n",
       "    <tr>\n",
       "        <td>LZ</td>\n",
       "        <td>12</td>\n",
       "    </tr>\n",
       "</table>"
      ],
      "text/plain": [
       "[('LZ', 12)]"
      ]
     },
     "execution_count": 54,
     "metadata": {},
     "output_type": "execute_result"
    }
   ],
   "source": [
    "%%sql\n",
    "SELECT station_id, COUNT(DISTINCT service) AS tot_ser\n",
    "FROM station_services\n",
    "GROUP BY station_id\n",
    "ORDER BY tot_ser DESC\n",
    "LIMIT 1;"
   ]
  },
  {
   "cell_type": "code",
   "execution_count": 55,
   "metadata": {},
   "outputs": [
    {
     "name": "stdout",
     "output_type": "stream",
     "text": [
      " * postgresql://postgres:***@db\n",
      "1 rows affected.\n"
     ]
    },
    {
     "data": {
      "text/html": [
       "<table>\n",
       "    <tr>\n",
       "        <th>count</th>\n",
       "    </tr>\n",
       "    <tr>\n",
       "        <td>41</td>\n",
       "    </tr>\n",
       "</table>"
      ],
      "text/plain": [
       "[(41,)]"
      ]
     },
     "execution_count": 55,
     "metadata": {},
     "output_type": "execute_result"
    }
   ],
   "source": [
    "%%sql\n",
    "SELECT COUNT(*)\n",
    "FROM stations\n",
    "LIMIT 10;"
   ]
  },
  {
   "cell_type": "code",
   "execution_count": 56,
   "metadata": {},
   "outputs": [
    {
     "name": "stdout",
     "output_type": "stream",
     "text": [
      " * postgresql://postgres:***@db\n",
      "1 rows affected.\n"
     ]
    },
    {
     "data": {
      "text/html": [
       "<table>\n",
       "    <tr>\n",
       "        <th>max</th>\n",
       "    </tr>\n",
       "    <tr>\n",
       "        <td>471300</td>\n",
       "    </tr>\n",
       "</table>"
      ],
      "text/plain": [
       "[(471300,)]"
      ]
     },
     "execution_count": 56,
     "metadata": {},
     "output_type": "execute_result"
    }
   ],
   "source": [
    "%%sql\n",
    "SELECT MAX(avg_weekday_passengers)\n",
    "FROM stations\n",
    "LIMIT 10;"
   ]
  },
  {
   "cell_type": "code",
   "execution_count": 57,
   "metadata": {},
   "outputs": [
    {
     "name": "stdout",
     "output_type": "stream",
     "text": [
      " * postgresql://postgres:***@db\n",
      "1 rows affected.\n"
     ]
    },
    {
     "data": {
      "text/html": [
       "<table>\n",
       "    <tr>\n",
       "        <th>count</th>\n",
       "    </tr>\n",
       "    <tr>\n",
       "        <td>77150</td>\n",
       "    </tr>\n",
       "</table>"
      ],
      "text/plain": [
       "[(77150,)]"
      ]
     },
     "execution_count": 57,
     "metadata": {},
     "output_type": "execute_result"
    }
   ],
   "source": [
    "%%sql\n",
    "SELECT COUNT(DISTINCT ct.id)\n",
    "FROM customer_trips ct\n",
    "JOIN train_trips t\n",
    "ON ct.trip_id = t.id\n",
    "JOIN train_routes tr\n",
    "ON t.route_id = tr.id\n",
    "WHERE bikes_permitted = TRUE\n",
    "LIMIT 10;"
   ]
  },
  {
   "cell_type": "code",
   "execution_count": 58,
   "metadata": {},
   "outputs": [
    {
     "name": "stdout",
     "output_type": "stream",
     "text": [
      " * postgresql://postgres:***@db\n",
      "1 rows affected.\n"
     ]
    },
    {
     "data": {
      "text/html": [
       "<table>\n",
       "    <tr>\n",
       "        <th>round</th>\n",
       "    </tr>\n",
       "    <tr>\n",
       "        <td>21</td>\n",
       "    </tr>\n",
       "</table>"
      ],
      "text/plain": [
       "[(Decimal('21'),)]"
      ]
     },
     "execution_count": 58,
     "metadata": {},
     "output_type": "execute_result"
    }
   ],
   "source": [
    "%%sql\n",
    "SELECT ROUND(AVG(duration_mins), 0)\n",
    "FROM customer_trips ct\n",
    "JOIN stations s\n",
    "ON ct.alight_station_id = s.id\n",
    "WHERE ct.board_station_id = 'ZUE' AND s.num_platforms = 2\n",
    "LIMIT 10;"
   ]
  },
  {
   "cell_type": "code",
   "execution_count": 59,
   "metadata": {},
   "outputs": [
    {
     "name": "stdout",
     "output_type": "stream",
     "text": [
      " * postgresql://postgres:***@db\n",
      "1 rows affected.\n"
     ]
    },
    {
     "data": {
      "text/html": [
       "<table>\n",
       "    <tr>\n",
       "        <th>count</th>\n",
       "    </tr>\n",
       "    <tr>\n",
       "        <td>1304</td>\n",
       "    </tr>\n",
       "</table>"
      ],
      "text/plain": [
       "[(1304,)]"
      ]
     },
     "execution_count": 59,
     "metadata": {},
     "output_type": "execute_result"
    }
   ],
   "source": [
    "%%sql\n",
    "SELECT COUNT(*)\n",
    "FROM\n",
    "    (SELECT s1.id, s2.id\n",
    "    FROM stations s1\n",
    "    CROSS JOIN stations s2\n",
    "    WHERE s1.id != s2.id AND (s1.id, s2.id) NOT IN (SELECT board_station_id, alight_station_id\n",
    "                                                           FROM customer_trips))"
   ]
  },
  {
   "cell_type": "markdown",
   "metadata": {},
   "source": [
    "---"
   ]
  },
  {
   "cell_type": "markdown",
   "metadata": {},
   "source": [
    "# Round 7"
   ]
  },
  {
   "cell_type": "code",
   "execution_count": 60,
   "metadata": {},
   "outputs": [
    {
     "name": "stdout",
     "output_type": "stream",
     "text": [
      " * postgresql://postgres:***@db\n",
      "1 rows affected.\n"
     ]
    },
    {
     "data": {
      "text/html": [
       "<table>\n",
       "    <tr>\n",
       "        <th>count</th>\n",
       "    </tr>\n",
       "    <tr>\n",
       "        <td>198</td>\n",
       "    </tr>\n",
       "</table>"
      ],
      "text/plain": [
       "[(198,)]"
      ]
     },
     "execution_count": 60,
     "metadata": {},
     "output_type": "execute_result"
    }
   ],
   "source": [
    "%%sql\n",
    "SELECT COUNT(*)\n",
    "FROM station_services ss\n",
    "JOIN stations s\n",
    "ON s.id = ss.station_id\n",
    "LIMIT 10;"
   ]
  },
  {
   "cell_type": "code",
   "execution_count": 61,
   "metadata": {},
   "outputs": [
    {
     "name": "stdout",
     "output_type": "stream",
     "text": [
      " * postgresql://postgres:***@db\n",
      "1 rows affected.\n"
     ]
    },
    {
     "data": {
      "text/html": [
       "<table>\n",
       "    <tr>\n",
       "        <th>count</th>\n",
       "    </tr>\n",
       "    <tr>\n",
       "        <td>7</td>\n",
       "    </tr>\n",
       "</table>"
      ],
      "text/plain": [
       "[(7,)]"
      ]
     },
     "execution_count": 61,
     "metadata": {},
     "output_type": "execute_result"
    }
   ],
   "source": [
    "%%sql\n",
    "SELECT COUNT(DISTINCT service)\n",
    "FROM station_services\n",
    "WHERE station_id = 'ZEN'\n",
    "LIMIT 10;"
   ]
  },
  {
   "cell_type": "code",
   "execution_count": 62,
   "metadata": {},
   "outputs": [
    {
     "name": "stdout",
     "output_type": "stream",
     "text": [
      " * postgresql://postgres:***@db\n",
      "1 rows affected.\n"
     ]
    },
    {
     "data": {
      "text/html": [
       "<table>\n",
       "    <tr>\n",
       "        <th>station_id</th>\n",
       "        <th>num_ser</th>\n",
       "    </tr>\n",
       "    <tr>\n",
       "        <td>LZ</td>\n",
       "        <td>12</td>\n",
       "    </tr>\n",
       "</table>"
      ],
      "text/plain": [
       "[('LZ', 12)]"
      ]
     },
     "execution_count": 62,
     "metadata": {},
     "output_type": "execute_result"
    }
   ],
   "source": [
    "%%sql\n",
    "SELECT station_id, COUNT(DISTINCT service) AS num_ser\n",
    "FROM station_services\n",
    "GROUP BY station_id\n",
    "ORDER BY num_ser DESC\n",
    "LIMIT 1;"
   ]
  },
  {
   "cell_type": "code",
   "execution_count": 63,
   "metadata": {},
   "outputs": [
    {
     "name": "stdout",
     "output_type": "stream",
     "text": [
      " * postgresql://postgres:***@db\n",
      "1 rows affected.\n"
     ]
    },
    {
     "data": {
      "text/html": [
       "<table>\n",
       "    <tr>\n",
       "        <th>count</th>\n",
       "    </tr>\n",
       "    <tr>\n",
       "        <td>41</td>\n",
       "    </tr>\n",
       "</table>"
      ],
      "text/plain": [
       "[(41,)]"
      ]
     },
     "execution_count": 63,
     "metadata": {},
     "output_type": "execute_result"
    }
   ],
   "source": [
    "%%sql\n",
    "SELECT COUNT(*)\n",
    "FROM stations\n",
    "LIMIT 10;"
   ]
  },
  {
   "cell_type": "code",
   "execution_count": 64,
   "metadata": {},
   "outputs": [
    {
     "name": "stdout",
     "output_type": "stream",
     "text": [
      " * postgresql://postgres:***@db\n",
      "1 rows affected.\n"
     ]
    },
    {
     "data": {
      "text/html": [
       "<table>\n",
       "    <tr>\n",
       "        <th>max</th>\n",
       "    </tr>\n",
       "    <tr>\n",
       "        <td>471300</td>\n",
       "    </tr>\n",
       "</table>"
      ],
      "text/plain": [
       "[(471300,)]"
      ]
     },
     "execution_count": 64,
     "metadata": {},
     "output_type": "execute_result"
    }
   ],
   "source": [
    "%%sql\n",
    "SELECT MAX(avg_weekday_passengers)\n",
    "FROM stations;"
   ]
  },
  {
   "cell_type": "code",
   "execution_count": 65,
   "metadata": {},
   "outputs": [
    {
     "name": "stdout",
     "output_type": "stream",
     "text": [
      " * postgresql://postgres:***@db\n",
      "1 rows affected.\n"
     ]
    },
    {
     "data": {
      "text/html": [
       "<table>\n",
       "    <tr>\n",
       "        <th>count</th>\n",
       "    </tr>\n",
       "    <tr>\n",
       "        <td>77150</td>\n",
       "    </tr>\n",
       "</table>"
      ],
      "text/plain": [
       "[(77150,)]"
      ]
     },
     "execution_count": 65,
     "metadata": {},
     "output_type": "execute_result"
    }
   ],
   "source": [
    "%%sql\n",
    "SELECT COUNT(DISTINCT ct.id)\n",
    "FROM customer_trips ct\n",
    "JOIN train_trips tt\n",
    "ON ct.trip_id = tt.id\n",
    "JOIN train_routes tr\n",
    "ON tr.id = tt.route_id\n",
    "WHERE bikes_permitted = TRUE\n",
    "LIMIT 10;"
   ]
  },
  {
   "cell_type": "code",
   "execution_count": 66,
   "metadata": {},
   "outputs": [
    {
     "name": "stdout",
     "output_type": "stream",
     "text": [
      " * postgresql://postgres:***@db\n",
      "1 rows affected.\n"
     ]
    },
    {
     "data": {
      "text/html": [
       "<table>\n",
       "    <tr>\n",
       "        <th>round</th>\n",
       "    </tr>\n",
       "    <tr>\n",
       "        <td>21</td>\n",
       "    </tr>\n",
       "</table>"
      ],
      "text/plain": [
       "[(Decimal('21'),)]"
      ]
     },
     "execution_count": 66,
     "metadata": {},
     "output_type": "execute_result"
    }
   ],
   "source": [
    "%%sql\n",
    "SELECT ROUND(AVG(duration_mins),0)\n",
    "FROM customer_trips ct\n",
    "JOIN stations s\n",
    "ON ct.alight_station_id = s.id\n",
    "WHERE ct.board_station_id = 'ZUE' AND s.num_platforms = 2\n",
    "LIMIT 10;"
   ]
  },
  {
   "cell_type": "code",
   "execution_count": 67,
   "metadata": {},
   "outputs": [
    {
     "name": "stdout",
     "output_type": "stream",
     "text": [
      " * postgresql://postgres:***@db\n",
      "1 rows affected.\n"
     ]
    },
    {
     "data": {
      "text/html": [
       "<table>\n",
       "    <tr>\n",
       "        <th>count</th>\n",
       "    </tr>\n",
       "    <tr>\n",
       "        <td>1304</td>\n",
       "    </tr>\n",
       "</table>"
      ],
      "text/plain": [
       "[(1304,)]"
      ]
     },
     "execution_count": 67,
     "metadata": {},
     "output_type": "execute_result"
    }
   ],
   "source": [
    "%%sql\n",
    "SELECT COUNT(*)\n",
    "FROM\n",
    "    (SELECT s1.id, s2.id\n",
    "    FROM stations s1\n",
    "    CROSS JOIN stations s2\n",
    "    WHERE s1.id != s2.id AND (s1.id, s2.id) NOT IN (SELECT board_station_id, alight_station_id\n",
    "                                                    FROM customer_trips))"
   ]
  },
  {
   "cell_type": "markdown",
   "metadata": {},
   "source": [
    "---"
   ]
  },
  {
   "cell_type": "markdown",
   "metadata": {},
   "source": [
    "# Round 8"
   ]
  },
  {
   "cell_type": "code",
   "execution_count": 68,
   "metadata": {},
   "outputs": [
    {
     "name": "stdout",
     "output_type": "stream",
     "text": [
      " * postgresql://postgres:***@db\n",
      "1 rows affected.\n"
     ]
    },
    {
     "data": {
      "text/html": [
       "<table>\n",
       "    <tr>\n",
       "        <th>count</th>\n",
       "    </tr>\n",
       "    <tr>\n",
       "        <td>198</td>\n",
       "    </tr>\n",
       "</table>"
      ],
      "text/plain": [
       "[(198,)]"
      ]
     },
     "execution_count": 68,
     "metadata": {},
     "output_type": "execute_result"
    }
   ],
   "source": [
    "%%sql\n",
    "SELECT COUNT(*)\n",
    "FROM station_services ss\n",
    "JOIN stations s\n",
    "ON s.id = ss.station_id\n",
    "LIMIT 10;"
   ]
  },
  {
   "cell_type": "code",
   "execution_count": 69,
   "metadata": {},
   "outputs": [
    {
     "name": "stdout",
     "output_type": "stream",
     "text": [
      " * postgresql://postgres:***@db\n",
      "1 rows affected.\n"
     ]
    },
    {
     "data": {
      "text/html": [
       "<table>\n",
       "    <tr>\n",
       "        <th>count</th>\n",
       "    </tr>\n",
       "    <tr>\n",
       "        <td>7</td>\n",
       "    </tr>\n",
       "</table>"
      ],
      "text/plain": [
       "[(7,)]"
      ]
     },
     "execution_count": 69,
     "metadata": {},
     "output_type": "execute_result"
    }
   ],
   "source": [
    "%%sql\n",
    "SELECT COUNT(DISTINCT service)\n",
    "FROM station_services\n",
    "WHERE station_id = 'ZEN'\n",
    "LIMIT 10;"
   ]
  },
  {
   "cell_type": "code",
   "execution_count": 70,
   "metadata": {},
   "outputs": [
    {
     "name": "stdout",
     "output_type": "stream",
     "text": [
      " * postgresql://postgres:***@db\n",
      "1 rows affected.\n"
     ]
    },
    {
     "data": {
      "text/html": [
       "<table>\n",
       "    <tr>\n",
       "        <th>station_id</th>\n",
       "        <th>count_services</th>\n",
       "    </tr>\n",
       "    <tr>\n",
       "        <td>LZ</td>\n",
       "        <td>12</td>\n",
       "    </tr>\n",
       "</table>"
      ],
      "text/plain": [
       "[('LZ', 12)]"
      ]
     },
     "execution_count": 70,
     "metadata": {},
     "output_type": "execute_result"
    }
   ],
   "source": [
    "%%sql\n",
    "SELECT station_id, COUNT(service) AS count_services\n",
    "FROM station_services\n",
    "GROUP BY station_id\n",
    "ORDER BY count_services DESC\n",
    "LIMIT 1;"
   ]
  },
  {
   "cell_type": "code",
   "execution_count": 71,
   "metadata": {},
   "outputs": [
    {
     "name": "stdout",
     "output_type": "stream",
     "text": [
      " * postgresql://postgres:***@db\n",
      "1 rows affected.\n"
     ]
    },
    {
     "data": {
      "text/html": [
       "<table>\n",
       "    <tr>\n",
       "        <th>count</th>\n",
       "    </tr>\n",
       "    <tr>\n",
       "        <td>41</td>\n",
       "    </tr>\n",
       "</table>"
      ],
      "text/plain": [
       "[(41,)]"
      ]
     },
     "execution_count": 71,
     "metadata": {},
     "output_type": "execute_result"
    }
   ],
   "source": [
    "%%sql\n",
    "SELECT COUNT(*)\n",
    "FROM stations\n",
    "LIMIT 10;"
   ]
  },
  {
   "cell_type": "code",
   "execution_count": 72,
   "metadata": {},
   "outputs": [
    {
     "name": "stdout",
     "output_type": "stream",
     "text": [
      " * postgresql://postgres:***@db\n",
      "1 rows affected.\n"
     ]
    },
    {
     "data": {
      "text/html": [
       "<table>\n",
       "    <tr>\n",
       "        <th>max</th>\n",
       "    </tr>\n",
       "    <tr>\n",
       "        <td>471300</td>\n",
       "    </tr>\n",
       "</table>"
      ],
      "text/plain": [
       "[(471300,)]"
      ]
     },
     "execution_count": 72,
     "metadata": {},
     "output_type": "execute_result"
    }
   ],
   "source": [
    "%%sql\n",
    "SELECT MAX(avg_weekday_passengers)\n",
    "FROM stations\n",
    "LIMIT 10;"
   ]
  },
  {
   "cell_type": "code",
   "execution_count": 73,
   "metadata": {},
   "outputs": [
    {
     "name": "stdout",
     "output_type": "stream",
     "text": [
      " * postgresql://postgres:***@db\n",
      "1 rows affected.\n"
     ]
    },
    {
     "data": {
      "text/html": [
       "<table>\n",
       "    <tr>\n",
       "        <th>count</th>\n",
       "    </tr>\n",
       "    <tr>\n",
       "        <td>77150</td>\n",
       "    </tr>\n",
       "</table>"
      ],
      "text/plain": [
       "[(77150,)]"
      ]
     },
     "execution_count": 73,
     "metadata": {},
     "output_type": "execute_result"
    }
   ],
   "source": [
    "%%sql\n",
    "SELECT COUNT(ct.id)\n",
    "FROM customer_trips ct\n",
    "JOIN train_trips tt\n",
    "ON ct.trip_id = tt.id\n",
    "JOIN train_routes tr\n",
    "ON tt.route_id = tr.id\n",
    "WHERE bikes_permitted = TRUE\n",
    "LIMIT 10;"
   ]
  },
  {
   "cell_type": "code",
   "execution_count": 74,
   "metadata": {},
   "outputs": [
    {
     "name": "stdout",
     "output_type": "stream",
     "text": [
      " * postgresql://postgres:***@db\n",
      "1 rows affected.\n"
     ]
    },
    {
     "data": {
      "text/html": [
       "<table>\n",
       "    <tr>\n",
       "        <th>round</th>\n",
       "    </tr>\n",
       "    <tr>\n",
       "        <td>21</td>\n",
       "    </tr>\n",
       "</table>"
      ],
      "text/plain": [
       "[(Decimal('21'),)]"
      ]
     },
     "execution_count": 74,
     "metadata": {},
     "output_type": "execute_result"
    }
   ],
   "source": [
    "%%sql\n",
    "SELECT ROUND(AVG(duration_mins),0)\n",
    "FROM customer_trips ct\n",
    "JOIN stations s\n",
    "ON ct.alight_station_id = s.id\n",
    "WHERE board_station_id = 'ZUE' AND s.num_platforms = 2\n",
    "LIMIT 10;"
   ]
  },
  {
   "cell_type": "code",
   "execution_count": 75,
   "metadata": {},
   "outputs": [
    {
     "name": "stdout",
     "output_type": "stream",
     "text": [
      " * postgresql://postgres:***@db\n",
      "1 rows affected.\n"
     ]
    },
    {
     "data": {
      "text/html": [
       "<table>\n",
       "    <tr>\n",
       "        <th>count</th>\n",
       "    </tr>\n",
       "    <tr>\n",
       "        <td>1304</td>\n",
       "    </tr>\n",
       "</table>"
      ],
      "text/plain": [
       "[(1304,)]"
      ]
     },
     "execution_count": 75,
     "metadata": {},
     "output_type": "execute_result"
    }
   ],
   "source": [
    "%%sql\n",
    "SELECT COUNT(*)\n",
    "FROM\n",
    "    (SELECT s1.id, s2.id\n",
    "    FROM stations s1\n",
    "    CROSS JOIN stations s2\n",
    "    WHERE s1.id != s2.id AND (s1.id, s2.id) NOT IN (SELECT board_station_id, alight_station_id\n",
    "                                                    FROM customer_trips));"
   ]
  },
  {
   "cell_type": "code",
   "execution_count": 76,
   "metadata": {},
   "outputs": [
    {
     "name": "stdout",
     "output_type": "stream",
     "text": [
      " * postgresql://postgres:***@db\n",
      "10 rows affected.\n"
     ]
    },
    {
     "data": {
      "text/html": [
       "<table>\n",
       "    <tr>\n",
       "        <th>board_station_id</th>\n",
       "        <th>alight_station_id</th>\n",
       "    </tr>\n",
       "    <tr>\n",
       "        <td>BD</td>\n",
       "        <td>ZUE</td>\n",
       "    </tr>\n",
       "    <tr>\n",
       "        <td>BD</td>\n",
       "        <td>BG</td>\n",
       "    </tr>\n",
       "    <tr>\n",
       "        <td>LZ</td>\n",
       "        <td>FL</td>\n",
       "    </tr>\n",
       "    <tr>\n",
       "        <td>GD</td>\n",
       "        <td>FL</td>\n",
       "    </tr>\n",
       "    <tr>\n",
       "        <td>GD</td>\n",
       "        <td>FL</td>\n",
       "    </tr>\n",
       "    <tr>\n",
       "        <td>GD</td>\n",
       "        <td>FL</td>\n",
       "    </tr>\n",
       "    <tr>\n",
       "        <td>GD</td>\n",
       "        <td>FL</td>\n",
       "    </tr>\n",
       "    <tr>\n",
       "        <td>LZ</td>\n",
       "        <td>GD</td>\n",
       "    </tr>\n",
       "    <tr>\n",
       "        <td>LZ</td>\n",
       "        <td>GD</td>\n",
       "    </tr>\n",
       "    <tr>\n",
       "        <td>EBI</td>\n",
       "        <td>TW</td>\n",
       "    </tr>\n",
       "</table>"
      ],
      "text/plain": [
       "[('BD', 'ZUE'),\n",
       " ('BD', 'BG'),\n",
       " ('LZ', 'FL'),\n",
       " ('GD', 'FL'),\n",
       " ('GD', 'FL'),\n",
       " ('GD', 'FL'),\n",
       " ('GD', 'FL'),\n",
       " ('LZ', 'GD'),\n",
       " ('LZ', 'GD'),\n",
       " ('EBI', 'TW')]"
      ]
     },
     "execution_count": 76,
     "metadata": {},
     "output_type": "execute_result"
    }
   ],
   "source": [
    "%%sql\n",
    "SELECT board_station_id, alight_station_id\n",
    "FROM customer_trips\n",
    "LIMIT 10;"
   ]
  },
  {
   "cell_type": "markdown",
   "metadata": {},
   "source": [
    "---"
   ]
  },
  {
   "cell_type": "markdown",
   "metadata": {},
   "source": [
    "# Round 9"
   ]
  },
  {
   "cell_type": "code",
   "execution_count": 78,
   "metadata": {},
   "outputs": [
    {
     "name": "stdout",
     "output_type": "stream",
     "text": [
      " * postgresql://postgres:***@db\n",
      "1 rows affected.\n"
     ]
    },
    {
     "data": {
      "text/html": [
       "<table>\n",
       "    <tr>\n",
       "        <th>count</th>\n",
       "    </tr>\n",
       "    <tr>\n",
       "        <td>198</td>\n",
       "    </tr>\n",
       "</table>"
      ],
      "text/plain": [
       "[(198,)]"
      ]
     },
     "execution_count": 78,
     "metadata": {},
     "output_type": "execute_result"
    }
   ],
   "source": [
    "%%sql\n",
    "SELECT COUNT(*)\n",
    "FROM station_services ss\n",
    "JOIN stations s\n",
    "ON s.id = ss.station_id\n",
    "LIMIT 10;"
   ]
  },
  {
   "cell_type": "code",
   "execution_count": 82,
   "metadata": {},
   "outputs": [
    {
     "name": "stdout",
     "output_type": "stream",
     "text": [
      " * postgresql://postgres:***@db\n",
      "1 rows affected.\n"
     ]
    },
    {
     "data": {
      "text/html": [
       "<table>\n",
       "    <tr>\n",
       "        <th>count</th>\n",
       "    </tr>\n",
       "    <tr>\n",
       "        <td>7</td>\n",
       "    </tr>\n",
       "</table>"
      ],
      "text/plain": [
       "[(7,)]"
      ]
     },
     "execution_count": 82,
     "metadata": {},
     "output_type": "execute_result"
    }
   ],
   "source": [
    "%%sql\n",
    "SELECT COUNT(DISTINCT service)\n",
    "FROM station_services\n",
    "WHERE station_id = 'ZEN'\n",
    "LIMIT 10;"
   ]
  },
  {
   "cell_type": "code",
   "execution_count": 86,
   "metadata": {},
   "outputs": [
    {
     "name": "stdout",
     "output_type": "stream",
     "text": [
      " * postgresql://postgres:***@db\n",
      "1 rows affected.\n"
     ]
    },
    {
     "data": {
      "text/html": [
       "<table>\n",
       "    <tr>\n",
       "        <th>station_id</th>\n",
       "        <th>num_ser</th>\n",
       "    </tr>\n",
       "    <tr>\n",
       "        <td>LZ</td>\n",
       "        <td>12</td>\n",
       "    </tr>\n",
       "</table>"
      ],
      "text/plain": [
       "[('LZ', 12)]"
      ]
     },
     "execution_count": 86,
     "metadata": {},
     "output_type": "execute_result"
    }
   ],
   "source": [
    "%%sql\n",
    "SELECT station_id, COUNT(DISTINCT service) AS num_ser\n",
    "FROM station_services\n",
    "GROUP BY station_id\n",
    "ORDER BY num_ser DESC\n",
    "LIMIT 1;"
   ]
  },
  {
   "cell_type": "code",
   "execution_count": 87,
   "metadata": {},
   "outputs": [
    {
     "name": "stdout",
     "output_type": "stream",
     "text": [
      " * postgresql://postgres:***@db\n",
      "1 rows affected.\n"
     ]
    },
    {
     "data": {
      "text/html": [
       "<table>\n",
       "    <tr>\n",
       "        <th>count</th>\n",
       "    </tr>\n",
       "    <tr>\n",
       "        <td>41</td>\n",
       "    </tr>\n",
       "</table>"
      ],
      "text/plain": [
       "[(41,)]"
      ]
     },
     "execution_count": 87,
     "metadata": {},
     "output_type": "execute_result"
    }
   ],
   "source": [
    "%%sql\n",
    "SELECT COUNT(*)\n",
    "FROM stations\n",
    "LIMIT 10;"
   ]
  },
  {
   "cell_type": "code",
   "execution_count": 92,
   "metadata": {},
   "outputs": [
    {
     "name": "stdout",
     "output_type": "stream",
     "text": [
      " * postgresql://postgres:***@db\n",
      "1 rows affected.\n"
     ]
    },
    {
     "data": {
      "text/html": [
       "<table>\n",
       "    <tr>\n",
       "        <th>max</th>\n",
       "    </tr>\n",
       "    <tr>\n",
       "        <td>471300</td>\n",
       "    </tr>\n",
       "</table>"
      ],
      "text/plain": [
       "[(471300,)]"
      ]
     },
     "execution_count": 92,
     "metadata": {},
     "output_type": "execute_result"
    }
   ],
   "source": [
    "%%sql\n",
    "SELECT MAX(avg_weekday_passengers)\n",
    "FROM stations\n",
    "LIMIT 10;"
   ]
  },
  {
   "cell_type": "code",
   "execution_count": 100,
   "metadata": {},
   "outputs": [
    {
     "name": "stdout",
     "output_type": "stream",
     "text": [
      " * postgresql://postgres:***@db\n",
      "1 rows affected.\n"
     ]
    },
    {
     "data": {
      "text/html": [
       "<table>\n",
       "    <tr>\n",
       "        <th>count</th>\n",
       "    </tr>\n",
       "    <tr>\n",
       "        <td>77150</td>\n",
       "    </tr>\n",
       "</table>"
      ],
      "text/plain": [
       "[(77150,)]"
      ]
     },
     "execution_count": 100,
     "metadata": {},
     "output_type": "execute_result"
    }
   ],
   "source": [
    "%%sql\n",
    "SELECT COUNT(ct.id)\n",
    "FROM customer_trips ct\n",
    "JOIN train_trips tt\n",
    "ON ct.trip_id = tt.id\n",
    "JOIN train_routes tr\n",
    "ON tt.route_id = tr.id\n",
    "WHERE bikes_permitted = TRUE\n",
    "LIMIT 10; "
   ]
  },
  {
   "cell_type": "code",
   "execution_count": 110,
   "metadata": {},
   "outputs": [
    {
     "name": "stdout",
     "output_type": "stream",
     "text": [
      " * postgresql://postgres:***@db\n",
      "1 rows affected.\n"
     ]
    },
    {
     "data": {
      "text/html": [
       "<table>\n",
       "    <tr>\n",
       "        <th>round</th>\n",
       "    </tr>\n",
       "    <tr>\n",
       "        <td>21</td>\n",
       "    </tr>\n",
       "</table>"
      ],
      "text/plain": [
       "[(Decimal('21'),)]"
      ]
     },
     "execution_count": 110,
     "metadata": {},
     "output_type": "execute_result"
    }
   ],
   "source": [
    "%%sql\n",
    "SELECT ROUND(AVG(duration_mins), 0)\n",
    "FROM customer_trips ct\n",
    "JOIN stations s\n",
    "ON ct.alight_station_id = s.id\n",
    "WHERE num_platforms = 2 AND ct.board_station_id = 'ZUE'\n",
    "LIMIT 10;"
   ]
  },
  {
   "cell_type": "code",
   "execution_count": 119,
   "metadata": {},
   "outputs": [
    {
     "name": "stdout",
     "output_type": "stream",
     "text": [
      " * postgresql://postgres:***@db\n",
      "1 rows affected.\n"
     ]
    },
    {
     "data": {
      "text/html": [
       "<table>\n",
       "    <tr>\n",
       "        <th>count</th>\n",
       "    </tr>\n",
       "    <tr>\n",
       "        <td>1304</td>\n",
       "    </tr>\n",
       "</table>"
      ],
      "text/plain": [
       "[(1304,)]"
      ]
     },
     "execution_count": 119,
     "metadata": {},
     "output_type": "execute_result"
    }
   ],
   "source": [
    "%%sql\n",
    "SELECT COUNT(*)\n",
    "FROM\n",
    "    (SELECT s1.id, s2.id\n",
    "    FROM stations s1\n",
    "    CROSS JOIN stations s2\n",
    "    WHERE s1.id != s2.id AND (s1.id, s2.id) NOT IN (SELECT board_station_id, alight_station_id FROM customer_trips))"
   ]
  },
  {
   "cell_type": "markdown",
   "metadata": {},
   "source": [
    "---"
   ]
  }
 ],
 "metadata": {
  "kernelspec": {
   "display_name": "Python 3 (ipykernel)",
   "language": "python",
   "name": "python3"
  },
  "language_info": {
   "codemirror_mode": {
    "name": "ipython",
    "version": 3
   },
   "file_extension": ".py",
   "mimetype": "text/x-python",
   "name": "python",
   "nbconvert_exporter": "python",
   "pygments_lexer": "ipython3",
   "version": "3.9.20"
  }
 },
 "nbformat": 4,
 "nbformat_minor": 2
}
