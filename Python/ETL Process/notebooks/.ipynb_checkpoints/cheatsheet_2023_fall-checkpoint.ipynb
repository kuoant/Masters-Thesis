{
 "cells": [
  {
   "cell_type": "markdown",
   "metadata": {},
   "source": [
    "# Information Systems for Engineers Fall 2023 - Cheat Sheet\n",
    "\n",
    "During the exam, you will be required to write SQL queries using a Jupyter notebook.\n",
    "\n",
    "This notebook is designed to help you start writing your queries by providing you an environment with the datasets loaded and a simple query that you can use to recap the syntax of SQL.\n",
    "\n",
    "Feel free to extend this notebook and use it for preparing the answers you need for the exam. Take into account that the content of this notebook will not be considered for grading.\n",
    "\n",
    "## SQL\n",
    "\n",
    "There is a local PostgreSQL 16.1 installation with a dataset loaded into a database. Run the next cell to connect to it."
   ]
  },
  {
   "cell_type": "code",
   "execution_count": 1,
   "metadata": {},
   "outputs": [],
   "source": [
    "%load_ext sql\n",
    "%sql  postgresql://postgres:example@db "
   ]
  },
  {
   "cell_type": "markdown",
   "metadata": {},
   "source": [
    "To print the tables currently loaded in the database run:"
   ]
  },
  {
   "cell_type": "code",
   "execution_count": 2,
   "metadata": {},
   "outputs": [
    {
     "name": "stdout",
     "output_type": "stream",
     "text": [
      " * postgresql://postgres:***@db\n",
      "5 rows affected.\n"
     ]
    },
    {
     "data": {
      "text/html": [
       "<table>\n",
       "    <tr>\n",
       "        <th>table_catalog</th>\n",
       "        <th>table_schema</th>\n",
       "        <th>table_name</th>\n",
       "        <th>table_type</th>\n",
       "        <th>self_referencing_column_name</th>\n",
       "        <th>reference_generation</th>\n",
       "        <th>user_defined_type_catalog</th>\n",
       "        <th>user_defined_type_schema</th>\n",
       "        <th>user_defined_type_name</th>\n",
       "        <th>is_insertable_into</th>\n",
       "        <th>is_typed</th>\n",
       "        <th>commit_action</th>\n",
       "    </tr>\n",
       "    <tr>\n",
       "        <td>postgres</td>\n",
       "        <td>public</td>\n",
       "        <td>categories</td>\n",
       "        <td>BASE TABLE</td>\n",
       "        <td>None</td>\n",
       "        <td>None</td>\n",
       "        <td>None</td>\n",
       "        <td>None</td>\n",
       "        <td>None</td>\n",
       "        <td>YES</td>\n",
       "        <td>NO</td>\n",
       "        <td>None</td>\n",
       "    </tr>\n",
       "    <tr>\n",
       "        <td>postgres</td>\n",
       "        <td>public</td>\n",
       "        <td>customers</td>\n",
       "        <td>BASE TABLE</td>\n",
       "        <td>None</td>\n",
       "        <td>None</td>\n",
       "        <td>None</td>\n",
       "        <td>None</td>\n",
       "        <td>None</td>\n",
       "        <td>YES</td>\n",
       "        <td>NO</td>\n",
       "        <td>None</td>\n",
       "    </tr>\n",
       "    <tr>\n",
       "        <td>postgres</td>\n",
       "        <td>public</td>\n",
       "        <td>nwemployees</td>\n",
       "        <td>BASE TABLE</td>\n",
       "        <td>None</td>\n",
       "        <td>None</td>\n",
       "        <td>None</td>\n",
       "        <td>None</td>\n",
       "        <td>None</td>\n",
       "        <td>YES</td>\n",
       "        <td>NO</td>\n",
       "        <td>None</td>\n",
       "    </tr>\n",
       "    <tr>\n",
       "        <td>postgres</td>\n",
       "        <td>public</td>\n",
       "        <td>employeeterritories</td>\n",
       "        <td>BASE TABLE</td>\n",
       "        <td>None</td>\n",
       "        <td>None</td>\n",
       "        <td>None</td>\n",
       "        <td>None</td>\n",
       "        <td>None</td>\n",
       "        <td>YES</td>\n",
       "        <td>NO</td>\n",
       "        <td>None</td>\n",
       "    </tr>\n",
       "    <tr>\n",
       "        <td>postgres</td>\n",
       "        <td>public</td>\n",
       "        <td>order_details</td>\n",
       "        <td>BASE TABLE</td>\n",
       "        <td>None</td>\n",
       "        <td>None</td>\n",
       "        <td>None</td>\n",
       "        <td>None</td>\n",
       "        <td>None</td>\n",
       "        <td>YES</td>\n",
       "        <td>NO</td>\n",
       "        <td>None</td>\n",
       "    </tr>\n",
       "</table>"
      ],
      "text/plain": [
       "[('postgres', 'public', 'categories', 'BASE TABLE', None, None, None, None, None, 'YES', 'NO', None),\n",
       " ('postgres', 'public', 'customers', 'BASE TABLE', None, None, None, None, None, 'YES', 'NO', None),\n",
       " ('postgres', 'public', 'nwemployees', 'BASE TABLE', None, None, None, None, None, 'YES', 'NO', None),\n",
       " ('postgres', 'public', 'employeeterritories', 'BASE TABLE', None, None, None, None, None, 'YES', 'NO', None),\n",
       " ('postgres', 'public', 'order_details', 'BASE TABLE', None, None, None, None, None, 'YES', 'NO', None)]"
      ]
     },
     "execution_count": 2,
     "metadata": {},
     "output_type": "execute_result"
    }
   ],
   "source": [
    "%%sql\n",
    "\n",
    "SELECT * \n",
    "FROM INFORMATION_SCHEMA.TABLES \n",
    "WHERE TABLE_TYPE = 'BASE TABLE' and TABLE_CATALOG = 'postgres' and TABLE_SCHEMA = 'public'\n",
    "LIMIT 5;"
   ]
  },
  {
   "cell_type": "markdown",
   "metadata": {},
   "source": [
    "To print the attributes of a particular table (`players`, for example) run:"
   ]
  },
  {
   "cell_type": "code",
   "execution_count": 3,
   "metadata": {},
   "outputs": [
    {
     "name": "stdout",
     "output_type": "stream",
     "text": [
      " * postgresql://postgres:***@db\n",
      "10 rows affected.\n"
     ]
    },
    {
     "data": {
      "text/html": [
       "<table>\n",
       "    <tr>\n",
       "        <th>column_name</th>\n",
       "        <th>data_type</th>\n",
       "        <th>character_maximum_length</th>\n",
       "    </tr>\n",
       "    <tr>\n",
       "        <td>player_id</td>\n",
       "        <td>integer</td>\n",
       "        <td>None</td>\n",
       "    </tr>\n",
       "    <tr>\n",
       "        <td>dob</td>\n",
       "        <td>date</td>\n",
       "        <td>None</td>\n",
       "    </tr>\n",
       "    <tr>\n",
       "        <td>player_id</td>\n",
       "        <td>smallint</td>\n",
       "        <td>None</td>\n",
       "    </tr>\n",
       "    <tr>\n",
       "        <td>dob</td>\n",
       "        <td>date</td>\n",
       "        <td>None</td>\n",
       "    </tr>\n",
       "    <tr>\n",
       "        <td>country_id</td>\n",
       "        <td>character</td>\n",
       "        <td>3</td>\n",
       "    </tr>\n",
       "    <tr>\n",
       "        <td>country_id</td>\n",
       "        <td>character</td>\n",
       "        <td>3</td>\n",
       "    </tr>\n",
       "    <tr>\n",
       "        <td>first_name</td>\n",
       "        <td>character varying</td>\n",
       "        <td>16</td>\n",
       "    </tr>\n",
       "    <tr>\n",
       "        <td>first_name</td>\n",
       "        <td>character varying</td>\n",
       "        <td>64</td>\n",
       "    </tr>\n",
       "    <tr>\n",
       "        <td>last_name</td>\n",
       "        <td>character varying</td>\n",
       "        <td>64</td>\n",
       "    </tr>\n",
       "    <tr>\n",
       "        <td>last_name</td>\n",
       "        <td>character varying</td>\n",
       "        <td>32</td>\n",
       "    </tr>\n",
       "</table>"
      ],
      "text/plain": [
       "[('player_id', 'integer', None),\n",
       " ('dob', 'date', None),\n",
       " ('player_id', 'smallint', None),\n",
       " ('dob', 'date', None),\n",
       " ('country_id', 'character', 3),\n",
       " ('country_id', 'character', 3),\n",
       " ('first_name', 'character varying', 16),\n",
       " ('first_name', 'character varying', 64),\n",
       " ('last_name', 'character varying', 64),\n",
       " ('last_name', 'character varying', 32)]"
      ]
     },
     "execution_count": 3,
     "metadata": {},
     "output_type": "execute_result"
    }
   ],
   "source": [
    "%%sql\n",
    "\n",
    "SELECT column_name, data_type, character_maximum_length\n",
    "FROM INFORMATION_SCHEMA.COLUMNS \n",
    "WHERE table_name = 'players';"
   ]
  },
  {
   "cell_type": "markdown",
   "metadata": {},
   "source": [
    "## Complex query example\n",
    "\n",
    "More complex PostgreSQL queries would look like:"
   ]
  },
  {
   "cell_type": "code",
   "execution_count": 4,
   "metadata": {},
   "outputs": [
    {
     "name": "stdout",
     "output_type": "stream",
     "text": [
      " * postgresql://postgres:***@db\n",
      "4 rows affected.\n"
     ]
    },
    {
     "data": {
      "text/html": [
       "<table>\n",
       "    <tr>\n",
       "        <th>country_id</th>\n",
       "        <th>count</th>\n",
       "    </tr>\n",
       "    <tr>\n",
       "        <td>ARG</td>\n",
       "        <td>541</td>\n",
       "    </tr>\n",
       "    <tr>\n",
       "        <td>AUS</td>\n",
       "        <td>265</td>\n",
       "    </tr>\n",
       "    <tr>\n",
       "        <td>AUT</td>\n",
       "        <td>76</td>\n",
       "    </tr>\n",
       "    <tr>\n",
       "        <td>BEL</td>\n",
       "        <td>11</td>\n",
       "    </tr>\n",
       "</table>"
      ],
      "text/plain": [
       "[('ARG', 541), ('AUS', 265), ('AUT', 76), ('BEL', 11)]"
      ]
     },
     "execution_count": 4,
     "metadata": {},
     "output_type": "execute_result"
    }
   ],
   "source": [
    "%%sql\n",
    "SELECT players.country_id, COUNT(players.player_id)\n",
    "    FROM players INNER JOIN ranking ON players.player_id = ranking.player_id\n",
    "    WHERE ranking.rank < 10\n",
    "GROUP BY players.country_id\n",
    "ORDER BY players.country_id\n",
    "LIMIT 4;"
   ]
  },
  {
   "cell_type": "markdown",
   "metadata": {},
   "source": [
    "## Exam database − data from the rankings of the Association of Tennis Professionals (ATP)\n",
    "\n",
    "The dataset consists of relations containing real world information such as players, their statistics, rankings and tournaments. A shortened version of the dataset was used in the quiz throughout the course.\n",
    "\n",
    "Here is some basic information on the database tables.\n",
    "\n",
    "### 1) `players` table - shows the players born after 1980 and that have ever reached the top 500 in the rankings\n",
    "\n",
    "| attribute name | description| \n",
    "|:---|:---|\n",
    "|   `player_id`|   uniquely identifies a player|\n",
    "|   `first_name`|   player's first name|\n",
    "|   `last_name`|   player's last name|\n",
    "|   `dob`|   player's date of birth|\n",
    "|   `country_id`|   country code of player's nationality|"
   ]
  },
  {
   "cell_type": "code",
   "execution_count": 5,
   "metadata": {},
   "outputs": [
    {
     "name": "stdout",
     "output_type": "stream",
     "text": [
      " * postgresql://postgres:***@db\n",
      "4 rows affected.\n"
     ]
    },
    {
     "data": {
      "text/html": [
       "<table>\n",
       "    <tr>\n",
       "        <th>player_id</th>\n",
       "        <th>first_name</th>\n",
       "        <th>last_name</th>\n",
       "        <th>dob</th>\n",
       "        <th>country_id</th>\n",
       "    </tr>\n",
       "    <tr>\n",
       "        <td>4369</td>\n",
       "        <td>Yu</td>\n",
       "        <td>Wang</td>\n",
       "        <td>1984-05-19</td>\n",
       "        <td>CHN</td>\n",
       "    </tr>\n",
       "    <tr>\n",
       "        <td>32860</td>\n",
       "        <td>Omar</td>\n",
       "        <td>El Gazzar</td>\n",
       "        <td>1992-08-13</td>\n",
       "        <td>EGY</td>\n",
       "    </tr>\n",
       "    <tr>\n",
       "        <td>27789</td>\n",
       "        <td>Vincent</td>\n",
       "        <td>Schutte</td>\n",
       "        <td>1993-11-10</td>\n",
       "        <td>NED</td>\n",
       "    </tr>\n",
       "    <tr>\n",
       "        <td>36490</td>\n",
       "        <td>Leroy</td>\n",
       "        <td>Miller</td>\n",
       "        <td>1993-08-17</td>\n",
       "        <td>AUS</td>\n",
       "    </tr>\n",
       "</table>"
      ],
      "text/plain": [
       "[(4369, 'Yu', 'Wang', datetime.date(1984, 5, 19), 'CHN'),\n",
       " (32860, 'Omar', 'El Gazzar', datetime.date(1992, 8, 13), 'EGY'),\n",
       " (27789, 'Vincent', 'Schutte', datetime.date(1993, 11, 10), 'NED'),\n",
       " (36490, 'Leroy', 'Miller', datetime.date(1993, 8, 17), 'AUS')]"
      ]
     },
     "execution_count": 5,
     "metadata": {},
     "output_type": "execute_result"
    }
   ],
   "source": [
    "%%sql\n",
    "SELECT * FROM players LIMIT 4;"
   ]
  },
  {
   "cell_type": "markdown",
   "metadata": {},
   "source": [
    "### 2) `ranking` table - shows the top 10 rankings over time\n",
    "\n",
    "| attribute name | description| \n",
    "|:---|:---|\n",
    "|   `player_id`|   uniquely identifies a player|\n",
    "|   `rank`|   player's ranking|\n",
    "|   `rank_date`|   date of the reported ranking|\n",
    "|   `rank_points`|   player's ranking points|"
   ]
  },
  {
   "cell_type": "code",
   "execution_count": 6,
   "metadata": {},
   "outputs": [
    {
     "name": "stdout",
     "output_type": "stream",
     "text": [
      " * postgresql://postgres:***@db\n",
      "4 rows affected.\n"
     ]
    },
    {
     "data": {
      "text/html": [
       "<table>\n",
       "    <tr>\n",
       "        <th>rank_date</th>\n",
       "        <th>player_id</th>\n",
       "        <th>rank</th>\n",
       "        <th>rank_points</th>\n",
       "    </tr>\n",
       "    <tr>\n",
       "        <td>1998-06-08</td>\n",
       "        <td>3498</td>\n",
       "        <td>68</td>\n",
       "        <td>661</td>\n",
       "    </tr>\n",
       "    <tr>\n",
       "        <td>1998-06-15</td>\n",
       "        <td>3498</td>\n",
       "        <td>68</td>\n",
       "        <td>661</td>\n",
       "    </tr>\n",
       "    <tr>\n",
       "        <td>1998-06-22</td>\n",
       "        <td>3498</td>\n",
       "        <td>72</td>\n",
       "        <td>661</td>\n",
       "    </tr>\n",
       "    <tr>\n",
       "        <td>1998-07-06</td>\n",
       "        <td>3498</td>\n",
       "        <td>73</td>\n",
       "        <td>661</td>\n",
       "    </tr>\n",
       "</table>"
      ],
      "text/plain": [
       "[(datetime.date(1998, 6, 8), 3498, 68, 661),\n",
       " (datetime.date(1998, 6, 15), 3498, 68, 661),\n",
       " (datetime.date(1998, 6, 22), 3498, 72, 661),\n",
       " (datetime.date(1998, 7, 6), 3498, 73, 661)]"
      ]
     },
     "execution_count": 6,
     "metadata": {},
     "output_type": "execute_result"
    }
   ],
   "source": [
    "%%sql\n",
    "SELECT * FROM ranking LIMIT 4;"
   ]
  },
  {
   "cell_type": "markdown",
   "metadata": {},
   "source": [
    "### 3) `tournaments` table - shows the tournaments\n",
    "\n",
    "| attribute name | description| \n",
    "|:---|:---|\n",
    "|   `tournament_id`|   uniquely identifies a tournament|\n",
    "|   `name`|   name of the tournament|\n",
    "|   `surface`|   type of surface at a tournament|"
   ]
  },
  {
   "cell_type": "code",
   "execution_count": 7,
   "metadata": {},
   "outputs": [
    {
     "name": "stdout",
     "output_type": "stream",
     "text": [
      " * postgresql://postgres:***@db\n",
      "4 rows affected.\n"
     ]
    },
    {
     "data": {
      "text/html": [
       "<table>\n",
       "    <tr>\n",
       "        <th>tournament_id</th>\n",
       "        <th>name</th>\n",
       "        <th>surface</th>\n",
       "    </tr>\n",
       "    <tr>\n",
       "        <td>1</td>\n",
       "        <td>Australian Chps.</td>\n",
       "        <td>G</td>\n",
       "    </tr>\n",
       "    <tr>\n",
       "        <td>2</td>\n",
       "        <td>Los Angeles</td>\n",
       "        <td>H</td>\n",
       "    </tr>\n",
       "    <tr>\n",
       "        <td>3</td>\n",
       "        <td>Cincinnati Masters</td>\n",
       "        <td>H</td>\n",
       "    </tr>\n",
       "    <tr>\n",
       "        <td>4</td>\n",
       "        <td>Barcelona</td>\n",
       "        <td>C</td>\n",
       "    </tr>\n",
       "</table>"
      ],
      "text/plain": [
       "[(1, 'Australian Chps.', 'G'),\n",
       " (2, 'Los Angeles', 'H'),\n",
       " (3, 'Cincinnati Masters', 'H'),\n",
       " (4, 'Barcelona', 'C')]"
      ]
     },
     "execution_count": 7,
     "metadata": {},
     "output_type": "execute_result"
    }
   ],
   "source": [
    "%%sql\n",
    "SELECT * \n",
    "FROM tournaments\n",
    "ORDER BY tournament_id\n",
    "LIMIT 4;"
   ]
  },
  {
   "cell_type": "markdown",
   "metadata": {},
   "source": [
    "### 4) `matches` table - shows matches after and including 2015 of the players that ever occurred in the top 10 list\n",
    "\n",
    "| attribute name  | description| \n",
    "|:----------------|:---|\n",
    "| `match_id`      |   uniquely identifies a record of a match|\n",
    "| `player_id`     |   uniquely identifies a player|\n",
    "| `tournament_id` |   uniquely identifies a tournament|\n",
    "| `season`        |   year the match was played|\n",
    "| `p_matches`     |   outcome of the match: *1* if player won, *0* if player lost|\n",
    "| `p_bp_fc`       |   number of break points the player faced|\n",
    "| `p_bp_sv`       |   number of break points the player saved|\n",
    "| `round`         |   round of the match during a tournament|\n",
    "| `opponent_rank` |   rank of opponent|\n",
    "| `minutes`       |   duration of the match in minutes|"
   ]
  },
  {
   "cell_type": "code",
   "execution_count": 8,
   "metadata": {},
   "outputs": [
    {
     "name": "stdout",
     "output_type": "stream",
     "text": [
      " * postgresql://postgres:***@db\n",
      "4 rows affected.\n"
     ]
    },
    {
     "data": {
      "text/html": [
       "<table>\n",
       "    <tr>\n",
       "        <th>match_id</th>\n",
       "        <th>player_id</th>\n",
       "        <th>tournament_id</th>\n",
       "        <th>round</th>\n",
       "        <th>season</th>\n",
       "        <th>opponent_rank</th>\n",
       "        <th>p_matches</th>\n",
       "        <th>p_bp_sv</th>\n",
       "        <th>p_bp_fc</th>\n",
       "        <th>minutes</th>\n",
       "    </tr>\n",
       "    <tr>\n",
       "        <td>108213</td>\n",
       "        <td>3598</td>\n",
       "        <td>291</td>\n",
       "        <td>R64</td>\n",
       "        <td>1999</td>\n",
       "        <td>47</td>\n",
       "        <td>1</td>\n",
       "        <td>4</td>\n",
       "        <td>6</td>\n",
       "        <td>86</td>\n",
       "    </tr>\n",
       "    <tr>\n",
       "        <td>108210</td>\n",
       "        <td>3720</td>\n",
       "        <td>291</td>\n",
       "        <td>R64</td>\n",
       "        <td>1999</td>\n",
       "        <td>50</td>\n",
       "        <td>1</td>\n",
       "        <td>8</td>\n",
       "        <td>13</td>\n",
       "        <td>109</td>\n",
       "    </tr>\n",
       "    <tr>\n",
       "        <td>108329</td>\n",
       "        <td>3498</td>\n",
       "        <td>287</td>\n",
       "        <td>R32</td>\n",
       "        <td>1999</td>\n",
       "        <td>11</td>\n",
       "        <td>1</td>\n",
       "        <td>2</td>\n",
       "        <td>2</td>\n",
       "        <td>84</td>\n",
       "    </tr>\n",
       "    <tr>\n",
       "        <td>108938</td>\n",
       "        <td>3720</td>\n",
       "        <td>290</td>\n",
       "        <td>SF</td>\n",
       "        <td>1999</td>\n",
       "        <td>66</td>\n",
       "        <td>1</td>\n",
       "        <td>2</td>\n",
       "        <td>3</td>\n",
       "        <td>69</td>\n",
       "    </tr>\n",
       "</table>"
      ],
      "text/plain": [
       "[(108213, 3598, 291, 'R64', 1999, 47, 1, 4, 6, 86),\n",
       " (108210, 3720, 291, 'R64', 1999, 50, 1, 8, 13, 109),\n",
       " (108329, 3498, 287, 'R32', 1999, 11, 1, 2, 2, 84),\n",
       " (108938, 3720, 290, 'SF', 1999, 66, 1, 2, 3, 69)]"
      ]
     },
     "execution_count": 8,
     "metadata": {},
     "output_type": "execute_result"
    }
   ],
   "source": [
    "%%sql\n",
    "SELECT * FROM matches LIMIT 4;"
   ]
  },
  {
   "cell_type": "markdown",
   "metadata": {},
   "source": [
    "### 5) `stats` table - shows statistics of the players who are in the top players table\n",
    "\n",
    "| attribute name | description| \n",
    "|:---|:---|\n",
    "|   `player_id`|   uniquely identifies a player|\n",
    "|   `p_matches`|   number of matches the player won (e.g., 3)|\n",
    "|   `o_matches`|   number of matches the opponent won (e.g., 5)|\n",
    "|   `p_sets`|   number of sets the player won (e.g. 2)|\n",
    "|   `o_sets`|   number of sets the opponent won (e.g. 1)|"
   ]
  },
  {
   "cell_type": "code",
   "execution_count": 9,
   "metadata": {},
   "outputs": [
    {
     "name": "stdout",
     "output_type": "stream",
     "text": [
      " * postgresql://postgres:***@db\n",
      "4 rows affected.\n"
     ]
    },
    {
     "data": {
      "text/html": [
       "<table>\n",
       "    <tr>\n",
       "        <th>player_id</th>\n",
       "        <th>p_matches</th>\n",
       "        <th>o_matches</th>\n",
       "        <th>p_sets</th>\n",
       "        <th>o_sets</th>\n",
       "    </tr>\n",
       "    <tr>\n",
       "        <td>3565</td>\n",
       "        <td>37</td>\n",
       "        <td>72</td>\n",
       "        <td>107</td>\n",
       "        <td>179</td>\n",
       "    </tr>\n",
       "    <tr>\n",
       "        <td>44778</td>\n",
       "        <td>0</td>\n",
       "        <td>1</td>\n",
       "        <td>0</td>\n",
       "        <td>3</td>\n",
       "    </tr>\n",
       "    <tr>\n",
       "        <td>3762</td>\n",
       "        <td>0</td>\n",
       "        <td>1</td>\n",
       "        <td>1</td>\n",
       "        <td>2</td>\n",
       "    </tr>\n",
       "    <tr>\n",
       "        <td>4000</td>\n",
       "        <td>2</td>\n",
       "        <td>9</td>\n",
       "        <td>12</td>\n",
       "        <td>26</td>\n",
       "    </tr>\n",
       "</table>"
      ],
      "text/plain": [
       "[(3565, 37, 72, 107, 179),\n",
       " (44778, 0, 1, 0, 3),\n",
       " (3762, 0, 1, 1, 2),\n",
       " (4000, 2, 9, 12, 26)]"
      ]
     },
     "execution_count": 9,
     "metadata": {},
     "output_type": "execute_result"
    }
   ],
   "source": [
    "%%sql\n",
    "SELECT * FROM stats LIMIT 4;"
   ]
  },
  {
   "cell_type": "markdown",
   "metadata": {},
   "source": [
    "**PLEASE NOTE: TRY TO LIMIT YOUR OUTPUT. SOME OF THE TABLES ARE LARGE AND PRINTING ALL OF THEM MIGHT SLOW DOWN YOUR WORK ENVIRONMENT.**"
   ]
  },
  {
   "cell_type": "markdown",
   "metadata": {},
   "source": [
    "##### Note: the examples provided above do not contain all the query operations you might need during the exam.\n",
    "\n",
    "Now its your turn, you can write all your queries in new cells below. Feel free to add as many cells as needed."
   ]
  },
  {
   "cell_type": "markdown",
   "metadata": {},
   "source": [
    "---"
   ]
  },
  {
   "cell_type": "markdown",
   "metadata": {},
   "source": [
    "# Round 1"
   ]
  },
  {
   "cell_type": "code",
   "execution_count": 10,
   "metadata": {},
   "outputs": [
    {
     "name": "stdout",
     "output_type": "stream",
     "text": [
      " * postgresql://postgres:***@db\n",
      "1 rows affected.\n"
     ]
    },
    {
     "data": {
      "text/html": [
       "<table>\n",
       "    <tr>\n",
       "        <th>first_name</th>\n",
       "    </tr>\n",
       "    <tr>\n",
       "        <td>Gael</td>\n",
       "    </tr>\n",
       "</table>"
      ],
      "text/plain": [
       "[('Gael',)]"
      ]
     },
     "execution_count": 10,
     "metadata": {},
     "output_type": "execute_result"
    }
   ],
   "source": [
    "%%sql \n",
    "SELECT first_name\n",
    "FROM matches m\n",
    "JOIN players p \n",
    "ON m.player_id = p.player_id\n",
    "JOIN tournaments t\n",
    "ON t.tournament_id = m.tournament_id\n",
    "WHERE t.name = 'London'\n",
    "ORDER BY dob DESC\n",
    "LIMIT 1;"
   ]
  },
  {
   "cell_type": "code",
   "execution_count": 11,
   "metadata": {},
   "outputs": [
    {
     "name": "stdout",
     "output_type": "stream",
     "text": [
      " * postgresql://postgres:***@db\n",
      "3 rows affected.\n"
     ]
    },
    {
     "data": {
      "text/html": [
       "<table>\n",
       "    <tr>\n",
       "        <th>player_id</th>\n",
       "        <th>first_name</th>\n",
       "        <th>last_name</th>\n",
       "        <th>dob</th>\n",
       "        <th>country_id</th>\n",
       "        <th>rank_date</th>\n",
       "        <th>player_id_1</th>\n",
       "        <th>rank</th>\n",
       "        <th>rank_points</th>\n",
       "    </tr>\n",
       "    <tr>\n",
       "        <td>3819</td>\n",
       "        <td>Roger</td>\n",
       "        <td>Federer</td>\n",
       "        <td>1981-08-08</td>\n",
       "        <td>SUI</td>\n",
       "        <td>2005-08-08</td>\n",
       "        <td>3819</td>\n",
       "        <td>1</td>\n",
       "        <td>6500</td>\n",
       "    </tr>\n",
       "    <tr>\n",
       "        <td>3819</td>\n",
       "        <td>Roger</td>\n",
       "        <td>Federer</td>\n",
       "        <td>1981-08-08</td>\n",
       "        <td>SUI</td>\n",
       "        <td>2011-08-08</td>\n",
       "        <td>3819</td>\n",
       "        <td>3</td>\n",
       "        <td>9710</td>\n",
       "    </tr>\n",
       "    <tr>\n",
       "        <td>3819</td>\n",
       "        <td>Roger</td>\n",
       "        <td>Federer</td>\n",
       "        <td>1981-08-08</td>\n",
       "        <td>SUI</td>\n",
       "        <td>2016-08-08</td>\n",
       "        <td>3819</td>\n",
       "        <td>3</td>\n",
       "        <td>5945</td>\n",
       "    </tr>\n",
       "</table>"
      ],
      "text/plain": [
       "[(3819, 'Roger', 'Federer', datetime.date(1981, 8, 8), 'SUI', datetime.date(2005, 8, 8), 3819, 1, 6500),\n",
       " (3819, 'Roger', 'Federer', datetime.date(1981, 8, 8), 'SUI', datetime.date(2011, 8, 8), 3819, 3, 9710),\n",
       " (3819, 'Roger', 'Federer', datetime.date(1981, 8, 8), 'SUI', datetime.date(2016, 8, 8), 3819, 3, 5945)]"
      ]
     },
     "execution_count": 11,
     "metadata": {},
     "output_type": "execute_result"
    }
   ],
   "source": [
    "%%sql \n",
    "SELECT *\n",
    "FROM players p\n",
    "JOIN ranking r\n",
    "ON p.player_id = r.player_id\n",
    "WHERE date_part('month', rank_date) = 8 \n",
    "      AND date_part('day', rank_date) = 8 \n",
    "      AND last_name = 'Federer'\n",
    "LIMIT 5;"
   ]
  },
  {
   "cell_type": "code",
   "execution_count": 12,
   "metadata": {},
   "outputs": [
    {
     "name": "stdout",
     "output_type": "stream",
     "text": [
      " * postgresql://postgres:***@db\n",
      "1 rows affected.\n"
     ]
    },
    {
     "data": {
      "text/html": [
       "<table>\n",
       "    <tr>\n",
       "        <th>sum</th>\n",
       "    </tr>\n",
       "    <tr>\n",
       "        <td>3673</td>\n",
       "    </tr>\n",
       "</table>"
      ],
      "text/plain": [
       "[(3673,)]"
      ]
     },
     "execution_count": 12,
     "metadata": {},
     "output_type": "execute_result"
    }
   ],
   "source": [
    "%%sql \n",
    "SELECT SUM(minutes)\n",
    "FROM\n",
    "    (SELECT DISTINCT match_id, minutes\n",
    "    FROM matches m\n",
    "    JOIN players p\n",
    "    ON m.player_id = p.player_id\n",
    "    WHERE dob >= '1989-01-01'\n",
    "    ORDER BY minutes DESC\n",
    "    LIMIT 10);"
   ]
  },
  {
   "cell_type": "code",
   "execution_count": 13,
   "metadata": {
    "scrolled": true
   },
   "outputs": [
    {
     "name": "stdout",
     "output_type": "stream",
     "text": [
      " * postgresql://postgres:***@db\n",
      "1 rows affected.\n"
     ]
    },
    {
     "data": {
      "text/html": [
       "<table>\n",
       "    <tr>\n",
       "        <th>country_id</th>\n",
       "        <th>avg_win_rate</th>\n",
       "    </tr>\n",
       "    <tr>\n",
       "        <td>SUI</td>\n",
       "        <td>0.71</td>\n",
       "    </tr>\n",
       "</table>"
      ],
      "text/plain": [
       "[('SUI', Decimal('0.71'))]"
      ]
     },
     "execution_count": 13,
     "metadata": {},
     "output_type": "execute_result"
    }
   ],
   "source": [
    "%%sql\n",
    "SELECT p.country_id, ROUND(AVG(p_matches),2) AS avg_win_rate\n",
    "FROM players p\n",
    "JOIN matches m\n",
    "ON p.player_id = m.player_id\n",
    "WHERE p.country_id IN \n",
    "                (SELECT country_id\n",
    "                FROM players p\n",
    "                GROUP BY country_id\n",
    "                HAVING COUNT(*) > 3)\n",
    "GROUP BY p.country_id\n",
    "ORDER BY avg_win_rate DESC\n",
    "LIMIT 1 OFFSET 0"
   ]
  },
  {
   "cell_type": "code",
   "execution_count": 14,
   "metadata": {},
   "outputs": [
    {
     "name": "stdout",
     "output_type": "stream",
     "text": [
      " * postgresql://postgres:***@db\n",
      "1 rows affected.\n"
     ]
    },
    {
     "data": {
      "text/html": [
       "<table>\n",
       "    <tr>\n",
       "        <th>name</th>\n",
       "        <th>gap</th>\n",
       "    </tr>\n",
       "    <tr>\n",
       "        <td>Davis Cup G1</td>\n",
       "        <td>7768</td>\n",
       "    </tr>\n",
       "</table>"
      ],
      "text/plain": [
       "[('Davis Cup G1', 7768)]"
      ]
     },
     "execution_count": 14,
     "metadata": {},
     "output_type": "execute_result"
    }
   ],
   "source": [
    "%%sql\n",
    "SELECT t.name, ABS(MIN(p.dob) - MAX(p.dob)) AS gap\n",
    "FROM matches m\n",
    "JOIN players p\n",
    "ON m.player_id = p.player_id\n",
    "JOIN tournaments t\n",
    "ON t.tournament_id = m.tournament_id\n",
    "GROUP BY t.name\n",
    "ORDER BY gap DESC\n",
    "LIMIT 1;"
   ]
  },
  {
   "cell_type": "code",
   "execution_count": 15,
   "metadata": {},
   "outputs": [
    {
     "name": "stdout",
     "output_type": "stream",
     "text": [
      " * postgresql://postgres:***@db\n",
      "5 rows affected.\n"
     ]
    },
    {
     "data": {
      "text/html": [
       "<table>\n",
       "    <tr>\n",
       "        <th>match_id</th>\n",
       "        <th>player_id</th>\n",
       "        <th>tournament_id</th>\n",
       "        <th>round</th>\n",
       "        <th>season</th>\n",
       "        <th>opponent_rank</th>\n",
       "        <th>p_matches</th>\n",
       "        <th>p_bp_sv</th>\n",
       "        <th>p_bp_fc</th>\n",
       "        <th>minutes</th>\n",
       "    </tr>\n",
       "    <tr>\n",
       "        <td>108213</td>\n",
       "        <td>3598</td>\n",
       "        <td>291</td>\n",
       "        <td>R64</td>\n",
       "        <td>1999</td>\n",
       "        <td>47</td>\n",
       "        <td>1</td>\n",
       "        <td>4</td>\n",
       "        <td>6</td>\n",
       "        <td>86</td>\n",
       "    </tr>\n",
       "    <tr>\n",
       "        <td>108210</td>\n",
       "        <td>3720</td>\n",
       "        <td>291</td>\n",
       "        <td>R64</td>\n",
       "        <td>1999</td>\n",
       "        <td>50</td>\n",
       "        <td>1</td>\n",
       "        <td>8</td>\n",
       "        <td>13</td>\n",
       "        <td>109</td>\n",
       "    </tr>\n",
       "    <tr>\n",
       "        <td>108329</td>\n",
       "        <td>3498</td>\n",
       "        <td>287</td>\n",
       "        <td>R32</td>\n",
       "        <td>1999</td>\n",
       "        <td>11</td>\n",
       "        <td>1</td>\n",
       "        <td>2</td>\n",
       "        <td>2</td>\n",
       "        <td>84</td>\n",
       "    </tr>\n",
       "    <tr>\n",
       "        <td>108938</td>\n",
       "        <td>3720</td>\n",
       "        <td>290</td>\n",
       "        <td>SF</td>\n",
       "        <td>1999</td>\n",
       "        <td>66</td>\n",
       "        <td>1</td>\n",
       "        <td>2</td>\n",
       "        <td>3</td>\n",
       "        <td>69</td>\n",
       "    </tr>\n",
       "    <tr>\n",
       "        <td>108936</td>\n",
       "        <td>3720</td>\n",
       "        <td>290</td>\n",
       "        <td>QF</td>\n",
       "        <td>1999</td>\n",
       "        <td>36</td>\n",
       "        <td>1</td>\n",
       "        <td>0</td>\n",
       "        <td>0</td>\n",
       "        <td>35</td>\n",
       "    </tr>\n",
       "</table>"
      ],
      "text/plain": [
       "[(108213, 3598, 291, 'R64', 1999, 47, 1, 4, 6, 86),\n",
       " (108210, 3720, 291, 'R64', 1999, 50, 1, 8, 13, 109),\n",
       " (108329, 3498, 287, 'R32', 1999, 11, 1, 2, 2, 84),\n",
       " (108938, 3720, 290, 'SF', 1999, 66, 1, 2, 3, 69),\n",
       " (108936, 3720, 290, 'QF', 1999, 36, 1, 0, 0, 35)]"
      ]
     },
     "execution_count": 15,
     "metadata": {},
     "output_type": "execute_result"
    }
   ],
   "source": [
    "%%sql\n",
    "SELECT *\n",
    "FROM matches\n",
    "LIMIT 5"
   ]
  },
  {
   "cell_type": "code",
   "execution_count": 16,
   "metadata": {},
   "outputs": [
    {
     "name": "stdout",
     "output_type": "stream",
     "text": [
      " * postgresql://postgres:***@db\n",
      "1 rows affected.\n"
     ]
    },
    {
     "data": {
      "text/html": [
       "<table>\n",
       "    <tr>\n",
       "        <th>player_id</th>\n",
       "        <th>tot_won</th>\n",
       "    </tr>\n",
       "    <tr>\n",
       "        <td>4913</td>\n",
       "        <td>137</td>\n",
       "    </tr>\n",
       "</table>"
      ],
      "text/plain": [
       "[(4913, 137)]"
      ]
     },
     "execution_count": 16,
     "metadata": {},
     "output_type": "execute_result"
    }
   ],
   "source": [
    "%%sql\n",
    "SELECT player_id, SUM(p_matches) AS tot_won\n",
    "FROM matches\n",
    "WHERE season >= 2015\n",
    "GROUP BY player_id\n",
    "ORDER BY tot_won DESC\n",
    "LIMIT 1;"
   ]
  },
  {
   "cell_type": "code",
   "execution_count": 17,
   "metadata": {},
   "outputs": [
    {
     "name": "stdout",
     "output_type": "stream",
     "text": [
      " * postgresql://postgres:***@db\n",
      "1 rows affected.\n"
     ]
    },
    {
     "data": {
      "text/html": [
       "<table>\n",
       "    <tr>\n",
       "        <th>player_id</th>\n",
       "        <th>last_name</th>\n",
       "        <th>num_part</th>\n",
       "    </tr>\n",
       "    <tr>\n",
       "        <td>5303</td>\n",
       "        <td>Sousa</td>\n",
       "        <td>43</td>\n",
       "    </tr>\n",
       "</table>"
      ],
      "text/plain": [
       "[(5303, 'Sousa', 43)]"
      ]
     },
     "execution_count": 17,
     "metadata": {},
     "output_type": "execute_result"
    }
   ],
   "source": [
    "%%sql\n",
    "SELECT m.player_id, p.last_name, COUNT(DISTINCT tournament_id) AS num_part\n",
    "FROM matches m\n",
    "JOIN players p\n",
    "ON p.player_id = m.player_id\n",
    "WHERE season >= 2016\n",
    "GROUP BY m.player_id, p.last_name\n",
    "ORDER BY num_part DESC\n",
    "LIMIT 1;"
   ]
  },
  {
   "cell_type": "code",
   "execution_count": 18,
   "metadata": {},
   "outputs": [
    {
     "name": "stdout",
     "output_type": "stream",
     "text": [
      " * postgresql://postgres:***@db\n",
      "1 rows affected.\n"
     ]
    },
    {
     "data": {
      "text/html": [
       "<table>\n",
       "    <tr>\n",
       "        <th>name</th>\n",
       "        <th>num_matches</th>\n",
       "    </tr>\n",
       "    <tr>\n",
       "        <td>Australian Chps.</td>\n",
       "        <td>381</td>\n",
       "    </tr>\n",
       "</table>"
      ],
      "text/plain": [
       "[('Australian Chps.', 381)]"
      ]
     },
     "execution_count": 18,
     "metadata": {},
     "output_type": "execute_result"
    }
   ],
   "source": [
    "%%sql\n",
    "SELECT t.name, COUNT(DISTINCT m.match_id) AS num_matches\n",
    "FROM matches m\n",
    "JOIN tournaments t\n",
    "ON t.tournament_id = m.tournament_id\n",
    "WHERE season >= 2015\n",
    "GROUP BY t.name\n",
    "ORDER BY num_matches DESC\n",
    "LIMIT 1;"
   ]
  },
  {
   "cell_type": "code",
   "execution_count": 19,
   "metadata": {},
   "outputs": [
    {
     "name": "stdout",
     "output_type": "stream",
     "text": [
      " * postgresql://postgres:***@db\n",
      "1 rows affected.\n"
     ]
    },
    {
     "data": {
      "text/html": [
       "<table>\n",
       "    <tr>\n",
       "        <th>country_id</th>\n",
       "        <th>avg_age</th>\n",
       "    </tr>\n",
       "    <tr>\n",
       "        <td>PNG</td>\n",
       "        <td>16396 days, 0:00:00</td>\n",
       "    </tr>\n",
       "</table>"
      ],
      "text/plain": [
       "[('PNG', datetime.timedelta(days=16396))]"
      ]
     },
     "execution_count": 19,
     "metadata": {},
     "output_type": "execute_result"
    }
   ],
   "source": [
    "%%sql\n",
    "SELECT country_id, AVG(AGE(dob)) AS avg_age\n",
    "FROM players\n",
    "GROUP BY country_id\n",
    "ORDER BY avg_age DESC\n",
    "LIMIT 1;"
   ]
  },
  {
   "cell_type": "code",
   "execution_count": 20,
   "metadata": {},
   "outputs": [
    {
     "name": "stdout",
     "output_type": "stream",
     "text": [
      " * postgresql://postgres:***@db\n",
      "5 rows affected.\n"
     ]
    },
    {
     "data": {
      "text/html": [
       "<table>\n",
       "    <tr>\n",
       "        <th>match_id</th>\n",
       "        <th>player_id</th>\n",
       "        <th>tournament_id</th>\n",
       "        <th>round</th>\n",
       "        <th>season</th>\n",
       "        <th>opponent_rank</th>\n",
       "        <th>p_matches</th>\n",
       "        <th>p_bp_sv</th>\n",
       "        <th>p_bp_fc</th>\n",
       "        <th>minutes</th>\n",
       "    </tr>\n",
       "    <tr>\n",
       "        <td>108213</td>\n",
       "        <td>3598</td>\n",
       "        <td>291</td>\n",
       "        <td>R64</td>\n",
       "        <td>1999</td>\n",
       "        <td>47</td>\n",
       "        <td>1</td>\n",
       "        <td>4</td>\n",
       "        <td>6</td>\n",
       "        <td>86</td>\n",
       "    </tr>\n",
       "    <tr>\n",
       "        <td>108210</td>\n",
       "        <td>3720</td>\n",
       "        <td>291</td>\n",
       "        <td>R64</td>\n",
       "        <td>1999</td>\n",
       "        <td>50</td>\n",
       "        <td>1</td>\n",
       "        <td>8</td>\n",
       "        <td>13</td>\n",
       "        <td>109</td>\n",
       "    </tr>\n",
       "    <tr>\n",
       "        <td>108329</td>\n",
       "        <td>3498</td>\n",
       "        <td>287</td>\n",
       "        <td>R32</td>\n",
       "        <td>1999</td>\n",
       "        <td>11</td>\n",
       "        <td>1</td>\n",
       "        <td>2</td>\n",
       "        <td>2</td>\n",
       "        <td>84</td>\n",
       "    </tr>\n",
       "    <tr>\n",
       "        <td>108938</td>\n",
       "        <td>3720</td>\n",
       "        <td>290</td>\n",
       "        <td>SF</td>\n",
       "        <td>1999</td>\n",
       "        <td>66</td>\n",
       "        <td>1</td>\n",
       "        <td>2</td>\n",
       "        <td>3</td>\n",
       "        <td>69</td>\n",
       "    </tr>\n",
       "    <tr>\n",
       "        <td>108936</td>\n",
       "        <td>3720</td>\n",
       "        <td>290</td>\n",
       "        <td>QF</td>\n",
       "        <td>1999</td>\n",
       "        <td>36</td>\n",
       "        <td>1</td>\n",
       "        <td>0</td>\n",
       "        <td>0</td>\n",
       "        <td>35</td>\n",
       "    </tr>\n",
       "</table>"
      ],
      "text/plain": [
       "[(108213, 3598, 291, 'R64', 1999, 47, 1, 4, 6, 86),\n",
       " (108210, 3720, 291, 'R64', 1999, 50, 1, 8, 13, 109),\n",
       " (108329, 3498, 287, 'R32', 1999, 11, 1, 2, 2, 84),\n",
       " (108938, 3720, 290, 'SF', 1999, 66, 1, 2, 3, 69),\n",
       " (108936, 3720, 290, 'QF', 1999, 36, 1, 0, 0, 35)]"
      ]
     },
     "execution_count": 20,
     "metadata": {},
     "output_type": "execute_result"
    }
   ],
   "source": [
    "%%sql\n",
    "SELECT * \n",
    "FROM matches\n",
    "LIMIT 5;"
   ]
  },
  {
   "cell_type": "code",
   "execution_count": 21,
   "metadata": {},
   "outputs": [
    {
     "name": "stdout",
     "output_type": "stream",
     "text": [
      " * postgresql://postgres:***@db\n",
      "1 rows affected.\n"
     ]
    },
    {
     "data": {
      "text/html": [
       "<table>\n",
       "    <tr>\n",
       "        <th>season</th>\n",
       "        <th>uniq_players</th>\n",
       "    </tr>\n",
       "    <tr>\n",
       "        <td>2016</td>\n",
       "        <td>404</td>\n",
       "    </tr>\n",
       "</table>"
      ],
      "text/plain": [
       "[(2016, 404)]"
      ]
     },
     "execution_count": 21,
     "metadata": {},
     "output_type": "execute_result"
    }
   ],
   "source": [
    "%%sql\n",
    "SELECT season, COUNT(DISTINCT player_id) AS uniq_players\n",
    "FROM matches\n",
    "WHERE season >= 2015\n",
    "GROUP BY season\n",
    "ORDER BY uniq_players DESC\n",
    "LIMIT 1;"
   ]
  },
  {
   "cell_type": "markdown",
   "metadata": {},
   "source": [
    "----"
   ]
  },
  {
   "cell_type": "markdown",
   "metadata": {},
   "source": [
    "## Round 2"
   ]
  },
  {
   "cell_type": "code",
   "execution_count": 22,
   "metadata": {
    "scrolled": true
   },
   "outputs": [
    {
     "name": "stdout",
     "output_type": "stream",
     "text": [
      " * postgresql://postgres:***@db\n",
      "1 rows affected.\n"
     ]
    },
    {
     "data": {
      "text/html": [
       "<table>\n",
       "    <tr>\n",
       "        <th>first_name</th>\n",
       "    </tr>\n",
       "    <tr>\n",
       "        <td>Gael</td>\n",
       "    </tr>\n",
       "</table>"
      ],
      "text/plain": [
       "[('Gael',)]"
      ]
     },
     "execution_count": 22,
     "metadata": {},
     "output_type": "execute_result"
    }
   ],
   "source": [
    "%%sql \n",
    "SELECT first_name\n",
    "FROM matches m\n",
    "JOIN tournaments t\n",
    "ON m.tournament_id = t.tournament_id\n",
    "JOIN players p\n",
    "ON p.player_id = m.player_id\n",
    "WHERE t.name = 'London'\n",
    "ORDER BY p.dob DESC\n",
    "LIMIT 1;"
   ]
  },
  {
   "cell_type": "code",
   "execution_count": 23,
   "metadata": {
    "scrolled": true
   },
   "outputs": [
    {
     "name": "stdout",
     "output_type": "stream",
     "text": [
      " * postgresql://postgres:***@db\n",
      "3 rows affected.\n"
     ]
    },
    {
     "data": {
      "text/html": [
       "<table>\n",
       "    <tr>\n",
       "        <th>player_id</th>\n",
       "        <th>first_name</th>\n",
       "        <th>last_name</th>\n",
       "        <th>dob</th>\n",
       "        <th>country_id</th>\n",
       "        <th>rank_date</th>\n",
       "        <th>player_id_1</th>\n",
       "        <th>rank</th>\n",
       "        <th>rank_points</th>\n",
       "    </tr>\n",
       "    <tr>\n",
       "        <td>3819</td>\n",
       "        <td>Roger</td>\n",
       "        <td>Federer</td>\n",
       "        <td>1981-08-08</td>\n",
       "        <td>SUI</td>\n",
       "        <td>2005-08-08</td>\n",
       "        <td>3819</td>\n",
       "        <td>1</td>\n",
       "        <td>6500</td>\n",
       "    </tr>\n",
       "    <tr>\n",
       "        <td>3819</td>\n",
       "        <td>Roger</td>\n",
       "        <td>Federer</td>\n",
       "        <td>1981-08-08</td>\n",
       "        <td>SUI</td>\n",
       "        <td>2011-08-08</td>\n",
       "        <td>3819</td>\n",
       "        <td>3</td>\n",
       "        <td>9710</td>\n",
       "    </tr>\n",
       "    <tr>\n",
       "        <td>3819</td>\n",
       "        <td>Roger</td>\n",
       "        <td>Federer</td>\n",
       "        <td>1981-08-08</td>\n",
       "        <td>SUI</td>\n",
       "        <td>2016-08-08</td>\n",
       "        <td>3819</td>\n",
       "        <td>3</td>\n",
       "        <td>5945</td>\n",
       "    </tr>\n",
       "</table>"
      ],
      "text/plain": [
       "[(3819, 'Roger', 'Federer', datetime.date(1981, 8, 8), 'SUI', datetime.date(2005, 8, 8), 3819, 1, 6500),\n",
       " (3819, 'Roger', 'Federer', datetime.date(1981, 8, 8), 'SUI', datetime.date(2011, 8, 8), 3819, 3, 9710),\n",
       " (3819, 'Roger', 'Federer', datetime.date(1981, 8, 8), 'SUI', datetime.date(2016, 8, 8), 3819, 3, 5945)]"
      ]
     },
     "execution_count": 23,
     "metadata": {},
     "output_type": "execute_result"
    }
   ],
   "source": [
    "%%sql \n",
    "SELECT *\n",
    "FROM players p\n",
    "JOIN ranking r\n",
    "ON p.player_id = r.player_id\n",
    "WHERE p.last_name = 'Federer' AND \n",
    "        date_part('month', r.rank_date) = 8 AND\n",
    "        date_part('day', r.rank_date) = 8"
   ]
  },
  {
   "cell_type": "code",
   "execution_count": 24,
   "metadata": {
    "scrolled": true
   },
   "outputs": [
    {
     "name": "stdout",
     "output_type": "stream",
     "text": [
      " * postgresql://postgres:***@db\n",
      "1 rows affected.\n"
     ]
    },
    {
     "data": {
      "text/html": [
       "<table>\n",
       "    <tr>\n",
       "        <th>sum</th>\n",
       "    </tr>\n",
       "    <tr>\n",
       "        <td>3673</td>\n",
       "    </tr>\n",
       "</table>"
      ],
      "text/plain": [
       "[(3673,)]"
      ]
     },
     "execution_count": 24,
     "metadata": {},
     "output_type": "execute_result"
    }
   ],
   "source": [
    "%%sql \n",
    "SELECT SUM(minutes)\n",
    "FROM\n",
    "    (SELECT DISTINCT m.match_id, m.minutes\n",
    "    FROM matches m\n",
    "    JOIN players p\n",
    "    ON p.player_id = m.player_id\n",
    "    WHERE p.dob  >= '1989-01-01'\n",
    "    ORDER BY m.minutes DESC\n",
    "    LIMIT 10);"
   ]
  },
  {
   "cell_type": "code",
   "execution_count": 25,
   "metadata": {},
   "outputs": [
    {
     "name": "stdout",
     "output_type": "stream",
     "text": [
      " * postgresql://postgres:***@db\n",
      "10 rows affected.\n"
     ]
    },
    {
     "data": {
      "text/html": [
       "<table>\n",
       "    <tr>\n",
       "        <th>match_id</th>\n",
       "        <th>player_id</th>\n",
       "        <th>tournament_id</th>\n",
       "        <th>round</th>\n",
       "        <th>season</th>\n",
       "        <th>opponent_rank</th>\n",
       "        <th>p_matches</th>\n",
       "        <th>p_bp_sv</th>\n",
       "        <th>p_bp_fc</th>\n",
       "        <th>minutes</th>\n",
       "    </tr>\n",
       "    <tr>\n",
       "        <td>108213</td>\n",
       "        <td>3598</td>\n",
       "        <td>291</td>\n",
       "        <td>R64</td>\n",
       "        <td>1999</td>\n",
       "        <td>47</td>\n",
       "        <td>1</td>\n",
       "        <td>4</td>\n",
       "        <td>6</td>\n",
       "        <td>86</td>\n",
       "    </tr>\n",
       "    <tr>\n",
       "        <td>108210</td>\n",
       "        <td>3720</td>\n",
       "        <td>291</td>\n",
       "        <td>R64</td>\n",
       "        <td>1999</td>\n",
       "        <td>50</td>\n",
       "        <td>1</td>\n",
       "        <td>8</td>\n",
       "        <td>13</td>\n",
       "        <td>109</td>\n",
       "    </tr>\n",
       "    <tr>\n",
       "        <td>108329</td>\n",
       "        <td>3498</td>\n",
       "        <td>287</td>\n",
       "        <td>R32</td>\n",
       "        <td>1999</td>\n",
       "        <td>11</td>\n",
       "        <td>1</td>\n",
       "        <td>2</td>\n",
       "        <td>2</td>\n",
       "        <td>84</td>\n",
       "    </tr>\n",
       "    <tr>\n",
       "        <td>108938</td>\n",
       "        <td>3720</td>\n",
       "        <td>290</td>\n",
       "        <td>SF</td>\n",
       "        <td>1999</td>\n",
       "        <td>66</td>\n",
       "        <td>1</td>\n",
       "        <td>2</td>\n",
       "        <td>3</td>\n",
       "        <td>69</td>\n",
       "    </tr>\n",
       "    <tr>\n",
       "        <td>108936</td>\n",
       "        <td>3720</td>\n",
       "        <td>290</td>\n",
       "        <td>QF</td>\n",
       "        <td>1999</td>\n",
       "        <td>36</td>\n",
       "        <td>1</td>\n",
       "        <td>0</td>\n",
       "        <td>0</td>\n",
       "        <td>35</td>\n",
       "    </tr>\n",
       "    <tr>\n",
       "        <td>115077</td>\n",
       "        <td>3507</td>\n",
       "        <td>11</td>\n",
       "        <td>R64</td>\n",
       "        <td>2001</td>\n",
       "        <td>30</td>\n",
       "        <td>1</td>\n",
       "        <td>5</td>\n",
       "        <td>6</td>\n",
       "        <td>105</td>\n",
       "    </tr>\n",
       "    <tr>\n",
       "        <td>115083</td>\n",
       "        <td>3819</td>\n",
       "        <td>11</td>\n",
       "        <td>R64</td>\n",
       "        <td>2001</td>\n",
       "        <td>24</td>\n",
       "        <td>1</td>\n",
       "        <td>4</td>\n",
       "        <td>6</td>\n",
       "        <td>144</td>\n",
       "    </tr>\n",
       "    <tr>\n",
       "        <td>110412</td>\n",
       "        <td>3602</td>\n",
       "        <td>251</td>\n",
       "        <td>R32</td>\n",
       "        <td>2000</td>\n",
       "        <td>139</td>\n",
       "        <td>1</td>\n",
       "        <td>4</td>\n",
       "        <td>6</td>\n",
       "        <td>86</td>\n",
       "    </tr>\n",
       "    <tr>\n",
       "        <td>110916</td>\n",
       "        <td>3819</td>\n",
       "        <td>1</td>\n",
       "        <td>R128</td>\n",
       "        <td>2000</td>\n",
       "        <td>38</td>\n",
       "        <td>1</td>\n",
       "        <td>1</td>\n",
       "        <td>3</td>\n",
       "        <td>125</td>\n",
       "    </tr>\n",
       "    <tr>\n",
       "        <td>111911</td>\n",
       "        <td>3498</td>\n",
       "        <td>4</td>\n",
       "        <td>R16</td>\n",
       "        <td>2000</td>\n",
       "        <td>40</td>\n",
       "        <td>1</td>\n",
       "        <td>3</td>\n",
       "        <td>6</td>\n",
       "        <td>111</td>\n",
       "    </tr>\n",
       "</table>"
      ],
      "text/plain": [
       "[(108213, 3598, 291, 'R64', 1999, 47, 1, 4, 6, 86),\n",
       " (108210, 3720, 291, 'R64', 1999, 50, 1, 8, 13, 109),\n",
       " (108329, 3498, 287, 'R32', 1999, 11, 1, 2, 2, 84),\n",
       " (108938, 3720, 290, 'SF', 1999, 66, 1, 2, 3, 69),\n",
       " (108936, 3720, 290, 'QF', 1999, 36, 1, 0, 0, 35),\n",
       " (115077, 3507, 11, 'R64', 2001, 30, 1, 5, 6, 105),\n",
       " (115083, 3819, 11, 'R64', 2001, 24, 1, 4, 6, 144),\n",
       " (110412, 3602, 251, 'R32', 2000, 139, 1, 4, 6, 86),\n",
       " (110916, 3819, 1, 'R128', 2000, 38, 1, 1, 3, 125),\n",
       " (111911, 3498, 4, 'R16', 2000, 40, 1, 3, 6, 111)]"
      ]
     },
     "execution_count": 25,
     "metadata": {},
     "output_type": "execute_result"
    }
   ],
   "source": [
    "%%sql\n",
    "SELECT *\n",
    "FROM matches m\n",
    "LIMIT 10;"
   ]
  },
  {
   "cell_type": "code",
   "execution_count": 26,
   "metadata": {
    "scrolled": true
   },
   "outputs": [
    {
     "name": "stdout",
     "output_type": "stream",
     "text": [
      " * postgresql://postgres:***@db\n",
      "1 rows affected.\n"
     ]
    },
    {
     "data": {
      "text/html": [
       "<table>\n",
       "    <tr>\n",
       "        <th>country_id</th>\n",
       "        <th>win_rate</th>\n",
       "    </tr>\n",
       "    <tr>\n",
       "        <td>SUI</td>\n",
       "        <td>0.71</td>\n",
       "    </tr>\n",
       "</table>"
      ],
      "text/plain": [
       "[('SUI', Decimal('0.71'))]"
      ]
     },
     "execution_count": 26,
     "metadata": {},
     "output_type": "execute_result"
    }
   ],
   "source": [
    "%%sql \n",
    "SELECT country_id, ROUND(AVG(p_matches),2) AS win_rate\n",
    "FROM matches m\n",
    "JOIN players p\n",
    "ON p.player_id = m.player_id\n",
    "GROUP BY p.country_id\n",
    "HAVING COUNT(*) >= 3\n",
    "ORDER BY AVG(p_matches) DESC\n",
    "LIMIT 1;"
   ]
  },
  {
   "cell_type": "code",
   "execution_count": 27,
   "metadata": {
    "scrolled": true
   },
   "outputs": [
    {
     "name": "stdout",
     "output_type": "stream",
     "text": [
      " * postgresql://postgres:***@db\n",
      "1 rows affected.\n"
     ]
    },
    {
     "data": {
      "text/html": [
       "<table>\n",
       "    <tr>\n",
       "        <th>tournament_id</th>\n",
       "        <th>name</th>\n",
       "        <th>age_gap</th>\n",
       "    </tr>\n",
       "    <tr>\n",
       "        <td>39</td>\n",
       "        <td>Davis Cup G1</td>\n",
       "        <td>7768</td>\n",
       "    </tr>\n",
       "</table>"
      ],
      "text/plain": [
       "[(39, 'Davis Cup G1', 7768)]"
      ]
     },
     "execution_count": 27,
     "metadata": {},
     "output_type": "execute_result"
    }
   ],
   "source": [
    "%%sql \n",
    "SELECT t.tournament_id, t.name, ABS(MIN(p.dob) - MAX(p.dob)) as age_gap\n",
    "FROM matches m\n",
    "JOIN tournaments t\n",
    "ON m.tournament_id = t.tournament_id\n",
    "JOIN players p\n",
    "ON p.player_id = m.player_id\n",
    "GROUP BY t.tournament_id\n",
    "ORDER BY ABS(MIN(p.dob) - MAX(p.dob)) DESC\n",
    "LIMIT 1;"
   ]
  },
  {
   "cell_type": "code",
   "execution_count": 28,
   "metadata": {
    "scrolled": true
   },
   "outputs": [
    {
     "name": "stdout",
     "output_type": "stream",
     "text": [
      " * postgresql://postgres:***@db\n",
      "1 rows affected.\n"
     ]
    },
    {
     "data": {
      "text/html": [
       "<table>\n",
       "    <tr>\n",
       "        <th>player_id</th>\n",
       "        <th>total_won</th>\n",
       "    </tr>\n",
       "    <tr>\n",
       "        <td>4913</td>\n",
       "        <td>137</td>\n",
       "    </tr>\n",
       "</table>"
      ],
      "text/plain": [
       "[(4913, 137)]"
      ]
     },
     "execution_count": 28,
     "metadata": {},
     "output_type": "execute_result"
    }
   ],
   "source": [
    "%%sql \n",
    "SELECT p.player_id, SUM(m.p_matches) as total_won\n",
    "FROM players p\n",
    "JOIN matches m\n",
    "ON p.player_id = m.player_id\n",
    "WHERE season >= 2015\n",
    "GROUP BY p.player_id\n",
    "ORDER BY SUM(m.p_matches) DESC\n",
    "LIMIT 1;"
   ]
  },
  {
   "cell_type": "code",
   "execution_count": 29,
   "metadata": {
    "scrolled": true
   },
   "outputs": [
    {
     "name": "stdout",
     "output_type": "stream",
     "text": [
      " * postgresql://postgres:***@db\n",
      "1 rows affected.\n"
     ]
    },
    {
     "data": {
      "text/html": [
       "<table>\n",
       "    <tr>\n",
       "        <th>player_id</th>\n",
       "        <th>first_name</th>\n",
       "        <th>last_name</th>\n",
       "        <th>part_tourn</th>\n",
       "    </tr>\n",
       "    <tr>\n",
       "        <td>5303</td>\n",
       "        <td>Joao</td>\n",
       "        <td>Sousa</td>\n",
       "        <td>43</td>\n",
       "    </tr>\n",
       "</table>"
      ],
      "text/plain": [
       "[(5303, 'Joao', 'Sousa', 43)]"
      ]
     },
     "execution_count": 29,
     "metadata": {},
     "output_type": "execute_result"
    }
   ],
   "source": [
    "%%sql \n",
    "SELECT p.player_id, first_name, last_name, COUNT(DISTINCT tournament_id) AS part_tourn\n",
    "FROM players p\n",
    "JOIN matches m\n",
    "ON p.player_id = m.player_id\n",
    "WHERE m.season >= 2016\n",
    "GROUP BY p.player_id\n",
    "ORDER BY COUNT(DISTINCT tournament_id) DESC\n",
    "LIMIT 1;"
   ]
  },
  {
   "cell_type": "code",
   "execution_count": 30,
   "metadata": {
    "scrolled": true
   },
   "outputs": [
    {
     "name": "stdout",
     "output_type": "stream",
     "text": [
      " * postgresql://postgres:***@db\n",
      "1 rows affected.\n"
     ]
    },
    {
     "data": {
      "text/html": [
       "<table>\n",
       "    <tr>\n",
       "        <th>tournament_id</th>\n",
       "        <th>name</th>\n",
       "        <th>tot_matches</th>\n",
       "    </tr>\n",
       "    <tr>\n",
       "        <td>1</td>\n",
       "        <td>Australian Chps.</td>\n",
       "        <td>381</td>\n",
       "    </tr>\n",
       "</table>"
      ],
      "text/plain": [
       "[(1, 'Australian Chps.', 381)]"
      ]
     },
     "execution_count": 30,
     "metadata": {},
     "output_type": "execute_result"
    }
   ],
   "source": [
    "%%sql\n",
    "SELECT t.tournament_id, t.name, COUNT(DISTINCT match_id) AS tot_matches\n",
    "FROM matches m\n",
    "JOIN tournaments t\n",
    "ON m.tournament_id = t.tournament_id\n",
    "WHERE m.season >= 2015\n",
    "GROUP BY t.tournament_id\n",
    "ORDER BY COUNT(DISTINCT match_id) DESC\n",
    "LIMIT 1"
   ]
  },
  {
   "cell_type": "code",
   "execution_count": 31,
   "metadata": {
    "scrolled": true
   },
   "outputs": [
    {
     "name": "stdout",
     "output_type": "stream",
     "text": [
      " * postgresql://postgres:***@db\n",
      "1 rows affected.\n"
     ]
    },
    {
     "data": {
      "text/html": [
       "<table>\n",
       "    <tr>\n",
       "        <th>country_id</th>\n",
       "        <th>avg</th>\n",
       "    </tr>\n",
       "    <tr>\n",
       "        <td>PNG</td>\n",
       "        <td>16396 days, 0:00:00</td>\n",
       "    </tr>\n",
       "</table>"
      ],
      "text/plain": [
       "[('PNG', datetime.timedelta(days=16396))]"
      ]
     },
     "execution_count": 31,
     "metadata": {},
     "output_type": "execute_result"
    }
   ],
   "source": [
    "%%sql \n",
    "SELECT country_id, AVG(AGE(dob))\n",
    "FROM players \n",
    "GROUP BY country_id\n",
    "ORDER BY AVG(AGE(dob)) DESC\n",
    "LIMIT 1;"
   ]
  },
  {
   "cell_type": "code",
   "execution_count": 32,
   "metadata": {},
   "outputs": [
    {
     "name": "stdout",
     "output_type": "stream",
     "text": [
      " * postgresql://postgres:***@db\n",
      "1 rows affected.\n"
     ]
    },
    {
     "data": {
      "text/html": [
       "<table>\n",
       "    <tr>\n",
       "        <th>season</th>\n",
       "        <th>tot_players</th>\n",
       "    </tr>\n",
       "    <tr>\n",
       "        <td>2016</td>\n",
       "        <td>404</td>\n",
       "    </tr>\n",
       "</table>"
      ],
      "text/plain": [
       "[(2016, 404)]"
      ]
     },
     "execution_count": 32,
     "metadata": {},
     "output_type": "execute_result"
    }
   ],
   "source": [
    "%%sql\n",
    "SELECT season, COUNT(DISTINCT player_id) AS tot_players\n",
    "FROM matches\n",
    "WHERE season >= 2015\n",
    "GROUP BY season \n",
    "ORDER BY COUNT(DISTINCT player_id) DESC\n",
    "LIMIT 1; "
   ]
  },
  {
   "cell_type": "markdown",
   "metadata": {},
   "source": [
    "---"
   ]
  },
  {
   "cell_type": "markdown",
   "metadata": {},
   "source": [
    "# Round 3"
   ]
  },
  {
   "cell_type": "code",
   "execution_count": 33,
   "metadata": {},
   "outputs": [
    {
     "name": "stdout",
     "output_type": "stream",
     "text": [
      " * postgresql://postgres:***@db\n",
      "1 rows affected.\n"
     ]
    },
    {
     "data": {
      "text/html": [
       "<table>\n",
       "    <tr>\n",
       "        <th>first_name</th>\n",
       "    </tr>\n",
       "    <tr>\n",
       "        <td>Gael</td>\n",
       "    </tr>\n",
       "</table>"
      ],
      "text/plain": [
       "[('Gael',)]"
      ]
     },
     "execution_count": 33,
     "metadata": {},
     "output_type": "execute_result"
    }
   ],
   "source": [
    "%%sql\n",
    "SELECT first_name\n",
    "FROM matches m\n",
    "JOIN players p\n",
    "ON m.player_id = p.player_id\n",
    "JOIN tournaments t\n",
    "ON t.tournament_id = m.tournament_id\n",
    "WHERE t.name = 'London'\n",
    "ORDER BY dob DESC\n",
    "LIMIT 1;"
   ]
  },
  {
   "cell_type": "code",
   "execution_count": 34,
   "metadata": {},
   "outputs": [
    {
     "name": "stdout",
     "output_type": "stream",
     "text": [
      " * postgresql://postgres:***@db\n",
      "2 rows affected.\n"
     ]
    },
    {
     "data": {
      "text/html": [
       "<table>\n",
       "    <tr>\n",
       "        <th>rank</th>\n",
       "    </tr>\n",
       "    <tr>\n",
       "        <td>1</td>\n",
       "    </tr>\n",
       "    <tr>\n",
       "        <td>3</td>\n",
       "    </tr>\n",
       "</table>"
      ],
      "text/plain": [
       "[(1,), (3,)]"
      ]
     },
     "execution_count": 34,
     "metadata": {},
     "output_type": "execute_result"
    }
   ],
   "source": [
    "%%sql\n",
    "SELECT DISTINCT rank\n",
    "FROM players p\n",
    "JOIN ranking r\n",
    "ON r.player_id = p.player_id\n",
    "WHERE last_name = 'Federer' AND \n",
    "        EXTRACT(month FROM rank_date) = 8 AND\n",
    "        EXTRACT(day FROM rank_date) = 8\n",
    "LIMIT 10;"
   ]
  },
  {
   "cell_type": "code",
   "execution_count": 35,
   "metadata": {},
   "outputs": [
    {
     "name": "stdout",
     "output_type": "stream",
     "text": [
      " * postgresql://postgres:***@db\n",
      "1 rows affected.\n"
     ]
    },
    {
     "data": {
      "text/html": [
       "<table>\n",
       "    <tr>\n",
       "        <th>sum</th>\n",
       "    </tr>\n",
       "    <tr>\n",
       "        <td>3673</td>\n",
       "    </tr>\n",
       "</table>"
      ],
      "text/plain": [
       "[(Decimal('3673'),)]"
      ]
     },
     "execution_count": 35,
     "metadata": {},
     "output_type": "execute_result"
    }
   ],
   "source": [
    "%%sql\n",
    "SELECT SUM(match_dur)\n",
    "FROM \n",
    "    (SELECT match_id, SUM(DISTINCT minutes) AS match_dur\n",
    "    FROM matches m\n",
    "    JOIN players p\n",
    "    ON m.player_id = p.player_id\n",
    "    WHERE dob >= '1989-01-01'\n",
    "    GROUP BY m.match_id\n",
    "    ORDER BY match_dur DESC\n",
    "    LIMIT 10);"
   ]
  },
  {
   "cell_type": "code",
   "execution_count": 36,
   "metadata": {},
   "outputs": [
    {
     "name": "stdout",
     "output_type": "stream",
     "text": [
      " * postgresql://postgres:***@db\n",
      "1 rows affected.\n"
     ]
    },
    {
     "data": {
      "text/html": [
       "<table>\n",
       "    <tr>\n",
       "        <th>country_id</th>\n",
       "        <th>winning_rate</th>\n",
       "    </tr>\n",
       "    <tr>\n",
       "        <td>SUI</td>\n",
       "        <td>0.71</td>\n",
       "    </tr>\n",
       "</table>"
      ],
      "text/plain": [
       "[('SUI', Decimal('0.71'))]"
      ]
     },
     "execution_count": 36,
     "metadata": {},
     "output_type": "execute_result"
    }
   ],
   "source": [
    "%%sql\n",
    "SELECT p.country_id, ROUND(AVG(p_matches),2) AS winning_rate\n",
    "FROM players p\n",
    "JOIN matches m\n",
    "ON p.player_id = m.player_id\n",
    "GROUP BY p.country_id\n",
    "HAVING COUNT(*) > 3\n",
    "ORDER BY winning_rate DESC\n",
    "LIMIT 1;"
   ]
  },
  {
   "cell_type": "code",
   "execution_count": 37,
   "metadata": {},
   "outputs": [
    {
     "name": "stdout",
     "output_type": "stream",
     "text": [
      " * postgresql://postgres:***@db\n",
      "1 rows affected.\n"
     ]
    },
    {
     "data": {
      "text/html": [
       "<table>\n",
       "    <tr>\n",
       "        <th>name</th>\n",
       "        <th>age_gap</th>\n",
       "    </tr>\n",
       "    <tr>\n",
       "        <td>Davis Cup G1</td>\n",
       "        <td>7768</td>\n",
       "    </tr>\n",
       "</table>"
      ],
      "text/plain": [
       "[('Davis Cup G1', 7768)]"
      ]
     },
     "execution_count": 37,
     "metadata": {},
     "output_type": "execute_result"
    }
   ],
   "source": [
    "%%sql\n",
    "SELECT t.name, ABS(MAX(dob) - MIN(dob)) AS age_gap\n",
    "FROM matches m\n",
    "JOIN tournaments t\n",
    "ON m.tournament_id = t.tournament_id\n",
    "JOIN players p\n",
    "ON p.player_id = m.player_id\n",
    "GROUP BY t.name\n",
    "ORDER BY age_gap DESC\n",
    "LIMIT 1;"
   ]
  },
  {
   "cell_type": "code",
   "execution_count": 38,
   "metadata": {},
   "outputs": [
    {
     "name": "stdout",
     "output_type": "stream",
     "text": [
      " * postgresql://postgres:***@db\n",
      "1 rows affected.\n"
     ]
    },
    {
     "data": {
      "text/html": [
       "<table>\n",
       "    <tr>\n",
       "        <th>player_id</th>\n",
       "        <th>num_matches</th>\n",
       "    </tr>\n",
       "    <tr>\n",
       "        <td>4913</td>\n",
       "        <td>137</td>\n",
       "    </tr>\n",
       "</table>"
      ],
      "text/plain": [
       "[(4913, 137)]"
      ]
     },
     "execution_count": 38,
     "metadata": {},
     "output_type": "execute_result"
    }
   ],
   "source": [
    "%%sql\n",
    "SELECT player_id, SUM(p_matches) AS num_matches\n",
    "FROM matches\n",
    "WHERE season >= 2015\n",
    "GROUP BY player_id\n",
    "ORDER BY num_matches DESC\n",
    "LIMIT 1;"
   ]
  },
  {
   "cell_type": "code",
   "execution_count": 39,
   "metadata": {},
   "outputs": [
    {
     "name": "stdout",
     "output_type": "stream",
     "text": [
      " * postgresql://postgres:***@db\n",
      "1 rows affected.\n"
     ]
    },
    {
     "data": {
      "text/html": [
       "<table>\n",
       "    <tr>\n",
       "        <th>first_name</th>\n",
       "        <th>last_name</th>\n",
       "        <th>part_tourn</th>\n",
       "    </tr>\n",
       "    <tr>\n",
       "        <td>Joao</td>\n",
       "        <td>Sousa</td>\n",
       "        <td>43</td>\n",
       "    </tr>\n",
       "</table>"
      ],
      "text/plain": [
       "[('Joao', 'Sousa', 43)]"
      ]
     },
     "execution_count": 39,
     "metadata": {},
     "output_type": "execute_result"
    }
   ],
   "source": [
    "%%sql\n",
    "SELECT p.first_name, p.last_name, COUNT(DISTINCT tournament_id) AS part_tourn\n",
    "FROM matches m\n",
    "JOIN players p\n",
    "ON m.player_id = p.player_id\n",
    "WHERE m.season >= 2016\n",
    "GROUP BY p.first_name, p.last_name\n",
    "ORDER BY part_tourn DESC\n",
    "LIMIT 1;"
   ]
  },
  {
   "cell_type": "code",
   "execution_count": 40,
   "metadata": {},
   "outputs": [
    {
     "name": "stdout",
     "output_type": "stream",
     "text": [
      " * postgresql://postgres:***@db\n",
      "1 rows affected.\n"
     ]
    },
    {
     "data": {
      "text/html": [
       "<table>\n",
       "    <tr>\n",
       "        <th>name</th>\n",
       "        <th>num_matches</th>\n",
       "    </tr>\n",
       "    <tr>\n",
       "        <td>Australian Chps.</td>\n",
       "        <td>381</td>\n",
       "    </tr>\n",
       "</table>"
      ],
      "text/plain": [
       "[('Australian Chps.', 381)]"
      ]
     },
     "execution_count": 40,
     "metadata": {},
     "output_type": "execute_result"
    }
   ],
   "source": [
    "%%sql\n",
    "SELECT t.name, COUNT(DISTINCT m.match_id) AS num_matches\n",
    "FROM matches m\n",
    "JOIN tournaments t\n",
    "ON m.tournament_id = t.tournament_id\n",
    "WHERE season >= 2015\n",
    "GROUP BY t.tournament_id\n",
    "ORDER BY num_matches DESC\n",
    "LIMIT 1;"
   ]
  },
  {
   "cell_type": "code",
   "execution_count": 41,
   "metadata": {},
   "outputs": [
    {
     "name": "stdout",
     "output_type": "stream",
     "text": [
      " * postgresql://postgres:***@db\n",
      "1 rows affected.\n"
     ]
    },
    {
     "data": {
      "text/html": [
       "<table>\n",
       "    <tr>\n",
       "        <th>country_id</th>\n",
       "        <th>avg_age</th>\n",
       "    </tr>\n",
       "    <tr>\n",
       "        <td>PNG</td>\n",
       "        <td>16396 days, 0:00:00</td>\n",
       "    </tr>\n",
       "</table>"
      ],
      "text/plain": [
       "[('PNG', datetime.timedelta(days=16396))]"
      ]
     },
     "execution_count": 41,
     "metadata": {},
     "output_type": "execute_result"
    }
   ],
   "source": [
    "%%sql\n",
    "SELECT country_id, AVG(AGE(dob)) AS avg_age\n",
    "FROM players\n",
    "GROUP BY country_id\n",
    "ORDER BY avg_age DESC\n",
    "LIMIT 1;"
   ]
  },
  {
   "cell_type": "code",
   "execution_count": 42,
   "metadata": {},
   "outputs": [
    {
     "name": "stdout",
     "output_type": "stream",
     "text": [
      " * postgresql://postgres:***@db\n",
      "1 rows affected.\n"
     ]
    },
    {
     "data": {
      "text/html": [
       "<table>\n",
       "    <tr>\n",
       "        <th>season</th>\n",
       "        <th>num_part_players</th>\n",
       "    </tr>\n",
       "    <tr>\n",
       "        <td>2016</td>\n",
       "        <td>404</td>\n",
       "    </tr>\n",
       "</table>"
      ],
      "text/plain": [
       "[(2016, 404)]"
      ]
     },
     "execution_count": 42,
     "metadata": {},
     "output_type": "execute_result"
    }
   ],
   "source": [
    "%%sql\n",
    "SELECT season, COUNT(DISTINCT player_id) AS num_part_players\n",
    "FROM matches\n",
    "WHERE season >= 2015\n",
    "GROUP BY season\n",
    "ORDER BY num_part_players DESC\n",
    "LIMIT 1;"
   ]
  },
  {
   "cell_type": "markdown",
   "metadata": {},
   "source": [
    "---"
   ]
  },
  {
   "cell_type": "markdown",
   "metadata": {},
   "source": [
    "# Round 4"
   ]
  },
  {
   "cell_type": "code",
   "execution_count": 43,
   "metadata": {},
   "outputs": [
    {
     "name": "stdout",
     "output_type": "stream",
     "text": [
      " * postgresql://postgres:***@db\n",
      "1 rows affected.\n"
     ]
    },
    {
     "data": {
      "text/html": [
       "<table>\n",
       "    <tr>\n",
       "        <th>first_name</th>\n",
       "    </tr>\n",
       "    <tr>\n",
       "        <td>Gael</td>\n",
       "    </tr>\n",
       "</table>"
      ],
      "text/plain": [
       "[('Gael',)]"
      ]
     },
     "execution_count": 43,
     "metadata": {},
     "output_type": "execute_result"
    }
   ],
   "source": [
    "%%sql\n",
    "SELECT first_name\n",
    "FROM players p\n",
    "JOIN matches m\n",
    "ON m.player_id = p.player_id\n",
    "JOIN tournaments t\n",
    "ON m.tournament_id = t.tournament_id\n",
    "WHERE t.name = 'London'\n",
    "ORDER BY dob DESC\n",
    "LIMIT 1;"
   ]
  },
  {
   "cell_type": "code",
   "execution_count": 44,
   "metadata": {},
   "outputs": [
    {
     "name": "stdout",
     "output_type": "stream",
     "text": [
      " * postgresql://postgres:***@db\n",
      "(psycopg2.errors.SyntaxError) syntax error at or near \"LIMIT\"\n",
      "LINE 1: LIMIT 10;\n",
      "        ^\n",
      "\n",
      "[SQL: LIMIT 10;]\n",
      "(Background on this error at: https://sqlalche.me/e/14/f405)\n"
     ]
    }
   ],
   "source": [
    "%%sql\n",
    "\n",
    "LIMIT 10;"
   ]
  },
  {
   "cell_type": "code",
   "execution_count": 45,
   "metadata": {},
   "outputs": [
    {
     "name": "stdout",
     "output_type": "stream",
     "text": [
      " * postgresql://postgres:***@db\n",
      "3 rows affected.\n"
     ]
    },
    {
     "data": {
      "text/html": [
       "<table>\n",
       "    <tr>\n",
       "        <th>player_id</th>\n",
       "        <th>first_name</th>\n",
       "        <th>last_name</th>\n",
       "        <th>dob</th>\n",
       "        <th>country_id</th>\n",
       "        <th>rank_date</th>\n",
       "        <th>player_id_1</th>\n",
       "        <th>rank</th>\n",
       "        <th>rank_points</th>\n",
       "    </tr>\n",
       "    <tr>\n",
       "        <td>3819</td>\n",
       "        <td>Roger</td>\n",
       "        <td>Federer</td>\n",
       "        <td>1981-08-08</td>\n",
       "        <td>SUI</td>\n",
       "        <td>2005-08-08</td>\n",
       "        <td>3819</td>\n",
       "        <td>1</td>\n",
       "        <td>6500</td>\n",
       "    </tr>\n",
       "    <tr>\n",
       "        <td>3819</td>\n",
       "        <td>Roger</td>\n",
       "        <td>Federer</td>\n",
       "        <td>1981-08-08</td>\n",
       "        <td>SUI</td>\n",
       "        <td>2011-08-08</td>\n",
       "        <td>3819</td>\n",
       "        <td>3</td>\n",
       "        <td>9710</td>\n",
       "    </tr>\n",
       "    <tr>\n",
       "        <td>3819</td>\n",
       "        <td>Roger</td>\n",
       "        <td>Federer</td>\n",
       "        <td>1981-08-08</td>\n",
       "        <td>SUI</td>\n",
       "        <td>2016-08-08</td>\n",
       "        <td>3819</td>\n",
       "        <td>3</td>\n",
       "        <td>5945</td>\n",
       "    </tr>\n",
       "</table>"
      ],
      "text/plain": [
       "[(3819, 'Roger', 'Federer', datetime.date(1981, 8, 8), 'SUI', datetime.date(2005, 8, 8), 3819, 1, 6500),\n",
       " (3819, 'Roger', 'Federer', datetime.date(1981, 8, 8), 'SUI', datetime.date(2011, 8, 8), 3819, 3, 9710),\n",
       " (3819, 'Roger', 'Federer', datetime.date(1981, 8, 8), 'SUI', datetime.date(2016, 8, 8), 3819, 3, 5945)]"
      ]
     },
     "execution_count": 45,
     "metadata": {},
     "output_type": "execute_result"
    }
   ],
   "source": [
    "%%sql\n",
    "SELECT *\n",
    "FROM players p\n",
    "JOIN ranking r\n",
    "ON r.player_id = p.player_id\n",
    "WHERE p.first_name = 'Roger' AND p.last_name = 'Federer' AND EXTRACT(month FROM rank_date) = 8 AND EXTRACT(day FROM rank_date) = 8\n",
    "LIMIT 10;"
   ]
  },
  {
   "cell_type": "code",
   "execution_count": 46,
   "metadata": {},
   "outputs": [
    {
     "name": "stdout",
     "output_type": "stream",
     "text": [
      " * postgresql://postgres:***@db\n",
      "1 rows affected.\n"
     ]
    },
    {
     "data": {
      "text/html": [
       "<table>\n",
       "    <tr>\n",
       "        <th>sum</th>\n",
       "    </tr>\n",
       "    <tr>\n",
       "        <td>3673</td>\n",
       "    </tr>\n",
       "</table>"
      ],
      "text/plain": [
       "[(3673,)]"
      ]
     },
     "execution_count": 46,
     "metadata": {},
     "output_type": "execute_result"
    }
   ],
   "source": [
    "%%sql\n",
    "SELECT SUM(minutes)\n",
    "FROM \n",
    "    (SELECT DISTINCT match_id, minutes\n",
    "    FROM matches m\n",
    "    JOIN players p\n",
    "    ON m.player_id = p.player_id\n",
    "    WHERE dob >= '1989-01-01'\n",
    "    ORDER BY minutes DESC\n",
    "    LIMIT 10)"
   ]
  },
  {
   "cell_type": "code",
   "execution_count": 47,
   "metadata": {},
   "outputs": [
    {
     "name": "stdout",
     "output_type": "stream",
     "text": [
      " * postgresql://postgres:***@db\n",
      "1 rows affected.\n"
     ]
    },
    {
     "data": {
      "text/html": [
       "<table>\n",
       "    <tr>\n",
       "        <th>country_id</th>\n",
       "        <th>win_rate</th>\n",
       "    </tr>\n",
       "    <tr>\n",
       "        <td>SUI</td>\n",
       "        <td>0.71</td>\n",
       "    </tr>\n",
       "</table>"
      ],
      "text/plain": [
       "[('SUI', Decimal('0.71'))]"
      ]
     },
     "execution_count": 47,
     "metadata": {},
     "output_type": "execute_result"
    }
   ],
   "source": [
    "%%sql\n",
    "SELECT country_id, ROUND(AVG(p_matches),2) AS win_rate\n",
    "FROM players p\n",
    "JOIN matches m\n",
    "ON p.player_id = m.player_id\n",
    "GROUP BY country_id\n",
    "HAVING COUNT(DISTINCT p.player_id) >= 3\n",
    "ORDER BY win_rate DESC\n",
    "LIMIT 1;"
   ]
  },
  {
   "cell_type": "code",
   "execution_count": 48,
   "metadata": {},
   "outputs": [
    {
     "name": "stdout",
     "output_type": "stream",
     "text": [
      " * postgresql://postgres:***@db\n",
      "1 rows affected.\n"
     ]
    },
    {
     "data": {
      "text/html": [
       "<table>\n",
       "    <tr>\n",
       "        <th>name</th>\n",
       "        <th>age_gap</th>\n",
       "    </tr>\n",
       "    <tr>\n",
       "        <td>Davis Cup G1</td>\n",
       "        <td>7768</td>\n",
       "    </tr>\n",
       "</table>"
      ],
      "text/plain": [
       "[('Davis Cup G1', 7768)]"
      ]
     },
     "execution_count": 48,
     "metadata": {},
     "output_type": "execute_result"
    }
   ],
   "source": [
    "%%sql\n",
    "SELECT t.name, MAX(dob) - MIN(dob) AS age_gap\n",
    "FROM matches m\n",
    "JOIN players p\n",
    "ON p.player_id = m.player_id\n",
    "JOIN tournaments t\n",
    "ON m.tournament_id = t.tournament_id\n",
    "GROUP BY t.name\n",
    "ORDER BY age_gap DESC\n",
    "LIMIT 1;"
   ]
  },
  {
   "cell_type": "code",
   "execution_count": 49,
   "metadata": {},
   "outputs": [
    {
     "name": "stdout",
     "output_type": "stream",
     "text": [
      " * postgresql://postgres:***@db\n",
      "10 rows affected.\n"
     ]
    },
    {
     "data": {
      "text/html": [
       "<table>\n",
       "    <tr>\n",
       "        <th>player_id</th>\n",
       "        <th>tot_won</th>\n",
       "    </tr>\n",
       "    <tr>\n",
       "        <td>4913</td>\n",
       "        <td>137</td>\n",
       "    </tr>\n",
       "    <tr>\n",
       "        <td>4742</td>\n",
       "        <td>135</td>\n",
       "    </tr>\n",
       "    <tr>\n",
       "        <td>4920</td>\n",
       "        <td>135</td>\n",
       "    </tr>\n",
       "    <tr>\n",
       "        <td>6219</td>\n",
       "        <td>123</td>\n",
       "    </tr>\n",
       "    <tr>\n",
       "        <td>5442</td>\n",
       "        <td>120</td>\n",
       "    </tr>\n",
       "    <tr>\n",
       "        <td>5131</td>\n",
       "        <td>118</td>\n",
       "    </tr>\n",
       "    <tr>\n",
       "        <td>5663</td>\n",
       "        <td>112</td>\n",
       "    </tr>\n",
       "    <tr>\n",
       "        <td>4606</td>\n",
       "        <td>108</td>\n",
       "    </tr>\n",
       "    <tr>\n",
       "        <td>5763</td>\n",
       "        <td>103</td>\n",
       "    </tr>\n",
       "    <tr>\n",
       "        <td>4526</td>\n",
       "        <td>101</td>\n",
       "    </tr>\n",
       "</table>"
      ],
      "text/plain": [
       "[(4913, 137),\n",
       " (4742, 135),\n",
       " (4920, 135),\n",
       " (6219, 123),\n",
       " (5442, 120),\n",
       " (5131, 118),\n",
       " (5663, 112),\n",
       " (4606, 108),\n",
       " (5763, 103),\n",
       " (4526, 101)]"
      ]
     },
     "execution_count": 49,
     "metadata": {},
     "output_type": "execute_result"
    }
   ],
   "source": [
    "%%sql\n",
    "SELECT player_id, SUM(p_matches) AS tot_won\n",
    "FROM matches\n",
    "WHERE season >= 2015\n",
    "GROUP BY player_id\n",
    "ORDER BY tot_won DESC\n",
    "LIMIT 10;"
   ]
  },
  {
   "cell_type": "code",
   "execution_count": 50,
   "metadata": {},
   "outputs": [
    {
     "name": "stdout",
     "output_type": "stream",
     "text": [
      " * postgresql://postgres:***@db\n",
      "1 rows affected.\n"
     ]
    },
    {
     "data": {
      "text/html": [
       "<table>\n",
       "    <tr>\n",
       "        <th>first_name</th>\n",
       "        <th>last_name</th>\n",
       "        <th>part</th>\n",
       "    </tr>\n",
       "    <tr>\n",
       "        <td>Joao</td>\n",
       "        <td>Sousa</td>\n",
       "        <td>43</td>\n",
       "    </tr>\n",
       "</table>"
      ],
      "text/plain": [
       "[('Joao', 'Sousa', 43)]"
      ]
     },
     "execution_count": 50,
     "metadata": {},
     "output_type": "execute_result"
    }
   ],
   "source": [
    "%%sql\n",
    "SELECT p.first_name, p.last_name, COUNT(DISTINCT tournament_id) AS part\n",
    "FROM players p\n",
    "JOIN matches m\n",
    "ON p.player_id = m.player_id\n",
    "WHERE season >= 2016\n",
    "GROUP BY p.first_name, p.last_name\n",
    "ORDER BY part DESC\n",
    "LIMIT 1;"
   ]
  },
  {
   "cell_type": "code",
   "execution_count": 51,
   "metadata": {},
   "outputs": [
    {
     "name": "stdout",
     "output_type": "stream",
     "text": [
      " * postgresql://postgres:***@db\n",
      "1 rows affected.\n"
     ]
    },
    {
     "data": {
      "text/html": [
       "<table>\n",
       "    <tr>\n",
       "        <th>name</th>\n",
       "        <th>num_match</th>\n",
       "    </tr>\n",
       "    <tr>\n",
       "        <td>Australian Chps.</td>\n",
       "        <td>381</td>\n",
       "    </tr>\n",
       "</table>"
      ],
      "text/plain": [
       "[('Australian Chps.', 381)]"
      ]
     },
     "execution_count": 51,
     "metadata": {},
     "output_type": "execute_result"
    }
   ],
   "source": [
    "%%sql\n",
    "SELECT t.name, COUNT(DISTINCT m.match_id) AS num_match\n",
    "FROM tournaments t\n",
    "JOIN matches m\n",
    "ON t.tournament_id = m.tournament_id\n",
    "WHERE season >= 2015\n",
    "GROUP BY t.name\n",
    "ORDER BY num_match DESC\n",
    "LIMIT 1;"
   ]
  },
  {
   "cell_type": "code",
   "execution_count": 52,
   "metadata": {},
   "outputs": [
    {
     "name": "stdout",
     "output_type": "stream",
     "text": [
      " * postgresql://postgres:***@db\n",
      "1 rows affected.\n"
     ]
    },
    {
     "data": {
      "text/html": [
       "<table>\n",
       "    <tr>\n",
       "        <th>country_id</th>\n",
       "        <th>avg_age</th>\n",
       "    </tr>\n",
       "    <tr>\n",
       "        <td>PNG</td>\n",
       "        <td>16396 days, 0:00:00</td>\n",
       "    </tr>\n",
       "</table>"
      ],
      "text/plain": [
       "[('PNG', datetime.timedelta(days=16396))]"
      ]
     },
     "execution_count": 52,
     "metadata": {},
     "output_type": "execute_result"
    }
   ],
   "source": [
    "%%sql\n",
    "SELECT country_id, AVG(AGE(dob)) AS avg_age\n",
    "FROM players\n",
    "GROUP BY country_id\n",
    "ORDER BY avg_age DESC\n",
    "LIMIT 1;"
   ]
  },
  {
   "cell_type": "code",
   "execution_count": 53,
   "metadata": {},
   "outputs": [
    {
     "name": "stdout",
     "output_type": "stream",
     "text": [
      " * postgresql://postgres:***@db\n",
      "1 rows affected.\n"
     ]
    },
    {
     "data": {
      "text/html": [
       "<table>\n",
       "    <tr>\n",
       "        <th>season</th>\n",
       "        <th>tot_part</th>\n",
       "    </tr>\n",
       "    <tr>\n",
       "        <td>2016</td>\n",
       "        <td>404</td>\n",
       "    </tr>\n",
       "</table>"
      ],
      "text/plain": [
       "[(2016, 404)]"
      ]
     },
     "execution_count": 53,
     "metadata": {},
     "output_type": "execute_result"
    }
   ],
   "source": [
    "%%sql\n",
    "SELECT season, COUNT(DISTINCT player_id) AS tot_part\n",
    "FROM matches\n",
    "WHERE season >= 2015\n",
    "GROUP BY season\n",
    "ORDER BY tot_part DESC\n",
    "LIMIT 1;"
   ]
  },
  {
   "cell_type": "markdown",
   "metadata": {},
   "source": [
    "---"
   ]
  },
  {
   "cell_type": "markdown",
   "metadata": {},
   "source": [
    "# Round 5"
   ]
  },
  {
   "cell_type": "code",
   "execution_count": 54,
   "metadata": {},
   "outputs": [
    {
     "name": "stdout",
     "output_type": "stream",
     "text": [
      " * postgresql://postgres:***@db\n",
      "1 rows affected.\n"
     ]
    },
    {
     "data": {
      "text/html": [
       "<table>\n",
       "    <tr>\n",
       "        <th>first_name</th>\n",
       "    </tr>\n",
       "    <tr>\n",
       "        <td>Gael</td>\n",
       "    </tr>\n",
       "</table>"
      ],
      "text/plain": [
       "[('Gael',)]"
      ]
     },
     "execution_count": 54,
     "metadata": {},
     "output_type": "execute_result"
    }
   ],
   "source": [
    "%%sql\n",
    "SELECT first_name\n",
    "FROM players p\n",
    "JOIN matches m\n",
    "ON p.player_id = m.player_id\n",
    "JOIN tournaments t\n",
    "ON t.tournament_id = m.tournament_id\n",
    "WHERE t.name = 'London'\n",
    "ORDER BY p.dob DESC\n",
    "LIMIT 1;"
   ]
  },
  {
   "cell_type": "code",
   "execution_count": 55,
   "metadata": {},
   "outputs": [
    {
     "name": "stdout",
     "output_type": "stream",
     "text": [
      " * postgresql://postgres:***@db\n",
      "3 rows affected.\n"
     ]
    },
    {
     "data": {
      "text/html": [
       "<table>\n",
       "    <tr>\n",
       "        <th>player_id</th>\n",
       "        <th>first_name</th>\n",
       "        <th>last_name</th>\n",
       "        <th>dob</th>\n",
       "        <th>country_id</th>\n",
       "        <th>rank_date</th>\n",
       "        <th>player_id_1</th>\n",
       "        <th>rank</th>\n",
       "        <th>rank_points</th>\n",
       "    </tr>\n",
       "    <tr>\n",
       "        <td>3819</td>\n",
       "        <td>Roger</td>\n",
       "        <td>Federer</td>\n",
       "        <td>1981-08-08</td>\n",
       "        <td>SUI</td>\n",
       "        <td>2005-08-08</td>\n",
       "        <td>3819</td>\n",
       "        <td>1</td>\n",
       "        <td>6500</td>\n",
       "    </tr>\n",
       "    <tr>\n",
       "        <td>3819</td>\n",
       "        <td>Roger</td>\n",
       "        <td>Federer</td>\n",
       "        <td>1981-08-08</td>\n",
       "        <td>SUI</td>\n",
       "        <td>2011-08-08</td>\n",
       "        <td>3819</td>\n",
       "        <td>3</td>\n",
       "        <td>9710</td>\n",
       "    </tr>\n",
       "    <tr>\n",
       "        <td>3819</td>\n",
       "        <td>Roger</td>\n",
       "        <td>Federer</td>\n",
       "        <td>1981-08-08</td>\n",
       "        <td>SUI</td>\n",
       "        <td>2016-08-08</td>\n",
       "        <td>3819</td>\n",
       "        <td>3</td>\n",
       "        <td>5945</td>\n",
       "    </tr>\n",
       "</table>"
      ],
      "text/plain": [
       "[(3819, 'Roger', 'Federer', datetime.date(1981, 8, 8), 'SUI', datetime.date(2005, 8, 8), 3819, 1, 6500),\n",
       " (3819, 'Roger', 'Federer', datetime.date(1981, 8, 8), 'SUI', datetime.date(2011, 8, 8), 3819, 3, 9710),\n",
       " (3819, 'Roger', 'Federer', datetime.date(1981, 8, 8), 'SUI', datetime.date(2016, 8, 8), 3819, 3, 5945)]"
      ]
     },
     "execution_count": 55,
     "metadata": {},
     "output_type": "execute_result"
    }
   ],
   "source": [
    "%%sql\n",
    "SELECT *\n",
    "FROM players p\n",
    "JOIN ranking r\n",
    "ON p.player_id = r.player_id\n",
    "WHERE first_name = 'Roger' AND last_name = 'Federer' AND EXTRACT(month FROM rank_date) = 8 AND EXTRACT(day FROM rank_date) = 8\n",
    "LIMIT 10;"
   ]
  },
  {
   "cell_type": "code",
   "execution_count": 56,
   "metadata": {},
   "outputs": [
    {
     "name": "stdout",
     "output_type": "stream",
     "text": [
      " * postgresql://postgres:***@db\n",
      "1 rows affected.\n"
     ]
    },
    {
     "data": {
      "text/html": [
       "<table>\n",
       "    <tr>\n",
       "        <th>sum</th>\n",
       "    </tr>\n",
       "    <tr>\n",
       "        <td>3673</td>\n",
       "    </tr>\n",
       "</table>"
      ],
      "text/plain": [
       "[(3673,)]"
      ]
     },
     "execution_count": 56,
     "metadata": {},
     "output_type": "execute_result"
    }
   ],
   "source": [
    "%%sql\n",
    "SELECT SUM(minutes)\n",
    "FROM \n",
    "    (SELECT DISTINCT m.match_id, minutes\n",
    "    FROM matches m\n",
    "    JOIN players p\n",
    "    ON m.player_id = p.player_id\n",
    "    WHERE p.dob >= '1989-01-01'\n",
    "    ORDER BY minutes DESC\n",
    "    LIMIT 10);"
   ]
  },
  {
   "cell_type": "code",
   "execution_count": 57,
   "metadata": {},
   "outputs": [
    {
     "name": "stdout",
     "output_type": "stream",
     "text": [
      " * postgresql://postgres:***@db\n",
      "1 rows affected.\n"
     ]
    },
    {
     "data": {
      "text/html": [
       "<table>\n",
       "    <tr>\n",
       "        <th>country_id</th>\n",
       "        <th>win_rate</th>\n",
       "    </tr>\n",
       "    <tr>\n",
       "        <td>SUI</td>\n",
       "        <td>0.71</td>\n",
       "    </tr>\n",
       "</table>"
      ],
      "text/plain": [
       "[('SUI', Decimal('0.71'))]"
      ]
     },
     "execution_count": 57,
     "metadata": {},
     "output_type": "execute_result"
    }
   ],
   "source": [
    "%%sql\n",
    "SELECT country_id, ROUND(AVG(p_matches),2) AS win_rate\n",
    "FROM players p\n",
    "JOIN matches m\n",
    "ON p.player_id = m.player_id\n",
    "GROUP BY p.country_id\n",
    "HAVING COUNT(DISTINCT m.player_id) > 3\n",
    "ORDER BY win_rate DESC\n",
    "LIMIT 1;"
   ]
  },
  {
   "cell_type": "code",
   "execution_count": 58,
   "metadata": {},
   "outputs": [
    {
     "name": "stdout",
     "output_type": "stream",
     "text": [
      " * postgresql://postgres:***@db\n",
      "1 rows affected.\n"
     ]
    },
    {
     "data": {
      "text/html": [
       "<table>\n",
       "    <tr>\n",
       "        <th>name</th>\n",
       "        <th>age_gap</th>\n",
       "    </tr>\n",
       "    <tr>\n",
       "        <td>Davis Cup G1</td>\n",
       "        <td>7768</td>\n",
       "    </tr>\n",
       "</table>"
      ],
      "text/plain": [
       "[('Davis Cup G1', 7768)]"
      ]
     },
     "execution_count": 58,
     "metadata": {},
     "output_type": "execute_result"
    }
   ],
   "source": [
    "%%sql\n",
    "SELECT t.name, ABS(MIN(dob) - MAX(dob)) AS age_gap\n",
    "FROM tournaments t\n",
    "JOIN matches m\n",
    "ON t.tournament_id = m.tournament_id\n",
    "JOIN players p\n",
    "ON m.player_id = p.player_id\n",
    "GROUP BY t.name\n",
    "ORDER BY age_gap DESC\n",
    "LIMIT 1;"
   ]
  },
  {
   "cell_type": "code",
   "execution_count": 59,
   "metadata": {},
   "outputs": [
    {
     "name": "stdout",
     "output_type": "stream",
     "text": [
      " * postgresql://postgres:***@db\n",
      "1 rows affected.\n"
     ]
    },
    {
     "data": {
      "text/html": [
       "<table>\n",
       "    <tr>\n",
       "        <th>player_id</th>\n",
       "        <th>tot_won</th>\n",
       "    </tr>\n",
       "    <tr>\n",
       "        <td>4913</td>\n",
       "        <td>137</td>\n",
       "    </tr>\n",
       "</table>"
      ],
      "text/plain": [
       "[(4913, 137)]"
      ]
     },
     "execution_count": 59,
     "metadata": {},
     "output_type": "execute_result"
    }
   ],
   "source": [
    "%%sql\n",
    "SELECT player_id, SUM(p_matches) AS tot_won\n",
    "FROM matches\n",
    "WHERE season >= 2015\n",
    "GROUP by player_id\n",
    "ORDER BY tot_won DESC\n",
    "LIMIT 1;"
   ]
  },
  {
   "cell_type": "code",
   "execution_count": 60,
   "metadata": {},
   "outputs": [
    {
     "name": "stdout",
     "output_type": "stream",
     "text": [
      " * postgresql://postgres:***@db\n",
      "1 rows affected.\n"
     ]
    },
    {
     "data": {
      "text/html": [
       "<table>\n",
       "    <tr>\n",
       "        <th>player_id</th>\n",
       "        <th>first_name</th>\n",
       "        <th>last_name</th>\n",
       "        <th>part_tour</th>\n",
       "    </tr>\n",
       "    <tr>\n",
       "        <td>5303</td>\n",
       "        <td>Joao</td>\n",
       "        <td>Sousa</td>\n",
       "        <td>43</td>\n",
       "    </tr>\n",
       "</table>"
      ],
      "text/plain": [
       "[(5303, 'Joao', 'Sousa', 43)]"
      ]
     },
     "execution_count": 60,
     "metadata": {},
     "output_type": "execute_result"
    }
   ],
   "source": [
    "%%sql\n",
    "SELECT p.player_id, p.first_name, p.last_name, COUNT(DISTINCT m.tournament_id) AS part_tour\n",
    "FROM players p\n",
    "JOIN matches m\n",
    "ON p.player_id = m.player_id\n",
    "WHERE season >= 2016\n",
    "GROUP BY p.player_id, p.first_name, p.last_name\n",
    "ORDER BY part_tour DESC\n",
    "LIMIT 1;"
   ]
  },
  {
   "cell_type": "code",
   "execution_count": 61,
   "metadata": {},
   "outputs": [
    {
     "name": "stdout",
     "output_type": "stream",
     "text": [
      " * postgresql://postgres:***@db\n",
      "1 rows affected.\n"
     ]
    },
    {
     "data": {
      "text/html": [
       "<table>\n",
       "    <tr>\n",
       "        <th>name</th>\n",
       "        <th>tot_matches</th>\n",
       "    </tr>\n",
       "    <tr>\n",
       "        <td>Australian Chps.</td>\n",
       "        <td>381</td>\n",
       "    </tr>\n",
       "</table>"
      ],
      "text/plain": [
       "[('Australian Chps.', 381)]"
      ]
     },
     "execution_count": 61,
     "metadata": {},
     "output_type": "execute_result"
    }
   ],
   "source": [
    "%%sql\n",
    "SELECT t.name, COUNT(DISTINCT m.match_id) AS tot_matches\n",
    "FROM tournaments t\n",
    "JOIN matches m\n",
    "ON t.tournament_id = m.tournament_id\n",
    "WHERE m.season >= 2015\n",
    "GROUP BY t.name\n",
    "ORDER BY tot_matches DESC\n",
    "LIMIT 1;"
   ]
  },
  {
   "cell_type": "code",
   "execution_count": 62,
   "metadata": {},
   "outputs": [
    {
     "name": "stdout",
     "output_type": "stream",
     "text": [
      " * postgresql://postgres:***@db\n",
      "1 rows affected.\n"
     ]
    },
    {
     "data": {
      "text/html": [
       "<table>\n",
       "    <tr>\n",
       "        <th>country_id</th>\n",
       "        <th>avg_age</th>\n",
       "    </tr>\n",
       "    <tr>\n",
       "        <td>PNG</td>\n",
       "        <td>16396 days, 0:00:00</td>\n",
       "    </tr>\n",
       "</table>"
      ],
      "text/plain": [
       "[('PNG', datetime.timedelta(days=16396))]"
      ]
     },
     "execution_count": 62,
     "metadata": {},
     "output_type": "execute_result"
    }
   ],
   "source": [
    "%%sql\n",
    "SELECT country_id, AVG(AGE(dob)) AS avg_age\n",
    "FROM players\n",
    "GROUP BY country_id\n",
    "ORDER BY avg_age DESC\n",
    "LIMIT 1;"
   ]
  },
  {
   "cell_type": "code",
   "execution_count": 63,
   "metadata": {},
   "outputs": [
    {
     "name": "stdout",
     "output_type": "stream",
     "text": [
      " * postgresql://postgres:***@db\n",
      "1 rows affected.\n"
     ]
    },
    {
     "data": {
      "text/html": [
       "<table>\n",
       "    <tr>\n",
       "        <th>season</th>\n",
       "        <th>tot_part</th>\n",
       "    </tr>\n",
       "    <tr>\n",
       "        <td>2016</td>\n",
       "        <td>404</td>\n",
       "    </tr>\n",
       "</table>"
      ],
      "text/plain": [
       "[(2016, 404)]"
      ]
     },
     "execution_count": 63,
     "metadata": {},
     "output_type": "execute_result"
    }
   ],
   "source": [
    "%%sql\n",
    "SELECT season, COUNT(DISTINCT player_id) AS tot_part\n",
    "FROM matches\n",
    "WHERE season >= 2015\n",
    "GROUP BY season\n",
    "ORDER BY tot_part DESC\n",
    "LIMIT 1;"
   ]
  },
  {
   "cell_type": "markdown",
   "metadata": {},
   "source": [
    "---"
   ]
  },
  {
   "cell_type": "markdown",
   "metadata": {},
   "source": [
    "# Round 6"
   ]
  },
  {
   "cell_type": "code",
   "execution_count": 64,
   "metadata": {},
   "outputs": [
    {
     "name": "stdout",
     "output_type": "stream",
     "text": [
      " * postgresql://postgres:***@db\n",
      "1 rows affected.\n"
     ]
    },
    {
     "data": {
      "text/html": [
       "<table>\n",
       "    <tr>\n",
       "        <th>first_name</th>\n",
       "    </tr>\n",
       "    <tr>\n",
       "        <td>Gael</td>\n",
       "    </tr>\n",
       "</table>"
      ],
      "text/plain": [
       "[('Gael',)]"
      ]
     },
     "execution_count": 64,
     "metadata": {},
     "output_type": "execute_result"
    }
   ],
   "source": [
    "%%sql\n",
    "SELECT first_name\n",
    "FROM players p\n",
    "JOIN matches m\n",
    "ON m.player_id = p.player_id\n",
    "JOIN tournaments t\n",
    "ON t.tournament_id = m.tournament_id\n",
    "WHERE t.name = 'London'\n",
    "ORDER BY dob DESC\n",
    "LIMIT 1;"
   ]
  },
  {
   "cell_type": "code",
   "execution_count": 65,
   "metadata": {},
   "outputs": [
    {
     "name": "stdout",
     "output_type": "stream",
     "text": [
      " * postgresql://postgres:***@db\n",
      "2 rows affected.\n"
     ]
    },
    {
     "data": {
      "text/html": [
       "<table>\n",
       "    <tr>\n",
       "        <th>rank</th>\n",
       "    </tr>\n",
       "    <tr>\n",
       "        <td>1</td>\n",
       "    </tr>\n",
       "    <tr>\n",
       "        <td>3</td>\n",
       "    </tr>\n",
       "</table>"
      ],
      "text/plain": [
       "[(1,), (3,)]"
      ]
     },
     "execution_count": 65,
     "metadata": {},
     "output_type": "execute_result"
    }
   ],
   "source": [
    "%%sql\n",
    "SELECT DISTINCT rank\n",
    "FROM players p\n",
    "JOIN ranking r\n",
    "ON r.player_id = p.player_id\n",
    "WHERE first_name = 'Roger' AND last_name = 'Federer' AND EXTRACT(day FROM rank_date) = 8 AND EXTRACT(month FROM rank_date) = 8\n",
    "LIMIT 10;"
   ]
  },
  {
   "cell_type": "code",
   "execution_count": 66,
   "metadata": {},
   "outputs": [
    {
     "name": "stdout",
     "output_type": "stream",
     "text": [
      " * postgresql://postgres:***@db\n",
      "1 rows affected.\n"
     ]
    },
    {
     "data": {
      "text/html": [
       "<table>\n",
       "    <tr>\n",
       "        <th>sum</th>\n",
       "    </tr>\n",
       "    <tr>\n",
       "        <td>3673</td>\n",
       "    </tr>\n",
       "</table>"
      ],
      "text/plain": [
       "[(3673,)]"
      ]
     },
     "execution_count": 66,
     "metadata": {},
     "output_type": "execute_result"
    }
   ],
   "source": [
    "%%sql\n",
    "SELECT SUM(minutes)\n",
    "FROM\n",
    "    (SELECT DISTINCT match_id, minutes\n",
    "    FROM players p\n",
    "    JOIN matches m\n",
    "    ON p.player_id = m.player_id\n",
    "    WHERE dob >= '1989-01-01'\n",
    "    ORDER BY minutes DESC\n",
    "    LIMIT 10)"
   ]
  },
  {
   "cell_type": "code",
   "execution_count": 67,
   "metadata": {},
   "outputs": [
    {
     "name": "stdout",
     "output_type": "stream",
     "text": [
      " * postgresql://postgres:***@db\n",
      "1 rows affected.\n"
     ]
    },
    {
     "data": {
      "text/html": [
       "<table>\n",
       "    <tr>\n",
       "        <th>country_id</th>\n",
       "        <th>avg_win</th>\n",
       "    </tr>\n",
       "    <tr>\n",
       "        <td>SUI</td>\n",
       "        <td>0.71</td>\n",
       "    </tr>\n",
       "</table>"
      ],
      "text/plain": [
       "[('SUI', Decimal('0.71'))]"
      ]
     },
     "execution_count": 67,
     "metadata": {},
     "output_type": "execute_result"
    }
   ],
   "source": [
    "%%sql\n",
    "SELECT country_id, ROUND(AVG(p_matches),2) AS avg_win\n",
    "FROM players p\n",
    "JOIN matches m\n",
    "ON p.player_id = m.player_id\n",
    "GROUP BY country_id\n",
    "HAVING COUNT(DISTINCT p.player_id) > 3\n",
    "ORDER BY avg_win DESC\n",
    "LIMIT 1;"
   ]
  },
  {
   "cell_type": "code",
   "execution_count": 68,
   "metadata": {},
   "outputs": [
    {
     "name": "stdout",
     "output_type": "stream",
     "text": [
      " * postgresql://postgres:***@db\n",
      "1 rows affected.\n"
     ]
    },
    {
     "data": {
      "text/html": [
       "<table>\n",
       "    <tr>\n",
       "        <th>name</th>\n",
       "        <th>age_gap</th>\n",
       "    </tr>\n",
       "    <tr>\n",
       "        <td>Davis Cup G1</td>\n",
       "        <td>7768</td>\n",
       "    </tr>\n",
       "</table>"
      ],
      "text/plain": [
       "[('Davis Cup G1', 7768)]"
      ]
     },
     "execution_count": 68,
     "metadata": {},
     "output_type": "execute_result"
    }
   ],
   "source": [
    "%%sql\n",
    "SELECT t.name, ABS(MAX(dob) - MIN(dob)) AS age_gap\n",
    "FROM matches m\n",
    "JOIN tournaments t\n",
    "ON t.tournament_id = m.tournament_id\n",
    "JOIN players p\n",
    "ON m.player_id = p.player_id\n",
    "GROUP BY t.name\n",
    "ORDER BY age_gap DESC\n",
    "LIMIT 1;"
   ]
  },
  {
   "cell_type": "code",
   "execution_count": 69,
   "metadata": {},
   "outputs": [
    {
     "name": "stdout",
     "output_type": "stream",
     "text": [
      " * postgresql://postgres:***@db\n",
      "1 rows affected.\n"
     ]
    },
    {
     "data": {
      "text/html": [
       "<table>\n",
       "    <tr>\n",
       "        <th>player_id</th>\n",
       "        <th>tot_won</th>\n",
       "    </tr>\n",
       "    <tr>\n",
       "        <td>4913</td>\n",
       "        <td>137</td>\n",
       "    </tr>\n",
       "</table>"
      ],
      "text/plain": [
       "[(4913, 137)]"
      ]
     },
     "execution_count": 69,
     "metadata": {},
     "output_type": "execute_result"
    }
   ],
   "source": [
    "%%sql\n",
    "SELECT player_id, COUNT(DISTINCT match_id) AS tot_won\n",
    "FROM matches\n",
    "WHERE season >= 2015 AND p_matches = 1\n",
    "GROUP BY player_id\n",
    "ORDER BY tot_won DESC\n",
    "LIMIT 1;"
   ]
  },
  {
   "cell_type": "code",
   "execution_count": 70,
   "metadata": {},
   "outputs": [
    {
     "name": "stdout",
     "output_type": "stream",
     "text": [
      " * postgresql://postgres:***@db\n",
      "1 rows affected.\n"
     ]
    },
    {
     "data": {
      "text/html": [
       "<table>\n",
       "    <tr>\n",
       "        <th>first_name</th>\n",
       "        <th>last_name</th>\n",
       "        <th>tour_part</th>\n",
       "    </tr>\n",
       "    <tr>\n",
       "        <td>Joao</td>\n",
       "        <td>Sousa</td>\n",
       "        <td>43</td>\n",
       "    </tr>\n",
       "</table>"
      ],
      "text/plain": [
       "[('Joao', 'Sousa', 43)]"
      ]
     },
     "execution_count": 70,
     "metadata": {},
     "output_type": "execute_result"
    }
   ],
   "source": [
    "%%sql\n",
    "SELECT p.first_name, p.last_name, COUNT(DISTINCT tournament_id) AS tour_part\n",
    "FROM matches m\n",
    "JOIN players p\n",
    "ON p.player_id = m.player_id\n",
    "WHERE season >= 2016\n",
    "GROUP BY p.first_name, p.last_name\n",
    "ORDER BY tour_part DESC\n",
    "LIMIT 1;"
   ]
  },
  {
   "cell_type": "code",
   "execution_count": 71,
   "metadata": {},
   "outputs": [
    {
     "name": "stdout",
     "output_type": "stream",
     "text": [
      " * postgresql://postgres:***@db\n",
      "1 rows affected.\n"
     ]
    },
    {
     "data": {
      "text/html": [
       "<table>\n",
       "    <tr>\n",
       "        <th>name</th>\n",
       "        <th>num_matches</th>\n",
       "    </tr>\n",
       "    <tr>\n",
       "        <td>Australian Chps.</td>\n",
       "        <td>381</td>\n",
       "    </tr>\n",
       "</table>"
      ],
      "text/plain": [
       "[('Australian Chps.', 381)]"
      ]
     },
     "execution_count": 71,
     "metadata": {},
     "output_type": "execute_result"
    }
   ],
   "source": [
    "%%sql\n",
    "SELECT t.name, COUNT(DISTINCT match_id) AS num_matches\n",
    "FROM tournaments t\n",
    "JOIN matches m\n",
    "ON t.tournament_id = m.tournament_id\n",
    "WHERE season >= 2015\n",
    "GROUP BY t.name\n",
    "ORDER BY num_matches DESC\n",
    "LIMIT 1;"
   ]
  },
  {
   "cell_type": "code",
   "execution_count": 72,
   "metadata": {},
   "outputs": [
    {
     "name": "stdout",
     "output_type": "stream",
     "text": [
      " * postgresql://postgres:***@db\n",
      "1 rows affected.\n"
     ]
    },
    {
     "data": {
      "text/html": [
       "<table>\n",
       "    <tr>\n",
       "        <th>country_id</th>\n",
       "        <th>avg_age</th>\n",
       "    </tr>\n",
       "    <tr>\n",
       "        <td>PNG</td>\n",
       "        <td>16396 days, 0:00:00</td>\n",
       "    </tr>\n",
       "</table>"
      ],
      "text/plain": [
       "[('PNG', datetime.timedelta(days=16396))]"
      ]
     },
     "execution_count": 72,
     "metadata": {},
     "output_type": "execute_result"
    }
   ],
   "source": [
    "%%sql\n",
    "SELECT country_id, AVG(AGE(dob)) AS avg_age\n",
    "FROM players\n",
    "GROUP BY country_id\n",
    "ORDER BY avg_age DESC\n",
    "LIMIT 1;"
   ]
  },
  {
   "cell_type": "code",
   "execution_count": 73,
   "metadata": {},
   "outputs": [
    {
     "name": "stdout",
     "output_type": "stream",
     "text": [
      " * postgresql://postgres:***@db\n",
      "1 rows affected.\n"
     ]
    },
    {
     "data": {
      "text/html": [
       "<table>\n",
       "    <tr>\n",
       "        <th>season</th>\n",
       "        <th>num_players</th>\n",
       "    </tr>\n",
       "    <tr>\n",
       "        <td>2016</td>\n",
       "        <td>404</td>\n",
       "    </tr>\n",
       "</table>"
      ],
      "text/plain": [
       "[(2016, 404)]"
      ]
     },
     "execution_count": 73,
     "metadata": {},
     "output_type": "execute_result"
    }
   ],
   "source": [
    "%%sql\n",
    "SELECT season, COUNT(DISTINCT player_id) AS num_players\n",
    "FROM matches\n",
    "WHERE season >= 2015\n",
    "GROUP BY season\n",
    "ORDER BY num_players DESC\n",
    "LIMIT 1;"
   ]
  },
  {
   "cell_type": "markdown",
   "metadata": {},
   "source": [
    "---"
   ]
  },
  {
   "cell_type": "markdown",
   "metadata": {},
   "source": [
    "# Round 7"
   ]
  },
  {
   "cell_type": "code",
   "execution_count": 74,
   "metadata": {},
   "outputs": [
    {
     "name": "stdout",
     "output_type": "stream",
     "text": [
      " * postgresql://postgres:***@db\n",
      "1 rows affected.\n"
     ]
    },
    {
     "data": {
      "text/html": [
       "<table>\n",
       "    <tr>\n",
       "        <th>first_name</th>\n",
       "    </tr>\n",
       "    <tr>\n",
       "        <td>Gael</td>\n",
       "    </tr>\n",
       "</table>"
      ],
      "text/plain": [
       "[('Gael',)]"
      ]
     },
     "execution_count": 74,
     "metadata": {},
     "output_type": "execute_result"
    }
   ],
   "source": [
    "%%sql\n",
    "SELECT first_name\n",
    "FROM players p\n",
    "JOIN matches m\n",
    "ON p.player_id = m.player_id\n",
    "JOIN tournaments t\n",
    "ON t.tournament_id = m.tournament_id\n",
    "WHERE t.name = 'London'\n",
    "ORDER BY dob DESC\n",
    "LIMIt 1;"
   ]
  },
  {
   "cell_type": "code",
   "execution_count": 75,
   "metadata": {},
   "outputs": [
    {
     "name": "stdout",
     "output_type": "stream",
     "text": [
      " * postgresql://postgres:***@db\n",
      "2 rows affected.\n"
     ]
    },
    {
     "data": {
      "text/html": [
       "<table>\n",
       "    <tr>\n",
       "        <th>rank</th>\n",
       "    </tr>\n",
       "    <tr>\n",
       "        <td>1</td>\n",
       "    </tr>\n",
       "    <tr>\n",
       "        <td>3</td>\n",
       "    </tr>\n",
       "</table>"
      ],
      "text/plain": [
       "[(1,), (3,)]"
      ]
     },
     "execution_count": 75,
     "metadata": {},
     "output_type": "execute_result"
    }
   ],
   "source": [
    "%%sql\n",
    "SELECT DISTINCT rank\n",
    "FROM players p\n",
    "JOIN ranking r\n",
    "ON p.player_id = r.player_id\n",
    "WHERE first_name = 'Roger' AND last_name = 'Federer' AND EXTRACT(DAY FROM rank_date) = 8 AND EXTRACT(MONTH FROM rank_date) = 8\n",
    "LIMIT 10;"
   ]
  },
  {
   "cell_type": "code",
   "execution_count": 76,
   "metadata": {},
   "outputs": [
    {
     "name": "stdout",
     "output_type": "stream",
     "text": [
      " * postgresql://postgres:***@db\n",
      "1 rows affected.\n"
     ]
    },
    {
     "data": {
      "text/html": [
       "<table>\n",
       "    <tr>\n",
       "        <th>sum</th>\n",
       "    </tr>\n",
       "    <tr>\n",
       "        <td>3673</td>\n",
       "    </tr>\n",
       "</table>"
      ],
      "text/plain": [
       "[(3673,)]"
      ]
     },
     "execution_count": 76,
     "metadata": {},
     "output_type": "execute_result"
    }
   ],
   "source": [
    "%%sql\n",
    "SELECT SUM(minutes)\n",
    "FROM \n",
    "    (SELECT DISTINCT match_id, minutes\n",
    "    FROM matches m\n",
    "    JOIN players p\n",
    "    ON p.player_id = m.player_id\n",
    "    WHERE dob >= '1989-01-01'\n",
    "    ORDER BY minutes DESC\n",
    "    LIMIT 10)"
   ]
  },
  {
   "cell_type": "code",
   "execution_count": 77,
   "metadata": {},
   "outputs": [
    {
     "name": "stdout",
     "output_type": "stream",
     "text": [
      " * postgresql://postgres:***@db\n",
      "1 rows affected.\n"
     ]
    },
    {
     "data": {
      "text/html": [
       "<table>\n",
       "    <tr>\n",
       "        <th>country_id</th>\n",
       "        <th>avg_out</th>\n",
       "    </tr>\n",
       "    <tr>\n",
       "        <td>SUI</td>\n",
       "        <td>0.71</td>\n",
       "    </tr>\n",
       "</table>"
      ],
      "text/plain": [
       "[('SUI', Decimal('0.71'))]"
      ]
     },
     "execution_count": 77,
     "metadata": {},
     "output_type": "execute_result"
    }
   ],
   "source": [
    "%%sql\n",
    "SELECT country_id, ROUND(AVG(p_matches),2) AS avg_out\n",
    "FROM players p\n",
    "JOIN matches m\n",
    "ON m.player_id = p.player_id\n",
    "GROUP BY country_id\n",
    "HAVING COUNT(DISTINCT p.player_id) > 3\n",
    "ORDER BY avg_out DESC\n",
    "LIMIT 1;"
   ]
  },
  {
   "cell_type": "code",
   "execution_count": 78,
   "metadata": {},
   "outputs": [
    {
     "name": "stdout",
     "output_type": "stream",
     "text": [
      " * postgresql://postgres:***@db\n",
      "1 rows affected.\n"
     ]
    },
    {
     "data": {
      "text/html": [
       "<table>\n",
       "    <tr>\n",
       "        <th>name</th>\n",
       "        <th>avg_diff</th>\n",
       "    </tr>\n",
       "    <tr>\n",
       "        <td>Davis Cup G1</td>\n",
       "        <td>7768</td>\n",
       "    </tr>\n",
       "</table>"
      ],
      "text/plain": [
       "[('Davis Cup G1', 7768)]"
      ]
     },
     "execution_count": 78,
     "metadata": {},
     "output_type": "execute_result"
    }
   ],
   "source": [
    "%%sql\n",
    "SELECT t.name, ABS(MAX(dob) - MIN(dob)) AS avg_diff\n",
    "FROM matches m\n",
    "JOIN tournaments t \n",
    "ON m.tournament_id = t.tournament_id\n",
    "JOIN players p\n",
    "ON p.player_id = m.player_id\n",
    "GROUP BY t.name\n",
    "ORDER BY avg_diff DESC\n",
    "LIMIT 1;"
   ]
  },
  {
   "cell_type": "code",
   "execution_count": 79,
   "metadata": {},
   "outputs": [
    {
     "name": "stdout",
     "output_type": "stream",
     "text": [
      " * postgresql://postgres:***@db\n",
      "1 rows affected.\n"
     ]
    },
    {
     "data": {
      "text/html": [
       "<table>\n",
       "    <tr>\n",
       "        <th>player_id</th>\n",
       "        <th>match_won</th>\n",
       "    </tr>\n",
       "    <tr>\n",
       "        <td>4913</td>\n",
       "        <td>137</td>\n",
       "    </tr>\n",
       "</table>"
      ],
      "text/plain": [
       "[(4913, 137)]"
      ]
     },
     "execution_count": 79,
     "metadata": {},
     "output_type": "execute_result"
    }
   ],
   "source": [
    "%%sql\n",
    "SELECT player_id, SUM(p_matches) AS match_won\n",
    "FROM matches\n",
    "WHERE season >= 2015\n",
    "GROUP BY player_id\n",
    "ORDER BY match_won DESC\n",
    "LIMIT 1;"
   ]
  },
  {
   "cell_type": "code",
   "execution_count": 80,
   "metadata": {},
   "outputs": [
    {
     "name": "stdout",
     "output_type": "stream",
     "text": [
      " * postgresql://postgres:***@db\n",
      "1 rows affected.\n"
     ]
    },
    {
     "data": {
      "text/html": [
       "<table>\n",
       "    <tr>\n",
       "        <th>first_name</th>\n",
       "        <th>last_name</th>\n",
       "        <th>part_tour</th>\n",
       "    </tr>\n",
       "    <tr>\n",
       "        <td>Joao</td>\n",
       "        <td>Sousa</td>\n",
       "        <td>43</td>\n",
       "    </tr>\n",
       "</table>"
      ],
      "text/plain": [
       "[('Joao', 'Sousa', 43)]"
      ]
     },
     "execution_count": 80,
     "metadata": {},
     "output_type": "execute_result"
    }
   ],
   "source": [
    "%%sql\n",
    "SELECT p.first_name, p.last_name, COUNT(DISTINCT t.tournament_id) AS part_tour\n",
    "FROM players p\n",
    "JOIN matches m\n",
    "ON p.player_id = m.player_id\n",
    "JOIN tournaments t\n",
    "ON t.tournament_id = m.tournament_id\n",
    "WHERE season >= 2016\n",
    "GROUP BY p.first_name, p.last_name\n",
    "ORDER BY part_tour DESC\n",
    "LIMIT 1;"
   ]
  },
  {
   "cell_type": "code",
   "execution_count": 81,
   "metadata": {},
   "outputs": [
    {
     "name": "stdout",
     "output_type": "stream",
     "text": [
      " * postgresql://postgres:***@db\n",
      "1 rows affected.\n"
     ]
    },
    {
     "data": {
      "text/html": [
       "<table>\n",
       "    <tr>\n",
       "        <th>name</th>\n",
       "        <th>tot_matches</th>\n",
       "    </tr>\n",
       "    <tr>\n",
       "        <td>Australian Chps.</td>\n",
       "        <td>381</td>\n",
       "    </tr>\n",
       "</table>"
      ],
      "text/plain": [
       "[('Australian Chps.', 381)]"
      ]
     },
     "execution_count": 81,
     "metadata": {},
     "output_type": "execute_result"
    }
   ],
   "source": [
    "%%sql\n",
    "SELECT t.name, COUNT(DISTINCT match_id) AS tot_matches\n",
    "FROM matches m\n",
    "JOIN tournaments t\n",
    "ON t.tournament_id = m.tournament_id\n",
    "WHERE season >= 2015\n",
    "GROUP BY t.name\n",
    "ORDER BY tot_matches DESC\n",
    "LIMIT 1;"
   ]
  },
  {
   "cell_type": "code",
   "execution_count": 82,
   "metadata": {},
   "outputs": [
    {
     "name": "stdout",
     "output_type": "stream",
     "text": [
      " * postgresql://postgres:***@db\n",
      "1 rows affected.\n"
     ]
    },
    {
     "data": {
      "text/html": [
       "<table>\n",
       "    <tr>\n",
       "        <th>country_id</th>\n",
       "        <th>avg_age</th>\n",
       "    </tr>\n",
       "    <tr>\n",
       "        <td>PNG</td>\n",
       "        <td>16396 days, 0:00:00</td>\n",
       "    </tr>\n",
       "</table>"
      ],
      "text/plain": [
       "[('PNG', datetime.timedelta(days=16396))]"
      ]
     },
     "execution_count": 82,
     "metadata": {},
     "output_type": "execute_result"
    }
   ],
   "source": [
    "%%sql\n",
    "SELECT country_id, AVG(AGE(dob)) AS avg_age\n",
    "FROM players\n",
    "GROUP BY country_id\n",
    "ORDER BY avg_age DESC\n",
    "LIMIT 1;"
   ]
  },
  {
   "cell_type": "code",
   "execution_count": 83,
   "metadata": {},
   "outputs": [
    {
     "name": "stdout",
     "output_type": "stream",
     "text": [
      " * postgresql://postgres:***@db\n",
      "1 rows affected.\n"
     ]
    },
    {
     "data": {
      "text/html": [
       "<table>\n",
       "    <tr>\n",
       "        <th>season</th>\n",
       "        <th>distinct_players</th>\n",
       "    </tr>\n",
       "    <tr>\n",
       "        <td>2016</td>\n",
       "        <td>404</td>\n",
       "    </tr>\n",
       "</table>"
      ],
      "text/plain": [
       "[(2016, 404)]"
      ]
     },
     "execution_count": 83,
     "metadata": {},
     "output_type": "execute_result"
    }
   ],
   "source": [
    "%%sql\n",
    "SELECT season, COUNT(DISTINCT player_id) AS distinct_players\n",
    "FROM matches\n",
    "WHERE season >= 2015\n",
    "GROUP BY season\n",
    "ORDER BY distinct_players DESC\n",
    "LIMIT 1;"
   ]
  },
  {
   "cell_type": "markdown",
   "metadata": {},
   "source": [
    "---"
   ]
  },
  {
   "cell_type": "markdown",
   "metadata": {},
   "source": [
    "# Round 8"
   ]
  },
  {
   "cell_type": "code",
   "execution_count": 84,
   "metadata": {},
   "outputs": [
    {
     "name": "stdout",
     "output_type": "stream",
     "text": [
      " * postgresql://postgres:***@db\n",
      "1 rows affected.\n"
     ]
    },
    {
     "data": {
      "text/html": [
       "<table>\n",
       "    <tr>\n",
       "        <th>first_name</th>\n",
       "    </tr>\n",
       "    <tr>\n",
       "        <td>Gael</td>\n",
       "    </tr>\n",
       "</table>"
      ],
      "text/plain": [
       "[('Gael',)]"
      ]
     },
     "execution_count": 84,
     "metadata": {},
     "output_type": "execute_result"
    }
   ],
   "source": [
    "%%sql\n",
    "SELECT first_name\n",
    "FROM matches m\n",
    "JOIN players p\n",
    "ON m.player_id = p.player_id\n",
    "JOIN tournaments t\n",
    "ON t.tournament_id = m.tournament_id\n",
    "WHERE t.name = 'London'\n",
    "ORDER BY dob DESC\n",
    "LIMIT 1;"
   ]
  },
  {
   "cell_type": "code",
   "execution_count": 85,
   "metadata": {},
   "outputs": [
    {
     "name": "stdout",
     "output_type": "stream",
     "text": [
      " * postgresql://postgres:***@db\n",
      "3 rows affected.\n"
     ]
    },
    {
     "data": {
      "text/html": [
       "<table>\n",
       "    <tr>\n",
       "        <th>player_id</th>\n",
       "        <th>first_name</th>\n",
       "        <th>last_name</th>\n",
       "        <th>dob</th>\n",
       "        <th>country_id</th>\n",
       "        <th>rank_date</th>\n",
       "        <th>player_id_1</th>\n",
       "        <th>rank</th>\n",
       "        <th>rank_points</th>\n",
       "    </tr>\n",
       "    <tr>\n",
       "        <td>3819</td>\n",
       "        <td>Roger</td>\n",
       "        <td>Federer</td>\n",
       "        <td>1981-08-08</td>\n",
       "        <td>SUI</td>\n",
       "        <td>2005-08-08</td>\n",
       "        <td>3819</td>\n",
       "        <td>1</td>\n",
       "        <td>6500</td>\n",
       "    </tr>\n",
       "    <tr>\n",
       "        <td>3819</td>\n",
       "        <td>Roger</td>\n",
       "        <td>Federer</td>\n",
       "        <td>1981-08-08</td>\n",
       "        <td>SUI</td>\n",
       "        <td>2011-08-08</td>\n",
       "        <td>3819</td>\n",
       "        <td>3</td>\n",
       "        <td>9710</td>\n",
       "    </tr>\n",
       "    <tr>\n",
       "        <td>3819</td>\n",
       "        <td>Roger</td>\n",
       "        <td>Federer</td>\n",
       "        <td>1981-08-08</td>\n",
       "        <td>SUI</td>\n",
       "        <td>2016-08-08</td>\n",
       "        <td>3819</td>\n",
       "        <td>3</td>\n",
       "        <td>5945</td>\n",
       "    </tr>\n",
       "</table>"
      ],
      "text/plain": [
       "[(3819, 'Roger', 'Federer', datetime.date(1981, 8, 8), 'SUI', datetime.date(2005, 8, 8), 3819, 1, 6500),\n",
       " (3819, 'Roger', 'Federer', datetime.date(1981, 8, 8), 'SUI', datetime.date(2011, 8, 8), 3819, 3, 9710),\n",
       " (3819, 'Roger', 'Federer', datetime.date(1981, 8, 8), 'SUI', datetime.date(2016, 8, 8), 3819, 3, 5945)]"
      ]
     },
     "execution_count": 85,
     "metadata": {},
     "output_type": "execute_result"
    }
   ],
   "source": [
    "%%sql\n",
    "SELECT *\n",
    "FROM players p\n",
    "JOIN ranking r\n",
    "ON r.player_id = p.player_id\n",
    "WHERE first_name = 'Roger' AND last_name = 'Federer' AND EXTRACT(day FROM rank_date) = 8 AND EXTRACT(month FROM rank_date) = 8\n",
    "LIMIT 10;"
   ]
  },
  {
   "cell_type": "code",
   "execution_count": 86,
   "metadata": {},
   "outputs": [
    {
     "name": "stdout",
     "output_type": "stream",
     "text": [
      " * postgresql://postgres:***@db\n",
      "1 rows affected.\n"
     ]
    },
    {
     "data": {
      "text/html": [
       "<table>\n",
       "    <tr>\n",
       "        <th>sum</th>\n",
       "    </tr>\n",
       "    <tr>\n",
       "        <td>3673</td>\n",
       "    </tr>\n",
       "</table>"
      ],
      "text/plain": [
       "[(3673,)]"
      ]
     },
     "execution_count": 86,
     "metadata": {},
     "output_type": "execute_result"
    }
   ],
   "source": [
    "%%sql\n",
    "SELECT SUM(minutes)\n",
    "FROM \n",
    "    (SELECT DISTINCT match_id, minutes\n",
    "    FROM matches m\n",
    "    JOIN players p\n",
    "    ON m.player_id = p.player_id\n",
    "    WHERE dob >= '1989-01-01'\n",
    "    ORDER BY minutes DESC\n",
    "    LIMIT 10);"
   ]
  },
  {
   "cell_type": "code",
   "execution_count": 87,
   "metadata": {},
   "outputs": [
    {
     "name": "stdout",
     "output_type": "stream",
     "text": [
      " * postgresql://postgres:***@db\n",
      "1 rows affected.\n"
     ]
    },
    {
     "data": {
      "text/html": [
       "<table>\n",
       "    <tr>\n",
       "        <th>country_id</th>\n",
       "        <th>avg_outcome</th>\n",
       "    </tr>\n",
       "    <tr>\n",
       "        <td>SUI</td>\n",
       "        <td>0.71</td>\n",
       "    </tr>\n",
       "</table>"
      ],
      "text/plain": [
       "[('SUI', Decimal('0.71'))]"
      ]
     },
     "execution_count": 87,
     "metadata": {},
     "output_type": "execute_result"
    }
   ],
   "source": [
    "%%sql\n",
    "SELECT country_id, ROUND(AVG(p_matches),2) AS avg_outcome\n",
    "FROM matches m\n",
    "JOIN players p\n",
    "ON m.player_id = p.player_id\n",
    "GROUP BY country_id\n",
    "HAVING COUNT(DISTINCT p.player_id) > 3\n",
    "ORDER BY avg_outcome DESC\n",
    "LIMIT 1;"
   ]
  },
  {
   "cell_type": "code",
   "execution_count": 88,
   "metadata": {},
   "outputs": [
    {
     "name": "stdout",
     "output_type": "stream",
     "text": [
      " * postgresql://postgres:***@db\n",
      "1 rows affected.\n"
     ]
    },
    {
     "data": {
      "text/html": [
       "<table>\n",
       "    <tr>\n",
       "        <th>name</th>\n",
       "        <th>age_diff</th>\n",
       "    </tr>\n",
       "    <tr>\n",
       "        <td>Davis Cup G1</td>\n",
       "        <td>7768</td>\n",
       "    </tr>\n",
       "</table>"
      ],
      "text/plain": [
       "[('Davis Cup G1', 7768)]"
      ]
     },
     "execution_count": 88,
     "metadata": {},
     "output_type": "execute_result"
    }
   ],
   "source": [
    "%%sql \n",
    "SELECT t.name, ABS(MAX(dob) - MIN(dob)) AS age_diff\n",
    "FROM matches m\n",
    "JOIN players p\n",
    "ON p.player_id = m.player_id\n",
    "JOIN tournaments t\n",
    "ON t.tournament_id = m.tournament_id\n",
    "GROUP BY t.name\n",
    "ORDER BY age_diff DESC\n",
    "LIMIT 1;"
   ]
  },
  {
   "cell_type": "code",
   "execution_count": 89,
   "metadata": {},
   "outputs": [
    {
     "name": "stdout",
     "output_type": "stream",
     "text": [
      " * postgresql://postgres:***@db\n",
      "1 rows affected.\n"
     ]
    },
    {
     "data": {
      "text/html": [
       "<table>\n",
       "    <tr>\n",
       "        <th>player_id</th>\n",
       "        <th>matches_won</th>\n",
       "    </tr>\n",
       "    <tr>\n",
       "        <td>4913</td>\n",
       "        <td>137</td>\n",
       "    </tr>\n",
       "</table>"
      ],
      "text/plain": [
       "[(4913, 137)]"
      ]
     },
     "execution_count": 89,
     "metadata": {},
     "output_type": "execute_result"
    }
   ],
   "source": [
    "%%sql\n",
    "SELECT player_id, COUNT(DISTINCT match_id) AS matches_won\n",
    "FROM matches\n",
    "WHERE season >= 2015 AND p_matches = 1\n",
    "GROUP BY player_id\n",
    "ORDER BY matches_won DESC\n",
    "LIMIT 1;"
   ]
  },
  {
   "cell_type": "code",
   "execution_count": 90,
   "metadata": {},
   "outputs": [
    {
     "name": "stdout",
     "output_type": "stream",
     "text": [
      " * postgresql://postgres:***@db\n",
      "1 rows affected.\n"
     ]
    },
    {
     "data": {
      "text/html": [
       "<table>\n",
       "    <tr>\n",
       "        <th>first_name</th>\n",
       "        <th>last_name</th>\n",
       "        <th>part_tourn</th>\n",
       "    </tr>\n",
       "    <tr>\n",
       "        <td>Joao</td>\n",
       "        <td>Sousa</td>\n",
       "        <td>43</td>\n",
       "    </tr>\n",
       "</table>"
      ],
      "text/plain": [
       "[('Joao', 'Sousa', 43)]"
      ]
     },
     "execution_count": 90,
     "metadata": {},
     "output_type": "execute_result"
    }
   ],
   "source": [
    "%%sql\n",
    "SELECT p.first_name, p.last_name, COUNT(DISTINCT tournament_id) AS part_tourn\n",
    "FROM players p\n",
    "JOIN matches m\n",
    "ON p.player_id = m.player_id\n",
    "WHERE season >= 2016\n",
    "GROUP BY p.first_name, p.last_name\n",
    "ORDER BY part_tourn DESC\n",
    "LIMIT 1;"
   ]
  },
  {
   "cell_type": "code",
   "execution_count": 91,
   "metadata": {},
   "outputs": [
    {
     "name": "stdout",
     "output_type": "stream",
     "text": [
      " * postgresql://postgres:***@db\n",
      "1 rows affected.\n"
     ]
    },
    {
     "data": {
      "text/html": [
       "<table>\n",
       "    <tr>\n",
       "        <th>name</th>\n",
       "        <th>num_matches</th>\n",
       "    </tr>\n",
       "    <tr>\n",
       "        <td>Australian Chps.</td>\n",
       "        <td>381</td>\n",
       "    </tr>\n",
       "</table>"
      ],
      "text/plain": [
       "[('Australian Chps.', 381)]"
      ]
     },
     "execution_count": 91,
     "metadata": {},
     "output_type": "execute_result"
    }
   ],
   "source": [
    "%%sql\n",
    "SELECT t.name, COUNT(DISTINCT match_id) AS num_matches\n",
    "FROM matches m\n",
    "JOIN tournaments t\n",
    "ON m.tournament_id = t.tournament_id\n",
    "WHERE season >= 2015\n",
    "GROUP BY t.name\n",
    "ORDER BY num_matches DESC\n",
    "LIMIT 1;"
   ]
  },
  {
   "cell_type": "code",
   "execution_count": 92,
   "metadata": {},
   "outputs": [
    {
     "name": "stdout",
     "output_type": "stream",
     "text": [
      " * postgresql://postgres:***@db\n",
      "1 rows affected.\n"
     ]
    },
    {
     "data": {
      "text/html": [
       "<table>\n",
       "    <tr>\n",
       "        <th>country_id</th>\n",
       "        <th>avg_age</th>\n",
       "    </tr>\n",
       "    <tr>\n",
       "        <td>PNG</td>\n",
       "        <td>16396 days, 0:00:00</td>\n",
       "    </tr>\n",
       "</table>"
      ],
      "text/plain": [
       "[('PNG', datetime.timedelta(days=16396))]"
      ]
     },
     "execution_count": 92,
     "metadata": {},
     "output_type": "execute_result"
    }
   ],
   "source": [
    "%%sql\n",
    "SELECT country_id, AVG(AGE(dob)) AS avg_age\n",
    "FROM players\n",
    "GROUP BY country_id\n",
    "ORDER BY avg_age DESC\n",
    "LIMIT 1;"
   ]
  },
  {
   "cell_type": "code",
   "execution_count": 93,
   "metadata": {},
   "outputs": [
    {
     "name": "stdout",
     "output_type": "stream",
     "text": [
      " * postgresql://postgres:***@db\n",
      "1 rows affected.\n"
     ]
    },
    {
     "data": {
      "text/html": [
       "<table>\n",
       "    <tr>\n",
       "        <th>season</th>\n",
       "        <th>tot_players</th>\n",
       "    </tr>\n",
       "    <tr>\n",
       "        <td>2016</td>\n",
       "        <td>404</td>\n",
       "    </tr>\n",
       "</table>"
      ],
      "text/plain": [
       "[(2016, 404)]"
      ]
     },
     "execution_count": 93,
     "metadata": {},
     "output_type": "execute_result"
    }
   ],
   "source": [
    "%%sql\n",
    "SELECT season, COUNT(DISTINCT player_id) AS tot_players\n",
    "FROM matches m\n",
    "WHERE season >= 2015\n",
    "GROUP BY season\n",
    "ORDER BY tot_players DESC\n",
    "LIMIT 1;"
   ]
  },
  {
   "cell_type": "markdown",
   "metadata": {},
   "source": [
    "---"
   ]
  },
  {
   "cell_type": "markdown",
   "metadata": {},
   "source": [
    "# Round 9"
   ]
  },
  {
   "cell_type": "code",
   "execution_count": 102,
   "metadata": {},
   "outputs": [
    {
     "name": "stdout",
     "output_type": "stream",
     "text": [
      " * postgresql://postgres:***@db\n",
      "1 rows affected.\n"
     ]
    },
    {
     "data": {
      "text/html": [
       "<table>\n",
       "    <tr>\n",
       "        <th>first_name</th>\n",
       "    </tr>\n",
       "    <tr>\n",
       "        <td>Gael</td>\n",
       "    </tr>\n",
       "</table>"
      ],
      "text/plain": [
       "[('Gael',)]"
      ]
     },
     "execution_count": 102,
     "metadata": {},
     "output_type": "execute_result"
    }
   ],
   "source": [
    "%%sql\n",
    "SELECT first_name\n",
    "FROM matches m\n",
    "JOIN players p\n",
    "ON m.player_id = p.player_id\n",
    "JOIN tournaments t\n",
    "ON t.tournament_id = m.tournament_id\n",
    "WHERE t.name = 'London'\n",
    "ORDER BY dob DESC\n",
    "LIMIT 1;"
   ]
  },
  {
   "cell_type": "code",
   "execution_count": 105,
   "metadata": {},
   "outputs": [
    {
     "name": "stdout",
     "output_type": "stream",
     "text": [
      " * postgresql://postgres:***@db\n",
      "2 rows affected.\n"
     ]
    },
    {
     "data": {
      "text/html": [
       "<table>\n",
       "    <tr>\n",
       "        <th>rank</th>\n",
       "    </tr>\n",
       "    <tr>\n",
       "        <td>1</td>\n",
       "    </tr>\n",
       "    <tr>\n",
       "        <td>3</td>\n",
       "    </tr>\n",
       "</table>"
      ],
      "text/plain": [
       "[(1,), (3,)]"
      ]
     },
     "execution_count": 105,
     "metadata": {},
     "output_type": "execute_result"
    }
   ],
   "source": [
    "%%sql\n",
    "SELECT DISTINCT rank\n",
    "FROM players p\n",
    "JOIN ranking r\n",
    "ON p.player_id = r.player_id\n",
    "WHERE first_name = 'Roger' AND last_name = 'Federer' AND EXTRACT(MONTH FROM rank_date) = 8 AND EXTRACT(DAY FROM rank_date) = 8\n",
    "LIMIT 10;"
   ]
  },
  {
   "cell_type": "code",
   "execution_count": 113,
   "metadata": {},
   "outputs": [
    {
     "name": "stdout",
     "output_type": "stream",
     "text": [
      " * postgresql://postgres:***@db\n",
      "1 rows affected.\n"
     ]
    },
    {
     "data": {
      "text/html": [
       "<table>\n",
       "    <tr>\n",
       "        <th>sum</th>\n",
       "    </tr>\n",
       "    <tr>\n",
       "        <td>3673</td>\n",
       "    </tr>\n",
       "</table>"
      ],
      "text/plain": [
       "[(3673,)]"
      ]
     },
     "execution_count": 113,
     "metadata": {},
     "output_type": "execute_result"
    }
   ],
   "source": [
    "%%sql\n",
    "SELECT SUM(minutes)\n",
    "FROM \n",
    "    (SELECT DISTINCT match_id, minutes\n",
    "    FROM matches m\n",
    "    JOIN players p\n",
    "    ON m.player_id = p.player_id\n",
    "    WHERE dob >= '1989-01-01'\n",
    "    ORDER BY minutes DESC\n",
    "    LIMIT 10);"
   ]
  },
  {
   "cell_type": "code",
   "execution_count": 119,
   "metadata": {},
   "outputs": [
    {
     "name": "stdout",
     "output_type": "stream",
     "text": [
      " * postgresql://postgres:***@db\n",
      "1 rows affected.\n"
     ]
    },
    {
     "data": {
      "text/html": [
       "<table>\n",
       "    <tr>\n",
       "        <th>country_id</th>\n",
       "        <th>round</th>\n",
       "    </tr>\n",
       "    <tr>\n",
       "        <td>SUI</td>\n",
       "        <td>0.71</td>\n",
       "    </tr>\n",
       "</table>"
      ],
      "text/plain": [
       "[('SUI', Decimal('0.71'))]"
      ]
     },
     "execution_count": 119,
     "metadata": {},
     "output_type": "execute_result"
    }
   ],
   "source": [
    "%%sql\n",
    "SELECT country_id, ROUND(AVG(p_matches),2)\n",
    "FROM matches m\n",
    "JOIN players p\n",
    "ON m.player_id = p.player_id\n",
    "GROUP BY country_id\n",
    "ORDER BY AVG(p_matches) DESC\n",
    "LIMIT 1;"
   ]
  },
  {
   "cell_type": "code",
   "execution_count": 124,
   "metadata": {},
   "outputs": [
    {
     "name": "stdout",
     "output_type": "stream",
     "text": [
      " * postgresql://postgres:***@db\n",
      "1 rows affected.\n"
     ]
    },
    {
     "data": {
      "text/html": [
       "<table>\n",
       "    <tr>\n",
       "        <th>name</th>\n",
       "        <th>age_diff</th>\n",
       "    </tr>\n",
       "    <tr>\n",
       "        <td>Davis Cup G1</td>\n",
       "        <td>7768</td>\n",
       "    </tr>\n",
       "</table>"
      ],
      "text/plain": [
       "[('Davis Cup G1', 7768)]"
      ]
     },
     "execution_count": 124,
     "metadata": {},
     "output_type": "execute_result"
    }
   ],
   "source": [
    "%%sql\n",
    "SELECT t.name, ABS(MAX(p.dob) - MIN(p.dob)) AS age_diff\n",
    "FROM matches m \n",
    "JOIN tournaments t\n",
    "ON m.tournament_id = t.tournament_id\n",
    "JOIN players p\n",
    "ON p.player_id = m.player_id\n",
    "GROUP BY t.name\n",
    "ORDER BY age_diff DESC\n",
    "LIMIT 1;"
   ]
  },
  {
   "cell_type": "code",
   "execution_count": 130,
   "metadata": {},
   "outputs": [
    {
     "name": "stdout",
     "output_type": "stream",
     "text": [
      " * postgresql://postgres:***@db\n",
      "1 rows affected.\n"
     ]
    },
    {
     "data": {
      "text/html": [
       "<table>\n",
       "    <tr>\n",
       "        <th>player_id</th>\n",
       "        <th>tot_won</th>\n",
       "    </tr>\n",
       "    <tr>\n",
       "        <td>4913</td>\n",
       "        <td>137</td>\n",
       "    </tr>\n",
       "</table>"
      ],
      "text/plain": [
       "[(4913, 137)]"
      ]
     },
     "execution_count": 130,
     "metadata": {},
     "output_type": "execute_result"
    }
   ],
   "source": [
    "%%sql\n",
    "SELECT player_id, SUM(p_matches) AS tot_won\n",
    "FROM matches\n",
    "WHERE season >= 2015\n",
    "GROUP BY player_id\n",
    "ORDER BY tot_won DESC\n",
    "LIMIT 1;"
   ]
  },
  {
   "cell_type": "code",
   "execution_count": 138,
   "metadata": {},
   "outputs": [
    {
     "name": "stdout",
     "output_type": "stream",
     "text": [
      " * postgresql://postgres:***@db\n",
      "1 rows affected.\n"
     ]
    },
    {
     "data": {
      "text/html": [
       "<table>\n",
       "    <tr>\n",
       "        <th>first_name</th>\n",
       "        <th>last_name</th>\n",
       "        <th>tot_part</th>\n",
       "    </tr>\n",
       "    <tr>\n",
       "        <td>Joao</td>\n",
       "        <td>Sousa</td>\n",
       "        <td>43</td>\n",
       "    </tr>\n",
       "</table>"
      ],
      "text/plain": [
       "[('Joao', 'Sousa', 43)]"
      ]
     },
     "execution_count": 138,
     "metadata": {},
     "output_type": "execute_result"
    }
   ],
   "source": [
    "%%sql\n",
    "SELECT p.first_name, p.last_name, COUNT(DISTINCT m.tournament_id) AS tot_part\n",
    "FROM matches m\n",
    "JOIN players p\n",
    "ON m.player_id = p.player_id\n",
    "WHERE season >= 2016\n",
    "GROUP BY p.first_name, p.last_name\n",
    "ORDER BY tot_part DESC\n",
    "LIMIT 1;"
   ]
  },
  {
   "cell_type": "code",
   "execution_count": 145,
   "metadata": {},
   "outputs": [
    {
     "name": "stdout",
     "output_type": "stream",
     "text": [
      " * postgresql://postgres:***@db\n",
      "1 rows affected.\n"
     ]
    },
    {
     "data": {
      "text/html": [
       "<table>\n",
       "    <tr>\n",
       "        <th>name</th>\n",
       "    </tr>\n",
       "    <tr>\n",
       "        <td>Australian Chps.</td>\n",
       "    </tr>\n",
       "</table>"
      ],
      "text/plain": [
       "[('Australian Chps.',)]"
      ]
     },
     "execution_count": 145,
     "metadata": {},
     "output_type": "execute_result"
    }
   ],
   "source": [
    "%%sql\n",
    "SELECT t.name\n",
    "FROM matches m\n",
    "JOIN tournaments t\n",
    "ON m.tournament_id = t.tournament_id\n",
    "WHERE season >= 2015\n",
    "GROUP BY t.name\n",
    "ORDER BY SUM(DISTINCT match_id) DESC\n",
    "LIMIT 1;"
   ]
  },
  {
   "cell_type": "code",
   "execution_count": 149,
   "metadata": {},
   "outputs": [
    {
     "name": "stdout",
     "output_type": "stream",
     "text": [
      " * postgresql://postgres:***@db\n",
      "1 rows affected.\n"
     ]
    },
    {
     "data": {
      "text/html": [
       "<table>\n",
       "    <tr>\n",
       "        <th>country_id</th>\n",
       "        <th>avg_age</th>\n",
       "    </tr>\n",
       "    <tr>\n",
       "        <td>PNG</td>\n",
       "        <td>16396 days, 0:00:00</td>\n",
       "    </tr>\n",
       "</table>"
      ],
      "text/plain": [
       "[('PNG', datetime.timedelta(days=16396))]"
      ]
     },
     "execution_count": 149,
     "metadata": {},
     "output_type": "execute_result"
    }
   ],
   "source": [
    "%%sql\n",
    "SELECT country_id, AVG(AGE(dob)) AS avg_age\n",
    "FROM players\n",
    "GROUP BY country_id\n",
    "ORDER BY avg_age DESC\n",
    "LIMIT 1;"
   ]
  },
  {
   "cell_type": "code",
   "execution_count": 157,
   "metadata": {},
   "outputs": [
    {
     "name": "stdout",
     "output_type": "stream",
     "text": [
      " * postgresql://postgres:***@db\n",
      "1 rows affected.\n"
     ]
    },
    {
     "data": {
      "text/html": [
       "<table>\n",
       "    <tr>\n",
       "        <th>season</th>\n",
       "        <th>tot_part</th>\n",
       "    </tr>\n",
       "    <tr>\n",
       "        <td>2016</td>\n",
       "        <td>404</td>\n",
       "    </tr>\n",
       "</table>"
      ],
      "text/plain": [
       "[(2016, 404)]"
      ]
     },
     "execution_count": 157,
     "metadata": {},
     "output_type": "execute_result"
    }
   ],
   "source": [
    "%%sql\n",
    "SELECT season, COUNT(DISTINCT player_id) AS tot_part\n",
    "FROM matches m\n",
    "WHERE season >= 2015\n",
    "GROUP BY season\n",
    "ORDER BY tot_part DESC\n",
    "LIMIT 1;"
   ]
  },
  {
   "cell_type": "markdown",
   "metadata": {},
   "source": [
    "---"
   ]
  }
 ],
 "metadata": {
  "kernelspec": {
   "display_name": "Python 3 (ipykernel)",
   "language": "python",
   "name": "python3"
  },
  "language_info": {
   "codemirror_mode": {
    "name": "ipython",
    "version": 3
   },
   "file_extension": ".py",
   "mimetype": "text/x-python",
   "name": "python",
   "nbconvert_exporter": "python",
   "pygments_lexer": "ipython3",
   "version": "3.9.20"
  }
 },
 "nbformat": 4,
 "nbformat_minor": 4
}
