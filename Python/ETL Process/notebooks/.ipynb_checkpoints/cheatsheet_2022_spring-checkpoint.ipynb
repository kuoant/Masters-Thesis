{
 "cells": [
  {
   "cell_type": "markdown",
   "metadata": {},
   "source": [
    "# Information Systems for Engineers Spring 2022 - Cheat Sheet\n",
    "\n",
    "During the exam, you will be required to write SQL queries using a Jupyter notebook.\n",
    "\n",
    "This notebook is designed to help you start writing your queries by providing you an environment with the datasets loaded and a simple query that you can use to recap the syntax of SQL.\n",
    "\n",
    "Feel free to extend this notebook and use it for preparing the answers you need for the exam. Take into account that the content of this notebook will not be considered for grading.\n",
    "\n",
    "## SQL\n",
    "\n",
    "There is a local PostgreSQL 13 installation with a dataset loaded into a database. Run the next cell to connect to it."
   ]
  },
  {
   "cell_type": "code",
   "execution_count": 1,
   "metadata": {},
   "outputs": [],
   "source": [
    "%load_ext sql\n",
    "%sql  postgresql://postgres:example@db "
   ]
  },
  {
   "cell_type": "markdown",
   "metadata": {},
   "source": [
    "To print the tables currently loaded in the database run:"
   ]
  },
  {
   "cell_type": "code",
   "execution_count": 2,
   "metadata": {},
   "outputs": [
    {
     "name": "stdout",
     "output_type": "stream",
     "text": [
      " * postgresql://postgres:***@db\n",
      "39 rows affected.\n"
     ]
    },
    {
     "data": {
      "text/html": [
       "<table>\n",
       "    <tr>\n",
       "        <th>table_catalog</th>\n",
       "        <th>table_schema</th>\n",
       "        <th>table_name</th>\n",
       "        <th>table_type</th>\n",
       "        <th>self_referencing_column_name</th>\n",
       "        <th>reference_generation</th>\n",
       "        <th>user_defined_type_catalog</th>\n",
       "        <th>user_defined_type_schema</th>\n",
       "        <th>user_defined_type_name</th>\n",
       "        <th>is_insertable_into</th>\n",
       "        <th>is_typed</th>\n",
       "        <th>commit_action</th>\n",
       "    </tr>\n",
       "    <tr>\n",
       "        <td>postgres</td>\n",
       "        <td>public</td>\n",
       "        <td>categories</td>\n",
       "        <td>BASE TABLE</td>\n",
       "        <td>None</td>\n",
       "        <td>None</td>\n",
       "        <td>None</td>\n",
       "        <td>None</td>\n",
       "        <td>None</td>\n",
       "        <td>YES</td>\n",
       "        <td>NO</td>\n",
       "        <td>None</td>\n",
       "    </tr>\n",
       "    <tr>\n",
       "        <td>postgres</td>\n",
       "        <td>public</td>\n",
       "        <td>customers</td>\n",
       "        <td>BASE TABLE</td>\n",
       "        <td>None</td>\n",
       "        <td>None</td>\n",
       "        <td>None</td>\n",
       "        <td>None</td>\n",
       "        <td>None</td>\n",
       "        <td>YES</td>\n",
       "        <td>NO</td>\n",
       "        <td>None</td>\n",
       "    </tr>\n",
       "    <tr>\n",
       "        <td>postgres</td>\n",
       "        <td>public</td>\n",
       "        <td>nwemployees</td>\n",
       "        <td>BASE TABLE</td>\n",
       "        <td>None</td>\n",
       "        <td>None</td>\n",
       "        <td>None</td>\n",
       "        <td>None</td>\n",
       "        <td>None</td>\n",
       "        <td>YES</td>\n",
       "        <td>NO</td>\n",
       "        <td>None</td>\n",
       "    </tr>\n",
       "    <tr>\n",
       "        <td>postgres</td>\n",
       "        <td>public</td>\n",
       "        <td>employeeterritories</td>\n",
       "        <td>BASE TABLE</td>\n",
       "        <td>None</td>\n",
       "        <td>None</td>\n",
       "        <td>None</td>\n",
       "        <td>None</td>\n",
       "        <td>None</td>\n",
       "        <td>YES</td>\n",
       "        <td>NO</td>\n",
       "        <td>None</td>\n",
       "    </tr>\n",
       "    <tr>\n",
       "        <td>postgres</td>\n",
       "        <td>public</td>\n",
       "        <td>order_details</td>\n",
       "        <td>BASE TABLE</td>\n",
       "        <td>None</td>\n",
       "        <td>None</td>\n",
       "        <td>None</td>\n",
       "        <td>None</td>\n",
       "        <td>None</td>\n",
       "        <td>YES</td>\n",
       "        <td>NO</td>\n",
       "        <td>None</td>\n",
       "    </tr>\n",
       "    <tr>\n",
       "        <td>postgres</td>\n",
       "        <td>public</td>\n",
       "        <td>orders</td>\n",
       "        <td>BASE TABLE</td>\n",
       "        <td>None</td>\n",
       "        <td>None</td>\n",
       "        <td>None</td>\n",
       "        <td>None</td>\n",
       "        <td>None</td>\n",
       "        <td>YES</td>\n",
       "        <td>NO</td>\n",
       "        <td>None</td>\n",
       "    </tr>\n",
       "    <tr>\n",
       "        <td>postgres</td>\n",
       "        <td>public</td>\n",
       "        <td>products</td>\n",
       "        <td>BASE TABLE</td>\n",
       "        <td>None</td>\n",
       "        <td>None</td>\n",
       "        <td>None</td>\n",
       "        <td>None</td>\n",
       "        <td>None</td>\n",
       "        <td>YES</td>\n",
       "        <td>NO</td>\n",
       "        <td>None</td>\n",
       "    </tr>\n",
       "    <tr>\n",
       "        <td>postgres</td>\n",
       "        <td>public</td>\n",
       "        <td>region</td>\n",
       "        <td>BASE TABLE</td>\n",
       "        <td>None</td>\n",
       "        <td>None</td>\n",
       "        <td>None</td>\n",
       "        <td>None</td>\n",
       "        <td>None</td>\n",
       "        <td>YES</td>\n",
       "        <td>NO</td>\n",
       "        <td>None</td>\n",
       "    </tr>\n",
       "    <tr>\n",
       "        <td>postgres</td>\n",
       "        <td>public</td>\n",
       "        <td>shippers</td>\n",
       "        <td>BASE TABLE</td>\n",
       "        <td>None</td>\n",
       "        <td>None</td>\n",
       "        <td>None</td>\n",
       "        <td>None</td>\n",
       "        <td>None</td>\n",
       "        <td>YES</td>\n",
       "        <td>NO</td>\n",
       "        <td>None</td>\n",
       "    </tr>\n",
       "    <tr>\n",
       "        <td>postgres</td>\n",
       "        <td>public</td>\n",
       "        <td>suppliers</td>\n",
       "        <td>BASE TABLE</td>\n",
       "        <td>None</td>\n",
       "        <td>None</td>\n",
       "        <td>None</td>\n",
       "        <td>None</td>\n",
       "        <td>None</td>\n",
       "        <td>YES</td>\n",
       "        <td>NO</td>\n",
       "        <td>None</td>\n",
       "    </tr>\n",
       "    <tr>\n",
       "        <td>postgres</td>\n",
       "        <td>public</td>\n",
       "        <td>territories</td>\n",
       "        <td>BASE TABLE</td>\n",
       "        <td>None</td>\n",
       "        <td>None</td>\n",
       "        <td>None</td>\n",
       "        <td>None</td>\n",
       "        <td>None</td>\n",
       "        <td>YES</td>\n",
       "        <td>NO</td>\n",
       "        <td>None</td>\n",
       "    </tr>\n",
       "    <tr>\n",
       "        <td>postgres</td>\n",
       "        <td>public</td>\n",
       "        <td>movies</td>\n",
       "        <td>BASE TABLE</td>\n",
       "        <td>None</td>\n",
       "        <td>None</td>\n",
       "        <td>None</td>\n",
       "        <td>None</td>\n",
       "        <td>None</td>\n",
       "        <td>YES</td>\n",
       "        <td>NO</td>\n",
       "        <td>None</td>\n",
       "    </tr>\n",
       "    <tr>\n",
       "        <td>postgres</td>\n",
       "        <td>public</td>\n",
       "        <td>credits</td>\n",
       "        <td>BASE TABLE</td>\n",
       "        <td>None</td>\n",
       "        <td>None</td>\n",
       "        <td>None</td>\n",
       "        <td>None</td>\n",
       "        <td>None</td>\n",
       "        <td>YES</td>\n",
       "        <td>NO</td>\n",
       "        <td>None</td>\n",
       "    </tr>\n",
       "    <tr>\n",
       "        <td>postgres</td>\n",
       "        <td>public</td>\n",
       "        <td>stars_in</td>\n",
       "        <td>BASE TABLE</td>\n",
       "        <td>None</td>\n",
       "        <td>None</td>\n",
       "        <td>None</td>\n",
       "        <td>None</td>\n",
       "        <td>None</td>\n",
       "        <td>YES</td>\n",
       "        <td>NO</td>\n",
       "        <td>None</td>\n",
       "    </tr>\n",
       "    <tr>\n",
       "        <td>postgres</td>\n",
       "        <td>public</td>\n",
       "        <td>stations</td>\n",
       "        <td>BASE TABLE</td>\n",
       "        <td>None</td>\n",
       "        <td>None</td>\n",
       "        <td>None</td>\n",
       "        <td>None</td>\n",
       "        <td>None</td>\n",
       "        <td>YES</td>\n",
       "        <td>NO</td>\n",
       "        <td>None</td>\n",
       "    </tr>\n",
       "    <tr>\n",
       "        <td>postgres</td>\n",
       "        <td>public</td>\n",
       "        <td>station_services</td>\n",
       "        <td>BASE TABLE</td>\n",
       "        <td>None</td>\n",
       "        <td>None</td>\n",
       "        <td>None</td>\n",
       "        <td>None</td>\n",
       "        <td>None</td>\n",
       "        <td>YES</td>\n",
       "        <td>NO</td>\n",
       "        <td>None</td>\n",
       "    </tr>\n",
       "    <tr>\n",
       "        <td>postgres</td>\n",
       "        <td>public</td>\n",
       "        <td>train_routes</td>\n",
       "        <td>BASE TABLE</td>\n",
       "        <td>None</td>\n",
       "        <td>None</td>\n",
       "        <td>None</td>\n",
       "        <td>None</td>\n",
       "        <td>None</td>\n",
       "        <td>YES</td>\n",
       "        <td>NO</td>\n",
       "        <td>None</td>\n",
       "    </tr>\n",
       "    <tr>\n",
       "        <td>postgres</td>\n",
       "        <td>public</td>\n",
       "        <td>train_trips</td>\n",
       "        <td>BASE TABLE</td>\n",
       "        <td>None</td>\n",
       "        <td>None</td>\n",
       "        <td>None</td>\n",
       "        <td>None</td>\n",
       "        <td>None</td>\n",
       "        <td>YES</td>\n",
       "        <td>NO</td>\n",
       "        <td>None</td>\n",
       "    </tr>\n",
       "    <tr>\n",
       "        <td>postgres</td>\n",
       "        <td>public</td>\n",
       "        <td>customer_trips</td>\n",
       "        <td>BASE TABLE</td>\n",
       "        <td>None</td>\n",
       "        <td>None</td>\n",
       "        <td>None</td>\n",
       "        <td>None</td>\n",
       "        <td>None</td>\n",
       "        <td>YES</td>\n",
       "        <td>NO</td>\n",
       "        <td>None</td>\n",
       "    </tr>\n",
       "    <tr>\n",
       "        <td>postgres</td>\n",
       "        <td>public</td>\n",
       "        <td>directed_by</td>\n",
       "        <td>BASE TABLE</td>\n",
       "        <td>None</td>\n",
       "        <td>None</td>\n",
       "        <td>None</td>\n",
       "        <td>None</td>\n",
       "        <td>None</td>\n",
       "        <td>YES</td>\n",
       "        <td>NO</td>\n",
       "        <td>None</td>\n",
       "    </tr>\n",
       "    <tr>\n",
       "        <td>postgres</td>\n",
       "        <td>public</td>\n",
       "        <td>produced_by</td>\n",
       "        <td>BASE TABLE</td>\n",
       "        <td>None</td>\n",
       "        <td>None</td>\n",
       "        <td>None</td>\n",
       "        <td>None</td>\n",
       "        <td>None</td>\n",
       "        <td>YES</td>\n",
       "        <td>NO</td>\n",
       "        <td>None</td>\n",
       "    </tr>\n",
       "    <tr>\n",
       "        <td>postgres</td>\n",
       "        <td>public</td>\n",
       "        <td>employees</td>\n",
       "        <td>BASE TABLE</td>\n",
       "        <td>None</td>\n",
       "        <td>None</td>\n",
       "        <td>None</td>\n",
       "        <td>None</td>\n",
       "        <td>None</td>\n",
       "        <td>YES</td>\n",
       "        <td>NO</td>\n",
       "        <td>None</td>\n",
       "    </tr>\n",
       "    <tr>\n",
       "        <td>postgres</td>\n",
       "        <td>public</td>\n",
       "        <td>dept_manager</td>\n",
       "        <td>BASE TABLE</td>\n",
       "        <td>None</td>\n",
       "        <td>None</td>\n",
       "        <td>None</td>\n",
       "        <td>None</td>\n",
       "        <td>None</td>\n",
       "        <td>YES</td>\n",
       "        <td>NO</td>\n",
       "        <td>None</td>\n",
       "    </tr>\n",
       "    <tr>\n",
       "        <td>postgres</td>\n",
       "        <td>public</td>\n",
       "        <td>departments</td>\n",
       "        <td>BASE TABLE</td>\n",
       "        <td>None</td>\n",
       "        <td>None</td>\n",
       "        <td>None</td>\n",
       "        <td>None</td>\n",
       "        <td>None</td>\n",
       "        <td>YES</td>\n",
       "        <td>NO</td>\n",
       "        <td>None</td>\n",
       "    </tr>\n",
       "    <tr>\n",
       "        <td>postgres</td>\n",
       "        <td>public</td>\n",
       "        <td>dept_emp</td>\n",
       "        <td>BASE TABLE</td>\n",
       "        <td>None</td>\n",
       "        <td>None</td>\n",
       "        <td>None</td>\n",
       "        <td>None</td>\n",
       "        <td>None</td>\n",
       "        <td>YES</td>\n",
       "        <td>NO</td>\n",
       "        <td>None</td>\n",
       "    </tr>\n",
       "    <tr>\n",
       "        <td>postgres</td>\n",
       "        <td>public</td>\n",
       "        <td>titles</td>\n",
       "        <td>BASE TABLE</td>\n",
       "        <td>None</td>\n",
       "        <td>None</td>\n",
       "        <td>None</td>\n",
       "        <td>None</td>\n",
       "        <td>None</td>\n",
       "        <td>YES</td>\n",
       "        <td>NO</td>\n",
       "        <td>None</td>\n",
       "    </tr>\n",
       "    <tr>\n",
       "        <td>postgres</td>\n",
       "        <td>public</td>\n",
       "        <td>salaries</td>\n",
       "        <td>BASE TABLE</td>\n",
       "        <td>None</td>\n",
       "        <td>None</td>\n",
       "        <td>None</td>\n",
       "        <td>None</td>\n",
       "        <td>None</td>\n",
       "        <td>YES</td>\n",
       "        <td>NO</td>\n",
       "        <td>None</td>\n",
       "    </tr>\n",
       "    <tr>\n",
       "        <td>postgres</td>\n",
       "        <td>public</td>\n",
       "        <td>countries</td>\n",
       "        <td>BASE TABLE</td>\n",
       "        <td>None</td>\n",
       "        <td>None</td>\n",
       "        <td>None</td>\n",
       "        <td>None</td>\n",
       "        <td>None</td>\n",
       "        <td>YES</td>\n",
       "        <td>NO</td>\n",
       "        <td>None</td>\n",
       "    </tr>\n",
       "    <tr>\n",
       "        <td>postgres</td>\n",
       "        <td>public</td>\n",
       "        <td>players</td>\n",
       "        <td>BASE TABLE</td>\n",
       "        <td>None</td>\n",
       "        <td>None</td>\n",
       "        <td>None</td>\n",
       "        <td>None</td>\n",
       "        <td>None</td>\n",
       "        <td>YES</td>\n",
       "        <td>NO</td>\n",
       "        <td>None</td>\n",
       "    </tr>\n",
       "    <tr>\n",
       "        <td>postgres</td>\n",
       "        <td>public</td>\n",
       "        <td>matches</td>\n",
       "        <td>BASE TABLE</td>\n",
       "        <td>None</td>\n",
       "        <td>None</td>\n",
       "        <td>None</td>\n",
       "        <td>None</td>\n",
       "        <td>None</td>\n",
       "        <td>YES</td>\n",
       "        <td>NO</td>\n",
       "        <td>None</td>\n",
       "    </tr>\n",
       "    <tr>\n",
       "        <td>postgres</td>\n",
       "        <td>public</td>\n",
       "        <td>tournaments</td>\n",
       "        <td>BASE TABLE</td>\n",
       "        <td>None</td>\n",
       "        <td>None</td>\n",
       "        <td>None</td>\n",
       "        <td>None</td>\n",
       "        <td>None</td>\n",
       "        <td>YES</td>\n",
       "        <td>NO</td>\n",
       "        <td>None</td>\n",
       "    </tr>\n",
       "    <tr>\n",
       "        <td>postgres</td>\n",
       "        <td>public</td>\n",
       "        <td>ranking</td>\n",
       "        <td>BASE TABLE</td>\n",
       "        <td>None</td>\n",
       "        <td>None</td>\n",
       "        <td>None</td>\n",
       "        <td>None</td>\n",
       "        <td>None</td>\n",
       "        <td>YES</td>\n",
       "        <td>NO</td>\n",
       "        <td>None</td>\n",
       "    </tr>\n",
       "    <tr>\n",
       "        <td>postgres</td>\n",
       "        <td>public</td>\n",
       "        <td>stats</td>\n",
       "        <td>BASE TABLE</td>\n",
       "        <td>None</td>\n",
       "        <td>None</td>\n",
       "        <td>None</td>\n",
       "        <td>None</td>\n",
       "        <td>None</td>\n",
       "        <td>YES</td>\n",
       "        <td>NO</td>\n",
       "        <td>None</td>\n",
       "    </tr>\n",
       "    <tr>\n",
       "        <td>postgres</td>\n",
       "        <td>public</td>\n",
       "        <td>airlines</td>\n",
       "        <td>BASE TABLE</td>\n",
       "        <td>None</td>\n",
       "        <td>None</td>\n",
       "        <td>None</td>\n",
       "        <td>None</td>\n",
       "        <td>None</td>\n",
       "        <td>YES</td>\n",
       "        <td>NO</td>\n",
       "        <td>None</td>\n",
       "    </tr>\n",
       "    <tr>\n",
       "        <td>postgres</td>\n",
       "        <td>public</td>\n",
       "        <td>flights</td>\n",
       "        <td>BASE TABLE</td>\n",
       "        <td>None</td>\n",
       "        <td>None</td>\n",
       "        <td>None</td>\n",
       "        <td>None</td>\n",
       "        <td>None</td>\n",
       "        <td>YES</td>\n",
       "        <td>NO</td>\n",
       "        <td>None</td>\n",
       "    </tr>\n",
       "    <tr>\n",
       "        <td>postgres</td>\n",
       "        <td>public</td>\n",
       "        <td>airports</td>\n",
       "        <td>BASE TABLE</td>\n",
       "        <td>None</td>\n",
       "        <td>None</td>\n",
       "        <td>None</td>\n",
       "        <td>None</td>\n",
       "        <td>None</td>\n",
       "        <td>YES</td>\n",
       "        <td>NO</td>\n",
       "        <td>None</td>\n",
       "    </tr>\n",
       "    <tr>\n",
       "        <td>postgres</td>\n",
       "        <td>public</td>\n",
       "        <td>flights_delay</td>\n",
       "        <td>BASE TABLE</td>\n",
       "        <td>None</td>\n",
       "        <td>None</td>\n",
       "        <td>None</td>\n",
       "        <td>None</td>\n",
       "        <td>None</td>\n",
       "        <td>YES</td>\n",
       "        <td>NO</td>\n",
       "        <td>None</td>\n",
       "    </tr>\n",
       "    <tr>\n",
       "        <td>postgres</td>\n",
       "        <td>public</td>\n",
       "        <td>california</td>\n",
       "        <td>BASE TABLE</td>\n",
       "        <td>None</td>\n",
       "        <td>None</td>\n",
       "        <td>None</td>\n",
       "        <td>None</td>\n",
       "        <td>None</td>\n",
       "        <td>YES</td>\n",
       "        <td>NO</td>\n",
       "        <td>None</td>\n",
       "    </tr>\n",
       "    <tr>\n",
       "        <td>postgres</td>\n",
       "        <td>public</td>\n",
       "        <td>sales</td>\n",
       "        <td>BASE TABLE</td>\n",
       "        <td>None</td>\n",
       "        <td>None</td>\n",
       "        <td>None</td>\n",
       "        <td>None</td>\n",
       "        <td>None</td>\n",
       "        <td>YES</td>\n",
       "        <td>NO</td>\n",
       "        <td>None</td>\n",
       "    </tr>\n",
       "</table>"
      ],
      "text/plain": [
       "[('postgres', 'public', 'categories', 'BASE TABLE', None, None, None, None, None, 'YES', 'NO', None),\n",
       " ('postgres', 'public', 'customers', 'BASE TABLE', None, None, None, None, None, 'YES', 'NO', None),\n",
       " ('postgres', 'public', 'nwemployees', 'BASE TABLE', None, None, None, None, None, 'YES', 'NO', None),\n",
       " ('postgres', 'public', 'employeeterritories', 'BASE TABLE', None, None, None, None, None, 'YES', 'NO', None),\n",
       " ('postgres', 'public', 'order_details', 'BASE TABLE', None, None, None, None, None, 'YES', 'NO', None),\n",
       " ('postgres', 'public', 'orders', 'BASE TABLE', None, None, None, None, None, 'YES', 'NO', None),\n",
       " ('postgres', 'public', 'products', 'BASE TABLE', None, None, None, None, None, 'YES', 'NO', None),\n",
       " ('postgres', 'public', 'region', 'BASE TABLE', None, None, None, None, None, 'YES', 'NO', None),\n",
       " ('postgres', 'public', 'shippers', 'BASE TABLE', None, None, None, None, None, 'YES', 'NO', None),\n",
       " ('postgres', 'public', 'suppliers', 'BASE TABLE', None, None, None, None, None, 'YES', 'NO', None),\n",
       " ('postgres', 'public', 'territories', 'BASE TABLE', None, None, None, None, None, 'YES', 'NO', None),\n",
       " ('postgres', 'public', 'movies', 'BASE TABLE', None, None, None, None, None, 'YES', 'NO', None),\n",
       " ('postgres', 'public', 'credits', 'BASE TABLE', None, None, None, None, None, 'YES', 'NO', None),\n",
       " ('postgres', 'public', 'stars_in', 'BASE TABLE', None, None, None, None, None, 'YES', 'NO', None),\n",
       " ('postgres', 'public', 'stations', 'BASE TABLE', None, None, None, None, None, 'YES', 'NO', None),\n",
       " ('postgres', 'public', 'station_services', 'BASE TABLE', None, None, None, None, None, 'YES', 'NO', None),\n",
       " ('postgres', 'public', 'train_routes', 'BASE TABLE', None, None, None, None, None, 'YES', 'NO', None),\n",
       " ('postgres', 'public', 'train_trips', 'BASE TABLE', None, None, None, None, None, 'YES', 'NO', None),\n",
       " ('postgres', 'public', 'customer_trips', 'BASE TABLE', None, None, None, None, None, 'YES', 'NO', None),\n",
       " ('postgres', 'public', 'directed_by', 'BASE TABLE', None, None, None, None, None, 'YES', 'NO', None),\n",
       " ('postgres', 'public', 'produced_by', 'BASE TABLE', None, None, None, None, None, 'YES', 'NO', None),\n",
       " ('postgres', 'public', 'employees', 'BASE TABLE', None, None, None, None, None, 'YES', 'NO', None),\n",
       " ('postgres', 'public', 'dept_manager', 'BASE TABLE', None, None, None, None, None, 'YES', 'NO', None),\n",
       " ('postgres', 'public', 'departments', 'BASE TABLE', None, None, None, None, None, 'YES', 'NO', None),\n",
       " ('postgres', 'public', 'dept_emp', 'BASE TABLE', None, None, None, None, None, 'YES', 'NO', None),\n",
       " ('postgres', 'public', 'titles', 'BASE TABLE', None, None, None, None, None, 'YES', 'NO', None),\n",
       " ('postgres', 'public', 'salaries', 'BASE TABLE', None, None, None, None, None, 'YES', 'NO', None),\n",
       " ('postgres', 'public', 'countries', 'BASE TABLE', None, None, None, None, None, 'YES', 'NO', None),\n",
       " ('postgres', 'public', 'players', 'BASE TABLE', None, None, None, None, None, 'YES', 'NO', None),\n",
       " ('postgres', 'public', 'matches', 'BASE TABLE', None, None, None, None, None, 'YES', 'NO', None),\n",
       " ('postgres', 'public', 'tournaments', 'BASE TABLE', None, None, None, None, None, 'YES', 'NO', None),\n",
       " ('postgres', 'public', 'ranking', 'BASE TABLE', None, None, None, None, None, 'YES', 'NO', None),\n",
       " ('postgres', 'public', 'stats', 'BASE TABLE', None, None, None, None, None, 'YES', 'NO', None),\n",
       " ('postgres', 'public', 'airlines', 'BASE TABLE', None, None, None, None, None, 'YES', 'NO', None),\n",
       " ('postgres', 'public', 'flights', 'BASE TABLE', None, None, None, None, None, 'YES', 'NO', None),\n",
       " ('postgres', 'public', 'airports', 'BASE TABLE', None, None, None, None, None, 'YES', 'NO', None),\n",
       " ('postgres', 'public', 'flights_delay', 'BASE TABLE', None, None, None, None, None, 'YES', 'NO', None),\n",
       " ('postgres', 'public', 'california', 'BASE TABLE', None, None, None, None, None, 'YES', 'NO', None),\n",
       " ('postgres', 'public', 'sales', 'BASE TABLE', None, None, None, None, None, 'YES', 'NO', None)]"
      ]
     },
     "execution_count": 2,
     "metadata": {},
     "output_type": "execute_result"
    }
   ],
   "source": [
    "%%sql\n",
    "\n",
    "SELECT * \n",
    "FROM INFORMATION_SCHEMA.TABLES \n",
    "WHERE TABLE_TYPE = 'BASE TABLE' and TABLE_CATALOG = 'postgres' and TABLE_SCHEMA = 'public';"
   ]
  },
  {
   "cell_type": "markdown",
   "metadata": {},
   "source": [
    "To print the attributes of a particular table (`airports`, for example) run:"
   ]
  },
  {
   "cell_type": "code",
   "execution_count": 3,
   "metadata": {},
   "outputs": [
    {
     "name": "stdout",
     "output_type": "stream",
     "text": [
      " * postgresql://postgres:***@db\n",
      "6 rows affected.\n"
     ]
    },
    {
     "data": {
      "text/html": [
       "<table>\n",
       "    <tr>\n",
       "        <th>column_name</th>\n",
       "        <th>data_type</th>\n",
       "        <th>character_maximum_length</th>\n",
       "    </tr>\n",
       "    <tr>\n",
       "        <td>latitude</td>\n",
       "        <td>double precision</td>\n",
       "        <td>None</td>\n",
       "    </tr>\n",
       "    <tr>\n",
       "        <td>longtide</td>\n",
       "        <td>double precision</td>\n",
       "        <td>None</td>\n",
       "    </tr>\n",
       "    <tr>\n",
       "        <td>code</td>\n",
       "        <td>character varying</td>\n",
       "        <td>5</td>\n",
       "    </tr>\n",
       "    <tr>\n",
       "        <td>name</td>\n",
       "        <td>character varying</td>\n",
       "        <td>80</td>\n",
       "    </tr>\n",
       "    <tr>\n",
       "        <td>city</td>\n",
       "        <td>character varying</td>\n",
       "        <td>40</td>\n",
       "    </tr>\n",
       "    <tr>\n",
       "        <td>residence</td>\n",
       "        <td>character varying</td>\n",
       "        <td>2</td>\n",
       "    </tr>\n",
       "</table>"
      ],
      "text/plain": [
       "[('latitude', 'double precision', None),\n",
       " ('longtide', 'double precision', None),\n",
       " ('code', 'character varying', 5),\n",
       " ('name', 'character varying', 80),\n",
       " ('city', 'character varying', 40),\n",
       " ('residence', 'character varying', 2)]"
      ]
     },
     "execution_count": 3,
     "metadata": {},
     "output_type": "execute_result"
    }
   ],
   "source": [
    "%%sql\n",
    "\n",
    "SELECT column_name, data_type, character_maximum_length\n",
    "FROM INFORMATION_SCHEMA.COLUMNS \n",
    "WHERE table_name = 'airports';"
   ]
  },
  {
   "cell_type": "markdown",
   "metadata": {},
   "source": [
    "## Useful SQL Keywords\n",
    "\n",
    "The Keyword `SELECT DISTINCT` is used to return only distinct values. For example:"
   ]
  },
  {
   "cell_type": "code",
   "execution_count": 4,
   "metadata": {
    "scrolled": true
   },
   "outputs": [
    {
     "name": "stdout",
     "output_type": "stream",
     "text": [
      " * postgresql://postgres:***@db\n",
      "11 rows affected.\n"
     ]
    },
    {
     "data": {
      "text/html": [
       "<table>\n",
       "    <tr>\n",
       "        <th>residence</th>\n",
       "    </tr>\n",
       "    <tr>\n",
       "        <td>NY</td>\n",
       "    </tr>\n",
       "    <tr>\n",
       "        <td>WA</td>\n",
       "    </tr>\n",
       "    <tr>\n",
       "        <td>CO</td>\n",
       "    </tr>\n",
       "    <tr>\n",
       "        <td>AZ</td>\n",
       "    </tr>\n",
       "    <tr>\n",
       "        <td>HI</td>\n",
       "    </tr>\n",
       "    <tr>\n",
       "        <td>FL</td>\n",
       "    </tr>\n",
       "    <tr>\n",
       "        <td>UT</td>\n",
       "    </tr>\n",
       "    <tr>\n",
       "        <td>CA</td>\n",
       "    </tr>\n",
       "    <tr>\n",
       "        <td>TX</td>\n",
       "    </tr>\n",
       "    <tr>\n",
       "        <td>GA</td>\n",
       "    </tr>\n",
       "    <tr>\n",
       "        <td>IL</td>\n",
       "    </tr>\n",
       "</table>"
      ],
      "text/plain": [
       "[('NY',),\n",
       " ('WA',),\n",
       " ('CO',),\n",
       " ('AZ',),\n",
       " ('HI',),\n",
       " ('FL',),\n",
       " ('UT',),\n",
       " ('CA',),\n",
       " ('TX',),\n",
       " ('GA',),\n",
       " ('IL',)]"
      ]
     },
     "execution_count": 4,
     "metadata": {},
     "output_type": "execute_result"
    }
   ],
   "source": [
    "%%sql\n",
    "SELECT DISTINCT residence FROM airlines;"
   ]
  },
  {
   "cell_type": "markdown",
   "metadata": {},
   "source": [
    "## Complex query example\n",
    "\n",
    "More complex PostgreSQL queries would look like:"
   ]
  },
  {
   "cell_type": "code",
   "execution_count": 5,
   "metadata": {},
   "outputs": [
    {
     "name": "stdout",
     "output_type": "stream",
     "text": [
      " * postgresql://postgres:***@db\n",
      "10 rows affected.\n"
     ]
    },
    {
     "data": {
      "text/html": [
       "<table>\n",
       "    <tr>\n",
       "        <th>residence</th>\n",
       "        <th>count</th>\n",
       "    </tr>\n",
       "    <tr>\n",
       "        <td>AZ</td>\n",
       "        <td>4</td>\n",
       "    </tr>\n",
       "    <tr>\n",
       "        <td>CO</td>\n",
       "        <td>10</td>\n",
       "    </tr>\n",
       "    <tr>\n",
       "        <td>FL</td>\n",
       "        <td>17</td>\n",
       "    </tr>\n",
       "    <tr>\n",
       "        <td>GA</td>\n",
       "        <td>14</td>\n",
       "    </tr>\n",
       "    <tr>\n",
       "        <td>HI</td>\n",
       "        <td>5</td>\n",
       "    </tr>\n",
       "    <tr>\n",
       "        <td>IL</td>\n",
       "        <td>7</td>\n",
       "    </tr>\n",
       "    <tr>\n",
       "        <td>NY</td>\n",
       "        <td>14</td>\n",
       "    </tr>\n",
       "    <tr>\n",
       "        <td>TX</td>\n",
       "        <td>72</td>\n",
       "    </tr>\n",
       "    <tr>\n",
       "        <td>UT</td>\n",
       "        <td>5</td>\n",
       "    </tr>\n",
       "    <tr>\n",
       "        <td>WA</td>\n",
       "        <td>4</td>\n",
       "    </tr>\n",
       "</table>"
      ],
      "text/plain": [
       "[('AZ', 4),\n",
       " ('CO', 10),\n",
       " ('FL', 17),\n",
       " ('GA', 14),\n",
       " ('HI', 5),\n",
       " ('IL', 7),\n",
       " ('NY', 14),\n",
       " ('TX', 72),\n",
       " ('UT', 5),\n",
       " ('WA', 4)]"
      ]
     },
     "execution_count": 5,
     "metadata": {},
     "output_type": "execute_result"
    }
   ],
   "source": [
    "%%sql\n",
    "SELECT airlines.residence, COUNT(airlines.code)\n",
    "    FROM airlines INNER JOIN airports ON airlines.residence = airports.residence\n",
    "    WHERE airlines.residence <> 'CA'\n",
    "GROUP BY airlines.residence\n",
    "ORDER BY airlines.residence;"
   ]
  },
  {
   "cell_type": "markdown",
   "metadata": {},
   "source": [
    "## Exam database − data about flight delays in the US\n",
    "\n",
    "The dataset consists of relations containing information such as airports, airlines, flights and flight irregularities. Tables include both real-world and synthetic data. \n",
    "\n",
    "Here is some basic information on the database tables.\n",
    "\n",
    "### 1) `airlines` table\n",
    "\n",
    "Contains the list of airlines serving flights in our database.\n",
    "\n",
    "* `code` is the three-letter IATA code identifier of the airline\n",
    "\n",
    "* `name` is the airline name\n",
    "\n",
    "* `residence` is the two-letter code of the state of residence"
   ]
  },
  {
   "cell_type": "code",
   "execution_count": 6,
   "metadata": {},
   "outputs": [
    {
     "name": "stdout",
     "output_type": "stream",
     "text": [
      " * postgresql://postgres:***@db\n",
      "14 rows affected.\n"
     ]
    },
    {
     "data": {
      "text/html": [
       "<table>\n",
       "    <tr>\n",
       "        <th>code</th>\n",
       "        <th>name</th>\n",
       "        <th>residence</th>\n",
       "    </tr>\n",
       "    <tr>\n",
       "        <td>UA</td>\n",
       "        <td>United Air Lines Inc.</td>\n",
       "        <td>IL</td>\n",
       "    </tr>\n",
       "    <tr>\n",
       "        <td>AA</td>\n",
       "        <td>American Airlines Inc.</td>\n",
       "        <td>TX</td>\n",
       "    </tr>\n",
       "    <tr>\n",
       "        <td>US</td>\n",
       "        <td>US Airways Inc.</td>\n",
       "        <td>AZ</td>\n",
       "    </tr>\n",
       "    <tr>\n",
       "        <td>F9</td>\n",
       "        <td>Frontier Airlines Inc.</td>\n",
       "        <td>CO</td>\n",
       "    </tr>\n",
       "    <tr>\n",
       "        <td>B6</td>\n",
       "        <td>JetBlue Airways</td>\n",
       "        <td>NY</td>\n",
       "    </tr>\n",
       "    <tr>\n",
       "        <td>OO</td>\n",
       "        <td>Skywest Airlines Inc.</td>\n",
       "        <td>UT</td>\n",
       "    </tr>\n",
       "    <tr>\n",
       "        <td>AS</td>\n",
       "        <td>Alaska Airlines Inc.</td>\n",
       "        <td>WA</td>\n",
       "    </tr>\n",
       "    <tr>\n",
       "        <td>NK</td>\n",
       "        <td>Spirit Air Lines</td>\n",
       "        <td>FL</td>\n",
       "    </tr>\n",
       "    <tr>\n",
       "        <td>WN</td>\n",
       "        <td>Southwest Airlines Co.</td>\n",
       "        <td>TX</td>\n",
       "    </tr>\n",
       "    <tr>\n",
       "        <td>DL</td>\n",
       "        <td>Delta Air Lines Inc.</td>\n",
       "        <td>GA</td>\n",
       "    </tr>\n",
       "    <tr>\n",
       "        <td>EV</td>\n",
       "        <td>Atlantic Southeast Airlines</td>\n",
       "        <td>GA</td>\n",
       "    </tr>\n",
       "    <tr>\n",
       "        <td>HA</td>\n",
       "        <td>Hawaiian Airlines Inc.</td>\n",
       "        <td>HI</td>\n",
       "    </tr>\n",
       "    <tr>\n",
       "        <td>MQ</td>\n",
       "        <td>American Eagle Airlines Inc.</td>\n",
       "        <td>TX</td>\n",
       "    </tr>\n",
       "    <tr>\n",
       "        <td>VX</td>\n",
       "        <td>Virgin America</td>\n",
       "        <td>CA</td>\n",
       "    </tr>\n",
       "</table>"
      ],
      "text/plain": [
       "[('UA', 'United Air Lines Inc.', 'IL'),\n",
       " ('AA', 'American Airlines Inc.', 'TX'),\n",
       " ('US', 'US Airways Inc.', 'AZ'),\n",
       " ('F9', 'Frontier Airlines Inc.', 'CO'),\n",
       " ('B6', 'JetBlue Airways', 'NY'),\n",
       " ('OO', 'Skywest Airlines Inc.', 'UT'),\n",
       " ('AS', 'Alaska Airlines Inc.', 'WA'),\n",
       " ('NK', 'Spirit Air Lines', 'FL'),\n",
       " ('WN', 'Southwest Airlines Co.', 'TX'),\n",
       " ('DL', 'Delta Air Lines Inc.', 'GA'),\n",
       " ('EV', 'Atlantic Southeast Airlines', 'GA'),\n",
       " ('HA', 'Hawaiian Airlines Inc.', 'HI'),\n",
       " ('MQ', 'American Eagle Airlines Inc.', 'TX'),\n",
       " ('VX', 'Virgin America', 'CA')]"
      ]
     },
     "execution_count": 6,
     "metadata": {},
     "output_type": "execute_result"
    }
   ],
   "source": [
    "%%sql\n",
    "SELECT * FROM airlines;"
   ]
  },
  {
   "cell_type": "markdown",
   "metadata": {},
   "source": [
    "### 2) `airports` table\n",
    "\n",
    "Contains the list of available airports.\n",
    "\n",
    "* `code` is the three-letter IATA code identifier of the airport\n",
    "\n",
    "* `name` is the airport name\n",
    "\n",
    "* `city` is the name of the city where the airport is located\n",
    "\n",
    "* `residence` is the two-letter code of the state in which airport is located\n",
    "\n",
    "* `latitude` and `longitude` are floating-point numbers describing the geographical location of the airport"
   ]
  },
  {
   "cell_type": "code",
   "execution_count": 7,
   "metadata": {},
   "outputs": [
    {
     "name": "stdout",
     "output_type": "stream",
     "text": [
      " * postgresql://postgres:***@db\n",
      "4 rows affected.\n"
     ]
    },
    {
     "data": {
      "text/html": [
       "<table>\n",
       "    <tr>\n",
       "        <th>code</th>\n",
       "        <th>name</th>\n",
       "        <th>city</th>\n",
       "        <th>residence</th>\n",
       "        <th>latitude</th>\n",
       "        <th>longtide</th>\n",
       "    </tr>\n",
       "    <tr>\n",
       "        <td>ABE</td>\n",
       "        <td>Lehigh Valley International Airport</td>\n",
       "        <td>Allentown</td>\n",
       "        <td>PA</td>\n",
       "        <td>40.652359999999994</td>\n",
       "        <td>-75.4404</td>\n",
       "    </tr>\n",
       "    <tr>\n",
       "        <td>ABI</td>\n",
       "        <td>Abilene Regional Airport</td>\n",
       "        <td>Abilene</td>\n",
       "        <td>TX</td>\n",
       "        <td>32.41132</td>\n",
       "        <td>-99.6819</td>\n",
       "    </tr>\n",
       "    <tr>\n",
       "        <td>ABQ</td>\n",
       "        <td>Albuquerque International Sunport</td>\n",
       "        <td>Albuquerque</td>\n",
       "        <td>NM</td>\n",
       "        <td>35.04022</td>\n",
       "        <td>-106.60918999999998</td>\n",
       "    </tr>\n",
       "    <tr>\n",
       "        <td>ABR</td>\n",
       "        <td>Aberdeen Regional Airport</td>\n",
       "        <td>Aberdeen</td>\n",
       "        <td>SD</td>\n",
       "        <td>45.449059999999996</td>\n",
       "        <td>-98.42183</td>\n",
       "    </tr>\n",
       "</table>"
      ],
      "text/plain": [
       "[('ABE', 'Lehigh Valley International Airport', 'Allentown', 'PA', 40.652359999999994, -75.4404),\n",
       " ('ABI', 'Abilene Regional Airport', 'Abilene', 'TX', 32.41132, -99.6819),\n",
       " ('ABQ', 'Albuquerque International Sunport', 'Albuquerque', 'NM', 35.04022, -106.60918999999998),\n",
       " ('ABR', 'Aberdeen Regional Airport', 'Aberdeen', 'SD', 45.449059999999996, -98.42183)]"
      ]
     },
     "execution_count": 7,
     "metadata": {},
     "output_type": "execute_result"
    }
   ],
   "source": [
    "%%sql\n",
    "SELECT * FROM airports LIMIT 4;"
   ]
  },
  {
   "cell_type": "markdown",
   "metadata": {},
   "source": [
    "### 3) `flights` table\n",
    "\n",
    "Contains the list of flights conducted during the the first seven days of January 2015. This table contains many rows - careful when printing the data!\n",
    "\n",
    "* `id` is the unique flight ID\n",
    "\n",
    "* `flight_number` is the IATA flight code\n",
    "\n",
    "* `airline` is the IATA code of the airline\n",
    "\n",
    "* `departure` and `arrival` are the IATA codes of the departure and arrival airports\n",
    "\n",
    "* `year`, `month`, and `day` are the integer values encoding the number of day, month and the year when the flight departed. All values are 1-based integers, e.g., the date 2nd January 2015 is stored in columns `year`, `month`, `day` as `2015`, `1`, and `2`, respectively.\n",
    "\n",
    "* `load_factor` is a floating-point number in the range `[0-1]` that describes the load factor on the flight, i.e., the fraction of occupied passenger seats"
   ]
  },
  {
   "cell_type": "code",
   "execution_count": 8,
   "metadata": {},
   "outputs": [
    {
     "name": "stdout",
     "output_type": "stream",
     "text": [
      " * postgresql://postgres:***@db\n",
      "4 rows affected.\n"
     ]
    },
    {
     "data": {
      "text/html": [
       "<table>\n",
       "    <tr>\n",
       "        <th>id</th>\n",
       "        <th>flight_number</th>\n",
       "        <th>airline</th>\n",
       "        <th>departure</th>\n",
       "        <th>arrival</th>\n",
       "        <th>year</th>\n",
       "        <th>month</th>\n",
       "        <th>day</th>\n",
       "        <th>load_factor</th>\n",
       "    </tr>\n",
       "    <tr>\n",
       "        <td>0</td>\n",
       "        <td>98</td>\n",
       "        <td>AS</td>\n",
       "        <td>ANC</td>\n",
       "        <td>SEA</td>\n",
       "        <td>2015</td>\n",
       "        <td>1</td>\n",
       "        <td>1</td>\n",
       "        <td>0.465</td>\n",
       "    </tr>\n",
       "    <tr>\n",
       "        <td>1</td>\n",
       "        <td>2336</td>\n",
       "        <td>AA</td>\n",
       "        <td>LAX</td>\n",
       "        <td>PBI</td>\n",
       "        <td>2015</td>\n",
       "        <td>1</td>\n",
       "        <td>1</td>\n",
       "        <td>0.507</td>\n",
       "    </tr>\n",
       "    <tr>\n",
       "        <td>2</td>\n",
       "        <td>840</td>\n",
       "        <td>US</td>\n",
       "        <td>SFO</td>\n",
       "        <td>CLT</td>\n",
       "        <td>2015</td>\n",
       "        <td>1</td>\n",
       "        <td>1</td>\n",
       "        <td>0.774</td>\n",
       "    </tr>\n",
       "    <tr>\n",
       "        <td>3</td>\n",
       "        <td>258</td>\n",
       "        <td>AA</td>\n",
       "        <td>LAX</td>\n",
       "        <td>MIA</td>\n",
       "        <td>2015</td>\n",
       "        <td>1</td>\n",
       "        <td>1</td>\n",
       "        <td>0.633</td>\n",
       "    </tr>\n",
       "</table>"
      ],
      "text/plain": [
       "[(0, '98', 'AS', 'ANC', 'SEA', 2015, 1, 1, 0.465),\n",
       " (1, '2336', 'AA', 'LAX', 'PBI', 2015, 1, 1, 0.507),\n",
       " (2, '840', 'US', 'SFO', 'CLT', 2015, 1, 1, 0.774),\n",
       " (3, '258', 'AA', 'LAX', 'MIA', 2015, 1, 1, 0.633)]"
      ]
     },
     "execution_count": 8,
     "metadata": {},
     "output_type": "execute_result"
    }
   ],
   "source": [
    "%%sql\n",
    "SELECT * FROM flights LIMIT 4;"
   ]
  },
  {
   "cell_type": "markdown",
   "metadata": {},
   "source": [
    "### 4) `flights_delay` table\n",
    "\n",
    "Contains the information on flights delays and irregularities. This table contains many rows - careful when printing the data!\n",
    "\n",
    "* `flight_id` is the unique flight ID\n",
    "\n",
    "* `arrival_delay` a positive value is the delay on arrival in minutes, a negative value indicates an early arrival in minutes\n",
    "\n",
    "* `cancellation` and `divertion` are boolean flags indicating cancelled and diverted flights"
   ]
  },
  {
   "cell_type": "code",
   "execution_count": 9,
   "metadata": {},
   "outputs": [
    {
     "name": "stdout",
     "output_type": "stream",
     "text": [
      " * postgresql://postgres:***@db\n",
      "4 rows affected.\n"
     ]
    },
    {
     "data": {
      "text/html": [
       "<table>\n",
       "    <tr>\n",
       "        <th>flight_id</th>\n",
       "        <th>arrival_delay</th>\n",
       "        <th>cancellation</th>\n",
       "        <th>divertion</th>\n",
       "    </tr>\n",
       "    <tr>\n",
       "        <td>0</td>\n",
       "        <td>-22</td>\n",
       "        <td>False</td>\n",
       "        <td>False</td>\n",
       "    </tr>\n",
       "    <tr>\n",
       "        <td>1</td>\n",
       "        <td>-9</td>\n",
       "        <td>False</td>\n",
       "        <td>False</td>\n",
       "    </tr>\n",
       "    <tr>\n",
       "        <td>2</td>\n",
       "        <td>5</td>\n",
       "        <td>False</td>\n",
       "        <td>False</td>\n",
       "    </tr>\n",
       "    <tr>\n",
       "        <td>3</td>\n",
       "        <td>-9</td>\n",
       "        <td>False</td>\n",
       "        <td>False</td>\n",
       "    </tr>\n",
       "</table>"
      ],
      "text/plain": [
       "[(0, -22, False, False),\n",
       " (1, -9, False, False),\n",
       " (2, 5, False, False),\n",
       " (3, -9, False, False)]"
      ]
     },
     "execution_count": 9,
     "metadata": {},
     "output_type": "execute_result"
    }
   ],
   "source": [
    "%%sql\n",
    "SELECT * FROM flights_delay LIMIT 4;"
   ]
  },
  {
   "cell_type": "markdown",
   "metadata": {},
   "source": [
    "##### Note: the examples provided above do not contain all the query operations you might need during the exam.\n",
    "\n",
    "Now its your turn, you can write all your queries in new cells below. Feel free to add as many cells as needed."
   ]
  },
  {
   "cell_type": "code",
   "execution_count": 10,
   "metadata": {},
   "outputs": [
    {
     "name": "stdout",
     "output_type": "stream",
     "text": [
      " * postgresql://postgres:***@db\n",
      "1 rows affected.\n"
     ]
    },
    {
     "data": {
      "text/html": [
       "<table>\n",
       "    <tr>\n",
       "        <th>count</th>\n",
       "    </tr>\n",
       "    <tr>\n",
       "        <td>54</td>\n",
       "    </tr>\n",
       "</table>"
      ],
      "text/plain": [
       "[(54,)]"
      ]
     },
     "execution_count": 10,
     "metadata": {},
     "output_type": "execute_result"
    }
   ],
   "source": [
    "%%sql\n",
    "SELECT COUNT(DISTINCT residence)\n",
    "FROM airports\n",
    "LIMIT 10;"
   ]
  },
  {
   "cell_type": "code",
   "execution_count": 11,
   "metadata": {},
   "outputs": [
    {
     "name": "stdout",
     "output_type": "stream",
     "text": [
      " * postgresql://postgres:***@db\n",
      "1 rows affected.\n"
     ]
    },
    {
     "data": {
      "text/html": [
       "<table>\n",
       "    <tr>\n",
       "        <th>count</th>\n",
       "    </tr>\n",
       "    <tr>\n",
       "        <td>8</td>\n",
       "    </tr>\n",
       "</table>"
      ],
      "text/plain": [
       "[(8,)]"
      ]
     },
     "execution_count": 11,
     "metadata": {},
     "output_type": "execute_result"
    }
   ],
   "source": [
    "%%sql \n",
    "SELECT COUNT(DISTINCT arrival)\n",
    "FROM flights\n",
    "WHERE departure = 'TYS'\n",
    "LIMIT 10;"
   ]
  },
  {
   "cell_type": "code",
   "execution_count": 12,
   "metadata": {},
   "outputs": [
    {
     "name": "stdout",
     "output_type": "stream",
     "text": [
      " * postgresql://postgres:***@db\n",
      "1 rows affected.\n"
     ]
    },
    {
     "data": {
      "text/html": [
       "<table>\n",
       "    <tr>\n",
       "        <th>airline</th>\n",
       "        <th>num_flights</th>\n",
       "    </tr>\n",
       "    <tr>\n",
       "        <td>HA</td>\n",
       "        <td>760</td>\n",
       "    </tr>\n",
       "</table>"
      ],
      "text/plain": [
       "[('HA', 760)]"
      ]
     },
     "execution_count": 12,
     "metadata": {},
     "output_type": "execute_result"
    }
   ],
   "source": [
    "%%sql\n",
    "SELECT airline, COUNT(id) AS num_flights\n",
    "FROM flights f\n",
    "JOIN flights_delay fd\n",
    "ON f.id = fd.flight_id\n",
    "WHERE arrival_delay > 0\n",
    "GROUP BY airline\n",
    "ORDER BY num_flights ASC\n",
    "LIMIT 1 OFFSET 1;"
   ]
  },
  {
   "cell_type": "code",
   "execution_count": 13,
   "metadata": {},
   "outputs": [
    {
     "name": "stdout",
     "output_type": "stream",
     "text": [
      " * postgresql://postgres:***@db\n",
      "1 rows affected.\n"
     ]
    },
    {
     "data": {
      "text/html": [
       "<table>\n",
       "    <tr>\n",
       "        <th>round</th>\n",
       "    </tr>\n",
       "    <tr>\n",
       "        <td>0.578</td>\n",
       "    </tr>\n",
       "</table>"
      ],
      "text/plain": [
       "[(Decimal('0.578'),)]"
      ]
     },
     "execution_count": 13,
     "metadata": {},
     "output_type": "execute_result"
    }
   ],
   "source": [
    "%%sql \n",
    "SELECT ROUND(AVG(CAST(load_factor AS NUMERIC)),3)\n",
    "FROM flights f\n",
    "JOIN flights_delay fd\n",
    "ON f.id = fd.flight_id\n",
    "WHERE cancellation is FALSE AND year = 2015 AND month = 1 AND day = 5\n",
    "LIMIT 10;"
   ]
  },
  {
   "cell_type": "code",
   "execution_count": 14,
   "metadata": {},
   "outputs": [
    {
     "name": "stdout",
     "output_type": "stream",
     "text": [
      " * postgresql://postgres:***@db\n",
      "1 rows affected.\n"
     ]
    },
    {
     "data": {
      "text/html": [
       "<table>\n",
       "    <tr>\n",
       "        <th>count</th>\n",
       "    </tr>\n",
       "    <tr>\n",
       "        <td>14</td>\n",
       "    </tr>\n",
       "</table>"
      ],
      "text/plain": [
       "[(14,)]"
      ]
     },
     "execution_count": 14,
     "metadata": {},
     "output_type": "execute_result"
    }
   ],
   "source": [
    "%%sql \n",
    "SELECT COUNT(*)\n",
    "FROM \n",
    "    (SELECT city, COUNT(DISTINCT name)\n",
    "    FROM airports\n",
    "    GROUP BY city\n",
    "    HAVING COUNT(DISTINCT name) > 1)"
   ]
  },
  {
   "cell_type": "code",
   "execution_count": 15,
   "metadata": {},
   "outputs": [
    {
     "name": "stdout",
     "output_type": "stream",
     "text": [
      " * postgresql://postgres:***@db\n",
      "1 rows affected.\n"
     ]
    },
    {
     "data": {
      "text/html": [
       "<table>\n",
       "    <tr>\n",
       "        <th>count</th>\n",
       "    </tr>\n",
       "    <tr>\n",
       "        <td>11761</td>\n",
       "    </tr>\n",
       "</table>"
      ],
      "text/plain": [
       "[(11761,)]"
      ]
     },
     "execution_count": 15,
     "metadata": {},
     "output_type": "execute_result"
    }
   ],
   "source": [
    "%%sql \n",
    "SELECT COUNT(DISTINCT id)\n",
    "FROM flights f\n",
    "JOIN airports a1\n",
    "ON f.departure = a1.code\n",
    "JOIN airports a2\n",
    "ON f.arrival = a2.code\n",
    "WHERE a1.residence = a2.residence\n",
    "LIMIT 10;"
   ]
  },
  {
   "cell_type": "code",
   "execution_count": 16,
   "metadata": {
    "scrolled": true
   },
   "outputs": [
    {
     "name": "stdout",
     "output_type": "stream",
     "text": [
      " * postgresql://postgres:***@db\n",
      "1 rows affected.\n"
     ]
    },
    {
     "data": {
      "text/html": [
       "<table>\n",
       "    <tr>\n",
       "        <th>count</th>\n",
       "    </tr>\n",
       "    <tr>\n",
       "        <td>1</td>\n",
       "    </tr>\n",
       "</table>"
      ],
      "text/plain": [
       "[(1,)]"
      ]
     },
     "execution_count": 16,
     "metadata": {},
     "output_type": "execute_result"
    }
   ],
   "source": [
    "%%sql \n",
    "\n",
    "--- Direct Flights\n",
    "\n",
    "SELECT COUNT(DISTINCT arrival)\n",
    "FROM flights\n",
    "WHERE departure = 'ABR'\n",
    "LIMIT 10;"
   ]
  },
  {
   "cell_type": "code",
   "execution_count": 17,
   "metadata": {
    "scrolled": true
   },
   "outputs": [
    {
     "name": "stdout",
     "output_type": "stream",
     "text": [
      " * postgresql://postgres:***@db\n",
      "1 rows affected.\n"
     ]
    },
    {
     "data": {
      "text/html": [
       "<table>\n",
       "    <tr>\n",
       "        <th>count</th>\n",
       "    </tr>\n",
       "    <tr>\n",
       "        <td>103</td>\n",
       "    </tr>\n",
       "</table>"
      ],
      "text/plain": [
       "[(103,)]"
      ]
     },
     "execution_count": 17,
     "metadata": {},
     "output_type": "execute_result"
    }
   ],
   "source": [
    "%%sql\n",
    "\n",
    "--- Connecting Flights\n",
    "\n",
    "SELECT COUNT(DISTINCT f2.arrival)\n",
    "FROM flights f1\n",
    "JOIN flights f2\n",
    "ON f1.arrival = f2.departure\n",
    "WHERE f1.departure = 'ABR' AND f1.day = f2.day AND f1.month = f2.month AND f1.year = f2.year AND f1.departure != f2.arrival\n",
    "LIMIT 10;"
   ]
  },
  {
   "cell_type": "markdown",
   "metadata": {},
   "source": [
    "---"
   ]
  }
 ],
 "metadata": {
  "kernelspec": {
   "display_name": "Python 3 (ipykernel)",
   "language": "python",
   "name": "python3"
  },
  "language_info": {
   "codemirror_mode": {
    "name": "ipython",
    "version": 3
   },
   "file_extension": ".py",
   "mimetype": "text/x-python",
   "name": "python",
   "nbconvert_exporter": "python",
   "pygments_lexer": "ipython3",
   "version": "3.9.20"
  }
 },
 "nbformat": 4,
 "nbformat_minor": 4
}
