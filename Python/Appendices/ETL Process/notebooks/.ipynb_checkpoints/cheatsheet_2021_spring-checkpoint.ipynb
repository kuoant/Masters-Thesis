{
 "cells": [
  {
   "cell_type": "markdown",
   "metadata": {},
   "source": [
    "# Information Systems for Engineers 2021 - Cheat Sheet"
   ]
  },
  {
   "cell_type": "markdown",
   "metadata": {},
   "source": [
    "During the exam, you will be required to write SQL queries using a Jupyter notebook."
   ]
  },
  {
   "cell_type": "markdown",
   "metadata": {},
   "source": [
    "This notebook is designed to help you start writing your queries by providing you an environment with the datasets loaded and a simple query that you can use to recap the syntax of SQL."
   ]
  },
  {
   "cell_type": "markdown",
   "metadata": {},
   "source": [
    "Feel free to extend this notebook and use it for preparing the answers you need for the exam. Take into account that the content of this notebook will not be considered for grading."
   ]
  },
  {
   "cell_type": "markdown",
   "metadata": {},
   "source": [
    "## SQL"
   ]
  },
  {
   "cell_type": "markdown",
   "metadata": {},
   "source": [
    "There is a local PostgreSQL 12 installation with a dataset loaded into a database. Run the next cell to connect to it."
   ]
  },
  {
   "cell_type": "code",
   "execution_count": 1,
   "metadata": {},
   "outputs": [],
   "source": [
    "%load_ext sql\n",
    "%sql  postgresql://postgres:example@db "
   ]
  },
  {
   "cell_type": "markdown",
   "metadata": {},
   "source": [
    "To print the tables currently loaded in the database run:"
   ]
  },
  {
   "cell_type": "code",
   "execution_count": 2,
   "metadata": {},
   "outputs": [
    {
     "name": "stdout",
     "output_type": "stream",
     "text": [
      " * postgresql://postgres:***@db\n",
      "4 rows affected.\n"
     ]
    },
    {
     "data": {
      "text/html": [
       "<table>\n",
       "    <tr>\n",
       "        <th>table_catalog</th>\n",
       "        <th>table_schema</th>\n",
       "        <th>table_name</th>\n",
       "        <th>table_type</th>\n",
       "        <th>self_referencing_column_name</th>\n",
       "        <th>reference_generation</th>\n",
       "        <th>user_defined_type_catalog</th>\n",
       "        <th>user_defined_type_schema</th>\n",
       "        <th>user_defined_type_name</th>\n",
       "        <th>is_insertable_into</th>\n",
       "        <th>is_typed</th>\n",
       "        <th>commit_action</th>\n",
       "    </tr>\n",
       "    <tr>\n",
       "        <td>postgres</td>\n",
       "        <td>public</td>\n",
       "        <td>categories</td>\n",
       "        <td>BASE TABLE</td>\n",
       "        <td>None</td>\n",
       "        <td>None</td>\n",
       "        <td>None</td>\n",
       "        <td>None</td>\n",
       "        <td>None</td>\n",
       "        <td>YES</td>\n",
       "        <td>NO</td>\n",
       "        <td>None</td>\n",
       "    </tr>\n",
       "    <tr>\n",
       "        <td>postgres</td>\n",
       "        <td>public</td>\n",
       "        <td>customers</td>\n",
       "        <td>BASE TABLE</td>\n",
       "        <td>None</td>\n",
       "        <td>None</td>\n",
       "        <td>None</td>\n",
       "        <td>None</td>\n",
       "        <td>None</td>\n",
       "        <td>YES</td>\n",
       "        <td>NO</td>\n",
       "        <td>None</td>\n",
       "    </tr>\n",
       "    <tr>\n",
       "        <td>postgres</td>\n",
       "        <td>public</td>\n",
       "        <td>nwemployees</td>\n",
       "        <td>BASE TABLE</td>\n",
       "        <td>None</td>\n",
       "        <td>None</td>\n",
       "        <td>None</td>\n",
       "        <td>None</td>\n",
       "        <td>None</td>\n",
       "        <td>YES</td>\n",
       "        <td>NO</td>\n",
       "        <td>None</td>\n",
       "    </tr>\n",
       "    <tr>\n",
       "        <td>postgres</td>\n",
       "        <td>public</td>\n",
       "        <td>employeeterritories</td>\n",
       "        <td>BASE TABLE</td>\n",
       "        <td>None</td>\n",
       "        <td>None</td>\n",
       "        <td>None</td>\n",
       "        <td>None</td>\n",
       "        <td>None</td>\n",
       "        <td>YES</td>\n",
       "        <td>NO</td>\n",
       "        <td>None</td>\n",
       "    </tr>\n",
       "</table>"
      ],
      "text/plain": [
       "[('postgres', 'public', 'categories', 'BASE TABLE', None, None, None, None, None, 'YES', 'NO', None),\n",
       " ('postgres', 'public', 'customers', 'BASE TABLE', None, None, None, None, None, 'YES', 'NO', None),\n",
       " ('postgres', 'public', 'nwemployees', 'BASE TABLE', None, None, None, None, None, 'YES', 'NO', None),\n",
       " ('postgres', 'public', 'employeeterritories', 'BASE TABLE', None, None, None, None, None, 'YES', 'NO', None)]"
      ]
     },
     "execution_count": 2,
     "metadata": {},
     "output_type": "execute_result"
    }
   ],
   "source": [
    "%%sql\n",
    "\n",
    "SELECT * \n",
    "FROM INFORMATION_SCHEMA.TABLES \n",
    "WHERE TABLE_TYPE = 'BASE TABLE' and TABLE_CATALOG = 'postgres' and TABLE_SCHEMA = 'public'\n",
    "LIMIT 4;"
   ]
  },
  {
   "cell_type": "markdown",
   "metadata": {},
   "source": [
    "To print the attributes of a particular table (`employees`, for example) run:"
   ]
  },
  {
   "cell_type": "code",
   "execution_count": 3,
   "metadata": {},
   "outputs": [
    {
     "name": "stdout",
     "output_type": "stream",
     "text": [
      " * postgresql://postgres:***@db\n",
      "4 rows affected.\n"
     ]
    },
    {
     "data": {
      "text/html": [
       "<table>\n",
       "    <tr>\n",
       "        <th>column_name</th>\n",
       "        <th>data_type</th>\n",
       "        <th>character_maximum_length</th>\n",
       "    </tr>\n",
       "    <tr>\n",
       "        <td>emp_no</td>\n",
       "        <td>integer</td>\n",
       "        <td>None</td>\n",
       "    </tr>\n",
       "    <tr>\n",
       "        <td>birth_date</td>\n",
       "        <td>date</td>\n",
       "        <td>None</td>\n",
       "    </tr>\n",
       "    <tr>\n",
       "        <td>gender</td>\n",
       "        <td>USER-DEFINED</td>\n",
       "        <td>None</td>\n",
       "    </tr>\n",
       "    <tr>\n",
       "        <td>hire_date</td>\n",
       "        <td>date</td>\n",
       "        <td>None</td>\n",
       "    </tr>\n",
       "</table>"
      ],
      "text/plain": [
       "[('emp_no', 'integer', None),\n",
       " ('birth_date', 'date', None),\n",
       " ('gender', 'USER-DEFINED', None),\n",
       " ('hire_date', 'date', None)]"
      ]
     },
     "execution_count": 3,
     "metadata": {},
     "output_type": "execute_result"
    }
   ],
   "source": [
    "%%sql\n",
    "\n",
    "SELECT column_name, data_type, character_maximum_length\n",
    "FROM INFORMATION_SCHEMA.COLUMNS \n",
    "WHERE table_name = 'employees'\n",
    "LIMIT 4;"
   ]
  },
  {
   "cell_type": "markdown",
   "metadata": {},
   "source": [
    "## Useful SQL Keywords"
   ]
  },
  {
   "cell_type": "markdown",
   "metadata": {},
   "source": [
    "The Keyword `SELECT DISTINCT` is used to return only distinct values. For example:"
   ]
  },
  {
   "cell_type": "code",
   "execution_count": 4,
   "metadata": {},
   "outputs": [
    {
     "name": "stdout",
     "output_type": "stream",
     "text": [
      " * postgresql://postgres:***@db\n",
      "7 rows affected.\n"
     ]
    },
    {
     "data": {
      "text/html": [
       "<table>\n",
       "    <tr>\n",
       "        <th>title</th>\n",
       "    </tr>\n",
       "    <tr>\n",
       "        <td>Engineer</td>\n",
       "    </tr>\n",
       "    <tr>\n",
       "        <td>Senior Engineer</td>\n",
       "    </tr>\n",
       "    <tr>\n",
       "        <td>Manager</td>\n",
       "    </tr>\n",
       "    <tr>\n",
       "        <td>Assistant Engineer</td>\n",
       "    </tr>\n",
       "    <tr>\n",
       "        <td>Staff</td>\n",
       "    </tr>\n",
       "    <tr>\n",
       "        <td>Senior Staff</td>\n",
       "    </tr>\n",
       "    <tr>\n",
       "        <td>Technique Leader</td>\n",
       "    </tr>\n",
       "</table>"
      ],
      "text/plain": [
       "[('Engineer',),\n",
       " ('Senior Engineer',),\n",
       " ('Manager',),\n",
       " ('Assistant Engineer',),\n",
       " ('Staff',),\n",
       " ('Senior Staff',),\n",
       " ('Technique Leader',)]"
      ]
     },
     "execution_count": 4,
     "metadata": {},
     "output_type": "execute_result"
    }
   ],
   "source": [
    "%%sql\n",
    "SELECT DISTINCT title FROM titles;"
   ]
  },
  {
   "cell_type": "markdown",
   "metadata": {},
   "source": [
    "The keyword `EXTRACT` is used to access the components of temporal data types (i.e. date, time, timestamp, and interval). For example:"
   ]
  },
  {
   "cell_type": "code",
   "execution_count": 5,
   "metadata": {},
   "outputs": [
    {
     "name": "stdout",
     "output_type": "stream",
     "text": [
      " * postgresql://postgres:***@db\n",
      "2 rows affected.\n"
     ]
    },
    {
     "data": {
      "text/html": [
       "<table>\n",
       "    <tr>\n",
       "        <th>emp_no</th>\n",
       "        <th>title</th>\n",
       "        <th>from_date</th>\n",
       "        <th>to_date</th>\n",
       "    </tr>\n",
       "    <tr>\n",
       "        <td>10541</td>\n",
       "        <td>Staff</td>\n",
       "        <td>1986-02-28</td>\n",
       "        <td>1986-10-01</td>\n",
       "    </tr>\n",
       "    <tr>\n",
       "        <td>10905</td>\n",
       "        <td>Senior Engineer</td>\n",
       "        <td>1985-02-28</td>\n",
       "        <td>1986-03-07</td>\n",
       "    </tr>\n",
       "</table>"
      ],
      "text/plain": [
       "[(10541, 'Staff', datetime.date(1986, 2, 28), datetime.date(1986, 10, 1)),\n",
       " (10905, 'Senior Engineer', datetime.date(1985, 2, 28), datetime.date(1986, 3, 7))]"
      ]
     },
     "execution_count": 5,
     "metadata": {},
     "output_type": "execute_result"
    }
   ],
   "source": [
    "%%sql\n",
    "SELECT * FROM titles WHERE EXTRACT(YEAR FROM to_date) < 1987;"
   ]
  },
  {
   "cell_type": "markdown",
   "metadata": {},
   "source": [
    "## Exam database − data about employees of a company"
   ]
  },
  {
   "cell_type": "markdown",
   "metadata": {},
   "source": [
    "The dataset consists of relations containing information such as titles, birth dates and salaires about employees of a (fictitious) company. \n",
    "\n",
    "Here is some basic information on the database tables."
   ]
  },
  {
   "cell_type": "markdown",
   "metadata": {},
   "source": [
    "### 1) `departments` table\n",
    "\n",
    "Contains the mapping from the identifier `dept_no` to `dept_name`.\n",
    "\n",
    "* `dept_no` is the identifier of the department.\n",
    "\n",
    "* `dept_name` is the name of the department."
   ]
  },
  {
   "cell_type": "code",
   "execution_count": 6,
   "metadata": {},
   "outputs": [
    {
     "name": "stdout",
     "output_type": "stream",
     "text": [
      " * postgresql://postgres:***@db\n",
      "4 rows affected.\n"
     ]
    },
    {
     "data": {
      "text/html": [
       "<table>\n",
       "    <tr>\n",
       "        <th>dept_no</th>\n",
       "        <th>dept_name</th>\n",
       "    </tr>\n",
       "    <tr>\n",
       "        <td>d001</td>\n",
       "        <td>Marketing</td>\n",
       "    </tr>\n",
       "    <tr>\n",
       "        <td>d002</td>\n",
       "        <td>Finance</td>\n",
       "    </tr>\n",
       "    <tr>\n",
       "        <td>d003</td>\n",
       "        <td>Human Resources</td>\n",
       "    </tr>\n",
       "    <tr>\n",
       "        <td>d004</td>\n",
       "        <td>Production</td>\n",
       "    </tr>\n",
       "</table>"
      ],
      "text/plain": [
       "[('d001', 'Marketing'),\n",
       " ('d002', 'Finance'),\n",
       " ('d003', 'Human Resources'),\n",
       " ('d004', 'Production')]"
      ]
     },
     "execution_count": 6,
     "metadata": {},
     "output_type": "execute_result"
    }
   ],
   "source": [
    "%%sql\n",
    "SELECT * FROM departments\n",
    "LIMIT 4;"
   ]
  },
  {
   "cell_type": "markdown",
   "metadata": {},
   "source": [
    "### 2) `dept_emp` table\n",
    "\n",
    "Contains information about which departments employees work for.\n",
    "\n",
    "* `emp_no` is the employee id as defined in the `employees` table.\n",
    "* `dept_no` is the department id.\n",
    "* `from_date` is the date from which the employee has been employed by the department.\n",
    "* `to_date` is the date until which the employee has been employed by the department.\n",
    "\n",
    "Note that the date `9999-01-01` indicates that the employee is still employed by this particular department."
   ]
  },
  {
   "cell_type": "code",
   "execution_count": 7,
   "metadata": {},
   "outputs": [
    {
     "name": "stdout",
     "output_type": "stream",
     "text": [
      " * postgresql://postgres:***@db\n",
      "4 rows affected.\n"
     ]
    },
    {
     "data": {
      "text/html": [
       "<table>\n",
       "    <tr>\n",
       "        <th>emp_no</th>\n",
       "        <th>dept_no</th>\n",
       "        <th>from_date</th>\n",
       "        <th>to_date</th>\n",
       "    </tr>\n",
       "    <tr>\n",
       "        <td>10001</td>\n",
       "        <td>d005</td>\n",
       "        <td>1986-06-26</td>\n",
       "        <td>9999-01-01</td>\n",
       "    </tr>\n",
       "    <tr>\n",
       "        <td>10002</td>\n",
       "        <td>d007</td>\n",
       "        <td>1996-08-03</td>\n",
       "        <td>9999-01-01</td>\n",
       "    </tr>\n",
       "    <tr>\n",
       "        <td>10003</td>\n",
       "        <td>d004</td>\n",
       "        <td>1995-12-03</td>\n",
       "        <td>9999-01-01</td>\n",
       "    </tr>\n",
       "    <tr>\n",
       "        <td>10004</td>\n",
       "        <td>d004</td>\n",
       "        <td>1986-12-01</td>\n",
       "        <td>9999-01-01</td>\n",
       "    </tr>\n",
       "</table>"
      ],
      "text/plain": [
       "[(10001, 'd005', datetime.date(1986, 6, 26), datetime.date(9999, 1, 1)),\n",
       " (10002, 'd007', datetime.date(1996, 8, 3), datetime.date(9999, 1, 1)),\n",
       " (10003, 'd004', datetime.date(1995, 12, 3), datetime.date(9999, 1, 1)),\n",
       " (10004, 'd004', datetime.date(1986, 12, 1), datetime.date(9999, 1, 1))]"
      ]
     },
     "execution_count": 7,
     "metadata": {},
     "output_type": "execute_result"
    }
   ],
   "source": [
    "%%sql\n",
    "SELECT * FROM dept_emp LIMIT 4;"
   ]
  },
  {
   "cell_type": "markdown",
   "metadata": {},
   "source": [
    "### 3) `dept_manager` table\n",
    "\n",
    "Contains information about which employee has been the manager of a department and during which time.\n",
    "\n",
    "* `emp_no` is the employee id as defined in the `employees` table.\n",
    "* `dept_no` is the department id.\n",
    "* `from_date` is the date from which the employee was manager of the department.\n",
    "* `to_date` is the date until which the employee was manager of the department.\n",
    "\n",
    "Note that the date `9999-01-01` indicates that the employee is still the manager of this particular department."
   ]
  },
  {
   "cell_type": "code",
   "execution_count": 8,
   "metadata": {},
   "outputs": [
    {
     "name": "stdout",
     "output_type": "stream",
     "text": [
      " * postgresql://postgres:***@db\n",
      "4 rows affected.\n"
     ]
    },
    {
     "data": {
      "text/html": [
       "<table>\n",
       "    <tr>\n",
       "        <th>emp_no</th>\n",
       "        <th>dept_no</th>\n",
       "        <th>from_date</th>\n",
       "        <th>to_date</th>\n",
       "    </tr>\n",
       "    <tr>\n",
       "        <td>11001</td>\n",
       "        <td>d001</td>\n",
       "        <td>1985-01-01</td>\n",
       "        <td>1991-10-01</td>\n",
       "    </tr>\n",
       "    <tr>\n",
       "        <td>11002</td>\n",
       "        <td>d001</td>\n",
       "        <td>1991-10-01</td>\n",
       "        <td>9999-01-01</td>\n",
       "    </tr>\n",
       "    <tr>\n",
       "        <td>11003</td>\n",
       "        <td>d002</td>\n",
       "        <td>1985-01-01</td>\n",
       "        <td>1989-12-17</td>\n",
       "    </tr>\n",
       "    <tr>\n",
       "        <td>11004</td>\n",
       "        <td>d002</td>\n",
       "        <td>1989-12-17</td>\n",
       "        <td>9999-01-01</td>\n",
       "    </tr>\n",
       "</table>"
      ],
      "text/plain": [
       "[(11001, 'd001', datetime.date(1985, 1, 1), datetime.date(1991, 10, 1)),\n",
       " (11002, 'd001', datetime.date(1991, 10, 1), datetime.date(9999, 1, 1)),\n",
       " (11003, 'd002', datetime.date(1985, 1, 1), datetime.date(1989, 12, 17)),\n",
       " (11004, 'd002', datetime.date(1989, 12, 17), datetime.date(9999, 1, 1))]"
      ]
     },
     "execution_count": 8,
     "metadata": {},
     "output_type": "execute_result"
    }
   ],
   "source": [
    "%%sql\n",
    "SELECT * FROM dept_manager LIMIT 4;"
   ]
  },
  {
   "cell_type": "markdown",
   "metadata": {},
   "source": [
    "### 4) `employees` table\n",
    "\n",
    "Contains information about each employee of the company.\n",
    "\n",
    "* `emp_no` is the employee id as defined in the `employees` table.\n",
    "* `birth_date` is the birth date of the employee.\n",
    "* `first_name` if the first name of the employee.\n",
    "* `last_name` is the last name of the employee.\n",
    "* `gender` is the gender of the employee.\n",
    "* `hire_date` is the date on which the employee was hired."
   ]
  },
  {
   "cell_type": "code",
   "execution_count": 9,
   "metadata": {},
   "outputs": [
    {
     "name": "stdout",
     "output_type": "stream",
     "text": [
      " * postgresql://postgres:***@db\n",
      "4 rows affected.\n"
     ]
    },
    {
     "data": {
      "text/html": [
       "<table>\n",
       "    <tr>\n",
       "        <th>emp_no</th>\n",
       "        <th>birth_date</th>\n",
       "        <th>first_name</th>\n",
       "        <th>last_name</th>\n",
       "        <th>gender</th>\n",
       "        <th>hire_date</th>\n",
       "    </tr>\n",
       "    <tr>\n",
       "        <td>10001</td>\n",
       "        <td>1953-09-02</td>\n",
       "        <td>Georgi</td>\n",
       "        <td>Facello</td>\n",
       "        <td>M</td>\n",
       "        <td>1986-06-26</td>\n",
       "    </tr>\n",
       "    <tr>\n",
       "        <td>10002</td>\n",
       "        <td>1964-06-02</td>\n",
       "        <td>Bezalel</td>\n",
       "        <td>Simmel</td>\n",
       "        <td>F</td>\n",
       "        <td>1985-11-21</td>\n",
       "    </tr>\n",
       "    <tr>\n",
       "        <td>10003</td>\n",
       "        <td>1959-12-03</td>\n",
       "        <td>Parto</td>\n",
       "        <td>Bamford</td>\n",
       "        <td>M</td>\n",
       "        <td>1986-08-28</td>\n",
       "    </tr>\n",
       "    <tr>\n",
       "        <td>10004</td>\n",
       "        <td>1954-05-01</td>\n",
       "        <td>Chirstian</td>\n",
       "        <td>Koblick</td>\n",
       "        <td>M</td>\n",
       "        <td>1986-12-01</td>\n",
       "    </tr>\n",
       "</table>"
      ],
      "text/plain": [
       "[(10001, datetime.date(1953, 9, 2), 'Georgi', 'Facello', 'M', datetime.date(1986, 6, 26)),\n",
       " (10002, datetime.date(1964, 6, 2), 'Bezalel', 'Simmel', 'F', datetime.date(1985, 11, 21)),\n",
       " (10003, datetime.date(1959, 12, 3), 'Parto', 'Bamford', 'M', datetime.date(1986, 8, 28)),\n",
       " (10004, datetime.date(1954, 5, 1), 'Chirstian', 'Koblick', 'M', datetime.date(1986, 12, 1))]"
      ]
     },
     "execution_count": 9,
     "metadata": {},
     "output_type": "execute_result"
    }
   ],
   "source": [
    "%%sql\n",
    "SELECT * FROM employees LIMIT 4;"
   ]
  },
  {
   "cell_type": "markdown",
   "metadata": {},
   "source": [
    "### 5) `salaries` table\n",
    "\n",
    "Contains information about the salaries of employees.\n",
    "\n",
    "* `emp_no` is the employee id as defined in the `employees` table.\n",
    "* `salary` is the salary which the employed is / was paid.\n",
    "* `from_date` is the date from which the employee was paid the salary specified in the `salary` attribute.\n",
    "* `to_date` is the date until which the employee was paid the salary specified in the `salary` attribute.\n",
    "\n",
    "Note that the date `9999-01-01` indicates that the employee is currently being paid the salary specified in the `salary` attribute."
   ]
  },
  {
   "cell_type": "code",
   "execution_count": 10,
   "metadata": {},
   "outputs": [
    {
     "name": "stdout",
     "output_type": "stream",
     "text": [
      " * postgresql://postgres:***@db\n",
      "4 rows affected.\n"
     ]
    },
    {
     "data": {
      "text/html": [
       "<table>\n",
       "    <tr>\n",
       "        <th>emp_no</th>\n",
       "        <th>salary</th>\n",
       "        <th>from_date</th>\n",
       "        <th>to_date</th>\n",
       "    </tr>\n",
       "    <tr>\n",
       "        <td>10001</td>\n",
       "        <td>60117</td>\n",
       "        <td>1986-06-26</td>\n",
       "        <td>1987-06-26</td>\n",
       "    </tr>\n",
       "    <tr>\n",
       "        <td>10001</td>\n",
       "        <td>62102</td>\n",
       "        <td>1987-06-26</td>\n",
       "        <td>1988-06-25</td>\n",
       "    </tr>\n",
       "    <tr>\n",
       "        <td>10001</td>\n",
       "        <td>66074</td>\n",
       "        <td>1988-06-25</td>\n",
       "        <td>1989-06-25</td>\n",
       "    </tr>\n",
       "    <tr>\n",
       "        <td>10001</td>\n",
       "        <td>66596</td>\n",
       "        <td>1989-06-25</td>\n",
       "        <td>1990-06-25</td>\n",
       "    </tr>\n",
       "</table>"
      ],
      "text/plain": [
       "[(10001, 60117, datetime.date(1986, 6, 26), datetime.date(1987, 6, 26)),\n",
       " (10001, 62102, datetime.date(1987, 6, 26), datetime.date(1988, 6, 25)),\n",
       " (10001, 66074, datetime.date(1988, 6, 25), datetime.date(1989, 6, 25)),\n",
       " (10001, 66596, datetime.date(1989, 6, 25), datetime.date(1990, 6, 25))]"
      ]
     },
     "execution_count": 10,
     "metadata": {},
     "output_type": "execute_result"
    }
   ],
   "source": [
    "%%sql\n",
    "SELECT * FROM salaries LIMIT 4;"
   ]
  },
  {
   "cell_type": "markdown",
   "metadata": {},
   "source": [
    "### 6) `titles` table"
   ]
  },
  {
   "cell_type": "markdown",
   "metadata": {},
   "source": [
    "Contains information about the titles of employees.\n",
    "\n",
    "* `emp_no` is the employee id as defined in the `employees` table.\n",
    "* `title` is the title which the employee holds/held.\n",
    "* `from_date` is the date from which the employee held the title specified in the `title` attribute.\n",
    "* `to_date` is the date until which the employee held the title specified in the `title` attribute.\n",
    "\n",
    "Note that the date `9999-01-01` indicates that the employee currently holds the title specified in the `title` attribute."
   ]
  },
  {
   "cell_type": "code",
   "execution_count": 11,
   "metadata": {},
   "outputs": [
    {
     "name": "stdout",
     "output_type": "stream",
     "text": [
      " * postgresql://postgres:***@db\n",
      "4 rows affected.\n"
     ]
    },
    {
     "data": {
      "text/html": [
       "<table>\n",
       "    <tr>\n",
       "        <th>emp_no</th>\n",
       "        <th>title</th>\n",
       "        <th>from_date</th>\n",
       "        <th>to_date</th>\n",
       "    </tr>\n",
       "    <tr>\n",
       "        <td>10001</td>\n",
       "        <td>Senior Engineer</td>\n",
       "        <td>1986-06-26</td>\n",
       "        <td>9999-01-01</td>\n",
       "    </tr>\n",
       "    <tr>\n",
       "        <td>10002</td>\n",
       "        <td>Staff</td>\n",
       "        <td>1996-08-03</td>\n",
       "        <td>9999-01-01</td>\n",
       "    </tr>\n",
       "    <tr>\n",
       "        <td>10003</td>\n",
       "        <td>Senior Engineer</td>\n",
       "        <td>1995-12-03</td>\n",
       "        <td>9999-01-01</td>\n",
       "    </tr>\n",
       "    <tr>\n",
       "        <td>10004</td>\n",
       "        <td>Engineer</td>\n",
       "        <td>1986-12-01</td>\n",
       "        <td>1995-12-01</td>\n",
       "    </tr>\n",
       "</table>"
      ],
      "text/plain": [
       "[(10001, 'Senior Engineer', datetime.date(1986, 6, 26), datetime.date(9999, 1, 1)),\n",
       " (10002, 'Staff', datetime.date(1996, 8, 3), datetime.date(9999, 1, 1)),\n",
       " (10003, 'Senior Engineer', datetime.date(1995, 12, 3), datetime.date(9999, 1, 1)),\n",
       " (10004, 'Engineer', datetime.date(1986, 12, 1), datetime.date(1995, 12, 1))]"
      ]
     },
     "execution_count": 11,
     "metadata": {},
     "output_type": "execute_result"
    }
   ],
   "source": [
    "%%sql\n",
    "SELECT * FROM titles LIMIT 4;"
   ]
  },
  {
   "cell_type": "markdown",
   "metadata": {},
   "source": [
    "##### Note: the examples provided above do not contain all the query operations you might need during the exam.\n",
    "\n",
    "Now its your turn, you can write all your queries in new cells below. Feel free to add as many cells as needed."
   ]
  },
  {
   "cell_type": "markdown",
   "metadata": {},
   "source": [
    "---"
   ]
  },
  {
   "cell_type": "markdown",
   "metadata": {},
   "source": [
    "# Round 1"
   ]
  },
  {
   "cell_type": "code",
   "execution_count": 12,
   "metadata": {},
   "outputs": [
    {
     "name": "stdout",
     "output_type": "stream",
     "text": [
      " * postgresql://postgres:***@db\n",
      "1 rows affected.\n"
     ]
    },
    {
     "data": {
      "text/html": [
       "<table>\n",
       "    <tr>\n",
       "        <th>count</th>\n",
       "    </tr>\n",
       "    <tr>\n",
       "        <td>706</td>\n",
       "    </tr>\n",
       "</table>"
      ],
      "text/plain": [
       "[(706,)]"
      ]
     },
     "execution_count": 12,
     "metadata": {},
     "output_type": "execute_result"
    }
   ],
   "source": [
    "%%sql\n",
    "SELECT COUNT(DISTINCT first_name)\n",
    "FROM employees;"
   ]
  },
  {
   "cell_type": "code",
   "execution_count": 13,
   "metadata": {},
   "outputs": [
    {
     "name": "stdout",
     "output_type": "stream",
     "text": [
      " * postgresql://postgres:***@db\n",
      "1 rows affected.\n"
     ]
    },
    {
     "data": {
      "text/html": [
       "<table>\n",
       "    <tr>\n",
       "        <th>count</th>\n",
       "    </tr>\n",
       "    <tr>\n",
       "        <td>150</td>\n",
       "    </tr>\n",
       "</table>"
      ],
      "text/plain": [
       "[(150,)]"
      ]
     },
     "execution_count": 13,
     "metadata": {},
     "output_type": "execute_result"
    }
   ],
   "source": [
    "%%sql\n",
    "SELECT COUNT(*)\n",
    "FROM employees\n",
    "WHERE gender = 'F' AND birth_date >= '1960-01-01'\n",
    "LIMIT 10;"
   ]
  },
  {
   "cell_type": "code",
   "execution_count": 14,
   "metadata": {},
   "outputs": [
    {
     "name": "stdout",
     "output_type": "stream",
     "text": [
      " * postgresql://postgres:***@db\n",
      "1 rows affected.\n"
     ]
    },
    {
     "data": {
      "text/html": [
       "<table>\n",
       "    <tr>\n",
       "        <th>count</th>\n",
       "    </tr>\n",
       "    <tr>\n",
       "        <td>53</td>\n",
       "    </tr>\n",
       "</table>"
      ],
      "text/plain": [
       "[(53,)]"
      ]
     },
     "execution_count": 14,
     "metadata": {},
     "output_type": "execute_result"
    }
   ],
   "source": [
    "%%sql\n",
    "SELECT COUNT(DISTINCT emp_no)\n",
    "FROM dept_emp \n",
    "WHERE dept_no = 'd008' AND to_date = '9999-01-01'\n",
    "LIMIT 4;"
   ]
  },
  {
   "cell_type": "code",
   "execution_count": 15,
   "metadata": {},
   "outputs": [
    {
     "name": "stdout",
     "output_type": "stream",
     "text": [
      " * postgresql://postgres:***@db\n",
      "1 rows affected.\n"
     ]
    },
    {
     "data": {
      "text/html": [
       "<table>\n",
       "    <tr>\n",
       "        <th>round</th>\n",
       "    </tr>\n",
       "    <tr>\n",
       "        <td>59829</td>\n",
       "    </tr>\n",
       "</table>"
      ],
      "text/plain": [
       "[(Decimal('59829'),)]"
      ]
     },
     "execution_count": 15,
     "metadata": {},
     "output_type": "execute_result"
    }
   ],
   "source": [
    "%%sql\n",
    "SELECT ROUND(AVG(salary))\n",
    "FROM dept_emp d\n",
    "JOIN salaries s\n",
    "ON s.emp_no = d.emp_no\n",
    "WHERE d.dept_no = 'd004'\n",
    "LIMIT 4;"
   ]
  },
  {
   "cell_type": "code",
   "execution_count": 16,
   "metadata": {},
   "outputs": [
    {
     "name": "stdout",
     "output_type": "stream",
     "text": [
      " * postgresql://postgres:***@db\n",
      "1 rows affected.\n"
     ]
    },
    {
     "data": {
      "text/html": [
       "<table>\n",
       "    <tr>\n",
       "        <th>min</th>\n",
       "    </tr>\n",
       "    <tr>\n",
       "        <td>43311</td>\n",
       "    </tr>\n",
       "</table>"
      ],
      "text/plain": [
       "[(43311,)]"
      ]
     },
     "execution_count": 16,
     "metadata": {},
     "output_type": "execute_result"
    }
   ],
   "source": [
    "%%sql\n",
    "SELECT MIN(s.salary)\n",
    "FROM employees e\n",
    "JOIN salaries s\n",
    "ON s.emp_no = e.emp_no\n",
    "JOIN titles t\n",
    "ON t.emp_no = e.emp_no\n",
    "WHERE t.title = 'Senior Engineer' AND s.to_date = '9999-01-01'\n",
    "LIMIT 10;"
   ]
  },
  {
   "cell_type": "code",
   "execution_count": 17,
   "metadata": {},
   "outputs": [
    {
     "name": "stdout",
     "output_type": "stream",
     "text": [
      " * postgresql://postgres:***@db\n",
      "1 rows affected.\n"
     ]
    },
    {
     "data": {
      "text/html": [
       "<table>\n",
       "    <tr>\n",
       "        <th>count</th>\n",
       "    </tr>\n",
       "    <tr>\n",
       "        <td>18</td>\n",
       "    </tr>\n",
       "</table>"
      ],
      "text/plain": [
       "[(18,)]"
      ]
     },
     "execution_count": 17,
     "metadata": {},
     "output_type": "execute_result"
    }
   ],
   "source": [
    "%%sql\n",
    "SELECT COUNT(*)\n",
    "FROM employees e\n",
    "JOIN dept_emp d\n",
    "ON e.emp_no = d.emp_no\n",
    "WHERE e.gender = 'F' AND d.to_date='9999-01-01' AND d.dept_no = 'd006'\n",
    "LIMIT 10;"
   ]
  },
  {
   "cell_type": "code",
   "execution_count": 18,
   "metadata": {},
   "outputs": [
    {
     "name": "stdout",
     "output_type": "stream",
     "text": [
      " * postgresql://postgres:***@db\n",
      "10 rows affected.\n"
     ]
    },
    {
     "data": {
      "text/html": [
       "<table>\n",
       "    <tr>\n",
       "        <th>emp_no</th>\n",
       "        <th>dept_no</th>\n",
       "        <th>from_date</th>\n",
       "        <th>to_date</th>\n",
       "    </tr>\n",
       "    <tr>\n",
       "        <td>10001</td>\n",
       "        <td>d005</td>\n",
       "        <td>1986-06-26</td>\n",
       "        <td>9999-01-01</td>\n",
       "    </tr>\n",
       "    <tr>\n",
       "        <td>10002</td>\n",
       "        <td>d007</td>\n",
       "        <td>1996-08-03</td>\n",
       "        <td>9999-01-01</td>\n",
       "    </tr>\n",
       "    <tr>\n",
       "        <td>10003</td>\n",
       "        <td>d004</td>\n",
       "        <td>1995-12-03</td>\n",
       "        <td>9999-01-01</td>\n",
       "    </tr>\n",
       "    <tr>\n",
       "        <td>10004</td>\n",
       "        <td>d004</td>\n",
       "        <td>1986-12-01</td>\n",
       "        <td>9999-01-01</td>\n",
       "    </tr>\n",
       "    <tr>\n",
       "        <td>10005</td>\n",
       "        <td>d003</td>\n",
       "        <td>1989-09-12</td>\n",
       "        <td>9999-01-01</td>\n",
       "    </tr>\n",
       "    <tr>\n",
       "        <td>10006</td>\n",
       "        <td>d005</td>\n",
       "        <td>1990-08-05</td>\n",
       "        <td>9999-01-01</td>\n",
       "    </tr>\n",
       "    <tr>\n",
       "        <td>10007</td>\n",
       "        <td>d008</td>\n",
       "        <td>1989-02-10</td>\n",
       "        <td>9999-01-01</td>\n",
       "    </tr>\n",
       "    <tr>\n",
       "        <td>10008</td>\n",
       "        <td>d005</td>\n",
       "        <td>1998-03-11</td>\n",
       "        <td>2000-07-31</td>\n",
       "    </tr>\n",
       "    <tr>\n",
       "        <td>10009</td>\n",
       "        <td>d006</td>\n",
       "        <td>1985-02-18</td>\n",
       "        <td>9999-01-01</td>\n",
       "    </tr>\n",
       "    <tr>\n",
       "        <td>10010</td>\n",
       "        <td>d004</td>\n",
       "        <td>1996-11-24</td>\n",
       "        <td>2000-06-26</td>\n",
       "    </tr>\n",
       "</table>"
      ],
      "text/plain": [
       "[(10001, 'd005', datetime.date(1986, 6, 26), datetime.date(9999, 1, 1)),\n",
       " (10002, 'd007', datetime.date(1996, 8, 3), datetime.date(9999, 1, 1)),\n",
       " (10003, 'd004', datetime.date(1995, 12, 3), datetime.date(9999, 1, 1)),\n",
       " (10004, 'd004', datetime.date(1986, 12, 1), datetime.date(9999, 1, 1)),\n",
       " (10005, 'd003', datetime.date(1989, 9, 12), datetime.date(9999, 1, 1)),\n",
       " (10006, 'd005', datetime.date(1990, 8, 5), datetime.date(9999, 1, 1)),\n",
       " (10007, 'd008', datetime.date(1989, 2, 10), datetime.date(9999, 1, 1)),\n",
       " (10008, 'd005', datetime.date(1998, 3, 11), datetime.date(2000, 7, 31)),\n",
       " (10009, 'd006', datetime.date(1985, 2, 18), datetime.date(9999, 1, 1)),\n",
       " (10010, 'd004', datetime.date(1996, 11, 24), datetime.date(2000, 6, 26))]"
      ]
     },
     "execution_count": 18,
     "metadata": {},
     "output_type": "execute_result"
    }
   ],
   "source": [
    "%%sql\n",
    "SELECT *\n",
    "FROM dept_emp\n",
    "LIMIT 10;"
   ]
  },
  {
   "cell_type": "code",
   "execution_count": 19,
   "metadata": {},
   "outputs": [
    {
     "name": "stdout",
     "output_type": "stream",
     "text": [
      " * postgresql://postgres:***@db\n",
      "1 rows affected.\n"
     ]
    },
    {
     "data": {
      "text/html": [
       "<table>\n",
       "    <tr>\n",
       "        <th>min_date</th>\n",
       "    </tr>\n",
       "    <tr>\n",
       "        <td>1985-01-01</td>\n",
       "    </tr>\n",
       "</table>"
      ],
      "text/plain": [
       "[(datetime.date(1985, 1, 1),)]"
      ]
     },
     "execution_count": 19,
     "metadata": {},
     "output_type": "execute_result"
    }
   ],
   "source": [
    "%%sql\n",
    "SELECT MIN(e.hire_date) AS min_date\n",
    "FROM employees e\n",
    "JOIN dept_emp d\n",
    "ON e.emp_no = d.emp_no\n",
    "JOIN departments dt\n",
    "ON dt.dept_no = d.dept_no\n",
    "WHERE dt.dept_no = (SELECT dept_no\n",
    "                    FROM employees e2\n",
    "                    JOIN dept_emp d2\n",
    "                    ON e2.emp_no = d2.emp_no\n",
    "                    GROUP BY d2.dept_no\n",
    "                    ORDER BY MAX(e2.hire_date) DESC\n",
    "                    LIMIT 1);"
   ]
  },
  {
   "cell_type": "code",
   "execution_count": 20,
   "metadata": {},
   "outputs": [
    {
     "name": "stdout",
     "output_type": "stream",
     "text": [
      " * postgresql://postgres:***@db\n",
      "1 rows affected.\n"
     ]
    },
    {
     "data": {
      "text/html": [
       "<table>\n",
       "    <tr>\n",
       "        <th>first_name</th>\n",
       "    </tr>\n",
       "    <tr>\n",
       "        <td>Kazuhito</td>\n",
       "    </tr>\n",
       "</table>"
      ],
      "text/plain": [
       "[('Kazuhito',)]"
      ]
     },
     "execution_count": 20,
     "metadata": {},
     "output_type": "execute_result"
    }
   ],
   "source": [
    "%%sql\n",
    "SELECT e.first_name\n",
    "FROM employees e \n",
    "JOIN titles t\n",
    "ON t.emp_no = e.emp_no\n",
    "WHERE t.title = 'Senior Engineer' AND e.emp_no IN\n",
    "    (SELECT emp_no\n",
    "    FROM salaries\n",
    "    GROUP BY emp_no\n",
    "    HAVING COUNT(*) < 5 OR COUNT(*) > 15)\n",
    "ORDER BY hire_date DESC\n",
    "LIMIT 1"
   ]
  },
  {
   "cell_type": "code",
   "execution_count": 21,
   "metadata": {},
   "outputs": [
    {
     "name": "stdout",
     "output_type": "stream",
     "text": [
      " * postgresql://postgres:***@db\n",
      "1 rows affected.\n"
     ]
    },
    {
     "data": {
      "text/html": [
       "<table>\n",
       "    <tr>\n",
       "        <th>count</th>\n",
       "    </tr>\n",
       "    <tr>\n",
       "        <td>7</td>\n",
       "    </tr>\n",
       "</table>"
      ],
      "text/plain": [
       "[(7,)]"
      ]
     },
     "execution_count": 21,
     "metadata": {},
     "output_type": "execute_result"
    }
   ],
   "source": [
    "%%sql\n",
    "SELECT COUNT(*)\n",
    "FROM employees e\n",
    "JOIN dept_emp d\n",
    "ON e.emp_no = d.emp_no\n",
    "WHERE   d.to_date = '9999-01-01' AND \n",
    "        EXTRACT(year FROM birth_date) = 1959 AND\n",
    "        d.dept_no = 'd008'\n",
    "LIMIT 10;"
   ]
  },
  {
   "cell_type": "markdown",
   "metadata": {},
   "source": [
    "---"
   ]
  },
  {
   "cell_type": "markdown",
   "metadata": {},
   "source": [
    "# Round 2"
   ]
  },
  {
   "cell_type": "code",
   "execution_count": 22,
   "metadata": {},
   "outputs": [
    {
     "name": "stdout",
     "output_type": "stream",
     "text": [
      " * postgresql://postgres:***@db\n",
      "1 rows affected.\n"
     ]
    },
    {
     "data": {
      "text/html": [
       "<table>\n",
       "    <tr>\n",
       "        <th>count</th>\n",
       "    </tr>\n",
       "    <tr>\n",
       "        <td>706</td>\n",
       "    </tr>\n",
       "</table>"
      ],
      "text/plain": [
       "[(706,)]"
      ]
     },
     "execution_count": 22,
     "metadata": {},
     "output_type": "execute_result"
    }
   ],
   "source": [
    "%%sql\n",
    "SELECT COUNT(DISTINCT first_name)\n",
    "FROM employees\n",
    "LIMIT 10;"
   ]
  },
  {
   "cell_type": "code",
   "execution_count": 23,
   "metadata": {},
   "outputs": [
    {
     "name": "stdout",
     "output_type": "stream",
     "text": [
      " * postgresql://postgres:***@db\n",
      "1 rows affected.\n"
     ]
    },
    {
     "data": {
      "text/html": [
       "<table>\n",
       "    <tr>\n",
       "        <th>count</th>\n",
       "    </tr>\n",
       "    <tr>\n",
       "        <td>150</td>\n",
       "    </tr>\n",
       "</table>"
      ],
      "text/plain": [
       "[(150,)]"
      ]
     },
     "execution_count": 23,
     "metadata": {},
     "output_type": "execute_result"
    }
   ],
   "source": [
    "%%sql\n",
    "SELECT COUNT(*)\n",
    "FROM employees\n",
    "WHERE gender = 'F' AND birth_date >= '1960-01-01'\n",
    "LIMIT 10;"
   ]
  },
  {
   "cell_type": "code",
   "execution_count": 24,
   "metadata": {},
   "outputs": [
    {
     "name": "stdout",
     "output_type": "stream",
     "text": [
      " * postgresql://postgres:***@db\n",
      "1 rows affected.\n"
     ]
    },
    {
     "data": {
      "text/html": [
       "<table>\n",
       "    <tr>\n",
       "        <th>count</th>\n",
       "    </tr>\n",
       "    <tr>\n",
       "        <td>53</td>\n",
       "    </tr>\n",
       "</table>"
      ],
      "text/plain": [
       "[(53,)]"
      ]
     },
     "execution_count": 24,
     "metadata": {},
     "output_type": "execute_result"
    }
   ],
   "source": [
    "%%sql\n",
    "SELECT COUNT(*)\n",
    "FROM employees e\n",
    "JOIN dept_emp de\n",
    "ON e.emp_no = de.emp_no\n",
    "JOIN departments d\n",
    "ON d.dept_no = de.dept_no\n",
    "WHERE d.dept_name = 'Research' AND de.to_date = '9999-01-01'\n",
    "LIMIT 10;"
   ]
  },
  {
   "cell_type": "code",
   "execution_count": 25,
   "metadata": {},
   "outputs": [
    {
     "name": "stdout",
     "output_type": "stream",
     "text": [
      " * postgresql://postgres:***@db\n",
      "1 rows affected.\n"
     ]
    },
    {
     "data": {
      "text/html": [
       "<table>\n",
       "    <tr>\n",
       "        <th>avg_salary</th>\n",
       "    </tr>\n",
       "    <tr>\n",
       "        <td>59829</td>\n",
       "    </tr>\n",
       "</table>"
      ],
      "text/plain": [
       "[(Decimal('59829'),)]"
      ]
     },
     "execution_count": 25,
     "metadata": {},
     "output_type": "execute_result"
    }
   ],
   "source": [
    "%%sql\n",
    "SELECT ROUND(AVG(salary),0) AS avg_salary\n",
    "FROM employees e\n",
    "JOIN dept_emp de\n",
    "ON e.emp_no = de.emp_no\n",
    "JOIN departments d\n",
    "ON d.dept_no = de.dept_no\n",
    "JOIN salaries s\n",
    "ON e.emp_no = s.emp_no\n",
    "WHERE d.dept_name = 'Production'\n",
    "LIMIT 10;"
   ]
  },
  {
   "cell_type": "code",
   "execution_count": 26,
   "metadata": {},
   "outputs": [
    {
     "name": "stdout",
     "output_type": "stream",
     "text": [
      " * postgresql://postgres:***@db\n",
      "1 rows affected.\n"
     ]
    },
    {
     "data": {
      "text/html": [
       "<table>\n",
       "    <tr>\n",
       "        <th>emp_no</th>\n",
       "        <th>title</th>\n",
       "        <th>from_date</th>\n",
       "        <th>to_date</th>\n",
       "        <th>emp_no_1</th>\n",
       "        <th>birth_date</th>\n",
       "        <th>first_name</th>\n",
       "        <th>last_name</th>\n",
       "        <th>gender</th>\n",
       "        <th>hire_date</th>\n",
       "        <th>emp_no_2</th>\n",
       "        <th>salary</th>\n",
       "        <th>from_date_1</th>\n",
       "        <th>to_date_1</th>\n",
       "    </tr>\n",
       "    <tr>\n",
       "        <td>10003</td>\n",
       "        <td>Senior Engineer</td>\n",
       "        <td>1995-12-03</td>\n",
       "        <td>9999-01-01</td>\n",
       "        <td>10003</td>\n",
       "        <td>1959-12-03</td>\n",
       "        <td>Parto</td>\n",
       "        <td>Bamford</td>\n",
       "        <td>M</td>\n",
       "        <td>1986-08-28</td>\n",
       "        <td>10003</td>\n",
       "        <td>43311</td>\n",
       "        <td>2001-12-01</td>\n",
       "        <td>9999-01-01</td>\n",
       "    </tr>\n",
       "</table>"
      ],
      "text/plain": [
       "[(10003, 'Senior Engineer', datetime.date(1995, 12, 3), datetime.date(9999, 1, 1), 10003, datetime.date(1959, 12, 3), 'Parto', 'Bamford', 'M', datetime.date(1986, 8, 28), 10003, 43311, datetime.date(2001, 12, 1), datetime.date(9999, 1, 1))]"
      ]
     },
     "execution_count": 26,
     "metadata": {},
     "output_type": "execute_result"
    }
   ],
   "source": [
    "%%sql\n",
    "SELECT *\n",
    "FROM titles t\n",
    "JOIN employees e\n",
    "ON t.emp_no = e.emp_no\n",
    "JOIN salaries s\n",
    "ON e.emp_no = s.emp_no\n",
    "WHERE s.to_date = '9999-01-01' AND t.title = 'Senior Engineer'\n",
    "ORDER BY s.salary ASC\n",
    "LIMIT 1;"
   ]
  },
  {
   "cell_type": "code",
   "execution_count": 27,
   "metadata": {},
   "outputs": [
    {
     "name": "stdout",
     "output_type": "stream",
     "text": [
      " * postgresql://postgres:***@db\n",
      "1 rows affected.\n"
     ]
    },
    {
     "data": {
      "text/html": [
       "<table>\n",
       "    <tr>\n",
       "        <th>count</th>\n",
       "    </tr>\n",
       "    <tr>\n",
       "        <td>18</td>\n",
       "    </tr>\n",
       "</table>"
      ],
      "text/plain": [
       "[(18,)]"
      ]
     },
     "execution_count": 27,
     "metadata": {},
     "output_type": "execute_result"
    }
   ],
   "source": [
    "%%sql\n",
    "SELECT COUNT(*)\n",
    "FROM employees e\n",
    "JOIN dept_emp de\n",
    "ON e.emp_no = de.emp_no\n",
    "JOIN departments d\n",
    "ON d.dept_no = de.dept_no\n",
    "WHERE d.dept_name = 'Quality Management' AND e.gender = 'F' AND de.to_date = '9999-01-01'\n",
    "LIMIT 10;"
   ]
  },
  {
   "cell_type": "code",
   "execution_count": 28,
   "metadata": {},
   "outputs": [
    {
     "name": "stdout",
     "output_type": "stream",
     "text": [
      " * postgresql://postgres:***@db\n",
      "1 rows affected.\n"
     ]
    },
    {
     "data": {
      "text/html": [
       "<table>\n",
       "    <tr>\n",
       "        <th>min</th>\n",
       "    </tr>\n",
       "    <tr>\n",
       "        <td>1985-01-01</td>\n",
       "    </tr>\n",
       "</table>"
      ],
      "text/plain": [
       "[(datetime.date(1985, 1, 1),)]"
      ]
     },
     "execution_count": 28,
     "metadata": {},
     "output_type": "execute_result"
    }
   ],
   "source": [
    "%%sql\n",
    "SELECT MIN(hire_date)\n",
    "FROM employees e\n",
    "JOIN dept_emp de\n",
    "ON de.emp_no = e.emp_no\n",
    "JOIN departments d\n",
    "ON d.dept_no = de.dept_no\n",
    "WHERE de.dept_no = (SELECT de.dept_no\n",
    "                    FROM employees e\n",
    "                    JOIN dept_emp de\n",
    "                    ON de.emp_no = e.emp_no\n",
    "                    GROUP BY de.dept_no\n",
    "                    ORDER BY MAX(e.hire_date) DESC\n",
    "                    LIMIT 1)\n",
    "LIMIT 10;"
   ]
  },
  {
   "cell_type": "code",
   "execution_count": 29,
   "metadata": {},
   "outputs": [
    {
     "name": "stdout",
     "output_type": "stream",
     "text": [
      " * postgresql://postgres:***@db\n",
      "9 rows affected.\n"
     ]
    },
    {
     "data": {
      "text/html": [
       "<table>\n",
       "    <tr>\n",
       "        <th>dept_no</th>\n",
       "        <th>max_dept_hire</th>\n",
       "    </tr>\n",
       "    <tr>\n",
       "        <td>d001</td>\n",
       "        <td>1997-07-19</td>\n",
       "    </tr>\n",
       "    <tr>\n",
       "        <td>d009</td>\n",
       "        <td>1998-03-04</td>\n",
       "    </tr>\n",
       "    <tr>\n",
       "        <td>d005</td>\n",
       "        <td>1998-07-13</td>\n",
       "    </tr>\n",
       "    <tr>\n",
       "        <td>d006</td>\n",
       "        <td>1998-10-06</td>\n",
       "    </tr>\n",
       "    <tr>\n",
       "        <td>d007</td>\n",
       "        <td>1998-10-07</td>\n",
       "    </tr>\n",
       "    <tr>\n",
       "        <td>d002</td>\n",
       "        <td>1998-10-16</td>\n",
       "    </tr>\n",
       "    <tr>\n",
       "        <td>d003</td>\n",
       "        <td>1999-03-23</td>\n",
       "    </tr>\n",
       "    <tr>\n",
       "        <td>d008</td>\n",
       "        <td>1999-04-30</td>\n",
       "    </tr>\n",
       "    <tr>\n",
       "        <td>d004</td>\n",
       "        <td>1999-10-28</td>\n",
       "    </tr>\n",
       "</table>"
      ],
      "text/plain": [
       "[('d001', datetime.date(1997, 7, 19)),\n",
       " ('d009', datetime.date(1998, 3, 4)),\n",
       " ('d005', datetime.date(1998, 7, 13)),\n",
       " ('d006', datetime.date(1998, 10, 6)),\n",
       " ('d007', datetime.date(1998, 10, 7)),\n",
       " ('d002', datetime.date(1998, 10, 16)),\n",
       " ('d003', datetime.date(1999, 3, 23)),\n",
       " ('d008', datetime.date(1999, 4, 30)),\n",
       " ('d004', datetime.date(1999, 10, 28))]"
      ]
     },
     "execution_count": 29,
     "metadata": {},
     "output_type": "execute_result"
    }
   ],
   "source": [
    "%%sql\n",
    "SELECT de.dept_no, MAX(e.hire_date) AS max_dept_hire\n",
    "FROM employees e\n",
    "JOIN dept_emp de\n",
    "ON de.emp_no = e.emp_no\n",
    "                    GROUP BY de.dept_no\n",
    "                    ORDER BY max_dept_hire\n",
    "LIMIT 10;"
   ]
  },
  {
   "cell_type": "code",
   "execution_count": 30,
   "metadata": {},
   "outputs": [
    {
     "name": "stdout",
     "output_type": "stream",
     "text": [
      " * postgresql://postgres:***@db\n",
      "1 rows affected.\n"
     ]
    },
    {
     "data": {
      "text/html": [
       "<table>\n",
       "    <tr>\n",
       "        <th>first_name</th>\n",
       "    </tr>\n",
       "    <tr>\n",
       "        <td>Kazuhito</td>\n",
       "    </tr>\n",
       "</table>"
      ],
      "text/plain": [
       "[('Kazuhito',)]"
      ]
     },
     "execution_count": 30,
     "metadata": {},
     "output_type": "execute_result"
    }
   ],
   "source": [
    "%%sql\n",
    "SELECT first_name\n",
    "FROM employees e\n",
    "JOIN titles t\n",
    "ON e.emp_no = t.emp_no\n",
    "WHERE e.emp_no IN\n",
    "    (SELECT emp_no\n",
    "    FROM salaries s\n",
    "    GROUP BY emp_no\n",
    "    HAVING COUNT(*) < 5 OR COUNT(*) > 15) AND\n",
    "    title = 'Senior Engineer'\n",
    "ORDER BY e.hire_date DESC\n",
    "LIMIT 1;"
   ]
  },
  {
   "cell_type": "code",
   "execution_count": 31,
   "metadata": {},
   "outputs": [
    {
     "name": "stdout",
     "output_type": "stream",
     "text": [
      " * postgresql://postgres:***@db\n",
      "1 rows affected.\n"
     ]
    },
    {
     "data": {
      "text/html": [
       "<table>\n",
       "    <tr>\n",
       "        <th>count</th>\n",
       "    </tr>\n",
       "    <tr>\n",
       "        <td>7</td>\n",
       "    </tr>\n",
       "</table>"
      ],
      "text/plain": [
       "[(7,)]"
      ]
     },
     "execution_count": 31,
     "metadata": {},
     "output_type": "execute_result"
    }
   ],
   "source": [
    "%%sql\n",
    "SELECT COUNT(*)\n",
    "FROM employees e\n",
    "JOIN dept_emp de\n",
    "ON e.emp_no = de.emp_no\n",
    "JOIN departments d\n",
    "ON d.dept_no = de.dept_no\n",
    "WHERE EXTRACT(year FROM e.birth_date) = 1959 AND\n",
    "        d.dept_name = 'Research' AND\n",
    "        de.to_date = '9999-01-01'\n",
    "LIMIT 10;"
   ]
  },
  {
   "cell_type": "markdown",
   "metadata": {},
   "source": [
    "---"
   ]
  },
  {
   "cell_type": "markdown",
   "metadata": {},
   "source": [
    "# Round 3"
   ]
  },
  {
   "cell_type": "code",
   "execution_count": 32,
   "metadata": {},
   "outputs": [
    {
     "name": "stdout",
     "output_type": "stream",
     "text": [
      " * postgresql://postgres:***@db\n",
      "1 rows affected.\n"
     ]
    },
    {
     "data": {
      "text/html": [
       "<table>\n",
       "    <tr>\n",
       "        <th>count</th>\n",
       "    </tr>\n",
       "    <tr>\n",
       "        <td>706</td>\n",
       "    </tr>\n",
       "</table>"
      ],
      "text/plain": [
       "[(706,)]"
      ]
     },
     "execution_count": 32,
     "metadata": {},
     "output_type": "execute_result"
    }
   ],
   "source": [
    "%%sql\n",
    "SELECT COUNT(DISTINCT first_name)\n",
    "FROM employees\n",
    "LIMIT 10;"
   ]
  },
  {
   "cell_type": "code",
   "execution_count": 33,
   "metadata": {},
   "outputs": [
    {
     "name": "stdout",
     "output_type": "stream",
     "text": [
      " * postgresql://postgres:***@db\n",
      "1 rows affected.\n"
     ]
    },
    {
     "data": {
      "text/html": [
       "<table>\n",
       "    <tr>\n",
       "        <th>count</th>\n",
       "    </tr>\n",
       "    <tr>\n",
       "        <td>150</td>\n",
       "    </tr>\n",
       "</table>"
      ],
      "text/plain": [
       "[(150,)]"
      ]
     },
     "execution_count": 33,
     "metadata": {},
     "output_type": "execute_result"
    }
   ],
   "source": [
    "%%sql\n",
    "SELECT COUNT(DISTINCT emp_no)\n",
    "FROM employees\n",
    "WHERE gender = 'F' AND birth_date >= '1960-01-01'\n",
    "LIMIT 10;"
   ]
  },
  {
   "cell_type": "code",
   "execution_count": 34,
   "metadata": {},
   "outputs": [
    {
     "name": "stdout",
     "output_type": "stream",
     "text": [
      " * postgresql://postgres:***@db\n",
      "1 rows affected.\n"
     ]
    },
    {
     "data": {
      "text/html": [
       "<table>\n",
       "    <tr>\n",
       "        <th>count</th>\n",
       "    </tr>\n",
       "    <tr>\n",
       "        <td>53</td>\n",
       "    </tr>\n",
       "</table>"
      ],
      "text/plain": [
       "[(53,)]"
      ]
     },
     "execution_count": 34,
     "metadata": {},
     "output_type": "execute_result"
    }
   ],
   "source": [
    "%%sql\n",
    "SELECT COUNT(e.emp_no)\n",
    "FROM employees e\n",
    "JOIN dept_emp de\n",
    "ON e.emp_no = de.emp_no\n",
    "JOIN departments d\n",
    "ON d.dept_no = de.dept_no\n",
    "WHERE d.dept_name = 'Research' AND de.to_date = '9999-01-01'\n",
    "LIMIT 10;"
   ]
  },
  {
   "cell_type": "code",
   "execution_count": 35,
   "metadata": {},
   "outputs": [
    {
     "name": "stdout",
     "output_type": "stream",
     "text": [
      " * postgresql://postgres:***@db\n",
      "1 rows affected.\n"
     ]
    },
    {
     "data": {
      "text/html": [
       "<table>\n",
       "    <tr>\n",
       "        <th>round</th>\n",
       "    </tr>\n",
       "    <tr>\n",
       "        <td>59829</td>\n",
       "    </tr>\n",
       "</table>"
      ],
      "text/plain": [
       "[(Decimal('59829'),)]"
      ]
     },
     "execution_count": 35,
     "metadata": {},
     "output_type": "execute_result"
    }
   ],
   "source": [
    "%%sql\n",
    "SELECT ROUND(AVG(s.salary),0)\n",
    "FROM salaries s\n",
    "JOIN dept_emp de\n",
    "ON s.emp_no = de.emp_no\n",
    "JOIN departments d\n",
    "ON d.dept_no = de.dept_no\n",
    "WHERE d.dept_name = 'Production'\n",
    "LIMIT 10;"
   ]
  },
  {
   "cell_type": "code",
   "execution_count": 36,
   "metadata": {},
   "outputs": [
    {
     "name": "stdout",
     "output_type": "stream",
     "text": [
      " * postgresql://postgres:***@db\n",
      "1 rows affected.\n"
     ]
    },
    {
     "data": {
      "text/html": [
       "<table>\n",
       "    <tr>\n",
       "        <th>emp_no</th>\n",
       "        <th>title</th>\n",
       "        <th>from_date</th>\n",
       "        <th>to_date</th>\n",
       "        <th>emp_no_1</th>\n",
       "        <th>birth_date</th>\n",
       "        <th>first_name</th>\n",
       "        <th>last_name</th>\n",
       "        <th>gender</th>\n",
       "        <th>hire_date</th>\n",
       "        <th>emp_no_2</th>\n",
       "        <th>salary</th>\n",
       "        <th>from_date_1</th>\n",
       "        <th>to_date_1</th>\n",
       "    </tr>\n",
       "    <tr>\n",
       "        <td>10003</td>\n",
       "        <td>Senior Engineer</td>\n",
       "        <td>1995-12-03</td>\n",
       "        <td>9999-01-01</td>\n",
       "        <td>10003</td>\n",
       "        <td>1959-12-03</td>\n",
       "        <td>Parto</td>\n",
       "        <td>Bamford</td>\n",
       "        <td>M</td>\n",
       "        <td>1986-08-28</td>\n",
       "        <td>10003</td>\n",
       "        <td>43311</td>\n",
       "        <td>2001-12-01</td>\n",
       "        <td>9999-01-01</td>\n",
       "    </tr>\n",
       "</table>"
      ],
      "text/plain": [
       "[(10003, 'Senior Engineer', datetime.date(1995, 12, 3), datetime.date(9999, 1, 1), 10003, datetime.date(1959, 12, 3), 'Parto', 'Bamford', 'M', datetime.date(1986, 8, 28), 10003, 43311, datetime.date(2001, 12, 1), datetime.date(9999, 1, 1))]"
      ]
     },
     "execution_count": 36,
     "metadata": {},
     "output_type": "execute_result"
    }
   ],
   "source": [
    "%%sql\n",
    "SELECT *\n",
    "FROM titles t\n",
    "JOIN employees e\n",
    "ON t.emp_no = e.emp_no\n",
    "JOIN salaries s\n",
    "ON e.emp_no = s.emp_no\n",
    "WHERE s.to_date = '9999-01-01' AND t.title = 'Senior Engineer'\n",
    "ORDER BY s.salary ASC\n",
    "LIMIT 1;"
   ]
  },
  {
   "cell_type": "code",
   "execution_count": 37,
   "metadata": {},
   "outputs": [
    {
     "name": "stdout",
     "output_type": "stream",
     "text": [
      " * postgresql://postgres:***@db\n",
      "1 rows affected.\n"
     ]
    },
    {
     "data": {
      "text/html": [
       "<table>\n",
       "    <tr>\n",
       "        <th>emp_no</th>\n",
       "        <th>birth_date</th>\n",
       "        <th>first_name</th>\n",
       "        <th>last_name</th>\n",
       "        <th>gender</th>\n",
       "        <th>hire_date</th>\n",
       "        <th>emp_no_1</th>\n",
       "        <th>dept_no</th>\n",
       "        <th>from_date</th>\n",
       "        <th>to_date</th>\n",
       "        <th>emp_no_2</th>\n",
       "        <th>title</th>\n",
       "        <th>from_date_1</th>\n",
       "        <th>to_date_1</th>\n",
       "        <th>emp_no_3</th>\n",
       "        <th>salary</th>\n",
       "        <th>from_date_2</th>\n",
       "        <th>to_date_2</th>\n",
       "    </tr>\n",
       "    <tr>\n",
       "        <td>10003</td>\n",
       "        <td>1959-12-03</td>\n",
       "        <td>Parto</td>\n",
       "        <td>Bamford</td>\n",
       "        <td>M</td>\n",
       "        <td>1986-08-28</td>\n",
       "        <td>10003</td>\n",
       "        <td>d004</td>\n",
       "        <td>1995-12-03</td>\n",
       "        <td>9999-01-01</td>\n",
       "        <td>10003</td>\n",
       "        <td>Senior Engineer</td>\n",
       "        <td>1995-12-03</td>\n",
       "        <td>9999-01-01</td>\n",
       "        <td>10003</td>\n",
       "        <td>43311</td>\n",
       "        <td>2001-12-01</td>\n",
       "        <td>9999-01-01</td>\n",
       "    </tr>\n",
       "</table>"
      ],
      "text/plain": [
       "[(10003, datetime.date(1959, 12, 3), 'Parto', 'Bamford', 'M', datetime.date(1986, 8, 28), 10003, 'd004', datetime.date(1995, 12, 3), datetime.date(9999, 1, 1), 10003, 'Senior Engineer', datetime.date(1995, 12, 3), datetime.date(9999, 1, 1), 10003, 43311, datetime.date(2001, 12, 1), datetime.date(9999, 1, 1))]"
      ]
     },
     "execution_count": 37,
     "metadata": {},
     "output_type": "execute_result"
    }
   ],
   "source": [
    "%%sql\n",
    "SELECT *\n",
    "FROM employees e\n",
    "JOIN dept_emp de\n",
    "ON de.emp_no = e.emp_no\n",
    "JOIN titles t\n",
    "ON t.emp_no = e.emp_no\n",
    "JOIN salaries s\n",
    "ON s.emp_no = e.emp_no\n",
    "WHERE t.title = 'Senior Engineer' AND s.to_date = '9999-01-01'\n",
    "ORDER BY salary ASC\n",
    "LIMIT 1;"
   ]
  },
  {
   "cell_type": "code",
   "execution_count": 38,
   "metadata": {},
   "outputs": [
    {
     "name": "stdout",
     "output_type": "stream",
     "text": [
      " * postgresql://postgres:***@db\n",
      "1 rows affected.\n"
     ]
    },
    {
     "data": {
      "text/html": [
       "<table>\n",
       "    <tr>\n",
       "        <th>count</th>\n",
       "    </tr>\n",
       "    <tr>\n",
       "        <td>18</td>\n",
       "    </tr>\n",
       "</table>"
      ],
      "text/plain": [
       "[(18,)]"
      ]
     },
     "execution_count": 38,
     "metadata": {},
     "output_type": "execute_result"
    }
   ],
   "source": [
    "%%sql\n",
    "SELECT COUNT(e.emp_no)\n",
    "FROM employees e\n",
    "JOIN dept_emp de\n",
    "ON e.emp_no = de.emp_no\n",
    "JOIN departments d\n",
    "ON d.dept_no = de.dept_no\n",
    "WHERE d.dept_name = 'Quality Management' AND de.to_date = '9999-01-01' AND gender='F'\n",
    "LIMIT 10;"
   ]
  },
  {
   "cell_type": "code",
   "execution_count": 39,
   "metadata": {},
   "outputs": [
    {
     "name": "stdout",
     "output_type": "stream",
     "text": [
      " * postgresql://postgres:***@db\n",
      "1 rows affected.\n"
     ]
    },
    {
     "data": {
      "text/html": [
       "<table>\n",
       "    <tr>\n",
       "        <th>min</th>\n",
       "    </tr>\n",
       "    <tr>\n",
       "        <td>1985-01-01</td>\n",
       "    </tr>\n",
       "</table>"
      ],
      "text/plain": [
       "[(datetime.date(1985, 1, 1),)]"
      ]
     },
     "execution_count": 39,
     "metadata": {},
     "output_type": "execute_result"
    }
   ],
   "source": [
    "%%sql\n",
    "SELECT MIN(e.hire_date)\n",
    "FROM employees e\n",
    "JOIN dept_emp de\n",
    "ON e.emp_no = de.emp_no\n",
    "JOIN departments d\n",
    "ON d.dept_no = de.dept_no\n",
    "WHERE d.dept_no = (SELECT de.dept_no\n",
    "                    FROM employees e\n",
    "                    JOIN dept_emp de\n",
    "                    ON e.emp_no = de.emp_no\n",
    "                    GROUP BY de.dept_no\n",
    "                    ORDER BY MAX(hire_date) DESC\n",
    "                    LIMIT 1)\n",
    "LIMIT 10;"
   ]
  },
  {
   "cell_type": "code",
   "execution_count": 40,
   "metadata": {},
   "outputs": [
    {
     "name": "stdout",
     "output_type": "stream",
     "text": [
      " * postgresql://postgres:***@db\n",
      "1 rows affected.\n"
     ]
    },
    {
     "data": {
      "text/html": [
       "<table>\n",
       "    <tr>\n",
       "        <th>first_name</th>\n",
       "    </tr>\n",
       "    <tr>\n",
       "        <td>Kazuhito</td>\n",
       "    </tr>\n",
       "</table>"
      ],
      "text/plain": [
       "[('Kazuhito',)]"
      ]
     },
     "execution_count": 40,
     "metadata": {},
     "output_type": "execute_result"
    }
   ],
   "source": [
    "%%sql\n",
    "SELECT first_name\n",
    "FROM employees e\n",
    "JOIN salaries s\n",
    "ON s.emp_no = e.emp_no\n",
    "JOIN titles t\n",
    "ON t.emp_no = e.emp_no\n",
    "WHERE title = 'Senior Engineer' AND e.emp_no IN (SELECT emp_no\n",
    "                                                FROM salaries s\n",
    "                                                GROUP BY emp_no\n",
    "                                                HAVING COUNT(*) < 5 OR COUNT(*) > 15)\n",
    "ORDER BY hire_date DESC\n",
    "LIMIT 1;"
   ]
  },
  {
   "cell_type": "code",
   "execution_count": 41,
   "metadata": {},
   "outputs": [
    {
     "name": "stdout",
     "output_type": "stream",
     "text": [
      " * postgresql://postgres:***@db\n",
      "1 rows affected.\n"
     ]
    },
    {
     "data": {
      "text/html": [
       "<table>\n",
       "    <tr>\n",
       "        <th>count</th>\n",
       "    </tr>\n",
       "    <tr>\n",
       "        <td>7</td>\n",
       "    </tr>\n",
       "</table>"
      ],
      "text/plain": [
       "[(7,)]"
      ]
     },
     "execution_count": 41,
     "metadata": {},
     "output_type": "execute_result"
    }
   ],
   "source": [
    "%%sql\n",
    "SELECT COUNT(*)\n",
    "FROM employees e\n",
    "JOIN dept_emp de\n",
    "ON e.emp_no = de.emp_no\n",
    "JOIN departments d\n",
    "ON d.dept_no = de.dept_no\n",
    "WHERE EXTRACT(year from birth_date) = 1959 AND d.dept_name = 'Research' AND de.to_date='9999-01-01'\n",
    "LIMIT 10;"
   ]
  },
  {
   "cell_type": "markdown",
   "metadata": {},
   "source": [
    "---"
   ]
  },
  {
   "cell_type": "markdown",
   "metadata": {},
   "source": [
    "# Round 4"
   ]
  },
  {
   "cell_type": "code",
   "execution_count": 42,
   "metadata": {},
   "outputs": [
    {
     "name": "stdout",
     "output_type": "stream",
     "text": [
      " * postgresql://postgres:***@db\n",
      "1 rows affected.\n"
     ]
    },
    {
     "data": {
      "text/html": [
       "<table>\n",
       "    <tr>\n",
       "        <th>count</th>\n",
       "    </tr>\n",
       "    <tr>\n",
       "        <td>706</td>\n",
       "    </tr>\n",
       "</table>"
      ],
      "text/plain": [
       "[(706,)]"
      ]
     },
     "execution_count": 42,
     "metadata": {},
     "output_type": "execute_result"
    }
   ],
   "source": [
    "%%sql\n",
    "SELECT COUNT(DISTINCT first_name)\n",
    "FROM employees\n",
    "LIMIT 10;"
   ]
  },
  {
   "cell_type": "code",
   "execution_count": 43,
   "metadata": {},
   "outputs": [
    {
     "name": "stdout",
     "output_type": "stream",
     "text": [
      " * postgresql://postgres:***@db\n",
      "1 rows affected.\n"
     ]
    },
    {
     "data": {
      "text/html": [
       "<table>\n",
       "    <tr>\n",
       "        <th>count</th>\n",
       "    </tr>\n",
       "    <tr>\n",
       "        <td>150</td>\n",
       "    </tr>\n",
       "</table>"
      ],
      "text/plain": [
       "[(150,)]"
      ]
     },
     "execution_count": 43,
     "metadata": {},
     "output_type": "execute_result"
    }
   ],
   "source": [
    "%%sql\n",
    "SELECT COUNT(*)\n",
    "FROM employees\n",
    "WHERE gender = 'F' AND birth_date >= '1960-01-01'\n",
    "LIMIT 10"
   ]
  },
  {
   "cell_type": "code",
   "execution_count": 44,
   "metadata": {},
   "outputs": [
    {
     "name": "stdout",
     "output_type": "stream",
     "text": [
      " * postgresql://postgres:***@db\n",
      "1 rows affected.\n"
     ]
    },
    {
     "data": {
      "text/html": [
       "<table>\n",
       "    <tr>\n",
       "        <th>count</th>\n",
       "    </tr>\n",
       "    <tr>\n",
       "        <td>53</td>\n",
       "    </tr>\n",
       "</table>"
      ],
      "text/plain": [
       "[(53,)]"
      ]
     },
     "execution_count": 44,
     "metadata": {},
     "output_type": "execute_result"
    }
   ],
   "source": [
    "%%sql\n",
    "SELECT COUNT(*)\n",
    "FROM employees e\n",
    "JOIN dept_emp de\n",
    "ON e.emp_no = de.emp_no\n",
    "JOIN departments d\n",
    "ON d.dept_no = de.dept_no\n",
    "WHERE dept_name = 'Research' AND to_date = '9999-01-01'\n",
    "LIMIT 10"
   ]
  },
  {
   "cell_type": "code",
   "execution_count": 45,
   "metadata": {},
   "outputs": [
    {
     "name": "stdout",
     "output_type": "stream",
     "text": [
      " * postgresql://postgres:***@db\n",
      "1 rows affected.\n"
     ]
    },
    {
     "data": {
      "text/html": [
       "<table>\n",
       "    <tr>\n",
       "        <th>round</th>\n",
       "    </tr>\n",
       "    <tr>\n",
       "        <td>59829</td>\n",
       "    </tr>\n",
       "</table>"
      ],
      "text/plain": [
       "[(Decimal('59829'),)]"
      ]
     },
     "execution_count": 45,
     "metadata": {},
     "output_type": "execute_result"
    }
   ],
   "source": [
    "%%sql\n",
    "SELECT ROUND(AVG(salary), 0)\n",
    "FROM employees e\n",
    "JOIN dept_emp de\n",
    "ON e.emp_no = de.emp_no\n",
    "JOIN departments d\n",
    "ON d.dept_no = de.dept_no\n",
    "JOIN salaries s\n",
    "ON s.emp_no = e.emp_no\n",
    "WHERE dept_name = 'Production'\n",
    "LIMIT 10"
   ]
  },
  {
   "cell_type": "code",
   "execution_count": 46,
   "metadata": {},
   "outputs": [
    {
     "name": "stdout",
     "output_type": "stream",
     "text": [
      " * postgresql://postgres:***@db\n",
      "1 rows affected.\n"
     ]
    },
    {
     "data": {
      "text/html": [
       "<table>\n",
       "    <tr>\n",
       "        <th>min</th>\n",
       "    </tr>\n",
       "    <tr>\n",
       "        <td>43311</td>\n",
       "    </tr>\n",
       "</table>"
      ],
      "text/plain": [
       "[(43311,)]"
      ]
     },
     "execution_count": 46,
     "metadata": {},
     "output_type": "execute_result"
    }
   ],
   "source": [
    "%%sql\n",
    "SELECT MIN(salary)\n",
    "FROM employees e\n",
    "JOIN titles t\n",
    "ON e.emp_no = t.emp_no\n",
    "JOIN salaries s\n",
    "ON s.emp_no = e.emp_no\n",
    "WHERE s.to_date = '9999-01-01' AND title = 'Senior Engineer'\n",
    "LIMIT 10"
   ]
  },
  {
   "cell_type": "code",
   "execution_count": 47,
   "metadata": {},
   "outputs": [
    {
     "name": "stdout",
     "output_type": "stream",
     "text": [
      " * postgresql://postgres:***@db\n",
      "1 rows affected.\n"
     ]
    },
    {
     "data": {
      "text/html": [
       "<table>\n",
       "    <tr>\n",
       "        <th>count</th>\n",
       "    </tr>\n",
       "    <tr>\n",
       "        <td>18</td>\n",
       "    </tr>\n",
       "</table>"
      ],
      "text/plain": [
       "[(18,)]"
      ]
     },
     "execution_count": 47,
     "metadata": {},
     "output_type": "execute_result"
    }
   ],
   "source": [
    "%%sql\n",
    "SELECT COUNT(*)\n",
    "FROM employees e\n",
    "JOIN dept_emp de\n",
    "ON e.emp_no = de.emp_no\n",
    "JOIN departments d\n",
    "ON d.dept_no = de.dept_no\n",
    "WHERE dept_name = 'Quality Management' AND gender = 'F' AND to_date = '9999-01-01'\n",
    "LIMIT 10"
   ]
  },
  {
   "cell_type": "code",
   "execution_count": 48,
   "metadata": {},
   "outputs": [
    {
     "name": "stdout",
     "output_type": "stream",
     "text": [
      " * postgresql://postgres:***@db\n",
      "1 rows affected.\n"
     ]
    },
    {
     "data": {
      "text/html": [
       "<table>\n",
       "    <tr>\n",
       "        <th>min_date</th>\n",
       "    </tr>\n",
       "    <tr>\n",
       "        <td>1985-01-01</td>\n",
       "    </tr>\n",
       "</table>"
      ],
      "text/plain": [
       "[(datetime.date(1985, 1, 1),)]"
      ]
     },
     "execution_count": 48,
     "metadata": {},
     "output_type": "execute_result"
    }
   ],
   "source": [
    "%%sql\n",
    "SELECT MIN(hire_date) AS min_date\n",
    "FROM employees e\n",
    "JOIN dept_emp de\n",
    "ON e.emp_no = de.emp_no\n",
    "JOIN departments d\n",
    "ON d.dept_no = de.dept_no\n",
    "WHERE de.dept_no = (\n",
    "                SELECT de.dept_no\n",
    "                FROM employees e\n",
    "                JOIN dept_emp de\n",
    "                ON de.emp_no = e.emp_no\n",
    "                GROUP BY de.dept_no\n",
    "                ORDER BY  MAX(hire_date) DESC\n",
    "                LIMIT 1)\n"
   ]
  },
  {
   "cell_type": "code",
   "execution_count": 49,
   "metadata": {},
   "outputs": [
    {
     "name": "stdout",
     "output_type": "stream",
     "text": [
      " * postgresql://postgres:***@db\n",
      "1 rows affected.\n"
     ]
    },
    {
     "data": {
      "text/html": [
       "<table>\n",
       "    <tr>\n",
       "        <th>first_name</th>\n",
       "    </tr>\n",
       "    <tr>\n",
       "        <td>Kazuhito</td>\n",
       "    </tr>\n",
       "</table>"
      ],
      "text/plain": [
       "[('Kazuhito',)]"
      ]
     },
     "execution_count": 49,
     "metadata": {},
     "output_type": "execute_result"
    }
   ],
   "source": [
    "%%sql\n",
    "SELECT e.first_name\n",
    "FROM employees e\n",
    "JOIN titles t\n",
    "ON t.emp_no = e.emp_no\n",
    "JOIN salaries s\n",
    "ON s.emp_no = e.emp_no\n",
    "WHERE title = 'Senior Engineer'\n",
    "GROUP BY e.emp_no, e.first_name\n",
    "HAVING COUNT(s.salary) < 5 OR COUNT(s.salary) > 15\n",
    "ORDER BY hire_date DESC\n",
    "LIMIT 1;"
   ]
  },
  {
   "cell_type": "code",
   "execution_count": 50,
   "metadata": {},
   "outputs": [
    {
     "name": "stdout",
     "output_type": "stream",
     "text": [
      " * postgresql://postgres:***@db\n",
      "1 rows affected.\n"
     ]
    },
    {
     "data": {
      "text/html": [
       "<table>\n",
       "    <tr>\n",
       "        <th>count</th>\n",
       "    </tr>\n",
       "    <tr>\n",
       "        <td>7</td>\n",
       "    </tr>\n",
       "</table>"
      ],
      "text/plain": [
       "[(7,)]"
      ]
     },
     "execution_count": 50,
     "metadata": {},
     "output_type": "execute_result"
    }
   ],
   "source": [
    "%%sql\n",
    "SELECT COUNT(*)\n",
    "FROM employees e\n",
    "JOIN dept_emp de\n",
    "ON de.emp_no = e.emp_no\n",
    "JOIN departments d\n",
    "ON d.dept_no = de.dept_no\n",
    "WHERE EXTRACT(year FROM birth_date) = 1959 AND to_date = '9999-01-01' AND d.dept_name = 'Research'\n",
    "LIMIT 10"
   ]
  },
  {
   "cell_type": "markdown",
   "metadata": {},
   "source": [
    "---"
   ]
  },
  {
   "cell_type": "markdown",
   "metadata": {},
   "source": [
    "# Round 5"
   ]
  },
  {
   "cell_type": "code",
   "execution_count": 51,
   "metadata": {},
   "outputs": [
    {
     "name": "stdout",
     "output_type": "stream",
     "text": [
      " * postgresql://postgres:***@db\n",
      "1 rows affected.\n"
     ]
    },
    {
     "data": {
      "text/html": [
       "<table>\n",
       "    <tr>\n",
       "        <th>count</th>\n",
       "    </tr>\n",
       "    <tr>\n",
       "        <td>706</td>\n",
       "    </tr>\n",
       "</table>"
      ],
      "text/plain": [
       "[(706,)]"
      ]
     },
     "execution_count": 51,
     "metadata": {},
     "output_type": "execute_result"
    }
   ],
   "source": [
    "%%sql\n",
    "SELECT COUNT(DISTINCT first_name)\n",
    "FROM employees\n",
    "LIMIT 10;"
   ]
  },
  {
   "cell_type": "code",
   "execution_count": 52,
   "metadata": {},
   "outputs": [
    {
     "name": "stdout",
     "output_type": "stream",
     "text": [
      " * postgresql://postgres:***@db\n",
      "1 rows affected.\n"
     ]
    },
    {
     "data": {
      "text/html": [
       "<table>\n",
       "    <tr>\n",
       "        <th>count</th>\n",
       "    </tr>\n",
       "    <tr>\n",
       "        <td>150</td>\n",
       "    </tr>\n",
       "</table>"
      ],
      "text/plain": [
       "[(150,)]"
      ]
     },
     "execution_count": 52,
     "metadata": {},
     "output_type": "execute_result"
    }
   ],
   "source": [
    "%%sql\n",
    "SELECT COUNT(DISTINCT emp_no)\n",
    "FROM employees\n",
    "WHERE birth_date >= '1960-01-01' AND gender = 'F'\n",
    "LIMIT 10;"
   ]
  },
  {
   "cell_type": "code",
   "execution_count": 53,
   "metadata": {},
   "outputs": [
    {
     "name": "stdout",
     "output_type": "stream",
     "text": [
      " * postgresql://postgres:***@db\n",
      "1 rows affected.\n"
     ]
    },
    {
     "data": {
      "text/html": [
       "<table>\n",
       "    <tr>\n",
       "        <th>count</th>\n",
       "    </tr>\n",
       "    <tr>\n",
       "        <td>53</td>\n",
       "    </tr>\n",
       "</table>"
      ],
      "text/plain": [
       "[(53,)]"
      ]
     },
     "execution_count": 53,
     "metadata": {},
     "output_type": "execute_result"
    }
   ],
   "source": [
    "%%sql\n",
    "SELECT COUNT(DISTINCT e.emp_no)\n",
    "FROM employees e\n",
    "JOIN dept_emp de\n",
    "ON e.emp_no = de.emp_no\n",
    "JOIN departments d\n",
    "ON de.dept_no = d.dept_no\n",
    "WHERE d.dept_name = 'Research' AND to_date = '9999-01-01'\n",
    "LIMIT 10;"
   ]
  },
  {
   "cell_type": "code",
   "execution_count": 54,
   "metadata": {},
   "outputs": [
    {
     "name": "stdout",
     "output_type": "stream",
     "text": [
      " * postgresql://postgres:***@db\n",
      "1 rows affected.\n"
     ]
    },
    {
     "data": {
      "text/html": [
       "<table>\n",
       "    <tr>\n",
       "        <th>round</th>\n",
       "    </tr>\n",
       "    <tr>\n",
       "        <td>59829</td>\n",
       "    </tr>\n",
       "</table>"
      ],
      "text/plain": [
       "[(Decimal('59829'),)]"
      ]
     },
     "execution_count": 54,
     "metadata": {},
     "output_type": "execute_result"
    }
   ],
   "source": [
    "%%sql\n",
    "SELECT ROUND(AVG(salary),0)\n",
    "FROM employees e\n",
    "JOIN dept_emp de\n",
    "ON e.emp_no = de.emp_no\n",
    "JOIN departments d\n",
    "ON d.dept_no = de.dept_no\n",
    "JOIN salaries s\n",
    "ON s.emp_no = e.emp_no\n",
    "WHERE dept_name = 'Production'\n",
    "LIMIT 10;"
   ]
  },
  {
   "cell_type": "code",
   "execution_count": 55,
   "metadata": {},
   "outputs": [
    {
     "name": "stdout",
     "output_type": "stream",
     "text": [
      " * postgresql://postgres:***@db\n",
      "1 rows affected.\n"
     ]
    },
    {
     "data": {
      "text/html": [
       "<table>\n",
       "    <tr>\n",
       "        <th>salary</th>\n",
       "    </tr>\n",
       "    <tr>\n",
       "        <td>43311</td>\n",
       "    </tr>\n",
       "</table>"
      ],
      "text/plain": [
       "[(43311,)]"
      ]
     },
     "execution_count": 55,
     "metadata": {},
     "output_type": "execute_result"
    }
   ],
   "source": [
    "%%sql\n",
    "SELECT salary\n",
    "FROM employees e\n",
    "JOIN titles t\n",
    "ON e.emp_no = t.emp_no\n",
    "JOIN salaries s\n",
    "ON s.emp_no = e.emp_no\n",
    "WHERE title = 'Senior Engineer' AND s.to_date = '9999-01-01'\n",
    "ORDER BY salary ASC\n",
    "LIMIT 1;"
   ]
  },
  {
   "cell_type": "code",
   "execution_count": 56,
   "metadata": {},
   "outputs": [
    {
     "name": "stdout",
     "output_type": "stream",
     "text": [
      " * postgresql://postgres:***@db\n",
      "1 rows affected.\n"
     ]
    },
    {
     "data": {
      "text/html": [
       "<table>\n",
       "    <tr>\n",
       "        <th>count</th>\n",
       "    </tr>\n",
       "    <tr>\n",
       "        <td>18</td>\n",
       "    </tr>\n",
       "</table>"
      ],
      "text/plain": [
       "[(18,)]"
      ]
     },
     "execution_count": 56,
     "metadata": {},
     "output_type": "execute_result"
    }
   ],
   "source": [
    "%%sql\n",
    "SELECT COUNT(DISTINCT e.emp_no)\n",
    "FROM employees e\n",
    "JOIN dept_emp de\n",
    "ON e.emp_no = de.emp_no\n",
    "JOIN departments d\n",
    "ON d.dept_no = de.dept_no\n",
    "WHERE d.dept_name = 'Quality Management' AND de.to_date = '9999-01-01' AND e.gender = 'F'\n",
    "LIMIT 10;"
   ]
  },
  {
   "cell_type": "code",
   "execution_count": 57,
   "metadata": {},
   "outputs": [
    {
     "name": "stdout",
     "output_type": "stream",
     "text": [
      " * postgresql://postgres:***@db\n",
      "1 rows affected.\n"
     ]
    },
    {
     "data": {
      "text/html": [
       "<table>\n",
       "    <tr>\n",
       "        <th>min_date</th>\n",
       "    </tr>\n",
       "    <tr>\n",
       "        <td>1985-01-01</td>\n",
       "    </tr>\n",
       "</table>"
      ],
      "text/plain": [
       "[(datetime.date(1985, 1, 1),)]"
      ]
     },
     "execution_count": 57,
     "metadata": {},
     "output_type": "execute_result"
    }
   ],
   "source": [
    "%%sql\n",
    "SELECT MIN(hire_date) AS min_date\n",
    "FROM employees e\n",
    "NATURAL JOIN dept_emp de\n",
    "NATURAL JOIN departments d\n",
    "WHERE dept_no = \n",
    "    (SELECT dept_no\n",
    "    FROM employees e\n",
    "    JOIN dept_emp de\n",
    "    ON e.emp_no = de.emp_no\n",
    "    GROUP BY de.dept_no\n",
    "    HAVING MAX(e.hire_date) = (SELECT MAX(hire_date) AS max_hire_date\n",
    "                               FROM employees))"
   ]
  },
  {
   "cell_type": "code",
   "execution_count": 58,
   "metadata": {},
   "outputs": [
    {
     "name": "stdout",
     "output_type": "stream",
     "text": [
      " * postgresql://postgres:***@db\n",
      "1 rows affected.\n"
     ]
    },
    {
     "data": {
      "text/html": [
       "<table>\n",
       "    <tr>\n",
       "        <th>first_name</th>\n",
       "    </tr>\n",
       "    <tr>\n",
       "        <td>Kazuhito</td>\n",
       "    </tr>\n",
       "</table>"
      ],
      "text/plain": [
       "[('Kazuhito',)]"
      ]
     },
     "execution_count": 58,
     "metadata": {},
     "output_type": "execute_result"
    }
   ],
   "source": [
    "%%sql\n",
    "SELECT first_name\n",
    "FROM employees e\n",
    "NATURAL JOIN titles t\n",
    "WHERE t.title = 'Senior Engineer' AND e.emp_no IN\n",
    "    (SELECT e.emp_no\n",
    "    FROM employees e\n",
    "    JOIN salaries s\n",
    "    ON e.emp_no = s.emp_no\n",
    "    GROUP BY e.emp_no\n",
    "    HAVING COUNT(s.salary) < 5 OR COUNT(s.salary) > 15)\n",
    "ORDER BY e.hire_date DESC\n",
    "LIMIT 1;"
   ]
  },
  {
   "cell_type": "code",
   "execution_count": 59,
   "metadata": {
    "scrolled": true
   },
   "outputs": [
    {
     "name": "stdout",
     "output_type": "stream",
     "text": [
      " * postgresql://postgres:***@db\n",
      "1 rows affected.\n"
     ]
    },
    {
     "data": {
      "text/html": [
       "<table>\n",
       "    <tr>\n",
       "        <th>count</th>\n",
       "    </tr>\n",
       "    <tr>\n",
       "        <td>7</td>\n",
       "    </tr>\n",
       "</table>"
      ],
      "text/plain": [
       "[(7,)]"
      ]
     },
     "execution_count": 59,
     "metadata": {},
     "output_type": "execute_result"
    }
   ],
   "source": [
    "%%sql\n",
    "SELECT COUNT(DISTINCT e.emp_no)\n",
    "FROM employees e\n",
    "JOIN dept_emp de\n",
    "ON e.emp_no = de.emp_no\n",
    "JOIN departments d\n",
    "ON d.dept_no = de.dept_no\n",
    "WHERE EXTRACT(year FROM birth_date) = 1959 AND d.dept_name = 'Research' AND de.to_date = '9999-01-01'\n",
    "LIMIT 10;"
   ]
  },
  {
   "cell_type": "markdown",
   "metadata": {},
   "source": [
    "---"
   ]
  },
  {
   "cell_type": "markdown",
   "metadata": {},
   "source": [
    "# Round 6"
   ]
  },
  {
   "cell_type": "code",
   "execution_count": 60,
   "metadata": {},
   "outputs": [
    {
     "name": "stdout",
     "output_type": "stream",
     "text": [
      " * postgresql://postgres:***@db\n",
      "1 rows affected.\n"
     ]
    },
    {
     "data": {
      "text/html": [
       "<table>\n",
       "    <tr>\n",
       "        <th>count</th>\n",
       "    </tr>\n",
       "    <tr>\n",
       "        <td>706</td>\n",
       "    </tr>\n",
       "</table>"
      ],
      "text/plain": [
       "[(706,)]"
      ]
     },
     "execution_count": 60,
     "metadata": {},
     "output_type": "execute_result"
    }
   ],
   "source": [
    "%%sql\n",
    "SELECT COUNT(DISTINCT first_name)\n",
    "FROM employees\n",
    "LIMIT 10;"
   ]
  },
  {
   "cell_type": "code",
   "execution_count": 61,
   "metadata": {},
   "outputs": [
    {
     "name": "stdout",
     "output_type": "stream",
     "text": [
      " * postgresql://postgres:***@db\n",
      "1 rows affected.\n"
     ]
    },
    {
     "data": {
      "text/html": [
       "<table>\n",
       "    <tr>\n",
       "        <th>count</th>\n",
       "    </tr>\n",
       "    <tr>\n",
       "        <td>150</td>\n",
       "    </tr>\n",
       "</table>"
      ],
      "text/plain": [
       "[(150,)]"
      ]
     },
     "execution_count": 61,
     "metadata": {},
     "output_type": "execute_result"
    }
   ],
   "source": [
    "%%sql\n",
    "SELECT COUNT(DISTINCT emp_no)\n",
    "FROM employees\n",
    "WHERE gender = 'F' AND birth_date >= '1960-01-01'\n",
    "LIMIT 10;"
   ]
  },
  {
   "cell_type": "code",
   "execution_count": 62,
   "metadata": {},
   "outputs": [
    {
     "name": "stdout",
     "output_type": "stream",
     "text": [
      " * postgresql://postgres:***@db\n",
      "1 rows affected.\n"
     ]
    },
    {
     "data": {
      "text/html": [
       "<table>\n",
       "    <tr>\n",
       "        <th>count</th>\n",
       "    </tr>\n",
       "    <tr>\n",
       "        <td>53</td>\n",
       "    </tr>\n",
       "</table>"
      ],
      "text/plain": [
       "[(53,)]"
      ]
     },
     "execution_count": 62,
     "metadata": {},
     "output_type": "execute_result"
    }
   ],
   "source": [
    "%%sql\n",
    "SELECT COUNT(*)\n",
    "FROM employees e\n",
    "JOIN dept_emp de\n",
    "ON e.emp_no = de.emp_no\n",
    "JOIN departments d\n",
    "ON de.dept_no = d.dept_no\n",
    "WHERE dept_name = 'Research' AND to_date = '9999-01-01'\n",
    "LIMIT 10;"
   ]
  },
  {
   "cell_type": "code",
   "execution_count": 63,
   "metadata": {},
   "outputs": [
    {
     "name": "stdout",
     "output_type": "stream",
     "text": [
      " * postgresql://postgres:***@db\n",
      "1 rows affected.\n"
     ]
    },
    {
     "data": {
      "text/html": [
       "<table>\n",
       "    <tr>\n",
       "        <th>round</th>\n",
       "    </tr>\n",
       "    <tr>\n",
       "        <td>59829</td>\n",
       "    </tr>\n",
       "</table>"
      ],
      "text/plain": [
       "[(Decimal('59829'),)]"
      ]
     },
     "execution_count": 63,
     "metadata": {},
     "output_type": "execute_result"
    }
   ],
   "source": [
    "%%sql\n",
    "SELECT ROUND(AVG(salary),0)\n",
    "FROM salaries s\n",
    "JOIN employees e\n",
    "ON s.emp_no = e.emp_no\n",
    "JOIN dept_emp de\n",
    "ON de.emp_no = e.emp_no\n",
    "JOIN departments d\n",
    "ON de.dept_no = d.dept_no\n",
    "WHERE dept_name = 'Production'\n",
    "LIMIT 10;"
   ]
  },
  {
   "cell_type": "code",
   "execution_count": 64,
   "metadata": {},
   "outputs": [
    {
     "name": "stdout",
     "output_type": "stream",
     "text": [
      " * postgresql://postgres:***@db\n",
      "1 rows affected.\n"
     ]
    },
    {
     "data": {
      "text/html": [
       "<table>\n",
       "    <tr>\n",
       "        <th>min</th>\n",
       "    </tr>\n",
       "    <tr>\n",
       "        <td>43311</td>\n",
       "    </tr>\n",
       "</table>"
      ],
      "text/plain": [
       "[(43311,)]"
      ]
     },
     "execution_count": 64,
     "metadata": {},
     "output_type": "execute_result"
    }
   ],
   "source": [
    "%%sql\n",
    "SELECT MIN(salary)\n",
    "FROM employees e\n",
    "JOIN salaries s\n",
    "ON e.emp_no = s.emp_no\n",
    "JOIN titles t\n",
    "ON t.emp_no = e.emp_no\n",
    "WHERE title = 'Senior Engineer' AND s.to_date = '9999-01-01'\n",
    "LIMIT 10;"
   ]
  },
  {
   "cell_type": "code",
   "execution_count": 65,
   "metadata": {
    "scrolled": true
   },
   "outputs": [
    {
     "name": "stdout",
     "output_type": "stream",
     "text": [
      " * postgresql://postgres:***@db\n",
      "1 rows affected.\n"
     ]
    },
    {
     "data": {
      "text/html": [
       "<table>\n",
       "    <tr>\n",
       "        <th>count</th>\n",
       "    </tr>\n",
       "    <tr>\n",
       "        <td>18</td>\n",
       "    </tr>\n",
       "</table>"
      ],
      "text/plain": [
       "[(18,)]"
      ]
     },
     "execution_count": 65,
     "metadata": {},
     "output_type": "execute_result"
    }
   ],
   "source": [
    "%%sql\n",
    "SELECT COUNT(*)\n",
    "FROM employees e\n",
    "JOIN dept_emp de\n",
    "ON de.emp_no = e.emp_no\n",
    "JOIN departments d\n",
    "ON d.dept_no = de.dept_no\n",
    "WHERE gender = 'F' AND to_date = '9999-01-01' AND dept_name = 'Quality Management'\n",
    "LIMIT 10;"
   ]
  },
  {
   "cell_type": "code",
   "execution_count": 66,
   "metadata": {
    "scrolled": true
   },
   "outputs": [
    {
     "name": "stdout",
     "output_type": "stream",
     "text": [
      " * postgresql://postgres:***@db\n",
      "1 rows affected.\n"
     ]
    },
    {
     "data": {
      "text/html": [
       "<table>\n",
       "    <tr>\n",
       "        <th>min_date</th>\n",
       "    </tr>\n",
       "    <tr>\n",
       "        <td>1985-01-01</td>\n",
       "    </tr>\n",
       "</table>"
      ],
      "text/plain": [
       "[(datetime.date(1985, 1, 1),)]"
      ]
     },
     "execution_count": 66,
     "metadata": {},
     "output_type": "execute_result"
    }
   ],
   "source": [
    "%%sql\n",
    "SELECT MIN(hire_date) AS min_date\n",
    "FROM employees e\n",
    "JOIN dept_emp de\n",
    "ON e.emp_no = de.emp_no\n",
    "JOIN departments d\n",
    "ON d.dept_no = de.dept_no\n",
    "WHERE\n",
    "d.dept_no = \n",
    "    (SELECT dept_no\n",
    "    FROM \n",
    "        (SELECT dept_no, MAX(hire_date) AS max_dept_hire\n",
    "        FROM employees e\n",
    "        JOIN dept_emp de\n",
    "        ON e.emp_no = de.emp_no\n",
    "        GROUP BY dept_no)\n",
    "    WHERE max_dept_hire = (SELECT MAX(hire_date) AS max_hire_date\n",
    "                          FROM employees))"
   ]
  },
  {
   "cell_type": "code",
   "execution_count": 67,
   "metadata": {},
   "outputs": [
    {
     "name": "stdout",
     "output_type": "stream",
     "text": [
      " * postgresql://postgres:***@db\n",
      "1 rows affected.\n"
     ]
    },
    {
     "data": {
      "text/html": [
       "<table>\n",
       "    <tr>\n",
       "        <th>first_name</th>\n",
       "    </tr>\n",
       "    <tr>\n",
       "        <td>Kazuhito</td>\n",
       "    </tr>\n",
       "</table>"
      ],
      "text/plain": [
       "[('Kazuhito',)]"
      ]
     },
     "execution_count": 67,
     "metadata": {},
     "output_type": "execute_result"
    }
   ],
   "source": [
    "%%sql\n",
    "SELECT first_name\n",
    "FROM employees e\n",
    "JOIN titles t\n",
    "ON e.emp_no = t.emp_no\n",
    "WHERE e.emp_no IN (SELECT s.emp_no\n",
    "                FROM employees e\n",
    "                JOIN salaries s\n",
    "                ON e.emp_no = s.emp_no\n",
    "                GROUP BY s.emp_no\n",
    "                HAVING COUNT(*) < 5 OR COUNT(*) > 15) AND title = 'Senior Engineer'\n",
    "ORDER BY hire_date DESC\n",
    "LIMIT 1;"
   ]
  },
  {
   "cell_type": "code",
   "execution_count": 68,
   "metadata": {},
   "outputs": [
    {
     "name": "stdout",
     "output_type": "stream",
     "text": [
      " * postgresql://postgres:***@db\n",
      "1 rows affected.\n"
     ]
    },
    {
     "data": {
      "text/html": [
       "<table>\n",
       "    <tr>\n",
       "        <th>count</th>\n",
       "    </tr>\n",
       "    <tr>\n",
       "        <td>7</td>\n",
       "    </tr>\n",
       "</table>"
      ],
      "text/plain": [
       "[(7,)]"
      ]
     },
     "execution_count": 68,
     "metadata": {},
     "output_type": "execute_result"
    }
   ],
   "source": [
    "%%sql\n",
    "SELECT COUNT(DISTINCT e.emp_no)\n",
    "FROM employees e\n",
    "JOIN dept_emp de\n",
    "ON e.emp_no = de.emp_no\n",
    "JOIN departments d\n",
    "ON d.dept_no = de.dept_no\n",
    "WHERE EXTRACT(year from birth_date) = 1959 AND dept_name = 'Research' AND to_date = '9999-01-01'\n",
    "LIMIT 10;"
   ]
  },
  {
   "cell_type": "markdown",
   "metadata": {},
   "source": [
    "---"
   ]
  },
  {
   "cell_type": "markdown",
   "metadata": {},
   "source": [
    "# Round 7"
   ]
  },
  {
   "cell_type": "code",
   "execution_count": 69,
   "metadata": {},
   "outputs": [
    {
     "name": "stdout",
     "output_type": "stream",
     "text": [
      " * postgresql://postgres:***@db\n",
      "1 rows affected.\n"
     ]
    },
    {
     "data": {
      "text/html": [
       "<table>\n",
       "    <tr>\n",
       "        <th>count</th>\n",
       "    </tr>\n",
       "    <tr>\n",
       "        <td>706</td>\n",
       "    </tr>\n",
       "</table>"
      ],
      "text/plain": [
       "[(706,)]"
      ]
     },
     "execution_count": 69,
     "metadata": {},
     "output_type": "execute_result"
    }
   ],
   "source": [
    "%%sql\n",
    "SELECT COUNT(DISTINCT first_name)\n",
    "FROM employees\n",
    "LIMIT 10;"
   ]
  },
  {
   "cell_type": "code",
   "execution_count": 70,
   "metadata": {},
   "outputs": [
    {
     "name": "stdout",
     "output_type": "stream",
     "text": [
      " * postgresql://postgres:***@db\n",
      "1 rows affected.\n"
     ]
    },
    {
     "data": {
      "text/html": [
       "<table>\n",
       "    <tr>\n",
       "        <th>count</th>\n",
       "    </tr>\n",
       "    <tr>\n",
       "        <td>150</td>\n",
       "    </tr>\n",
       "</table>"
      ],
      "text/plain": [
       "[(150,)]"
      ]
     },
     "execution_count": 70,
     "metadata": {},
     "output_type": "execute_result"
    }
   ],
   "source": [
    "%%sql\n",
    "SELECT COUNT(*)\n",
    "FROM employees\n",
    "WHERE gender = 'F' AND birth_date >= '1960-01-01'\n",
    "LIMIT 10;"
   ]
  },
  {
   "cell_type": "code",
   "execution_count": 71,
   "metadata": {},
   "outputs": [
    {
     "name": "stdout",
     "output_type": "stream",
     "text": [
      " * postgresql://postgres:***@db\n",
      "1 rows affected.\n"
     ]
    },
    {
     "data": {
      "text/html": [
       "<table>\n",
       "    <tr>\n",
       "        <th>count</th>\n",
       "    </tr>\n",
       "    <tr>\n",
       "        <td>53</td>\n",
       "    </tr>\n",
       "</table>"
      ],
      "text/plain": [
       "[(53,)]"
      ]
     },
     "execution_count": 71,
     "metadata": {},
     "output_type": "execute_result"
    }
   ],
   "source": [
    "%%sql\n",
    "SELECT COUNT(DISTINCT emp_no)\n",
    "FROM dept_emp de\n",
    "JOIN departments d\n",
    "ON de.dept_no = d.dept_no\n",
    "WHERE to_date = '9999-01-01' AND dept_name = 'Research'\n",
    "LIMIT 10;"
   ]
  },
  {
   "cell_type": "code",
   "execution_count": 72,
   "metadata": {},
   "outputs": [
    {
     "name": "stdout",
     "output_type": "stream",
     "text": [
      " * postgresql://postgres:***@db\n",
      "1 rows affected.\n"
     ]
    },
    {
     "data": {
      "text/html": [
       "<table>\n",
       "    <tr>\n",
       "        <th>round</th>\n",
       "    </tr>\n",
       "    <tr>\n",
       "        <td>59829</td>\n",
       "    </tr>\n",
       "</table>"
      ],
      "text/plain": [
       "[(Decimal('59829'),)]"
      ]
     },
     "execution_count": 72,
     "metadata": {},
     "output_type": "execute_result"
    }
   ],
   "source": [
    "%%sql\n",
    "SELECT ROUND(AVG(salary),0)\n",
    "FROM salaries s\n",
    "JOIN dept_emp de\n",
    "ON s.emp_no = de.emp_no\n",
    "JOIN departments d\n",
    "ON d.dept_no = de.dept_no\n",
    "WHERE dept_name = 'Production'\n",
    "LIMIT 10;"
   ]
  },
  {
   "cell_type": "code",
   "execution_count": 73,
   "metadata": {},
   "outputs": [
    {
     "name": "stdout",
     "output_type": "stream",
     "text": [
      " * postgresql://postgres:***@db\n",
      "1 rows affected.\n"
     ]
    },
    {
     "data": {
      "text/html": [
       "<table>\n",
       "    <tr>\n",
       "        <th>min</th>\n",
       "    </tr>\n",
       "    <tr>\n",
       "        <td>43311</td>\n",
       "    </tr>\n",
       "</table>"
      ],
      "text/plain": [
       "[(43311,)]"
      ]
     },
     "execution_count": 73,
     "metadata": {},
     "output_type": "execute_result"
    }
   ],
   "source": [
    "%%sql\n",
    "SELECT MIN(salary)\n",
    "FROM employees e\n",
    "JOIN titles t\n",
    "ON e.emp_no = t.emp_no\n",
    "JOIN salaries s\n",
    "ON s.emp_no = e.emp_no\n",
    "WHERE title = 'Senior Engineer' AND s.to_date = '9999-01-01'\n",
    "LIMIT 10;"
   ]
  },
  {
   "cell_type": "code",
   "execution_count": 74,
   "metadata": {
    "scrolled": true
   },
   "outputs": [
    {
     "name": "stdout",
     "output_type": "stream",
     "text": [
      " * postgresql://postgres:***@db\n",
      "1 rows affected.\n"
     ]
    },
    {
     "data": {
      "text/html": [
       "<table>\n",
       "    <tr>\n",
       "        <th>count</th>\n",
       "    </tr>\n",
       "    <tr>\n",
       "        <td>18</td>\n",
       "    </tr>\n",
       "</table>"
      ],
      "text/plain": [
       "[(18,)]"
      ]
     },
     "execution_count": 74,
     "metadata": {},
     "output_type": "execute_result"
    }
   ],
   "source": [
    "%%sql\n",
    "SELECT COUNT(*)\n",
    "FROM employees e\n",
    "JOIN dept_emp de\n",
    "ON de.emp_no = e.emp_no\n",
    "JOIN departments d\n",
    "ON d.dept_no = de.dept_no\n",
    "WHERE dept_name = 'Quality Management' AND gender = 'F' AND to_date = '9999-01-01'\n",
    "LIMIT 10;"
   ]
  },
  {
   "cell_type": "code",
   "execution_count": 75,
   "metadata": {},
   "outputs": [
    {
     "name": "stdout",
     "output_type": "stream",
     "text": [
      " * postgresql://postgres:***@db\n",
      "1 rows affected.\n"
     ]
    },
    {
     "data": {
      "text/html": [
       "<table>\n",
       "    <tr>\n",
       "        <th>min_date</th>\n",
       "    </tr>\n",
       "    <tr>\n",
       "        <td>1985-01-01</td>\n",
       "    </tr>\n",
       "</table>"
      ],
      "text/plain": [
       "[(datetime.date(1985, 1, 1),)]"
      ]
     },
     "execution_count": 75,
     "metadata": {},
     "output_type": "execute_result"
    }
   ],
   "source": [
    "%%sql\n",
    "SELECT MIN(hire_date) AS min_date\n",
    "FROM employees e\n",
    "JOIN dept_emp de\n",
    "ON e.emp_no = de.emp_no\n",
    "JOIN departments d\n",
    "ON d.dept_no = de.dept_no\n",
    "WHERE d.dept_no =\n",
    "    (SELECT dept_no\n",
    "    FROM\n",
    "        (SELECT dept_no, MAX(hire_date) AS max_dept_hire\n",
    "        FROM employees e\n",
    "        JOIN dept_emp de\n",
    "        ON e.emp_no = de.emp_no\n",
    "        GROUP BY dept_no)\n",
    "    WHERE max_dept_hire = (SELECT MAX(hire_date) AS max_hire_date\n",
    "                           FROM employees))"
   ]
  },
  {
   "cell_type": "code",
   "execution_count": 76,
   "metadata": {},
   "outputs": [
    {
     "name": "stdout",
     "output_type": "stream",
     "text": [
      " * postgresql://postgres:***@db\n",
      "1 rows affected.\n"
     ]
    },
    {
     "data": {
      "text/html": [
       "<table>\n",
       "    <tr>\n",
       "        <th>emp_no</th>\n",
       "        <th>first_name</th>\n",
       "    </tr>\n",
       "    <tr>\n",
       "        <td>10552</td>\n",
       "        <td>Kazuhito</td>\n",
       "    </tr>\n",
       "</table>"
      ],
      "text/plain": [
       "[(10552, 'Kazuhito')]"
      ]
     },
     "execution_count": 76,
     "metadata": {},
     "output_type": "execute_result"
    }
   ],
   "source": [
    "%%sql\n",
    "SELECT e.emp_no, e.first_name\n",
    "FROM employees e\n",
    "JOIN salaries s\n",
    "ON e.emp_no = s.emp_no\n",
    "JOIN titles t\n",
    "ON t.emp_no = e.emp_no\n",
    "WHERE t.title = 'Senior Engineer'\n",
    "GROUP BY e.emp_no\n",
    "HAVING COUNT(salary) < 5 OR COUNT(salary) > 15\n",
    "ORDER BY hire_date DESC\n",
    "LIMIT 1;"
   ]
  },
  {
   "cell_type": "code",
   "execution_count": 77,
   "metadata": {},
   "outputs": [
    {
     "name": "stdout",
     "output_type": "stream",
     "text": [
      " * postgresql://postgres:***@db\n",
      "1 rows affected.\n"
     ]
    },
    {
     "data": {
      "text/html": [
       "<table>\n",
       "    <tr>\n",
       "        <th>count</th>\n",
       "    </tr>\n",
       "    <tr>\n",
       "        <td>7</td>\n",
       "    </tr>\n",
       "</table>"
      ],
      "text/plain": [
       "[(7,)]"
      ]
     },
     "execution_count": 77,
     "metadata": {},
     "output_type": "execute_result"
    }
   ],
   "source": [
    "%%sql\n",
    "SELECT COUNT(DISTINCT e.emp_no)\n",
    "FROM employees e\n",
    "JOIN dept_emp de\n",
    "ON e.emp_no = de.emp_no\n",
    "JOIN departments d\n",
    "ON d.dept_no = de.dept_no\n",
    "WHERE EXTRACT(year FROM birth_date) = 1959 AND d.dept_name = 'Research' AND to_date = '9999-01-01'\n",
    "LIMIT 10;"
   ]
  },
  {
   "cell_type": "markdown",
   "metadata": {},
   "source": [
    "---"
   ]
  },
  {
   "cell_type": "markdown",
   "metadata": {},
   "source": [
    "# Round 8"
   ]
  },
  {
   "cell_type": "code",
   "execution_count": 78,
   "metadata": {},
   "outputs": [
    {
     "name": "stdout",
     "output_type": "stream",
     "text": [
      " * postgresql://postgres:***@db\n",
      "1 rows affected.\n"
     ]
    },
    {
     "data": {
      "text/html": [
       "<table>\n",
       "    <tr>\n",
       "        <th>count</th>\n",
       "    </tr>\n",
       "    <tr>\n",
       "        <td>706</td>\n",
       "    </tr>\n",
       "</table>"
      ],
      "text/plain": [
       "[(706,)]"
      ]
     },
     "execution_count": 78,
     "metadata": {},
     "output_type": "execute_result"
    }
   ],
   "source": [
    "%%sql\n",
    "SELECT COUNT(DISTINCT first_name)\n",
    "FROM employees\n",
    "LIMIT 10;"
   ]
  },
  {
   "cell_type": "code",
   "execution_count": 79,
   "metadata": {},
   "outputs": [
    {
     "name": "stdout",
     "output_type": "stream",
     "text": [
      " * postgresql://postgres:***@db\n",
      "1 rows affected.\n"
     ]
    },
    {
     "data": {
      "text/html": [
       "<table>\n",
       "    <tr>\n",
       "        <th>count</th>\n",
       "    </tr>\n",
       "    <tr>\n",
       "        <td>150</td>\n",
       "    </tr>\n",
       "</table>"
      ],
      "text/plain": [
       "[(150,)]"
      ]
     },
     "execution_count": 79,
     "metadata": {},
     "output_type": "execute_result"
    }
   ],
   "source": [
    "%%sql\n",
    "SELECT COUNT(*)\n",
    "FROM employees\n",
    "WHERE gender = 'F' AND birth_date >= '1960-01-01'\n",
    "LIMIT 10;"
   ]
  },
  {
   "cell_type": "code",
   "execution_count": 80,
   "metadata": {},
   "outputs": [
    {
     "name": "stdout",
     "output_type": "stream",
     "text": [
      " * postgresql://postgres:***@db\n",
      "1 rows affected.\n"
     ]
    },
    {
     "data": {
      "text/html": [
       "<table>\n",
       "    <tr>\n",
       "        <th>count</th>\n",
       "    </tr>\n",
       "    <tr>\n",
       "        <td>53</td>\n",
       "    </tr>\n",
       "</table>"
      ],
      "text/plain": [
       "[(53,)]"
      ]
     },
     "execution_count": 80,
     "metadata": {},
     "output_type": "execute_result"
    }
   ],
   "source": [
    "%%sql\n",
    "SELECT COUNT(*)\n",
    "FROM employees e\n",
    "JOIN dept_emp de\n",
    "ON e.emp_no = de.emp_no\n",
    "JOIN departments d\n",
    "ON d.dept_no = de.dept_no\n",
    "WHERE dept_name = 'Research' AND to_date = '9999-01-01'\n",
    "LIMIT 10;"
   ]
  },
  {
   "cell_type": "code",
   "execution_count": 81,
   "metadata": {},
   "outputs": [
    {
     "name": "stdout",
     "output_type": "stream",
     "text": [
      " * postgresql://postgres:***@db\n",
      "1 rows affected.\n"
     ]
    },
    {
     "data": {
      "text/html": [
       "<table>\n",
       "    <tr>\n",
       "        <th>round</th>\n",
       "    </tr>\n",
       "    <tr>\n",
       "        <td>59829</td>\n",
       "    </tr>\n",
       "</table>"
      ],
      "text/plain": [
       "[(Decimal('59829'),)]"
      ]
     },
     "execution_count": 81,
     "metadata": {},
     "output_type": "execute_result"
    }
   ],
   "source": [
    "%%sql\n",
    "SELECT ROUND(AVG(salary), 0)\n",
    "FROM employees e\n",
    "JOIN dept_emp de\n",
    "ON e.emp_no = de.emp_no\n",
    "JOIN departments d\n",
    "ON d.dept_no = de.dept_no\n",
    "JOIN salaries s\n",
    "ON s.emp_no = e.emp_no\n",
    "WHERE dept_name = 'Production'\n",
    "LIMIT 10;"
   ]
  },
  {
   "cell_type": "code",
   "execution_count": 82,
   "metadata": {},
   "outputs": [
    {
     "name": "stdout",
     "output_type": "stream",
     "text": [
      " * postgresql://postgres:***@db\n",
      "1 rows affected.\n"
     ]
    },
    {
     "data": {
      "text/html": [
       "<table>\n",
       "    <tr>\n",
       "        <th>min</th>\n",
       "    </tr>\n",
       "    <tr>\n",
       "        <td>43311</td>\n",
       "    </tr>\n",
       "</table>"
      ],
      "text/plain": [
       "[(43311,)]"
      ]
     },
     "execution_count": 82,
     "metadata": {},
     "output_type": "execute_result"
    }
   ],
   "source": [
    "%%sql\n",
    "SELECT MIN(salary)\n",
    "FROM employees e\n",
    "JOIN salaries s\n",
    "ON s.emp_no = e.emp_no\n",
    "JOIN titles t\n",
    "ON t.emp_no = e.emp_no\n",
    "WHERE title = 'Senior Engineer' AND s.to_date = '9999-01-01'\n",
    "LIMIT 10;"
   ]
  },
  {
   "cell_type": "code",
   "execution_count": 83,
   "metadata": {},
   "outputs": [
    {
     "name": "stdout",
     "output_type": "stream",
     "text": [
      " * postgresql://postgres:***@db\n",
      "1 rows affected.\n"
     ]
    },
    {
     "data": {
      "text/html": [
       "<table>\n",
       "    <tr>\n",
       "        <th>count</th>\n",
       "    </tr>\n",
       "    <tr>\n",
       "        <td>18</td>\n",
       "    </tr>\n",
       "</table>"
      ],
      "text/plain": [
       "[(18,)]"
      ]
     },
     "execution_count": 83,
     "metadata": {},
     "output_type": "execute_result"
    }
   ],
   "source": [
    "%%sql\n",
    "SELECT COUNT(*)\n",
    "FROM employees e\n",
    "JOIN dept_emp de\n",
    "ON de.emp_no = e.emp_no\n",
    "JOIN departments d\n",
    "ON d.dept_no = de.dept_no\n",
    "WHERE dept_name = 'Quality Management' AND gender = 'F' AND to_date = '9999-01-01'\n",
    "LIMIT 10;"
   ]
  },
  {
   "cell_type": "code",
   "execution_count": 84,
   "metadata": {},
   "outputs": [
    {
     "name": "stdout",
     "output_type": "stream",
     "text": [
      " * postgresql://postgres:***@db\n",
      "1 rows affected.\n"
     ]
    },
    {
     "data": {
      "text/html": [
       "<table>\n",
       "    <tr>\n",
       "        <th>min_date</th>\n",
       "    </tr>\n",
       "    <tr>\n",
       "        <td>1985-01-01</td>\n",
       "    </tr>\n",
       "</table>"
      ],
      "text/plain": [
       "[(datetime.date(1985, 1, 1),)]"
      ]
     },
     "execution_count": 84,
     "metadata": {},
     "output_type": "execute_result"
    }
   ],
   "source": [
    "%%sql\n",
    "SELECT MIN(hire_date) AS min_date\n",
    "FROM employees e\n",
    "JOIN dept_emp de\n",
    "ON e.emp_no = de.emp_no\n",
    "JOIN departments d\n",
    "ON d.dept_no = de.dept_no\n",
    "WHERE d.dept_no =\n",
    "    (SELECT dept_no\n",
    "    FROM\n",
    "        (SELECT dept_no, MAX(hire_date) AS max_dept_hire\n",
    "        FROM employees e\n",
    "        JOIN dept_emp de\n",
    "        ON e.emp_no = de.emp_no\n",
    "        GROUP BY dept_no)\n",
    "    WHERE max_dept_hire = (SELECT MAX(hire_date) AS max_hire_date\n",
    "                            FROM employees))"
   ]
  },
  {
   "cell_type": "code",
   "execution_count": 85,
   "metadata": {},
   "outputs": [
    {
     "name": "stdout",
     "output_type": "stream",
     "text": [
      " * postgresql://postgres:***@db\n",
      "1 rows affected.\n"
     ]
    },
    {
     "data": {
      "text/html": [
       "<table>\n",
       "    <tr>\n",
       "        <th>emp_no</th>\n",
       "        <th>first_name</th>\n",
       "    </tr>\n",
       "    <tr>\n",
       "        <td>10552</td>\n",
       "        <td>Kazuhito</td>\n",
       "    </tr>\n",
       "</table>"
      ],
      "text/plain": [
       "[(10552, 'Kazuhito')]"
      ]
     },
     "execution_count": 85,
     "metadata": {},
     "output_type": "execute_result"
    }
   ],
   "source": [
    "%%sql\n",
    "SELECT e.emp_no, e.first_name\n",
    "FROM employees e\n",
    "JOIN salaries s\n",
    "ON s.emp_no = e.emp_no\n",
    "JOIN titles t\n",
    "ON e.emp_no = t.emp_no\n",
    "WHERE title = 'Senior Engineer'\n",
    "GROUP BY e.emp_no, e.first_name\n",
    "ORDER BY MAX(hire_date) DESC\n",
    "LIMIT 1;"
   ]
  },
  {
   "cell_type": "code",
   "execution_count": 86,
   "metadata": {},
   "outputs": [
    {
     "name": "stdout",
     "output_type": "stream",
     "text": [
      " * postgresql://postgres:***@db\n",
      "1 rows affected.\n"
     ]
    },
    {
     "data": {
      "text/html": [
       "<table>\n",
       "    <tr>\n",
       "        <th>count</th>\n",
       "    </tr>\n",
       "    <tr>\n",
       "        <td>7</td>\n",
       "    </tr>\n",
       "</table>"
      ],
      "text/plain": [
       "[(7,)]"
      ]
     },
     "execution_count": 86,
     "metadata": {},
     "output_type": "execute_result"
    }
   ],
   "source": [
    "%%sql\n",
    "SELECT COUNT(*)\n",
    "FROM employees e\n",
    "JOIN dept_emp de\n",
    "ON e.emp_no = de.emp_no\n",
    "JOIN departments d\n",
    "ON de.dept_no = d.dept_no\n",
    "WHERE d.dept_name = 'Research' AND de.to_date = '9999-01-01' AND EXTRACT(year FROM e.birth_date) = 1959 \n",
    "LIMIT 10;"
   ]
  },
  {
   "cell_type": "markdown",
   "metadata": {},
   "source": [
    "---"
   ]
  },
  {
   "cell_type": "markdown",
   "metadata": {},
   "source": [
    "# Round 9"
   ]
  },
  {
   "cell_type": "code",
   "execution_count": 87,
   "metadata": {},
   "outputs": [
    {
     "name": "stdout",
     "output_type": "stream",
     "text": [
      " * postgresql://postgres:***@db\n",
      "1 rows affected.\n"
     ]
    },
    {
     "data": {
      "text/html": [
       "<table>\n",
       "    <tr>\n",
       "        <th>count</th>\n",
       "    </tr>\n",
       "    <tr>\n",
       "        <td>706</td>\n",
       "    </tr>\n",
       "</table>"
      ],
      "text/plain": [
       "[(706,)]"
      ]
     },
     "execution_count": 87,
     "metadata": {},
     "output_type": "execute_result"
    }
   ],
   "source": [
    "%%sql\n",
    "SELECT COUNT(DISTINCT first_name)\n",
    "FROM employees\n",
    "LIMIT 10;"
   ]
  },
  {
   "cell_type": "code",
   "execution_count": 88,
   "metadata": {},
   "outputs": [
    {
     "name": "stdout",
     "output_type": "stream",
     "text": [
      " * postgresql://postgres:***@db\n",
      "1 rows affected.\n"
     ]
    },
    {
     "data": {
      "text/html": [
       "<table>\n",
       "    <tr>\n",
       "        <th>count</th>\n",
       "    </tr>\n",
       "    <tr>\n",
       "        <td>150</td>\n",
       "    </tr>\n",
       "</table>"
      ],
      "text/plain": [
       "[(150,)]"
      ]
     },
     "execution_count": 88,
     "metadata": {},
     "output_type": "execute_result"
    }
   ],
   "source": [
    "%%sql\n",
    "SELECT COUNT(*)\n",
    "FROM employees\n",
    "WHERE gender = 'F' AND birth_date >= '1960-01-01'\n",
    "LIMIT 10;"
   ]
  },
  {
   "cell_type": "code",
   "execution_count": 89,
   "metadata": {},
   "outputs": [
    {
     "name": "stdout",
     "output_type": "stream",
     "text": [
      " * postgresql://postgres:***@db\n",
      "1 rows affected.\n"
     ]
    },
    {
     "data": {
      "text/html": [
       "<table>\n",
       "    <tr>\n",
       "        <th>count</th>\n",
       "    </tr>\n",
       "    <tr>\n",
       "        <td>53</td>\n",
       "    </tr>\n",
       "</table>"
      ],
      "text/plain": [
       "[(53,)]"
      ]
     },
     "execution_count": 89,
     "metadata": {},
     "output_type": "execute_result"
    }
   ],
   "source": [
    "%%sql\n",
    "SELECT COUNT(*)\n",
    "FROM employees e\n",
    "JOIN dept_emp de\n",
    "ON de.emp_no = e.emp_no\n",
    "JOIN departments d\n",
    "ON d.dept_no = de.dept_no\n",
    "WHERE d.dept_name = 'Research' AND to_date = '9999-01-01'\n",
    "LIMIT 10;"
   ]
  },
  {
   "cell_type": "code",
   "execution_count": 90,
   "metadata": {},
   "outputs": [
    {
     "name": "stdout",
     "output_type": "stream",
     "text": [
      " * postgresql://postgres:***@db\n",
      "1 rows affected.\n"
     ]
    },
    {
     "data": {
      "text/html": [
       "<table>\n",
       "    <tr>\n",
       "        <th>round</th>\n",
       "    </tr>\n",
       "    <tr>\n",
       "        <td>59829</td>\n",
       "    </tr>\n",
       "</table>"
      ],
      "text/plain": [
       "[(Decimal('59829'),)]"
      ]
     },
     "execution_count": 90,
     "metadata": {},
     "output_type": "execute_result"
    }
   ],
   "source": [
    "%%sql\n",
    "SELECT ROUND(AVG(salary),0)\n",
    "FROM employees e\n",
    "JOIN dept_emp de\n",
    "ON e.emp_no = de.emp_no\n",
    "JOIN departments d\n",
    "ON d.dept_no = de.dept_no\n",
    "JOIN salaries s\n",
    "ON s.emp_no = e.emp_no\n",
    "WHERE dept_name = 'Production'\n",
    "LIMIT 10;"
   ]
  },
  {
   "cell_type": "code",
   "execution_count": 91,
   "metadata": {},
   "outputs": [
    {
     "name": "stdout",
     "output_type": "stream",
     "text": [
      " * postgresql://postgres:***@db\n",
      "1 rows affected.\n"
     ]
    },
    {
     "data": {
      "text/html": [
       "<table>\n",
       "    <tr>\n",
       "        <th>min</th>\n",
       "    </tr>\n",
       "    <tr>\n",
       "        <td>43311</td>\n",
       "    </tr>\n",
       "</table>"
      ],
      "text/plain": [
       "[(43311,)]"
      ]
     },
     "execution_count": 91,
     "metadata": {},
     "output_type": "execute_result"
    }
   ],
   "source": [
    "%%sql\n",
    "SELECT MIN(salary)\n",
    "FROM employees e\n",
    "JOIN titles t\n",
    "ON e.emp_no = t.emp_no\n",
    "JOIN salaries s\n",
    "ON s.emp_no = t.emp_no\n",
    "WHERE title = 'Senior Engineer' AND s.to_date = '9999-01-01'\n",
    "LIMIT 10;"
   ]
  },
  {
   "cell_type": "code",
   "execution_count": 92,
   "metadata": {},
   "outputs": [
    {
     "name": "stdout",
     "output_type": "stream",
     "text": [
      " * postgresql://postgres:***@db\n",
      "1 rows affected.\n"
     ]
    },
    {
     "data": {
      "text/html": [
       "<table>\n",
       "    <tr>\n",
       "        <th>count</th>\n",
       "    </tr>\n",
       "    <tr>\n",
       "        <td>18</td>\n",
       "    </tr>\n",
       "</table>"
      ],
      "text/plain": [
       "[(18,)]"
      ]
     },
     "execution_count": 92,
     "metadata": {},
     "output_type": "execute_result"
    }
   ],
   "source": [
    "%%sql\n",
    "SELECT COUNT(*)\n",
    "FROM employees e\n",
    "JOIN dept_emp de\n",
    "ON de.emp_no = e.emp_no\n",
    "JOIN departments d\n",
    "ON d.dept_no = de.dept_no\n",
    "WHERE dept_name = 'Quality Management' AND gender = 'F' AND to_date = '9999-01-01'\n",
    "LIMIT 10;"
   ]
  },
  {
   "cell_type": "code",
   "execution_count": 93,
   "metadata": {},
   "outputs": [
    {
     "name": "stdout",
     "output_type": "stream",
     "text": [
      " * postgresql://postgres:***@db\n",
      "1 rows affected.\n"
     ]
    },
    {
     "data": {
      "text/html": [
       "<table>\n",
       "    <tr>\n",
       "        <th>min_date</th>\n",
       "    </tr>\n",
       "    <tr>\n",
       "        <td>1985-01-01</td>\n",
       "    </tr>\n",
       "</table>"
      ],
      "text/plain": [
       "[(datetime.date(1985, 1, 1),)]"
      ]
     },
     "execution_count": 93,
     "metadata": {},
     "output_type": "execute_result"
    }
   ],
   "source": [
    "%%sql\n",
    "SELECT MIN(hire_date) AS min_date\n",
    "FROM employees e\n",
    "JOIN dept_emp de\n",
    "ON e.emp_no = de.emp_no\n",
    "JOIN departments d\n",
    "ON d.dept_no = de.dept_no\n",
    "WHERE de.dept_no =\n",
    "    (SELECT dept_no AS max_dept_hire\n",
    "    FROM\n",
    "        (SELECT dept_no, MAX(hire_date) AS max_dept_hire\n",
    "        FROM employees e\n",
    "        JOIN dept_emp de\n",
    "        ON e.emp_no = de.emp_no\n",
    "        GROUP BY dept_no)\n",
    "    WHERE max_dept_hire = (SELECT MAX(hire_date) AS max_hire_date FROM employees))"
   ]
  },
  {
   "cell_type": "code",
   "execution_count": 94,
   "metadata": {},
   "outputs": [
    {
     "name": "stdout",
     "output_type": "stream",
     "text": [
      " * postgresql://postgres:***@db\n",
      "1 rows affected.\n"
     ]
    },
    {
     "data": {
      "text/html": [
       "<table>\n",
       "    <tr>\n",
       "        <th>emp_no</th>\n",
       "        <th>first_name</th>\n",
       "    </tr>\n",
       "    <tr>\n",
       "        <td>10552</td>\n",
       "        <td>Kazuhito</td>\n",
       "    </tr>\n",
       "</table>"
      ],
      "text/plain": [
       "[(10552, 'Kazuhito')]"
      ]
     },
     "execution_count": 94,
     "metadata": {},
     "output_type": "execute_result"
    }
   ],
   "source": [
    "%%sql\n",
    "SELECT e.emp_no, e.first_name\n",
    "FROM employees e\n",
    "JOIN salaries s\n",
    "ON e.emp_no = s.emp_no\n",
    "JOIN titles t\n",
    "ON t.emp_no = e.emp_no\n",
    "WHERE title = 'Senior Engineer'\n",
    "GROUP BY e.emp_no\n",
    "HAVING COUNT(salary) < 5 OR COUNT(salary) > 15\n",
    "ORDER BY hire_date DESC\n",
    "LIMIT 1;"
   ]
  },
  {
   "cell_type": "code",
   "execution_count": 95,
   "metadata": {},
   "outputs": [
    {
     "name": "stdout",
     "output_type": "stream",
     "text": [
      " * postgresql://postgres:***@db\n",
      "1 rows affected.\n"
     ]
    },
    {
     "data": {
      "text/html": [
       "<table>\n",
       "    <tr>\n",
       "        <th>count</th>\n",
       "    </tr>\n",
       "    <tr>\n",
       "        <td>7</td>\n",
       "    </tr>\n",
       "</table>"
      ],
      "text/plain": [
       "[(7,)]"
      ]
     },
     "execution_count": 95,
     "metadata": {},
     "output_type": "execute_result"
    }
   ],
   "source": [
    "%%sql\n",
    "SELECT COUNT(DISTINCT e.emp_no)\n",
    "FROM employees e\n",
    "JOIN dept_emp de\n",
    "ON e.emp_no = de.emp_no\n",
    "JOIN departments d\n",
    "ON d.dept_no = de.dept_no\n",
    "WHERE EXTRACT(year FROM birth_date) = 1959  AND dept_name = 'Research' AND to_date = '9999-01-01'\n",
    "LIMIT 10;"
   ]
  },
  {
   "cell_type": "code",
   "execution_count": 96,
   "metadata": {},
   "outputs": [
    {
     "name": "stdout",
     "output_type": "stream",
     "text": [
      " * postgresql://postgres:***@db\n",
      "(psycopg2.errors.SyntaxError) syntax error at or near \"LIMIT\"\n",
      "LINE 1: LIMIT 10;\n",
      "        ^\n",
      "\n",
      "[SQL: LIMIT 10;]\n",
      "(Background on this error at: https://sqlalche.me/e/14/f405)\n"
     ]
    }
   ],
   "source": [
    "%%sql\n",
    "\n",
    "LIMIT 10;"
   ]
  },
  {
   "cell_type": "markdown",
   "metadata": {},
   "source": [
    "---"
   ]
  },
  {
   "cell_type": "markdown",
   "metadata": {},
   "source": [
    "# Round 10"
   ]
  },
  {
   "cell_type": "code",
   "execution_count": 98,
   "metadata": {},
   "outputs": [
    {
     "name": "stdout",
     "output_type": "stream",
     "text": [
      " * postgresql://postgres:***@db\n",
      "1 rows affected.\n"
     ]
    },
    {
     "data": {
      "text/html": [
       "<table>\n",
       "    <tr>\n",
       "        <th>count</th>\n",
       "    </tr>\n",
       "    <tr>\n",
       "        <td>706</td>\n",
       "    </tr>\n",
       "</table>"
      ],
      "text/plain": [
       "[(706,)]"
      ]
     },
     "execution_count": 98,
     "metadata": {},
     "output_type": "execute_result"
    }
   ],
   "source": [
    "%%sql\n",
    "SELECT COUNT(DISTINCT first_name)\n",
    "FROM employees\n",
    "LIMIT 10;"
   ]
  },
  {
   "cell_type": "code",
   "execution_count": 106,
   "metadata": {},
   "outputs": [
    {
     "name": "stdout",
     "output_type": "stream",
     "text": [
      " * postgresql://postgres:***@db\n",
      "1 rows affected.\n"
     ]
    },
    {
     "data": {
      "text/html": [
       "<table>\n",
       "    <tr>\n",
       "        <th>count</th>\n",
       "    </tr>\n",
       "    <tr>\n",
       "        <td>150</td>\n",
       "    </tr>\n",
       "</table>"
      ],
      "text/plain": [
       "[(150,)]"
      ]
     },
     "execution_count": 106,
     "metadata": {},
     "output_type": "execute_result"
    }
   ],
   "source": [
    "%%sql\n",
    "SELECT COUNT(DISTINCT emp_no)\n",
    "FROM employees\n",
    "WHERE gender = 'F' AND birth_date >= '1960-01-01'\n",
    "LIMIT 10;"
   ]
  },
  {
   "cell_type": "code",
   "execution_count": 115,
   "metadata": {},
   "outputs": [
    {
     "name": "stdout",
     "output_type": "stream",
     "text": [
      " * postgresql://postgres:***@db\n",
      "1 rows affected.\n"
     ]
    },
    {
     "data": {
      "text/html": [
       "<table>\n",
       "    <tr>\n",
       "        <th>count</th>\n",
       "    </tr>\n",
       "    <tr>\n",
       "        <td>53</td>\n",
       "    </tr>\n",
       "</table>"
      ],
      "text/plain": [
       "[(53,)]"
      ]
     },
     "execution_count": 115,
     "metadata": {},
     "output_type": "execute_result"
    }
   ],
   "source": [
    "%%sql\n",
    "SELECT COUNT(*)\n",
    "FROM employees e\n",
    "JOIN dept_emp de\n",
    "ON de.emp_no = e.emp_no\n",
    "JOIN departments d\n",
    "ON d.dept_no = de.dept_no\n",
    "WHERE d.dept_name = 'Research' AND to_date = '9999-01-01'\n",
    "LIMIT 10;"
   ]
  },
  {
   "cell_type": "code",
   "execution_count": 120,
   "metadata": {},
   "outputs": [
    {
     "name": "stdout",
     "output_type": "stream",
     "text": [
      " * postgresql://postgres:***@db\n",
      "1 rows affected.\n"
     ]
    },
    {
     "data": {
      "text/html": [
       "<table>\n",
       "    <tr>\n",
       "        <th>min</th>\n",
       "    </tr>\n",
       "    <tr>\n",
       "        <td>43311</td>\n",
       "    </tr>\n",
       "</table>"
      ],
      "text/plain": [
       "[(43311,)]"
      ]
     },
     "execution_count": 120,
     "metadata": {},
     "output_type": "execute_result"
    }
   ],
   "source": [
    "%%sql\n",
    "SELECT MIN(salary)\n",
    "FROM employees e\n",
    "JOIN salaries s\n",
    "ON e.emp_no = s.emp_no\n",
    "JOIN titles t\n",
    "ON t.emp_no = e.emp_no\n",
    "WHERE title = 'Senior Engineer' AND s.to_date = '9999-01-01'\n",
    "LIMIT 10;"
   ]
  },
  {
   "cell_type": "code",
   "execution_count": 126,
   "metadata": {},
   "outputs": [
    {
     "name": "stdout",
     "output_type": "stream",
     "text": [
      " * postgresql://postgres:***@db\n",
      "1 rows affected.\n"
     ]
    },
    {
     "data": {
      "text/html": [
       "<table>\n",
       "    <tr>\n",
       "        <th>count</th>\n",
       "    </tr>\n",
       "    <tr>\n",
       "        <td>18</td>\n",
       "    </tr>\n",
       "</table>"
      ],
      "text/plain": [
       "[(18,)]"
      ]
     },
     "execution_count": 126,
     "metadata": {},
     "output_type": "execute_result"
    }
   ],
   "source": [
    "%%sql\n",
    "SELECT COUNT(*)\n",
    "FROM employees e\n",
    "JOIN dept_emp de\n",
    "ON e.emp_no = de.emp_no\n",
    "JOIN departments d\n",
    "ON d.dept_no = de.dept_no\n",
    "WHERE gender = 'F' AND dept_name = 'Quality Management' AND to_date = '9999-01-01'\n",
    "LIMIT 10;"
   ]
  },
  {
   "cell_type": "code",
   "execution_count": 132,
   "metadata": {},
   "outputs": [
    {
     "name": "stdout",
     "output_type": "stream",
     "text": [
      " * postgresql://postgres:***@db\n",
      "1 rows affected.\n"
     ]
    },
    {
     "data": {
      "text/html": [
       "<table>\n",
       "    <tr>\n",
       "        <th>min_date</th>\n",
       "    </tr>\n",
       "    <tr>\n",
       "        <td>1985-01-01</td>\n",
       "    </tr>\n",
       "</table>"
      ],
      "text/plain": [
       "[(datetime.date(1985, 1, 1),)]"
      ]
     },
     "execution_count": 132,
     "metadata": {},
     "output_type": "execute_result"
    }
   ],
   "source": [
    "%%sql\n",
    "SELECT MIN(hire_date) AS min_date\n",
    "FROM employees e\n",
    "JOIN dept_emp de\n",
    "ON e.emp_no = de.emp_no\n",
    "JOIN departments d\n",
    "ON d.dept_no = de.dept_no\n",
    "WHERE d.dept_no =\n",
    "    (SELECT dept_no\n",
    "    FROM\n",
    "        (SELECT dept_no, MAX(hire_date) AS max_dept_hire\n",
    "        FROM employees e\n",
    "        JOIN dept_emp de\n",
    "        ON e.emp_no = de.emp_no\n",
    "        GROUP BY dept_no)\n",
    "    WHERE max_dept_hire = (SELECT MAX(hire_date) AS max_hire_date FROM employees));"
   ]
  },
  {
   "cell_type": "code",
   "execution_count": 140,
   "metadata": {},
   "outputs": [
    {
     "name": "stdout",
     "output_type": "stream",
     "text": [
      " * postgresql://postgres:***@db\n",
      "1 rows affected.\n"
     ]
    },
    {
     "data": {
      "text/html": [
       "<table>\n",
       "    <tr>\n",
       "        <th>emp_no</th>\n",
       "        <th>first_name</th>\n",
       "    </tr>\n",
       "    <tr>\n",
       "        <td>10552</td>\n",
       "        <td>Kazuhito</td>\n",
       "    </tr>\n",
       "</table>"
      ],
      "text/plain": [
       "[(10552, 'Kazuhito')]"
      ]
     },
     "execution_count": 140,
     "metadata": {},
     "output_type": "execute_result"
    }
   ],
   "source": [
    "%%sql\n",
    "SELECT e.emp_no, e.first_name\n",
    "FROM employees e\n",
    "JOIN salaries s\n",
    "ON e.emp_no = s.emp_no\n",
    "JOIN titles t\n",
    "ON t.emp_no = e.emp_no\n",
    "WHERE title = 'Senior Engineer'\n",
    "GROUP BY e.emp_no\n",
    "HAVING COUNT(salary) < 5 OR COUNT(salary) > 15\n",
    "ORDER BY hire_date DESC\n",
    "LIMIT 1;"
   ]
  },
  {
   "cell_type": "code",
   "execution_count": 147,
   "metadata": {},
   "outputs": [
    {
     "name": "stdout",
     "output_type": "stream",
     "text": [
      " * postgresql://postgres:***@db\n",
      "1 rows affected.\n"
     ]
    },
    {
     "data": {
      "text/html": [
       "<table>\n",
       "    <tr>\n",
       "        <th>count</th>\n",
       "    </tr>\n",
       "    <tr>\n",
       "        <td>7</td>\n",
       "    </tr>\n",
       "</table>"
      ],
      "text/plain": [
       "[(7,)]"
      ]
     },
     "execution_count": 147,
     "metadata": {},
     "output_type": "execute_result"
    }
   ],
   "source": [
    "%%sql\n",
    "SELECT COUNT(e.emp_no)\n",
    "FROM employees e\n",
    "JOIN dept_emp de\n",
    "ON e.emp_no = de.emp_no\n",
    "JOIN departments d\n",
    "ON d.dept_no = de.dept_no\n",
    "WHERE EXTRACT(year FROM birth_date) = 1959 AND dept_name = 'Research' AND to_date = '9999-01-01'\n",
    "LIMIT 10;"
   ]
  },
  {
   "cell_type": "markdown",
   "metadata": {},
   "source": [
    "---"
   ]
  }
 ],
 "metadata": {
  "kernelspec": {
   "display_name": "Python 3 (ipykernel)",
   "language": "python",
   "name": "python3"
  },
  "language_info": {
   "codemirror_mode": {
    "name": "ipython",
    "version": 3
   },
   "file_extension": ".py",
   "mimetype": "text/x-python",
   "name": "python",
   "nbconvert_exporter": "python",
   "pygments_lexer": "ipython3",
   "version": "3.9.20"
  }
 },
 "nbformat": 4,
 "nbformat_minor": 2
}
