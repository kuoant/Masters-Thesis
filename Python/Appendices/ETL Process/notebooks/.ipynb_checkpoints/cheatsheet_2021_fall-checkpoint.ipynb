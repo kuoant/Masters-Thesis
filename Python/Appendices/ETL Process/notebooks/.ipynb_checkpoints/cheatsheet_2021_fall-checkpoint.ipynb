{
 "cells": [
  {
   "cell_type": "markdown",
   "metadata": {},
   "source": [
    "# Information Systems for Engineers Fall 2021 - Cheat Sheet\n",
    "\n",
    "During the exam, you will be required to write SQL queries using a Jupyter notebook.\n",
    "\n",
    "This notebook is designed to help you start writing your queries by providing you an environment with the datasets loaded and a simple query that you can use to recap the syntax of SQL.\n",
    "\n",
    "Feel free to extend this notebook and use it for preparing the answers you need for the exam. Take into account that the content of this notebook will not be considered for grading.\n",
    "\n",
    "## SQL\n",
    "\n",
    "There is a local PostgreSQL 13 installation with a dataset loaded into a database. Run the next cell to connect to it."
   ]
  },
  {
   "cell_type": "code",
   "execution_count": 1,
   "metadata": {},
   "outputs": [],
   "source": [
    "%load_ext sql\n",
    "%sql  postgresql://postgres:example@db "
   ]
  },
  {
   "cell_type": "markdown",
   "metadata": {},
   "source": [
    "To print the tables currently loaded in the database run:"
   ]
  },
  {
   "cell_type": "code",
   "execution_count": 2,
   "metadata": {},
   "outputs": [
    {
     "name": "stdout",
     "output_type": "stream",
     "text": [
      " * postgresql://postgres:***@db\n",
      "4 rows affected.\n"
     ]
    },
    {
     "data": {
      "text/html": [
       "<table>\n",
       "    <tr>\n",
       "        <th>table_catalog</th>\n",
       "        <th>table_schema</th>\n",
       "        <th>table_name</th>\n",
       "        <th>table_type</th>\n",
       "        <th>self_referencing_column_name</th>\n",
       "        <th>reference_generation</th>\n",
       "        <th>user_defined_type_catalog</th>\n",
       "        <th>user_defined_type_schema</th>\n",
       "        <th>user_defined_type_name</th>\n",
       "        <th>is_insertable_into</th>\n",
       "        <th>is_typed</th>\n",
       "        <th>commit_action</th>\n",
       "    </tr>\n",
       "    <tr>\n",
       "        <td>postgres</td>\n",
       "        <td>public</td>\n",
       "        <td>categories</td>\n",
       "        <td>BASE TABLE</td>\n",
       "        <td>None</td>\n",
       "        <td>None</td>\n",
       "        <td>None</td>\n",
       "        <td>None</td>\n",
       "        <td>None</td>\n",
       "        <td>YES</td>\n",
       "        <td>NO</td>\n",
       "        <td>None</td>\n",
       "    </tr>\n",
       "    <tr>\n",
       "        <td>postgres</td>\n",
       "        <td>public</td>\n",
       "        <td>customers</td>\n",
       "        <td>BASE TABLE</td>\n",
       "        <td>None</td>\n",
       "        <td>None</td>\n",
       "        <td>None</td>\n",
       "        <td>None</td>\n",
       "        <td>None</td>\n",
       "        <td>YES</td>\n",
       "        <td>NO</td>\n",
       "        <td>None</td>\n",
       "    </tr>\n",
       "    <tr>\n",
       "        <td>postgres</td>\n",
       "        <td>public</td>\n",
       "        <td>nwemployees</td>\n",
       "        <td>BASE TABLE</td>\n",
       "        <td>None</td>\n",
       "        <td>None</td>\n",
       "        <td>None</td>\n",
       "        <td>None</td>\n",
       "        <td>None</td>\n",
       "        <td>YES</td>\n",
       "        <td>NO</td>\n",
       "        <td>None</td>\n",
       "    </tr>\n",
       "    <tr>\n",
       "        <td>postgres</td>\n",
       "        <td>public</td>\n",
       "        <td>employeeterritories</td>\n",
       "        <td>BASE TABLE</td>\n",
       "        <td>None</td>\n",
       "        <td>None</td>\n",
       "        <td>None</td>\n",
       "        <td>None</td>\n",
       "        <td>None</td>\n",
       "        <td>YES</td>\n",
       "        <td>NO</td>\n",
       "        <td>None</td>\n",
       "    </tr>\n",
       "</table>"
      ],
      "text/plain": [
       "[('postgres', 'public', 'categories', 'BASE TABLE', None, None, None, None, None, 'YES', 'NO', None),\n",
       " ('postgres', 'public', 'customers', 'BASE TABLE', None, None, None, None, None, 'YES', 'NO', None),\n",
       " ('postgres', 'public', 'nwemployees', 'BASE TABLE', None, None, None, None, None, 'YES', 'NO', None),\n",
       " ('postgres', 'public', 'employeeterritories', 'BASE TABLE', None, None, None, None, None, 'YES', 'NO', None)]"
      ]
     },
     "execution_count": 2,
     "metadata": {},
     "output_type": "execute_result"
    }
   ],
   "source": [
    "%%sql\n",
    "\n",
    "SELECT * \n",
    "FROM INFORMATION_SCHEMA.TABLES \n",
    "WHERE TABLE_TYPE = 'BASE TABLE' and TABLE_CATALOG = 'postgres' and TABLE_SCHEMA = 'public'\n",
    "LIMIT 4;"
   ]
  },
  {
   "cell_type": "markdown",
   "metadata": {},
   "source": [
    "To print the attributes of a particular table (`airports`, for example) run:"
   ]
  },
  {
   "cell_type": "code",
   "execution_count": 3,
   "metadata": {},
   "outputs": [
    {
     "name": "stdout",
     "output_type": "stream",
     "text": [
      " * postgresql://postgres:***@db\n",
      "6 rows affected.\n"
     ]
    },
    {
     "data": {
      "text/html": [
       "<table>\n",
       "    <tr>\n",
       "        <th>column_name</th>\n",
       "        <th>data_type</th>\n",
       "        <th>character_maximum_length</th>\n",
       "    </tr>\n",
       "    <tr>\n",
       "        <td>latitude</td>\n",
       "        <td>double precision</td>\n",
       "        <td>None</td>\n",
       "    </tr>\n",
       "    <tr>\n",
       "        <td>longtide</td>\n",
       "        <td>double precision</td>\n",
       "        <td>None</td>\n",
       "    </tr>\n",
       "    <tr>\n",
       "        <td>code</td>\n",
       "        <td>character varying</td>\n",
       "        <td>5</td>\n",
       "    </tr>\n",
       "    <tr>\n",
       "        <td>name</td>\n",
       "        <td>character varying</td>\n",
       "        <td>80</td>\n",
       "    </tr>\n",
       "    <tr>\n",
       "        <td>city</td>\n",
       "        <td>character varying</td>\n",
       "        <td>40</td>\n",
       "    </tr>\n",
       "    <tr>\n",
       "        <td>residence</td>\n",
       "        <td>character varying</td>\n",
       "        <td>2</td>\n",
       "    </tr>\n",
       "</table>"
      ],
      "text/plain": [
       "[('latitude', 'double precision', None),\n",
       " ('longtide', 'double precision', None),\n",
       " ('code', 'character varying', 5),\n",
       " ('name', 'character varying', 80),\n",
       " ('city', 'character varying', 40),\n",
       " ('residence', 'character varying', 2)]"
      ]
     },
     "execution_count": 3,
     "metadata": {},
     "output_type": "execute_result"
    }
   ],
   "source": [
    "%%sql\n",
    "\n",
    "SELECT column_name, data_type, character_maximum_length\n",
    "FROM INFORMATION_SCHEMA.COLUMNS \n",
    "WHERE table_name = 'airports';"
   ]
  },
  {
   "cell_type": "markdown",
   "metadata": {},
   "source": [
    "## Useful SQL Keywords\n",
    "\n",
    "The Keyword `SELECT DISTINCT` is used to return only distinct values. For example:"
   ]
  },
  {
   "cell_type": "code",
   "execution_count": 4,
   "metadata": {
    "scrolled": true
   },
   "outputs": [
    {
     "name": "stdout",
     "output_type": "stream",
     "text": [
      " * postgresql://postgres:***@db\n",
      "11 rows affected.\n"
     ]
    },
    {
     "data": {
      "text/html": [
       "<table>\n",
       "    <tr>\n",
       "        <th>residence</th>\n",
       "    </tr>\n",
       "    <tr>\n",
       "        <td>NY</td>\n",
       "    </tr>\n",
       "    <tr>\n",
       "        <td>WA</td>\n",
       "    </tr>\n",
       "    <tr>\n",
       "        <td>CO</td>\n",
       "    </tr>\n",
       "    <tr>\n",
       "        <td>AZ</td>\n",
       "    </tr>\n",
       "    <tr>\n",
       "        <td>HI</td>\n",
       "    </tr>\n",
       "    <tr>\n",
       "        <td>FL</td>\n",
       "    </tr>\n",
       "    <tr>\n",
       "        <td>UT</td>\n",
       "    </tr>\n",
       "    <tr>\n",
       "        <td>CA</td>\n",
       "    </tr>\n",
       "    <tr>\n",
       "        <td>TX</td>\n",
       "    </tr>\n",
       "    <tr>\n",
       "        <td>GA</td>\n",
       "    </tr>\n",
       "    <tr>\n",
       "        <td>IL</td>\n",
       "    </tr>\n",
       "</table>"
      ],
      "text/plain": [
       "[('NY',),\n",
       " ('WA',),\n",
       " ('CO',),\n",
       " ('AZ',),\n",
       " ('HI',),\n",
       " ('FL',),\n",
       " ('UT',),\n",
       " ('CA',),\n",
       " ('TX',),\n",
       " ('GA',),\n",
       " ('IL',)]"
      ]
     },
     "execution_count": 4,
     "metadata": {},
     "output_type": "execute_result"
    }
   ],
   "source": [
    "%%sql\n",
    "SELECT DISTINCT residence FROM airlines;"
   ]
  },
  {
   "cell_type": "markdown",
   "metadata": {},
   "source": [
    "## Complex query example\n",
    "\n",
    "More complex PostgreSQL queries would look like:"
   ]
  },
  {
   "cell_type": "code",
   "execution_count": 5,
   "metadata": {},
   "outputs": [
    {
     "name": "stdout",
     "output_type": "stream",
     "text": [
      " * postgresql://postgres:***@db\n",
      "10 rows affected.\n"
     ]
    },
    {
     "data": {
      "text/html": [
       "<table>\n",
       "    <tr>\n",
       "        <th>residence</th>\n",
       "        <th>count</th>\n",
       "    </tr>\n",
       "    <tr>\n",
       "        <td>AZ</td>\n",
       "        <td>4</td>\n",
       "    </tr>\n",
       "    <tr>\n",
       "        <td>CO</td>\n",
       "        <td>10</td>\n",
       "    </tr>\n",
       "    <tr>\n",
       "        <td>FL</td>\n",
       "        <td>17</td>\n",
       "    </tr>\n",
       "    <tr>\n",
       "        <td>GA</td>\n",
       "        <td>14</td>\n",
       "    </tr>\n",
       "    <tr>\n",
       "        <td>HI</td>\n",
       "        <td>5</td>\n",
       "    </tr>\n",
       "    <tr>\n",
       "        <td>IL</td>\n",
       "        <td>7</td>\n",
       "    </tr>\n",
       "    <tr>\n",
       "        <td>NY</td>\n",
       "        <td>14</td>\n",
       "    </tr>\n",
       "    <tr>\n",
       "        <td>TX</td>\n",
       "        <td>72</td>\n",
       "    </tr>\n",
       "    <tr>\n",
       "        <td>UT</td>\n",
       "        <td>5</td>\n",
       "    </tr>\n",
       "    <tr>\n",
       "        <td>WA</td>\n",
       "        <td>4</td>\n",
       "    </tr>\n",
       "</table>"
      ],
      "text/plain": [
       "[('AZ', 4),\n",
       " ('CO', 10),\n",
       " ('FL', 17),\n",
       " ('GA', 14),\n",
       " ('HI', 5),\n",
       " ('IL', 7),\n",
       " ('NY', 14),\n",
       " ('TX', 72),\n",
       " ('UT', 5),\n",
       " ('WA', 4)]"
      ]
     },
     "execution_count": 5,
     "metadata": {},
     "output_type": "execute_result"
    }
   ],
   "source": [
    "%%sql\n",
    "SELECT airlines.residence, COUNT(airlines.code)\n",
    "    FROM airlines INNER JOIN airports ON airlines.residence = airports.residence\n",
    "    WHERE airlines.residence <> 'CA'\n",
    "GROUP BY airlines.residence\n",
    "ORDER BY airlines.residence;"
   ]
  },
  {
   "cell_type": "markdown",
   "metadata": {},
   "source": [
    "## Exam database − data about flight delays in the US\n",
    "\n",
    "The dataset consists of relations containing information such as airports, airlines, flights and flight irregularities. Tables include both real-world and synthetic data. \n",
    "\n",
    "Here is some basic information on the database tables.\n",
    "\n",
    "### 1) `airlines` table\n",
    "\n",
    "Contains the list of airlines serving flights in our database.\n",
    "\n",
    "* `code` is the two-letter IATA code identifier of the airline\n",
    "\n",
    "* `name` is the airline name\n",
    "\n",
    "* `residence` is the two-letter code of the state of residence"
   ]
  },
  {
   "cell_type": "code",
   "execution_count": 6,
   "metadata": {},
   "outputs": [
    {
     "name": "stdout",
     "output_type": "stream",
     "text": [
      " * postgresql://postgres:***@db\n",
      "14 rows affected.\n"
     ]
    },
    {
     "data": {
      "text/html": [
       "<table>\n",
       "    <tr>\n",
       "        <th>code</th>\n",
       "        <th>name</th>\n",
       "        <th>residence</th>\n",
       "    </tr>\n",
       "    <tr>\n",
       "        <td>UA</td>\n",
       "        <td>United Air Lines Inc.</td>\n",
       "        <td>IL</td>\n",
       "    </tr>\n",
       "    <tr>\n",
       "        <td>AA</td>\n",
       "        <td>American Airlines Inc.</td>\n",
       "        <td>TX</td>\n",
       "    </tr>\n",
       "    <tr>\n",
       "        <td>US</td>\n",
       "        <td>US Airways Inc.</td>\n",
       "        <td>AZ</td>\n",
       "    </tr>\n",
       "    <tr>\n",
       "        <td>F9</td>\n",
       "        <td>Frontier Airlines Inc.</td>\n",
       "        <td>CO</td>\n",
       "    </tr>\n",
       "    <tr>\n",
       "        <td>B6</td>\n",
       "        <td>JetBlue Airways</td>\n",
       "        <td>NY</td>\n",
       "    </tr>\n",
       "    <tr>\n",
       "        <td>OO</td>\n",
       "        <td>Skywest Airlines Inc.</td>\n",
       "        <td>UT</td>\n",
       "    </tr>\n",
       "    <tr>\n",
       "        <td>AS</td>\n",
       "        <td>Alaska Airlines Inc.</td>\n",
       "        <td>WA</td>\n",
       "    </tr>\n",
       "    <tr>\n",
       "        <td>NK</td>\n",
       "        <td>Spirit Air Lines</td>\n",
       "        <td>FL</td>\n",
       "    </tr>\n",
       "    <tr>\n",
       "        <td>WN</td>\n",
       "        <td>Southwest Airlines Co.</td>\n",
       "        <td>TX</td>\n",
       "    </tr>\n",
       "    <tr>\n",
       "        <td>DL</td>\n",
       "        <td>Delta Air Lines Inc.</td>\n",
       "        <td>GA</td>\n",
       "    </tr>\n",
       "    <tr>\n",
       "        <td>EV</td>\n",
       "        <td>Atlantic Southeast Airlines</td>\n",
       "        <td>GA</td>\n",
       "    </tr>\n",
       "    <tr>\n",
       "        <td>HA</td>\n",
       "        <td>Hawaiian Airlines Inc.</td>\n",
       "        <td>HI</td>\n",
       "    </tr>\n",
       "    <tr>\n",
       "        <td>MQ</td>\n",
       "        <td>American Eagle Airlines Inc.</td>\n",
       "        <td>TX</td>\n",
       "    </tr>\n",
       "    <tr>\n",
       "        <td>VX</td>\n",
       "        <td>Virgin America</td>\n",
       "        <td>CA</td>\n",
       "    </tr>\n",
       "</table>"
      ],
      "text/plain": [
       "[('UA', 'United Air Lines Inc.', 'IL'),\n",
       " ('AA', 'American Airlines Inc.', 'TX'),\n",
       " ('US', 'US Airways Inc.', 'AZ'),\n",
       " ('F9', 'Frontier Airlines Inc.', 'CO'),\n",
       " ('B6', 'JetBlue Airways', 'NY'),\n",
       " ('OO', 'Skywest Airlines Inc.', 'UT'),\n",
       " ('AS', 'Alaska Airlines Inc.', 'WA'),\n",
       " ('NK', 'Spirit Air Lines', 'FL'),\n",
       " ('WN', 'Southwest Airlines Co.', 'TX'),\n",
       " ('DL', 'Delta Air Lines Inc.', 'GA'),\n",
       " ('EV', 'Atlantic Southeast Airlines', 'GA'),\n",
       " ('HA', 'Hawaiian Airlines Inc.', 'HI'),\n",
       " ('MQ', 'American Eagle Airlines Inc.', 'TX'),\n",
       " ('VX', 'Virgin America', 'CA')]"
      ]
     },
     "execution_count": 6,
     "metadata": {},
     "output_type": "execute_result"
    }
   ],
   "source": [
    "%%sql\n",
    "SELECT * FROM airlines;"
   ]
  },
  {
   "cell_type": "markdown",
   "metadata": {},
   "source": [
    "### 2) `airports` table\n",
    "\n",
    "Contains the list of available airports.\n",
    "\n",
    "* `code` is the two-letter IATA code identifier of the airport\n",
    "\n",
    "* `name` is the airport name\n",
    "\n",
    "* `city` is the name of the city where the airport is located\n",
    "\n",
    "* `residence` is the two-letter code of the state in which airport is located\n",
    "\n",
    "* `latitude` and `longitude` are floating-point numbers describing the geographical location of the airport"
   ]
  },
  {
   "cell_type": "code",
   "execution_count": 7,
   "metadata": {},
   "outputs": [
    {
     "name": "stdout",
     "output_type": "stream",
     "text": [
      " * postgresql://postgres:***@db\n",
      "4 rows affected.\n"
     ]
    },
    {
     "data": {
      "text/html": [
       "<table>\n",
       "    <tr>\n",
       "        <th>code</th>\n",
       "        <th>name</th>\n",
       "        <th>city</th>\n",
       "        <th>residence</th>\n",
       "        <th>latitude</th>\n",
       "        <th>longtide</th>\n",
       "    </tr>\n",
       "    <tr>\n",
       "        <td>ABE</td>\n",
       "        <td>Lehigh Valley International Airport</td>\n",
       "        <td>Allentown</td>\n",
       "        <td>PA</td>\n",
       "        <td>40.652359999999994</td>\n",
       "        <td>-75.4404</td>\n",
       "    </tr>\n",
       "    <tr>\n",
       "        <td>ABI</td>\n",
       "        <td>Abilene Regional Airport</td>\n",
       "        <td>Abilene</td>\n",
       "        <td>TX</td>\n",
       "        <td>32.41132</td>\n",
       "        <td>-99.6819</td>\n",
       "    </tr>\n",
       "    <tr>\n",
       "        <td>ABQ</td>\n",
       "        <td>Albuquerque International Sunport</td>\n",
       "        <td>Albuquerque</td>\n",
       "        <td>NM</td>\n",
       "        <td>35.04022</td>\n",
       "        <td>-106.60918999999998</td>\n",
       "    </tr>\n",
       "    <tr>\n",
       "        <td>ABR</td>\n",
       "        <td>Aberdeen Regional Airport</td>\n",
       "        <td>Aberdeen</td>\n",
       "        <td>SD</td>\n",
       "        <td>45.449059999999996</td>\n",
       "        <td>-98.42183</td>\n",
       "    </tr>\n",
       "</table>"
      ],
      "text/plain": [
       "[('ABE', 'Lehigh Valley International Airport', 'Allentown', 'PA', 40.652359999999994, -75.4404),\n",
       " ('ABI', 'Abilene Regional Airport', 'Abilene', 'TX', 32.41132, -99.6819),\n",
       " ('ABQ', 'Albuquerque International Sunport', 'Albuquerque', 'NM', 35.04022, -106.60918999999998),\n",
       " ('ABR', 'Aberdeen Regional Airport', 'Aberdeen', 'SD', 45.449059999999996, -98.42183)]"
      ]
     },
     "execution_count": 7,
     "metadata": {},
     "output_type": "execute_result"
    }
   ],
   "source": [
    "%%sql\n",
    "SELECT * FROM airports LIMIT 4;"
   ]
  },
  {
   "cell_type": "markdown",
   "metadata": {},
   "source": [
    "### 3) `flights` table\n",
    "\n",
    "Contains the list of flights conducted. This table contains many rows - careful when printing the data!\n",
    "\n",
    "* `id` is the unique flight ID\n",
    "\n",
    "* `flight_number` is the IATA flight code\n",
    "\n",
    "* `airline` is the IATA code of the airline\n",
    "\n",
    "* `departure` and `arrival` are the IATA codes of the departure and arrival airports\n",
    "\n",
    "* `year`, `month`, and `day` are the integer values encoding the number of day, month and the year when the flight departed\n",
    "\n",
    "* `load_factor` is a floating-point number in the range `[0-1]` that describes the load factor on the flight, i.e., the fraction of occupied passenger seats"
   ]
  },
  {
   "cell_type": "code",
   "execution_count": 8,
   "metadata": {},
   "outputs": [
    {
     "name": "stdout",
     "output_type": "stream",
     "text": [
      " * postgresql://postgres:***@db\n",
      "4 rows affected.\n"
     ]
    },
    {
     "data": {
      "text/html": [
       "<table>\n",
       "    <tr>\n",
       "        <th>id</th>\n",
       "        <th>flight_number</th>\n",
       "        <th>airline</th>\n",
       "        <th>departure</th>\n",
       "        <th>arrival</th>\n",
       "        <th>year</th>\n",
       "        <th>month</th>\n",
       "        <th>day</th>\n",
       "        <th>load_factor</th>\n",
       "    </tr>\n",
       "    <tr>\n",
       "        <td>0</td>\n",
       "        <td>98</td>\n",
       "        <td>AS</td>\n",
       "        <td>ANC</td>\n",
       "        <td>SEA</td>\n",
       "        <td>2015</td>\n",
       "        <td>1</td>\n",
       "        <td>1</td>\n",
       "        <td>0.465</td>\n",
       "    </tr>\n",
       "    <tr>\n",
       "        <td>1</td>\n",
       "        <td>2336</td>\n",
       "        <td>AA</td>\n",
       "        <td>LAX</td>\n",
       "        <td>PBI</td>\n",
       "        <td>2015</td>\n",
       "        <td>1</td>\n",
       "        <td>1</td>\n",
       "        <td>0.507</td>\n",
       "    </tr>\n",
       "    <tr>\n",
       "        <td>2</td>\n",
       "        <td>840</td>\n",
       "        <td>US</td>\n",
       "        <td>SFO</td>\n",
       "        <td>CLT</td>\n",
       "        <td>2015</td>\n",
       "        <td>1</td>\n",
       "        <td>1</td>\n",
       "        <td>0.774</td>\n",
       "    </tr>\n",
       "    <tr>\n",
       "        <td>3</td>\n",
       "        <td>258</td>\n",
       "        <td>AA</td>\n",
       "        <td>LAX</td>\n",
       "        <td>MIA</td>\n",
       "        <td>2015</td>\n",
       "        <td>1</td>\n",
       "        <td>1</td>\n",
       "        <td>0.633</td>\n",
       "    </tr>\n",
       "</table>"
      ],
      "text/plain": [
       "[(0, '98', 'AS', 'ANC', 'SEA', 2015, 1, 1, 0.465),\n",
       " (1, '2336', 'AA', 'LAX', 'PBI', 2015, 1, 1, 0.507),\n",
       " (2, '840', 'US', 'SFO', 'CLT', 2015, 1, 1, 0.774),\n",
       " (3, '258', 'AA', 'LAX', 'MIA', 2015, 1, 1, 0.633)]"
      ]
     },
     "execution_count": 8,
     "metadata": {},
     "output_type": "execute_result"
    }
   ],
   "source": [
    "%%sql\n",
    "SELECT * FROM flights LIMIT 4;"
   ]
  },
  {
   "cell_type": "markdown",
   "metadata": {},
   "source": [
    "### 4) `flights_delay` table\n",
    "\n",
    "Contains the information on flights delays and irregularities. This table contains many rows - careful when printing the data!\n",
    "\n",
    "* `id` is the unique flight ID\n",
    "\n",
    "* `arrival_delay` a positive value is the delay on arrival in minutes, a negative value indicates an early arrival in minutes\n",
    "\n",
    "* `cancellation` and `divertion` are boolean flags indicating cancelled and diverted flights"
   ]
  },
  {
   "cell_type": "code",
   "execution_count": 9,
   "metadata": {},
   "outputs": [
    {
     "name": "stdout",
     "output_type": "stream",
     "text": [
      " * postgresql://postgres:***@db\n",
      "4 rows affected.\n"
     ]
    },
    {
     "data": {
      "text/html": [
       "<table>\n",
       "    <tr>\n",
       "        <th>flight_id</th>\n",
       "        <th>arrival_delay</th>\n",
       "        <th>cancellation</th>\n",
       "        <th>divertion</th>\n",
       "    </tr>\n",
       "    <tr>\n",
       "        <td>0</td>\n",
       "        <td>-22</td>\n",
       "        <td>False</td>\n",
       "        <td>False</td>\n",
       "    </tr>\n",
       "    <tr>\n",
       "        <td>1</td>\n",
       "        <td>-9</td>\n",
       "        <td>False</td>\n",
       "        <td>False</td>\n",
       "    </tr>\n",
       "    <tr>\n",
       "        <td>2</td>\n",
       "        <td>5</td>\n",
       "        <td>False</td>\n",
       "        <td>False</td>\n",
       "    </tr>\n",
       "    <tr>\n",
       "        <td>3</td>\n",
       "        <td>-9</td>\n",
       "        <td>False</td>\n",
       "        <td>False</td>\n",
       "    </tr>\n",
       "</table>"
      ],
      "text/plain": [
       "[(0, -22, False, False),\n",
       " (1, -9, False, False),\n",
       " (2, 5, False, False),\n",
       " (3, -9, False, False)]"
      ]
     },
     "execution_count": 9,
     "metadata": {},
     "output_type": "execute_result"
    }
   ],
   "source": [
    "%%sql\n",
    "SELECT * FROM flights_delay LIMIT 4;"
   ]
  },
  {
   "cell_type": "markdown",
   "metadata": {},
   "source": [
    "##### Note: the examples provided above do not contain all the query operations you might need during the exam.\n",
    "\n",
    "Now its your turn, you can write all your queries in new cells below. Feel free to add as many cells as needed."
   ]
  },
  {
   "cell_type": "markdown",
   "metadata": {},
   "source": [
    "---"
   ]
  },
  {
   "cell_type": "markdown",
   "metadata": {},
   "source": [
    "# Round 1"
   ]
  },
  {
   "cell_type": "code",
   "execution_count": 10,
   "metadata": {},
   "outputs": [
    {
     "name": "stdout",
     "output_type": "stream",
     "text": [
      " * postgresql://postgres:***@db\n",
      "1 rows affected.\n"
     ]
    },
    {
     "data": {
      "text/html": [
       "<table>\n",
       "    <tr>\n",
       "        <th>count</th>\n",
       "    </tr>\n",
       "    <tr>\n",
       "        <td>322</td>\n",
       "    </tr>\n",
       "</table>"
      ],
      "text/plain": [
       "[(322,)]"
      ]
     },
     "execution_count": 10,
     "metadata": {},
     "output_type": "execute_result"
    }
   ],
   "source": [
    "%%sql\n",
    "SELECT COUNT(DISTINCT name)\n",
    "FROM airports;"
   ]
  },
  {
   "cell_type": "code",
   "execution_count": 11,
   "metadata": {},
   "outputs": [
    {
     "name": "stdout",
     "output_type": "stream",
     "text": [
      " * postgresql://postgres:***@db\n",
      "1 rows affected.\n"
     ]
    },
    {
     "data": {
      "text/html": [
       "<table>\n",
       "    <tr>\n",
       "        <th>count</th>\n",
       "    </tr>\n",
       "    <tr>\n",
       "        <td>1827</td>\n",
       "    </tr>\n",
       "</table>"
      ],
      "text/plain": [
       "[(1827,)]"
      ]
     },
     "execution_count": 11,
     "metadata": {},
     "output_type": "execute_result"
    }
   ],
   "source": [
    "%%sql \n",
    "SELECT COUNT(*)\n",
    "FROM flights\n",
    "WHERE departure = 'JFK';"
   ]
  },
  {
   "cell_type": "code",
   "execution_count": 12,
   "metadata": {},
   "outputs": [
    {
     "name": "stdout",
     "output_type": "stream",
     "text": [
      " * postgresql://postgres:***@db\n",
      "1 rows affected.\n"
     ]
    },
    {
     "data": {
      "text/html": [
       "<table>\n",
       "    <tr>\n",
       "        <th>airline</th>\n",
       "        <th>count</th>\n",
       "    </tr>\n",
       "    <tr>\n",
       "        <td>VX</td>\n",
       "        <td>160</td>\n",
       "    </tr>\n",
       "</table>"
      ],
      "text/plain": [
       "[('VX', 160)]"
      ]
     },
     "execution_count": 12,
     "metadata": {},
     "output_type": "execute_result"
    }
   ],
   "source": [
    "%%sql\n",
    "SELECT airline, COUNT(*) AS count\n",
    "FROM flights\n",
    "WHERE year=2015 AND month=1 AND day=3\n",
    "GROUP BY airline\n",
    "ORDER BY COUNT(*) ASC\n",
    "LIMIT 1;"
   ]
  },
  {
   "cell_type": "code",
   "execution_count": 13,
   "metadata": {},
   "outputs": [
    {
     "name": "stdout",
     "output_type": "stream",
     "text": [
      " * postgresql://postgres:***@db\n",
      "1 rows affected.\n"
     ]
    },
    {
     "data": {
      "text/html": [
       "<table>\n",
       "    <tr>\n",
       "        <th>count</th>\n",
       "    </tr>\n",
       "    <tr>\n",
       "        <td>159</td>\n",
       "    </tr>\n",
       "</table>"
      ],
      "text/plain": [
       "[(159,)]"
      ]
     },
     "execution_count": 13,
     "metadata": {},
     "output_type": "execute_result"
    }
   ],
   "source": [
    "%%sql\n",
    "SELECT COUNT(DISTINCT departure)\n",
    "FROM flights f\n",
    "JOIN airports a\n",
    "ON f.arrival = a.code\n",
    "WHERE residence = 'IL';"
   ]
  },
  {
   "cell_type": "code",
   "execution_count": 14,
   "metadata": {},
   "outputs": [
    {
     "name": "stdout",
     "output_type": "stream",
     "text": [
      " * postgresql://postgres:***@db\n",
      "1 rows affected.\n"
     ]
    },
    {
     "data": {
      "text/html": [
       "<table>\n",
       "    <tr>\n",
       "        <th>count</th>\n",
       "    </tr>\n",
       "    <tr>\n",
       "        <td>11761</td>\n",
       "    </tr>\n",
       "</table>"
      ],
      "text/plain": [
       "[(11761,)]"
      ]
     },
     "execution_count": 14,
     "metadata": {},
     "output_type": "execute_result"
    }
   ],
   "source": [
    "%%sql \n",
    "SELECT COUNT(*)\n",
    "FROM airports a2\n",
    "JOIN\n",
    "    (SELECT *\n",
    "    FROM flights f\n",
    "    JOIN airports a\n",
    "    ON f.arrival = a.code) as r\n",
    "ON r.departure = a2.code\n",
    "WHERE a2.residence = r.residence\n",
    "LIMIT 10;"
   ]
  },
  {
   "cell_type": "code",
   "execution_count": 15,
   "metadata": {
    "scrolled": true
   },
   "outputs": [
    {
     "name": "stdout",
     "output_type": "stream",
     "text": [
      " * postgresql://postgres:***@db\n",
      "1 rows affected.\n"
     ]
    },
    {
     "data": {
      "text/html": [
       "<table>\n",
       "    <tr>\n",
       "        <th>count</th>\n",
       "    </tr>\n",
       "    <tr>\n",
       "        <td>1</td>\n",
       "    </tr>\n",
       "</table>"
      ],
      "text/plain": [
       "[(1,)]"
      ]
     },
     "execution_count": 15,
     "metadata": {},
     "output_type": "execute_result"
    }
   ],
   "source": [
    "%%sql \n",
    "\n",
    "-- Direct Flights\n",
    "\n",
    "SELECT COUNT(distinct a2.name)\n",
    "FROM flights f\n",
    "JOIN airports a\n",
    "ON f.departure = a.code\n",
    "JOIN airports a2\n",
    "ON f.arrival = a2.code\n",
    "WHERE f.departure = 'ABR';"
   ]
  },
  {
   "cell_type": "code",
   "execution_count": 16,
   "metadata": {},
   "outputs": [
    {
     "name": "stdout",
     "output_type": "stream",
     "text": [
      " * postgresql://postgres:***@db\n",
      "1 rows affected.\n"
     ]
    },
    {
     "data": {
      "text/html": [
       "<table>\n",
       "    <tr>\n",
       "        <th>count</th>\n",
       "    </tr>\n",
       "    <tr>\n",
       "        <td>103</td>\n",
       "    </tr>\n",
       "</table>"
      ],
      "text/plain": [
       "[(103,)]"
      ]
     },
     "execution_count": 16,
     "metadata": {},
     "output_type": "execute_result"
    }
   ],
   "source": [
    "%%sql\n",
    "\n",
    "-- Connecting Flights\n",
    "\n",
    "SELECT COUNT(DISTINCT f2.arrival)\n",
    "FROM flights f\n",
    "JOIN airports a\n",
    "ON f.departure = a.code\n",
    "JOIN airports a2\n",
    "ON f.arrival = a2.code\n",
    "JOIN flights f2\n",
    "ON f.arrival = f2.departure AND f2.arrival != 'ABR' AND f.year = f2.year AND f.month = f2.month AND f.day = f2.day\n",
    "WHERE f.departure = 'ABR'\n",
    "LIMIT 10;"
   ]
  },
  {
   "cell_type": "code",
   "execution_count": 17,
   "metadata": {},
   "outputs": [
    {
     "name": "stdout",
     "output_type": "stream",
     "text": [
      " * postgresql://postgres:***@db\n",
      "1 rows affected.\n"
     ]
    },
    {
     "data": {
      "text/html": [
       "<table>\n",
       "    <tr>\n",
       "        <th>avg_delay</th>\n",
       "    </tr>\n",
       "    <tr>\n",
       "        <td>12.71</td>\n",
       "    </tr>\n",
       "</table>"
      ],
      "text/plain": [
       "[(Decimal('12.71'),)]"
      ]
     },
     "execution_count": 17,
     "metadata": {},
     "output_type": "execute_result"
    }
   ],
   "source": [
    "%%sql\n",
    "SELECT ROUND(AVG(arrival_delay), 2) AS avg_delay\n",
    "FROM flights f\n",
    "JOIN flights_delay d\n",
    "ON f.id = d.flight_id\n",
    "JOIN airlines al\n",
    "ON f.airline = al.code\n",
    "WHERE al.residence = 'GA' AND f.load_factor >= 0.5;"
   ]
  },
  {
   "cell_type": "markdown",
   "metadata": {},
   "source": [
    "---"
   ]
  },
  {
   "cell_type": "markdown",
   "metadata": {},
   "source": [
    "# Round 2"
   ]
  },
  {
   "cell_type": "code",
   "execution_count": 18,
   "metadata": {},
   "outputs": [
    {
     "name": "stdout",
     "output_type": "stream",
     "text": [
      " * postgresql://postgres:***@db\n",
      "1 rows affected.\n"
     ]
    },
    {
     "data": {
      "text/html": [
       "<table>\n",
       "    <tr>\n",
       "        <th>count</th>\n",
       "    </tr>\n",
       "    <tr>\n",
       "        <td>322</td>\n",
       "    </tr>\n",
       "</table>"
      ],
      "text/plain": [
       "[(322,)]"
      ]
     },
     "execution_count": 18,
     "metadata": {},
     "output_type": "execute_result"
    }
   ],
   "source": [
    "%%sql\n",
    "SELECT COUNT(DISTINCT code)\n",
    "FROM airports\n",
    "LIMIT 10;"
   ]
  },
  {
   "cell_type": "code",
   "execution_count": 19,
   "metadata": {},
   "outputs": [
    {
     "name": "stdout",
     "output_type": "stream",
     "text": [
      " * postgresql://postgres:***@db\n",
      "1 rows affected.\n"
     ]
    },
    {
     "data": {
      "text/html": [
       "<table>\n",
       "    <tr>\n",
       "        <th>count</th>\n",
       "    </tr>\n",
       "    <tr>\n",
       "        <td>1827</td>\n",
       "    </tr>\n",
       "</table>"
      ],
      "text/plain": [
       "[(1827,)]"
      ]
     },
     "execution_count": 19,
     "metadata": {},
     "output_type": "execute_result"
    }
   ],
   "source": [
    "%%sql\n",
    "SELECT COUNT(*)\n",
    "FROM flights\n",
    "WHERE departure = 'JFK'\n",
    "LIMIT 10;"
   ]
  },
  {
   "cell_type": "code",
   "execution_count": 20,
   "metadata": {},
   "outputs": [
    {
     "name": "stdout",
     "output_type": "stream",
     "text": [
      " * postgresql://postgres:***@db\n",
      "1 rows affected.\n"
     ]
    },
    {
     "data": {
      "text/html": [
       "<table>\n",
       "    <tr>\n",
       "        <th>airline</th>\n",
       "        <th>name</th>\n",
       "        <th>count</th>\n",
       "    </tr>\n",
       "    <tr>\n",
       "        <td>VX</td>\n",
       "        <td>Virgin America</td>\n",
       "        <td>160</td>\n",
       "    </tr>\n",
       "</table>"
      ],
      "text/plain": [
       "[('VX', 'Virgin America', 160)]"
      ]
     },
     "execution_count": 20,
     "metadata": {},
     "output_type": "execute_result"
    }
   ],
   "source": [
    "%%sql\n",
    "SELECT airline, a.name, COUNT(id)\n",
    "FROM flights f\n",
    "JOIN airlines a\n",
    "ON f.airline = a.code\n",
    "WHERE year = 2015 AND month = 1 AND day = 3\n",
    "GROUP BY airline, a.name\n",
    "ORDER BY COUNT(id) ASC\n",
    "LIMIT 1;"
   ]
  },
  {
   "cell_type": "code",
   "execution_count": 21,
   "metadata": {},
   "outputs": [
    {
     "name": "stdout",
     "output_type": "stream",
     "text": [
      " * postgresql://postgres:***@db\n",
      "1 rows affected.\n"
     ]
    },
    {
     "data": {
      "text/html": [
       "<table>\n",
       "    <tr>\n",
       "        <th>count</th>\n",
       "    </tr>\n",
       "    <tr>\n",
       "        <td>159</td>\n",
       "    </tr>\n",
       "</table>"
      ],
      "text/plain": [
       "[(159,)]"
      ]
     },
     "execution_count": 21,
     "metadata": {},
     "output_type": "execute_result"
    }
   ],
   "source": [
    "%%sql\n",
    "SELECT COUNT(DISTINCT departure)\n",
    "FROM flights f\n",
    "JOIN airports a\n",
    "ON f.arrival = a.code\n",
    "WHERE residence = 'IL'\n",
    "LIMIT 10;"
   ]
  },
  {
   "cell_type": "code",
   "execution_count": 22,
   "metadata": {},
   "outputs": [
    {
     "name": "stdout",
     "output_type": "stream",
     "text": [
      " * postgresql://postgres:***@db\n",
      "1 rows affected.\n"
     ]
    },
    {
     "data": {
      "text/html": [
       "<table>\n",
       "    <tr>\n",
       "        <th>count</th>\n",
       "    </tr>\n",
       "    <tr>\n",
       "        <td>11761</td>\n",
       "    </tr>\n",
       "</table>"
      ],
      "text/plain": [
       "[(11761,)]"
      ]
     },
     "execution_count": 22,
     "metadata": {},
     "output_type": "execute_result"
    }
   ],
   "source": [
    "%%sql\n",
    "SELECT COUNT(*)\n",
    "FROM flights f\n",
    "JOIN airports a1\n",
    "ON f.arrival = a1.code\n",
    "JOIN airports a2\n",
    "ON f.departure = a2.code\n",
    "WHERE a1.residence = a2.residence\n",
    "LIMIT 10;"
   ]
  },
  {
   "cell_type": "code",
   "execution_count": 23,
   "metadata": {},
   "outputs": [
    {
     "name": "stdout",
     "output_type": "stream",
     "text": [
      " * postgresql://postgres:***@db\n",
      "1 rows affected.\n"
     ]
    },
    {
     "data": {
      "text/html": [
       "<table>\n",
       "    <tr>\n",
       "        <th>count</th>\n",
       "    </tr>\n",
       "    <tr>\n",
       "        <td>1</td>\n",
       "    </tr>\n",
       "</table>"
      ],
      "text/plain": [
       "[(1,)]"
      ]
     },
     "execution_count": 23,
     "metadata": {},
     "output_type": "execute_result"
    }
   ],
   "source": [
    "%%sql\n",
    "\n",
    "-- Direct Flights\n",
    "\n",
    "SELECT COUNT(DISTINCT arrival)\n",
    "FROM flights\n",
    "WHERE departure = 'ABR'\n",
    "LIMIT 10;"
   ]
  },
  {
   "cell_type": "code",
   "execution_count": 24,
   "metadata": {},
   "outputs": [
    {
     "name": "stdout",
     "output_type": "stream",
     "text": [
      " * postgresql://postgres:***@db\n",
      "1 rows affected.\n"
     ]
    },
    {
     "data": {
      "text/html": [
       "<table>\n",
       "    <tr>\n",
       "        <th>count</th>\n",
       "    </tr>\n",
       "    <tr>\n",
       "        <td>103</td>\n",
       "    </tr>\n",
       "</table>"
      ],
      "text/plain": [
       "[(103,)]"
      ]
     },
     "execution_count": 24,
     "metadata": {},
     "output_type": "execute_result"
    }
   ],
   "source": [
    "%%sql\n",
    "\n",
    "-- Connecting Flights\n",
    "SELECT COUNT(DISTINCT f2.arrival)\n",
    "FROM flights f2\n",
    "JOIN\n",
    "    (SELECT *\n",
    "    FROM flights f1\n",
    "    WHERE f1.departure = 'ABR'\n",
    "    LIMIT 10) AS r\n",
    "ON r.arrival = f2.departure\n",
    "WHERE r.year = f2.year AND r.month = f2.month AND r.day = f2.day;"
   ]
  },
  {
   "cell_type": "code",
   "execution_count": 25,
   "metadata": {},
   "outputs": [
    {
     "name": "stdout",
     "output_type": "stream",
     "text": [
      " * postgresql://postgres:***@db\n",
      "1 rows affected.\n"
     ]
    },
    {
     "data": {
      "text/html": [
       "<table>\n",
       "    <tr>\n",
       "        <th>avg_delay</th>\n",
       "    </tr>\n",
       "    <tr>\n",
       "        <td>12.71</td>\n",
       "    </tr>\n",
       "</table>"
      ],
      "text/plain": [
       "[(Decimal('12.71'),)]"
      ]
     },
     "execution_count": 25,
     "metadata": {},
     "output_type": "execute_result"
    }
   ],
   "source": [
    "%%sql\n",
    "SELECT ROUND(AVG(arrival_delay),2) AS avg_delay\n",
    "FROM flights f\n",
    "JOIN flights_delay d\n",
    "ON f.id = d.flight_id\n",
    "JOIN airlines a\n",
    "ON f.airline = a.code\n",
    "WHERE a.residence = 'GA' AND f.load_factor >= 0.5\n",
    "LIMIT 10;"
   ]
  },
  {
   "cell_type": "markdown",
   "metadata": {},
   "source": [
    "---"
   ]
  },
  {
   "cell_type": "markdown",
   "metadata": {},
   "source": [
    "# Round 3"
   ]
  },
  {
   "cell_type": "code",
   "execution_count": 26,
   "metadata": {},
   "outputs": [
    {
     "name": "stdout",
     "output_type": "stream",
     "text": [
      " * postgresql://postgres:***@db\n",
      "1 rows affected.\n"
     ]
    },
    {
     "data": {
      "text/html": [
       "<table>\n",
       "    <tr>\n",
       "        <th>count</th>\n",
       "    </tr>\n",
       "    <tr>\n",
       "        <td>322</td>\n",
       "    </tr>\n",
       "</table>"
      ],
      "text/plain": [
       "[(322,)]"
      ]
     },
     "execution_count": 26,
     "metadata": {},
     "output_type": "execute_result"
    }
   ],
   "source": [
    "%%sql\n",
    "SELECT COUNT(DISTINCT code)\n",
    "FROM airports\n",
    "LIMIT 10;"
   ]
  },
  {
   "cell_type": "code",
   "execution_count": 27,
   "metadata": {},
   "outputs": [
    {
     "name": "stdout",
     "output_type": "stream",
     "text": [
      " * postgresql://postgres:***@db\n",
      "1 rows affected.\n"
     ]
    },
    {
     "data": {
      "text/html": [
       "<table>\n",
       "    <tr>\n",
       "        <th>count</th>\n",
       "    </tr>\n",
       "    <tr>\n",
       "        <td>1827</td>\n",
       "    </tr>\n",
       "</table>"
      ],
      "text/plain": [
       "[(1827,)]"
      ]
     },
     "execution_count": 27,
     "metadata": {},
     "output_type": "execute_result"
    }
   ],
   "source": [
    "%%sql\n",
    "SELECT COUNT(*)\n",
    "FROM flights\n",
    "WHERE departure='JFK'\n",
    "LIMIT 10;"
   ]
  },
  {
   "cell_type": "code",
   "execution_count": 28,
   "metadata": {},
   "outputs": [
    {
     "name": "stdout",
     "output_type": "stream",
     "text": [
      " * postgresql://postgres:***@db\n",
      "1 rows affected.\n"
     ]
    },
    {
     "data": {
      "text/html": [
       "<table>\n",
       "    <tr>\n",
       "        <th>airline</th>\n",
       "        <th>name</th>\n",
       "        <th>num_flights</th>\n",
       "    </tr>\n",
       "    <tr>\n",
       "        <td>VX</td>\n",
       "        <td>Virgin America</td>\n",
       "        <td>160</td>\n",
       "    </tr>\n",
       "</table>"
      ],
      "text/plain": [
       "[('VX', 'Virgin America', 160)]"
      ]
     },
     "execution_count": 28,
     "metadata": {},
     "output_type": "execute_result"
    }
   ],
   "source": [
    "%%sql\n",
    "SELECT f.airline, a.name, COUNT(DISTINCT id) AS num_flights\n",
    "FROM flights f\n",
    "JOIN airlines a\n",
    "ON f.airline = a.code\n",
    "WHERE year = 2015 AND month = 1 AND day = 3\n",
    "GROUP BY f.airline, a.name\n",
    "ORDER BY num_flights ASC\n",
    "LIMIT 1;"
   ]
  },
  {
   "cell_type": "code",
   "execution_count": 29,
   "metadata": {},
   "outputs": [
    {
     "name": "stdout",
     "output_type": "stream",
     "text": [
      " * postgresql://postgres:***@db\n",
      "1 rows affected.\n"
     ]
    },
    {
     "data": {
      "text/html": [
       "<table>\n",
       "    <tr>\n",
       "        <th>count</th>\n",
       "    </tr>\n",
       "    <tr>\n",
       "        <td>159</td>\n",
       "    </tr>\n",
       "</table>"
      ],
      "text/plain": [
       "[(159,)]"
      ]
     },
     "execution_count": 29,
     "metadata": {},
     "output_type": "execute_result"
    }
   ],
   "source": [
    "%%sql\n",
    "SELECT COUNT(DISTINCT departure)\n",
    "FROM flights f\n",
    "JOIN airports a\n",
    "ON f.arrival = a.code\n",
    "WHERE a.residence = 'IL'\n",
    "LIMIT 10;"
   ]
  },
  {
   "cell_type": "code",
   "execution_count": 30,
   "metadata": {},
   "outputs": [
    {
     "name": "stdout",
     "output_type": "stream",
     "text": [
      " * postgresql://postgres:***@db\n",
      "1 rows affected.\n"
     ]
    },
    {
     "data": {
      "text/html": [
       "<table>\n",
       "    <tr>\n",
       "        <th>count</th>\n",
       "    </tr>\n",
       "    <tr>\n",
       "        <td>11761</td>\n",
       "    </tr>\n",
       "</table>"
      ],
      "text/plain": [
       "[(11761,)]"
      ]
     },
     "execution_count": 30,
     "metadata": {},
     "output_type": "execute_result"
    }
   ],
   "source": [
    "%%sql\n",
    "SELECT COUNT(*)\n",
    "FROM flights f\n",
    "JOIN airports a1\n",
    "ON f.departure = a1.code\n",
    "JOIN airports a2\n",
    "ON f.arrival = a2.code\n",
    "WHERE a1.residence = a2.residence\n",
    "LIMIT 10;"
   ]
  },
  {
   "cell_type": "code",
   "execution_count": 31,
   "metadata": {},
   "outputs": [
    {
     "name": "stdout",
     "output_type": "stream",
     "text": [
      " * postgresql://postgres:***@db\n",
      "1 rows affected.\n"
     ]
    },
    {
     "data": {
      "text/html": [
       "<table>\n",
       "    <tr>\n",
       "        <th>count</th>\n",
       "    </tr>\n",
       "    <tr>\n",
       "        <td>1</td>\n",
       "    </tr>\n",
       "</table>"
      ],
      "text/plain": [
       "[(1,)]"
      ]
     },
     "execution_count": 31,
     "metadata": {},
     "output_type": "execute_result"
    }
   ],
   "source": [
    "%%sql\n",
    "\n",
    "-- Direct Flights\n",
    "\n",
    "SELECT COUNT(DISTINCT arrival)\n",
    "FROM flights f\n",
    "WHERE departure = 'ABR'"
   ]
  },
  {
   "cell_type": "code",
   "execution_count": 32,
   "metadata": {},
   "outputs": [
    {
     "name": "stdout",
     "output_type": "stream",
     "text": [
      " * postgresql://postgres:***@db\n",
      "1 rows affected.\n"
     ]
    },
    {
     "data": {
      "text/html": [
       "<table>\n",
       "    <tr>\n",
       "        <th>count</th>\n",
       "    </tr>\n",
       "    <tr>\n",
       "        <td>103</td>\n",
       "    </tr>\n",
       "</table>"
      ],
      "text/plain": [
       "[(103,)]"
      ]
     },
     "execution_count": 32,
     "metadata": {},
     "output_type": "execute_result"
    }
   ],
   "source": [
    "%%sql\n",
    "\n",
    "-- Indirect Flights\n",
    "\n",
    "SELECT COUNT(DISTINCT f2.arrival)\n",
    "FROM flights f1\n",
    "JOIN flights f2\n",
    "ON  f1.arrival = f2.departure AND \n",
    "    f1.year = f2.year AND f1.month = f2.month AND f1.day = f2.day\n",
    "WHERE f1.departure = 'ABR' AND f2.arrival != 'ABR'\n",
    "LIMIT 10;"
   ]
  },
  {
   "cell_type": "code",
   "execution_count": 33,
   "metadata": {},
   "outputs": [
    {
     "name": "stdout",
     "output_type": "stream",
     "text": [
      " * postgresql://postgres:***@db\n",
      "1 rows affected.\n"
     ]
    },
    {
     "data": {
      "text/html": [
       "<table>\n",
       "    <tr>\n",
       "        <th>avg_delay</th>\n",
       "    </tr>\n",
       "    <tr>\n",
       "        <td>12.71</td>\n",
       "    </tr>\n",
       "</table>"
      ],
      "text/plain": [
       "[(Decimal('12.71'),)]"
      ]
     },
     "execution_count": 33,
     "metadata": {},
     "output_type": "execute_result"
    }
   ],
   "source": [
    "%%sql\n",
    "SELECT ROUND(AVG(arrival_delay),2) AS avg_delay\n",
    "FROM flights f\n",
    "JOIN flights_delay d\n",
    "ON f.id = d.flight_id\n",
    "JOIN airlines a\n",
    "ON f.airline = a.code\n",
    "WHERE a.residence = 'GA' AND f.load_factor >= 0.5\n",
    "LIMIT 10;"
   ]
  },
  {
   "cell_type": "markdown",
   "metadata": {},
   "source": [
    "---"
   ]
  },
  {
   "cell_type": "markdown",
   "metadata": {},
   "source": [
    "# Round 4"
   ]
  },
  {
   "cell_type": "code",
   "execution_count": 34,
   "metadata": {},
   "outputs": [
    {
     "name": "stdout",
     "output_type": "stream",
     "text": [
      " * postgresql://postgres:***@db\n",
      "1 rows affected.\n"
     ]
    },
    {
     "data": {
      "text/html": [
       "<table>\n",
       "    <tr>\n",
       "        <th>count</th>\n",
       "    </tr>\n",
       "    <tr>\n",
       "        <td>322</td>\n",
       "    </tr>\n",
       "</table>"
      ],
      "text/plain": [
       "[(322,)]"
      ]
     },
     "execution_count": 34,
     "metadata": {},
     "output_type": "execute_result"
    }
   ],
   "source": [
    "%%sql\n",
    "SELECT COUNT(DISTINCT code)\n",
    "FROM airports\n",
    "LIMIT 10;"
   ]
  },
  {
   "cell_type": "code",
   "execution_count": 35,
   "metadata": {},
   "outputs": [
    {
     "name": "stdout",
     "output_type": "stream",
     "text": [
      " * postgresql://postgres:***@db\n",
      "1 rows affected.\n"
     ]
    },
    {
     "data": {
      "text/html": [
       "<table>\n",
       "    <tr>\n",
       "        <th>count</th>\n",
       "    </tr>\n",
       "    <tr>\n",
       "        <td>1827</td>\n",
       "    </tr>\n",
       "</table>"
      ],
      "text/plain": [
       "[(1827,)]"
      ]
     },
     "execution_count": 35,
     "metadata": {},
     "output_type": "execute_result"
    }
   ],
   "source": [
    "%%sql\n",
    "SELECT COUNT(*)\n",
    "FROM flights\n",
    "WHERE departure = 'JFK'\n",
    "LIMIT 10;"
   ]
  },
  {
   "cell_type": "code",
   "execution_count": 36,
   "metadata": {},
   "outputs": [
    {
     "name": "stdout",
     "output_type": "stream",
     "text": [
      " * postgresql://postgres:***@db\n",
      "1 rows affected.\n"
     ]
    },
    {
     "data": {
      "text/html": [
       "<table>\n",
       "    <tr>\n",
       "        <th>airline</th>\n",
       "        <th>num_f</th>\n",
       "    </tr>\n",
       "    <tr>\n",
       "        <td>VX</td>\n",
       "        <td>160</td>\n",
       "    </tr>\n",
       "</table>"
      ],
      "text/plain": [
       "[('VX', 160)]"
      ]
     },
     "execution_count": 36,
     "metadata": {},
     "output_type": "execute_result"
    }
   ],
   "source": [
    "%%sql\n",
    "SELECT airline, COUNT(flight_number) AS num_f\n",
    "FROM flights f\n",
    "WHERE year = 2015 AND month = 1 AND day = 3\n",
    "GROUP BY airline\n",
    "ORDER BY num_f ASC\n",
    "LIMIT 1;"
   ]
  },
  {
   "cell_type": "code",
   "execution_count": 37,
   "metadata": {},
   "outputs": [
    {
     "name": "stdout",
     "output_type": "stream",
     "text": [
      " * postgresql://postgres:***@db\n",
      "1 rows affected.\n"
     ]
    },
    {
     "data": {
      "text/html": [
       "<table>\n",
       "    <tr>\n",
       "        <th>count</th>\n",
       "    </tr>\n",
       "    <tr>\n",
       "        <td>159</td>\n",
       "    </tr>\n",
       "</table>"
      ],
      "text/plain": [
       "[(159,)]"
      ]
     },
     "execution_count": 37,
     "metadata": {},
     "output_type": "execute_result"
    }
   ],
   "source": [
    "%%sql\n",
    "SELECT COUNT(DISTINCT departure)\n",
    "FROM flights f\n",
    "JOIN airports a\n",
    "ON f.arrival = a.code\n",
    "WHERE residence = 'IL'\n",
    "LIMIT 10;"
   ]
  },
  {
   "cell_type": "code",
   "execution_count": 38,
   "metadata": {},
   "outputs": [
    {
     "name": "stdout",
     "output_type": "stream",
     "text": [
      " * postgresql://postgres:***@db\n",
      "1 rows affected.\n"
     ]
    },
    {
     "data": {
      "text/html": [
       "<table>\n",
       "    <tr>\n",
       "        <th>count</th>\n",
       "    </tr>\n",
       "    <tr>\n",
       "        <td>11761</td>\n",
       "    </tr>\n",
       "</table>"
      ],
      "text/plain": [
       "[(11761,)]"
      ]
     },
     "execution_count": 38,
     "metadata": {},
     "output_type": "execute_result"
    }
   ],
   "source": [
    "%%sql\n",
    "SELECT COUNT(*)\n",
    "FROM flights f\n",
    "JOIN airports a1\n",
    "ON f.departure = a1.code\n",
    "JOIN airports a2\n",
    "ON f.arrival = a2.code\n",
    "WHERE a1.residence = a2.residence\n",
    "LIMIT 10;"
   ]
  },
  {
   "cell_type": "code",
   "execution_count": 39,
   "metadata": {},
   "outputs": [
    {
     "name": "stdout",
     "output_type": "stream",
     "text": [
      " * postgresql://postgres:***@db\n",
      "1 rows affected.\n"
     ]
    },
    {
     "data": {
      "text/html": [
       "<table>\n",
       "    <tr>\n",
       "        <th>count</th>\n",
       "    </tr>\n",
       "    <tr>\n",
       "        <td>1</td>\n",
       "    </tr>\n",
       "</table>"
      ],
      "text/plain": [
       "[(1,)]"
      ]
     },
     "execution_count": 39,
     "metadata": {},
     "output_type": "execute_result"
    }
   ],
   "source": [
    "%%sql\n",
    "\n",
    "--- Direct Flights\n",
    "\n",
    "SELECT COUNT(DISTINCT arrival)\n",
    "FROM flights f\n",
    "WHERE departure = 'ABR'\n",
    "LIMIT 10;"
   ]
  },
  {
   "cell_type": "code",
   "execution_count": 40,
   "metadata": {},
   "outputs": [
    {
     "name": "stdout",
     "output_type": "stream",
     "text": [
      " * postgresql://postgres:***@db\n",
      "1 rows affected.\n"
     ]
    },
    {
     "data": {
      "text/html": [
       "<table>\n",
       "    <tr>\n",
       "        <th>count</th>\n",
       "    </tr>\n",
       "    <tr>\n",
       "        <td>103</td>\n",
       "    </tr>\n",
       "</table>"
      ],
      "text/plain": [
       "[(103,)]"
      ]
     },
     "execution_count": 40,
     "metadata": {},
     "output_type": "execute_result"
    }
   ],
   "source": [
    "%%sql\n",
    "\n",
    "--- Connecting Flights\n",
    "\n",
    "SELECT COUNT(DISTINCT f2.arrival)\n",
    "FROM flights f1 \n",
    "JOIN flights f2\n",
    "ON f1.arrival = f2.departure\n",
    "WHERE f1.departure = 'ABR' AND f1.year = f2.year AND f1.month = f2.month AND f1.day = f2.day AND f2.arrival != 'ABR'\n",
    "LIMIT 10;"
   ]
  },
  {
   "cell_type": "code",
   "execution_count": 41,
   "metadata": {},
   "outputs": [
    {
     "name": "stdout",
     "output_type": "stream",
     "text": [
      " * postgresql://postgres:***@db\n",
      "1 rows affected.\n"
     ]
    },
    {
     "data": {
      "text/html": [
       "<table>\n",
       "    <tr>\n",
       "        <th>round</th>\n",
       "    </tr>\n",
       "    <tr>\n",
       "        <td>12.71</td>\n",
       "    </tr>\n",
       "</table>"
      ],
      "text/plain": [
       "[(Decimal('12.71'),)]"
      ]
     },
     "execution_count": 41,
     "metadata": {},
     "output_type": "execute_result"
    }
   ],
   "source": [
    "%%sql\n",
    "SELECT ROUND(AVG(arrival_delay),2)\n",
    "FROM flights f\n",
    "JOIN airlines a\n",
    "ON f.airline = a.code\n",
    "JOIN flights_delay fd\n",
    "ON fd.flight_id = f.id\n",
    "WHERE a.residence = 'GA' AND f.load_factor >= 0.5\n",
    "LIMIT 10;"
   ]
  },
  {
   "cell_type": "markdown",
   "metadata": {},
   "source": [
    "---"
   ]
  },
  {
   "cell_type": "markdown",
   "metadata": {},
   "source": [
    "# Round 5"
   ]
  },
  {
   "cell_type": "code",
   "execution_count": 42,
   "metadata": {},
   "outputs": [
    {
     "name": "stdout",
     "output_type": "stream",
     "text": [
      " * postgresql://postgres:***@db\n",
      "1 rows affected.\n"
     ]
    },
    {
     "data": {
      "text/html": [
       "<table>\n",
       "    <tr>\n",
       "        <th>count</th>\n",
       "    </tr>\n",
       "    <tr>\n",
       "        <td>322</td>\n",
       "    </tr>\n",
       "</table>"
      ],
      "text/plain": [
       "[(322,)]"
      ]
     },
     "execution_count": 42,
     "metadata": {},
     "output_type": "execute_result"
    }
   ],
   "source": [
    "%%sql\n",
    "SELECT COUNT(DISTINCT code)\n",
    "FROM airports\n",
    "LIMIT 10;"
   ]
  },
  {
   "cell_type": "code",
   "execution_count": 43,
   "metadata": {},
   "outputs": [
    {
     "name": "stdout",
     "output_type": "stream",
     "text": [
      " * postgresql://postgres:***@db\n",
      "1 rows affected.\n"
     ]
    },
    {
     "data": {
      "text/html": [
       "<table>\n",
       "    <tr>\n",
       "        <th>count</th>\n",
       "    </tr>\n",
       "    <tr>\n",
       "        <td>1827</td>\n",
       "    </tr>\n",
       "</table>"
      ],
      "text/plain": [
       "[(1827,)]"
      ]
     },
     "execution_count": 43,
     "metadata": {},
     "output_type": "execute_result"
    }
   ],
   "source": [
    "%%sql\n",
    "SELECT COUNT(DISTINCT id)\n",
    "FROM flights\n",
    "WHERE departure = 'JFK'\n",
    "LIMIT 10;"
   ]
  },
  {
   "cell_type": "code",
   "execution_count": 44,
   "metadata": {},
   "outputs": [
    {
     "name": "stdout",
     "output_type": "stream",
     "text": [
      " * postgresql://postgres:***@db\n",
      "1 rows affected.\n"
     ]
    },
    {
     "data": {
      "text/html": [
       "<table>\n",
       "    <tr>\n",
       "        <th>airline</th>\n",
       "        <th>num_flights</th>\n",
       "    </tr>\n",
       "    <tr>\n",
       "        <td>VX</td>\n",
       "        <td>160</td>\n",
       "    </tr>\n",
       "</table>"
      ],
      "text/plain": [
       "[('VX', 160)]"
      ]
     },
     "execution_count": 44,
     "metadata": {},
     "output_type": "execute_result"
    }
   ],
   "source": [
    "%%sql\n",
    "SELECT airline, COUNT(DISTINCT id) AS num_flights\n",
    "FROM flights\n",
    "WHERE year = 2015 AND month = 1 AND day = 3\n",
    "GROUP BY airline\n",
    "ORDER BY num_flights ASC\n",
    "LIMIT 1;"
   ]
  },
  {
   "cell_type": "code",
   "execution_count": 45,
   "metadata": {},
   "outputs": [
    {
     "name": "stdout",
     "output_type": "stream",
     "text": [
      " * postgresql://postgres:***@db\n",
      "1 rows affected.\n"
     ]
    },
    {
     "data": {
      "text/html": [
       "<table>\n",
       "    <tr>\n",
       "        <th>count</th>\n",
       "    </tr>\n",
       "    <tr>\n",
       "        <td>159</td>\n",
       "    </tr>\n",
       "</table>"
      ],
      "text/plain": [
       "[(159,)]"
      ]
     },
     "execution_count": 45,
     "metadata": {},
     "output_type": "execute_result"
    }
   ],
   "source": [
    "%%sql\n",
    "SELECT COUNT(DISTINCT departure)\n",
    "FROM flights f\n",
    "JOIN airports a\n",
    "ON f.arrival = a.code\n",
    "WHERE a.residence = 'IL'\n",
    "LIMIT 10;"
   ]
  },
  {
   "cell_type": "code",
   "execution_count": 46,
   "metadata": {},
   "outputs": [
    {
     "name": "stdout",
     "output_type": "stream",
     "text": [
      " * postgresql://postgres:***@db\n",
      "1 rows affected.\n"
     ]
    },
    {
     "data": {
      "text/html": [
       "<table>\n",
       "    <tr>\n",
       "        <th>count</th>\n",
       "    </tr>\n",
       "    <tr>\n",
       "        <td>11761</td>\n",
       "    </tr>\n",
       "</table>"
      ],
      "text/plain": [
       "[(11761,)]"
      ]
     },
     "execution_count": 46,
     "metadata": {},
     "output_type": "execute_result"
    }
   ],
   "source": [
    "%%sql\n",
    "SELECT COUNT(*)\n",
    "FROM flights f\n",
    "JOIN airports a1\n",
    "ON f.departure = a1.code\n",
    "JOIN airports a2\n",
    "ON f.arrival = a2.code\n",
    "WHERE a1.residence = a2.residence\n",
    "LIMIT 10;"
   ]
  },
  {
   "cell_type": "code",
   "execution_count": 47,
   "metadata": {},
   "outputs": [
    {
     "name": "stdout",
     "output_type": "stream",
     "text": [
      " * postgresql://postgres:***@db\n",
      "1 rows affected.\n"
     ]
    },
    {
     "data": {
      "text/html": [
       "<table>\n",
       "    <tr>\n",
       "        <th>count</th>\n",
       "    </tr>\n",
       "    <tr>\n",
       "        <td>1</td>\n",
       "    </tr>\n",
       "</table>"
      ],
      "text/plain": [
       "[(1,)]"
      ]
     },
     "execution_count": 47,
     "metadata": {},
     "output_type": "execute_result"
    }
   ],
   "source": [
    "%%sql\n",
    "\n",
    "--- Direct Flights ---\n",
    "\n",
    "SELECT COUNT(DISTINCT arrival)\n",
    "FROM flights\n",
    "WHERE departure = 'ABR'\n",
    "LIMIT 10;"
   ]
  },
  {
   "cell_type": "code",
   "execution_count": 48,
   "metadata": {},
   "outputs": [
    {
     "name": "stdout",
     "output_type": "stream",
     "text": [
      " * postgresql://postgres:***@db\n",
      "1 rows affected.\n"
     ]
    },
    {
     "data": {
      "text/html": [
       "<table>\n",
       "    <tr>\n",
       "        <th>count</th>\n",
       "    </tr>\n",
       "    <tr>\n",
       "        <td>103</td>\n",
       "    </tr>\n",
       "</table>"
      ],
      "text/plain": [
       "[(103,)]"
      ]
     },
     "execution_count": 48,
     "metadata": {},
     "output_type": "execute_result"
    }
   ],
   "source": [
    "%%sql\n",
    "\n",
    "--- Connecting Flights ---\n",
    "\n",
    "SELECT COUNT(DISTINCT f2.arrival)\n",
    "FROM flights f1\n",
    "JOIN flights f2\n",
    "ON f1.arrival = f2.departure AND f1.year = f2.year AND f1.month = f2.month AND f1.day = f2.day AND f1.departure != f2.arrival\n",
    "WHERE f1.departure = 'ABR'\n",
    "LIMIT 10;"
   ]
  },
  {
   "cell_type": "code",
   "execution_count": 49,
   "metadata": {},
   "outputs": [
    {
     "name": "stdout",
     "output_type": "stream",
     "text": [
      " * postgresql://postgres:***@db\n",
      "1 rows affected.\n"
     ]
    },
    {
     "data": {
      "text/html": [
       "<table>\n",
       "    <tr>\n",
       "        <th>round</th>\n",
       "    </tr>\n",
       "    <tr>\n",
       "        <td>12.71</td>\n",
       "    </tr>\n",
       "</table>"
      ],
      "text/plain": [
       "[(Decimal('12.71'),)]"
      ]
     },
     "execution_count": 49,
     "metadata": {},
     "output_type": "execute_result"
    }
   ],
   "source": [
    "%%sql\n",
    "SELECT ROUND(AVG(fd.arrival_delay),2)\n",
    "FROM flights f\n",
    "JOIN flights_delay fd\n",
    "ON f.id = fd.flight_id\n",
    "JOIN airlines a\n",
    "ON f.airline = a.code\n",
    "WHERE a.residence = 'GA' AND f.load_factor >= 0.5\n",
    "LIMIT 10;"
   ]
  },
  {
   "cell_type": "markdown",
   "metadata": {},
   "source": [
    "---"
   ]
  },
  {
   "cell_type": "markdown",
   "metadata": {},
   "source": [
    "# Round 6"
   ]
  },
  {
   "cell_type": "code",
   "execution_count": 50,
   "metadata": {},
   "outputs": [
    {
     "name": "stdout",
     "output_type": "stream",
     "text": [
      " * postgresql://postgres:***@db\n",
      "1 rows affected.\n"
     ]
    },
    {
     "data": {
      "text/html": [
       "<table>\n",
       "    <tr>\n",
       "        <th>count</th>\n",
       "    </tr>\n",
       "    <tr>\n",
       "        <td>322</td>\n",
       "    </tr>\n",
       "</table>"
      ],
      "text/plain": [
       "[(322,)]"
      ]
     },
     "execution_count": 50,
     "metadata": {},
     "output_type": "execute_result"
    }
   ],
   "source": [
    "%%sql\n",
    "SELECT COUNT(*)\n",
    "FROM airports\n",
    "LIMIT 10;"
   ]
  },
  {
   "cell_type": "code",
   "execution_count": 51,
   "metadata": {},
   "outputs": [
    {
     "name": "stdout",
     "output_type": "stream",
     "text": [
      " * postgresql://postgres:***@db\n",
      "1 rows affected.\n"
     ]
    },
    {
     "data": {
      "text/html": [
       "<table>\n",
       "    <tr>\n",
       "        <th>count</th>\n",
       "    </tr>\n",
       "    <tr>\n",
       "        <td>1827</td>\n",
       "    </tr>\n",
       "</table>"
      ],
      "text/plain": [
       "[(1827,)]"
      ]
     },
     "execution_count": 51,
     "metadata": {},
     "output_type": "execute_result"
    }
   ],
   "source": [
    "%%sql\n",
    "SELECT COUNT(DISTINCT id)\n",
    "FROM flights\n",
    "WHERE departure = 'JFK'\n",
    "LIMIT 10;"
   ]
  },
  {
   "cell_type": "code",
   "execution_count": 52,
   "metadata": {},
   "outputs": [
    {
     "name": "stdout",
     "output_type": "stream",
     "text": [
      " * postgresql://postgres:***@db\n",
      "1 rows affected.\n"
     ]
    },
    {
     "data": {
      "text/html": [
       "<table>\n",
       "    <tr>\n",
       "        <th>airline</th>\n",
       "        <th>num_flights</th>\n",
       "    </tr>\n",
       "    <tr>\n",
       "        <td>VX</td>\n",
       "        <td>160</td>\n",
       "    </tr>\n",
       "</table>"
      ],
      "text/plain": [
       "[('VX', 160)]"
      ]
     },
     "execution_count": 52,
     "metadata": {},
     "output_type": "execute_result"
    }
   ],
   "source": [
    "%%sql\n",
    "SELECT airline, COUNT(DISTINCT id) AS num_flights\n",
    "FROM flights\n",
    "WHERE year = 2015 AND month = 1 AND day = 3\n",
    "GROUP BY airline\n",
    "ORDER BY num_flights ASC\n",
    "LIMIT 1;"
   ]
  },
  {
   "cell_type": "code",
   "execution_count": 53,
   "metadata": {},
   "outputs": [
    {
     "name": "stdout",
     "output_type": "stream",
     "text": [
      " * postgresql://postgres:***@db\n",
      "1 rows affected.\n"
     ]
    },
    {
     "data": {
      "text/html": [
       "<table>\n",
       "    <tr>\n",
       "        <th>count</th>\n",
       "    </tr>\n",
       "    <tr>\n",
       "        <td>159</td>\n",
       "    </tr>\n",
       "</table>"
      ],
      "text/plain": [
       "[(159,)]"
      ]
     },
     "execution_count": 53,
     "metadata": {},
     "output_type": "execute_result"
    }
   ],
   "source": [
    "%%sql\n",
    "SELECT COUNT(DISTINCT departure)\n",
    "FROM flights f\n",
    "JOIN airports a\n",
    "ON f.arrival = a.code\n",
    "WHERE a.residence = 'IL'\n",
    "LIMIT 10;"
   ]
  },
  {
   "cell_type": "code",
   "execution_count": 54,
   "metadata": {},
   "outputs": [
    {
     "name": "stdout",
     "output_type": "stream",
     "text": [
      " * postgresql://postgres:***@db\n",
      "1 rows affected.\n"
     ]
    },
    {
     "data": {
      "text/html": [
       "<table>\n",
       "    <tr>\n",
       "        <th>count</th>\n",
       "    </tr>\n",
       "    <tr>\n",
       "        <td>11761</td>\n",
       "    </tr>\n",
       "</table>"
      ],
      "text/plain": [
       "[(11761,)]"
      ]
     },
     "execution_count": 54,
     "metadata": {},
     "output_type": "execute_result"
    }
   ],
   "source": [
    "%%sql\n",
    "SELECT COUNT(*)\n",
    "FROM flights f\n",
    "JOIN airports a1\n",
    "ON a1.code = f.arrival\n",
    "JOIN airports a2\n",
    "ON a2.code = f.departure\n",
    "WHERE a1.residence = a2.residence\n",
    "LIMIT 10;"
   ]
  },
  {
   "cell_type": "code",
   "execution_count": 55,
   "metadata": {},
   "outputs": [
    {
     "name": "stdout",
     "output_type": "stream",
     "text": [
      " * postgresql://postgres:***@db\n",
      "1 rows affected.\n"
     ]
    },
    {
     "data": {
      "text/html": [
       "<table>\n",
       "    <tr>\n",
       "        <th>count</th>\n",
       "    </tr>\n",
       "    <tr>\n",
       "        <td>1</td>\n",
       "    </tr>\n",
       "</table>"
      ],
      "text/plain": [
       "[(1,)]"
      ]
     },
     "execution_count": 55,
     "metadata": {},
     "output_type": "execute_result"
    }
   ],
   "source": [
    "%%sql\n",
    "\n",
    "--- Direct Flights\n",
    "\n",
    "SELECT COUNT(DISTINCT arrival)\n",
    "FROM flights\n",
    "WHERE departure = 'ABR'\n",
    "LIMIT 10;"
   ]
  },
  {
   "cell_type": "code",
   "execution_count": 56,
   "metadata": {},
   "outputs": [
    {
     "name": "stdout",
     "output_type": "stream",
     "text": [
      " * postgresql://postgres:***@db\n",
      "1 rows affected.\n"
     ]
    },
    {
     "data": {
      "text/html": [
       "<table>\n",
       "    <tr>\n",
       "        <th>count</th>\n",
       "    </tr>\n",
       "    <tr>\n",
       "        <td>103</td>\n",
       "    </tr>\n",
       "</table>"
      ],
      "text/plain": [
       "[(103,)]"
      ]
     },
     "execution_count": 56,
     "metadata": {},
     "output_type": "execute_result"
    }
   ],
   "source": [
    "%%sql\n",
    "\n",
    "--- Connecting Flights\n",
    "\n",
    "SELECT COUNT(DISTINCT f2.arrival)\n",
    "FROM flights f1\n",
    "JOIN flights f2\n",
    "ON f1.departure = 'ABR' AND f1.arrival = f2.departure AND f1.day = f2.day AND f1.month = f2.month AND f1.year = f2.year AND NOT f1.departure = f2.arrival\n",
    "LIMIT 10;"
   ]
  },
  {
   "cell_type": "code",
   "execution_count": 57,
   "metadata": {},
   "outputs": [
    {
     "name": "stdout",
     "output_type": "stream",
     "text": [
      " * postgresql://postgres:***@db\n",
      "1 rows affected.\n"
     ]
    },
    {
     "data": {
      "text/html": [
       "<table>\n",
       "    <tr>\n",
       "        <th>round</th>\n",
       "    </tr>\n",
       "    <tr>\n",
       "        <td>12.71</td>\n",
       "    </tr>\n",
       "</table>"
      ],
      "text/plain": [
       "[(Decimal('12.71'),)]"
      ]
     },
     "execution_count": 57,
     "metadata": {},
     "output_type": "execute_result"
    }
   ],
   "source": [
    "%%sql\n",
    "SELECT ROUND(AVG(arrival_delay),2)\n",
    "FROM flights f\n",
    "JOIN airlines a\n",
    "ON f.airline = a.code\n",
    "JOIN flights_delay fd\n",
    "ON fd.flight_id = f.id\n",
    "WHERE a.residence = 'GA' AND f.load_factor >= 0.5\n",
    "LIMIT 10;"
   ]
  },
  {
   "cell_type": "markdown",
   "metadata": {},
   "source": [
    "---"
   ]
  },
  {
   "cell_type": "markdown",
   "metadata": {},
   "source": [
    "# Round 7"
   ]
  },
  {
   "cell_type": "code",
   "execution_count": 58,
   "metadata": {},
   "outputs": [
    {
     "name": "stdout",
     "output_type": "stream",
     "text": [
      " * postgresql://postgres:***@db\n",
      "1 rows affected.\n"
     ]
    },
    {
     "data": {
      "text/html": [
       "<table>\n",
       "    <tr>\n",
       "        <th>count</th>\n",
       "    </tr>\n",
       "    <tr>\n",
       "        <td>322</td>\n",
       "    </tr>\n",
       "</table>"
      ],
      "text/plain": [
       "[(322,)]"
      ]
     },
     "execution_count": 58,
     "metadata": {},
     "output_type": "execute_result"
    }
   ],
   "source": [
    "%%sql\n",
    "SELECT COUNT(DISTINCT code)\n",
    "FROM airports\n",
    "LIMIT 10;"
   ]
  },
  {
   "cell_type": "code",
   "execution_count": 59,
   "metadata": {},
   "outputs": [
    {
     "name": "stdout",
     "output_type": "stream",
     "text": [
      " * postgresql://postgres:***@db\n",
      "1 rows affected.\n"
     ]
    },
    {
     "data": {
      "text/html": [
       "<table>\n",
       "    <tr>\n",
       "        <th>count</th>\n",
       "    </tr>\n",
       "    <tr>\n",
       "        <td>1827</td>\n",
       "    </tr>\n",
       "</table>"
      ],
      "text/plain": [
       "[(1827,)]"
      ]
     },
     "execution_count": 59,
     "metadata": {},
     "output_type": "execute_result"
    }
   ],
   "source": [
    "%%sql\n",
    "SELECT COUNT(DISTINCT id)\n",
    "FROM flights\n",
    "WHERE departure = 'JFK'\n",
    "LIMIT 10;"
   ]
  },
  {
   "cell_type": "code",
   "execution_count": 60,
   "metadata": {},
   "outputs": [
    {
     "name": "stdout",
     "output_type": "stream",
     "text": [
      " * postgresql://postgres:***@db\n",
      "1 rows affected.\n"
     ]
    },
    {
     "data": {
      "text/html": [
       "<table>\n",
       "    <tr>\n",
       "        <th>airline</th>\n",
       "        <th>num_flights</th>\n",
       "    </tr>\n",
       "    <tr>\n",
       "        <td>VX</td>\n",
       "        <td>160</td>\n",
       "    </tr>\n",
       "</table>"
      ],
      "text/plain": [
       "[('VX', 160)]"
      ]
     },
     "execution_count": 60,
     "metadata": {},
     "output_type": "execute_result"
    }
   ],
   "source": [
    "%%sql\n",
    "SELECT airline, COUNT(DISTINCT id) AS num_flights\n",
    "FROM flights\n",
    "WHERE day = 3 AND month = 1 AND year = 2015\n",
    "GROUP BY airline\n",
    "ORDER BY num_flights ASC\n",
    "LIMIT 1;"
   ]
  },
  {
   "cell_type": "code",
   "execution_count": 61,
   "metadata": {},
   "outputs": [
    {
     "name": "stdout",
     "output_type": "stream",
     "text": [
      " * postgresql://postgres:***@db\n",
      "1 rows affected.\n"
     ]
    },
    {
     "data": {
      "text/html": [
       "<table>\n",
       "    <tr>\n",
       "        <th>count</th>\n",
       "    </tr>\n",
       "    <tr>\n",
       "        <td>159</td>\n",
       "    </tr>\n",
       "</table>"
      ],
      "text/plain": [
       "[(159,)]"
      ]
     },
     "execution_count": 61,
     "metadata": {},
     "output_type": "execute_result"
    }
   ],
   "source": [
    "%%sql\n",
    "SELECT COUNT(DISTINCT departure)\n",
    "FROM flights f\n",
    "JOIN airports a\n",
    "ON f.arrival = a.code\n",
    "WHERE a.residence = 'IL'\n",
    "LIMIT 10;"
   ]
  },
  {
   "cell_type": "code",
   "execution_count": 62,
   "metadata": {},
   "outputs": [
    {
     "name": "stdout",
     "output_type": "stream",
     "text": [
      " * postgresql://postgres:***@db\n",
      "1 rows affected.\n"
     ]
    },
    {
     "data": {
      "text/html": [
       "<table>\n",
       "    <tr>\n",
       "        <th>count</th>\n",
       "    </tr>\n",
       "    <tr>\n",
       "        <td>11761</td>\n",
       "    </tr>\n",
       "</table>"
      ],
      "text/plain": [
       "[(11761,)]"
      ]
     },
     "execution_count": 62,
     "metadata": {},
     "output_type": "execute_result"
    }
   ],
   "source": [
    "%%sql\n",
    "SELECT COUNT(DISTINCT id)\n",
    "FROM flights f\n",
    "JOIN airports a1\n",
    "ON f.arrival = a1.code\n",
    "JOIN airports a2\n",
    "ON f.departure = a2.code\n",
    "WHERE a1.residence = a2.residence\n",
    "LIMIT 10;"
   ]
  },
  {
   "cell_type": "code",
   "execution_count": 63,
   "metadata": {},
   "outputs": [
    {
     "name": "stdout",
     "output_type": "stream",
     "text": [
      " * postgresql://postgres:***@db\n",
      "1 rows affected.\n"
     ]
    },
    {
     "data": {
      "text/html": [
       "<table>\n",
       "    <tr>\n",
       "        <th>count</th>\n",
       "    </tr>\n",
       "    <tr>\n",
       "        <td>1</td>\n",
       "    </tr>\n",
       "</table>"
      ],
      "text/plain": [
       "[(1,)]"
      ]
     },
     "execution_count": 63,
     "metadata": {},
     "output_type": "execute_result"
    }
   ],
   "source": [
    "%%sql\n",
    "\n",
    "--- Direct Flights\n",
    "\n",
    "SELECT COUNT(DISTINCT arrival)\n",
    "FROM flights\n",
    "WHERE departure = 'ABR'\n",
    "LIMIT 10;"
   ]
  },
  {
   "cell_type": "code",
   "execution_count": 64,
   "metadata": {},
   "outputs": [
    {
     "name": "stdout",
     "output_type": "stream",
     "text": [
      " * postgresql://postgres:***@db\n",
      "1 rows affected.\n"
     ]
    },
    {
     "data": {
      "text/html": [
       "<table>\n",
       "    <tr>\n",
       "        <th>count</th>\n",
       "    </tr>\n",
       "    <tr>\n",
       "        <td>103</td>\n",
       "    </tr>\n",
       "</table>"
      ],
      "text/plain": [
       "[(103,)]"
      ]
     },
     "execution_count": 64,
     "metadata": {},
     "output_type": "execute_result"
    }
   ],
   "source": [
    "%%sql\n",
    "\n",
    "--- Connecting Flights\n",
    "\n",
    "SELECT COUNT(DISTINCT f2.arrival)\n",
    "FROM flights f1\n",
    "JOIN flights f2\n",
    "ON f1.arrival = f2.departure\n",
    "WHERE f1.departure = 'ABR' AND f1.day = f2.day AND f1.month = f2.month AND f1.year = f2.year AND f1.departure != f2.arrival\n",
    "LIMIT 10;"
   ]
  },
  {
   "cell_type": "code",
   "execution_count": 65,
   "metadata": {},
   "outputs": [
    {
     "name": "stdout",
     "output_type": "stream",
     "text": [
      " * postgresql://postgres:***@db\n",
      "1 rows affected.\n"
     ]
    },
    {
     "data": {
      "text/html": [
       "<table>\n",
       "    <tr>\n",
       "        <th>round</th>\n",
       "    </tr>\n",
       "    <tr>\n",
       "        <td>12.71</td>\n",
       "    </tr>\n",
       "</table>"
      ],
      "text/plain": [
       "[(Decimal('12.71'),)]"
      ]
     },
     "execution_count": 65,
     "metadata": {},
     "output_type": "execute_result"
    }
   ],
   "source": [
    "%%sql\n",
    "SELECT ROUND(AVG(arrival_delay),2)\n",
    "FROM flights f\n",
    "JOIN flights_delay fd\n",
    "ON f.id = fd.flight_id\n",
    "JOIN airlines a\n",
    "ON a.code = f.airline\n",
    "WHERE a.residence = 'GA' AND f.load_factor >= 0.5\n",
    "LIMIT 10;"
   ]
  },
  {
   "cell_type": "markdown",
   "metadata": {},
   "source": [
    "---"
   ]
  },
  {
   "cell_type": "markdown",
   "metadata": {},
   "source": [
    "# Round 8"
   ]
  },
  {
   "cell_type": "code",
   "execution_count": 66,
   "metadata": {},
   "outputs": [
    {
     "name": "stdout",
     "output_type": "stream",
     "text": [
      " * postgresql://postgres:***@db\n",
      "1 rows affected.\n"
     ]
    },
    {
     "data": {
      "text/html": [
       "<table>\n",
       "    <tr>\n",
       "        <th>count</th>\n",
       "    </tr>\n",
       "    <tr>\n",
       "        <td>322</td>\n",
       "    </tr>\n",
       "</table>"
      ],
      "text/plain": [
       "[(322,)]"
      ]
     },
     "execution_count": 66,
     "metadata": {},
     "output_type": "execute_result"
    }
   ],
   "source": [
    "%%sql\n",
    "SELECT COUNT(*)\n",
    "FROM airports\n",
    "LIMIT 10;"
   ]
  },
  {
   "cell_type": "code",
   "execution_count": 67,
   "metadata": {},
   "outputs": [
    {
     "name": "stdout",
     "output_type": "stream",
     "text": [
      " * postgresql://postgres:***@db\n",
      "1 rows affected.\n"
     ]
    },
    {
     "data": {
      "text/html": [
       "<table>\n",
       "    <tr>\n",
       "        <th>count</th>\n",
       "    </tr>\n",
       "    <tr>\n",
       "        <td>1827</td>\n",
       "    </tr>\n",
       "</table>"
      ],
      "text/plain": [
       "[(1827,)]"
      ]
     },
     "execution_count": 67,
     "metadata": {},
     "output_type": "execute_result"
    }
   ],
   "source": [
    "%%sql\n",
    "SELECT COUNT(*)\n",
    "FROM flights\n",
    "WHERE departure = 'JFK'\n",
    "LIMIT 10;"
   ]
  },
  {
   "cell_type": "code",
   "execution_count": 68,
   "metadata": {},
   "outputs": [
    {
     "name": "stdout",
     "output_type": "stream",
     "text": [
      " * postgresql://postgres:***@db\n",
      "1 rows affected.\n"
     ]
    },
    {
     "data": {
      "text/html": [
       "<table>\n",
       "    <tr>\n",
       "        <th>airline</th>\n",
       "        <th>num_flights</th>\n",
       "    </tr>\n",
       "    <tr>\n",
       "        <td>VX</td>\n",
       "        <td>160</td>\n",
       "    </tr>\n",
       "</table>"
      ],
      "text/plain": [
       "[('VX', 160)]"
      ]
     },
     "execution_count": 68,
     "metadata": {},
     "output_type": "execute_result"
    }
   ],
   "source": [
    "%%sql\n",
    "SELECT airline, COUNT(DISTINCT id) AS num_flights\n",
    "FROM flights\n",
    "WHERE day = 3 AND month = 1 AND year = 2015\n",
    "GROUP BY airline\n",
    "ORDER BY num_flights ASC\n",
    "LIMIT 1;"
   ]
  },
  {
   "cell_type": "code",
   "execution_count": 69,
   "metadata": {},
   "outputs": [
    {
     "name": "stdout",
     "output_type": "stream",
     "text": [
      " * postgresql://postgres:***@db\n",
      "1 rows affected.\n"
     ]
    },
    {
     "data": {
      "text/html": [
       "<table>\n",
       "    <tr>\n",
       "        <th>count</th>\n",
       "    </tr>\n",
       "    <tr>\n",
       "        <td>159</td>\n",
       "    </tr>\n",
       "</table>"
      ],
      "text/plain": [
       "[(159,)]"
      ]
     },
     "execution_count": 69,
     "metadata": {},
     "output_type": "execute_result"
    }
   ],
   "source": [
    "%%sql\n",
    "SELECT COUNT(DISTINCT departure)\n",
    "FROM flights f\n",
    "JOIN airports a\n",
    "ON f.arrival = a.code\n",
    "WHERE residence = 'IL'\n",
    "LIMIT 10;"
   ]
  },
  {
   "cell_type": "code",
   "execution_count": 70,
   "metadata": {},
   "outputs": [
    {
     "name": "stdout",
     "output_type": "stream",
     "text": [
      " * postgresql://postgres:***@db\n",
      "1 rows affected.\n"
     ]
    },
    {
     "data": {
      "text/html": [
       "<table>\n",
       "    <tr>\n",
       "        <th>count</th>\n",
       "    </tr>\n",
       "    <tr>\n",
       "        <td>11761</td>\n",
       "    </tr>\n",
       "</table>"
      ],
      "text/plain": [
       "[(11761,)]"
      ]
     },
     "execution_count": 70,
     "metadata": {},
     "output_type": "execute_result"
    }
   ],
   "source": [
    "%%sql\n",
    "SELECT COUNT(DISTINCT id)\n",
    "FROM flights f\n",
    "JOIN airports a1\n",
    "ON f.departure = a1.code\n",
    "JOIN airports a2\n",
    "ON f.arrival = a2.code\n",
    "WHERE a1.residence = a2.residence\n",
    "LIMIT 10;"
   ]
  },
  {
   "cell_type": "code",
   "execution_count": 71,
   "metadata": {},
   "outputs": [
    {
     "name": "stdout",
     "output_type": "stream",
     "text": [
      " * postgresql://postgres:***@db\n",
      "1 rows affected.\n"
     ]
    },
    {
     "data": {
      "text/html": [
       "<table>\n",
       "    <tr>\n",
       "        <th>count</th>\n",
       "    </tr>\n",
       "    <tr>\n",
       "        <td>1</td>\n",
       "    </tr>\n",
       "</table>"
      ],
      "text/plain": [
       "[(1,)]"
      ]
     },
     "execution_count": 71,
     "metadata": {},
     "output_type": "execute_result"
    }
   ],
   "source": [
    "%%sql\n",
    "\n",
    "--- DIRECT FLIGHTS\n",
    "\n",
    "SELECT COUNT(DISTINCT arrival)\n",
    "FROM flights\n",
    "WHERE departure = 'ABR'\n",
    "LIMIT 10;"
   ]
  },
  {
   "cell_type": "code",
   "execution_count": 72,
   "metadata": {},
   "outputs": [
    {
     "name": "stdout",
     "output_type": "stream",
     "text": [
      " * postgresql://postgres:***@db\n",
      "1 rows affected.\n"
     ]
    },
    {
     "data": {
      "text/html": [
       "<table>\n",
       "    <tr>\n",
       "        <th>count</th>\n",
       "    </tr>\n",
       "    <tr>\n",
       "        <td>103</td>\n",
       "    </tr>\n",
       "</table>"
      ],
      "text/plain": [
       "[(103,)]"
      ]
     },
     "execution_count": 72,
     "metadata": {},
     "output_type": "execute_result"
    }
   ],
   "source": [
    "%%sql\n",
    "\n",
    "--- CONNECTING FLIGHTS\n",
    "\n",
    "SELECT COUNT(DISTINCT f2.arrival)\n",
    "FROM flights f1\n",
    "JOIN flights f2\n",
    "ON f1.arrival = f2.departure\n",
    "WHERE f1.departure = 'ABR' AND f1.departure != f2.arrival AND f1.day = f2.day AND f1.month = f2.month AND f1.year = f2.year\n",
    "LIMIT 10;"
   ]
  },
  {
   "cell_type": "code",
   "execution_count": 73,
   "metadata": {},
   "outputs": [
    {
     "name": "stdout",
     "output_type": "stream",
     "text": [
      " * postgresql://postgres:***@db\n",
      "1 rows affected.\n"
     ]
    },
    {
     "data": {
      "text/html": [
       "<table>\n",
       "    <tr>\n",
       "        <th>round</th>\n",
       "    </tr>\n",
       "    <tr>\n",
       "        <td>12.71</td>\n",
       "    </tr>\n",
       "</table>"
      ],
      "text/plain": [
       "[(Decimal('12.71'),)]"
      ]
     },
     "execution_count": 73,
     "metadata": {},
     "output_type": "execute_result"
    }
   ],
   "source": [
    "%%sql\n",
    "SELECT ROUND(AVG(arrival_delay),2)\n",
    "FROM flights f\n",
    "JOIN airlines a\n",
    "ON f.airline = a.code\n",
    "JOIN flights_delay fd\n",
    "ON fd.flight_id = f.id\n",
    "WHERE a.residence = 'GA' AND load_factor >= 0.5\n",
    "LIMIT 10;"
   ]
  },
  {
   "cell_type": "markdown",
   "metadata": {},
   "source": [
    "---"
   ]
  },
  {
   "cell_type": "markdown",
   "metadata": {},
   "source": [
    "# Round 9"
   ]
  },
  {
   "cell_type": "code",
   "execution_count": 75,
   "metadata": {},
   "outputs": [
    {
     "name": "stdout",
     "output_type": "stream",
     "text": [
      " * postgresql://postgres:***@db\n",
      "1 rows affected.\n"
     ]
    },
    {
     "data": {
      "text/html": [
       "<table>\n",
       "    <tr>\n",
       "        <th>count</th>\n",
       "    </tr>\n",
       "    <tr>\n",
       "        <td>322</td>\n",
       "    </tr>\n",
       "</table>"
      ],
      "text/plain": [
       "[(322,)]"
      ]
     },
     "execution_count": 75,
     "metadata": {},
     "output_type": "execute_result"
    }
   ],
   "source": [
    "%%sql\n",
    "SELECT COUNT(DISTINCT code)\n",
    "FROM airports\n",
    "LIMIT 10;"
   ]
  },
  {
   "cell_type": "code",
   "execution_count": 77,
   "metadata": {},
   "outputs": [
    {
     "name": "stdout",
     "output_type": "stream",
     "text": [
      " * postgresql://postgres:***@db\n",
      "1 rows affected.\n"
     ]
    },
    {
     "data": {
      "text/html": [
       "<table>\n",
       "    <tr>\n",
       "        <th>count</th>\n",
       "    </tr>\n",
       "    <tr>\n",
       "        <td>1827</td>\n",
       "    </tr>\n",
       "</table>"
      ],
      "text/plain": [
       "[(1827,)]"
      ]
     },
     "execution_count": 77,
     "metadata": {},
     "output_type": "execute_result"
    }
   ],
   "source": [
    "%%sql\n",
    "SELECT COUNT(DISTINCT id)\n",
    "FROM flights\n",
    "WHERE departure = 'JFK'\n",
    "LIMIT 10;"
   ]
  },
  {
   "cell_type": "code",
   "execution_count": 83,
   "metadata": {},
   "outputs": [
    {
     "name": "stdout",
     "output_type": "stream",
     "text": [
      " * postgresql://postgres:***@db\n",
      "1 rows affected.\n"
     ]
    },
    {
     "data": {
      "text/html": [
       "<table>\n",
       "    <tr>\n",
       "        <th>airline</th>\n",
       "        <th>num_flights</th>\n",
       "    </tr>\n",
       "    <tr>\n",
       "        <td>VX</td>\n",
       "        <td>160</td>\n",
       "    </tr>\n",
       "</table>"
      ],
      "text/plain": [
       "[('VX', 160)]"
      ]
     },
     "execution_count": 83,
     "metadata": {},
     "output_type": "execute_result"
    }
   ],
   "source": [
    "%%sql\n",
    "SELECT airline, COUNT(DISTINCT id) AS num_flights\n",
    "FROM flights\n",
    "WHERE day = 3 AND month = 1 AND year = 2015\n",
    "GROUP BY airline\n",
    "ORDER BY num_flights ASC\n",
    "LIMIT 1;"
   ]
  },
  {
   "cell_type": "code",
   "execution_count": 88,
   "metadata": {},
   "outputs": [
    {
     "name": "stdout",
     "output_type": "stream",
     "text": [
      " * postgresql://postgres:***@db\n",
      "1 rows affected.\n"
     ]
    },
    {
     "data": {
      "text/html": [
       "<table>\n",
       "    <tr>\n",
       "        <th>count</th>\n",
       "    </tr>\n",
       "    <tr>\n",
       "        <td>159</td>\n",
       "    </tr>\n",
       "</table>"
      ],
      "text/plain": [
       "[(159,)]"
      ]
     },
     "execution_count": 88,
     "metadata": {},
     "output_type": "execute_result"
    }
   ],
   "source": [
    "%%sql\n",
    "SELECT COUNT(DISTINCT departure)\n",
    "FROM flights f\n",
    "JOIN airports a\n",
    "ON f.arrival = a.code\n",
    "WHERE residence = 'IL'\n",
    "LIMIT 10;"
   ]
  },
  {
   "cell_type": "code",
   "execution_count": 91,
   "metadata": {},
   "outputs": [
    {
     "name": "stdout",
     "output_type": "stream",
     "text": [
      " * postgresql://postgres:***@db\n",
      "1 rows affected.\n"
     ]
    },
    {
     "data": {
      "text/html": [
       "<table>\n",
       "    <tr>\n",
       "        <th>count</th>\n",
       "    </tr>\n",
       "    <tr>\n",
       "        <td>11761</td>\n",
       "    </tr>\n",
       "</table>"
      ],
      "text/plain": [
       "[(11761,)]"
      ]
     },
     "execution_count": 91,
     "metadata": {},
     "output_type": "execute_result"
    }
   ],
   "source": [
    "%%sql\n",
    "SELECT COUNT(DISTINCT id)\n",
    "FROM flights f\n",
    "JOIN airports a1\n",
    "ON f.departure = a1.code\n",
    "JOIN airports a2\n",
    "ON f.arrival = a2.code\n",
    "WHERE a1.residence = a2.residence\n",
    "LIMIT 10;"
   ]
  },
  {
   "cell_type": "code",
   "execution_count": 96,
   "metadata": {},
   "outputs": [
    {
     "name": "stdout",
     "output_type": "stream",
     "text": [
      " * postgresql://postgres:***@db\n",
      "1 rows affected.\n"
     ]
    },
    {
     "data": {
      "text/html": [
       "<table>\n",
       "    <tr>\n",
       "        <th>count</th>\n",
       "    </tr>\n",
       "    <tr>\n",
       "        <td>1</td>\n",
       "    </tr>\n",
       "</table>"
      ],
      "text/plain": [
       "[(1,)]"
      ]
     },
     "execution_count": 96,
     "metadata": {},
     "output_type": "execute_result"
    }
   ],
   "source": [
    "%%sql\n",
    "\n",
    "--- DIRECT FLIGHTS\n",
    "\n",
    "SELECT COUNT(DISTINCT arrival)\n",
    "FROM flights\n",
    "WHERE departure = 'ABR'\n",
    "LIMIT 10;"
   ]
  },
  {
   "cell_type": "code",
   "execution_count": 103,
   "metadata": {},
   "outputs": [
    {
     "name": "stdout",
     "output_type": "stream",
     "text": [
      " * postgresql://postgres:***@db\n",
      "1 rows affected.\n"
     ]
    },
    {
     "data": {
      "text/html": [
       "<table>\n",
       "    <tr>\n",
       "        <th>count</th>\n",
       "    </tr>\n",
       "    <tr>\n",
       "        <td>103</td>\n",
       "    </tr>\n",
       "</table>"
      ],
      "text/plain": [
       "[(103,)]"
      ]
     },
     "execution_count": 103,
     "metadata": {},
     "output_type": "execute_result"
    }
   ],
   "source": [
    "%%sql\n",
    "\n",
    "--- CONNECTING FLIGHTS\n",
    "\n",
    "SELECT COUNT(DISTINCT f2.arrival)\n",
    "FROM flights f1\n",
    "JOIN flights f2\n",
    "ON f1.arrival = f2.departure\n",
    "WHERE f1.departure = 'ABR' AND f1.departure != f2.arrival AND f1.day = f2.day AND f1.month = f2.month AND f1.year = f2.year\n",
    "LIMIT 10;"
   ]
  },
  {
   "cell_type": "code",
   "execution_count": 110,
   "metadata": {},
   "outputs": [
    {
     "name": "stdout",
     "output_type": "stream",
     "text": [
      " * postgresql://postgres:***@db\n",
      "1 rows affected.\n"
     ]
    },
    {
     "data": {
      "text/html": [
       "<table>\n",
       "    <tr>\n",
       "        <th>round</th>\n",
       "    </tr>\n",
       "    <tr>\n",
       "        <td>12.71</td>\n",
       "    </tr>\n",
       "</table>"
      ],
      "text/plain": [
       "[(Decimal('12.71'),)]"
      ]
     },
     "execution_count": 110,
     "metadata": {},
     "output_type": "execute_result"
    }
   ],
   "source": [
    "%%sql\n",
    "SELECT ROUND(AVG(arrival_delay),2)\n",
    "FROM flights f\n",
    "JOIN airlines a\n",
    "ON f.airline = a.code\n",
    "JOIN flights_delay fd\n",
    "ON fd.flight_id = f.id\n",
    "WHERE a.residence = 'GA' AND load_factor >= 0.5\n",
    "LIMIT 10; "
   ]
  },
  {
   "cell_type": "code",
   "execution_count": null,
   "metadata": {},
   "outputs": [],
   "source": [
    "%%sql\n",
    "\n",
    "LIMIT 10;"
   ]
  },
  {
   "cell_type": "code",
   "execution_count": null,
   "metadata": {},
   "outputs": [],
   "source": [
    "%%sql\n",
    "\n",
    "LIMIT 10;"
   ]
  },
  {
   "cell_type": "markdown",
   "metadata": {},
   "source": [
    "---"
   ]
  }
 ],
 "metadata": {
  "kernelspec": {
   "display_name": "Python 3 (ipykernel)",
   "language": "python",
   "name": "python3"
  },
  "language_info": {
   "codemirror_mode": {
    "name": "ipython",
    "version": 3
   },
   "file_extension": ".py",
   "mimetype": "text/x-python",
   "name": "python",
   "nbconvert_exporter": "python",
   "pygments_lexer": "ipython3",
   "version": "3.9.20"
  }
 },
 "nbformat": 4,
 "nbformat_minor": 4
}
