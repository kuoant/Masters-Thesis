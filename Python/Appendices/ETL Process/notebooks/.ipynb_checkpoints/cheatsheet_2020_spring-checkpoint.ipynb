{
 "cells": [
  {
   "cell_type": "markdown",
   "metadata": {},
   "source": [
    "# Information Systems for Engineers 2020 - Cheat Sheet"
   ]
  },
  {
   "cell_type": "markdown",
   "metadata": {},
   "source": [
    "During the exam, you will be required to write SQL queries using a Jupyter notebook."
   ]
  },
  {
   "cell_type": "markdown",
   "metadata": {},
   "source": [
    "This notebook is designed to help you start writing your queries by providing you an environment and some simple queries that you can use to recap the syntax of SQL."
   ]
  },
  {
   "cell_type": "markdown",
   "metadata": {},
   "source": [
    "Feel free to extend this notebook and use it for preparing the answers you need for the exam. Take into attention that the content of this notebook will not be considered for grading."
   ]
  },
  {
   "cell_type": "markdown",
   "metadata": {},
   "source": [
    "## SQL"
   ]
  },
  {
   "cell_type": "code",
   "execution_count": 1,
   "metadata": {},
   "outputs": [],
   "source": [
    "%load_ext sql\n",
    "%sql postgresql://postgres:example@db"
   ]
  },
  {
   "cell_type": "markdown",
   "metadata": {},
   "source": [
    "To print the tables currently loaded in the database run:"
   ]
  },
  {
   "cell_type": "code",
   "execution_count": 2,
   "metadata": {},
   "outputs": [
    {
     "name": "stdout",
     "output_type": "stream",
     "text": [
      " * postgresql://postgres:***@db\n",
      "15 rows affected.\n"
     ]
    },
    {
     "data": {
      "text/html": [
       "<table>\n",
       "    <tr>\n",
       "        <th>table_catalog</th>\n",
       "        <th>table_schema</th>\n",
       "        <th>table_name</th>\n",
       "        <th>table_type</th>\n",
       "        <th>self_referencing_column_name</th>\n",
       "        <th>reference_generation</th>\n",
       "        <th>user_defined_type_catalog</th>\n",
       "        <th>user_defined_type_schema</th>\n",
       "        <th>user_defined_type_name</th>\n",
       "        <th>is_insertable_into</th>\n",
       "        <th>is_typed</th>\n",
       "        <th>commit_action</th>\n",
       "    </tr>\n",
       "    <tr>\n",
       "        <td>postgres</td>\n",
       "        <td>public</td>\n",
       "        <td>categories</td>\n",
       "        <td>BASE TABLE</td>\n",
       "        <td>None</td>\n",
       "        <td>None</td>\n",
       "        <td>None</td>\n",
       "        <td>None</td>\n",
       "        <td>None</td>\n",
       "        <td>YES</td>\n",
       "        <td>NO</td>\n",
       "        <td>None</td>\n",
       "    </tr>\n",
       "    <tr>\n",
       "        <td>postgres</td>\n",
       "        <td>public</td>\n",
       "        <td>customers</td>\n",
       "        <td>BASE TABLE</td>\n",
       "        <td>None</td>\n",
       "        <td>None</td>\n",
       "        <td>None</td>\n",
       "        <td>None</td>\n",
       "        <td>None</td>\n",
       "        <td>YES</td>\n",
       "        <td>NO</td>\n",
       "        <td>None</td>\n",
       "    </tr>\n",
       "    <tr>\n",
       "        <td>postgres</td>\n",
       "        <td>public</td>\n",
       "        <td>nwemployees</td>\n",
       "        <td>BASE TABLE</td>\n",
       "        <td>None</td>\n",
       "        <td>None</td>\n",
       "        <td>None</td>\n",
       "        <td>None</td>\n",
       "        <td>None</td>\n",
       "        <td>YES</td>\n",
       "        <td>NO</td>\n",
       "        <td>None</td>\n",
       "    </tr>\n",
       "    <tr>\n",
       "        <td>postgres</td>\n",
       "        <td>public</td>\n",
       "        <td>employeeterritories</td>\n",
       "        <td>BASE TABLE</td>\n",
       "        <td>None</td>\n",
       "        <td>None</td>\n",
       "        <td>None</td>\n",
       "        <td>None</td>\n",
       "        <td>None</td>\n",
       "        <td>YES</td>\n",
       "        <td>NO</td>\n",
       "        <td>None</td>\n",
       "    </tr>\n",
       "    <tr>\n",
       "        <td>postgres</td>\n",
       "        <td>public</td>\n",
       "        <td>order_details</td>\n",
       "        <td>BASE TABLE</td>\n",
       "        <td>None</td>\n",
       "        <td>None</td>\n",
       "        <td>None</td>\n",
       "        <td>None</td>\n",
       "        <td>None</td>\n",
       "        <td>YES</td>\n",
       "        <td>NO</td>\n",
       "        <td>None</td>\n",
       "    </tr>\n",
       "    <tr>\n",
       "        <td>postgres</td>\n",
       "        <td>public</td>\n",
       "        <td>orders</td>\n",
       "        <td>BASE TABLE</td>\n",
       "        <td>None</td>\n",
       "        <td>None</td>\n",
       "        <td>None</td>\n",
       "        <td>None</td>\n",
       "        <td>None</td>\n",
       "        <td>YES</td>\n",
       "        <td>NO</td>\n",
       "        <td>None</td>\n",
       "    </tr>\n",
       "    <tr>\n",
       "        <td>postgres</td>\n",
       "        <td>public</td>\n",
       "        <td>products</td>\n",
       "        <td>BASE TABLE</td>\n",
       "        <td>None</td>\n",
       "        <td>None</td>\n",
       "        <td>None</td>\n",
       "        <td>None</td>\n",
       "        <td>None</td>\n",
       "        <td>YES</td>\n",
       "        <td>NO</td>\n",
       "        <td>None</td>\n",
       "    </tr>\n",
       "    <tr>\n",
       "        <td>postgres</td>\n",
       "        <td>public</td>\n",
       "        <td>region</td>\n",
       "        <td>BASE TABLE</td>\n",
       "        <td>None</td>\n",
       "        <td>None</td>\n",
       "        <td>None</td>\n",
       "        <td>None</td>\n",
       "        <td>None</td>\n",
       "        <td>YES</td>\n",
       "        <td>NO</td>\n",
       "        <td>None</td>\n",
       "    </tr>\n",
       "    <tr>\n",
       "        <td>postgres</td>\n",
       "        <td>public</td>\n",
       "        <td>shippers</td>\n",
       "        <td>BASE TABLE</td>\n",
       "        <td>None</td>\n",
       "        <td>None</td>\n",
       "        <td>None</td>\n",
       "        <td>None</td>\n",
       "        <td>None</td>\n",
       "        <td>YES</td>\n",
       "        <td>NO</td>\n",
       "        <td>None</td>\n",
       "    </tr>\n",
       "    <tr>\n",
       "        <td>postgres</td>\n",
       "        <td>public</td>\n",
       "        <td>suppliers</td>\n",
       "        <td>BASE TABLE</td>\n",
       "        <td>None</td>\n",
       "        <td>None</td>\n",
       "        <td>None</td>\n",
       "        <td>None</td>\n",
       "        <td>None</td>\n",
       "        <td>YES</td>\n",
       "        <td>NO</td>\n",
       "        <td>None</td>\n",
       "    </tr>\n",
       "    <tr>\n",
       "        <td>postgres</td>\n",
       "        <td>public</td>\n",
       "        <td>territories</td>\n",
       "        <td>BASE TABLE</td>\n",
       "        <td>None</td>\n",
       "        <td>None</td>\n",
       "        <td>None</td>\n",
       "        <td>None</td>\n",
       "        <td>None</td>\n",
       "        <td>YES</td>\n",
       "        <td>NO</td>\n",
       "        <td>None</td>\n",
       "    </tr>\n",
       "    <tr>\n",
       "        <td>postgres</td>\n",
       "        <td>public</td>\n",
       "        <td>movies</td>\n",
       "        <td>BASE TABLE</td>\n",
       "        <td>None</td>\n",
       "        <td>None</td>\n",
       "        <td>None</td>\n",
       "        <td>None</td>\n",
       "        <td>None</td>\n",
       "        <td>YES</td>\n",
       "        <td>NO</td>\n",
       "        <td>None</td>\n",
       "    </tr>\n",
       "    <tr>\n",
       "        <td>postgres</td>\n",
       "        <td>public</td>\n",
       "        <td>credits</td>\n",
       "        <td>BASE TABLE</td>\n",
       "        <td>None</td>\n",
       "        <td>None</td>\n",
       "        <td>None</td>\n",
       "        <td>None</td>\n",
       "        <td>None</td>\n",
       "        <td>YES</td>\n",
       "        <td>NO</td>\n",
       "        <td>None</td>\n",
       "    </tr>\n",
       "    <tr>\n",
       "        <td>postgres</td>\n",
       "        <td>public</td>\n",
       "        <td>stars_in</td>\n",
       "        <td>BASE TABLE</td>\n",
       "        <td>None</td>\n",
       "        <td>None</td>\n",
       "        <td>None</td>\n",
       "        <td>None</td>\n",
       "        <td>None</td>\n",
       "        <td>YES</td>\n",
       "        <td>NO</td>\n",
       "        <td>None</td>\n",
       "    </tr>\n",
       "    <tr>\n",
       "        <td>postgres</td>\n",
       "        <td>public</td>\n",
       "        <td>stations</td>\n",
       "        <td>BASE TABLE</td>\n",
       "        <td>None</td>\n",
       "        <td>None</td>\n",
       "        <td>None</td>\n",
       "        <td>None</td>\n",
       "        <td>None</td>\n",
       "        <td>YES</td>\n",
       "        <td>NO</td>\n",
       "        <td>None</td>\n",
       "    </tr>\n",
       "</table>"
      ],
      "text/plain": [
       "[('postgres', 'public', 'categories', 'BASE TABLE', None, None, None, None, None, 'YES', 'NO', None),\n",
       " ('postgres', 'public', 'customers', 'BASE TABLE', None, None, None, None, None, 'YES', 'NO', None),\n",
       " ('postgres', 'public', 'nwemployees', 'BASE TABLE', None, None, None, None, None, 'YES', 'NO', None),\n",
       " ('postgres', 'public', 'employeeterritories', 'BASE TABLE', None, None, None, None, None, 'YES', 'NO', None),\n",
       " ('postgres', 'public', 'order_details', 'BASE TABLE', None, None, None, None, None, 'YES', 'NO', None),\n",
       " ('postgres', 'public', 'orders', 'BASE TABLE', None, None, None, None, None, 'YES', 'NO', None),\n",
       " ('postgres', 'public', 'products', 'BASE TABLE', None, None, None, None, None, 'YES', 'NO', None),\n",
       " ('postgres', 'public', 'region', 'BASE TABLE', None, None, None, None, None, 'YES', 'NO', None),\n",
       " ('postgres', 'public', 'shippers', 'BASE TABLE', None, None, None, None, None, 'YES', 'NO', None),\n",
       " ('postgres', 'public', 'suppliers', 'BASE TABLE', None, None, None, None, None, 'YES', 'NO', None),\n",
       " ('postgres', 'public', 'territories', 'BASE TABLE', None, None, None, None, None, 'YES', 'NO', None),\n",
       " ('postgres', 'public', 'movies', 'BASE TABLE', None, None, None, None, None, 'YES', 'NO', None),\n",
       " ('postgres', 'public', 'credits', 'BASE TABLE', None, None, None, None, None, 'YES', 'NO', None),\n",
       " ('postgres', 'public', 'stars_in', 'BASE TABLE', None, None, None, None, None, 'YES', 'NO', None),\n",
       " ('postgres', 'public', 'stations', 'BASE TABLE', None, None, None, None, None, 'YES', 'NO', None)]"
      ]
     },
     "execution_count": 2,
     "metadata": {},
     "output_type": "execute_result"
    }
   ],
   "source": [
    "%%sql\n",
    "\n",
    "SELECT * \n",
    "FROM INFORMATION_SCHEMA.TABLES \n",
    "WHERE TABLE_TYPE = 'BASE TABLE' and TABLE_CATALOG = 'postgres' and TABLE_SCHEMA = 'public'\n",
    "LIMIT 15;"
   ]
  },
  {
   "cell_type": "markdown",
   "metadata": {},
   "source": [
    "To print the attributes of a particular table ('categories', for example) run:"
   ]
  },
  {
   "cell_type": "code",
   "execution_count": 3,
   "metadata": {},
   "outputs": [
    {
     "name": "stdout",
     "output_type": "stream",
     "text": [
      " * postgresql://postgres:***@db\n",
      "3 rows affected.\n"
     ]
    },
    {
     "data": {
      "text/html": [
       "<table>\n",
       "    <tr>\n",
       "        <th>column_name</th>\n",
       "        <th>data_type</th>\n",
       "        <th>character_maximum_length</th>\n",
       "    </tr>\n",
       "    <tr>\n",
       "        <td>categoryid</td>\n",
       "        <td>smallint</td>\n",
       "        <td>None</td>\n",
       "    </tr>\n",
       "    <tr>\n",
       "        <td>categoryname</td>\n",
       "        <td>character varying</td>\n",
       "        <td>15</td>\n",
       "    </tr>\n",
       "    <tr>\n",
       "        <td>description</td>\n",
       "        <td>text</td>\n",
       "        <td>None</td>\n",
       "    </tr>\n",
       "</table>"
      ],
      "text/plain": [
       "[('categoryid', 'smallint', None),\n",
       " ('categoryname', 'character varying', 15),\n",
       " ('description', 'text', None)]"
      ]
     },
     "execution_count": 3,
     "metadata": {},
     "output_type": "execute_result"
    }
   ],
   "source": [
    "%%sql\n",
    "SELECT column_name, data_type, character_maximum_length\n",
    "FROM INFORMATION_SCHEMA.COLUMNS \n",
    "WHERE table_name = 'categories';"
   ]
  },
  {
   "cell_type": "markdown",
   "metadata": {},
   "source": [
    "For example, this is a valid PostgreSQL query to select one output entry:"
   ]
  },
  {
   "cell_type": "code",
   "execution_count": 4,
   "metadata": {},
   "outputs": [
    {
     "name": "stdout",
     "output_type": "stream",
     "text": [
      " * postgresql://postgres:***@db\n",
      "4 rows affected.\n"
     ]
    },
    {
     "data": {
      "text/html": [
       "<table>\n",
       "    <tr>\n",
       "        <th>categoryid</th>\n",
       "        <th>categoryname</th>\n",
       "        <th>description</th>\n",
       "    </tr>\n",
       "    <tr>\n",
       "        <td>1</td>\n",
       "        <td>Beverages</td>\n",
       "        <td>Soft drinks, coffees, teas, beers, and ales</td>\n",
       "    </tr>\n",
       "    <tr>\n",
       "        <td>2</td>\n",
       "        <td>Condiments</td>\n",
       "        <td>Sweet and savory sauces, relishes, spreads, and seasonings</td>\n",
       "    </tr>\n",
       "    <tr>\n",
       "        <td>3</td>\n",
       "        <td>Confections</td>\n",
       "        <td>Desserts, candies, and sweet breads</td>\n",
       "    </tr>\n",
       "    <tr>\n",
       "        <td>4</td>\n",
       "        <td>Dairy Products</td>\n",
       "        <td>Cheeses</td>\n",
       "    </tr>\n",
       "</table>"
      ],
      "text/plain": [
       "[(1, 'Beverages', 'Soft drinks, coffees, teas, beers, and ales'),\n",
       " (2, 'Condiments', 'Sweet and savory sauces, relishes, spreads, and seasonings'),\n",
       " (3, 'Confections', 'Desserts, candies, and sweet breads'),\n",
       " (4, 'Dairy Products', 'Cheeses')]"
      ]
     },
     "execution_count": 4,
     "metadata": {},
     "output_type": "execute_result"
    }
   ],
   "source": [
    "%%sql\n",
    "SELECT * \n",
    "FROM categories\n",
    "LIMIT 4;"
   ]
  },
  {
   "cell_type": "markdown",
   "metadata": {},
   "source": [
    "A more complex PostgreSQL query joining several tables would look like this:"
   ]
  },
  {
   "cell_type": "code",
   "execution_count": 5,
   "metadata": {},
   "outputs": [
    {
     "name": "stdout",
     "output_type": "stream",
     "text": [
      " * postgresql://postgres:***@db\n",
      "4 rows affected.\n"
     ]
    },
    {
     "data": {
      "text/html": [
       "<table>\n",
       "    <tr>\n",
       "        <th>lastname</th>\n",
       "        <th>firstname</th>\n",
       "        <th>territorydescription</th>\n",
       "        <th>regiondescription</th>\n",
       "    </tr>\n",
       "    <tr>\n",
       "        <td>Buchanan</td>\n",
       "        <td>Steven</td>\n",
       "        <td>Morristown</td>\n",
       "        <td>Eastern</td>\n",
       "    </tr>\n",
       "    <tr>\n",
       "        <td>Buchanan</td>\n",
       "        <td>Steven</td>\n",
       "        <td>Edison</td>\n",
       "        <td>Eastern</td>\n",
       "    </tr>\n",
       "    <tr>\n",
       "        <td>Buchanan</td>\n",
       "        <td>Steven</td>\n",
       "        <td>Providence</td>\n",
       "        <td>Eastern</td>\n",
       "    </tr>\n",
       "    <tr>\n",
       "        <td>Buchanan</td>\n",
       "        <td>Steven</td>\n",
       "        <td>New York</td>\n",
       "        <td>Eastern</td>\n",
       "    </tr>\n",
       "</table>"
      ],
      "text/plain": [
       "[('Buchanan', 'Steven', 'Morristown', 'Eastern'),\n",
       " ('Buchanan', 'Steven', 'Edison', 'Eastern'),\n",
       " ('Buchanan', 'Steven', 'Providence', 'Eastern'),\n",
       " ('Buchanan', 'Steven', 'New York', 'Eastern')]"
      ]
     },
     "execution_count": 5,
     "metadata": {},
     "output_type": "execute_result"
    }
   ],
   "source": [
    "%%sql\n",
    "select lastname, firstname, territorydescription, regiondescription\n",
    "from nwemployees, employeeterritories, territories, region\n",
    "where nwemployees.employeeid = employeeterritories.employeeid and \n",
    "      employeeterritories.territoryid = territories.territoryid and\n",
    "      territories.regionid = region.regionid\n",
    "order by lastname\n",
    "limit 4;"
   ]
  },
  {
   "cell_type": "markdown",
   "metadata": {},
   "source": [
    "##### Note: the examples provided above do not contain all the query operations you might need during the exam.\n",
    "\n",
    "Now its your turn, you can write all your queries in new cells below. Feel free to add as many cells as needed."
   ]
  },
  {
   "cell_type": "markdown",
   "metadata": {},
   "source": [
    "## Products"
   ]
  },
  {
   "cell_type": "code",
   "execution_count": 6,
   "metadata": {},
   "outputs": [
    {
     "name": "stdout",
     "output_type": "stream",
     "text": [
      " * postgresql://postgres:***@db\n",
      "4 rows affected.\n"
     ]
    },
    {
     "data": {
      "text/html": [
       "<table>\n",
       "    <tr>\n",
       "        <th>productid</th>\n",
       "        <th>productname</th>\n",
       "        <th>supplierid</th>\n",
       "        <th>categoryid</th>\n",
       "        <th>quantityperunit</th>\n",
       "        <th>unitprice</th>\n",
       "        <th>unitsinstock</th>\n",
       "        <th>unitsonorder</th>\n",
       "        <th>reorderlevel</th>\n",
       "        <th>discontinued</th>\n",
       "    </tr>\n",
       "    <tr>\n",
       "        <td>1</td>\n",
       "        <td>Chai</td>\n",
       "        <td>8</td>\n",
       "        <td>1</td>\n",
       "        <td>10 boxes x 30 bags</td>\n",
       "        <td>18.0</td>\n",
       "        <td>39</td>\n",
       "        <td>0</td>\n",
       "        <td>10</td>\n",
       "        <td>1</td>\n",
       "    </tr>\n",
       "    <tr>\n",
       "        <td>2</td>\n",
       "        <td>Chang</td>\n",
       "        <td>1</td>\n",
       "        <td>1</td>\n",
       "        <td>24 - 12 oz bottles</td>\n",
       "        <td>19.0</td>\n",
       "        <td>17</td>\n",
       "        <td>40</td>\n",
       "        <td>25</td>\n",
       "        <td>1</td>\n",
       "    </tr>\n",
       "    <tr>\n",
       "        <td>3</td>\n",
       "        <td>Aniseed Syrup</td>\n",
       "        <td>1</td>\n",
       "        <td>2</td>\n",
       "        <td>12 - 550 ml bottles</td>\n",
       "        <td>10.0</td>\n",
       "        <td>13</td>\n",
       "        <td>70</td>\n",
       "        <td>25</td>\n",
       "        <td>0</td>\n",
       "    </tr>\n",
       "    <tr>\n",
       "        <td>4</td>\n",
       "        <td>Chef Anton&#x27;s Cajun Seasoning</td>\n",
       "        <td>2</td>\n",
       "        <td>2</td>\n",
       "        <td>48 - 6 oz jars</td>\n",
       "        <td>22.0</td>\n",
       "        <td>53</td>\n",
       "        <td>0</td>\n",
       "        <td>0</td>\n",
       "        <td>0</td>\n",
       "    </tr>\n",
       "</table>"
      ],
      "text/plain": [
       "[(1, 'Chai', 8, 1, '10 boxes x 30 bags', 18.0, 39, 0, 10, 1),\n",
       " (2, 'Chang', 1, 1, '24 - 12 oz bottles', 19.0, 17, 40, 25, 1),\n",
       " (3, 'Aniseed Syrup', 1, 2, '12 - 550 ml bottles', 10.0, 13, 70, 25, 0),\n",
       " (4, \"Chef Anton's Cajun Seasoning\", 2, 2, '48 - 6 oz jars', 22.0, 53, 0, 0, 0)]"
      ]
     },
     "execution_count": 6,
     "metadata": {},
     "output_type": "execute_result"
    }
   ],
   "source": [
    "%%sql\n",
    "SELECT * FROM products LIMIT 4;"
   ]
  },
  {
   "cell_type": "markdown",
   "metadata": {},
   "source": [
    "## Categories"
   ]
  },
  {
   "cell_type": "code",
   "execution_count": 7,
   "metadata": {},
   "outputs": [
    {
     "name": "stdout",
     "output_type": "stream",
     "text": [
      " * postgresql://postgres:***@db\n",
      "4 rows affected.\n"
     ]
    },
    {
     "data": {
      "text/html": [
       "<table>\n",
       "    <tr>\n",
       "        <th>categoryid</th>\n",
       "        <th>categoryname</th>\n",
       "        <th>description</th>\n",
       "    </tr>\n",
       "    <tr>\n",
       "        <td>1</td>\n",
       "        <td>Beverages</td>\n",
       "        <td>Soft drinks, coffees, teas, beers, and ales</td>\n",
       "    </tr>\n",
       "    <tr>\n",
       "        <td>2</td>\n",
       "        <td>Condiments</td>\n",
       "        <td>Sweet and savory sauces, relishes, spreads, and seasonings</td>\n",
       "    </tr>\n",
       "    <tr>\n",
       "        <td>3</td>\n",
       "        <td>Confections</td>\n",
       "        <td>Desserts, candies, and sweet breads</td>\n",
       "    </tr>\n",
       "    <tr>\n",
       "        <td>4</td>\n",
       "        <td>Dairy Products</td>\n",
       "        <td>Cheeses</td>\n",
       "    </tr>\n",
       "</table>"
      ],
      "text/plain": [
       "[(1, 'Beverages', 'Soft drinks, coffees, teas, beers, and ales'),\n",
       " (2, 'Condiments', 'Sweet and savory sauces, relishes, spreads, and seasonings'),\n",
       " (3, 'Confections', 'Desserts, candies, and sweet breads'),\n",
       " (4, 'Dairy Products', 'Cheeses')]"
      ]
     },
     "execution_count": 7,
     "metadata": {},
     "output_type": "execute_result"
    }
   ],
   "source": [
    "%%sql\n",
    "SELECT * FROM categories LIMIT 4;"
   ]
  },
  {
   "cell_type": "markdown",
   "metadata": {},
   "source": [
    "## Nwemployees"
   ]
  },
  {
   "cell_type": "code",
   "execution_count": 8,
   "metadata": {},
   "outputs": [
    {
     "name": "stdout",
     "output_type": "stream",
     "text": [
      " * postgresql://postgres:***@db\n",
      "1 rows affected.\n"
     ]
    },
    {
     "data": {
      "text/html": [
       "<table>\n",
       "    <tr>\n",
       "        <th>employeeid</th>\n",
       "        <th>lastname</th>\n",
       "        <th>firstname</th>\n",
       "        <th>title</th>\n",
       "        <th>titleofcourtesy</th>\n",
       "        <th>birthdate</th>\n",
       "        <th>hiredate</th>\n",
       "        <th>address</th>\n",
       "        <th>city</th>\n",
       "        <th>region</th>\n",
       "        <th>postalcode</th>\n",
       "        <th>country</th>\n",
       "        <th>homephone</th>\n",
       "        <th>extension</th>\n",
       "        <th>notes</th>\n",
       "        <th>reportsto</th>\n",
       "        <th>photopath</th>\n",
       "    </tr>\n",
       "    <tr>\n",
       "        <td>1</td>\n",
       "        <td>Davolio</td>\n",
       "        <td>Nancy</td>\n",
       "        <td>Sales Representative</td>\n",
       "        <td>Ms.</td>\n",
       "        <td>1948-12-08</td>\n",
       "        <td>1992-05-01</td>\n",
       "        <td>507 - 20th Ave. E.\\nApt. 2A</td>\n",
       "        <td>Seattle</td>\n",
       "        <td>WA</td>\n",
       "        <td>98122</td>\n",
       "        <td>USA</td>\n",
       "        <td>(206) 555-9857</td>\n",
       "        <td>5467</td>\n",
       "        <td>Education includes a BA in psychology from Colorado State University in 1970.  She also completed &quot;The Art of the Cold Call.&quot;  Nancy is a member of Toastmasters International.</td>\n",
       "        <td>2</td>\n",
       "        <td>http://accweb/emmployees/davolio.bmp</td>\n",
       "    </tr>\n",
       "</table>"
      ],
      "text/plain": [
       "[(1, 'Davolio', 'Nancy', 'Sales Representative', 'Ms.', datetime.date(1948, 12, 8), datetime.date(1992, 5, 1), '507 - 20th Ave. E.\\\\nApt. 2A', 'Seattle', 'WA', '98122', 'USA', '(206) 555-9857', '5467', 'Education includes a BA in psychology from Colorado State University in 1970.  She also completed \"The Art of the Cold Call.\"  Nancy is a member of Toastmasters International.', 2, 'http://accweb/emmployees/davolio.bmp')]"
      ]
     },
     "execution_count": 8,
     "metadata": {},
     "output_type": "execute_result"
    }
   ],
   "source": [
    "%%sql\n",
    "SELECT * FROM nwemployees LIMIT 1;"
   ]
  },
  {
   "cell_type": "markdown",
   "metadata": {},
   "source": [
    "## Orders"
   ]
  },
  {
   "cell_type": "code",
   "execution_count": 9,
   "metadata": {},
   "outputs": [
    {
     "name": "stdout",
     "output_type": "stream",
     "text": [
      " * postgresql://postgres:***@db\n",
      "4 rows affected.\n"
     ]
    },
    {
     "data": {
      "text/html": [
       "<table>\n",
       "    <tr>\n",
       "        <th>orderid</th>\n",
       "        <th>customerid</th>\n",
       "        <th>employeeid</th>\n",
       "        <th>orderdate</th>\n",
       "        <th>requireddate</th>\n",
       "        <th>shippeddate</th>\n",
       "        <th>shipvia</th>\n",
       "        <th>freight</th>\n",
       "        <th>shipname</th>\n",
       "        <th>shipaddress</th>\n",
       "        <th>shipcity</th>\n",
       "        <th>shipregion</th>\n",
       "        <th>shippostalcode</th>\n",
       "        <th>shipcountry</th>\n",
       "    </tr>\n",
       "    <tr>\n",
       "        <td>10248</td>\n",
       "        <td>VINET</td>\n",
       "        <td>5</td>\n",
       "        <td>1996-07-04</td>\n",
       "        <td>1996-08-01</td>\n",
       "        <td>1996-07-16</td>\n",
       "        <td>3</td>\n",
       "        <td>32.38</td>\n",
       "        <td>Vins et alcools Chevalier</td>\n",
       "        <td>59 rue de l&#x27;Abbaye</td>\n",
       "        <td>Reims</td>\n",
       "        <td>None</td>\n",
       "        <td>51100</td>\n",
       "        <td>France</td>\n",
       "    </tr>\n",
       "    <tr>\n",
       "        <td>10249</td>\n",
       "        <td>TOMSP</td>\n",
       "        <td>6</td>\n",
       "        <td>1996-07-05</td>\n",
       "        <td>1996-08-16</td>\n",
       "        <td>1996-07-10</td>\n",
       "        <td>1</td>\n",
       "        <td>11.61</td>\n",
       "        <td>Toms Spezialitäten</td>\n",
       "        <td>Luisenstr. 48</td>\n",
       "        <td>Münster</td>\n",
       "        <td>None</td>\n",
       "        <td>44087</td>\n",
       "        <td>Germany</td>\n",
       "    </tr>\n",
       "    <tr>\n",
       "        <td>10250</td>\n",
       "        <td>HANAR</td>\n",
       "        <td>4</td>\n",
       "        <td>1996-07-08</td>\n",
       "        <td>1996-08-05</td>\n",
       "        <td>1996-07-12</td>\n",
       "        <td>2</td>\n",
       "        <td>65.83</td>\n",
       "        <td>Hanari Carnes</td>\n",
       "        <td>Rua do Paço, 67</td>\n",
       "        <td>Rio de Janeiro</td>\n",
       "        <td>RJ</td>\n",
       "        <td>05454-876</td>\n",
       "        <td>Brazil</td>\n",
       "    </tr>\n",
       "    <tr>\n",
       "        <td>10251</td>\n",
       "        <td>VICTE</td>\n",
       "        <td>3</td>\n",
       "        <td>1996-07-08</td>\n",
       "        <td>1996-08-05</td>\n",
       "        <td>1996-07-15</td>\n",
       "        <td>1</td>\n",
       "        <td>41.34</td>\n",
       "        <td>Victuailles en stock</td>\n",
       "        <td>2, rue du Commerce</td>\n",
       "        <td>Lyon</td>\n",
       "        <td>None</td>\n",
       "        <td>69004</td>\n",
       "        <td>France</td>\n",
       "    </tr>\n",
       "</table>"
      ],
      "text/plain": [
       "[(10248, 'VINET', 5, datetime.date(1996, 7, 4), datetime.date(1996, 8, 1), datetime.date(1996, 7, 16), 3, 32.38, 'Vins et alcools Chevalier', \"59 rue de l'Abbaye\", 'Reims', None, '51100', 'France'),\n",
       " (10249, 'TOMSP', 6, datetime.date(1996, 7, 5), datetime.date(1996, 8, 16), datetime.date(1996, 7, 10), 1, 11.61, 'Toms Spezialitäten', 'Luisenstr. 48', 'Münster', None, '44087', 'Germany'),\n",
       " (10250, 'HANAR', 4, datetime.date(1996, 7, 8), datetime.date(1996, 8, 5), datetime.date(1996, 7, 12), 2, 65.83, 'Hanari Carnes', 'Rua do Paço, 67', 'Rio de Janeiro', 'RJ', '05454-876', 'Brazil'),\n",
       " (10251, 'VICTE', 3, datetime.date(1996, 7, 8), datetime.date(1996, 8, 5), datetime.date(1996, 7, 15), 1, 41.34, 'Victuailles en stock', '2, rue du Commerce', 'Lyon', None, '69004', 'France')]"
      ]
     },
     "execution_count": 9,
     "metadata": {},
     "output_type": "execute_result"
    }
   ],
   "source": [
    "%%sql\n",
    "SELECT * FROM orders LIMIT 4;"
   ]
  },
  {
   "cell_type": "markdown",
   "metadata": {},
   "source": [
    "## Order_details"
   ]
  },
  {
   "cell_type": "code",
   "execution_count": 10,
   "metadata": {},
   "outputs": [
    {
     "name": "stdout",
     "output_type": "stream",
     "text": [
      " * postgresql://postgres:***@db\n",
      "4 rows affected.\n"
     ]
    },
    {
     "data": {
      "text/html": [
       "<table>\n",
       "    <tr>\n",
       "        <th>orderid</th>\n",
       "        <th>productid</th>\n",
       "        <th>unitprice</th>\n",
       "        <th>quantity</th>\n",
       "        <th>discount</th>\n",
       "    </tr>\n",
       "    <tr>\n",
       "        <td>10248</td>\n",
       "        <td>11</td>\n",
       "        <td>14.0</td>\n",
       "        <td>12</td>\n",
       "        <td>0.0</td>\n",
       "    </tr>\n",
       "    <tr>\n",
       "        <td>10248</td>\n",
       "        <td>42</td>\n",
       "        <td>9.8</td>\n",
       "        <td>10</td>\n",
       "        <td>0.0</td>\n",
       "    </tr>\n",
       "    <tr>\n",
       "        <td>10248</td>\n",
       "        <td>72</td>\n",
       "        <td>34.8</td>\n",
       "        <td>5</td>\n",
       "        <td>0.0</td>\n",
       "    </tr>\n",
       "    <tr>\n",
       "        <td>10249</td>\n",
       "        <td>14</td>\n",
       "        <td>18.6</td>\n",
       "        <td>9</td>\n",
       "        <td>0.0</td>\n",
       "    </tr>\n",
       "</table>"
      ],
      "text/plain": [
       "[(10248, 11, 14.0, 12, 0.0),\n",
       " (10248, 42, 9.8, 10, 0.0),\n",
       " (10248, 72, 34.8, 5, 0.0),\n",
       " (10249, 14, 18.6, 9, 0.0)]"
      ]
     },
     "execution_count": 10,
     "metadata": {},
     "output_type": "execute_result"
    }
   ],
   "source": [
    "%%sql\n",
    "SELECT * FROM order_details LIMIT 4;"
   ]
  },
  {
   "cell_type": "markdown",
   "metadata": {},
   "source": [
    "---"
   ]
  },
  {
   "cell_type": "markdown",
   "metadata": {},
   "source": [
    "# Round 1"
   ]
  },
  {
   "cell_type": "code",
   "execution_count": 11,
   "metadata": {},
   "outputs": [
    {
     "name": "stdout",
     "output_type": "stream",
     "text": [
      " * postgresql://postgres:***@db\n",
      "1 rows affected.\n"
     ]
    },
    {
     "data": {
      "text/html": [
       "<table>\n",
       "    <tr>\n",
       "        <th>count</th>\n",
       "    </tr>\n",
       "    <tr>\n",
       "        <td>77</td>\n",
       "    </tr>\n",
       "</table>"
      ],
      "text/plain": [
       "[(77,)]"
      ]
     },
     "execution_count": 11,
     "metadata": {},
     "output_type": "execute_result"
    }
   ],
   "source": [
    "%%sql\n",
    "SELECT COUNT(*)\n",
    "FROM products p\n",
    "JOIN categories c\n",
    "ON p.categoryid = c.categoryid"
   ]
  },
  {
   "cell_type": "code",
   "execution_count": 12,
   "metadata": {},
   "outputs": [
    {
     "name": "stdout",
     "output_type": "stream",
     "text": [
      " * postgresql://postgres:***@db\n",
      "5 rows affected.\n"
     ]
    },
    {
     "data": {
      "text/html": [
       "<table>\n",
       "    <tr>\n",
       "        <th>employeeid</th>\n",
       "        <th>firstname</th>\n",
       "        <th>sum</th>\n",
       "    </tr>\n",
       "    <tr>\n",
       "        <td>4</td>\n",
       "        <td>Margaret</td>\n",
       "        <td>250187.4502530098</td>\n",
       "    </tr>\n",
       "    <tr>\n",
       "        <td>3</td>\n",
       "        <td>Janet</td>\n",
       "        <td>213051.2994799614</td>\n",
       "    </tr>\n",
       "    <tr>\n",
       "        <td>1</td>\n",
       "        <td>Nancy</td>\n",
       "        <td>202143.7103085518</td>\n",
       "    </tr>\n",
       "    <tr>\n",
       "        <td>2</td>\n",
       "        <td>Andrew</td>\n",
       "        <td>177749.2604765892</td>\n",
       "    </tr>\n",
       "    <tr>\n",
       "        <td>7</td>\n",
       "        <td>Robert</td>\n",
       "        <td>141295.99010276794</td>\n",
       "    </tr>\n",
       "</table>"
      ],
      "text/plain": [
       "[(4, 'Margaret', 250187.4502530098),\n",
       " (3, 'Janet', 213051.2994799614),\n",
       " (1, 'Nancy', 202143.7103085518),\n",
       " (2, 'Andrew', 177749.2604765892),\n",
       " (7, 'Robert', 141295.99010276794)]"
      ]
     },
     "execution_count": 12,
     "metadata": {},
     "output_type": "execute_result"
    }
   ],
   "source": [
    "%%sql\n",
    "SELECT e.employeeid, e.firstname, SUM(unitprice * quantity)\n",
    "FROM nwemployees e\n",
    "JOIN orders o \n",
    "ON e.employeeid = o.employeeid\n",
    "JOIN order_details od\n",
    "ON o.orderid = od.orderid\n",
    "GROUP BY e.employeeid, e.firstname\n",
    "ORDER BY SUM(unitprice * quantity) DESC\n",
    "LIMIT 5;"
   ]
  },
  {
   "cell_type": "code",
   "execution_count": 13,
   "metadata": {},
   "outputs": [
    {
     "name": "stdout",
     "output_type": "stream",
     "text": [
      " * postgresql://postgres:***@db\n",
      "1 rows affected.\n"
     ]
    },
    {
     "data": {
      "text/html": [
       "<table>\n",
       "    <tr>\n",
       "        <th>count</th>\n",
       "    </tr>\n",
       "    <tr>\n",
       "        <td>77</td>\n",
       "    </tr>\n",
       "</table>"
      ],
      "text/plain": [
       "[(77,)]"
      ]
     },
     "execution_count": 13,
     "metadata": {},
     "output_type": "execute_result"
    }
   ],
   "source": [
    "%%sql\n",
    "SELECT COUNT(*)\n",
    "FROM nwemployees NATURAL JOIN products\n",
    "WHERE titleofcourtesy = 'Mrs.';"
   ]
  },
  {
   "cell_type": "code",
   "execution_count": 14,
   "metadata": {},
   "outputs": [
    {
     "name": "stdout",
     "output_type": "stream",
     "text": [
      " * postgresql://postgres:***@db\n",
      "5 rows affected.\n"
     ]
    },
    {
     "data": {
      "text/html": [
       "<table>\n",
       "    <tr>\n",
       "        <th>categoryname</th>\n",
       "        <th>sum</th>\n",
       "    </tr>\n",
       "    <tr>\n",
       "        <td>Beverages</td>\n",
       "        <td>6669</td>\n",
       "    </tr>\n",
       "    <tr>\n",
       "        <td>Condiments</td>\n",
       "        <td>3370</td>\n",
       "    </tr>\n",
       "    <tr>\n",
       "        <td>Confections</td>\n",
       "        <td>5176</td>\n",
       "    </tr>\n",
       "    <tr>\n",
       "        <td>Dairy Products</td>\n",
       "        <td>6006</td>\n",
       "    </tr>\n",
       "    <tr>\n",
       "        <td>Grains/Cereals</td>\n",
       "        <td>3317</td>\n",
       "    </tr>\n",
       "</table>"
      ],
      "text/plain": [
       "[('Beverages', 6669),\n",
       " ('Condiments', 3370),\n",
       " ('Confections', 5176),\n",
       " ('Dairy Products', 6006),\n",
       " ('Grains/Cereals', 3317)]"
      ]
     },
     "execution_count": 14,
     "metadata": {},
     "output_type": "execute_result"
    }
   ],
   "source": [
    "%%sql\n",
    "SELECT c.categoryname, s.sum\n",
    "FROM categories c\n",
    "JOIN\n",
    "    (SELECT categoryid, SUM(quantity)\n",
    "    FROM nwemployees NATURAL JOIN products NATURAL JOIN order_details\n",
    "    WHERE firstname = 'Robert'\n",
    "    GROUP BY categoryid \n",
    "    ORDER BY SUM(quantity) DESC) s\n",
    "ON c.categoryid = s.categoryid\n",
    "LIMIT 5;"
   ]
  },
  {
   "cell_type": "code",
   "execution_count": 15,
   "metadata": {
    "scrolled": true
   },
   "outputs": [
    {
     "name": "stdout",
     "output_type": "stream",
     "text": [
      " * postgresql://postgres:***@db\n",
      "1 rows affected.\n"
     ]
    },
    {
     "data": {
      "text/html": [
       "<table>\n",
       "    <tr>\n",
       "        <th>count</th>\n",
       "    </tr>\n",
       "    <tr>\n",
       "        <td>6</td>\n",
       "    </tr>\n",
       "</table>"
      ],
      "text/plain": [
       "[(6,)]"
      ]
     },
     "execution_count": 15,
     "metadata": {},
     "output_type": "execute_result"
    }
   ],
   "source": [
    "%%sql\n",
    "SELECT COUNT(*) \n",
    "FROM orders\n",
    "WHERE EXTRACT(MONTH FROM orderdate) = 3 AND shippeddate >= requireddate\n",
    "\n"
   ]
  },
  {
   "cell_type": "code",
   "execution_count": 16,
   "metadata": {},
   "outputs": [
    {
     "name": "stdout",
     "output_type": "stream",
     "text": [
      " * postgresql://postgres:***@db\n",
      "1 rows affected.\n"
     ]
    },
    {
     "data": {
      "text/html": [
       "<table>\n",
       "    <tr>\n",
       "        <th>count</th>\n",
       "    </tr>\n",
       "    <tr>\n",
       "        <td>10</td>\n",
       "    </tr>\n",
       "</table>"
      ],
      "text/plain": [
       "[(10,)]"
      ]
     },
     "execution_count": 16,
     "metadata": {},
     "output_type": "execute_result"
    }
   ],
   "source": [
    "%%sql\n",
    "SELECT COUNT(*)\n",
    "FROM \n",
    "    (SELECT s.supplierid, COUNT(DISTINCT productid)\n",
    "    FROM suppliers s\n",
    "    JOIN products p\n",
    "    ON s.supplierid = p.supplierid\n",
    "    WHERE p.discontinued != 1\n",
    "    GROUP BY s.supplierid\n",
    "    HAVING COUNT(DISTINCT productid) = 3)"
   ]
  },
  {
   "cell_type": "code",
   "execution_count": 17,
   "metadata": {},
   "outputs": [
    {
     "name": "stdout",
     "output_type": "stream",
     "text": [
      " * postgresql://postgres:***@db\n",
      "1 rows affected.\n"
     ]
    },
    {
     "data": {
      "text/html": [
       "<table>\n",
       "    <tr>\n",
       "        <th>territorydescription</th>\n",
       "    </tr>\n",
       "    <tr>\n",
       "        <td>Cambridge</td>\n",
       "    </tr>\n",
       "</table>"
      ],
      "text/plain": [
       "[('Cambridge',)]"
      ]
     },
     "execution_count": 17,
     "metadata": {},
     "output_type": "execute_result"
    }
   ],
   "source": [
    "%%sql\n",
    "SELECT t.territorydescription\n",
    "FROM nwemployees e\n",
    "JOIN employeeterritories et\n",
    "ON e.employeeid = et.employeeid\n",
    "JOIN territories t\n",
    "ON t.territoryid = et.territoryid\n",
    "WHERE title != 'Sales Representative'\n",
    "ORDER BY t.territorydescription ASC\n",
    "LIMIT 1 OFFSET 4;"
   ]
  },
  {
   "cell_type": "code",
   "execution_count": 18,
   "metadata": {},
   "outputs": [
    {
     "name": "stdout",
     "output_type": "stream",
     "text": [
      " * postgresql://postgres:***@db\n",
      "1 rows affected.\n"
     ]
    },
    {
     "data": {
      "text/html": [
       "<table>\n",
       "    <tr>\n",
       "        <th>count</th>\n",
       "    </tr>\n",
       "    <tr>\n",
       "        <td>323</td>\n",
       "    </tr>\n",
       "</table>"
      ],
      "text/plain": [
       "[(323,)]"
      ]
     },
     "execution_count": 18,
     "metadata": {},
     "output_type": "execute_result"
    }
   ],
   "source": [
    "%%sql\n",
    "SELECT COUNT(*)\n",
    "FROM \n",
    "    (SELECT o.orderid, SUM(quantity)\n",
    "    FROM orders o\n",
    "    JOIN order_details od\n",
    "    ON o.orderid = od.orderid\n",
    "    WHERE discount != 0 IS TRUE \n",
    "    GROUP BY o.orderid) d\n",
    "JOIN\n",
    "    (SELECT o.orderid, SUM(quantity)\n",
    "    FROM orders o\n",
    "    JOIN order_details od\n",
    "    ON o.orderid = od.orderid\n",
    "    GROUP BY o.orderid) w\n",
    "ON d.orderid = w.orderid\n",
    "WHERE CAST(d.sum AS NUMERIC) / w.sum >= 0.5"
   ]
  },
  {
   "cell_type": "code",
   "execution_count": 19,
   "metadata": {},
   "outputs": [
    {
     "name": "stdout",
     "output_type": "stream",
     "text": [
      " * postgresql://postgres:***@db\n",
      "3 rows affected.\n"
     ]
    },
    {
     "data": {
      "text/html": [
       "<table>\n",
       "    <tr>\n",
       "        <th>customerid</th>\n",
       "        <th>count</th>\n",
       "    </tr>\n",
       "    <tr>\n",
       "        <td>ERNSH</td>\n",
       "        <td>19</td>\n",
       "    </tr>\n",
       "    <tr>\n",
       "        <td>SAVEA</td>\n",
       "        <td>19</td>\n",
       "    </tr>\n",
       "    <tr>\n",
       "        <td>QUICK</td>\n",
       "        <td>18</td>\n",
       "    </tr>\n",
       "</table>"
      ],
      "text/plain": [
       "[('ERNSH', 19), ('SAVEA', 19), ('QUICK', 18)]"
      ]
     },
     "execution_count": 19,
     "metadata": {},
     "output_type": "execute_result"
    }
   ],
   "source": [
    "%%sql\n",
    "SELECT customerid, COUNT(orderid)\n",
    "FROM orders\n",
    "WHERE orderid IN\n",
    "    (SELECT o.orderid\n",
    "    FROM orders o\n",
    "    JOIN order_details od\n",
    "    ON o.orderid = od.orderid\n",
    "    WHERE discount != 0)\n",
    "GROUP BY customerid\n",
    "ORDER BY COUNT(orderid) DESC\n",
    "LIMIT 3;"
   ]
  },
  {
   "cell_type": "code",
   "execution_count": 20,
   "metadata": {},
   "outputs": [
    {
     "name": "stdout",
     "output_type": "stream",
     "text": [
      " * postgresql://postgres:***@db\n",
      "1 rows affected.\n"
     ]
    },
    {
     "data": {
      "text/html": [
       "<table>\n",
       "    <tr>\n",
       "        <th>count</th>\n",
       "    </tr>\n",
       "    <tr>\n",
       "        <td>1825</td>\n",
       "    </tr>\n",
       "</table>"
      ],
      "text/plain": [
       "[(1825,)]"
      ]
     },
     "execution_count": 20,
     "metadata": {},
     "output_type": "execute_result"
    }
   ],
   "source": [
    "%%sql\n",
    "SELECT COUNT(*)\n",
    "FROM \n",
    "    (SELECT DISTINCT productid, unitprice, quantity, discount\n",
    "    FROM order_details)"
   ]
  },
  {
   "cell_type": "markdown",
   "metadata": {},
   "source": [
    "---"
   ]
  },
  {
   "cell_type": "markdown",
   "metadata": {},
   "source": [
    "# Round 2"
   ]
  },
  {
   "cell_type": "code",
   "execution_count": 21,
   "metadata": {},
   "outputs": [
    {
     "name": "stdout",
     "output_type": "stream",
     "text": [
      " * postgresql://postgres:***@db\n",
      "1 rows affected.\n"
     ]
    },
    {
     "data": {
      "text/html": [
       "<table>\n",
       "    <tr>\n",
       "        <th>count</th>\n",
       "    </tr>\n",
       "    <tr>\n",
       "        <td>77</td>\n",
       "    </tr>\n",
       "</table>"
      ],
      "text/plain": [
       "[(77,)]"
      ]
     },
     "execution_count": 21,
     "metadata": {},
     "output_type": "execute_result"
    }
   ],
   "source": [
    "%%sql\n",
    "SELECT COUNT(*)\n",
    "FROM products p\n",
    "NATURAL JOIN categories c\n",
    "LIMIT 10;"
   ]
  },
  {
   "cell_type": "code",
   "execution_count": 22,
   "metadata": {},
   "outputs": [
    {
     "name": "stdout",
     "output_type": "stream",
     "text": [
      " * postgresql://postgres:***@db\n",
      "9 rows affected.\n"
     ]
    },
    {
     "data": {
      "text/html": [
       "<table>\n",
       "    <tr>\n",
       "        <th>firstname</th>\n",
       "        <th>tot_val</th>\n",
       "    </tr>\n",
       "    <tr>\n",
       "        <td>Margaret</td>\n",
       "        <td>250187</td>\n",
       "    </tr>\n",
       "    <tr>\n",
       "        <td>Janet</td>\n",
       "        <td>213051</td>\n",
       "    </tr>\n",
       "    <tr>\n",
       "        <td>Nancy</td>\n",
       "        <td>202144</td>\n",
       "    </tr>\n",
       "    <tr>\n",
       "        <td>Andrew</td>\n",
       "        <td>177749</td>\n",
       "    </tr>\n",
       "    <tr>\n",
       "        <td>Robert</td>\n",
       "        <td>141296</td>\n",
       "    </tr>\n",
       "    <tr>\n",
       "        <td>Laura</td>\n",
       "        <td>133301</td>\n",
       "    </tr>\n",
       "    <tr>\n",
       "        <td>Anne</td>\n",
       "        <td>82964</td>\n",
       "    </tr>\n",
       "    <tr>\n",
       "        <td>Michael</td>\n",
       "        <td>78198</td>\n",
       "    </tr>\n",
       "    <tr>\n",
       "        <td>Steven</td>\n",
       "        <td>75568</td>\n",
       "    </tr>\n",
       "</table>"
      ],
      "text/plain": [
       "[('Margaret', 250187),\n",
       " ('Janet', 213051),\n",
       " ('Nancy', 202144),\n",
       " ('Andrew', 177749),\n",
       " ('Robert', 141296),\n",
       " ('Laura', 133301),\n",
       " ('Anne', 82964),\n",
       " ('Michael', 78198),\n",
       " ('Steven', 75568)]"
      ]
     },
     "execution_count": 22,
     "metadata": {},
     "output_type": "execute_result"
    }
   ],
   "source": [
    "%%sql\n",
    "SELECT e.firstname, CAST(SUM(unitprice * quantity) AS int) AS tot_val\n",
    "FROM nwemployees e\n",
    "JOIN orders o\n",
    "ON o.employeeid = e.employeeid\n",
    "JOIN order_details od\n",
    "ON o.orderid = od.orderid\n",
    "GROUP BY e.firstname\n",
    "ORDER BY tot_val DESC\n",
    "LIMIT 10;"
   ]
  },
  {
   "cell_type": "code",
   "execution_count": 23,
   "metadata": {},
   "outputs": [
    {
     "name": "stdout",
     "output_type": "stream",
     "text": [
      " * postgresql://postgres:***@db\n",
      "1 rows affected.\n"
     ]
    },
    {
     "data": {
      "text/html": [
       "<table>\n",
       "    <tr>\n",
       "        <th>count</th>\n",
       "    </tr>\n",
       "    <tr>\n",
       "        <td>77</td>\n",
       "    </tr>\n",
       "</table>"
      ],
      "text/plain": [
       "[(77,)]"
      ]
     },
     "execution_count": 23,
     "metadata": {},
     "output_type": "execute_result"
    }
   ],
   "source": [
    "%%sql\n",
    "SELECT COUNT(*)\n",
    "FROM nwemployees\n",
    "NATURAL JOIN products p1 \n",
    "NATURAL JOIN products p2\n",
    "NATURAL JOIN products p3\n",
    "NATURAL JOIN products p4\n",
    "NATURAL JOIN products p5\n",
    "NATURAL JOIN products p6\n",
    "WHERE titleofcourtesy = 'Mrs.'\n",
    "LIMIT 10;"
   ]
  },
  {
   "cell_type": "code",
   "execution_count": 24,
   "metadata": {},
   "outputs": [
    {
     "name": "stdout",
     "output_type": "stream",
     "text": [
      " * postgresql://postgres:***@db\n",
      "8 rows affected.\n"
     ]
    },
    {
     "data": {
      "text/html": [
       "<table>\n",
       "    <tr>\n",
       "        <th>categoryname</th>\n",
       "        <th>tot_quant</th>\n",
       "    </tr>\n",
       "    <tr>\n",
       "        <td>Dairy Products</td>\n",
       "        <td>724</td>\n",
       "    </tr>\n",
       "    <tr>\n",
       "        <td>Beverages</td>\n",
       "        <td>610</td>\n",
       "    </tr>\n",
       "    <tr>\n",
       "        <td>Confections</td>\n",
       "        <td>607</td>\n",
       "    </tr>\n",
       "    <tr>\n",
       "        <td>Seafood</td>\n",
       "        <td>488</td>\n",
       "    </tr>\n",
       "    <tr>\n",
       "        <td>Meat/Poultry</td>\n",
       "        <td>345</td>\n",
       "    </tr>\n",
       "    <tr>\n",
       "        <td>Condiments</td>\n",
       "        <td>331</td>\n",
       "    </tr>\n",
       "    <tr>\n",
       "        <td>Grains/Cereals</td>\n",
       "        <td>262</td>\n",
       "    </tr>\n",
       "    <tr>\n",
       "        <td>Produce</td>\n",
       "        <td>134</td>\n",
       "    </tr>\n",
       "</table>"
      ],
      "text/plain": [
       "[('Dairy Products', 724),\n",
       " ('Beverages', 610),\n",
       " ('Confections', 607),\n",
       " ('Seafood', 488),\n",
       " ('Meat/Poultry', 345),\n",
       " ('Condiments', 331),\n",
       " ('Grains/Cereals', 262),\n",
       " ('Produce', 134)]"
      ]
     },
     "execution_count": 24,
     "metadata": {},
     "output_type": "execute_result"
    }
   ],
   "source": [
    "%%sql\n",
    "SELECT categoryname, SUM(quantity) AS tot_quant\n",
    "FROM nwemployees e\n",
    "JOIN orders o\n",
    "ON e.employeeid = o.employeeid\n",
    "JOIN order_details od\n",
    "ON o.orderid = od.orderid\n",
    "NATURAL JOIN products\n",
    "NATURAL JOIN categories\n",
    "WHERE e.firstname = 'Robert'\n",
    "GROUP BY categoryname\n",
    "ORDER BY tot_quant DESC\n",
    "LIMIT 10;"
   ]
  },
  {
   "cell_type": "code",
   "execution_count": 25,
   "metadata": {},
   "outputs": [
    {
     "name": "stdout",
     "output_type": "stream",
     "text": [
      " * postgresql://postgres:***@db\n",
      "1 rows affected.\n"
     ]
    },
    {
     "data": {
      "text/html": [
       "<table>\n",
       "    <tr>\n",
       "        <th>count</th>\n",
       "    </tr>\n",
       "    <tr>\n",
       "        <td>6</td>\n",
       "    </tr>\n",
       "</table>"
      ],
      "text/plain": [
       "[(6,)]"
      ]
     },
     "execution_count": 25,
     "metadata": {},
     "output_type": "execute_result"
    }
   ],
   "source": [
    "%%sql\n",
    "SELECT COUNT(*)\n",
    "FROM orders\n",
    "WHERE requireddate <= shippeddate AND EXTRACT(month FROM orderdate) = 3\n",
    "LIMIT 10;"
   ]
  },
  {
   "cell_type": "code",
   "execution_count": 26,
   "metadata": {},
   "outputs": [
    {
     "name": "stdout",
     "output_type": "stream",
     "text": [
      " * postgresql://postgres:***@db\n",
      "1 rows affected.\n"
     ]
    },
    {
     "data": {
      "text/html": [
       "<table>\n",
       "    <tr>\n",
       "        <th>count</th>\n",
       "    </tr>\n",
       "    <tr>\n",
       "        <td>10</td>\n",
       "    </tr>\n",
       "</table>"
      ],
      "text/plain": [
       "[(10,)]"
      ]
     },
     "execution_count": 26,
     "metadata": {},
     "output_type": "execute_result"
    }
   ],
   "source": [
    "%%sql\n",
    "SELECT COUNT(*)\n",
    "FROM\n",
    "    (SELECT supplierid\n",
    "    FROM suppliers\n",
    "    NATURAL JOIN products\n",
    "    WHERE discontinued != 1\n",
    "    GROUP BY supplierid\n",
    "    HAVING COUNT(DISTINCT productid) = 3)"
   ]
  },
  {
   "cell_type": "code",
   "execution_count": 27,
   "metadata": {},
   "outputs": [
    {
     "name": "stdout",
     "output_type": "stream",
     "text": [
      " * postgresql://postgres:***@db\n",
      "1 rows affected.\n"
     ]
    },
    {
     "data": {
      "text/html": [
       "<table>\n",
       "    <tr>\n",
       "        <th>territorydescription</th>\n",
       "    </tr>\n",
       "    <tr>\n",
       "        <td>Cambridge</td>\n",
       "    </tr>\n",
       "</table>"
      ],
      "text/plain": [
       "[('Cambridge',)]"
      ]
     },
     "execution_count": 27,
     "metadata": {},
     "output_type": "execute_result"
    }
   ],
   "source": [
    "%%sql\n",
    "SELECT t.territorydescription\n",
    "FROM employeeterritories et\n",
    "NATURAL JOIN nwemployees e\n",
    "NATURAL JOIN territories t\n",
    "WHERE e.title != 'Sales Representative'\n",
    "ORDER BY t.territorydescription ASC\n",
    "LIMIT 1 OFFSET 4;"
   ]
  },
  {
   "cell_type": "code",
   "execution_count": 28,
   "metadata": {},
   "outputs": [
    {
     "name": "stdout",
     "output_type": "stream",
     "text": [
      " * postgresql://postgres:***@db\n",
      "1 rows affected.\n"
     ]
    },
    {
     "data": {
      "text/html": [
       "<table>\n",
       "    <tr>\n",
       "        <th>count</th>\n",
       "    </tr>\n",
       "    <tr>\n",
       "        <td>323</td>\n",
       "    </tr>\n",
       "</table>"
      ],
      "text/plain": [
       "[(323,)]"
      ]
     },
     "execution_count": 28,
     "metadata": {},
     "output_type": "execute_result"
    }
   ],
   "source": [
    "%%sql\n",
    "SELECT COUNT(*)\n",
    "FROM\n",
    "    (SELECT orderid, (SUM(is_disc * quantity) / CAST(SUM(quantity) AS float)) AS ratio\n",
    "    FROM \n",
    "        (SELECT *, CAST(discount > 0 AS int) AS is_disc\n",
    "        FROM orders o\n",
    "        NATURAL JOIN order_details od)\n",
    "    GROUP BY orderid\n",
    "    HAVING SUM(is_disc * quantity) / CAST(SUM(quantity) AS float) >= 0.5)"
   ]
  },
  {
   "cell_type": "code",
   "execution_count": 29,
   "metadata": {},
   "outputs": [
    {
     "name": "stdout",
     "output_type": "stream",
     "text": [
      " * postgresql://postgres:***@db\n",
      "3 rows affected.\n"
     ]
    },
    {
     "data": {
      "text/html": [
       "<table>\n",
       "    <tr>\n",
       "        <th>customerid</th>\n",
       "        <th>num_orders</th>\n",
       "    </tr>\n",
       "    <tr>\n",
       "        <td>ERNSH</td>\n",
       "        <td>19</td>\n",
       "    </tr>\n",
       "    <tr>\n",
       "        <td>SAVEA</td>\n",
       "        <td>19</td>\n",
       "    </tr>\n",
       "    <tr>\n",
       "        <td>QUICK</td>\n",
       "        <td>18</td>\n",
       "    </tr>\n",
       "</table>"
      ],
      "text/plain": [
       "[('ERNSH', 19), ('SAVEA', 19), ('QUICK', 18)]"
      ]
     },
     "execution_count": 29,
     "metadata": {},
     "output_type": "execute_result"
    }
   ],
   "source": [
    "%%sql\n",
    "SELECT customerid, COUNT(DISTINCT orderid) AS num_orders\n",
    "FROM orders o\n",
    "NATURAL JOIN order_details od\n",
    "WHERE discount > 0\n",
    "GROUP BY customerid\n",
    "ORDER BY num_orders DESC, customerid\n",
    "LIMIT 3;"
   ]
  },
  {
   "cell_type": "code",
   "execution_count": 30,
   "metadata": {},
   "outputs": [
    {
     "name": "stdout",
     "output_type": "stream",
     "text": [
      " * postgresql://postgres:***@db\n",
      "10 rows affected.\n"
     ]
    },
    {
     "data": {
      "text/html": [
       "<table>\n",
       "    <tr>\n",
       "        <th>orderid</th>\n",
       "        <th>productid</th>\n",
       "        <th>unitprice</th>\n",
       "        <th>quantity</th>\n",
       "        <th>discount</th>\n",
       "    </tr>\n",
       "    <tr>\n",
       "        <td>10248</td>\n",
       "        <td>11</td>\n",
       "        <td>14.0</td>\n",
       "        <td>12</td>\n",
       "        <td>0.0</td>\n",
       "    </tr>\n",
       "    <tr>\n",
       "        <td>10248</td>\n",
       "        <td>42</td>\n",
       "        <td>9.8</td>\n",
       "        <td>10</td>\n",
       "        <td>0.0</td>\n",
       "    </tr>\n",
       "    <tr>\n",
       "        <td>10248</td>\n",
       "        <td>72</td>\n",
       "        <td>34.8</td>\n",
       "        <td>5</td>\n",
       "        <td>0.0</td>\n",
       "    </tr>\n",
       "    <tr>\n",
       "        <td>10249</td>\n",
       "        <td>14</td>\n",
       "        <td>18.6</td>\n",
       "        <td>9</td>\n",
       "        <td>0.0</td>\n",
       "    </tr>\n",
       "    <tr>\n",
       "        <td>10249</td>\n",
       "        <td>51</td>\n",
       "        <td>42.4</td>\n",
       "        <td>40</td>\n",
       "        <td>0.0</td>\n",
       "    </tr>\n",
       "    <tr>\n",
       "        <td>10250</td>\n",
       "        <td>41</td>\n",
       "        <td>7.7</td>\n",
       "        <td>10</td>\n",
       "        <td>0.0</td>\n",
       "    </tr>\n",
       "    <tr>\n",
       "        <td>10250</td>\n",
       "        <td>51</td>\n",
       "        <td>42.4</td>\n",
       "        <td>35</td>\n",
       "        <td>0.15</td>\n",
       "    </tr>\n",
       "    <tr>\n",
       "        <td>10250</td>\n",
       "        <td>65</td>\n",
       "        <td>16.8</td>\n",
       "        <td>15</td>\n",
       "        <td>0.15</td>\n",
       "    </tr>\n",
       "    <tr>\n",
       "        <td>10251</td>\n",
       "        <td>22</td>\n",
       "        <td>16.8</td>\n",
       "        <td>6</td>\n",
       "        <td>0.05</td>\n",
       "    </tr>\n",
       "    <tr>\n",
       "        <td>10251</td>\n",
       "        <td>57</td>\n",
       "        <td>15.6</td>\n",
       "        <td>15</td>\n",
       "        <td>0.05</td>\n",
       "    </tr>\n",
       "</table>"
      ],
      "text/plain": [
       "[(10248, 11, 14.0, 12, 0.0),\n",
       " (10248, 42, 9.8, 10, 0.0),\n",
       " (10248, 72, 34.8, 5, 0.0),\n",
       " (10249, 14, 18.6, 9, 0.0),\n",
       " (10249, 51, 42.4, 40, 0.0),\n",
       " (10250, 41, 7.7, 10, 0.0),\n",
       " (10250, 51, 42.4, 35, 0.15),\n",
       " (10250, 65, 16.8, 15, 0.15),\n",
       " (10251, 22, 16.8, 6, 0.05),\n",
       " (10251, 57, 15.6, 15, 0.05)]"
      ]
     },
     "execution_count": 30,
     "metadata": {},
     "output_type": "execute_result"
    }
   ],
   "source": [
    "%%sql\n",
    "SELECT *\n",
    "FROM order_details\n",
    "LIMIT 10"
   ]
  },
  {
   "cell_type": "code",
   "execution_count": 31,
   "metadata": {},
   "outputs": [
    {
     "name": "stdout",
     "output_type": "stream",
     "text": [
      " * postgresql://postgres:***@db\n",
      "1 rows affected.\n"
     ]
    },
    {
     "data": {
      "text/html": [
       "<table>\n",
       "    <tr>\n",
       "        <th>count</th>\n",
       "    </tr>\n",
       "    <tr>\n",
       "        <td>1825</td>\n",
       "    </tr>\n",
       "</table>"
      ],
      "text/plain": [
       "[(1825,)]"
      ]
     },
     "execution_count": 31,
     "metadata": {},
     "output_type": "execute_result"
    }
   ],
   "source": [
    "%%sql\n",
    "SELECT COUNT(*)\n",
    "FROM \n",
    "    (SELECT DISTINCT productid, unitprice, quantity, discount\n",
    "    FROM order_details)"
   ]
  },
  {
   "cell_type": "markdown",
   "metadata": {},
   "source": [
    "---"
   ]
  },
  {
   "cell_type": "markdown",
   "metadata": {},
   "source": [
    "# Round 3"
   ]
  },
  {
   "cell_type": "code",
   "execution_count": 32,
   "metadata": {},
   "outputs": [
    {
     "name": "stdout",
     "output_type": "stream",
     "text": [
      " * postgresql://postgres:***@db\n",
      "1 rows affected.\n"
     ]
    },
    {
     "data": {
      "text/html": [
       "<table>\n",
       "    <tr>\n",
       "        <th>count</th>\n",
       "    </tr>\n",
       "    <tr>\n",
       "        <td>77</td>\n",
       "    </tr>\n",
       "</table>"
      ],
      "text/plain": [
       "[(77,)]"
      ]
     },
     "execution_count": 32,
     "metadata": {},
     "output_type": "execute_result"
    }
   ],
   "source": [
    "%%sql\n",
    "SELECT COUNT(*)\n",
    "FROM products p\n",
    "JOIN categories c\n",
    "ON p.categoryid = c.categoryid\n",
    "LIMIT 10;"
   ]
  },
  {
   "cell_type": "code",
   "execution_count": 33,
   "metadata": {},
   "outputs": [
    {
     "name": "stdout",
     "output_type": "stream",
     "text": [
      " * postgresql://postgres:***@db\n",
      "9 rows affected.\n"
     ]
    },
    {
     "data": {
      "text/html": [
       "<table>\n",
       "    <tr>\n",
       "        <th>employeeid</th>\n",
       "        <th>firstname</th>\n",
       "        <th>tot_value</th>\n",
       "    </tr>\n",
       "    <tr>\n",
       "        <td>4</td>\n",
       "        <td>Margaret</td>\n",
       "        <td>250187.4502530098</td>\n",
       "    </tr>\n",
       "    <tr>\n",
       "        <td>3</td>\n",
       "        <td>Janet</td>\n",
       "        <td>213051.2994799614</td>\n",
       "    </tr>\n",
       "    <tr>\n",
       "        <td>1</td>\n",
       "        <td>Nancy</td>\n",
       "        <td>202143.7103085518</td>\n",
       "    </tr>\n",
       "    <tr>\n",
       "        <td>2</td>\n",
       "        <td>Andrew</td>\n",
       "        <td>177749.2604765892</td>\n",
       "    </tr>\n",
       "    <tr>\n",
       "        <td>7</td>\n",
       "        <td>Robert</td>\n",
       "        <td>141295.99010276794</td>\n",
       "    </tr>\n",
       "    <tr>\n",
       "        <td>8</td>\n",
       "        <td>Laura</td>\n",
       "        <td>133301.0300655365</td>\n",
       "    </tr>\n",
       "    <tr>\n",
       "        <td>9</td>\n",
       "        <td>Anne</td>\n",
       "        <td>82963.9998178482</td>\n",
       "    </tr>\n",
       "    <tr>\n",
       "        <td>6</td>\n",
       "        <td>Michael</td>\n",
       "        <td>78198.09993362427</td>\n",
       "    </tr>\n",
       "    <tr>\n",
       "        <td>5</td>\n",
       "        <td>Steven</td>\n",
       "        <td>75567.75000333786</td>\n",
       "    </tr>\n",
       "</table>"
      ],
      "text/plain": [
       "[(4, 'Margaret', 250187.4502530098),\n",
       " (3, 'Janet', 213051.2994799614),\n",
       " (1, 'Nancy', 202143.7103085518),\n",
       " (2, 'Andrew', 177749.2604765892),\n",
       " (7, 'Robert', 141295.99010276794),\n",
       " (8, 'Laura', 133301.0300655365),\n",
       " (9, 'Anne', 82963.9998178482),\n",
       " (6, 'Michael', 78198.09993362427),\n",
       " (5, 'Steven', 75567.75000333786)]"
      ]
     },
     "execution_count": 33,
     "metadata": {},
     "output_type": "execute_result"
    }
   ],
   "source": [
    "%%sql\n",
    "SELECT o.employeeid, ne.firstname, SUM(unitprice * quantity) AS tot_value\n",
    "FROM orders o \n",
    "JOIN order_details od\n",
    "ON o.orderid = od.orderid\n",
    "JOIN nwemployees ne\n",
    "ON ne.employeeid = o.employeeid\n",
    "GROUP BY o.employeeid, ne.firstname\n",
    "ORDER BY tot_value DESC\n",
    "LIMIT 10;"
   ]
  },
  {
   "cell_type": "code",
   "execution_count": 34,
   "metadata": {},
   "outputs": [
    {
     "name": "stdout",
     "output_type": "stream",
     "text": [
      " * postgresql://postgres:***@db\n",
      "1 rows affected.\n"
     ]
    },
    {
     "data": {
      "text/html": [
       "<table>\n",
       "    <tr>\n",
       "        <th>count</th>\n",
       "    </tr>\n",
       "    <tr>\n",
       "        <td>77</td>\n",
       "    </tr>\n",
       "</table>"
      ],
      "text/plain": [
       "[(77,)]"
      ]
     },
     "execution_count": 34,
     "metadata": {},
     "output_type": "execute_result"
    }
   ],
   "source": [
    "%%sql\n",
    "SELECT COUNT(*)\n",
    "FROM nwemployees nw\n",
    "NATURAL JOIN products p1\n",
    "NATURAL JOIN products p2\n",
    "NATURAL JOIN products p3\n",
    "NATURAL JOIN products p4\n",
    "NATURAL JOIN products p5\n",
    "NATURAL JOIN products p6\n",
    "WHERE nw.titleofcourtesy = 'Mrs.'\n",
    "LIMIT 10;"
   ]
  },
  {
   "cell_type": "code",
   "execution_count": 35,
   "metadata": {},
   "outputs": [
    {
     "name": "stdout",
     "output_type": "stream",
     "text": [
      " * postgresql://postgres:***@db\n",
      "8 rows affected.\n"
     ]
    },
    {
     "data": {
      "text/html": [
       "<table>\n",
       "    <tr>\n",
       "        <th>categoryname</th>\n",
       "        <th>tot_quant</th>\n",
       "    </tr>\n",
       "    <tr>\n",
       "        <td>Dairy Products</td>\n",
       "        <td>724</td>\n",
       "    </tr>\n",
       "    <tr>\n",
       "        <td>Beverages</td>\n",
       "        <td>610</td>\n",
       "    </tr>\n",
       "    <tr>\n",
       "        <td>Confections</td>\n",
       "        <td>607</td>\n",
       "    </tr>\n",
       "    <tr>\n",
       "        <td>Seafood</td>\n",
       "        <td>488</td>\n",
       "    </tr>\n",
       "    <tr>\n",
       "        <td>Meat/Poultry</td>\n",
       "        <td>345</td>\n",
       "    </tr>\n",
       "    <tr>\n",
       "        <td>Condiments</td>\n",
       "        <td>331</td>\n",
       "    </tr>\n",
       "    <tr>\n",
       "        <td>Grains/Cereals</td>\n",
       "        <td>262</td>\n",
       "    </tr>\n",
       "    <tr>\n",
       "        <td>Produce</td>\n",
       "        <td>134</td>\n",
       "    </tr>\n",
       "</table>"
      ],
      "text/plain": [
       "[('Dairy Products', 724),\n",
       " ('Beverages', 610),\n",
       " ('Confections', 607),\n",
       " ('Seafood', 488),\n",
       " ('Meat/Poultry', 345),\n",
       " ('Condiments', 331),\n",
       " ('Grains/Cereals', 262),\n",
       " ('Produce', 134)]"
      ]
     },
     "execution_count": 35,
     "metadata": {},
     "output_type": "execute_result"
    }
   ],
   "source": [
    "%%sql\n",
    "SELECT c.categoryname, SUM(od.quantity) AS tot_quant\n",
    "FROM nwemployees nw\n",
    "NATURAL JOIN orders o\n",
    "NATURAL JOIN order_details od\n",
    "NATURAL JOIN products p\n",
    "NATURAL JOIN categories c\n",
    "WHERE nw.firstname = 'Robert'\n",
    "GROUP BY c.categoryname\n",
    "ORDER BY tot_quant DESC\n",
    "LIMIT 10;"
   ]
  },
  {
   "cell_type": "code",
   "execution_count": 36,
   "metadata": {},
   "outputs": [
    {
     "name": "stdout",
     "output_type": "stream",
     "text": [
      " * postgresql://postgres:***@db\n",
      "1 rows affected.\n"
     ]
    },
    {
     "data": {
      "text/html": [
       "<table>\n",
       "    <tr>\n",
       "        <th>count</th>\n",
       "    </tr>\n",
       "    <tr>\n",
       "        <td>6</td>\n",
       "    </tr>\n",
       "</table>"
      ],
      "text/plain": [
       "[(6,)]"
      ]
     },
     "execution_count": 36,
     "metadata": {},
     "output_type": "execute_result"
    }
   ],
   "source": [
    "%%sql\n",
    "SELECT COUNT(*)\n",
    "FROM orders o\n",
    "WHERE EXTRACT(month FROM orderdate) = 3 AND shippeddate >= requireddate\n",
    "LIMIT 10;"
   ]
  },
  {
   "cell_type": "code",
   "execution_count": 37,
   "metadata": {},
   "outputs": [
    {
     "name": "stdout",
     "output_type": "stream",
     "text": [
      " * postgresql://postgres:***@db\n",
      "1 rows affected.\n"
     ]
    },
    {
     "data": {
      "text/html": [
       "<table>\n",
       "    <tr>\n",
       "        <th>count</th>\n",
       "    </tr>\n",
       "    <tr>\n",
       "        <td>10</td>\n",
       "    </tr>\n",
       "</table>"
      ],
      "text/plain": [
       "[(10,)]"
      ]
     },
     "execution_count": 37,
     "metadata": {},
     "output_type": "execute_result"
    }
   ],
   "source": [
    "%%sql\n",
    "SELECT COUNT(*)\n",
    "FROM \n",
    "    (SELECT supplierid, COUNT(DISTINCT productid)\n",
    "    FROM products\n",
    "    WHERE discontinued = 0\n",
    "    GROUP BY supplierid\n",
    "    HAVING COUNT(DISTINCT productid) = 3);"
   ]
  },
  {
   "cell_type": "code",
   "execution_count": 38,
   "metadata": {},
   "outputs": [
    {
     "name": "stdout",
     "output_type": "stream",
     "text": [
      " * postgresql://postgres:***@db\n",
      "1 rows affected.\n"
     ]
    },
    {
     "data": {
      "text/html": [
       "<table>\n",
       "    <tr>\n",
       "        <th>fifth_territory</th>\n",
       "    </tr>\n",
       "    <tr>\n",
       "        <td>Cambridge</td>\n",
       "    </tr>\n",
       "</table>"
      ],
      "text/plain": [
       "[('Cambridge',)]"
      ]
     },
     "execution_count": 38,
     "metadata": {},
     "output_type": "execute_result"
    }
   ],
   "source": [
    "%%sql\n",
    "SELECT t.territorydescription AS fifth_territory\n",
    "FROM territories t\n",
    "NATURAL JOIN employeeterritories et\n",
    "NATURAL JOIN nwemployees nw\n",
    "WHERE title != 'Sales Representative'\n",
    "ORDER BY t.territorydescription ASC\n",
    "LIMIT 1 OFFSET 4;"
   ]
  },
  {
   "cell_type": "code",
   "execution_count": 39,
   "metadata": {},
   "outputs": [
    {
     "name": "stdout",
     "output_type": "stream",
     "text": [
      " * postgresql://postgres:***@db\n",
      "1 rows affected.\n"
     ]
    },
    {
     "data": {
      "text/html": [
       "<table>\n",
       "    <tr>\n",
       "        <th>count</th>\n",
       "    </tr>\n",
       "    <tr>\n",
       "        <td>323</td>\n",
       "    </tr>\n",
       "</table>"
      ],
      "text/plain": [
       "[(323,)]"
      ]
     },
     "execution_count": 39,
     "metadata": {},
     "output_type": "execute_result"
    }
   ],
   "source": [
    "%%sql\n",
    "SELECT COUNT(*)\n",
    "FROM \n",
    "    (SELECT orderid\n",
    "    FROM \n",
    "        (SELECT orderid, CAST(quantity AS NUMERIC), CAST(discount > 0 AS INT) * quantity AS quantity_disc\n",
    "        FROM orders\n",
    "        NATURAL JOIN order_details)\n",
    "    GROUP BY orderid\n",
    "    HAVING SUM(quantity_disc) / SUM(quantity) >= 0.5)"
   ]
  },
  {
   "cell_type": "code",
   "execution_count": 40,
   "metadata": {},
   "outputs": [
    {
     "name": "stdout",
     "output_type": "stream",
     "text": [
      " * postgresql://postgres:***@db\n",
      "10 rows affected.\n"
     ]
    },
    {
     "data": {
      "text/html": [
       "<table>\n",
       "    <tr>\n",
       "        <th>customerid</th>\n",
       "        <th>num_orders</th>\n",
       "    </tr>\n",
       "    <tr>\n",
       "        <td>ERNSH</td>\n",
       "        <td>19</td>\n",
       "    </tr>\n",
       "    <tr>\n",
       "        <td>SAVEA</td>\n",
       "        <td>19</td>\n",
       "    </tr>\n",
       "    <tr>\n",
       "        <td>QUICK</td>\n",
       "        <td>18</td>\n",
       "    </tr>\n",
       "    <tr>\n",
       "        <td>HUNGO</td>\n",
       "        <td>15</td>\n",
       "    </tr>\n",
       "    <tr>\n",
       "        <td>LAMAI</td>\n",
       "        <td>13</td>\n",
       "    </tr>\n",
       "    <tr>\n",
       "        <td>FOLKO</td>\n",
       "        <td>12</td>\n",
       "    </tr>\n",
       "    <tr>\n",
       "        <td>FRANK</td>\n",
       "        <td>10</td>\n",
       "    </tr>\n",
       "    <tr>\n",
       "        <td>LEHMS</td>\n",
       "        <td>10</td>\n",
       "    </tr>\n",
       "    <tr>\n",
       "        <td>QUEEN</td>\n",
       "        <td>10</td>\n",
       "    </tr>\n",
       "    <tr>\n",
       "        <td>BERGS</td>\n",
       "        <td>9</td>\n",
       "    </tr>\n",
       "</table>"
      ],
      "text/plain": [
       "[('ERNSH', 19),\n",
       " ('SAVEA', 19),\n",
       " ('QUICK', 18),\n",
       " ('HUNGO', 15),\n",
       " ('LAMAI', 13),\n",
       " ('FOLKO', 12),\n",
       " ('FRANK', 10),\n",
       " ('LEHMS', 10),\n",
       " ('QUEEN', 10),\n",
       " ('BERGS', 9)]"
      ]
     },
     "execution_count": 40,
     "metadata": {},
     "output_type": "execute_result"
    }
   ],
   "source": [
    "%%sql\n",
    "SELECT customerid, COUNT(DISTINCT orderid) AS num_orders\n",
    "FROM orders\n",
    "NATURAL JOIN order_details\n",
    "WHERE discount > 0\n",
    "GROUP BY customerid\n",
    "ORDER BY num_orders DESC, customerid ASC\n",
    "LIMIT 10;"
   ]
  },
  {
   "cell_type": "code",
   "execution_count": 41,
   "metadata": {},
   "outputs": [
    {
     "name": "stdout",
     "output_type": "stream",
     "text": [
      " * postgresql://postgres:***@db\n",
      "1 rows affected.\n"
     ]
    },
    {
     "data": {
      "text/html": [
       "<table>\n",
       "    <tr>\n",
       "        <th>count</th>\n",
       "    </tr>\n",
       "    <tr>\n",
       "        <td>1825</td>\n",
       "    </tr>\n",
       "</table>"
      ],
      "text/plain": [
       "[(1825,)]"
      ]
     },
     "execution_count": 41,
     "metadata": {},
     "output_type": "execute_result"
    }
   ],
   "source": [
    "%%sql\n",
    "SELECT COUNT(*)\n",
    "FROM\n",
    "    (SELECT DISTINCT productid, unitprice, quantity, discount\n",
    "    FROM order_details)"
   ]
  },
  {
   "cell_type": "markdown",
   "metadata": {},
   "source": [
    "---"
   ]
  },
  {
   "cell_type": "markdown",
   "metadata": {},
   "source": [
    "# Round 4"
   ]
  },
  {
   "cell_type": "code",
   "execution_count": 42,
   "metadata": {},
   "outputs": [
    {
     "name": "stdout",
     "output_type": "stream",
     "text": [
      " * postgresql://postgres:***@db\n",
      "1 rows affected.\n"
     ]
    },
    {
     "data": {
      "text/html": [
       "<table>\n",
       "    <tr>\n",
       "        <th>count</th>\n",
       "    </tr>\n",
       "    <tr>\n",
       "        <td>77</td>\n",
       "    </tr>\n",
       "</table>"
      ],
      "text/plain": [
       "[(77,)]"
      ]
     },
     "execution_count": 42,
     "metadata": {},
     "output_type": "execute_result"
    }
   ],
   "source": [
    "%%sql\n",
    "SELECT COUNT(*)\n",
    "FROM products p\n",
    "NATURAL JOIN categories c\n",
    "LIMIT 10;"
   ]
  },
  {
   "cell_type": "code",
   "execution_count": 43,
   "metadata": {},
   "outputs": [
    {
     "name": "stdout",
     "output_type": "stream",
     "text": [
      " * postgresql://postgres:***@db\n",
      "(psycopg2.errors.SyntaxError) syntax error at or near \"LIMIT\"\n",
      "LINE 1: LIMIT 10;\n",
      "        ^\n",
      "\n",
      "[SQL: LIMIT 10;]\n",
      "(Background on this error at: https://sqlalche.me/e/14/f405)\n"
     ]
    }
   ],
   "source": [
    "%%sql\n",
    "\n",
    "LIMIT 10;"
   ]
  },
  {
   "cell_type": "code",
   "execution_count": 44,
   "metadata": {},
   "outputs": [
    {
     "name": "stdout",
     "output_type": "stream",
     "text": [
      " * postgresql://postgres:***@db\n",
      "9 rows affected.\n"
     ]
    },
    {
     "data": {
      "text/html": [
       "<table>\n",
       "    <tr>\n",
       "        <th>firstname</th>\n",
       "        <th>tot_val</th>\n",
       "    </tr>\n",
       "    <tr>\n",
       "        <td>Margaret</td>\n",
       "        <td>250187.4502530098</td>\n",
       "    </tr>\n",
       "    <tr>\n",
       "        <td>Janet</td>\n",
       "        <td>213051.2994799614</td>\n",
       "    </tr>\n",
       "    <tr>\n",
       "        <td>Nancy</td>\n",
       "        <td>202143.7103085518</td>\n",
       "    </tr>\n",
       "    <tr>\n",
       "        <td>Andrew</td>\n",
       "        <td>177749.2604765892</td>\n",
       "    </tr>\n",
       "    <tr>\n",
       "        <td>Robert</td>\n",
       "        <td>141295.99010276794</td>\n",
       "    </tr>\n",
       "    <tr>\n",
       "        <td>Laura</td>\n",
       "        <td>133301.0300655365</td>\n",
       "    </tr>\n",
       "    <tr>\n",
       "        <td>Anne</td>\n",
       "        <td>82963.9998178482</td>\n",
       "    </tr>\n",
       "    <tr>\n",
       "        <td>Michael</td>\n",
       "        <td>78198.09993362427</td>\n",
       "    </tr>\n",
       "    <tr>\n",
       "        <td>Steven</td>\n",
       "        <td>75567.75000333786</td>\n",
       "    </tr>\n",
       "</table>"
      ],
      "text/plain": [
       "[('Margaret', 250187.4502530098),\n",
       " ('Janet', 213051.2994799614),\n",
       " ('Nancy', 202143.7103085518),\n",
       " ('Andrew', 177749.2604765892),\n",
       " ('Robert', 141295.99010276794),\n",
       " ('Laura', 133301.0300655365),\n",
       " ('Anne', 82963.9998178482),\n",
       " ('Michael', 78198.09993362427),\n",
       " ('Steven', 75567.75000333786)]"
      ]
     },
     "execution_count": 44,
     "metadata": {},
     "output_type": "execute_result"
    }
   ],
   "source": [
    "%%sql\n",
    "SELECT firstname, SUM(quantity * unitprice) as tot_val\n",
    "FROM nwemployees nw\n",
    "NATURAL JOIN orders o\n",
    "NATURAL JOIN order_details od\n",
    "GROUP BY employeeid, firstname\n",
    "ORDER BY tot_val DESC\n",
    "LIMIT 10;"
   ]
  },
  {
   "cell_type": "code",
   "execution_count": 45,
   "metadata": {},
   "outputs": [
    {
     "name": "stdout",
     "output_type": "stream",
     "text": [
      " * postgresql://postgres:***@db\n",
      "1 rows affected.\n"
     ]
    },
    {
     "data": {
      "text/html": [
       "<table>\n",
       "    <tr>\n",
       "        <th>count</th>\n",
       "    </tr>\n",
       "    <tr>\n",
       "        <td>77</td>\n",
       "    </tr>\n",
       "</table>"
      ],
      "text/plain": [
       "[(77,)]"
      ]
     },
     "execution_count": 45,
     "metadata": {},
     "output_type": "execute_result"
    }
   ],
   "source": [
    "%%sql\n",
    "SELECT COUNT(*)\n",
    "FROM nwemployees \n",
    "NATURAL JOIN products p1\n",
    "NATURAL JOIN products p2\n",
    "NATURAL JOIN products p3\n",
    "NATURAL JOIN products p4\n",
    "NATURAL JOIN products p5\n",
    "NATURAL JOIN products p6\n",
    "WHERE titleofcourtesy = 'Mrs.'\n",
    "LIMIT 10;"
   ]
  },
  {
   "cell_type": "code",
   "execution_count": 46,
   "metadata": {},
   "outputs": [
    {
     "name": "stdout",
     "output_type": "stream",
     "text": [
      " * postgresql://postgres:***@db\n",
      "8 rows affected.\n"
     ]
    },
    {
     "data": {
      "text/html": [
       "<table>\n",
       "    <tr>\n",
       "        <th>categoryid</th>\n",
       "        <th>categoryname</th>\n",
       "        <th>tot_quant</th>\n",
       "    </tr>\n",
       "    <tr>\n",
       "        <td>1</td>\n",
       "        <td>Beverages</td>\n",
       "        <td>948</td>\n",
       "    </tr>\n",
       "    <tr>\n",
       "        <td>4</td>\n",
       "        <td>Dairy Products</td>\n",
       "        <td>940</td>\n",
       "    </tr>\n",
       "    <tr>\n",
       "        <td>3</td>\n",
       "        <td>Confections</td>\n",
       "        <td>742</td>\n",
       "    </tr>\n",
       "    <tr>\n",
       "        <td>8</td>\n",
       "        <td>Seafood</td>\n",
       "        <td>555</td>\n",
       "    </tr>\n",
       "    <tr>\n",
       "        <td>2</td>\n",
       "        <td>Condiments</td>\n",
       "        <td>486</td>\n",
       "    </tr>\n",
       "    <tr>\n",
       "        <td>6</td>\n",
       "        <td>Meat/Poultry</td>\n",
       "        <td>395</td>\n",
       "    </tr>\n",
       "    <tr>\n",
       "        <td>5</td>\n",
       "        <td>Grains/Cereals</td>\n",
       "        <td>320</td>\n",
       "    </tr>\n",
       "    <tr>\n",
       "        <td>7</td>\n",
       "        <td>Produce</td>\n",
       "        <td>268</td>\n",
       "    </tr>\n",
       "</table>"
      ],
      "text/plain": [
       "[(1, 'Beverages', 948),\n",
       " (4, 'Dairy Products', 940),\n",
       " (3, 'Confections', 742),\n",
       " (8, 'Seafood', 555),\n",
       " (2, 'Condiments', 486),\n",
       " (6, 'Meat/Poultry', 395),\n",
       " (5, 'Grains/Cereals', 320),\n",
       " (7, 'Produce', 268)]"
      ]
     },
     "execution_count": 46,
     "metadata": {},
     "output_type": "execute_result"
    }
   ],
   "source": [
    "%%sql\n",
    "SELECT c.categoryid, c.categoryname, SUM(quantity) AS tot_quant\n",
    "FROM nwemployees nw\n",
    "JOIN orders o\n",
    "ON nw.employeeid = o.employeeid\n",
    "JOIN order_details od\n",
    "ON od.orderid = o.orderid\n",
    "JOIN products p\n",
    "ON od.productid = p.productid\n",
    "JOIN categories c\n",
    "ON c.categoryid = p.categoryid\n",
    "WHERE nw.firstname = 'Robert'\n",
    "GROUP BY c.categoryid, c.categoryname\n",
    "ORDER BY tot_quant DESC\n",
    "LIMIT 10;"
   ]
  },
  {
   "cell_type": "code",
   "execution_count": 47,
   "metadata": {},
   "outputs": [
    {
     "name": "stdout",
     "output_type": "stream",
     "text": [
      " * postgresql://postgres:***@db\n",
      "1 rows affected.\n"
     ]
    },
    {
     "data": {
      "text/html": [
       "<table>\n",
       "    <tr>\n",
       "        <th>count</th>\n",
       "    </tr>\n",
       "    <tr>\n",
       "        <td>6</td>\n",
       "    </tr>\n",
       "</table>"
      ],
      "text/plain": [
       "[(6,)]"
      ]
     },
     "execution_count": 47,
     "metadata": {},
     "output_type": "execute_result"
    }
   ],
   "source": [
    "%%sql\n",
    "SELECT COUNT(DISTINCT orderid)\n",
    "FROM orders\n",
    "WHERE EXTRACT(month FROM orderdate) = 3 AND shippeddate >= requireddate\n",
    "LIMIT 10;"
   ]
  },
  {
   "cell_type": "code",
   "execution_count": 48,
   "metadata": {},
   "outputs": [
    {
     "name": "stdout",
     "output_type": "stream",
     "text": [
      " * postgresql://postgres:***@db\n",
      "1 rows affected.\n"
     ]
    },
    {
     "data": {
      "text/html": [
       "<table>\n",
       "    <tr>\n",
       "        <th>count</th>\n",
       "    </tr>\n",
       "    <tr>\n",
       "        <td>10</td>\n",
       "    </tr>\n",
       "</table>"
      ],
      "text/plain": [
       "[(10,)]"
      ]
     },
     "execution_count": 48,
     "metadata": {},
     "output_type": "execute_result"
    }
   ],
   "source": [
    "%%sql\n",
    "SELECT COUNT(*)\n",
    "FROM \n",
    "    (SELECT supplierid, COUNT(productid)\n",
    "    FROM products\n",
    "    WHERE discontinued = 0\n",
    "    GROUP BY supplierid\n",
    "    HAVING COUNT(productid) = 3)"
   ]
  },
  {
   "cell_type": "code",
   "execution_count": 49,
   "metadata": {},
   "outputs": [
    {
     "name": "stdout",
     "output_type": "stream",
     "text": [
      " * postgresql://postgres:***@db\n",
      "1 rows affected.\n"
     ]
    },
    {
     "data": {
      "text/html": [
       "<table>\n",
       "    <tr>\n",
       "        <th>territorydescription</th>\n",
       "    </tr>\n",
       "    <tr>\n",
       "        <td>Cambridge</td>\n",
       "    </tr>\n",
       "</table>"
      ],
      "text/plain": [
       "[('Cambridge',)]"
      ]
     },
     "execution_count": 49,
     "metadata": {},
     "output_type": "execute_result"
    }
   ],
   "source": [
    "%%sql\n",
    "SELECT territorydescription\n",
    "FROM employeeterritories et\n",
    "JOIN nwemployees nw\n",
    "ON nw.employeeid = et.employeeid\n",
    "JOIN territories t\n",
    "ON t.territoryid = et.territoryid\n",
    "WHERE title != 'Sales Representative'\n",
    "ORDER BY territorydescription ASC\n",
    "LIMIT 1 OFFSET 4;"
   ]
  },
  {
   "cell_type": "code",
   "execution_count": 50,
   "metadata": {},
   "outputs": [
    {
     "name": "stdout",
     "output_type": "stream",
     "text": [
      " * postgresql://postgres:***@db\n",
      "1 rows affected.\n"
     ]
    },
    {
     "data": {
      "text/html": [
       "<table>\n",
       "    <tr>\n",
       "        <th>count</th>\n",
       "    </tr>\n",
       "    <tr>\n",
       "        <td>323</td>\n",
       "    </tr>\n",
       "</table>"
      ],
      "text/plain": [
       "[(323,)]"
      ]
     },
     "execution_count": 50,
     "metadata": {},
     "output_type": "execute_result"
    }
   ],
   "source": [
    "%%sql\n",
    "SELECT COUNT(*)\n",
    "FROM \n",
    "    (SELECT orderid, SUM(quant_disc) / SUM(CAST(quantity AS numeric)) >=  0.5 AS boolean\n",
    "    FROM \n",
    "        (SELECT *, CAST(discount > 0 AS int) * quantity AS quant_disc\n",
    "        FROM orders\n",
    "        NATURAL JOIN order_details)\n",
    "    GROUP BY orderid)\n",
    "WHERE boolean IS TRUE"
   ]
  },
  {
   "cell_type": "code",
   "execution_count": 51,
   "metadata": {},
   "outputs": [
    {
     "name": "stdout",
     "output_type": "stream",
     "text": [
      " * postgresql://postgres:***@db\n",
      "10 rows affected.\n"
     ]
    },
    {
     "data": {
      "text/html": [
       "<table>\n",
       "    <tr>\n",
       "        <th>customerid</th>\n",
       "        <th>num_ord</th>\n",
       "    </tr>\n",
       "    <tr>\n",
       "        <td>ERNSH</td>\n",
       "        <td>19</td>\n",
       "    </tr>\n",
       "    <tr>\n",
       "        <td>SAVEA</td>\n",
       "        <td>19</td>\n",
       "    </tr>\n",
       "    <tr>\n",
       "        <td>QUICK</td>\n",
       "        <td>18</td>\n",
       "    </tr>\n",
       "    <tr>\n",
       "        <td>HUNGO</td>\n",
       "        <td>15</td>\n",
       "    </tr>\n",
       "    <tr>\n",
       "        <td>LAMAI</td>\n",
       "        <td>13</td>\n",
       "    </tr>\n",
       "    <tr>\n",
       "        <td>FOLKO</td>\n",
       "        <td>12</td>\n",
       "    </tr>\n",
       "    <tr>\n",
       "        <td>FRANK</td>\n",
       "        <td>10</td>\n",
       "    </tr>\n",
       "    <tr>\n",
       "        <td>LEHMS</td>\n",
       "        <td>10</td>\n",
       "    </tr>\n",
       "    <tr>\n",
       "        <td>QUEEN</td>\n",
       "        <td>10</td>\n",
       "    </tr>\n",
       "    <tr>\n",
       "        <td>BERGS</td>\n",
       "        <td>9</td>\n",
       "    </tr>\n",
       "</table>"
      ],
      "text/plain": [
       "[('ERNSH', 19),\n",
       " ('SAVEA', 19),\n",
       " ('QUICK', 18),\n",
       " ('HUNGO', 15),\n",
       " ('LAMAI', 13),\n",
       " ('FOLKO', 12),\n",
       " ('FRANK', 10),\n",
       " ('LEHMS', 10),\n",
       " ('QUEEN', 10),\n",
       " ('BERGS', 9)]"
      ]
     },
     "execution_count": 51,
     "metadata": {},
     "output_type": "execute_result"
    }
   ],
   "source": [
    "%%sql\n",
    "SELECT customerid, COUNT(DISTINCT orderid) AS num_ord\n",
    "FROM orders\n",
    "NATURAL JOIN order_details\n",
    "WHERE discount > 0\n",
    "GROUP BY customerid\n",
    "ORDER BY num_ord DESC, customerid\n",
    "LIMIT 10;"
   ]
  },
  {
   "cell_type": "code",
   "execution_count": 52,
   "metadata": {},
   "outputs": [
    {
     "name": "stdout",
     "output_type": "stream",
     "text": [
      " * postgresql://postgres:***@db\n",
      "10 rows affected.\n"
     ]
    },
    {
     "data": {
      "text/html": [
       "<table>\n",
       "    <tr>\n",
       "        <th>orderid</th>\n",
       "        <th>productid</th>\n",
       "        <th>unitprice</th>\n",
       "        <th>quantity</th>\n",
       "        <th>discount</th>\n",
       "    </tr>\n",
       "    <tr>\n",
       "        <td>10248</td>\n",
       "        <td>11</td>\n",
       "        <td>14.0</td>\n",
       "        <td>12</td>\n",
       "        <td>0.0</td>\n",
       "    </tr>\n",
       "    <tr>\n",
       "        <td>10248</td>\n",
       "        <td>42</td>\n",
       "        <td>9.8</td>\n",
       "        <td>10</td>\n",
       "        <td>0.0</td>\n",
       "    </tr>\n",
       "    <tr>\n",
       "        <td>10248</td>\n",
       "        <td>72</td>\n",
       "        <td>34.8</td>\n",
       "        <td>5</td>\n",
       "        <td>0.0</td>\n",
       "    </tr>\n",
       "    <tr>\n",
       "        <td>10249</td>\n",
       "        <td>14</td>\n",
       "        <td>18.6</td>\n",
       "        <td>9</td>\n",
       "        <td>0.0</td>\n",
       "    </tr>\n",
       "    <tr>\n",
       "        <td>10249</td>\n",
       "        <td>51</td>\n",
       "        <td>42.4</td>\n",
       "        <td>40</td>\n",
       "        <td>0.0</td>\n",
       "    </tr>\n",
       "    <tr>\n",
       "        <td>10250</td>\n",
       "        <td>41</td>\n",
       "        <td>7.7</td>\n",
       "        <td>10</td>\n",
       "        <td>0.0</td>\n",
       "    </tr>\n",
       "    <tr>\n",
       "        <td>10250</td>\n",
       "        <td>51</td>\n",
       "        <td>42.4</td>\n",
       "        <td>35</td>\n",
       "        <td>0.15</td>\n",
       "    </tr>\n",
       "    <tr>\n",
       "        <td>10250</td>\n",
       "        <td>65</td>\n",
       "        <td>16.8</td>\n",
       "        <td>15</td>\n",
       "        <td>0.15</td>\n",
       "    </tr>\n",
       "    <tr>\n",
       "        <td>10251</td>\n",
       "        <td>22</td>\n",
       "        <td>16.8</td>\n",
       "        <td>6</td>\n",
       "        <td>0.05</td>\n",
       "    </tr>\n",
       "    <tr>\n",
       "        <td>10251</td>\n",
       "        <td>57</td>\n",
       "        <td>15.6</td>\n",
       "        <td>15</td>\n",
       "        <td>0.05</td>\n",
       "    </tr>\n",
       "</table>"
      ],
      "text/plain": [
       "[(10248, 11, 14.0, 12, 0.0),\n",
       " (10248, 42, 9.8, 10, 0.0),\n",
       " (10248, 72, 34.8, 5, 0.0),\n",
       " (10249, 14, 18.6, 9, 0.0),\n",
       " (10249, 51, 42.4, 40, 0.0),\n",
       " (10250, 41, 7.7, 10, 0.0),\n",
       " (10250, 51, 42.4, 35, 0.15),\n",
       " (10250, 65, 16.8, 15, 0.15),\n",
       " (10251, 22, 16.8, 6, 0.05),\n",
       " (10251, 57, 15.6, 15, 0.05)]"
      ]
     },
     "execution_count": 52,
     "metadata": {},
     "output_type": "execute_result"
    }
   ],
   "source": [
    "%%sql\n",
    "SELECT *\n",
    "FROM order_details\n",
    "LIMIT 10"
   ]
  },
  {
   "cell_type": "code",
   "execution_count": 53,
   "metadata": {},
   "outputs": [
    {
     "name": "stdout",
     "output_type": "stream",
     "text": [
      " * postgresql://postgres:***@db\n",
      "1 rows affected.\n"
     ]
    },
    {
     "data": {
      "text/html": [
       "<table>\n",
       "    <tr>\n",
       "        <th>count</th>\n",
       "    </tr>\n",
       "    <tr>\n",
       "        <td>1825</td>\n",
       "    </tr>\n",
       "</table>"
      ],
      "text/plain": [
       "[(1825,)]"
      ]
     },
     "execution_count": 53,
     "metadata": {},
     "output_type": "execute_result"
    }
   ],
   "source": [
    "%%sql\n",
    "SELECT COUNT(*)\n",
    "FROM \n",
    "    (SELECT DISTINCT productid, unitprice, quantity, discount\n",
    "    FROM order_details)"
   ]
  },
  {
   "cell_type": "markdown",
   "metadata": {},
   "source": [
    "---"
   ]
  },
  {
   "cell_type": "markdown",
   "metadata": {},
   "source": [
    "# Round 5"
   ]
  },
  {
   "cell_type": "code",
   "execution_count": 54,
   "metadata": {},
   "outputs": [
    {
     "name": "stdout",
     "output_type": "stream",
     "text": [
      " * postgresql://postgres:***@db\n",
      "1 rows affected.\n"
     ]
    },
    {
     "data": {
      "text/html": [
       "<table>\n",
       "    <tr>\n",
       "        <th>count</th>\n",
       "    </tr>\n",
       "    <tr>\n",
       "        <td>77</td>\n",
       "    </tr>\n",
       "</table>"
      ],
      "text/plain": [
       "[(77,)]"
      ]
     },
     "execution_count": 54,
     "metadata": {},
     "output_type": "execute_result"
    }
   ],
   "source": [
    "%%sql\n",
    "SELECT COUNT(*)\n",
    "FROM products p\n",
    "NATURAL JOIN categories c\n",
    "LIMIT 10;"
   ]
  },
  {
   "cell_type": "code",
   "execution_count": 55,
   "metadata": {},
   "outputs": [
    {
     "name": "stdout",
     "output_type": "stream",
     "text": [
      " * postgresql://postgres:***@db\n",
      "9 rows affected.\n"
     ]
    },
    {
     "data": {
      "text/html": [
       "<table>\n",
       "    <tr>\n",
       "        <th>employeeid</th>\n",
       "        <th>firstname</th>\n",
       "        <th>tot_val</th>\n",
       "    </tr>\n",
       "    <tr>\n",
       "        <td>4</td>\n",
       "        <td>Margaret</td>\n",
       "        <td>250187.4502530098</td>\n",
       "    </tr>\n",
       "    <tr>\n",
       "        <td>3</td>\n",
       "        <td>Janet</td>\n",
       "        <td>213051.2994799614</td>\n",
       "    </tr>\n",
       "    <tr>\n",
       "        <td>1</td>\n",
       "        <td>Nancy</td>\n",
       "        <td>202143.7103085518</td>\n",
       "    </tr>\n",
       "    <tr>\n",
       "        <td>2</td>\n",
       "        <td>Andrew</td>\n",
       "        <td>177749.2604765892</td>\n",
       "    </tr>\n",
       "    <tr>\n",
       "        <td>7</td>\n",
       "        <td>Robert</td>\n",
       "        <td>141295.99010276794</td>\n",
       "    </tr>\n",
       "    <tr>\n",
       "        <td>8</td>\n",
       "        <td>Laura</td>\n",
       "        <td>133301.0300655365</td>\n",
       "    </tr>\n",
       "    <tr>\n",
       "        <td>9</td>\n",
       "        <td>Anne</td>\n",
       "        <td>82963.9998178482</td>\n",
       "    </tr>\n",
       "    <tr>\n",
       "        <td>6</td>\n",
       "        <td>Michael</td>\n",
       "        <td>78198.09993362427</td>\n",
       "    </tr>\n",
       "    <tr>\n",
       "        <td>5</td>\n",
       "        <td>Steven</td>\n",
       "        <td>75567.75000333786</td>\n",
       "    </tr>\n",
       "</table>"
      ],
      "text/plain": [
       "[(4, 'Margaret', 250187.4502530098),\n",
       " (3, 'Janet', 213051.2994799614),\n",
       " (1, 'Nancy', 202143.7103085518),\n",
       " (2, 'Andrew', 177749.2604765892),\n",
       " (7, 'Robert', 141295.99010276794),\n",
       " (8, 'Laura', 133301.0300655365),\n",
       " (9, 'Anne', 82963.9998178482),\n",
       " (6, 'Michael', 78198.09993362427),\n",
       " (5, 'Steven', 75567.75000333786)]"
      ]
     },
     "execution_count": 55,
     "metadata": {},
     "output_type": "execute_result"
    }
   ],
   "source": [
    "%%sql\n",
    "SELECT nw.employeeid, nw.firstname, SUM(unitprice * quantity) AS tot_val\n",
    "FROM nwemployees nw\n",
    "JOIN orders o\n",
    "ON o.employeeid = nw.employeeid\n",
    "JOIN order_details od\n",
    "ON od.orderid = o.orderid\n",
    "GROUP BY nw.employeeid, nw.firstname\n",
    "ORDER BY tot_val DESC\n",
    "LIMIT 10;"
   ]
  },
  {
   "cell_type": "code",
   "execution_count": 56,
   "metadata": {},
   "outputs": [
    {
     "name": "stdout",
     "output_type": "stream",
     "text": [
      " * postgresql://postgres:***@db\n",
      "1 rows affected.\n"
     ]
    },
    {
     "data": {
      "text/html": [
       "<table>\n",
       "    <tr>\n",
       "        <th>count</th>\n",
       "    </tr>\n",
       "    <tr>\n",
       "        <td>77</td>\n",
       "    </tr>\n",
       "</table>"
      ],
      "text/plain": [
       "[(77,)]"
      ]
     },
     "execution_count": 56,
     "metadata": {},
     "output_type": "execute_result"
    }
   ],
   "source": [
    "%%sql\n",
    "SELECT COUNT(*)\n",
    "FROM nwemployees\n",
    "NATURAL JOIN products p1\n",
    "NATURAL JOIN products p2\n",
    "NATURAL JOIN products p3\n",
    "NATURAL JOIN products p4\n",
    "NATURAL JOIN products p5\n",
    "NATURAL JOIN products p6\n",
    "WHERE titleofcourtesy = 'Mrs.'\n",
    "LIMIT 10;"
   ]
  },
  {
   "cell_type": "code",
   "execution_count": 57,
   "metadata": {},
   "outputs": [
    {
     "name": "stdout",
     "output_type": "stream",
     "text": [
      " * postgresql://postgres:***@db\n",
      "8 rows affected.\n"
     ]
    },
    {
     "data": {
      "text/html": [
       "<table>\n",
       "    <tr>\n",
       "        <th>categoryname</th>\n",
       "        <th>tot_quant</th>\n",
       "    </tr>\n",
       "    <tr>\n",
       "        <td>Beverages</td>\n",
       "        <td>948</td>\n",
       "    </tr>\n",
       "    <tr>\n",
       "        <td>Dairy Products</td>\n",
       "        <td>940</td>\n",
       "    </tr>\n",
       "    <tr>\n",
       "        <td>Confections</td>\n",
       "        <td>742</td>\n",
       "    </tr>\n",
       "    <tr>\n",
       "        <td>Seafood</td>\n",
       "        <td>555</td>\n",
       "    </tr>\n",
       "    <tr>\n",
       "        <td>Condiments</td>\n",
       "        <td>486</td>\n",
       "    </tr>\n",
       "    <tr>\n",
       "        <td>Meat/Poultry</td>\n",
       "        <td>395</td>\n",
       "    </tr>\n",
       "    <tr>\n",
       "        <td>Grains/Cereals</td>\n",
       "        <td>320</td>\n",
       "    </tr>\n",
       "    <tr>\n",
       "        <td>Produce</td>\n",
       "        <td>268</td>\n",
       "    </tr>\n",
       "</table>"
      ],
      "text/plain": [
       "[('Beverages', 948),\n",
       " ('Dairy Products', 940),\n",
       " ('Confections', 742),\n",
       " ('Seafood', 555),\n",
       " ('Condiments', 486),\n",
       " ('Meat/Poultry', 395),\n",
       " ('Grains/Cereals', 320),\n",
       " ('Produce', 268)]"
      ]
     },
     "execution_count": 57,
     "metadata": {},
     "output_type": "execute_result"
    }
   ],
   "source": [
    "%%sql \n",
    "SELECT c.categoryname, SUM(quantity) AS tot_quant\n",
    "FROM nwemployees e\n",
    "JOIN orders o\n",
    "ON e.employeeid = o.employeeid\n",
    "JOIN order_details od\n",
    "ON od.orderid = o.orderid\n",
    "JOIN products p\n",
    "ON p.productid = od.productid\n",
    "JOIN categories c\n",
    "ON c.categoryid = p.categoryid\n",
    "WHERE e.firstname = 'Robert'\n",
    "GROUP BY c.categoryname \n",
    "ORDER BY tot_quant DESC\n",
    "LIMIT 10;"
   ]
  },
  {
   "cell_type": "code",
   "execution_count": 58,
   "metadata": {},
   "outputs": [
    {
     "name": "stdout",
     "output_type": "stream",
     "text": [
      " * postgresql://postgres:***@db\n",
      "1 rows affected.\n"
     ]
    },
    {
     "data": {
      "text/html": [
       "<table>\n",
       "    <tr>\n",
       "        <th>count</th>\n",
       "    </tr>\n",
       "    <tr>\n",
       "        <td>6</td>\n",
       "    </tr>\n",
       "</table>"
      ],
      "text/plain": [
       "[(6,)]"
      ]
     },
     "execution_count": 58,
     "metadata": {},
     "output_type": "execute_result"
    }
   ],
   "source": [
    "%%sql\n",
    "SELECT COUNT(DISTINCT o.orderid)\n",
    "FROM orders o\n",
    "JOIN order_details od\n",
    "ON o.orderid = od.orderid\n",
    "WHERE EXTRACT(month from orderdate) = 3 AND shippeddate >= requireddate\n",
    "LIMIT 10;"
   ]
  },
  {
   "cell_type": "code",
   "execution_count": 59,
   "metadata": {},
   "outputs": [
    {
     "name": "stdout",
     "output_type": "stream",
     "text": [
      " * postgresql://postgres:***@db\n",
      "1 rows affected.\n"
     ]
    },
    {
     "data": {
      "text/html": [
       "<table>\n",
       "    <tr>\n",
       "        <th>count</th>\n",
       "    </tr>\n",
       "    <tr>\n",
       "        <td>10</td>\n",
       "    </tr>\n",
       "</table>"
      ],
      "text/plain": [
       "[(10,)]"
      ]
     },
     "execution_count": 59,
     "metadata": {},
     "output_type": "execute_result"
    }
   ],
   "source": [
    "%%sql\n",
    "SELECT COUNT(DISTINCT supplierid)\n",
    "FROM \n",
    "    (SELECT supplierid\n",
    "    FROM products\n",
    "    WHERE discontinued = 0\n",
    "    GROUP BY supplierid\n",
    "    HAVING COUNT(productid) = 3)"
   ]
  },
  {
   "cell_type": "code",
   "execution_count": 60,
   "metadata": {},
   "outputs": [
    {
     "name": "stdout",
     "output_type": "stream",
     "text": [
      " * postgresql://postgres:***@db\n",
      "1 rows affected.\n"
     ]
    },
    {
     "data": {
      "text/html": [
       "<table>\n",
       "    <tr>\n",
       "        <th>territorydescription</th>\n",
       "    </tr>\n",
       "    <tr>\n",
       "        <td>Cambridge</td>\n",
       "    </tr>\n",
       "</table>"
      ],
      "text/plain": [
       "[('Cambridge',)]"
      ]
     },
     "execution_count": 60,
     "metadata": {},
     "output_type": "execute_result"
    }
   ],
   "source": [
    "%%sql\n",
    "SELECT territorydescription\n",
    "FROM territories t\n",
    "JOIN employeeterritories et\n",
    "ON t.territoryid = et.territoryid\n",
    "JOIN nwemployees nw\n",
    "ON nw.employeeid = et.employeeid\n",
    "WHERE title != 'Sales Representative'\n",
    "ORDER BY territorydescription ASC\n",
    "LIMIT 1 OFFSET 4;"
   ]
  },
  {
   "cell_type": "code",
   "execution_count": 61,
   "metadata": {},
   "outputs": [
    {
     "name": "stdout",
     "output_type": "stream",
     "text": [
      " * postgresql://postgres:***@db\n",
      "1 rows affected.\n"
     ]
    },
    {
     "data": {
      "text/html": [
       "<table>\n",
       "    <tr>\n",
       "        <th>count</th>\n",
       "    </tr>\n",
       "    <tr>\n",
       "        <td>323</td>\n",
       "    </tr>\n",
       "</table>"
      ],
      "text/plain": [
       "[(323,)]"
      ]
     },
     "execution_count": 61,
     "metadata": {},
     "output_type": "execute_result"
    }
   ],
   "source": [
    "%%sql\n",
    "SELECT COUNT(*)\n",
    "FROM \n",
    "    (SELECT orderid\n",
    "    FROM \n",
    "        (SELECT o.orderid, SUM(quantity) AS quant\n",
    "        FROM orders o\n",
    "        JOIN order_details od\n",
    "        ON o.orderid = od.orderid\n",
    "        GROUP BY o.orderid) AS t\n",
    "    NATURAL JOIN\n",
    "        (SELECT o.orderid, SUM(CAST(quantity AS NUMERIC)) AS quant_disc\n",
    "        FROM orders o\n",
    "        JOIN order_details od\n",
    "        ON o.orderid = od.orderid\n",
    "        WHERE discount > 0\n",
    "        GROUP BY o.orderid) AS d\n",
    "    WHERE quant_disc / quant >= 0.5)"
   ]
  },
  {
   "cell_type": "code",
   "execution_count": 62,
   "metadata": {},
   "outputs": [
    {
     "name": "stdout",
     "output_type": "stream",
     "text": [
      " * postgresql://postgres:***@db\n",
      "1 rows affected.\n"
     ]
    },
    {
     "data": {
      "text/html": [
       "<table>\n",
       "    <tr>\n",
       "        <th>customerid</th>\n",
       "        <th>num_orders</th>\n",
       "    </tr>\n",
       "    <tr>\n",
       "        <td>ERNSH</td>\n",
       "        <td>19</td>\n",
       "    </tr>\n",
       "</table>"
      ],
      "text/plain": [
       "[('ERNSH', 19)]"
      ]
     },
     "execution_count": 62,
     "metadata": {},
     "output_type": "execute_result"
    }
   ],
   "source": [
    "%%sql\n",
    "SELECT customerid, COUNT(DISTINCT o.orderid) AS num_orders\n",
    "FROM orders o\n",
    "JOIN order_details od\n",
    "ON o.orderid = od.orderid\n",
    "WHERE discount > 0\n",
    "GROUP BY customerid\n",
    "ORDER BY num_orders DESC, customerid\n",
    "LIMIT 1;"
   ]
  },
  {
   "cell_type": "code",
   "execution_count": 63,
   "metadata": {},
   "outputs": [
    {
     "name": "stdout",
     "output_type": "stream",
     "text": [
      " * postgresql://postgres:***@db\n",
      "1 rows affected.\n"
     ]
    },
    {
     "data": {
      "text/html": [
       "<table>\n",
       "    <tr>\n",
       "        <th>count</th>\n",
       "    </tr>\n",
       "    <tr>\n",
       "        <td>1825</td>\n",
       "    </tr>\n",
       "</table>"
      ],
      "text/plain": [
       "[(1825,)]"
      ]
     },
     "execution_count": 63,
     "metadata": {},
     "output_type": "execute_result"
    }
   ],
   "source": [
    "%%sql\n",
    "SELECT COUNT(*)\n",
    "FROM\n",
    "    (SELECT DISTINCT productid, unitprice, quantity, discount\n",
    "    FROM order_details)"
   ]
  },
  {
   "cell_type": "markdown",
   "metadata": {},
   "source": [
    "---"
   ]
  },
  {
   "cell_type": "markdown",
   "metadata": {},
   "source": [
    "# Round 6"
   ]
  },
  {
   "cell_type": "code",
   "execution_count": 64,
   "metadata": {},
   "outputs": [
    {
     "name": "stdout",
     "output_type": "stream",
     "text": [
      " * postgresql://postgres:***@db\n",
      "1 rows affected.\n"
     ]
    },
    {
     "data": {
      "text/html": [
       "<table>\n",
       "    <tr>\n",
       "        <th>count</th>\n",
       "    </tr>\n",
       "    <tr>\n",
       "        <td>77</td>\n",
       "    </tr>\n",
       "</table>"
      ],
      "text/plain": [
       "[(77,)]"
      ]
     },
     "execution_count": 64,
     "metadata": {},
     "output_type": "execute_result"
    }
   ],
   "source": [
    "%%sql\n",
    "SELECT COUNT(*)\n",
    "FROM products p\n",
    "NATURAL JOIN categories c\n",
    "LIMIT 10;"
   ]
  },
  {
   "cell_type": "code",
   "execution_count": 65,
   "metadata": {},
   "outputs": [
    {
     "name": "stdout",
     "output_type": "stream",
     "text": [
      " * postgresql://postgres:***@db\n",
      "5 rows affected.\n"
     ]
    },
    {
     "data": {
      "text/html": [
       "<table>\n",
       "    <tr>\n",
       "        <th>employeeid</th>\n",
       "        <th>firstname</th>\n",
       "        <th>tot_val</th>\n",
       "    </tr>\n",
       "    <tr>\n",
       "        <td>4</td>\n",
       "        <td>Margaret</td>\n",
       "        <td>250187</td>\n",
       "    </tr>\n",
       "    <tr>\n",
       "        <td>3</td>\n",
       "        <td>Janet</td>\n",
       "        <td>213051</td>\n",
       "    </tr>\n",
       "    <tr>\n",
       "        <td>1</td>\n",
       "        <td>Nancy</td>\n",
       "        <td>202144</td>\n",
       "    </tr>\n",
       "    <tr>\n",
       "        <td>2</td>\n",
       "        <td>Andrew</td>\n",
       "        <td>177749</td>\n",
       "    </tr>\n",
       "    <tr>\n",
       "        <td>7</td>\n",
       "        <td>Robert</td>\n",
       "        <td>141296</td>\n",
       "    </tr>\n",
       "</table>"
      ],
      "text/plain": [
       "[(4, 'Margaret', Decimal('250187')),\n",
       " (3, 'Janet', Decimal('213051')),\n",
       " (1, 'Nancy', Decimal('202144')),\n",
       " (2, 'Andrew', Decimal('177749')),\n",
       " (7, 'Robert', Decimal('141296'))]"
      ]
     },
     "execution_count": 65,
     "metadata": {},
     "output_type": "execute_result"
    }
   ],
   "source": [
    "%%sql\n",
    "SELECT nw.employeeid, nw.firstname, ROUND(SUM(CAST(unitprice AS NUMERIC) * quantity),0) AS tot_val\n",
    "FROM nwemployees nw\n",
    "JOIN orders o\n",
    "ON nw.employeeid = o.employeeid\n",
    "JOIN order_details od\n",
    "ON od.orderid = o.orderid\n",
    "GROUP BY nw.employeeid, nw.firstname\n",
    "ORDER BY tot_val DESC\n",
    "LIMIT 5;"
   ]
  },
  {
   "cell_type": "code",
   "execution_count": 66,
   "metadata": {},
   "outputs": [
    {
     "name": "stdout",
     "output_type": "stream",
     "text": [
      " * postgresql://postgres:***@db\n",
      "1 rows affected.\n"
     ]
    },
    {
     "data": {
      "text/html": [
       "<table>\n",
       "    <tr>\n",
       "        <th>count</th>\n",
       "    </tr>\n",
       "    <tr>\n",
       "        <td>77</td>\n",
       "    </tr>\n",
       "</table>"
      ],
      "text/plain": [
       "[(77,)]"
      ]
     },
     "execution_count": 66,
     "metadata": {},
     "output_type": "execute_result"
    }
   ],
   "source": [
    "%%sql\n",
    "SELECT COUNT(*)\n",
    "FROM nwemployees e\n",
    "NATURAL JOIN products p1\n",
    "NATURAL JOIN products p2\n",
    "NATURAL JOIN products p3\n",
    "NATURAL JOIN products p4\n",
    "NATURAL JOIN products p5\n",
    "NATURAL JOIN products p6\n",
    "WHERE titleofcourtesy = 'Mrs.'\n",
    "LIMIT 10;"
   ]
  },
  {
   "cell_type": "code",
   "execution_count": 67,
   "metadata": {},
   "outputs": [
    {
     "name": "stdout",
     "output_type": "stream",
     "text": [
      " * postgresql://postgres:***@db\n",
      "5 rows affected.\n"
     ]
    },
    {
     "data": {
      "text/html": [
       "<table>\n",
       "    <tr>\n",
       "        <th>categoryname</th>\n",
       "        <th>tot_quant</th>\n",
       "    </tr>\n",
       "    <tr>\n",
       "        <td>Beverages</td>\n",
       "        <td>948</td>\n",
       "    </tr>\n",
       "    <tr>\n",
       "        <td>Dairy Products</td>\n",
       "        <td>940</td>\n",
       "    </tr>\n",
       "    <tr>\n",
       "        <td>Confections</td>\n",
       "        <td>742</td>\n",
       "    </tr>\n",
       "    <tr>\n",
       "        <td>Seafood</td>\n",
       "        <td>555</td>\n",
       "    </tr>\n",
       "    <tr>\n",
       "        <td>Condiments</td>\n",
       "        <td>486</td>\n",
       "    </tr>\n",
       "</table>"
      ],
      "text/plain": [
       "[('Beverages', 948),\n",
       " ('Dairy Products', 940),\n",
       " ('Confections', 742),\n",
       " ('Seafood', 555),\n",
       " ('Condiments', 486)]"
      ]
     },
     "execution_count": 67,
     "metadata": {},
     "output_type": "execute_result"
    }
   ],
   "source": [
    "%%sql\n",
    "SELECT categoryname, SUM(quantity) AS tot_quant\n",
    "FROM nwemployees nw\n",
    "JOIN orders o\n",
    "ON o.employeeid = nw.employeeid\n",
    "JOIN order_details od\n",
    "ON od.orderid = o.orderid\n",
    "JOIN products p\n",
    "ON p.productid = od.productid\n",
    "JOIN categories c\n",
    "ON c.categoryid = p.categoryid\n",
    "WHERE firstname = 'Robert'\n",
    "GROUP BY categoryname\n",
    "ORDER BY tot_quant DESC\n",
    "LIMIT 5;"
   ]
  },
  {
   "cell_type": "code",
   "execution_count": 68,
   "metadata": {},
   "outputs": [
    {
     "name": "stdout",
     "output_type": "stream",
     "text": [
      " * postgresql://postgres:***@db\n",
      "1 rows affected.\n"
     ]
    },
    {
     "data": {
      "text/html": [
       "<table>\n",
       "    <tr>\n",
       "        <th>count</th>\n",
       "    </tr>\n",
       "    <tr>\n",
       "        <td>5</td>\n",
       "    </tr>\n",
       "</table>"
      ],
      "text/plain": [
       "[(5,)]"
      ]
     },
     "execution_count": 68,
     "metadata": {},
     "output_type": "execute_result"
    }
   ],
   "source": [
    "%%sql\n",
    "SELECT COUNT(*)\n",
    "FROM orders\n",
    "WHERE EXTRACT(MONTH FROM orderdate) = 3 AND requireddate < shippeddate\n",
    "LIMIT 10;"
   ]
  },
  {
   "cell_type": "code",
   "execution_count": 69,
   "metadata": {},
   "outputs": [
    {
     "name": "stdout",
     "output_type": "stream",
     "text": [
      " * postgresql://postgres:***@db\n",
      "1 rows affected.\n"
     ]
    },
    {
     "data": {
      "text/html": [
       "<table>\n",
       "    <tr>\n",
       "        <th>count</th>\n",
       "    </tr>\n",
       "    <tr>\n",
       "        <td>10</td>\n",
       "    </tr>\n",
       "</table>"
      ],
      "text/plain": [
       "[(10,)]"
      ]
     },
     "execution_count": 69,
     "metadata": {},
     "output_type": "execute_result"
    }
   ],
   "source": [
    "%%sql\n",
    "SELECT COUNT(*)\n",
    "FROM\n",
    "    (SELECT supplierid\n",
    "    FROM products\n",
    "    WHERE discontinued = 0\n",
    "    GROUP BY supplierid\n",
    "    HAVING COUNT(DISTINCT productid) = 3)"
   ]
  },
  {
   "cell_type": "code",
   "execution_count": 70,
   "metadata": {},
   "outputs": [
    {
     "name": "stdout",
     "output_type": "stream",
     "text": [
      " * postgresql://postgres:***@db\n",
      "1 rows affected.\n"
     ]
    },
    {
     "data": {
      "text/html": [
       "<table>\n",
       "    <tr>\n",
       "        <th>territorydescription</th>\n",
       "    </tr>\n",
       "    <tr>\n",
       "        <td>Cambridge</td>\n",
       "    </tr>\n",
       "</table>"
      ],
      "text/plain": [
       "[('Cambridge',)]"
      ]
     },
     "execution_count": 70,
     "metadata": {},
     "output_type": "execute_result"
    }
   ],
   "source": [
    "%%sql\n",
    "SELECT territorydescription\n",
    "FROM employeeterritories et\n",
    "JOIN territories t\n",
    "ON et.territoryid = t.territoryid\n",
    "JOIN nwemployees nw\n",
    "ON nw.employeeid = et.employeeid\n",
    "WHERE nw.title != 'Sales Representative'\n",
    "ORDER BY t.territorydescription ASC\n",
    "LIMIT 1 OFFSET 4;"
   ]
  },
  {
   "cell_type": "code",
   "execution_count": 71,
   "metadata": {},
   "outputs": [
    {
     "name": "stdout",
     "output_type": "stream",
     "text": [
      " * postgresql://postgres:***@db\n",
      "1 rows affected.\n"
     ]
    },
    {
     "data": {
      "text/html": [
       "<table>\n",
       "    <tr>\n",
       "        <th>count</th>\n",
       "    </tr>\n",
       "    <tr>\n",
       "        <td>323</td>\n",
       "    </tr>\n",
       "</table>"
      ],
      "text/plain": [
       "[(323,)]"
      ]
     },
     "execution_count": 71,
     "metadata": {},
     "output_type": "execute_result"
    }
   ],
   "source": [
    "%%sql\n",
    "\n",
    "SELECT COUNT(orderid)\n",
    "FROM \n",
    "(SELECT o.orderid, SUM(quantity) AS quant_tot\n",
    "FROM orders o\n",
    "JOIN order_details od\n",
    "ON o.orderid = od.orderid\n",
    "GROUP BY o.orderid)\n",
    "NATURAL JOIN\n",
    "(SELECT o.orderid, SUM(quantity) AS quant_disc\n",
    "FROM orders o\n",
    "JOIN order_details od\n",
    "ON o.orderid = od.orderid\n",
    "WHERE discount > 0.0\n",
    "GROUP BY o.orderid)\n",
    "WHERE CAST(quant_disc AS NUMERIC) / quant_tot >= 0.5"
   ]
  },
  {
   "cell_type": "code",
   "execution_count": 72,
   "metadata": {},
   "outputs": [
    {
     "name": "stdout",
     "output_type": "stream",
     "text": [
      " * postgresql://postgres:***@db\n",
      "1 rows affected.\n"
     ]
    },
    {
     "data": {
      "text/html": [
       "<table>\n",
       "    <tr>\n",
       "        <th>customerid</th>\n",
       "        <th>tot_orders</th>\n",
       "    </tr>\n",
       "    <tr>\n",
       "        <td>ERNSH</td>\n",
       "        <td>19</td>\n",
       "    </tr>\n",
       "</table>"
      ],
      "text/plain": [
       "[('ERNSH', 19)]"
      ]
     },
     "execution_count": 72,
     "metadata": {},
     "output_type": "execute_result"
    }
   ],
   "source": [
    "%%sql\n",
    "SELECT customerid, COUNT(DISTINCT o.orderid) AS tot_orders\n",
    "FROM orders o\n",
    "JOIN order_details od\n",
    "ON o.orderid = od.orderid\n",
    "WHERE discount > 0\n",
    "GROUP BY customerid\n",
    "ORDER BY tot_orders DESC, customerid ASC\n",
    "LIMIT 1;"
   ]
  },
  {
   "cell_type": "code",
   "execution_count": 73,
   "metadata": {},
   "outputs": [
    {
     "name": "stdout",
     "output_type": "stream",
     "text": [
      " * postgresql://postgres:***@db\n",
      "1 rows affected.\n"
     ]
    },
    {
     "data": {
      "text/html": [
       "<table>\n",
       "    <tr>\n",
       "        <th>count</th>\n",
       "    </tr>\n",
       "    <tr>\n",
       "        <td>1825</td>\n",
       "    </tr>\n",
       "</table>"
      ],
      "text/plain": [
       "[(1825,)]"
      ]
     },
     "execution_count": 73,
     "metadata": {},
     "output_type": "execute_result"
    }
   ],
   "source": [
    "%%sql\n",
    "SELECT COUNT(*)\n",
    "FROM\n",
    "    (SELECT DISTINCT productid, unitprice, quantity, discount\n",
    "    FROM order_details)"
   ]
  },
  {
   "cell_type": "markdown",
   "metadata": {},
   "source": [
    "---"
   ]
  },
  {
   "cell_type": "markdown",
   "metadata": {},
   "source": [
    "# Round 7"
   ]
  },
  {
   "cell_type": "code",
   "execution_count": 74,
   "metadata": {},
   "outputs": [
    {
     "name": "stdout",
     "output_type": "stream",
     "text": [
      " * postgresql://postgres:***@db\n",
      "1 rows affected.\n"
     ]
    },
    {
     "data": {
      "text/html": [
       "<table>\n",
       "    <tr>\n",
       "        <th>count</th>\n",
       "    </tr>\n",
       "    <tr>\n",
       "        <td>77</td>\n",
       "    </tr>\n",
       "</table>"
      ],
      "text/plain": [
       "[(77,)]"
      ]
     },
     "execution_count": 74,
     "metadata": {},
     "output_type": "execute_result"
    }
   ],
   "source": [
    "%%sql\n",
    "SELECT COUNT(*)\n",
    "FROM products\n",
    "NATURAL JOIN categories\n",
    "LIMIT 10;"
   ]
  },
  {
   "cell_type": "code",
   "execution_count": 75,
   "metadata": {},
   "outputs": [
    {
     "name": "stdout",
     "output_type": "stream",
     "text": [
      " * postgresql://postgres:***@db\n",
      "5 rows affected.\n"
     ]
    },
    {
     "data": {
      "text/html": [
       "<table>\n",
       "    <tr>\n",
       "        <th>firstname</th>\n",
       "        <th>tot_val</th>\n",
       "    </tr>\n",
       "    <tr>\n",
       "        <td>Margaret</td>\n",
       "        <td>250187.4502530098</td>\n",
       "    </tr>\n",
       "    <tr>\n",
       "        <td>Janet</td>\n",
       "        <td>213051.2994799614</td>\n",
       "    </tr>\n",
       "    <tr>\n",
       "        <td>Nancy</td>\n",
       "        <td>202143.7103085518</td>\n",
       "    </tr>\n",
       "    <tr>\n",
       "        <td>Andrew</td>\n",
       "        <td>177749.2604765892</td>\n",
       "    </tr>\n",
       "    <tr>\n",
       "        <td>Robert</td>\n",
       "        <td>141295.99010276794</td>\n",
       "    </tr>\n",
       "</table>"
      ],
      "text/plain": [
       "[('Margaret', 250187.4502530098),\n",
       " ('Janet', 213051.2994799614),\n",
       " ('Nancy', 202143.7103085518),\n",
       " ('Andrew', 177749.2604765892),\n",
       " ('Robert', 141295.99010276794)]"
      ]
     },
     "execution_count": 75,
     "metadata": {},
     "output_type": "execute_result"
    }
   ],
   "source": [
    "%%sql\n",
    "SELECT nw.firstname, SUM(quantity * unitprice) AS tot_val\n",
    "FROM nwemployees nw\n",
    "JOIN orders o\n",
    "ON nw.employeeid = o.employeeid\n",
    "JOIN order_details od\n",
    "ON od.orderid = o.orderid\n",
    "GROUP BY nw.firstname\n",
    "ORDER BY tot_val DESC\n",
    "LIMIT 5;"
   ]
  },
  {
   "cell_type": "code",
   "execution_count": 76,
   "metadata": {},
   "outputs": [
    {
     "name": "stdout",
     "output_type": "stream",
     "text": [
      " * postgresql://postgres:***@db\n",
      "1 rows affected.\n"
     ]
    },
    {
     "data": {
      "text/html": [
       "<table>\n",
       "    <tr>\n",
       "        <th>count</th>\n",
       "    </tr>\n",
       "    <tr>\n",
       "        <td>77</td>\n",
       "    </tr>\n",
       "</table>"
      ],
      "text/plain": [
       "[(77,)]"
      ]
     },
     "execution_count": 76,
     "metadata": {},
     "output_type": "execute_result"
    }
   ],
   "source": [
    "%%sql\n",
    "SELECT COUNT(*)\n",
    "FROM nwemployees\n",
    "NATURAL JOIN products p1\n",
    "NATURAL JOIN products p2\n",
    "NATURAL JOIN products p3\n",
    "NATURAL JOIN products p4\n",
    "NATURAL JOIN products p5\n",
    "NATURAL JOIN products p6\n",
    "WHERE titleofcourtesy = 'Mrs.'\n",
    "LIMIT 10;"
   ]
  },
  {
   "cell_type": "code",
   "execution_count": 77,
   "metadata": {},
   "outputs": [
    {
     "name": "stdout",
     "output_type": "stream",
     "text": [
      " * postgresql://postgres:***@db\n",
      "5 rows affected.\n"
     ]
    },
    {
     "data": {
      "text/html": [
       "<table>\n",
       "    <tr>\n",
       "        <th>categoryname</th>\n",
       "        <th>tot_quant</th>\n",
       "    </tr>\n",
       "    <tr>\n",
       "        <td>Beverages</td>\n",
       "        <td>948</td>\n",
       "    </tr>\n",
       "    <tr>\n",
       "        <td>Dairy Products</td>\n",
       "        <td>940</td>\n",
       "    </tr>\n",
       "    <tr>\n",
       "        <td>Confections</td>\n",
       "        <td>742</td>\n",
       "    </tr>\n",
       "    <tr>\n",
       "        <td>Seafood</td>\n",
       "        <td>555</td>\n",
       "    </tr>\n",
       "    <tr>\n",
       "        <td>Condiments</td>\n",
       "        <td>486</td>\n",
       "    </tr>\n",
       "</table>"
      ],
      "text/plain": [
       "[('Beverages', 948),\n",
       " ('Dairy Products', 940),\n",
       " ('Confections', 742),\n",
       " ('Seafood', 555),\n",
       " ('Condiments', 486)]"
      ]
     },
     "execution_count": 77,
     "metadata": {},
     "output_type": "execute_result"
    }
   ],
   "source": [
    "%%sql\n",
    "SELECT c.categoryname, SUM(od.quantity) AS tot_quant\n",
    "FROM nwemployees nw\n",
    "JOIN orders o\n",
    "ON nw.employeeid = o.employeeid\n",
    "JOIN order_details od\n",
    "ON o.orderid = od.orderid\n",
    "JOIN products p\n",
    "ON od.productid = p.productid\n",
    "JOIN categories c\n",
    "ON p.categoryid = c.categoryid\n",
    "WHERE firstname = 'Robert'\n",
    "GROUP BY c.categoryname\n",
    "ORDER BY tot_quant DESC\n",
    "LIMIT 5;"
   ]
  },
  {
   "cell_type": "code",
   "execution_count": 78,
   "metadata": {},
   "outputs": [
    {
     "name": "stdout",
     "output_type": "stream",
     "text": [
      " * postgresql://postgres:***@db\n",
      "1 rows affected.\n"
     ]
    },
    {
     "data": {
      "text/html": [
       "<table>\n",
       "    <tr>\n",
       "        <th>count</th>\n",
       "    </tr>\n",
       "    <tr>\n",
       "        <td>5</td>\n",
       "    </tr>\n",
       "</table>"
      ],
      "text/plain": [
       "[(5,)]"
      ]
     },
     "execution_count": 78,
     "metadata": {},
     "output_type": "execute_result"
    }
   ],
   "source": [
    "%%sql\n",
    "SELECT COUNT(DISTINCT orderid)\n",
    "FROM orders\n",
    "WHERE EXTRACT(MONTH FROM orderdate) = 3 AND shippeddate > requireddate\n",
    "LIMIT 10;"
   ]
  },
  {
   "cell_type": "code",
   "execution_count": 79,
   "metadata": {},
   "outputs": [
    {
     "name": "stdout",
     "output_type": "stream",
     "text": [
      " * postgresql://postgres:***@db\n",
      "1 rows affected.\n"
     ]
    },
    {
     "data": {
      "text/html": [
       "<table>\n",
       "    <tr>\n",
       "        <th>count</th>\n",
       "    </tr>\n",
       "    <tr>\n",
       "        <td>10</td>\n",
       "    </tr>\n",
       "</table>"
      ],
      "text/plain": [
       "[(10,)]"
      ]
     },
     "execution_count": 79,
     "metadata": {},
     "output_type": "execute_result"
    }
   ],
   "source": [
    "%%sql\n",
    "SELECT COUNT(*)\n",
    "FROM\n",
    "    (SELECT supplierid\n",
    "    FROM products\n",
    "    WHERE discontinued = 0\n",
    "    GROUP BY supplierid\n",
    "    HAVING COUNT(DISTINCT productid) = 3)"
   ]
  },
  {
   "cell_type": "code",
   "execution_count": 80,
   "metadata": {},
   "outputs": [
    {
     "name": "stdout",
     "output_type": "stream",
     "text": [
      " * postgresql://postgres:***@db\n",
      "1 rows affected.\n"
     ]
    },
    {
     "data": {
      "text/html": [
       "<table>\n",
       "    <tr>\n",
       "        <th>territorydescription</th>\n",
       "    </tr>\n",
       "    <tr>\n",
       "        <td>Cambridge</td>\n",
       "    </tr>\n",
       "</table>"
      ],
      "text/plain": [
       "[('Cambridge',)]"
      ]
     },
     "execution_count": 80,
     "metadata": {},
     "output_type": "execute_result"
    }
   ],
   "source": [
    "%%sql\n",
    "SELECT territorydescription\n",
    "FROM territories t\n",
    "JOIN employeeterritories et\n",
    "ON t.territoryid = et.territoryid\n",
    "JOIN nwemployees e\n",
    "ON e.employeeid = et.employeeid\n",
    "WHERE title != 'Sales Representative'\n",
    "ORDER BY territorydescription ASC\n",
    "LIMIT 1 OFFSET 4;"
   ]
  },
  {
   "cell_type": "code",
   "execution_count": 81,
   "metadata": {},
   "outputs": [
    {
     "name": "stdout",
     "output_type": "stream",
     "text": [
      " * postgresql://postgres:***@db\n",
      "1 rows affected.\n"
     ]
    },
    {
     "data": {
      "text/html": [
       "<table>\n",
       "    <tr>\n",
       "        <th>count</th>\n",
       "    </tr>\n",
       "    <tr>\n",
       "        <td>323</td>\n",
       "    </tr>\n",
       "</table>"
      ],
      "text/plain": [
       "[(323,)]"
      ]
     },
     "execution_count": 81,
     "metadata": {},
     "output_type": "execute_result"
    }
   ],
   "source": [
    "%%sql\n",
    "SELECT COUNT(*)\n",
    "FROM \n",
    "    (SELECT f.orderid\n",
    "    FROM\n",
    "        (SELECT o.orderid, SUM(quantity) AS sum\n",
    "        FROM orders o\n",
    "        JOIN order_details od\n",
    "        ON o.orderid = od.orderid\n",
    "        GROUP BY o.orderid) AS f\n",
    "    JOIN\n",
    "        (SELECT o.orderid, SUM(quantity) AS sum_disc\n",
    "        FROM orders o\n",
    "        JOIN order_details od\n",
    "        ON o.orderid = od.orderid\n",
    "        WHERE discount > 0\n",
    "        GROUP BY o.orderid) AS d\n",
    "    ON d.orderid = f.orderid\n",
    "    WHERE CAST(sum_disc AS NUMERIC) / sum >= 0.5)"
   ]
  },
  {
   "cell_type": "code",
   "execution_count": 82,
   "metadata": {},
   "outputs": [
    {
     "name": "stdout",
     "output_type": "stream",
     "text": [
      " * postgresql://postgres:***@db\n",
      "1 rows affected.\n"
     ]
    },
    {
     "data": {
      "text/html": [
       "<table>\n",
       "    <tr>\n",
       "        <th>customerid</th>\n",
       "        <th>tot_orders</th>\n",
       "    </tr>\n",
       "    <tr>\n",
       "        <td>ERNSH</td>\n",
       "        <td>19</td>\n",
       "    </tr>\n",
       "</table>"
      ],
      "text/plain": [
       "[('ERNSH', 19)]"
      ]
     },
     "execution_count": 82,
     "metadata": {},
     "output_type": "execute_result"
    }
   ],
   "source": [
    "%%sql\n",
    "SELECT customerid, COUNT(DISTINCT o.orderid) AS tot_orders\n",
    "FROM orders o\n",
    "JOIN order_details od\n",
    "ON o.orderid = od.orderid\n",
    "WHERE discount > 0\n",
    "GROUP BY customerid\n",
    "ORDER BY tot_orders DESC, o.customerid ASC\n",
    "LIMIT 1;"
   ]
  },
  {
   "cell_type": "code",
   "execution_count": 83,
   "metadata": {},
   "outputs": [
    {
     "name": "stdout",
     "output_type": "stream",
     "text": [
      " * postgresql://postgres:***@db\n",
      "1 rows affected.\n"
     ]
    },
    {
     "data": {
      "text/html": [
       "<table>\n",
       "    <tr>\n",
       "        <th>count</th>\n",
       "    </tr>\n",
       "    <tr>\n",
       "        <td>1825</td>\n",
       "    </tr>\n",
       "</table>"
      ],
      "text/plain": [
       "[(1825,)]"
      ]
     },
     "execution_count": 83,
     "metadata": {},
     "output_type": "execute_result"
    }
   ],
   "source": [
    "%%sql\n",
    "SELECT COUNT(*)\n",
    "FROM (SELECT DISTINCT productid, unitprice, quantity, discount\n",
    "     FROM order_details)"
   ]
  },
  {
   "cell_type": "markdown",
   "metadata": {},
   "source": [
    "---"
   ]
  },
  {
   "cell_type": "markdown",
   "metadata": {},
   "source": [
    "# Round 8"
   ]
  },
  {
   "cell_type": "code",
   "execution_count": 84,
   "metadata": {},
   "outputs": [
    {
     "name": "stdout",
     "output_type": "stream",
     "text": [
      " * postgresql://postgres:***@db\n",
      "1 rows affected.\n"
     ]
    },
    {
     "data": {
      "text/html": [
       "<table>\n",
       "    <tr>\n",
       "        <th>count</th>\n",
       "    </tr>\n",
       "    <tr>\n",
       "        <td>77</td>\n",
       "    </tr>\n",
       "</table>"
      ],
      "text/plain": [
       "[(77,)]"
      ]
     },
     "execution_count": 84,
     "metadata": {},
     "output_type": "execute_result"
    }
   ],
   "source": [
    "%%sql\n",
    "SELECT COUNT(*)\n",
    "FROM products\n",
    "NATURAL JOIN categories\n",
    "LIMIT 10;"
   ]
  },
  {
   "cell_type": "code",
   "execution_count": 85,
   "metadata": {},
   "outputs": [
    {
     "name": "stdout",
     "output_type": "stream",
     "text": [
      " * postgresql://postgres:***@db\n",
      "5 rows affected.\n"
     ]
    },
    {
     "data": {
      "text/html": [
       "<table>\n",
       "    <tr>\n",
       "        <th>firstname</th>\n",
       "    </tr>\n",
       "    <tr>\n",
       "        <td>Margaret</td>\n",
       "    </tr>\n",
       "    <tr>\n",
       "        <td>Janet</td>\n",
       "    </tr>\n",
       "    <tr>\n",
       "        <td>Nancy</td>\n",
       "    </tr>\n",
       "    <tr>\n",
       "        <td>Andrew</td>\n",
       "    </tr>\n",
       "    <tr>\n",
       "        <td>Robert</td>\n",
       "    </tr>\n",
       "</table>"
      ],
      "text/plain": [
       "[('Margaret',), ('Janet',), ('Nancy',), ('Andrew',), ('Robert',)]"
      ]
     },
     "execution_count": 85,
     "metadata": {},
     "output_type": "execute_result"
    }
   ],
   "source": [
    "%%sql\n",
    "SELECT nw.firstname\n",
    "FROM orders o\n",
    "JOIN order_details od\n",
    "ON o.orderid = od.orderid\n",
    "JOIN nwemployees nw\n",
    "ON o.employeeid = nw.employeeid\n",
    "GROUP BY nw.firstname\n",
    "ORDER BY  SUM(quantity * unitprice) DESC\n",
    "LIMIT 5;"
   ]
  },
  {
   "cell_type": "code",
   "execution_count": 86,
   "metadata": {},
   "outputs": [
    {
     "name": "stdout",
     "output_type": "stream",
     "text": [
      " * postgresql://postgres:***@db\n",
      "1 rows affected.\n"
     ]
    },
    {
     "data": {
      "text/html": [
       "<table>\n",
       "    <tr>\n",
       "        <th>count</th>\n",
       "    </tr>\n",
       "    <tr>\n",
       "        <td>77</td>\n",
       "    </tr>\n",
       "</table>"
      ],
      "text/plain": [
       "[(77,)]"
      ]
     },
     "execution_count": 86,
     "metadata": {},
     "output_type": "execute_result"
    }
   ],
   "source": [
    "%%sql\n",
    "SELECT COUNT(*)\n",
    "FROM nwemployees nw\n",
    "NATURAL JOIN products p1\n",
    "NATURAL JOIN products p2\n",
    "NATURAL JOIN products p3\n",
    "NATURAL JOIN products p4\n",
    "NATURAL JOIN products p5\n",
    "NATURAL JOIN products p6\n",
    "WHERE titleofcourtesy = 'Mrs.'\n",
    "LIMIT 10;"
   ]
  },
  {
   "cell_type": "code",
   "execution_count": 87,
   "metadata": {},
   "outputs": [
    {
     "name": "stdout",
     "output_type": "stream",
     "text": [
      " * postgresql://postgres:***@db\n",
      "5 rows affected.\n"
     ]
    },
    {
     "data": {
      "text/html": [
       "<table>\n",
       "    <tr>\n",
       "        <th>categoryname</th>\n",
       "    </tr>\n",
       "    <tr>\n",
       "        <td>Beverages</td>\n",
       "    </tr>\n",
       "    <tr>\n",
       "        <td>Dairy Products</td>\n",
       "    </tr>\n",
       "    <tr>\n",
       "        <td>Confections</td>\n",
       "    </tr>\n",
       "    <tr>\n",
       "        <td>Seafood</td>\n",
       "    </tr>\n",
       "    <tr>\n",
       "        <td>Condiments</td>\n",
       "    </tr>\n",
       "</table>"
      ],
      "text/plain": [
       "[('Beverages',),\n",
       " ('Dairy Products',),\n",
       " ('Confections',),\n",
       " ('Seafood',),\n",
       " ('Condiments',)]"
      ]
     },
     "execution_count": 87,
     "metadata": {},
     "output_type": "execute_result"
    }
   ],
   "source": [
    "%%sql\n",
    "SELECT categoryname\n",
    "FROM orders o\n",
    "JOIN order_details od\n",
    "ON o.orderid = od.orderid\n",
    "JOIN products p\n",
    "ON od.productid = p.productid\n",
    "JOIN categories c\n",
    "ON p.categoryid = c.categoryid\n",
    "JOIN nwemployees nw\n",
    "ON o.employeeid = nw.employeeid\n",
    "WHERE firstname = 'Robert'\n",
    "GROUP BY categoryname\n",
    "ORDER BY SUM(quantity) DESC\n",
    "LIMIT 5;"
   ]
  },
  {
   "cell_type": "code",
   "execution_count": 88,
   "metadata": {},
   "outputs": [
    {
     "name": "stdout",
     "output_type": "stream",
     "text": [
      " * postgresql://postgres:***@db\n",
      "1 rows affected.\n"
     ]
    },
    {
     "data": {
      "text/html": [
       "<table>\n",
       "    <tr>\n",
       "        <th>count</th>\n",
       "    </tr>\n",
       "    <tr>\n",
       "        <td>5</td>\n",
       "    </tr>\n",
       "</table>"
      ],
      "text/plain": [
       "[(5,)]"
      ]
     },
     "execution_count": 88,
     "metadata": {},
     "output_type": "execute_result"
    }
   ],
   "source": [
    "%%sql\n",
    "SELECT COUNT(*)\n",
    "FROM orders\n",
    "WHERE EXTRACT(MONTH FROM orderdate) = 3 AND shippeddate > requireddate\n",
    "LIMIT 10;"
   ]
  },
  {
   "cell_type": "code",
   "execution_count": 89,
   "metadata": {},
   "outputs": [
    {
     "name": "stdout",
     "output_type": "stream",
     "text": [
      " * postgresql://postgres:***@db\n",
      "1 rows affected.\n"
     ]
    },
    {
     "data": {
      "text/html": [
       "<table>\n",
       "    <tr>\n",
       "        <th>count</th>\n",
       "    </tr>\n",
       "    <tr>\n",
       "        <td>10</td>\n",
       "    </tr>\n",
       "</table>"
      ],
      "text/plain": [
       "[(10,)]"
      ]
     },
     "execution_count": 89,
     "metadata": {},
     "output_type": "execute_result"
    }
   ],
   "source": [
    "%%sql\n",
    "SELECT COUNT(*)\n",
    "FROM\n",
    "    (SELECT supplierid\n",
    "    FROM products\n",
    "    WHERE discontinued = 0\n",
    "    GROUP BY supplierid\n",
    "    HAVING COUNT(DISTINCT productid) = 3);"
   ]
  },
  {
   "cell_type": "code",
   "execution_count": 90,
   "metadata": {},
   "outputs": [
    {
     "name": "stdout",
     "output_type": "stream",
     "text": [
      " * postgresql://postgres:***@db\n",
      "1 rows affected.\n"
     ]
    },
    {
     "data": {
      "text/html": [
       "<table>\n",
       "    <tr>\n",
       "        <th>territorydescription</th>\n",
       "    </tr>\n",
       "    <tr>\n",
       "        <td>Cambridge</td>\n",
       "    </tr>\n",
       "</table>"
      ],
      "text/plain": [
       "[('Cambridge',)]"
      ]
     },
     "execution_count": 90,
     "metadata": {},
     "output_type": "execute_result"
    }
   ],
   "source": [
    "%%sql\n",
    "SELECT territorydescription\n",
    "FROM territories t\n",
    "JOIN employeeterritories et\n",
    "ON t.territoryid = et.territoryid\n",
    "JOIN nwemployees nw\n",
    "ON nw.employeeid = et.employeeid\n",
    "WHERE title != 'Sales Representative'\n",
    "ORDER BY territorydescription ASC\n",
    "LIMIT 1 OFFSET 4;"
   ]
  },
  {
   "cell_type": "code",
   "execution_count": 91,
   "metadata": {},
   "outputs": [
    {
     "name": "stdout",
     "output_type": "stream",
     "text": [
      " * postgresql://postgres:***@db\n",
      "1 rows affected.\n"
     ]
    },
    {
     "data": {
      "text/html": [
       "<table>\n",
       "    <tr>\n",
       "        <th>count</th>\n",
       "    </tr>\n",
       "    <tr>\n",
       "        <td>323</td>\n",
       "    </tr>\n",
       "</table>"
      ],
      "text/plain": [
       "[(323,)]"
      ]
     },
     "execution_count": 91,
     "metadata": {},
     "output_type": "execute_result"
    }
   ],
   "source": [
    "%%sql\n",
    "SELECT COUNT(*)\n",
    "FROM \n",
    "    (SELECT o.orderid, SUM(quantity)\n",
    "    FROM orders o\n",
    "    JOIN order_details od\n",
    "    ON o.orderid = od.orderid\n",
    "    WHERE discount > 0\n",
    "    GROUP BY o.orderid) AS d\n",
    "JOIN \n",
    "    (SELECT o.orderid, SUM(quantity)\n",
    "    FROM orders o\n",
    "    JOIN order_details od\n",
    "    ON o.orderid = od.orderid\n",
    "    GROUP BY o.orderid) AS t\n",
    "ON d.orderid = t.orderid AND CAST(d.sum AS NUMERIC) / t.sum >= 0.5\n",
    "LIMIT 10;"
   ]
  },
  {
   "cell_type": "code",
   "execution_count": 92,
   "metadata": {},
   "outputs": [
    {
     "name": "stdout",
     "output_type": "stream",
     "text": [
      " * postgresql://postgres:***@db\n",
      "1 rows affected.\n"
     ]
    },
    {
     "data": {
      "text/html": [
       "<table>\n",
       "    <tr>\n",
       "        <th>customerid</th>\n",
       "        <th>tot_orders</th>\n",
       "    </tr>\n",
       "    <tr>\n",
       "        <td>ERNSH</td>\n",
       "        <td>19</td>\n",
       "    </tr>\n",
       "</table>"
      ],
      "text/plain": [
       "[('ERNSH', 19)]"
      ]
     },
     "execution_count": 92,
     "metadata": {},
     "output_type": "execute_result"
    }
   ],
   "source": [
    "%%sql\n",
    "SELECT customerid, COUNT(DISTINCT o.orderid) AS tot_orders\n",
    "FROM orders o\n",
    "JOIN order_details od\n",
    "ON o.orderid = od.orderid\n",
    "WHERE discount > 0\n",
    "GROUP BY customerid\n",
    "ORDER BY tot_orders DESC, customerid ASC\n",
    "LIMIT 1;"
   ]
  },
  {
   "cell_type": "code",
   "execution_count": 93,
   "metadata": {},
   "outputs": [
    {
     "name": "stdout",
     "output_type": "stream",
     "text": [
      " * postgresql://postgres:***@db\n",
      "1 rows affected.\n"
     ]
    },
    {
     "data": {
      "text/html": [
       "<table>\n",
       "    <tr>\n",
       "        <th>count</th>\n",
       "    </tr>\n",
       "    <tr>\n",
       "        <td>1825</td>\n",
       "    </tr>\n",
       "</table>"
      ],
      "text/plain": [
       "[(1825,)]"
      ]
     },
     "execution_count": 93,
     "metadata": {},
     "output_type": "execute_result"
    }
   ],
   "source": [
    "%%sql\n",
    "SELECT COUNT(*)\n",
    "FROM (SELECT DISTINCT productid, unitprice, quantity, discount\n",
    "     FROM order_details);"
   ]
  },
  {
   "cell_type": "markdown",
   "metadata": {},
   "source": [
    "---"
   ]
  },
  {
   "cell_type": "markdown",
   "metadata": {},
   "source": [
    "# Round 9"
   ]
  },
  {
   "cell_type": "code",
   "execution_count": 96,
   "metadata": {},
   "outputs": [
    {
     "name": "stdout",
     "output_type": "stream",
     "text": [
      " * postgresql://postgres:***@db\n",
      "1 rows affected.\n"
     ]
    },
    {
     "data": {
      "text/html": [
       "<table>\n",
       "    <tr>\n",
       "        <th>count</th>\n",
       "    </tr>\n",
       "    <tr>\n",
       "        <td>77</td>\n",
       "    </tr>\n",
       "</table>"
      ],
      "text/plain": [
       "[(77,)]"
      ]
     },
     "execution_count": 96,
     "metadata": {},
     "output_type": "execute_result"
    }
   ],
   "source": [
    "%%sql\n",
    "SELECT COUNT(*)\n",
    "FROM products\n",
    "NATURAL JOIN categories\n",
    "LIMIT 10;"
   ]
  },
  {
   "cell_type": "code",
   "execution_count": 106,
   "metadata": {},
   "outputs": [
    {
     "name": "stdout",
     "output_type": "stream",
     "text": [
      " * postgresql://postgres:***@db\n",
      "5 rows affected.\n"
     ]
    },
    {
     "data": {
      "text/html": [
       "<table>\n",
       "    <tr>\n",
       "        <th>firstname</th>\n",
       "        <th>tot_val</th>\n",
       "    </tr>\n",
       "    <tr>\n",
       "        <td>Margaret</td>\n",
       "        <td>250187.4502530098</td>\n",
       "    </tr>\n",
       "    <tr>\n",
       "        <td>Janet</td>\n",
       "        <td>213051.2994799614</td>\n",
       "    </tr>\n",
       "    <tr>\n",
       "        <td>Nancy</td>\n",
       "        <td>202143.7103085518</td>\n",
       "    </tr>\n",
       "    <tr>\n",
       "        <td>Andrew</td>\n",
       "        <td>177749.2604765892</td>\n",
       "    </tr>\n",
       "    <tr>\n",
       "        <td>Robert</td>\n",
       "        <td>141295.99010276794</td>\n",
       "    </tr>\n",
       "</table>"
      ],
      "text/plain": [
       "[('Margaret', 250187.4502530098),\n",
       " ('Janet', 213051.2994799614),\n",
       " ('Nancy', 202143.7103085518),\n",
       " ('Andrew', 177749.2604765892),\n",
       " ('Robert', 141295.99010276794)]"
      ]
     },
     "execution_count": 106,
     "metadata": {},
     "output_type": "execute_result"
    }
   ],
   "source": [
    "%%sql\n",
    "SELECT nw.firstname, SUM(quantity * unitprice) AS tot_val\n",
    "FROM orders o\n",
    "JOIN nwemployees nw\n",
    "ON nw.employeeid = o.employeeid\n",
    "JOIN order_details od\n",
    "ON od.orderid = o.orderid\n",
    "GROUP BY nw.firstname\n",
    "ORDER BY tot_val DESC\n",
    "LIMIT 5;"
   ]
  },
  {
   "cell_type": "code",
   "execution_count": 108,
   "metadata": {},
   "outputs": [
    {
     "name": "stdout",
     "output_type": "stream",
     "text": [
      " * postgresql://postgres:***@db\n",
      "1 rows affected.\n"
     ]
    },
    {
     "data": {
      "text/html": [
       "<table>\n",
       "    <tr>\n",
       "        <th>count</th>\n",
       "    </tr>\n",
       "    <tr>\n",
       "        <td>77</td>\n",
       "    </tr>\n",
       "</table>"
      ],
      "text/plain": [
       "[(77,)]"
      ]
     },
     "execution_count": 108,
     "metadata": {},
     "output_type": "execute_result"
    }
   ],
   "source": [
    "%%sql\n",
    "SELECT COUNT(*)\n",
    "FROM nwemployees\n",
    "NATURAL JOIN products p1\n",
    "NATURAL JOIN products p2\n",
    "NATURAL JOIN products p3\n",
    "NATURAL JOIN products p4\n",
    "NATURAL JOIN products p5\n",
    "NATURAL JOIN products p6\n",
    "WHERE titleofcourtesy = 'Mrs.'\n",
    "LIMIT 10;"
   ]
  },
  {
   "cell_type": "code",
   "execution_count": 119,
   "metadata": {
    "scrolled": false
   },
   "outputs": [
    {
     "name": "stdout",
     "output_type": "stream",
     "text": [
      " * postgresql://postgres:***@db\n",
      "5 rows affected.\n"
     ]
    },
    {
     "data": {
      "text/html": [
       "<table>\n",
       "    <tr>\n",
       "        <th>categoryname</th>\n",
       "        <th>tot_quant</th>\n",
       "    </tr>\n",
       "    <tr>\n",
       "        <td>Beverages</td>\n",
       "        <td>948</td>\n",
       "    </tr>\n",
       "    <tr>\n",
       "        <td>Dairy Products</td>\n",
       "        <td>940</td>\n",
       "    </tr>\n",
       "    <tr>\n",
       "        <td>Confections</td>\n",
       "        <td>742</td>\n",
       "    </tr>\n",
       "    <tr>\n",
       "        <td>Seafood</td>\n",
       "        <td>555</td>\n",
       "    </tr>\n",
       "    <tr>\n",
       "        <td>Condiments</td>\n",
       "        <td>486</td>\n",
       "    </tr>\n",
       "</table>"
      ],
      "text/plain": [
       "[('Beverages', 948),\n",
       " ('Dairy Products', 940),\n",
       " ('Confections', 742),\n",
       " ('Seafood', 555),\n",
       " ('Condiments', 486)]"
      ]
     },
     "execution_count": 119,
     "metadata": {},
     "output_type": "execute_result"
    }
   ],
   "source": [
    "%%sql\n",
    "SELECT categoryname, SUM(quantity) AS tot_quant\n",
    "FROM orders o\n",
    "JOIN nwemployees nw\n",
    "ON nw.employeeid = o.employeeid\n",
    "JOIN order_details od\n",
    "ON od.orderid = o.orderid\n",
    "JOIN products p\n",
    "ON p.productid = od.productid\n",
    "JOIN categories c\n",
    "ON c.categoryid = p.categoryid\n",
    "WHERE firstname = 'Robert'\n",
    "GROUP BY categoryname\n",
    "ORDER BY tot_quant DESC\n",
    "LIMIT 5;"
   ]
  },
  {
   "cell_type": "code",
   "execution_count": 124,
   "metadata": {},
   "outputs": [
    {
     "name": "stdout",
     "output_type": "stream",
     "text": [
      " * postgresql://postgres:***@db\n",
      "1 rows affected.\n"
     ]
    },
    {
     "data": {
      "text/html": [
       "<table>\n",
       "    <tr>\n",
       "        <th>count</th>\n",
       "    </tr>\n",
       "    <tr>\n",
       "        <td>5</td>\n",
       "    </tr>\n",
       "</table>"
      ],
      "text/plain": [
       "[(5,)]"
      ]
     },
     "execution_count": 124,
     "metadata": {},
     "output_type": "execute_result"
    }
   ],
   "source": [
    "%%sql\n",
    "SELECT COUNT(*)\n",
    "FROM orders\n",
    "WHERE EXTRACT(MONTH FROM orderdate) = 3 AND shippeddate > requireddate\n",
    "LIMIT 10;"
   ]
  },
  {
   "cell_type": "code",
   "execution_count": 129,
   "metadata": {},
   "outputs": [
    {
     "name": "stdout",
     "output_type": "stream",
     "text": [
      " * postgresql://postgres:***@db\n",
      "1 rows affected.\n"
     ]
    },
    {
     "data": {
      "text/html": [
       "<table>\n",
       "    <tr>\n",
       "        <th>count</th>\n",
       "    </tr>\n",
       "    <tr>\n",
       "        <td>10</td>\n",
       "    </tr>\n",
       "</table>"
      ],
      "text/plain": [
       "[(10,)]"
      ]
     },
     "execution_count": 129,
     "metadata": {},
     "output_type": "execute_result"
    }
   ],
   "source": [
    "%%sql\n",
    "SELECT COUNT(*)\n",
    "FROM\n",
    "    (SELECT supplierid\n",
    "    FROM products\n",
    "    WHERE discontinued = 0\n",
    "    GROUP BY supplierid\n",
    "    HAVING COUNT(productid) = 3)"
   ]
  },
  {
   "cell_type": "code",
   "execution_count": 137,
   "metadata": {},
   "outputs": [
    {
     "name": "stdout",
     "output_type": "stream",
     "text": [
      " * postgresql://postgres:***@db\n",
      "1 rows affected.\n"
     ]
    },
    {
     "data": {
      "text/html": [
       "<table>\n",
       "    <tr>\n",
       "        <th>territorydescription</th>\n",
       "    </tr>\n",
       "    <tr>\n",
       "        <td>Cambridge</td>\n",
       "    </tr>\n",
       "</table>"
      ],
      "text/plain": [
       "[('Cambridge',)]"
      ]
     },
     "execution_count": 137,
     "metadata": {},
     "output_type": "execute_result"
    }
   ],
   "source": [
    "%%sql\n",
    "SELECT territorydescription\n",
    "FROM employeeterritories et\n",
    "JOIN nwemployees nw\n",
    "ON et.employeeid = nw.employeeid\n",
    "JOIN territories t\n",
    "ON t.territoryid = et.territoryid\n",
    "WHERE title != 'Sales Representative'\n",
    "ORDER BY territorydescription ASC\n",
    "LIMIT 1 OFFSET 4;"
   ]
  },
  {
   "cell_type": "code",
   "execution_count": 152,
   "metadata": {},
   "outputs": [
    {
     "name": "stdout",
     "output_type": "stream",
     "text": [
      " * postgresql://postgres:***@db\n",
      "1 rows affected.\n"
     ]
    },
    {
     "data": {
      "text/html": [
       "<table>\n",
       "    <tr>\n",
       "        <th>count</th>\n",
       "    </tr>\n",
       "    <tr>\n",
       "        <td>323</td>\n",
       "    </tr>\n",
       "</table>"
      ],
      "text/plain": [
       "[(323,)]"
      ]
     },
     "execution_count": 152,
     "metadata": {},
     "output_type": "execute_result"
    }
   ],
   "source": [
    "%%sql\n",
    "SELECT COUNT(*)\n",
    "FROM\n",
    "    (SELECT o.orderid, SUM(quantity) AS tot_sum\n",
    "    FROM orders o\n",
    "    JOIN order_details od\n",
    "    ON o.orderid = od.orderid\n",
    "    GROUP BY o.orderid) AS t\n",
    "JOIN\n",
    "    (SELECT o.orderid, SUM(quantity) AS disc_sum\n",
    "    FROM orders o\n",
    "    JOIN order_details od\n",
    "    ON o.orderid = od.orderid\n",
    "    WHERE discount > 0\n",
    "    GROUP BY o.orderid) AS d\n",
    "ON d.orderid = t.orderid\n",
    "WHERE CAST(disc_sum AS NUMERIC) / tot_sum >= 0.5"
   ]
  },
  {
   "cell_type": "code",
   "execution_count": 160,
   "metadata": {},
   "outputs": [
    {
     "name": "stdout",
     "output_type": "stream",
     "text": [
      " * postgresql://postgres:***@db\n",
      "1 rows affected.\n"
     ]
    },
    {
     "data": {
      "text/html": [
       "<table>\n",
       "    <tr>\n",
       "        <th>customerid</th>\n",
       "        <th>num_orders</th>\n",
       "    </tr>\n",
       "    <tr>\n",
       "        <td>ERNSH</td>\n",
       "        <td>19</td>\n",
       "    </tr>\n",
       "</table>"
      ],
      "text/plain": [
       "[('ERNSH', 19)]"
      ]
     },
     "execution_count": 160,
     "metadata": {},
     "output_type": "execute_result"
    }
   ],
   "source": [
    "%%sql\n",
    "SELECT customerid, COUNT(DISTINCT o.orderid) AS num_orders\n",
    "FROM orders o\n",
    "JOIN order_details od\n",
    "ON o.orderid = od.orderid\n",
    "WHERE discount > 0\n",
    "GROUP BY customerid\n",
    "ORDER BY num_orders DESC, customerid ASC\n",
    "LIMIT 1;"
   ]
  },
  {
   "cell_type": "code",
   "execution_count": 170,
   "metadata": {},
   "outputs": [
    {
     "name": "stdout",
     "output_type": "stream",
     "text": [
      " * postgresql://postgres:***@db\n",
      "1 rows affected.\n"
     ]
    },
    {
     "data": {
      "text/html": [
       "<table>\n",
       "    <tr>\n",
       "        <th>count</th>\n",
       "    </tr>\n",
       "    <tr>\n",
       "        <td>2155</td>\n",
       "    </tr>\n",
       "</table>"
      ],
      "text/plain": [
       "[(2155,)]"
      ]
     },
     "execution_count": 170,
     "metadata": {},
     "output_type": "execute_result"
    }
   ],
   "source": [
    "%%sql\n",
    "SELECT COUNT(*)\n",
    "FROM (SELECT DISTINCT orderid, productid, unitprice, quantity, discount\n",
    "     FROM order_details)\n",
    "LIMIT 10;"
   ]
  },
  {
   "cell_type": "markdown",
   "metadata": {},
   "source": [
    "---"
   ]
  }
 ],
 "metadata": {
  "kernelspec": {
   "display_name": "Python 3 (ipykernel)",
   "language": "python",
   "name": "python3"
  },
  "language_info": {
   "codemirror_mode": {
    "name": "ipython",
    "version": 3
   },
   "file_extension": ".py",
   "mimetype": "text/x-python",
   "name": "python",
   "nbconvert_exporter": "python",
   "pygments_lexer": "ipython3",
   "version": "3.9.20"
  }
 },
 "nbformat": 4,
 "nbformat_minor": 4
}
