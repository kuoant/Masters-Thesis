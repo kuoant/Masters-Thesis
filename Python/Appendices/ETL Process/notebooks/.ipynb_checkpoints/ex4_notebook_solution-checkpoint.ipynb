{
 "cells": [
  {
   "cell_type": "markdown",
   "metadata": {},
   "source": [
    "# Exercise 4: Data definition with SQL / 2 \n",
    "\n",
    "In this exercise you will familiarize yourself with more of the DDL operations and integrity constraints."
   ]
  },
  {
   "cell_type": "markdown",
   "metadata": {},
   "source": [
    "- Load the SQL module"
   ]
  },
  {
   "cell_type": "code",
   "execution_count": 1,
   "metadata": {},
   "outputs": [],
   "source": [
    "%load_ext sql"
   ]
  },
  {
   "cell_type": "markdown",
   "metadata": {},
   "source": [
    "Connect to the PostgreSQL database:  "
   ]
  },
  {
   "cell_type": "code",
   "execution_count": 1,
   "metadata": {},
   "outputs": [],
   "source": [
    "%sql  postgresql://postgres:example@db:5432"
   ]
  },
  {
   "cell_type": "markdown",
   "metadata": {},
   "source": [
    "- Create a new ***schema*** named ***ise_ex4*** with the SQL command provided below.  \n",
    "  You will learn more about [schemas](https://www.postgresql.org/docs/current/static/ddl-schemas.html) in later lectures. For now, you may consider them as sandboxes, that allow the creation and editting of a collection of tables independently from the rest of the database system."
   ]
  },
  {
   "cell_type": "code",
   "execution_count": 2,
   "metadata": {
    "scrolled": true
   },
   "outputs": [
    {
     "name": "stdout",
     "output_type": "stream",
     "text": [
      " * postgresql://postgres:***@db\n",
      "(psycopg2.errors.DuplicateSchema) schema \"ise_ex4\" already exists\n",
      "\n",
      "[SQL: CREATE SCHEMA ise_ex4;]\n",
      "(Background on this error at: https://sqlalche.me/e/14/f405)\n"
     ]
    }
   ],
   "source": [
    "%sql CREATE SCHEMA ise_ex4;"
   ]
  },
  {
   "cell_type": "markdown",
   "metadata": {},
   "source": [
    "- Since we will work inside this schema for the rest of the sheet, you can run the script below to start over.  \n",
    "***Warning:*** this will delete all your tables and data in the **ise_ex4** schema."
   ]
  },
  {
   "cell_type": "code",
   "execution_count": 3,
   "metadata": {},
   "outputs": [
    {
     "name": "stdout",
     "output_type": "stream",
     "text": [
      " * postgresql://postgres:***@db\n",
      "Done.\n",
      "Done.\n"
     ]
    }
   ],
   "source": [
    "%%sql\n",
    "DROP SCHEMA IF EXISTS ise_ex4 CASCADE;\n",
    "CREATE SCHEMA ise_ex4;"
   ]
  },
  {
   "cell_type": "markdown",
   "metadata": {},
   "source": [
    "- Do you remember the ***countries*** table from the previous exercise?  \n",
    "  Re-create the table with the following [contraints](https://www.postgresql.org/docs/current/static/ddl-constraints.html):  \n",
    "  - id is used as primary key and cannot be null (question: can primary keys be null?)\n",
    "  - name is unique and cannot be null (question: can entries for attributes with the unique constraint be null?)\n",
    "  - population and area cannot be negative, but can be null\n",
    "  - gini must be in the range [0, 100] and can be null\n",
    "\n",
    "|id|name|population|area [$km^2$]|gini|\n",
    "|-:|:-|-:|-:|-:|\n",
    "|number|string|number|number|number|  \n",
    "\n",
    "- When creating a table inside a specific schema, the SQL command changes to:  \n",
    "```sql\n",
    "CREATE TABLE schema_name.table_name( ... );\n",
    "```"
   ]
  },
  {
   "cell_type": "code",
   "execution_count": 4,
   "metadata": {},
   "outputs": [
    {
     "name": "stdout",
     "output_type": "stream",
     "text": [
      " * postgresql://postgres:***@db\n",
      "Done.\n"
     ]
    }
   ],
   "source": [
    "%%sql\n",
    "CREATE TABLE ise_ex4.countries(\n",
    "    id SMALLINT PRIMARY KEY,\n",
    "    name VARCHAR(30) UNIQUE NOT NULL,\n",
    "    population BIGINT NULL CHECK(population >= 0),\n",
    "    area INT NULL CHECK(area >= 0),\n",
    "    gini NUMERIC(4, 1) NULL CHECK(gini >= 0 AND gini <= 100));"
   ]
  },
  {
   "cell_type": "markdown",
   "metadata": {},
   "source": [
    "* Check the table contents. There should be the five attributes you spacified."
   ]
  },
  {
   "cell_type": "code",
   "execution_count": 5,
   "metadata": {},
   "outputs": [
    {
     "name": "stdout",
     "output_type": "stream",
     "text": [
      " * postgresql://postgres:***@db\n",
      "0 rows affected.\n"
     ]
    },
    {
     "data": {
      "text/html": [
       "<table>\n",
       "    <tr>\n",
       "        <th>id</th>\n",
       "        <th>name</th>\n",
       "        <th>population</th>\n",
       "        <th>area</th>\n",
       "        <th>gini</th>\n",
       "    </tr>\n",
       "</table>"
      ]
     },
     "execution_count": 5,
     "metadata": {},
     "output_type": "execute_result"
    }
   ],
   "source": [
    "%sql SELECT * FROM ise_ex4.countries"
   ]
  },
  {
   "cell_type": "markdown",
   "metadata": {},
   "source": [
    "- Populate the ***countries*** table with the following values:  \n",
    "\n",
    "|id|name|population|area [$km^2$]|gini|\n",
    "|-:|:-|-:|-:|-:|\n",
    "|1|Switzerland|8401120|41285|29.5|\n",
    "|2|USA|325365189|9833520|40.8|\n",
    "|3|Cost Rica|4857274|51000|40.7|\n",
    "|4|Iran|80829192|1648195|37.4|\n",
    "|5|Kazakhstan|17987736|2724900|26.4|"
   ]
  },
  {
   "cell_type": "code",
   "execution_count": 6,
   "metadata": {},
   "outputs": [
    {
     "name": "stdout",
     "output_type": "stream",
     "text": [
      " * postgresql://postgres:***@db\n",
      "5 rows affected.\n"
     ]
    },
    {
     "data": {
      "text/plain": [
       "[]"
      ]
     },
     "execution_count": 6,
     "metadata": {},
     "output_type": "execute_result"
    }
   ],
   "source": [
    "%%sql\n",
    "INSERT INTO ise_ex4.countries\n",
    "\n",
    "    (id, name, population, area, gini) VALUES\n",
    "    (1, 'Switzerland', 8401120, 41285, 29.5), \n",
    "    (2, 'USA', 325365189, 9833520, 40.8), \n",
    "    (3, 'Cost Rica', 4857274, 51000, 40.7), \n",
    "    (4, 'Iran', 80829192, 1648195, 37.4), \n",
    "    (5, 'Kazakhstan', 17987736, 2724900, 26.4);"
   ]
  },
  {
   "cell_type": "code",
   "execution_count": 7,
   "metadata": {},
   "outputs": [
    {
     "name": "stdout",
     "output_type": "stream",
     "text": [
      " * postgresql://postgres:***@db\n",
      "5 rows affected.\n"
     ]
    },
    {
     "data": {
      "text/html": [
       "<table>\n",
       "    <tr>\n",
       "        <th>id</th>\n",
       "        <th>name</th>\n",
       "        <th>population</th>\n",
       "        <th>area</th>\n",
       "        <th>gini</th>\n",
       "    </tr>\n",
       "    <tr>\n",
       "        <td>1</td>\n",
       "        <td>Switzerland</td>\n",
       "        <td>8401120</td>\n",
       "        <td>41285</td>\n",
       "        <td>29.5</td>\n",
       "    </tr>\n",
       "    <tr>\n",
       "        <td>2</td>\n",
       "        <td>USA</td>\n",
       "        <td>325365189</td>\n",
       "        <td>9833520</td>\n",
       "        <td>40.8</td>\n",
       "    </tr>\n",
       "    <tr>\n",
       "        <td>3</td>\n",
       "        <td>Cost Rica</td>\n",
       "        <td>4857274</td>\n",
       "        <td>51000</td>\n",
       "        <td>40.7</td>\n",
       "    </tr>\n",
       "    <tr>\n",
       "        <td>4</td>\n",
       "        <td>Iran</td>\n",
       "        <td>80829192</td>\n",
       "        <td>1648195</td>\n",
       "        <td>37.4</td>\n",
       "    </tr>\n",
       "    <tr>\n",
       "        <td>5</td>\n",
       "        <td>Kazakhstan</td>\n",
       "        <td>17987736</td>\n",
       "        <td>2724900</td>\n",
       "        <td>26.4</td>\n",
       "    </tr>\n",
       "</table>"
      ],
      "text/plain": [
       "[(1, 'Switzerland', 8401120, 41285, Decimal('29.5')),\n",
       " (2, 'USA', 325365189, 9833520, Decimal('40.8')),\n",
       " (3, 'Cost Rica', 4857274, 51000, Decimal('40.7')),\n",
       " (4, 'Iran', 80829192, 1648195, Decimal('37.4')),\n",
       " (5, 'Kazakhstan', 17987736, 2724900, Decimal('26.4'))]"
      ]
     },
     "execution_count": 7,
     "metadata": {},
     "output_type": "execute_result"
    }
   ],
   "source": [
    "%sql SELECT * FROM ise_ex4.countries"
   ]
  },
  {
   "cell_type": "markdown",
   "metadata": {},
   "source": [
    "* If, in the following, you don't get the expected results, you've probably created the table incorrectly. Go back and try again, paying close attention to the constraints."
   ]
  },
  {
   "cell_type": "markdown",
   "metadata": {},
   "source": [
    "- Try to insert into the ***countries*** table the following tuple:  \n",
    "  (id ↦ 5, name ↦ Sweden, area ↦ 447435, population ↦ 9903000, gini ↦ 27.2)"
   ]
  },
  {
   "cell_type": "code",
   "execution_count": 8,
   "metadata": {},
   "outputs": [
    {
     "name": "stdout",
     "output_type": "stream",
     "text": [
      " * postgresql://postgres:***@db\n",
      "(psycopg2.errors.UniqueViolation) duplicate key value violates unique constraint \"countries_pkey\"\n",
      "DETAIL:  Key (id)=(5) already exists.\n",
      "\n",
      "[SQL: INSERT INTO ise_ex4.countries\n",
      "    (id, name, population, area, gini) VALUES\n",
      "    (5, 'Sweden',  447435, 9903000, 27.2);]\n",
      "(Background on this error at: https://sqlalche.me/e/14/gkpj)\n"
     ]
    }
   ],
   "source": [
    "%%sql\n",
    "INSERT INTO ise_ex4.countries\n",
    "    (id, name, population, area, gini) VALUES\n",
    "    (5, 'Sweden',  447435, 9903000, 27.2);"
   ]
  },
  {
   "cell_type": "markdown",
   "metadata": {},
   "source": [
    "- Why did this fail? Hint: see the error emitted by Postgresql.\n",
    "  You should see 'UniqueViolation: duplicate key value violates unique constraint \"countries_pkey\"'.\n",
    "  \n",
    "  Now try and insert into the ***countries*** table the following tuple:  \n",
    "  (id ↦ 6, name ↦ NULL, gini ↦ 27.2, area ↦ 447435, population ↦ 9903000)"
   ]
  },
  {
   "cell_type": "code",
   "execution_count": 9,
   "metadata": {},
   "outputs": [
    {
     "name": "stdout",
     "output_type": "stream",
     "text": [
      " * postgresql://postgres:***@db\n",
      "(psycopg2.errors.NotNullViolation) null value in column \"name\" of relation \"countries\" violates not-null constraint\n",
      "DETAIL:  Failing row contains (6, null, 9903000, 447435, 27.2).\n",
      "\n",
      "[SQL: INSERT INTO ise_ex4.countries\n",
      "    (id, name, gini, area, population) VALUES\n",
      "    (6, NULL, 27.2, 447435, 9903000);]\n",
      "(Background on this error at: https://sqlalche.me/e/14/gkpj)\n"
     ]
    }
   ],
   "source": [
    "%%sql\n",
    "INSERT INTO ise_ex4.countries\n",
    "    (id, name, gini, area, population) VALUES\n",
    "    (6, NULL, 27.2, 447435, 9903000);"
   ]
  },
  {
   "cell_type": "markdown",
   "metadata": {},
   "source": [
    "- Why did this fail? Hint: see the error emitted by Postgresql.\n",
    "  You should see 'IntegrityError: (psycopg2.errors.NotNullViolation) null value in column \"name\" of relation \"countries\" violates not-null constraint'\n",
    "\n",
    "  Now try and insert into the ***countries*** table the following tuple:  \n",
    "  (name ↦ Sweden, id ↦ 6, population ↦ -9903000, gini ↦ 27.2, area ↦ 447435)"
   ]
  },
  {
   "cell_type": "code",
   "execution_count": 10,
   "metadata": {},
   "outputs": [
    {
     "name": "stdout",
     "output_type": "stream",
     "text": [
      " * postgresql://postgres:***@db\n",
      "(psycopg2.errors.CheckViolation) new row for relation \"countries\" violates check constraint \"countries_population_check\"\n",
      "DETAIL:  Failing row contains (6, Sweden, -9903000, 447435, 27.2).\n",
      "\n",
      "[SQL: INSERT INTO ise_ex4.countries\n",
      "    (name, id, population, gini, area) VALUES\n",
      "    ('Sweden', 6, -9903000, 27.2, 447435);]\n",
      "(Background on this error at: https://sqlalche.me/e/14/gkpj)\n"
     ]
    }
   ],
   "source": [
    "%%sql\n",
    "INSERT INTO ise_ex4.countries\n",
    "    (name, id, population, gini, area) VALUES\n",
    "    ('Sweden', 6, -9903000, 27.2, 447435);"
   ]
  },
  {
   "cell_type": "markdown",
   "metadata": {},
   "source": [
    "- Why did this fail? Hint: see the error emitted by Postgresql.\n",
    "  You should see 'CheckViolation: new row for relation \"countries\" violates check constraint \"countries_population_check\"'\n",
    "\n",
    "  Insert into the ***countries*** table the following tuple:  \n",
    "  (id ↦ 6, name ↦ Sweden, population ↦ 9903000, area ↦ 447435, gini ↦ 27.275)"
   ]
  },
  {
   "cell_type": "code",
   "execution_count": 11,
   "metadata": {},
   "outputs": [
    {
     "name": "stdout",
     "output_type": "stream",
     "text": [
      " * postgresql://postgres:***@db\n",
      "1 rows affected.\n"
     ]
    },
    {
     "data": {
      "text/plain": [
       "[]"
      ]
     },
     "execution_count": 11,
     "metadata": {},
     "output_type": "execute_result"
    }
   ],
   "source": [
    "%%sql\n",
    "INSERT INTO ise_ex4.countries\n",
    "    (id, name, population, area, gini) VALUES\n",
    "    (6, 'Sweden', 9903000, 447435, 27.275);"
   ]
  },
  {
   "cell_type": "markdown",
   "metadata": {},
   "source": [
    "* Finally, this should have worked! Check the table, you should see these contents:\n",
    "\n",
    "|id|name|population|area [$km^2$]|gini|\n",
    "|-:|:-|-:|-:|-:|\n",
    "|1|Switzerland|8401120|41285|29.5|\n",
    "|2|USA|325365189|9833520|40.8|\n",
    "|3|Cost Rica|4857274|51000|40.7|\n",
    "|4|Iran|80829192|1648195|37.4|\n",
    "|5|Kazakhstan|17987736|2724900|26.4|\n",
    "|6|Sweden|9903000|447435|27.3|"
   ]
  },
  {
   "cell_type": "code",
   "execution_count": 12,
   "metadata": {},
   "outputs": [
    {
     "name": "stdout",
     "output_type": "stream",
     "text": [
      " * postgresql://postgres:***@db\n",
      "6 rows affected.\n"
     ]
    },
    {
     "data": {
      "text/html": [
       "<table>\n",
       "    <tr>\n",
       "        <th>id</th>\n",
       "        <th>name</th>\n",
       "        <th>population</th>\n",
       "        <th>area</th>\n",
       "        <th>gini</th>\n",
       "    </tr>\n",
       "    <tr>\n",
       "        <td>1</td>\n",
       "        <td>Switzerland</td>\n",
       "        <td>8401120</td>\n",
       "        <td>41285</td>\n",
       "        <td>29.5</td>\n",
       "    </tr>\n",
       "    <tr>\n",
       "        <td>2</td>\n",
       "        <td>USA</td>\n",
       "        <td>325365189</td>\n",
       "        <td>9833520</td>\n",
       "        <td>40.8</td>\n",
       "    </tr>\n",
       "    <tr>\n",
       "        <td>3</td>\n",
       "        <td>Cost Rica</td>\n",
       "        <td>4857274</td>\n",
       "        <td>51000</td>\n",
       "        <td>40.7</td>\n",
       "    </tr>\n",
       "    <tr>\n",
       "        <td>4</td>\n",
       "        <td>Iran</td>\n",
       "        <td>80829192</td>\n",
       "        <td>1648195</td>\n",
       "        <td>37.4</td>\n",
       "    </tr>\n",
       "    <tr>\n",
       "        <td>5</td>\n",
       "        <td>Kazakhstan</td>\n",
       "        <td>17987736</td>\n",
       "        <td>2724900</td>\n",
       "        <td>26.4</td>\n",
       "    </tr>\n",
       "    <tr>\n",
       "        <td>6</td>\n",
       "        <td>Sweden</td>\n",
       "        <td>9903000</td>\n",
       "        <td>447435</td>\n",
       "        <td>27.3</td>\n",
       "    </tr>\n",
       "</table>"
      ],
      "text/plain": [
       "[(1, 'Switzerland', 8401120, 41285, Decimal('29.5')),\n",
       " (2, 'USA', 325365189, 9833520, Decimal('40.8')),\n",
       " (3, 'Cost Rica', 4857274, 51000, Decimal('40.7')),\n",
       " (4, 'Iran', 80829192, 1648195, Decimal('37.4')),\n",
       " (5, 'Kazakhstan', 17987736, 2724900, Decimal('26.4')),\n",
       " (6, 'Sweden', 9903000, 447435, Decimal('27.3'))]"
      ]
     },
     "execution_count": 12,
     "metadata": {},
     "output_type": "execute_result"
    }
   ],
   "source": [
    "%sql SELECT * FROM ise_ex4.countries"
   ]
  },
  {
   "cell_type": "markdown",
   "metadata": {},
   "source": [
    "- Create the ***movies*** table, so that the following constraints are met:\n",
    "  - ***title*** and ***year*** are used as primary key\n",
    "  - ***year*** must be in the range [1900-2100]  \n",
    "  - ***length*** has default value 120\n",
    "  - ***genre*** has default value Drama\n",
    "  \n",
    "  Don't forget to use the schema, so the full table name should be `ise_ex4.movies`.\n",
    "  \n",
    "|title |year   |length |genre |  \n",
    "|:----:|:-----:|:-----:|:-----|  \n",
    "|string|integer|integer|string| "
   ]
  },
  {
   "cell_type": "code",
   "execution_count": 13,
   "metadata": {},
   "outputs": [
    {
     "name": "stdout",
     "output_type": "stream",
     "text": [
      " * postgresql://postgres:***@db\n",
      "Done.\n"
     ]
    }
   ],
   "source": [
    "%%sql\n",
    "CREATE TABLE ise_ex4.movies(\n",
    "    title VARCHAR(255),\n",
    "    year SMALLINT CHECK(year >= 1900 AND year <=2100),\n",
    "    length SMALLINT DEFAULT 120, \n",
    "    genre VARCHAR(20) DEFAULT 'Drama',\n",
    "    PRIMARY KEY(title, year));"
   ]
  },
  {
   "cell_type": "markdown",
   "metadata": {},
   "source": [
    "- Populate the ***movies*** table:\n",
    "\n",
    "|title|year|length|genre| \n",
    "|----:|:--:|:----:|:---:|  \n",
    "|Bladerunner|1982|117|Thriller|  \n",
    "|Arrival|2016|116|Sci-Fi|  \n",
    "|La La Land|2016|128|Drama|  \n",
    "|Bladerunner 2049|2017|163|Thriller|"
   ]
  },
  {
   "cell_type": "code",
   "execution_count": 14,
   "metadata": {
    "scrolled": true
   },
   "outputs": [
    {
     "name": "stdout",
     "output_type": "stream",
     "text": [
      " * postgresql://postgres:***@db\n",
      "4 rows affected.\n"
     ]
    },
    {
     "data": {
      "text/plain": [
       "[]"
      ]
     },
     "execution_count": 14,
     "metadata": {},
     "output_type": "execute_result"
    }
   ],
   "source": [
    "%%sql\n",
    "INSERT INTO ise_ex4.movies\n",
    "    (title, year, length, genre) VALUES \n",
    "    ('Bladerunner', 1982, 117, 'Thriller'),\n",
    "    ('Arrival', 2016, 116, 'Sci-Fi'),\n",
    "    ('La La Land', 2016, 128, 'Drama'),\n",
    "    ('Bladerunner 2049', 2017, 163, 'Thriller');"
   ]
  },
  {
   "cell_type": "code",
   "execution_count": 15,
   "metadata": {},
   "outputs": [
    {
     "name": "stdout",
     "output_type": "stream",
     "text": [
      " * postgresql://postgres:***@db\n",
      "4 rows affected.\n"
     ]
    },
    {
     "data": {
      "text/html": [
       "<table>\n",
       "    <tr>\n",
       "        <th>title</th>\n",
       "        <th>year</th>\n",
       "        <th>length</th>\n",
       "        <th>genre</th>\n",
       "    </tr>\n",
       "    <tr>\n",
       "        <td>Bladerunner</td>\n",
       "        <td>1982</td>\n",
       "        <td>117</td>\n",
       "        <td>Thriller</td>\n",
       "    </tr>\n",
       "    <tr>\n",
       "        <td>Arrival</td>\n",
       "        <td>2016</td>\n",
       "        <td>116</td>\n",
       "        <td>Sci-Fi</td>\n",
       "    </tr>\n",
       "    <tr>\n",
       "        <td>La La Land</td>\n",
       "        <td>2016</td>\n",
       "        <td>128</td>\n",
       "        <td>Drama</td>\n",
       "    </tr>\n",
       "    <tr>\n",
       "        <td>Bladerunner 2049</td>\n",
       "        <td>2017</td>\n",
       "        <td>163</td>\n",
       "        <td>Thriller</td>\n",
       "    </tr>\n",
       "</table>"
      ],
      "text/plain": [
       "[('Bladerunner', 1982, 117, 'Thriller'),\n",
       " ('Arrival', 2016, 116, 'Sci-Fi'),\n",
       " ('La La Land', 2016, 128, 'Drama'),\n",
       " ('Bladerunner 2049', 2017, 163, 'Thriller')]"
      ]
     },
     "execution_count": 15,
     "metadata": {},
     "output_type": "execute_result"
    }
   ],
   "source": [
    "%sql SELECT * FROM ise_ex4.movies"
   ]
  },
  {
   "cell_type": "markdown",
   "metadata": {},
   "source": [
    "- Create the following ***credits*** table:  \n",
    "   \n",
    "|name  |birthdate|\n",
    "|:----:|:-------:|\n",
    "|string|date     |  \n",
    "\n",
    "Constraints:\n",
    "- ***name*** can be NULL\n",
    "- ***birthdate*** has default value of 31. of January, 1970\n",
    "\n",
    "Again, don't forget the schema."
   ]
  },
  {
   "cell_type": "code",
   "execution_count": 16,
   "metadata": {},
   "outputs": [
    {
     "name": "stdout",
     "output_type": "stream",
     "text": [
      " * postgresql://postgres:***@db\n",
      "Done.\n"
     ]
    }
   ],
   "source": [
    "%%sql\n",
    "CREATE TABLE ise_ex4.credits(\n",
    "    name VARCHAR(25) NULL,\n",
    "    birthdate DATE DEFAULT '1970-01-31');"
   ]
  },
  {
   "cell_type": "markdown",
   "metadata": {},
   "source": [
    "- Alter that ***credits*** table, so that the following constraints are met:\n",
    "  - Name is used as a primary key\n",
    "   \n",
    "|name  |birthdate|\n",
    "|:----:|:-------:|\n",
    "|string|date     |  "
   ]
  },
  {
   "cell_type": "code",
   "execution_count": 17,
   "metadata": {},
   "outputs": [
    {
     "name": "stdout",
     "output_type": "stream",
     "text": [
      " * postgresql://postgres:***@db\n",
      "Done.\n"
     ]
    }
   ],
   "source": [
    "%sql ALTER TABLE ise_ex4.credits ADD PRIMARY KEY(name);"
   ]
  },
  {
   "cell_type": "markdown",
   "metadata": {},
   "source": [
    "- Populate the ***credits*** table:  \n",
    "\n",
    "|name|birthdate|\n",
    "|----------:|:-------:|\n",
    "|Denis Villeneuve|03.10.1967|\n",
    "|Amy Adams|20.08.1974|\n",
    "|Ryan Gosling|12.11.1980|\n",
    "|Harrison Ford|13.07.1942|\n",
    "|Ridley Scott|30.11.1937|\n",
    "|Emma Stone|06.11.1988|\n",
    "|Rutger Hauer|23.01.1944|\n",
    "|Sean Young|20.11.1959|"
   ]
  },
  {
   "cell_type": "code",
   "execution_count": 18,
   "metadata": {},
   "outputs": [
    {
     "name": "stdout",
     "output_type": "stream",
     "text": [
      " * postgresql://postgres:***@db\n",
      "8 rows affected.\n"
     ]
    },
    {
     "data": {
      "text/plain": [
       "[]"
      ]
     },
     "execution_count": 18,
     "metadata": {},
     "output_type": "execute_result"
    }
   ],
   "source": [
    "%%sql\n",
    "INSERT INTO ise_ex4.credits\n",
    "    (name, birthdate) VALUES \n",
    "    ('Denis Villeneuve', '1967-10-03'), \n",
    "    ('Amy Adams', '1974-08-20'), \n",
    "    ('Ryan Gosling', '1980-11-12'), \n",
    "    ('Harrison Ford', '1942-07-12'), \n",
    "    ('Ridley Scott', '1937-11-30'), \n",
    "    ('Emma Stone', '1988-11-06'), \n",
    "    ('Rutger Hauer', '1944-01-23'), \n",
    "    ('Sean Young', '1959-11-20');"
   ]
  },
  {
   "cell_type": "code",
   "execution_count": 19,
   "metadata": {},
   "outputs": [
    {
     "name": "stdout",
     "output_type": "stream",
     "text": [
      " * postgresql://postgres:***@db\n",
      "8 rows affected.\n"
     ]
    },
    {
     "data": {
      "text/html": [
       "<table>\n",
       "    <tr>\n",
       "        <th>name</th>\n",
       "        <th>birthdate</th>\n",
       "    </tr>\n",
       "    <tr>\n",
       "        <td>Denis Villeneuve</td>\n",
       "        <td>1967-10-03</td>\n",
       "    </tr>\n",
       "    <tr>\n",
       "        <td>Amy Adams</td>\n",
       "        <td>1974-08-20</td>\n",
       "    </tr>\n",
       "    <tr>\n",
       "        <td>Ryan Gosling</td>\n",
       "        <td>1980-11-12</td>\n",
       "    </tr>\n",
       "    <tr>\n",
       "        <td>Harrison Ford</td>\n",
       "        <td>1942-07-12</td>\n",
       "    </tr>\n",
       "    <tr>\n",
       "        <td>Ridley Scott</td>\n",
       "        <td>1937-11-30</td>\n",
       "    </tr>\n",
       "    <tr>\n",
       "        <td>Emma Stone</td>\n",
       "        <td>1988-11-06</td>\n",
       "    </tr>\n",
       "    <tr>\n",
       "        <td>Rutger Hauer</td>\n",
       "        <td>1944-01-23</td>\n",
       "    </tr>\n",
       "    <tr>\n",
       "        <td>Sean Young</td>\n",
       "        <td>1959-11-20</td>\n",
       "    </tr>\n",
       "</table>"
      ],
      "text/plain": [
       "[('Denis Villeneuve', datetime.date(1967, 10, 3)),\n",
       " ('Amy Adams', datetime.date(1974, 8, 20)),\n",
       " ('Ryan Gosling', datetime.date(1980, 11, 12)),\n",
       " ('Harrison Ford', datetime.date(1942, 7, 12)),\n",
       " ('Ridley Scott', datetime.date(1937, 11, 30)),\n",
       " ('Emma Stone', datetime.date(1988, 11, 6)),\n",
       " ('Rutger Hauer', datetime.date(1944, 1, 23)),\n",
       " ('Sean Young', datetime.date(1959, 11, 20))]"
      ]
     },
     "execution_count": 19,
     "metadata": {},
     "output_type": "execute_result"
    }
   ],
   "source": [
    "%sql SELECT * FROM ise_ex4.credits"
   ]
  },
  {
   "cell_type": "markdown",
   "metadata": {},
   "source": [
    "* Let's try and add a tuple with a duplicate primary key. If you've correctly added the primary key constraints, this should fail with 'IntegrityError: (psycopg2.errors.UniqueViolation) duplicate key value violates unique constraint \"credits_pkey\"'"
   ]
  },
  {
   "cell_type": "code",
   "execution_count": 20,
   "metadata": {},
   "outputs": [
    {
     "name": "stdout",
     "output_type": "stream",
     "text": [
      " * postgresql://postgres:***@db\n",
      "(psycopg2.errors.UniqueViolation) duplicate key value violates unique constraint \"credits_pkey\"\n",
      "DETAIL:  Key (name)=(Rutger Hauer) already exists.\n",
      "\n",
      "[SQL: INSERT INTO ise_ex4.credits\n",
      "    (name, birthdate) VALUES\n",
      "    ('Rutger Hauer', '1961-02-02');]\n",
      "(Background on this error at: https://sqlalche.me/e/14/gkpj)\n"
     ]
    }
   ],
   "source": [
    "%%sql\n",
    "INSERT INTO ise_ex4.credits\n",
    "    (name, birthdate) VALUES\n",
    "    ('Rutger Hauer', '1961-02-02');"
   ]
  },
  {
   "cell_type": "markdown",
   "metadata": {},
   "source": [
    "- Create the ***stars_in*** table with the following constraints:  \n",
    "  - None of the attributes may be NULL\n",
    "  - movie_title and movie_year are used as a foreign key from the ***movies*** table\n",
    "  - stars_name is used as a foreign key from the ***credits*** table  \n",
    "  \n",
    "|movie_title|movie_year|star_name|\n",
    "|:--------:|:-------:|:--------|\n",
    "|string    |integer  |string   |  "
   ]
  },
  {
   "cell_type": "code",
   "execution_count": 21,
   "metadata": {},
   "outputs": [
    {
     "name": "stdout",
     "output_type": "stream",
     "text": [
      " * postgresql://postgres:***@db\n",
      "Done.\n"
     ]
    }
   ],
   "source": [
    "%%sql\n",
    "CREATE TABLE ise_ex4.stars_in(\n",
    "    movie_title VARCHAR(255) NOT NULL,\n",
    "    movie_year SMALLINT NOT NULL,\n",
    "    star_name VARCHAR(30) NOT NULL REFERENCES ise_ex4.credits(name),\n",
    "    FOREIGN KEY(movie_title, movie_year) REFERENCES ise_ex4.movies(title, year));"
   ]
  },
  {
   "cell_type": "markdown",
   "metadata": {},
   "source": [
    "- Populate the ***stars_in*** table:\n",
    "\n",
    "|movie_title|movie_year|star_name|\n",
    "|---------:|:-------:|:-------|\n",
    "|Arrival|2016|Amy Adams|\n",
    "|La La Land|2016|Ryan Gosling|\n",
    "|La La Land|2016|Emma Stone|\n",
    "|Bladerunner|1982|Rutger Hauer|\n",
    "|Bladerunner|1982|Harrison Ford|\n",
    "|Bladerunner|1982|Sean Young|\n",
    "|Bladerunner 2049|2017|Ryan Gosling|\n",
    "|Bladerunner 2049|2017|Harrison Ford|"
   ]
  },
  {
   "cell_type": "code",
   "execution_count": 22,
   "metadata": {},
   "outputs": [
    {
     "name": "stdout",
     "output_type": "stream",
     "text": [
      " * postgresql://postgres:***@db\n",
      "8 rows affected.\n"
     ]
    },
    {
     "data": {
      "text/plain": [
       "[]"
      ]
     },
     "execution_count": 22,
     "metadata": {},
     "output_type": "execute_result"
    }
   ],
   "source": [
    "%%sql\n",
    "INSERT INTO ise_ex4.stars_in\n",
    "    (movie_title, movie_year, star_name) VALUES \n",
    "    ('Arrival', 2016, 'Amy Adams'), \n",
    "    ('La La Land', 2016, 'Ryan Gosling'), \n",
    "    ('La La Land', 2016, 'Emma Stone'), \n",
    "    ('Bladerunner', 1982, 'Rutger Hauer'), \n",
    "    ('Bladerunner', 1982, 'Harrison Ford'), \n",
    "    ('Bladerunner', 1982, 'Sean Young'), \n",
    "    ('Bladerunner 2049', 2017, 'Ryan Gosling'), \n",
    "    ('Bladerunner 2049', 2017, 'Harrison Ford');"
   ]
  },
  {
   "cell_type": "code",
   "execution_count": 23,
   "metadata": {},
   "outputs": [
    {
     "name": "stdout",
     "output_type": "stream",
     "text": [
      " * postgresql://postgres:***@db\n",
      "8 rows affected.\n"
     ]
    },
    {
     "data": {
      "text/html": [
       "<table>\n",
       "    <tr>\n",
       "        <th>movie_title</th>\n",
       "        <th>movie_year</th>\n",
       "        <th>star_name</th>\n",
       "    </tr>\n",
       "    <tr>\n",
       "        <td>Arrival</td>\n",
       "        <td>2016</td>\n",
       "        <td>Amy Adams</td>\n",
       "    </tr>\n",
       "    <tr>\n",
       "        <td>La La Land</td>\n",
       "        <td>2016</td>\n",
       "        <td>Ryan Gosling</td>\n",
       "    </tr>\n",
       "    <tr>\n",
       "        <td>La La Land</td>\n",
       "        <td>2016</td>\n",
       "        <td>Emma Stone</td>\n",
       "    </tr>\n",
       "    <tr>\n",
       "        <td>Bladerunner</td>\n",
       "        <td>1982</td>\n",
       "        <td>Rutger Hauer</td>\n",
       "    </tr>\n",
       "    <tr>\n",
       "        <td>Bladerunner</td>\n",
       "        <td>1982</td>\n",
       "        <td>Harrison Ford</td>\n",
       "    </tr>\n",
       "    <tr>\n",
       "        <td>Bladerunner</td>\n",
       "        <td>1982</td>\n",
       "        <td>Sean Young</td>\n",
       "    </tr>\n",
       "    <tr>\n",
       "        <td>Bladerunner 2049</td>\n",
       "        <td>2017</td>\n",
       "        <td>Ryan Gosling</td>\n",
       "    </tr>\n",
       "    <tr>\n",
       "        <td>Bladerunner 2049</td>\n",
       "        <td>2017</td>\n",
       "        <td>Harrison Ford</td>\n",
       "    </tr>\n",
       "</table>"
      ],
      "text/plain": [
       "[('Arrival', 2016, 'Amy Adams'),\n",
       " ('La La Land', 2016, 'Ryan Gosling'),\n",
       " ('La La Land', 2016, 'Emma Stone'),\n",
       " ('Bladerunner', 1982, 'Rutger Hauer'),\n",
       " ('Bladerunner', 1982, 'Harrison Ford'),\n",
       " ('Bladerunner', 1982, 'Sean Young'),\n",
       " ('Bladerunner 2049', 2017, 'Ryan Gosling'),\n",
       " ('Bladerunner 2049', 2017, 'Harrison Ford')]"
      ]
     },
     "execution_count": 23,
     "metadata": {},
     "output_type": "execute_result"
    }
   ],
   "source": [
    "%sql SELECT * FROM ise_ex4.stars_in"
   ]
  },
  {
   "cell_type": "markdown",
   "metadata": {},
   "source": [
    "- Try to insert into the ***stars_in*** table the following tuple:  \n",
    "  (movie_title ↦ Alien, movie_year ↦ 1979, star_name ↦ Sigourney Weaver)"
   ]
  },
  {
   "cell_type": "code",
   "execution_count": 24,
   "metadata": {},
   "outputs": [
    {
     "name": "stdout",
     "output_type": "stream",
     "text": [
      " * postgresql://postgres:***@db\n",
      "(psycopg2.errors.ForeignKeyViolation) insert or update on table \"stars_in\" violates foreign key constraint \"stars_in_star_name_fkey\"\n",
      "DETAIL:  Key (star_name)=(Sigourney Weaver) is not present in table \"credits\".\n",
      "\n",
      "[SQL: INSERT INTO ise_ex4.stars_in VALUES ('Alien', 1979, 'Sigourney Weaver' );]\n",
      "(Background on this error at: https://sqlalche.me/e/14/gkpj)\n"
     ]
    }
   ],
   "source": [
    "%sql INSERT INTO ise_ex4.stars_in VALUES ('Alien', 1979, 'Sigourney Weaver');"
   ]
  },
  {
   "cell_type": "markdown",
   "metadata": {},
   "source": [
    "- Why did this fail? The error you should have gotten is ': (psycopg2.errors.ForeignKeyViolation) insert or update on table \"stars_in\" violates foreign key constraint \"stars_in_star_name_fkey\"\n",
    "DETAIL:  Key (star_name)=(Sigourney Weaver) is not present in table \"credits\".\n",
    "\n",
    "  Write all the **INSERT INTO** SQL queries needed so that you can finally add the tuple above to the ***stars_in*** table."
   ]
  },
  {
   "cell_type": "code",
   "execution_count": 25,
   "metadata": {},
   "outputs": [
    {
     "name": "stdout",
     "output_type": "stream",
     "text": [
      " * postgresql://postgres:***@db\n",
      "1 rows affected.\n",
      "1 rows affected.\n"
     ]
    }
   ],
   "source": [
    "%%sql\n",
    "INSERT INTO ise_ex4.movies VALUES ('Alien', 1979, 117, 'Horror');\n",
    "INSERT INTO ise_ex4.credits VALUES ('Sigourney Weaver', '1949-10-08');"
   ]
  },
  {
   "cell_type": "markdown",
   "metadata": {},
   "source": [
    "- Let's try again. Insert into the ***stars_in*** table the following tuple:  \n",
    "  (movie_title ↦ Alien, movie_year ↦ 1979, star_name ↦ Sigourney Weaver)"
   ]
  },
  {
   "cell_type": "code",
   "execution_count": 26,
   "metadata": {},
   "outputs": [
    {
     "name": "stdout",
     "output_type": "stream",
     "text": [
      " * postgresql://postgres:***@db\n",
      "1 rows affected.\n"
     ]
    }
   ],
   "source": [
    "%sql INSERT INTO ise_ex4.stars_in VALUES ('Alien', 1979, 'Sigourney Weaver');"
   ]
  },
  {
   "cell_type": "code",
   "execution_count": 27,
   "metadata": {},
   "outputs": [
    {
     "name": "stdout",
     "output_type": "stream",
     "text": [
      " * postgresql://postgres:***@db\n",
      "9 rows affected.\n"
     ]
    },
    {
     "data": {
      "text/html": [
       "<table>\n",
       "    <tr>\n",
       "        <th>movie_title</th>\n",
       "        <th>movie_year</th>\n",
       "        <th>star_name</th>\n",
       "    </tr>\n",
       "    <tr>\n",
       "        <td>Arrival</td>\n",
       "        <td>2016</td>\n",
       "        <td>Amy Adams</td>\n",
       "    </tr>\n",
       "    <tr>\n",
       "        <td>La La Land</td>\n",
       "        <td>2016</td>\n",
       "        <td>Ryan Gosling</td>\n",
       "    </tr>\n",
       "    <tr>\n",
       "        <td>La La Land</td>\n",
       "        <td>2016</td>\n",
       "        <td>Emma Stone</td>\n",
       "    </tr>\n",
       "    <tr>\n",
       "        <td>Bladerunner</td>\n",
       "        <td>1982</td>\n",
       "        <td>Rutger Hauer</td>\n",
       "    </tr>\n",
       "    <tr>\n",
       "        <td>Bladerunner</td>\n",
       "        <td>1982</td>\n",
       "        <td>Harrison Ford</td>\n",
       "    </tr>\n",
       "    <tr>\n",
       "        <td>Bladerunner</td>\n",
       "        <td>1982</td>\n",
       "        <td>Sean Young</td>\n",
       "    </tr>\n",
       "    <tr>\n",
       "        <td>Bladerunner 2049</td>\n",
       "        <td>2017</td>\n",
       "        <td>Ryan Gosling</td>\n",
       "    </tr>\n",
       "    <tr>\n",
       "        <td>Bladerunner 2049</td>\n",
       "        <td>2017</td>\n",
       "        <td>Harrison Ford</td>\n",
       "    </tr>\n",
       "    <tr>\n",
       "        <td>Alien</td>\n",
       "        <td>1979</td>\n",
       "        <td>Sigourney Weaver</td>\n",
       "    </tr>\n",
       "</table>"
      ],
      "text/plain": [
       "[('Arrival', 2016, 'Amy Adams'),\n",
       " ('La La Land', 2016, 'Ryan Gosling'),\n",
       " ('La La Land', 2016, 'Emma Stone'),\n",
       " ('Bladerunner', 1982, 'Rutger Hauer'),\n",
       " ('Bladerunner', 1982, 'Harrison Ford'),\n",
       " ('Bladerunner', 1982, 'Sean Young'),\n",
       " ('Bladerunner 2049', 2017, 'Ryan Gosling'),\n",
       " ('Bladerunner 2049', 2017, 'Harrison Ford'),\n",
       " ('Alien', 1979, 'Sigourney Weaver')]"
      ]
     },
     "execution_count": 27,
     "metadata": {},
     "output_type": "execute_result"
    }
   ],
   "source": [
    "%sql SELECT * FROM ise_ex4.stars_in"
   ]
  },
  {
   "cell_type": "markdown",
   "metadata": {},
   "source": [
    "- Create the ***directed_by*** table:  \n",
    "  - *director_name* has default value 'random_director'\n",
    "\n",
    "|movie_title|movie_year|director_name|\n",
    "|:--------:|:-------:|:----------:|\n",
    "|string    |integer  |string      |  "
   ]
  },
  {
   "cell_type": "code",
   "execution_count": 28,
   "metadata": {},
   "outputs": [
    {
     "name": "stdout",
     "output_type": "stream",
     "text": [
      " * postgresql://postgres:***@db\n",
      "Done.\n"
     ]
    }
   ],
   "source": [
    "%%sql\n",
    "CREATE TABLE ise_ex4.directed_by(\n",
    "    movie_title VARCHAR(255),\n",
    "    movie_year SMALLINT,\n",
    "    director_name VARCHAR(30) DEFAULT 'random_director');"
   ]
  },
  {
   "cell_type": "markdown",
   "metadata": {},
   "source": [
    "- Alter the ***directed_by*** table, so that the following constraints are satisfied:  \n",
    "  - movie_title and movie_year are used as a foreign key from the ***movies*** table\n",
    "  - director_name is used as a foreign key from the ***credits*** table\n",
    "\n",
    "|movie_title|movie_year|director_name|\n",
    "|:--------:|:-------:|:----------:|\n",
    "|string    |integer  |string      |  "
   ]
  },
  {
   "cell_type": "code",
   "execution_count": 29,
   "metadata": {},
   "outputs": [
    {
     "name": "stdout",
     "output_type": "stream",
     "text": [
      " * postgresql://postgres:***@db\n",
      "Done.\n"
     ]
    },
    {
     "data": {
      "text/plain": [
       "[]"
      ]
     },
     "execution_count": 29,
     "metadata": {},
     "output_type": "execute_result"
    }
   ],
   "source": [
    "%%sql\n",
    "ALTER TABLE ise_ex4.directed_by\n",
    "    ADD FOREIGN KEY (movie_title, movie_year) REFERENCES ise_ex4.movies(title, year),\n",
    "    ADD FOREIGN KEY (director_name) REFERENCES ise_ex4.credits(name);"
   ]
  },
  {
   "cell_type": "markdown",
   "metadata": {},
   "source": [
    "- Populate the ***directed_by*** table:  \n",
    "\n",
    "|movie_title|movie_year|director_name|\n",
    "|---------:|:-------:|:-------|\n",
    "|Arrival|2016|Denis Villeneuve|\n",
    "|Bladerunner|1982|Ridley Scott|\n",
    "|Bladerunner 2049|2017|Denis Villeneuve|\n",
    "|Alien|1979|Ridley Scott|"
   ]
  },
  {
   "cell_type": "code",
   "execution_count": 30,
   "metadata": {},
   "outputs": [
    {
     "name": "stdout",
     "output_type": "stream",
     "text": [
      " * postgresql://postgres:***@db\n",
      "4 rows affected.\n"
     ]
    },
    {
     "data": {
      "text/plain": [
       "[]"
      ]
     },
     "execution_count": 30,
     "metadata": {},
     "output_type": "execute_result"
    }
   ],
   "source": [
    "%%sql\n",
    "INSERT INTO ise_ex4.directed_by\n",
    "    (movie_title, movie_year, director_name) VALUES\n",
    "    ('Arrival', 2016, 'Denis Villeneuve'), \n",
    "    ('Bladerunner', 1982, 'Ridley Scott'), \n",
    "    ('Bladerunner 2049', 2017, 'Denis Villeneuve'),\n",
    "    ('Alien', 1979, 'Ridley Scott');"
   ]
  },
  {
   "cell_type": "code",
   "execution_count": 31,
   "metadata": {},
   "outputs": [
    {
     "name": "stdout",
     "output_type": "stream",
     "text": [
      " * postgresql://postgres:***@db\n",
      "4 rows affected.\n"
     ]
    },
    {
     "data": {
      "text/html": [
       "<table>\n",
       "    <tr>\n",
       "        <th>movie_title</th>\n",
       "        <th>movie_year</th>\n",
       "        <th>director_name</th>\n",
       "    </tr>\n",
       "    <tr>\n",
       "        <td>Arrival</td>\n",
       "        <td>2016</td>\n",
       "        <td>Denis Villeneuve</td>\n",
       "    </tr>\n",
       "    <tr>\n",
       "        <td>Bladerunner</td>\n",
       "        <td>1982</td>\n",
       "        <td>Ridley Scott</td>\n",
       "    </tr>\n",
       "    <tr>\n",
       "        <td>Bladerunner 2049</td>\n",
       "        <td>2017</td>\n",
       "        <td>Denis Villeneuve</td>\n",
       "    </tr>\n",
       "    <tr>\n",
       "        <td>Alien</td>\n",
       "        <td>1979</td>\n",
       "        <td>Ridley Scott</td>\n",
       "    </tr>\n",
       "</table>"
      ],
      "text/plain": [
       "[('Arrival', 2016, 'Denis Villeneuve'),\n",
       " ('Bladerunner', 1982, 'Ridley Scott'),\n",
       " ('Bladerunner 2049', 2017, 'Denis Villeneuve'),\n",
       " ('Alien', 1979, 'Ridley Scott')]"
      ]
     },
     "execution_count": 31,
     "metadata": {},
     "output_type": "execute_result"
    }
   ],
   "source": [
    "%sql SELECT * FROM ise_ex4.directed_by"
   ]
  },
  {
   "cell_type": "markdown",
   "metadata": {},
   "source": [
    "- Create the ***produced_by*** table with the following constraints:  \n",
    "  - movie_title and movie_year are used as a foreign key from the ***movies*** table\n",
    "  - producer_name has default value 'random_producer' and is used as a foreign key from the ***credits*** table\n",
    "\n",
    "|movie_title|movie_year|producer_name|\n",
    "|:--------:|:-------:|:----------:|\n",
    "|string    |integer  |string      |  "
   ]
  },
  {
   "cell_type": "code",
   "execution_count": 32,
   "metadata": {},
   "outputs": [
    {
     "name": "stdout",
     "output_type": "stream",
     "text": [
      " * postgresql://postgres:***@db\n",
      "Done.\n"
     ]
    }
   ],
   "source": [
    "%%sql\n",
    "CREATE TABLE ise_ex4.produced_by(\n",
    "    movie_title VARCHAR(30),\n",
    "    movie_year SMALLINT,\n",
    "    producer_name VARCHAR(30) DEFAULT 'random_producer',\n",
    "    FOREIGN KEY(movie_title, movie_year) REFERENCES ise_ex4.movies(title, year),\n",
    "    FOREIGN KEY(producer_name) REFERENCES ise_ex4.credits(name));"
   ]
  },
  {
   "cell_type": "markdown",
   "metadata": {},
   "source": [
    "- Populate the ***produced_by*** table:  \n",
    "\n",
    "|movie_title|movie_year|producer_name|\n",
    "|---------:|:-------:|:-------|\n",
    "|Bladerunner 2049|2017|Ridley Scott|"
   ]
  },
  {
   "cell_type": "code",
   "execution_count": 33,
   "metadata": {},
   "outputs": [
    {
     "name": "stdout",
     "output_type": "stream",
     "text": [
      " * postgresql://postgres:***@db\n",
      "1 rows affected.\n"
     ]
    }
   ],
   "source": [
    "%sql INSERT INTO ise_ex4.produced_by VALUES ('Bladerunner 2049', 2017, 'Ridley Scott');"
   ]
  },
  {
   "cell_type": "code",
   "execution_count": 34,
   "metadata": {},
   "outputs": [
    {
     "name": "stdout",
     "output_type": "stream",
     "text": [
      " * postgresql://postgres:***@db\n",
      "1 rows affected.\n"
     ]
    },
    {
     "data": {
      "text/html": [
       "<table>\n",
       "    <tr>\n",
       "        <th>movie_title</th>\n",
       "        <th>movie_year</th>\n",
       "        <th>producer_name</th>\n",
       "    </tr>\n",
       "    <tr>\n",
       "        <td>Bladerunner 2049</td>\n",
       "        <td>2017</td>\n",
       "        <td>Ridley Scott</td>\n",
       "    </tr>\n",
       "</table>"
      ],
      "text/plain": [
       "[('Bladerunner 2049', 2017, 'Ridley Scott')]"
      ]
     },
     "execution_count": 34,
     "metadata": {},
     "output_type": "execute_result"
    }
   ],
   "source": [
    "%sql SELECT * FROM ise_ex4.produced_by"
   ]
  },
  {
   "cell_type": "markdown",
   "metadata": {},
   "source": [
    "- [Delete](https://www.postgresql.org/docs/current/static/sql-delete.html) Ridley Scott from the ***credits*** table (or try at least)."
   ]
  },
  {
   "cell_type": "code",
   "execution_count": 35,
   "metadata": {},
   "outputs": [
    {
     "name": "stdout",
     "output_type": "stream",
     "text": [
      " * postgresql://postgres:***@db\n",
      "(psycopg2.errors.ForeignKeyViolation) update or delete on table \"credits\" violates foreign key constraint \"directed_by_director_name_fkey\" on table \"directed_by\"\n",
      "DETAIL:  Key (name)=(Ridley Scott) is still referenced from table \"directed_by\".\n",
      "\n",
      "[SQL: DELETE FROM ise_ex4.credits WHERE name = 'Ridley Scott']\n",
      "(Background on this error at: https://sqlalche.me/e/14/gkpj)\n"
     ]
    }
   ],
   "source": [
    "%sql DELETE FROM ise_ex4.credits WHERE name = 'Ridley Scott'"
   ]
  },
  {
   "cell_type": "markdown",
   "metadata": {},
   "source": [
    "* Why did this fail? You should have gotten the error 'ForeignKeyViolation: update or delete on table \"credits\" violates foreign key constraint \"directed_by_director_name_fkey\" on table \"directed_by\"'"
   ]
  },
  {
   "cell_type": "markdown",
   "metadata": {},
   "source": [
    "- There are a number of ways that behavior of **DELETE** can be altered, namely:  \n",
    "  - NO ACTION\n",
    "  - RESTRICT\n",
    "  - SET DEFAULT\n",
    "  - SET NULL\n",
    "  - CASCADE"
   ]
  },
  {
   "cell_type": "markdown",
   "metadata": {},
   "source": [
    "* You can experiment with the tables we've created so far. We're about to reset the `ise_ex4` schema anyway, so don't worry about breaking things. Try and insert and remove tuples in ways that violate the constraints."
   ]
  },
  {
   "cell_type": "code",
   "execution_count": 36,
   "metadata": {},
   "outputs": [
    {
     "name": "stderr",
     "output_type": "stream",
     "text": [
      "UsageError: %%sql is a cell magic, but the cell body is empty. Did you mean the line magic %sql (single %)?\n"
     ]
    }
   ],
   "source": [
    "%%sql\n"
   ]
  },
  {
   "cell_type": "markdown",
   "metadata": {},
   "source": [
    "- Let's investigate what happens when we use **CASCADE**.\n",
    "\n",
    "  This next cell will reset the schema `ise_ex4` to a known state for the following exercises.\n",
    "  Note the `ON DELETE CASCADE` on the foreign key constraints."
   ]
  },
  {
   "cell_type": "code",
   "execution_count": 37,
   "metadata": {},
   "outputs": [
    {
     "name": "stdout",
     "output_type": "stream",
     "text": [
      " * postgresql://postgres:***@db\n",
      "Done.\n",
      "Done.\n",
      "Done.\n",
      "5 rows affected.\n",
      "Done.\n",
      "9 rows affected.\n",
      "Done.\n",
      "9 rows affected.\n",
      "Done.\n",
      "4 rows affected.\n",
      "Done.\n",
      "1 rows affected.\n"
     ]
    },
    {
     "data": {
      "text/plain": [
       "[]"
      ]
     },
     "execution_count": 37,
     "metadata": {},
     "output_type": "execute_result"
    }
   ],
   "source": [
    "%%sql\n",
    "DROP SCHEMA IF EXISTS ise_ex4 CASCADE;\n",
    "CREATE SCHEMA ise_ex4;\n",
    "\n",
    "\n",
    "CREATE TABLE ise_ex4.movies(\n",
    "    title VARCHAR(255),\n",
    "    year SMALLINT CHECK(year >= 1900 AND year <=2100),\n",
    "    length SMALLINT DEFAULT 120, \n",
    "    genre VARCHAR(20) DEFAULT 'Drama',\n",
    "    PRIMARY KEY(title, year));\n",
    "\n",
    "INSERT INTO ise_ex4.movies\n",
    "    (title, year, length, genre) VALUES \n",
    "    ('Bladerunner', 1982, 117, 'Thriller'),\n",
    "    ('Arrival', 2016, 116, 'Sci-Fi'),\n",
    "    ('La La Land', 2016, 128, 'Drama'),\n",
    "    ('Bladerunner 2049', 2017, 163, 'Thriller'),\n",
    "    ('Alien', 1979, 117, 'Horror');\n",
    "    \n",
    "    \n",
    "CREATE TABLE ise_ex4.credits(\n",
    "    name VARCHAR(30) NULL PRIMARY KEY,\n",
    "    birthdate DATE DEFAULT '1970-01-01');\n",
    "\n",
    "INSERT INTO ise_ex4.credits\n",
    "    (name, birthdate) VALUES \n",
    "    ('Denis Villeneuve', '1967-10-03'), \n",
    "    ('Amy Adams', '1974-08-20'), \n",
    "    ('Ryan Gosling', '1980-11-12'), \n",
    "    ('Harrison Ford', '1942-07-12'), \n",
    "    ('Ridley Scott', '1937-11-30'), \n",
    "    ('Emma Stone', '1988-11-06'), \n",
    "    ('Rutger Hauer', '1944-01-23'), \n",
    "    ('Sean Young', '1959-11-20'),\n",
    "    ('Sigourney Weaver', '1949-10-08');\n",
    "\n",
    "    \n",
    "CREATE TABLE ise_ex4.stars_in(\n",
    "    movie_title VARCHAR(255) NOT NULL,\n",
    "    movie_year SMALLINT NOT NULL,\n",
    "    star_name VARCHAR(30) NOT NULL REFERENCES ise_ex4.credits(name) ON DELETE CASCADE,\n",
    "    FOREIGN KEY(movie_title, movie_year) REFERENCES ise_ex4.movies(title, year));\n",
    "\n",
    "INSERT INTO ise_ex4.stars_in\n",
    "    (movie_title, movie_year, star_name) VALUES \n",
    "    ('Arrival', 2016, 'Amy Adams'), \n",
    "    ('La La Land', 2016, 'Ryan Gosling'), \n",
    "    ('La La Land', 2016, 'Emma Stone'), \n",
    "    ('Bladerunner', 1982, 'Rutger Hauer'), \n",
    "    ('Bladerunner', 1982, 'Harrison Ford'), \n",
    "    ('Bladerunner', 1982, 'Sean Young'), \n",
    "    ('Bladerunner 2049', 2017, 'Ryan Gosling'), \n",
    "    ('Bladerunner 2049', 2017, 'Harrison Ford'),\n",
    "    ('Alien', 1979, 'Sigourney Weaver');\n",
    "\n",
    "\n",
    "CREATE TABLE ise_ex4.directed_by(\n",
    "    movie_title VARCHAR(30),\n",
    "    movie_year SMALLINT,\n",
    "    director_name VARCHAR(30) DEFAULT 'random_director' REFERENCES ise_ex4.credits(name) ON DELETE CASCADE,\n",
    "    FOREIGN KEY(movie_title, movie_year) REFERENCES ise_ex4.movies(title, year));\n",
    "\n",
    "INSERT INTO ise_ex4.directed_by\n",
    "    (movie_title, movie_year, director_name) VALUES\n",
    "    ('Arrival', 2016, 'Denis Villeneuve'), \n",
    "    ('Bladerunner', 1982, 'Ridley Scott'), \n",
    "    ('Bladerunner 2049', 2017, 'Denis Villeneuve'),\n",
    "    ('Alien', 1979, 'Ridley Scott');\n",
    "\n",
    "CREATE TABLE ise_ex4.produced_by(\n",
    "    movie_title VARCHAR(30),\n",
    "    movie_year SMALLINT,\n",
    "    producer_name VARCHAR(30) DEFAULT 'random_producer',\n",
    "    FOREIGN KEY(movie_title, movie_year) REFERENCES ise_ex4.movies(title, year),\n",
    "    FOREIGN KEY(producer_name) REFERENCES ise_ex4.credits(name) ON DELETE CASCADE);\n",
    "\n",
    "INSERT INTO ise_ex4.produced_by\n",
    "    (movie_title, movie_year, producer_name) VALUES\n",
    "    ('Bladerunner 2049', 2017, 'Ridley Scott');"
   ]
  },
  {
   "cell_type": "markdown",
   "metadata": {},
   "source": [
    "- Delete Ridley Scott from the ***credits*** table."
   ]
  },
  {
   "cell_type": "code",
   "execution_count": 38,
   "metadata": {},
   "outputs": [
    {
     "name": "stdout",
     "output_type": "stream",
     "text": [
      " * postgresql://postgres:***@db\n",
      "1 rows affected.\n"
     ]
    }
   ],
   "source": [
    "%sql DELETE FROM ise_ex4.credits WHERE name = 'Ridley Scott';"
   ]
  },
  {
   "cell_type": "code",
   "execution_count": 39,
   "metadata": {},
   "outputs": [
    {
     "name": "stdout",
     "output_type": "stream",
     "text": [
      " * postgresql://postgres:***@db\n",
      "8 rows affected.\n"
     ]
    },
    {
     "data": {
      "text/html": [
       "<table>\n",
       "    <tr>\n",
       "        <th>name</th>\n",
       "        <th>birthdate</th>\n",
       "    </tr>\n",
       "    <tr>\n",
       "        <td>Denis Villeneuve</td>\n",
       "        <td>1967-10-03</td>\n",
       "    </tr>\n",
       "    <tr>\n",
       "        <td>Amy Adams</td>\n",
       "        <td>1974-08-20</td>\n",
       "    </tr>\n",
       "    <tr>\n",
       "        <td>Ryan Gosling</td>\n",
       "        <td>1980-11-12</td>\n",
       "    </tr>\n",
       "    <tr>\n",
       "        <td>Harrison Ford</td>\n",
       "        <td>1942-07-12</td>\n",
       "    </tr>\n",
       "    <tr>\n",
       "        <td>Emma Stone</td>\n",
       "        <td>1988-11-06</td>\n",
       "    </tr>\n",
       "    <tr>\n",
       "        <td>Rutger Hauer</td>\n",
       "        <td>1944-01-23</td>\n",
       "    </tr>\n",
       "    <tr>\n",
       "        <td>Sean Young</td>\n",
       "        <td>1959-11-20</td>\n",
       "    </tr>\n",
       "    <tr>\n",
       "        <td>Sigourney Weaver</td>\n",
       "        <td>1949-10-08</td>\n",
       "    </tr>\n",
       "</table>"
      ],
      "text/plain": [
       "[('Denis Villeneuve', datetime.date(1967, 10, 3)),\n",
       " ('Amy Adams', datetime.date(1974, 8, 20)),\n",
       " ('Ryan Gosling', datetime.date(1980, 11, 12)),\n",
       " ('Harrison Ford', datetime.date(1942, 7, 12)),\n",
       " ('Emma Stone', datetime.date(1988, 11, 6)),\n",
       " ('Rutger Hauer', datetime.date(1944, 1, 23)),\n",
       " ('Sean Young', datetime.date(1959, 11, 20)),\n",
       " ('Sigourney Weaver', datetime.date(1949, 10, 8))]"
      ]
     },
     "execution_count": 39,
     "metadata": {},
     "output_type": "execute_result"
    }
   ],
   "source": [
    "%sql SELECT * FROM ise_ex4.credits"
   ]
  },
  {
   "cell_type": "markdown",
   "metadata": {},
   "source": [
    "* Rows that reference `Ridley Scott` are now gone from all the tables with integrity constraints with `ise_ex4.credits`."
   ]
  },
  {
   "cell_type": "code",
   "execution_count": 40,
   "metadata": {},
   "outputs": [
    {
     "name": "stdout",
     "output_type": "stream",
     "text": [
      " * postgresql://postgres:***@db\n",
      "9 rows affected.\n"
     ]
    },
    {
     "data": {
      "text/html": [
       "<table>\n",
       "    <tr>\n",
       "        <th>movie_title</th>\n",
       "        <th>movie_year</th>\n",
       "        <th>star_name</th>\n",
       "    </tr>\n",
       "    <tr>\n",
       "        <td>Arrival</td>\n",
       "        <td>2016</td>\n",
       "        <td>Amy Adams</td>\n",
       "    </tr>\n",
       "    <tr>\n",
       "        <td>La La Land</td>\n",
       "        <td>2016</td>\n",
       "        <td>Ryan Gosling</td>\n",
       "    </tr>\n",
       "    <tr>\n",
       "        <td>La La Land</td>\n",
       "        <td>2016</td>\n",
       "        <td>Emma Stone</td>\n",
       "    </tr>\n",
       "    <tr>\n",
       "        <td>Bladerunner</td>\n",
       "        <td>1982</td>\n",
       "        <td>Rutger Hauer</td>\n",
       "    </tr>\n",
       "    <tr>\n",
       "        <td>Bladerunner</td>\n",
       "        <td>1982</td>\n",
       "        <td>Harrison Ford</td>\n",
       "    </tr>\n",
       "    <tr>\n",
       "        <td>Bladerunner</td>\n",
       "        <td>1982</td>\n",
       "        <td>Sean Young</td>\n",
       "    </tr>\n",
       "    <tr>\n",
       "        <td>Bladerunner 2049</td>\n",
       "        <td>2017</td>\n",
       "        <td>Ryan Gosling</td>\n",
       "    </tr>\n",
       "    <tr>\n",
       "        <td>Bladerunner 2049</td>\n",
       "        <td>2017</td>\n",
       "        <td>Harrison Ford</td>\n",
       "    </tr>\n",
       "    <tr>\n",
       "        <td>Alien</td>\n",
       "        <td>1979</td>\n",
       "        <td>Sigourney Weaver</td>\n",
       "    </tr>\n",
       "</table>"
      ],
      "text/plain": [
       "[('Arrival', 2016, 'Amy Adams'),\n",
       " ('La La Land', 2016, 'Ryan Gosling'),\n",
       " ('La La Land', 2016, 'Emma Stone'),\n",
       " ('Bladerunner', 1982, 'Rutger Hauer'),\n",
       " ('Bladerunner', 1982, 'Harrison Ford'),\n",
       " ('Bladerunner', 1982, 'Sean Young'),\n",
       " ('Bladerunner 2049', 2017, 'Ryan Gosling'),\n",
       " ('Bladerunner 2049', 2017, 'Harrison Ford'),\n",
       " ('Alien', 1979, 'Sigourney Weaver')]"
      ]
     },
     "execution_count": 40,
     "metadata": {},
     "output_type": "execute_result"
    }
   ],
   "source": [
    "%sql SELECT * FROM ise_ex4.stars_in"
   ]
  },
  {
   "cell_type": "code",
   "execution_count": 41,
   "metadata": {},
   "outputs": [
    {
     "name": "stdout",
     "output_type": "stream",
     "text": [
      " * postgresql://postgres:***@db\n",
      "2 rows affected.\n"
     ]
    },
    {
     "data": {
      "text/html": [
       "<table>\n",
       "    <tr>\n",
       "        <th>movie_title</th>\n",
       "        <th>movie_year</th>\n",
       "        <th>director_name</th>\n",
       "    </tr>\n",
       "    <tr>\n",
       "        <td>Arrival</td>\n",
       "        <td>2016</td>\n",
       "        <td>Denis Villeneuve</td>\n",
       "    </tr>\n",
       "    <tr>\n",
       "        <td>Bladerunner 2049</td>\n",
       "        <td>2017</td>\n",
       "        <td>Denis Villeneuve</td>\n",
       "    </tr>\n",
       "</table>"
      ],
      "text/plain": [
       "[('Arrival', 2016, 'Denis Villeneuve'),\n",
       " ('Bladerunner 2049', 2017, 'Denis Villeneuve')]"
      ]
     },
     "execution_count": 41,
     "metadata": {},
     "output_type": "execute_result"
    }
   ],
   "source": [
    "%sql SELECT * FROM ise_ex4.directed_by"
   ]
  },
  {
   "cell_type": "code",
   "execution_count": 42,
   "metadata": {},
   "outputs": [
    {
     "name": "stdout",
     "output_type": "stream",
     "text": [
      " * postgresql://postgres:***@db\n",
      "0 rows affected.\n"
     ]
    },
    {
     "data": {
      "text/html": [
       "<table>\n",
       "    <tr>\n",
       "        <th>movie_title</th>\n",
       "        <th>movie_year</th>\n",
       "        <th>producer_name</th>\n",
       "    </tr>\n",
       "</table>"
      ],
      "text/plain": [
       "[]"
      ]
     },
     "execution_count": 42,
     "metadata": {},
     "output_type": "execute_result"
    }
   ],
   "source": [
    "%sql SELECT * FROM ise_ex4.produced_by"
   ]
  },
  {
   "cell_type": "markdown",
   "metadata": {},
   "source": [
    "* We are about to reset the schema again, so feel free to experiment here too."
   ]
  },
  {
   "cell_type": "code",
   "execution_count": 43,
   "metadata": {},
   "outputs": [
    {
     "name": "stderr",
     "output_type": "stream",
     "text": [
      "UsageError: %%sql is a cell magic, but the cell body is empty. Did you mean the line magic %sql (single %)?\n"
     ]
    }
   ],
   "source": [
    "%%sql"
   ]
  },
  {
   "cell_type": "markdown",
   "metadata": {},
   "source": [
    "- Let's try this time with **SET DEFAULT**:\n",
    "\n",
    "  Again, this next cell will reset the schema."
   ]
  },
  {
   "cell_type": "code",
   "execution_count": 44,
   "metadata": {},
   "outputs": [
    {
     "name": "stdout",
     "output_type": "stream",
     "text": [
      " * postgresql://postgres:***@db\n",
      "Done.\n",
      "Done.\n",
      "Done.\n",
      "5 rows affected.\n",
      "Done.\n",
      "9 rows affected.\n",
      "Done.\n",
      "9 rows affected.\n",
      "Done.\n",
      "4 rows affected.\n",
      "Done.\n",
      "1 rows affected.\n"
     ]
    },
    {
     "data": {
      "text/plain": [
       "[]"
      ]
     },
     "execution_count": 44,
     "metadata": {},
     "output_type": "execute_result"
    }
   ],
   "source": [
    "%%sql\n",
    "DROP SCHEMA IF EXISTS ise_ex4 CASCADE;\n",
    "CREATE SCHEMA ise_ex4;\n",
    "\n",
    "\n",
    "CREATE TABLE ise_ex4.movies(\n",
    "    title VARCHAR(255),\n",
    "    year SMALLINT CHECK(year >= 1900 AND year <=2100),\n",
    "    length SMALLINT DEFAULT 120, \n",
    "    genre VARCHAR(20) DEFAULT 'Drama',\n",
    "    PRIMARY KEY(title, year));\n",
    "\n",
    "INSERT INTO ise_ex4.movies\n",
    "    (title, year, length, genre) VALUES \n",
    "    ('Bladerunner', 1982, 117, 'Thriller'),\n",
    "    ('Arrival', 2016, 116, 'Sci-Fi'),\n",
    "    ('La La Land', 2016, 128, 'Drama'),\n",
    "    ('Bladerunner 2049', 2017, 163, 'Thriller'),\n",
    "    ('Alien', 1979, 117, 'Horror');\n",
    "    \n",
    "    \n",
    "CREATE TABLE ise_ex4.credits(\n",
    "    name VARCHAR(30) NULL PRIMARY KEY,\n",
    "    birthdate DATE DEFAULT '1970-01-01');\n",
    "\n",
    "INSERT INTO ise_ex4.credits\n",
    "    (name, birthdate) VALUES \n",
    "    ('Denis Villeneuve', '1967-10-03'), \n",
    "    ('Amy Adams', '1974-08-20'), \n",
    "    ('Ryan Gosling', '1980-11-12'), \n",
    "    ('Harrison Ford', '1942-07-12'), \n",
    "    ('Ridley Scott', '1937-11-30'), \n",
    "    ('Emma Stone', '1988-11-06'), \n",
    "    ('Rutger Hauer', '1944-01-23'), \n",
    "    ('Sean Young', '1959-11-20'),\n",
    "    ('Sigourney Weaver', '1949-10-08');\n",
    "\n",
    "    \n",
    "CREATE TABLE ise_ex4.stars_in(\n",
    "    movie_title VARCHAR(255) NOT NULL,\n",
    "    movie_year SMALLINT NOT NULL,\n",
    "    star_name VARCHAR(30) NOT NULL REFERENCES ise_ex4.credits(name) ON DELETE SET DEFAULT,\n",
    "    FOREIGN KEY(movie_title, movie_year) REFERENCES ise_ex4.movies(title, year));\n",
    "\n",
    "INSERT INTO ise_ex4.stars_in\n",
    "    (movie_title, movie_year, star_name) VALUES \n",
    "    ('Arrival', 2016, 'Amy Adams'), \n",
    "    ('La La Land', 2016, 'Ryan Gosling'), \n",
    "    ('La La Land', 2016, 'Emma Stone'), \n",
    "    ('Bladerunner', 1982, 'Rutger Hauer'), \n",
    "    ('Bladerunner', 1982, 'Harrison Ford'), \n",
    "    ('Bladerunner', 1982, 'Sean Young'), \n",
    "    ('Bladerunner 2049', 2017, 'Ryan Gosling'), \n",
    "    ('Bladerunner 2049', 2017, 'Harrison Ford'),\n",
    "    ('Alien', 1979, 'Sigourney Weaver');\n",
    "\n",
    "\n",
    "CREATE TABLE ise_ex4.directed_by(\n",
    "    movie_title VARCHAR(30),\n",
    "    movie_year SMALLINT,\n",
    "    director_name VARCHAR(30) DEFAULT 'random_director' REFERENCES ise_ex4.credits(name) ON DELETE SET DEFAULT,\n",
    "    FOREIGN KEY(movie_title, movie_year) REFERENCES ise_ex4.movies(title, year));\n",
    "\n",
    "INSERT INTO ise_ex4.directed_by\n",
    "    (movie_title, movie_year, director_name) VALUES\n",
    "    ('Arrival', 2016, 'Denis Villeneuve'), \n",
    "    ('Bladerunner', 1982, 'Ridley Scott'), \n",
    "    ('Bladerunner 2049', 2017, 'Denis Villeneuve'),\n",
    "    ('Alien', 1979, 'Ridley Scott');\n",
    "\n",
    "CREATE TABLE ise_ex4.produced_by(\n",
    "    movie_title VARCHAR(30),\n",
    "    movie_year SMALLINT,\n",
    "    producer_name VARCHAR(30) DEFAULT 'random_producer',\n",
    "    FOREIGN KEY(movie_title, movie_year) REFERENCES ise_ex4.movies(title, year),\n",
    "    FOREIGN KEY(producer_name) REFERENCES ise_ex4.credits(name) ON DELETE SET DEFAULT);\n",
    "\n",
    "INSERT INTO ise_ex4.produced_by\n",
    "    (movie_title, movie_year, producer_name) VALUES\n",
    "    ('Bladerunner 2049', 2017, 'Ridley Scott');"
   ]
  },
  {
   "cell_type": "markdown",
   "metadata": {},
   "source": [
    "- Delete Ridley Scott from the ***credits*** table."
   ]
  },
  {
   "cell_type": "code",
   "execution_count": 45,
   "metadata": {
    "scrolled": true
   },
   "outputs": [
    {
     "name": "stdout",
     "output_type": "stream",
     "text": [
      " * postgresql://postgres:***@db\n",
      "(psycopg2.errors.ForeignKeyViolation) insert or update on table \"directed_by\" violates foreign key constraint \"directed_by_director_name_fkey\"\n",
      "DETAIL:  Key (director_name)=(random_director) is not present in table \"credits\".\n",
      "\n",
      "[SQL: DELETE FROM ise_ex4.credits WHERE name = 'Ridley Scott' ;]\n",
      "(Background on this error at: https://sqlalche.me/e/14/gkpj)\n"
     ]
    }
   ],
   "source": [
    "%sql DELETE FROM ise_ex4.credits WHERE name = 'Ridley Scott';"
   ]
  },
  {
   "cell_type": "markdown",
   "metadata": {},
   "source": [
    "- Why did the operation fail? Add the missing tuples (to `ise_ex4.credits`) in order to fix it."
   ]
  },
  {
   "cell_type": "code",
   "execution_count": 46,
   "metadata": {},
   "outputs": [
    {
     "name": "stdout",
     "output_type": "stream",
     "text": [
      " * postgresql://postgres:***@db\n",
      "2 rows affected.\n"
     ]
    },
    {
     "data": {
      "text/plain": [
       "[]"
      ]
     },
     "execution_count": 46,
     "metadata": {},
     "output_type": "execute_result"
    }
   ],
   "source": [
    "%%sql\n",
    "INSERT INTO ise_ex4.credits\n",
    "    (name, birthdate) VALUES\n",
    "    ('random_director', DEFAULT),\n",
    "    ('random_producer', DEFAULT);"
   ]
  },
  {
   "cell_type": "markdown",
   "metadata": {},
   "source": [
    "- Delete Ridley Scott from the ***credits*** table."
   ]
  },
  {
   "cell_type": "code",
   "execution_count": 47,
   "metadata": {},
   "outputs": [
    {
     "name": "stdout",
     "output_type": "stream",
     "text": [
      " * postgresql://postgres:***@db\n",
      "1 rows affected.\n"
     ]
    }
   ],
   "source": [
    "%sql DELETE FROM ise_ex4.credits WHERE name = 'Ridley Scott';"
   ]
  },
  {
   "cell_type": "code",
   "execution_count": 48,
   "metadata": {},
   "outputs": [
    {
     "name": "stdout",
     "output_type": "stream",
     "text": [
      " * postgresql://postgres:***@db\n",
      "10 rows affected.\n"
     ]
    }
   ],
   "source": [
    "%sql SELECT * FROM ise_ex4.credits;"
   ]
  },
  {
   "cell_type": "code",
   "execution_count": 49,
   "metadata": {},
   "outputs": [
    {
     "name": "stdout",
     "output_type": "stream",
     "text": [
      " * postgresql://postgres:***@db\n",
      "9 rows affected.\n"
     ]
    },
    {
     "data": {
      "text/html": [
       "<table>\n",
       "    <tr>\n",
       "        <th>movie_title</th>\n",
       "        <th>movie_year</th>\n",
       "        <th>star_name</th>\n",
       "    </tr>\n",
       "    <tr>\n",
       "        <td>Arrival</td>\n",
       "        <td>2016</td>\n",
       "        <td>Amy Adams</td>\n",
       "    </tr>\n",
       "    <tr>\n",
       "        <td>La La Land</td>\n",
       "        <td>2016</td>\n",
       "        <td>Ryan Gosling</td>\n",
       "    </tr>\n",
       "    <tr>\n",
       "        <td>La La Land</td>\n",
       "        <td>2016</td>\n",
       "        <td>Emma Stone</td>\n",
       "    </tr>\n",
       "    <tr>\n",
       "        <td>Bladerunner</td>\n",
       "        <td>1982</td>\n",
       "        <td>Rutger Hauer</td>\n",
       "    </tr>\n",
       "    <tr>\n",
       "        <td>Bladerunner</td>\n",
       "        <td>1982</td>\n",
       "        <td>Harrison Ford</td>\n",
       "    </tr>\n",
       "    <tr>\n",
       "        <td>Bladerunner</td>\n",
       "        <td>1982</td>\n",
       "        <td>Sean Young</td>\n",
       "    </tr>\n",
       "    <tr>\n",
       "        <td>Bladerunner 2049</td>\n",
       "        <td>2017</td>\n",
       "        <td>Ryan Gosling</td>\n",
       "    </tr>\n",
       "    <tr>\n",
       "        <td>Bladerunner 2049</td>\n",
       "        <td>2017</td>\n",
       "        <td>Harrison Ford</td>\n",
       "    </tr>\n",
       "    <tr>\n",
       "        <td>Alien</td>\n",
       "        <td>1979</td>\n",
       "        <td>Sigourney Weaver</td>\n",
       "    </tr>\n",
       "</table>"
      ],
      "text/plain": [
       "[('Arrival', 2016, 'Amy Adams'),\n",
       " ('La La Land', 2016, 'Ryan Gosling'),\n",
       " ('La La Land', 2016, 'Emma Stone'),\n",
       " ('Bladerunner', 1982, 'Rutger Hauer'),\n",
       " ('Bladerunner', 1982, 'Harrison Ford'),\n",
       " ('Bladerunner', 1982, 'Sean Young'),\n",
       " ('Bladerunner 2049', 2017, 'Ryan Gosling'),\n",
       " ('Bladerunner 2049', 2017, 'Harrison Ford'),\n",
       " ('Alien', 1979, 'Sigourney Weaver')]"
      ]
     },
     "execution_count": 49,
     "metadata": {},
     "output_type": "execute_result"
    }
   ],
   "source": [
    "%sql SELECT * FROM ise_ex4.stars_in"
   ]
  },
  {
   "cell_type": "code",
   "execution_count": 50,
   "metadata": {},
   "outputs": [
    {
     "name": "stdout",
     "output_type": "stream",
     "text": [
      " * postgresql://postgres:***@db\n",
      "4 rows affected.\n"
     ]
    },
    {
     "data": {
      "text/html": [
       "<table>\n",
       "    <tr>\n",
       "        <th>movie_title</th>\n",
       "        <th>movie_year</th>\n",
       "        <th>director_name</th>\n",
       "    </tr>\n",
       "    <tr>\n",
       "        <td>Arrival</td>\n",
       "        <td>2016</td>\n",
       "        <td>Denis Villeneuve</td>\n",
       "    </tr>\n",
       "    <tr>\n",
       "        <td>Bladerunner 2049</td>\n",
       "        <td>2017</td>\n",
       "        <td>Denis Villeneuve</td>\n",
       "    </tr>\n",
       "    <tr>\n",
       "        <td>Bladerunner</td>\n",
       "        <td>1982</td>\n",
       "        <td>random_director</td>\n",
       "    </tr>\n",
       "    <tr>\n",
       "        <td>Alien</td>\n",
       "        <td>1979</td>\n",
       "        <td>random_director</td>\n",
       "    </tr>\n",
       "</table>"
      ],
      "text/plain": [
       "[('Arrival', 2016, 'Denis Villeneuve'),\n",
       " ('Bladerunner 2049', 2017, 'Denis Villeneuve'),\n",
       " ('Bladerunner', 1982, 'random_director'),\n",
       " ('Alien', 1979, 'random_director')]"
      ]
     },
     "execution_count": 50,
     "metadata": {},
     "output_type": "execute_result"
    }
   ],
   "source": [
    "%sql SELECT * FROM ise_ex4.directed_by"
   ]
  },
  {
   "cell_type": "code",
   "execution_count": 51,
   "metadata": {},
   "outputs": [
    {
     "name": "stdout",
     "output_type": "stream",
     "text": [
      " * postgresql://postgres:***@db\n",
      "1 rows affected.\n"
     ]
    },
    {
     "data": {
      "text/html": [
       "<table>\n",
       "    <tr>\n",
       "        <th>movie_title</th>\n",
       "        <th>movie_year</th>\n",
       "        <th>producer_name</th>\n",
       "    </tr>\n",
       "    <tr>\n",
       "        <td>Bladerunner 2049</td>\n",
       "        <td>2017</td>\n",
       "        <td>random_producer</td>\n",
       "    </tr>\n",
       "</table>"
      ],
      "text/plain": [
       "[('Bladerunner 2049', 2017, 'random_producer')]"
      ]
     },
     "execution_count": 51,
     "metadata": {},
     "output_type": "execute_result"
    }
   ],
   "source": [
    "%sql SELECT * FROM ise_ex4.produced_by"
   ]
  },
  {
   "cell_type": "markdown",
   "metadata": {},
   "source": [
    "- Finally, let's try this time with **SET NULL**:"
   ]
  },
  {
   "cell_type": "code",
   "execution_count": 52,
   "metadata": {},
   "outputs": [
    {
     "name": "stdout",
     "output_type": "stream",
     "text": [
      " * postgresql://postgres:***@db\n",
      "Done.\n",
      "Done.\n",
      "Done.\n",
      "5 rows affected.\n",
      "Done.\n",
      "9 rows affected.\n",
      "Done.\n",
      "9 rows affected.\n",
      "Done.\n",
      "4 rows affected.\n",
      "Done.\n",
      "1 rows affected.\n"
     ]
    },
    {
     "data": {
      "text/plain": [
       "[]"
      ]
     },
     "execution_count": 52,
     "metadata": {},
     "output_type": "execute_result"
    }
   ],
   "source": [
    "%%sql\n",
    "DROP SCHEMA IF EXISTS ise_ex4 CASCADE;\n",
    "CREATE SCHEMA ise_ex4;\n",
    "\n",
    "\n",
    "CREATE TABLE ise_ex4.movies(\n",
    "    title VARCHAR(255),\n",
    "    year SMALLINT CHECK(year >= 1900 AND year <=2100),\n",
    "    length SMALLINT DEFAULT 120, \n",
    "    genre VARCHAR(20) DEFAULT 'Drama',\n",
    "    PRIMARY KEY(title, year));\n",
    "\n",
    "INSERT INTO ise_ex4.movies\n",
    "    (title, year, length, genre) VALUES \n",
    "    ('Bladerunner', 1982, 117, 'Thriller'),\n",
    "    ('Arrival', 2016, 116, 'Sci-Fi'),\n",
    "    ('La La Land', 2016, 128, 'Drama'),\n",
    "    ('Bladerunner 2049', 2017, 163, 'Thriller'),\n",
    "    ('Alien', 1979, 117, 'Horror');\n",
    "    \n",
    "    \n",
    "CREATE TABLE ise_ex4.credits(\n",
    "    name VARCHAR(30) NULL PRIMARY KEY,\n",
    "    birthdate DATE DEFAULT '1970-01-01');\n",
    "\n",
    "INSERT INTO ise_ex4.credits\n",
    "    (name, birthdate) VALUES \n",
    "    ('Denis Villeneuve', '1967-10-03'), \n",
    "    ('Amy Adams', '1974-08-20'), \n",
    "    ('Ryan Gosling', '1980-11-12'), \n",
    "    ('Harrison Ford', '1942-07-12'), \n",
    "    ('Ridley Scott', '1937-11-30'), \n",
    "    ('Emma Stone', '1988-11-06'), \n",
    "    ('Rutger Hauer', '1944-01-23'), \n",
    "    ('Sean Young', '1959-11-20'),\n",
    "    ('Sigourney Weaver', '1949-10-08');\n",
    "\n",
    "    \n",
    "CREATE TABLE ise_ex4.stars_in(\n",
    "    movie_title VARCHAR(255) NOT NULL,\n",
    "    movie_year SMALLINT NOT NULL,\n",
    "    star_name VARCHAR(30) NOT NULL REFERENCES ise_ex4.credits(name) ON DELETE SET NULL,\n",
    "    FOREIGN KEY(movie_title, movie_year) REFERENCES ise_ex4.movies(title, year));\n",
    "\n",
    "INSERT INTO ise_ex4.stars_in\n",
    "    (movie_title, movie_year, star_name) VALUES \n",
    "    ('Arrival', 2016, 'Amy Adams'), \n",
    "    ('La La Land', 2016, 'Ryan Gosling'), \n",
    "    ('La La Land', 2016, 'Emma Stone'), \n",
    "    ('Bladerunner', 1982, 'Rutger Hauer'), \n",
    "    ('Bladerunner', 1982, 'Harrison Ford'), \n",
    "    ('Bladerunner', 1982, 'Sean Young'), \n",
    "    ('Bladerunner 2049', 2017, 'Ryan Gosling'), \n",
    "    ('Bladerunner 2049', 2017, 'Harrison Ford'),\n",
    "    ('Alien', 1979, 'Sigourney Weaver');\n",
    "\n",
    "\n",
    "CREATE TABLE ise_ex4.directed_by(\n",
    "    movie_title VARCHAR(30),\n",
    "    movie_year SMALLINT,\n",
    "    director_name VARCHAR(30) DEFAULT 'random_director' REFERENCES ise_ex4.credits(name) ON DELETE SET NULL,\n",
    "    FOREIGN KEY(movie_title, movie_year) REFERENCES ise_ex4.movies(title, year));\n",
    "\n",
    "INSERT INTO ise_ex4.directed_by\n",
    "    (movie_title, movie_year, director_name) VALUES\n",
    "    ('Arrival', 2016, 'Denis Villeneuve'), \n",
    "    ('Bladerunner', 1982, 'Ridley Scott'), \n",
    "    ('Bladerunner 2049', 2017, 'Denis Villeneuve'),\n",
    "    ('Alien', 1979, 'Ridley Scott');\n",
    "\n",
    "CREATE TABLE ise_ex4.produced_by(\n",
    "    movie_title VARCHAR(30),\n",
    "    movie_year SMALLINT,\n",
    "    producer_name VARCHAR(30) DEFAULT 'random_producer',\n",
    "    FOREIGN KEY(movie_title, movie_year) REFERENCES ise_ex4.movies(title, year),\n",
    "    FOREIGN KEY(producer_name) REFERENCES ise_ex4.credits(name) ON DELETE SET NULL);\n",
    "\n",
    "INSERT INTO ise_ex4.produced_by\n",
    "    (movie_title, movie_year, producer_name) VALUES\n",
    "    ('Bladerunner 2049', 2017, 'Ridley Scott');"
   ]
  },
  {
   "cell_type": "markdown",
   "metadata": {},
   "source": [
    "- Delete Ridley Scott from the ***credits*** table."
   ]
  },
  {
   "cell_type": "code",
   "execution_count": 53,
   "metadata": {},
   "outputs": [
    {
     "name": "stdout",
     "output_type": "stream",
     "text": [
      " * postgresql://postgres:***@db\n",
      "1 rows affected.\n"
     ]
    }
   ],
   "source": [
    "%sql DELETE FROM ise_ex4.credits WHERE name = 'Ridley Scott';"
   ]
  },
  {
   "cell_type": "code",
   "execution_count": 54,
   "metadata": {},
   "outputs": [
    {
     "name": "stdout",
     "output_type": "stream",
     "text": [
      " * postgresql://postgres:***@db\n",
      "8 rows affected.\n"
     ]
    },
    {
     "data": {
      "text/html": [
       "<table>\n",
       "    <tr>\n",
       "        <th>name</th>\n",
       "        <th>birthdate</th>\n",
       "    </tr>\n",
       "    <tr>\n",
       "        <td>Denis Villeneuve</td>\n",
       "        <td>1967-10-03</td>\n",
       "    </tr>\n",
       "    <tr>\n",
       "        <td>Amy Adams</td>\n",
       "        <td>1974-08-20</td>\n",
       "    </tr>\n",
       "    <tr>\n",
       "        <td>Ryan Gosling</td>\n",
       "        <td>1980-11-12</td>\n",
       "    </tr>\n",
       "    <tr>\n",
       "        <td>Harrison Ford</td>\n",
       "        <td>1942-07-12</td>\n",
       "    </tr>\n",
       "    <tr>\n",
       "        <td>Emma Stone</td>\n",
       "        <td>1988-11-06</td>\n",
       "    </tr>\n",
       "    <tr>\n",
       "        <td>Rutger Hauer</td>\n",
       "        <td>1944-01-23</td>\n",
       "    </tr>\n",
       "    <tr>\n",
       "        <td>Sean Young</td>\n",
       "        <td>1959-11-20</td>\n",
       "    </tr>\n",
       "    <tr>\n",
       "        <td>Sigourney Weaver</td>\n",
       "        <td>1949-10-08</td>\n",
       "    </tr>\n",
       "</table>"
      ],
      "text/plain": [
       "[('Denis Villeneuve', datetime.date(1967, 10, 3)),\n",
       " ('Amy Adams', datetime.date(1974, 8, 20)),\n",
       " ('Ryan Gosling', datetime.date(1980, 11, 12)),\n",
       " ('Harrison Ford', datetime.date(1942, 7, 12)),\n",
       " ('Emma Stone', datetime.date(1988, 11, 6)),\n",
       " ('Rutger Hauer', datetime.date(1944, 1, 23)),\n",
       " ('Sean Young', datetime.date(1959, 11, 20)),\n",
       " ('Sigourney Weaver', datetime.date(1949, 10, 8))]"
      ]
     },
     "execution_count": 54,
     "metadata": {},
     "output_type": "execute_result"
    }
   ],
   "source": [
    "%sql SELECT * FROM ise_ex4.credits"
   ]
  },
  {
   "cell_type": "code",
   "execution_count": 55,
   "metadata": {},
   "outputs": [
    {
     "name": "stdout",
     "output_type": "stream",
     "text": [
      " * postgresql://postgres:***@db\n",
      "9 rows affected.\n"
     ]
    },
    {
     "data": {
      "text/html": [
       "<table>\n",
       "    <tr>\n",
       "        <th>movie_title</th>\n",
       "        <th>movie_year</th>\n",
       "        <th>star_name</th>\n",
       "    </tr>\n",
       "    <tr>\n",
       "        <td>Arrival</td>\n",
       "        <td>2016</td>\n",
       "        <td>Amy Adams</td>\n",
       "    </tr>\n",
       "    <tr>\n",
       "        <td>La La Land</td>\n",
       "        <td>2016</td>\n",
       "        <td>Ryan Gosling</td>\n",
       "    </tr>\n",
       "    <tr>\n",
       "        <td>La La Land</td>\n",
       "        <td>2016</td>\n",
       "        <td>Emma Stone</td>\n",
       "    </tr>\n",
       "    <tr>\n",
       "        <td>Bladerunner</td>\n",
       "        <td>1982</td>\n",
       "        <td>Rutger Hauer</td>\n",
       "    </tr>\n",
       "    <tr>\n",
       "        <td>Bladerunner</td>\n",
       "        <td>1982</td>\n",
       "        <td>Harrison Ford</td>\n",
       "    </tr>\n",
       "    <tr>\n",
       "        <td>Bladerunner</td>\n",
       "        <td>1982</td>\n",
       "        <td>Sean Young</td>\n",
       "    </tr>\n",
       "    <tr>\n",
       "        <td>Bladerunner 2049</td>\n",
       "        <td>2017</td>\n",
       "        <td>Ryan Gosling</td>\n",
       "    </tr>\n",
       "    <tr>\n",
       "        <td>Bladerunner 2049</td>\n",
       "        <td>2017</td>\n",
       "        <td>Harrison Ford</td>\n",
       "    </tr>\n",
       "    <tr>\n",
       "        <td>Alien</td>\n",
       "        <td>1979</td>\n",
       "        <td>Sigourney Weaver</td>\n",
       "    </tr>\n",
       "</table>"
      ],
      "text/plain": [
       "[('Arrival', 2016, 'Amy Adams'),\n",
       " ('La La Land', 2016, 'Ryan Gosling'),\n",
       " ('La La Land', 2016, 'Emma Stone'),\n",
       " ('Bladerunner', 1982, 'Rutger Hauer'),\n",
       " ('Bladerunner', 1982, 'Harrison Ford'),\n",
       " ('Bladerunner', 1982, 'Sean Young'),\n",
       " ('Bladerunner 2049', 2017, 'Ryan Gosling'),\n",
       " ('Bladerunner 2049', 2017, 'Harrison Ford'),\n",
       " ('Alien', 1979, 'Sigourney Weaver')]"
      ]
     },
     "execution_count": 55,
     "metadata": {},
     "output_type": "execute_result"
    }
   ],
   "source": [
    "%sql SELECT * FROM ise_ex4.stars_in"
   ]
  },
  {
   "cell_type": "code",
   "execution_count": 56,
   "metadata": {},
   "outputs": [
    {
     "name": "stdout",
     "output_type": "stream",
     "text": [
      " * postgresql://postgres:***@db\n",
      "4 rows affected.\n"
     ]
    },
    {
     "data": {
      "text/html": [
       "<table>\n",
       "    <tr>\n",
       "        <th>movie_title</th>\n",
       "        <th>movie_year</th>\n",
       "        <th>director_name</th>\n",
       "    </tr>\n",
       "    <tr>\n",
       "        <td>Arrival</td>\n",
       "        <td>2016</td>\n",
       "        <td>Denis Villeneuve</td>\n",
       "    </tr>\n",
       "    <tr>\n",
       "        <td>Bladerunner 2049</td>\n",
       "        <td>2017</td>\n",
       "        <td>Denis Villeneuve</td>\n",
       "    </tr>\n",
       "    <tr>\n",
       "        <td>Bladerunner</td>\n",
       "        <td>1982</td>\n",
       "        <td>None</td>\n",
       "    </tr>\n",
       "    <tr>\n",
       "        <td>Alien</td>\n",
       "        <td>1979</td>\n",
       "        <td>None</td>\n",
       "    </tr>\n",
       "</table>"
      ],
      "text/plain": [
       "[('Arrival', 2016, 'Denis Villeneuve'),\n",
       " ('Bladerunner 2049', 2017, 'Denis Villeneuve'),\n",
       " ('Bladerunner', 1982, None),\n",
       " ('Alien', 1979, None)]"
      ]
     },
     "execution_count": 56,
     "metadata": {},
     "output_type": "execute_result"
    }
   ],
   "source": [
    "%sql SELECT * FROM ise_ex4.directed_by"
   ]
  },
  {
   "cell_type": "code",
   "execution_count": 57,
   "metadata": {},
   "outputs": [
    {
     "name": "stdout",
     "output_type": "stream",
     "text": [
      " * postgresql://postgres:***@db\n",
      "1 rows affected.\n"
     ]
    },
    {
     "data": {
      "text/html": [
       "<table>\n",
       "    <tr>\n",
       "        <th>movie_title</th>\n",
       "        <th>movie_year</th>\n",
       "        <th>producer_name</th>\n",
       "    </tr>\n",
       "    <tr>\n",
       "        <td>Bladerunner 2049</td>\n",
       "        <td>2017</td>\n",
       "        <td>None</td>\n",
       "    </tr>\n",
       "</table>"
      ],
      "text/plain": [
       "[('Bladerunner 2049', 2017, None)]"
      ]
     },
     "execution_count": 57,
     "metadata": {},
     "output_type": "execute_result"
    }
   ],
   "source": [
    "%sql SELECT * FROM ise_ex4.produced_by"
   ]
  },
  {
   "cell_type": "markdown",
   "metadata": {},
   "source": [
    "* In the following, we'll provide much less guidance so you can see how familiar you are with the concepts explained so far."
   ]
  },
  {
   "cell_type": "markdown",
   "metadata": {},
   "source": [
    "- Copy/paste and modify the script below so that the following constraints are satisfied:  \n",
    "  \n",
    "  - ***cards*** table:\n",
    "    - Attribute *id* is primary key\n",
    "    - Attribute *name* is unique\n",
    "  - ***classes*** table:\n",
    "    - Attribute *name* is primary key\n",
    "  - ***sets*** table:\n",
    "    - Attribute *name* is primary key\n",
    "  - ***races*** table:\n",
    "    - Attribute *name* is primary key\n",
    "  - ***minions*** table:\n",
    "    - Attribute *name* is foreign key, referencing attribute *name* of the ***cards*** table\n",
    "    - Attributes *mana*, *attack* and *health* cannot be negative\n",
    "    - Attribute *race* is foreign key, referencing attribute *name* of the ***races*** table\n",
    "    - Attribute *class* is foreign key, referencing attribute *name* of the ***classes*** table\n",
    "    - Attribute *set* is foreign key, referencing attribute *name* of the ***sets*** table\n",
    "  - ***abilities*** table:\n",
    "    - Attribute *name* is foreign key, referencing attribute *name* of the ***cards*** table\n",
    "    - Attribute *mana* cannot be negative\n",
    "    - Attribute *class* is foreign key, referencing attribute *name* of the ***classes*** table\n",
    "    - Attribute *set* is foreign key, referencing attribute *name* of the ***sets*** table\n",
    "  - ***weapons*** table:\n",
    "    - Attribute *name* is foreign key, referencing attribute *name* of the ***cards*** table\n",
    "    - Attributes *mana*, *attack* and *durability* cannot be negative\n",
    "    - Attribute *class* is foreign key, referencing attribute *name* of the ***classes*** table\n",
    "    - Attribute *set* is foreign key, referencing attribute *name* of the ***sets*** table\n",
    "  - ***playable_heroes*** table:\n",
    "    - Attribute *name* is foreign key, referencing attribute *name* of the ***cards*** table\n",
    "    - Attribute *mana* cannot be negative\n",
    "    - Attribute *class* is foreign key, referencing attribute *name* of the ***classes*** table\n",
    "    - Attribute *set* is foreign key, referencing attribute *name* of the ***sets*** table"
   ]
  },
  {
   "cell_type": "markdown",
   "metadata": {},
   "source": [
    "```SQL\n",
    "DROP SCHEMA IF EXISTS ise_ex4_hs CASCADE;\n",
    "CREATE SCHEMA ise_ex4_hs;\n",
    "\n",
    "\n",
    "CREATE TABLE ise_ex4_hs.cards(\n",
    "    id INT NOT NULL,\n",
    "    name VARCHAR(30) NOT NULL);\n",
    "\n",
    "INSERT INTO ise_ex4_hs.cards\n",
    "    (id, name) VALUES\n",
    "    (1, 'Explosive Trap'),\n",
    "    (2, 'Crackle'),\n",
    "    (3, 'Ysera'),\n",
    "    (4, 'Mechanical Yeti'),\n",
    "    (5, 'Frost Lich Jaina'),\n",
    "    (6, 'Lord Jaraxxus'),\n",
    "    (7, 'Gorehowl'),\n",
    "    (8, 'Drakonid Operator'),\n",
    "    (9, 'Kvaldir Raider'),\n",
    "    (10, 'Zombie Chow'),\n",
    "    (11, 'Murloc Tinyfin'),\n",
    "    (12, 'Grim Patron'),\n",
    "    (13, 'Mind Control');\n",
    "    \n",
    "    \n",
    "CREATE TABLE ise_ex4_hs.classes(\n",
    "    name VARCHAR(20) NOT NULL);\n",
    "\n",
    "INSERT INTO ise_ex4_hs.classes VALUES\n",
    "    ('Neutral'), ('Druid'), ('Hunter'),\n",
    "    ('Mage'), ('Paladin'), ('Priest'),\n",
    "    ('Rogue'), ('Shaman'), ('Warlock'), ('Warrior');\n",
    "    \n",
    "\n",
    "CREATE TABLE ise_ex4_hs.sets(\n",
    "    name VARCHAR(255) NOT NULL);\n",
    "\n",
    "INSERT INTO ise_ex4_hs.sets VALUES\n",
    "    ('Basic'), ('Expert'), ('Curse of Naxxramas'),\n",
    "    ('Goblins vs Gnomes'), ('Blackrock Mountain'), ('The Grand Tournament'),\n",
    "    ('League of Explorers'), ('Whispers of the Old Gods'), ('Mean Streets of Gadgetzan'),\n",
    "    ('One Night in Karazhan'), ('Journey to Un''Goro'), ('Knights of the Frozen Throne');\n",
    "    \n",
    "    \n",
    "CREATE TABLE ise_ex4_hs.races(\n",
    "    name VARCHAR(20) NOT NULL);\n",
    "\n",
    "INSERT INTO ise_ex4_hs.races VALUES\n",
    "    ('Beast'), ('Elemental'), ('Demon'), ('Dragon'),\n",
    "    ('Mech'), ('Murloc'), ('Pirate'), ('Totem');\n",
    "    \n",
    "    \n",
    "CREATE TABLE ise_ex4_hs.minions(\n",
    "    name VARCHAR(30) NOT NULL,\n",
    "    mana INT NOT NULL,\n",
    "    attack INT NOT NULL,\n",
    "    health INT NOT NULL,\n",
    "    race VARCHAR(20) NULL,\n",
    "    class VARCHAR(20) NOT NULL,\n",
    "    set VARCHAR(255) NOT NULL);\n",
    "\n",
    "INSERT INTO ise_ex4_hs.minions\n",
    "    (name, mana, attack, health, race, class, set) VALUES\n",
    "    ('Ysera', 9, 4, 12, 'Dragon', 'Neutral', 'Expert'),\n",
    "    ('Mechanical Yeti', 4, 4, 5, 'Mech', 'Neutral', 'Goblins vs Gnomes'),\n",
    "    ('Lord Jaraxxus', 9, 3, 15, 'Demon', 'Warlock', 'Expert'), \n",
    "    ('Drakonid Operator', 5, 5, 6, 'Dragon', 'Priest', 'Mean Streets of Gadgetzan'), \n",
    "    ('Kvaldir Raider', 5, 4, 4, DEFAULT, 'Neutral', 'The Grand Tournament'), \n",
    "    ('Zombie Chow', 1, 2, 3, DEFAULT, 'Neutral', 'Curse of Naxxramas'),\n",
    "    ('Murloc Tinyfin', 0, 1, 1, 'Murloc', 'Neutral', 'League of Explorers'),\n",
    "    ('Grim Patron', 5, 3, 3, DEFAULT, 'Neutral', 'Blackrock Mountain');\n",
    "    \n",
    "    \n",
    "CREATE TABLE ise_ex4_hs.abilities(\n",
    "    name VARCHAR(30) NOT NULL,\n",
    "    mana INT NOT NULL,\n",
    "    class VARCHAR(20) NOT NULL,\n",
    "    set VARCHAR(255) NOT NULL);\n",
    "\n",
    "INSERT INTO ise_ex4_hs.abilities\n",
    "    (name, mana, class, set) VALUES\n",
    "    ('Explosive Trap', 2, 'Hunter', 'Expert'),\n",
    "    ('Crackle', 2, 'Shaman', 'Goblins vs Gnomes'),\n",
    "    ('Mind Control', 10, 'Priest', 'Basic');\n",
    "    \n",
    "    \n",
    "CREATE TABLE ise_ex4_hs.weapons(\n",
    "    name VARCHAR(30) NOT NULL,\n",
    "    mana INT NOT NULL,\n",
    "    attack INT NOT NULL,\n",
    "    durability INT NOT NULL,\n",
    "    class VARCHAR(20) not NULL,\n",
    "    set VARCHAR(255) NOT NULL);\n",
    "\n",
    "INSERT INTO ise_ex4_hs.weapons\n",
    "    (name, mana, attack, durability, class, set) VALUES\n",
    "    ('Gorehowl', 7, 7, 1, 'Warrior', 'Expert');\n",
    "    \n",
    "\n",
    "CREATE TABLE ise_ex4_hs.playable_heroes(\n",
    "    name VARCHAR(30) NOT NULL,\n",
    "    mana INT NOT NULL,\n",
    "    class VARCHAR(20) NOT NULL,\n",
    "    set VARCHAR(255) NOT NULL);\n",
    "\n",
    "INSERT INTO ise_ex4_hs.playable_heroes\n",
    "    (name, mana, class, set) VALUES\n",
    "    ('Frost Lich Jaina', 9, 'Mage', 'Knights of the Frozen Throne');\n",
    "```"
   ]
  },
  {
   "cell_type": "code",
   "execution_count": 58,
   "metadata": {},
   "outputs": [
    {
     "name": "stdout",
     "output_type": "stream",
     "text": [
      " * postgresql://postgres:***@db\n",
      "Done.\n",
      "Done.\n",
      "Done.\n",
      "13 rows affected.\n",
      "Done.\n",
      "10 rows affected.\n",
      "Done.\n",
      "12 rows affected.\n",
      "Done.\n",
      "8 rows affected.\n",
      "Done.\n",
      "8 rows affected.\n",
      "Done.\n",
      "3 rows affected.\n",
      "Done.\n",
      "1 rows affected.\n",
      "Done.\n",
      "1 rows affected.\n"
     ]
    },
    {
     "data": {
      "text/plain": [
       "[]"
      ]
     },
     "execution_count": 58,
     "metadata": {},
     "output_type": "execute_result"
    }
   ],
   "source": [
    "%%sql\n",
    "DROP SCHEMA IF EXISTS ise_ex4_hs CASCADE;\n",
    "CREATE SCHEMA ise_ex4_hs;\n",
    "\n",
    "\n",
    "CREATE TABLE ise_ex4_hs.cards(\n",
    "    id INT PRIMARY KEY,\n",
    "    name VARCHAR(30) UNIQUE NOT NULL);\n",
    "\n",
    "INSERT INTO ise_ex4_hs.cards\n",
    "    (id, name) VALUES\n",
    "    (1, 'Explosive Trap'),\n",
    "    (2, 'Crackle'),\n",
    "    (3, 'Ysera'),\n",
    "    (4, 'Mechanical Yeti'),\n",
    "    (5, 'Frost Lich Jaina'),\n",
    "    (6, 'Lord Jaraxxus'),\n",
    "    (7, 'Gorehowl'),\n",
    "    (8, 'Drakonid Operator'),\n",
    "    (9, 'Kvaldir Raider'),\n",
    "    (10, 'Zombie Chow'),\n",
    "    (11, 'Murloc Tinyfin'),\n",
    "    (12, 'Grim Patron'),\n",
    "    (13, 'Mind Control');\n",
    "\n",
    "\n",
    "CREATE TABLE ise_ex4_hs.classes(\n",
    "    name VARCHAR(20) PRIMARY KEY);\n",
    "\n",
    "INSERT INTO ise_ex4_hs.classes VALUES\n",
    "    ('Neutral'), ('Druid'), ('Hunter'),\n",
    "    ('Mage'), ('Paladin'), ('Priest'),\n",
    "    ('Rogue'), ('Shaman'), ('Warlock'), ('Warrior');\n",
    "\n",
    "\n",
    "CREATE TABLE ise_ex4_hs.sets(\n",
    "    name VARCHAR(255) PRIMARY KEY);\n",
    "\n",
    "INSERT INTO ise_ex4_hs.sets VALUES\n",
    "    ('Basic'), ('Expert'), ('Curse of Naxxramas'),\n",
    "    ('Goblins vs Gnomes'), ('Blackrock Mountain'), ('The Grand Tournament'),\n",
    "    ('League of Explorers'), ('Whispers of the Old Gods'), ('Mean Streets of Gadgetzan'),\n",
    "    ('One Night in Karazhan'), ('Journey to Un''Goro'), ('Knights of the Frozen Throne');\n",
    "\n",
    "\n",
    "CREATE TABLE ise_ex4_hs.races(\n",
    "    name VARCHAR(20) PRIMARY KEY);\n",
    "\n",
    "INSERT INTO ise_ex4_hs.races VALUES\n",
    "    ('Beast'), ('Elemental'), ('Demon'), ('Dragon'),\n",
    "    ('Mech'), ('Murloc'), ('Pirate'), ('Totem');\n",
    "\n",
    "\n",
    "CREATE TABLE ise_ex4_hs.minions(\n",
    "    name VARCHAR(30) NOT NULL REFERENCES ise_ex4_hs.cards(name),\n",
    "    mana INT NOT NULL CHECK (mana >= 0),\n",
    "    attack INT NOT NULL CHECK (attack >= 0),\n",
    "    health INT NOT NULL CHECK (health >= 0),\n",
    "    race VARCHAR(20) NULL REFERENCES ise_ex4_hs.races(name),\n",
    "    class VARCHAR(20) NOT NULL REFERENCES ise_ex4_hs.classes(name),\n",
    "    set VARCHAR(255) NOT NULL REFERENCES ise_ex4_hs.sets(name));\n",
    "\n",
    "INSERT INTO ise_ex4_hs.minions\n",
    "    (name, mana, attack, health, race, class, set) VALUES\n",
    "    ('Ysera', 9, 4, 12, 'Dragon', 'Neutral', 'Expert'),\n",
    "    ('Mechanical Yeti', 4, 4, 5, 'Mech', 'Neutral', 'Goblins vs Gnomes'),\n",
    "    ('Lord Jaraxxus', 9, 3, 15, 'Demon', 'Warlock', 'Expert'), \n",
    "    ('Drakonid Operator', 5, 5, 6, 'Dragon', 'Priest', 'Mean Streets of Gadgetzan'), \n",
    "    ('Kvaldir Raider', 5, 4, 4, DEFAULT, 'Neutral', 'The Grand Tournament'), \n",
    "    ('Zombie Chow', 1, 2, 3, DEFAULT, 'Neutral', 'Curse of Naxxramas'),\n",
    "    ('Murloc Tinyfin', 0, 1, 1, 'Murloc', 'Neutral', 'League of Explorers'),\n",
    "    ('Grim Patron', 5, 3, 3, DEFAULT, 'Neutral', 'Blackrock Mountain');\n",
    "\n",
    "\n",
    "CREATE TABLE ise_ex4_hs.abilities(\n",
    "    name VARCHAR(30) NOT NULL REFERENCES ise_ex4_hs.cards(name),\n",
    "    mana INT NOT NULL CHECK (mana >= 0),\n",
    "    class VARCHAR(20) NOT NULL REFERENCES ise_ex4_hs.classes(name),\n",
    "    set VARCHAR(255) NOT NULL REFERENCES ise_ex4_hs.sets(name));\n",
    "\n",
    "INSERT INTO ise_ex4_hs.abilities\n",
    "    (name, mana, class, set) VALUES\n",
    "    ('Explosive Trap', 2, 'Hunter', 'Expert'),\n",
    "    ('Crackle', 2, 'Shaman', 'Goblins vs Gnomes'),\n",
    "    ('Mind Control', 10, 'Priest', 'Basic');\n",
    "\n",
    "\n",
    "CREATE TABLE ise_ex4_hs.weapons(\n",
    "    name VARCHAR(30) NOT NULL REFERENCES ise_ex4_hs.cards(name),\n",
    "    mana INT NOT NULL CHECK (mana >= 0),\n",
    "    attack INT NOT NULL CHECK (attack >= 0),\n",
    "    durability INT NOT NULL CHECK (durability >= 0),\n",
    "    class VARCHAR(20) not NULL REFERENCES ise_ex4_hs.classes(name),\n",
    "    set VARCHAR(255) NOT NULL REFERENCES ise_ex4_hs.sets(name));\n",
    "\n",
    "INSERT INTO ise_ex4_hs.weapons\n",
    "    (name, mana, attack, durability, class, set) VALUES\n",
    "    ('Gorehowl', 7, 7, 1, 'Warrior', 'Expert');\n",
    "\n",
    "\n",
    "CREATE TABLE ise_ex4_hs.playable_heroes(\n",
    "    name VARCHAR(30) NOT NULL REFERENCES ise_ex4_hs.cards(name),\n",
    "    mana INT NOT NULL CHECK (mana >= 0),\n",
    "    class VARCHAR(20) NOT NULL REFERENCES ise_ex4_hs.classes(name),\n",
    "    set VARCHAR(255) NOT NULL REFERENCES ise_ex4_hs.sets(name));\n",
    "\n",
    "INSERT INTO ise_ex4_hs.playable_heroes\n",
    "    (name, mana, class, set) VALUES\n",
    "    ('Frost Lich Jaina', 9, 'Mage', 'Knights of the Frozen Throne');"
   ]
  },
  {
   "cell_type": "code",
   "execution_count": 59,
   "metadata": {},
   "outputs": [
    {
     "name": "stdout",
     "output_type": "stream",
     "text": [
      " * postgresql://postgres:***@db\n",
      "13 rows affected.\n"
     ]
    },
    {
     "data": {
      "text/html": [
       "<table>\n",
       "    <tr>\n",
       "        <th>id</th>\n",
       "        <th>name</th>\n",
       "    </tr>\n",
       "    <tr>\n",
       "        <td>1</td>\n",
       "        <td>Explosive Trap</td>\n",
       "    </tr>\n",
       "    <tr>\n",
       "        <td>2</td>\n",
       "        <td>Crackle</td>\n",
       "    </tr>\n",
       "    <tr>\n",
       "        <td>3</td>\n",
       "        <td>Ysera</td>\n",
       "    </tr>\n",
       "    <tr>\n",
       "        <td>4</td>\n",
       "        <td>Mechanical Yeti</td>\n",
       "    </tr>\n",
       "    <tr>\n",
       "        <td>5</td>\n",
       "        <td>Frost Lich Jaina</td>\n",
       "    </tr>\n",
       "    <tr>\n",
       "        <td>6</td>\n",
       "        <td>Lord Jaraxxus</td>\n",
       "    </tr>\n",
       "    <tr>\n",
       "        <td>7</td>\n",
       "        <td>Gorehowl</td>\n",
       "    </tr>\n",
       "    <tr>\n",
       "        <td>8</td>\n",
       "        <td>Drakonid Operator</td>\n",
       "    </tr>\n",
       "    <tr>\n",
       "        <td>9</td>\n",
       "        <td>Kvaldir Raider</td>\n",
       "    </tr>\n",
       "    <tr>\n",
       "        <td>10</td>\n",
       "        <td>Zombie Chow</td>\n",
       "    </tr>\n",
       "    <tr>\n",
       "        <td>11</td>\n",
       "        <td>Murloc Tinyfin</td>\n",
       "    </tr>\n",
       "    <tr>\n",
       "        <td>12</td>\n",
       "        <td>Grim Patron</td>\n",
       "    </tr>\n",
       "    <tr>\n",
       "        <td>13</td>\n",
       "        <td>Mind Control</td>\n",
       "    </tr>\n",
       "</table>"
      ],
      "text/plain": [
       "[(1, 'Explosive Trap'),\n",
       " (2, 'Crackle'),\n",
       " (3, 'Ysera'),\n",
       " (4, 'Mechanical Yeti'),\n",
       " (5, 'Frost Lich Jaina'),\n",
       " (6, 'Lord Jaraxxus'),\n",
       " (7, 'Gorehowl'),\n",
       " (8, 'Drakonid Operator'),\n",
       " (9, 'Kvaldir Raider'),\n",
       " (10, 'Zombie Chow'),\n",
       " (11, 'Murloc Tinyfin'),\n",
       " (12, 'Grim Patron'),\n",
       " (13, 'Mind Control')]"
      ]
     },
     "execution_count": 59,
     "metadata": {},
     "output_type": "execute_result"
    }
   ],
   "source": [
    "%sql SELECT * FROM ise_ex4_hs.cards"
   ]
  },
  {
   "cell_type": "code",
   "execution_count": 60,
   "metadata": {},
   "outputs": [
    {
     "name": "stdout",
     "output_type": "stream",
     "text": [
      " * postgresql://postgres:***@db\n",
      "8 rows affected.\n"
     ]
    },
    {
     "data": {
      "text/html": [
       "<table>\n",
       "    <tr>\n",
       "        <th>name</th>\n",
       "    </tr>\n",
       "    <tr>\n",
       "        <td>Beast</td>\n",
       "    </tr>\n",
       "    <tr>\n",
       "        <td>Elemental</td>\n",
       "    </tr>\n",
       "    <tr>\n",
       "        <td>Demon</td>\n",
       "    </tr>\n",
       "    <tr>\n",
       "        <td>Dragon</td>\n",
       "    </tr>\n",
       "    <tr>\n",
       "        <td>Mech</td>\n",
       "    </tr>\n",
       "    <tr>\n",
       "        <td>Murloc</td>\n",
       "    </tr>\n",
       "    <tr>\n",
       "        <td>Pirate</td>\n",
       "    </tr>\n",
       "    <tr>\n",
       "        <td>Totem</td>\n",
       "    </tr>\n",
       "</table>"
      ],
      "text/plain": [
       "[('Beast',),\n",
       " ('Elemental',),\n",
       " ('Demon',),\n",
       " ('Dragon',),\n",
       " ('Mech',),\n",
       " ('Murloc',),\n",
       " ('Pirate',),\n",
       " ('Totem',)]"
      ]
     },
     "execution_count": 60,
     "metadata": {},
     "output_type": "execute_result"
    }
   ],
   "source": [
    "%sql SELECT * FROM ise_ex4_hs.races"
   ]
  },
  {
   "cell_type": "code",
   "execution_count": 61,
   "metadata": {},
   "outputs": [
    {
     "name": "stdout",
     "output_type": "stream",
     "text": [
      " * postgresql://postgres:***@db\n",
      "10 rows affected.\n"
     ]
    },
    {
     "data": {
      "text/html": [
       "<table>\n",
       "    <tr>\n",
       "        <th>name</th>\n",
       "    </tr>\n",
       "    <tr>\n",
       "        <td>Neutral</td>\n",
       "    </tr>\n",
       "    <tr>\n",
       "        <td>Druid</td>\n",
       "    </tr>\n",
       "    <tr>\n",
       "        <td>Hunter</td>\n",
       "    </tr>\n",
       "    <tr>\n",
       "        <td>Mage</td>\n",
       "    </tr>\n",
       "    <tr>\n",
       "        <td>Paladin</td>\n",
       "    </tr>\n",
       "    <tr>\n",
       "        <td>Priest</td>\n",
       "    </tr>\n",
       "    <tr>\n",
       "        <td>Rogue</td>\n",
       "    </tr>\n",
       "    <tr>\n",
       "        <td>Shaman</td>\n",
       "    </tr>\n",
       "    <tr>\n",
       "        <td>Warlock</td>\n",
       "    </tr>\n",
       "    <tr>\n",
       "        <td>Warrior</td>\n",
       "    </tr>\n",
       "</table>"
      ],
      "text/plain": [
       "[('Neutral',),\n",
       " ('Druid',),\n",
       " ('Hunter',),\n",
       " ('Mage',),\n",
       " ('Paladin',),\n",
       " ('Priest',),\n",
       " ('Rogue',),\n",
       " ('Shaman',),\n",
       " ('Warlock',),\n",
       " ('Warrior',)]"
      ]
     },
     "execution_count": 61,
     "metadata": {},
     "output_type": "execute_result"
    }
   ],
   "source": [
    "%sql SELECT * FROM ise_ex4_hs.classes"
   ]
  },
  {
   "cell_type": "code",
   "execution_count": 62,
   "metadata": {},
   "outputs": [
    {
     "name": "stdout",
     "output_type": "stream",
     "text": [
      " * postgresql://postgres:***@db\n",
      "12 rows affected.\n"
     ]
    },
    {
     "data": {
      "text/html": [
       "<table>\n",
       "    <tr>\n",
       "        <th>name</th>\n",
       "    </tr>\n",
       "    <tr>\n",
       "        <td>Basic</td>\n",
       "    </tr>\n",
       "    <tr>\n",
       "        <td>Expert</td>\n",
       "    </tr>\n",
       "    <tr>\n",
       "        <td>Curse of Naxxramas</td>\n",
       "    </tr>\n",
       "    <tr>\n",
       "        <td>Goblins vs Gnomes</td>\n",
       "    </tr>\n",
       "    <tr>\n",
       "        <td>Blackrock Mountain</td>\n",
       "    </tr>\n",
       "    <tr>\n",
       "        <td>The Grand Tournament</td>\n",
       "    </tr>\n",
       "    <tr>\n",
       "        <td>League of Explorers</td>\n",
       "    </tr>\n",
       "    <tr>\n",
       "        <td>Whispers of the Old Gods</td>\n",
       "    </tr>\n",
       "    <tr>\n",
       "        <td>Mean Streets of Gadgetzan</td>\n",
       "    </tr>\n",
       "    <tr>\n",
       "        <td>One Night in Karazhan</td>\n",
       "    </tr>\n",
       "    <tr>\n",
       "        <td>Journey to Un&#x27;Goro</td>\n",
       "    </tr>\n",
       "    <tr>\n",
       "        <td>Knights of the Frozen Throne</td>\n",
       "    </tr>\n",
       "</table>"
      ],
      "text/plain": [
       "[('Basic',),\n",
       " ('Expert',),\n",
       " ('Curse of Naxxramas',),\n",
       " ('Goblins vs Gnomes',),\n",
       " ('Blackrock Mountain',),\n",
       " ('The Grand Tournament',),\n",
       " ('League of Explorers',),\n",
       " ('Whispers of the Old Gods',),\n",
       " ('Mean Streets of Gadgetzan',),\n",
       " ('One Night in Karazhan',),\n",
       " (\"Journey to Un'Goro\",),\n",
       " ('Knights of the Frozen Throne',)]"
      ]
     },
     "execution_count": 62,
     "metadata": {},
     "output_type": "execute_result"
    }
   ],
   "source": [
    "%sql SELECT * FROM ise_ex4_hs.sets"
   ]
  },
  {
   "cell_type": "code",
   "execution_count": 63,
   "metadata": {},
   "outputs": [
    {
     "name": "stdout",
     "output_type": "stream",
     "text": [
      " * postgresql://postgres:***@db\n",
      "8 rows affected.\n"
     ]
    },
    {
     "data": {
      "text/html": [
       "<table>\n",
       "    <tr>\n",
       "        <th>name</th>\n",
       "        <th>mana</th>\n",
       "        <th>attack</th>\n",
       "        <th>health</th>\n",
       "        <th>race</th>\n",
       "        <th>class</th>\n",
       "        <th>set</th>\n",
       "    </tr>\n",
       "    <tr>\n",
       "        <td>Ysera</td>\n",
       "        <td>9</td>\n",
       "        <td>4</td>\n",
       "        <td>12</td>\n",
       "        <td>Dragon</td>\n",
       "        <td>Neutral</td>\n",
       "        <td>Expert</td>\n",
       "    </tr>\n",
       "    <tr>\n",
       "        <td>Mechanical Yeti</td>\n",
       "        <td>4</td>\n",
       "        <td>4</td>\n",
       "        <td>5</td>\n",
       "        <td>Mech</td>\n",
       "        <td>Neutral</td>\n",
       "        <td>Goblins vs Gnomes</td>\n",
       "    </tr>\n",
       "    <tr>\n",
       "        <td>Lord Jaraxxus</td>\n",
       "        <td>9</td>\n",
       "        <td>3</td>\n",
       "        <td>15</td>\n",
       "        <td>Demon</td>\n",
       "        <td>Warlock</td>\n",
       "        <td>Expert</td>\n",
       "    </tr>\n",
       "    <tr>\n",
       "        <td>Drakonid Operator</td>\n",
       "        <td>5</td>\n",
       "        <td>5</td>\n",
       "        <td>6</td>\n",
       "        <td>Dragon</td>\n",
       "        <td>Priest</td>\n",
       "        <td>Mean Streets of Gadgetzan</td>\n",
       "    </tr>\n",
       "    <tr>\n",
       "        <td>Kvaldir Raider</td>\n",
       "        <td>5</td>\n",
       "        <td>4</td>\n",
       "        <td>4</td>\n",
       "        <td>None</td>\n",
       "        <td>Neutral</td>\n",
       "        <td>The Grand Tournament</td>\n",
       "    </tr>\n",
       "    <tr>\n",
       "        <td>Zombie Chow</td>\n",
       "        <td>1</td>\n",
       "        <td>2</td>\n",
       "        <td>3</td>\n",
       "        <td>None</td>\n",
       "        <td>Neutral</td>\n",
       "        <td>Curse of Naxxramas</td>\n",
       "    </tr>\n",
       "    <tr>\n",
       "        <td>Murloc Tinyfin</td>\n",
       "        <td>0</td>\n",
       "        <td>1</td>\n",
       "        <td>1</td>\n",
       "        <td>Murloc</td>\n",
       "        <td>Neutral</td>\n",
       "        <td>League of Explorers</td>\n",
       "    </tr>\n",
       "    <tr>\n",
       "        <td>Grim Patron</td>\n",
       "        <td>5</td>\n",
       "        <td>3</td>\n",
       "        <td>3</td>\n",
       "        <td>None</td>\n",
       "        <td>Neutral</td>\n",
       "        <td>Blackrock Mountain</td>\n",
       "    </tr>\n",
       "</table>"
      ],
      "text/plain": [
       "[('Ysera', 9, 4, 12, 'Dragon', 'Neutral', 'Expert'),\n",
       " ('Mechanical Yeti', 4, 4, 5, 'Mech', 'Neutral', 'Goblins vs Gnomes'),\n",
       " ('Lord Jaraxxus', 9, 3, 15, 'Demon', 'Warlock', 'Expert'),\n",
       " ('Drakonid Operator', 5, 5, 6, 'Dragon', 'Priest', 'Mean Streets of Gadgetzan'),\n",
       " ('Kvaldir Raider', 5, 4, 4, None, 'Neutral', 'The Grand Tournament'),\n",
       " ('Zombie Chow', 1, 2, 3, None, 'Neutral', 'Curse of Naxxramas'),\n",
       " ('Murloc Tinyfin', 0, 1, 1, 'Murloc', 'Neutral', 'League of Explorers'),\n",
       " ('Grim Patron', 5, 3, 3, None, 'Neutral', 'Blackrock Mountain')]"
      ]
     },
     "execution_count": 63,
     "metadata": {},
     "output_type": "execute_result"
    }
   ],
   "source": [
    "%sql SELECT * FROM ise_ex4_hs.minions"
   ]
  },
  {
   "cell_type": "code",
   "execution_count": 64,
   "metadata": {},
   "outputs": [
    {
     "name": "stdout",
     "output_type": "stream",
     "text": [
      " * postgresql://postgres:***@db\n",
      "3 rows affected.\n"
     ]
    },
    {
     "data": {
      "text/html": [
       "<table>\n",
       "    <tr>\n",
       "        <th>name</th>\n",
       "        <th>mana</th>\n",
       "        <th>class</th>\n",
       "        <th>set</th>\n",
       "    </tr>\n",
       "    <tr>\n",
       "        <td>Explosive Trap</td>\n",
       "        <td>2</td>\n",
       "        <td>Hunter</td>\n",
       "        <td>Expert</td>\n",
       "    </tr>\n",
       "    <tr>\n",
       "        <td>Crackle</td>\n",
       "        <td>2</td>\n",
       "        <td>Shaman</td>\n",
       "        <td>Goblins vs Gnomes</td>\n",
       "    </tr>\n",
       "    <tr>\n",
       "        <td>Mind Control</td>\n",
       "        <td>10</td>\n",
       "        <td>Priest</td>\n",
       "        <td>Basic</td>\n",
       "    </tr>\n",
       "</table>"
      ],
      "text/plain": [
       "[('Explosive Trap', 2, 'Hunter', 'Expert'),\n",
       " ('Crackle', 2, 'Shaman', 'Goblins vs Gnomes'),\n",
       " ('Mind Control', 10, 'Priest', 'Basic')]"
      ]
     },
     "execution_count": 64,
     "metadata": {},
     "output_type": "execute_result"
    }
   ],
   "source": [
    "%sql SELECT * FROM ise_ex4_hs.abilities"
   ]
  },
  {
   "cell_type": "code",
   "execution_count": 65,
   "metadata": {},
   "outputs": [
    {
     "name": "stdout",
     "output_type": "stream",
     "text": [
      " * postgresql://postgres:***@db\n",
      "1 rows affected.\n"
     ]
    },
    {
     "data": {
      "text/html": [
       "<table>\n",
       "    <tr>\n",
       "        <th>name</th>\n",
       "        <th>mana</th>\n",
       "        <th>class</th>\n",
       "        <th>set</th>\n",
       "    </tr>\n",
       "    <tr>\n",
       "        <td>Frost Lich Jaina</td>\n",
       "        <td>9</td>\n",
       "        <td>Mage</td>\n",
       "        <td>Knights of the Frozen Throne</td>\n",
       "    </tr>\n",
       "</table>"
      ],
      "text/plain": [
       "[('Frost Lich Jaina', 9, 'Mage', 'Knights of the Frozen Throne')]"
      ]
     },
     "execution_count": 65,
     "metadata": {},
     "output_type": "execute_result"
    }
   ],
   "source": [
    "%sql SELECT * FROM ise_ex4_hs.playable_heroes"
   ]
  },
  {
   "cell_type": "markdown",
   "metadata": {},
   "source": [
    "- Copy/paste and modify your script (the one with the primary/foreign keys), so that the following will occur:  \n",
    "  - When deleting Frost Lich Jaina from ***cards***, she also gets deleted from ***playable_heroes***\n",
    "  - When deleting Gorehowl from ***cards***, in ***weapons*** its name changes to 'placeholder'\n",
    "  - When deleting Crackle from ***cards***, in ***abilities*** its name becomes NULL/None"
   ]
  },
  {
   "cell_type": "code",
   "execution_count": 66,
   "metadata": {},
   "outputs": [
    {
     "name": "stdout",
     "output_type": "stream",
     "text": [
      " * postgresql://postgres:***@db\n",
      "Done.\n",
      "Done.\n",
      "Done.\n",
      "14 rows affected.\n",
      "Done.\n",
      "10 rows affected.\n",
      "Done.\n",
      "12 rows affected.\n",
      "Done.\n",
      "8 rows affected.\n",
      "Done.\n",
      "8 rows affected.\n",
      "Done.\n",
      "3 rows affected.\n",
      "Done.\n",
      "1 rows affected.\n",
      "Done.\n",
      "1 rows affected.\n"
     ]
    },
    {
     "data": {
      "text/plain": [
       "[]"
      ]
     },
     "execution_count": 66,
     "metadata": {},
     "output_type": "execute_result"
    }
   ],
   "source": [
    "%%sql\n",
    "DROP SCHEMA IF EXISTS ise_ex4_hs CASCADE;\n",
    "CREATE SCHEMA ise_ex4_hs;\n",
    "\n",
    "\n",
    "CREATE TABLE ise_ex4_hs.cards(\n",
    "    id INT PRIMARY KEY,\n",
    "    name VARCHAR(30) UNIQUE NOT NULL);\n",
    "\n",
    "INSERT INTO ise_ex4_hs.cards\n",
    "    (id, name) VALUES\n",
    "    (0, 'placeholder'),\n",
    "    (1, 'Explosive Trap'),\n",
    "    (2, 'Crackle'),\n",
    "    (3, 'Ysera'),\n",
    "    (4, 'Mechanical Yeti'),\n",
    "    (5, 'Frost Lich Jaina'),\n",
    "    (6, 'Lord Jaraxxus'),\n",
    "    (7, 'Gorehowl'),\n",
    "    (8, 'Drakonid Operator'),\n",
    "    (9, 'Kvaldir Raider'),\n",
    "    (10, 'Zombie Chow'),\n",
    "    (11, 'Murloc Tinyfin'),\n",
    "    (12, 'Grim Patron'),\n",
    "    (13, 'Mind Control');\n",
    "\n",
    "\n",
    "CREATE TABLE ise_ex4_hs.classes(\n",
    "    name VARCHAR(20) PRIMARY KEY);\n",
    "\n",
    "INSERT INTO ise_ex4_hs.classes VALUES\n",
    "    ('Neutral'), ('Druid'), ('Hunter'),\n",
    "    ('Mage'), ('Paladin'), ('Priest'),\n",
    "    ('Rogue'), ('Shaman'), ('Warlock'), ('Warrior');\n",
    "\n",
    "\n",
    "CREATE TABLE ise_ex4_hs.sets(\n",
    "    name VARCHAR(255) PRIMARY KEY);\n",
    "\n",
    "INSERT INTO ise_ex4_hs.sets VALUES\n",
    "    ('Basic'), ('Expert'), ('Curse of Naxxramas'),\n",
    "    ('Goblins vs Gnomes'), ('Blackrock Mountain'), ('The Grand Tournament'),\n",
    "    ('League of Explorers'), ('Whispers of the Old Gods'), ('Mean Streets of Gadgetzan'),\n",
    "    ('One Night in Karazhan'), ('Journey to Un''Goro'), ('Knights of the Frozen Throne');\n",
    "\n",
    "\n",
    "CREATE TABLE ise_ex4_hs.races(\n",
    "    name VARCHAR(20) PRIMARY KEY);\n",
    "\n",
    "INSERT INTO ise_ex4_hs.races VALUES\n",
    "    ('Beast'), ('Elemental'), ('Demon'), ('Dragon'),\n",
    "    ('Mech'), ('Murloc'), ('Pirate'), ('Totem');\n",
    "\n",
    "\n",
    "CREATE TABLE ise_ex4_hs.minions(\n",
    "    name VARCHAR(30) NOT NULL REFERENCES ise_ex4_hs.cards(name),\n",
    "    mana INT NOT NULL CHECK (mana >= 0),\n",
    "    attack INT NOT NULL CHECK (attack >= 0),\n",
    "    health INT NOT NULL CHECK (health >= 0),\n",
    "    race VARCHAR(20) NULL REFERENCES ise_ex4_hs.races(name),\n",
    "    class VARCHAR(20) NOT NULL REFERENCES ise_ex4_hs.classes(name),\n",
    "    set VARCHAR(255) NOT NULL REFERENCES ise_ex4_hs.sets(name));\n",
    "\n",
    "INSERT INTO ise_ex4_hs.minions\n",
    "    (name, mana, attack, health, race, class, set) VALUES\n",
    "    ('Ysera', 9, 4, 12, 'Dragon', 'Neutral', 'Expert'),\n",
    "    ('Mechanical Yeti', 4, 4, 5, 'Mech', 'Neutral', 'Goblins vs Gnomes'),\n",
    "    ('Lord Jaraxxus', 9, 3, 15, 'Demon', 'Warlock', 'Expert'), \n",
    "    ('Drakonid Operator', 5, 5, 6, 'Dragon', 'Priest', 'Mean Streets of Gadgetzan'), \n",
    "    ('Kvaldir Raider', 5, 4, 4, DEFAULT, 'Neutral', 'The Grand Tournament'), \n",
    "    ('Zombie Chow', 1, 2, 3, DEFAULT, 'Neutral', 'Curse of Naxxramas'),\n",
    "    ('Murloc Tinyfin', 0, 1, 1, 'Murloc', 'Neutral', 'League of Explorers'),\n",
    "    ('Grim Patron', 5, 3, 3, DEFAULT, 'Neutral', 'Blackrock Mountain');\n",
    "\n",
    "\n",
    "CREATE TABLE ise_ex4_hs.abilities(\n",
    "    name VARCHAR(30) NULL REFERENCES ise_ex4_hs.cards(name) ON DELETE SET NULL,\n",
    "    mana INT NOT NULL CHECK (mana >= 0),\n",
    "    class VARCHAR(20) NOT NULL REFERENCES ise_ex4_hs.classes(name),\n",
    "    set VARCHAR(255) NOT NULL REFERENCES ise_ex4_hs.sets(name));\n",
    "\n",
    "INSERT INTO ise_ex4_hs.abilities\n",
    "    (name, mana, class, set) VALUES\n",
    "    ('Explosive Trap', 2, 'Hunter', 'Expert'),\n",
    "    ('Crackle', 2, 'Shaman', 'Goblins vs Gnomes'),\n",
    "    ('Mind Control', 10, 'Priest', 'Basic');\n",
    "\n",
    "\n",
    "CREATE TABLE ise_ex4_hs.weapons(\n",
    "    name VARCHAR(30) NOT NULL DEFAULT 'placeholder' REFERENCES ise_ex4_hs.cards(name) ON DELETE SET DEFAULT,\n",
    "    mana INT NOT NULL CHECK (mana >= 0),\n",
    "    attack INT NOT NULL CHECK (attack >= 0),\n",
    "    durability INT NOT NULL CHECK (durability >= 0),\n",
    "    class VARCHAR(20) not NULL REFERENCES ise_ex4_hs.classes(name),\n",
    "    set VARCHAR(255) NOT NULL REFERENCES ise_ex4_hs.sets(name));\n",
    "\n",
    "INSERT INTO ise_ex4_hs.weapons\n",
    "    (name, mana, attack, durability, class, set) VALUES\n",
    "    ('Gorehowl', 7, 7, 1, 'Warrior', 'Expert');\n",
    "\n",
    "\n",
    "CREATE TABLE ise_ex4_hs.playable_heroes(\n",
    "    name VARCHAR(30) NOT NULL REFERENCES ise_ex4_hs.cards(name) ON DELETE CASCADE,\n",
    "    mana INT NOT NULL CHECK (mana >= 0),\n",
    "    class VARCHAR(20) NOT NULL REFERENCES ise_ex4_hs.classes(name),\n",
    "    set VARCHAR(255) NOT NULL REFERENCES ise_ex4_hs.sets(name));\n",
    "\n",
    "INSERT INTO ise_ex4_hs.playable_heroes\n",
    "    (name, mana, class, set) VALUES\n",
    "    ('Frost Lich Jaina', 9, 'Mage', 'Knights of the Frozen Throne');"
   ]
  },
  {
   "cell_type": "code",
   "execution_count": 67,
   "metadata": {},
   "outputs": [
    {
     "name": "stdout",
     "output_type": "stream",
     "text": [
      " * postgresql://postgres:***@db\n",
      "1 rows affected.\n",
      "1 rows affected.\n",
      "1 rows affected.\n"
     ]
    }
   ],
   "source": [
    "%%sql\n",
    "DELETE FROM ise_ex4_hs.cards WHERE name = 'Frost Lich Jaina';\n",
    "DELETE FROM ise_ex4_hs.cards WHERE name = 'Gorehowl';\n",
    "DELETE FROM ise_ex4_hs.cards WHERE name = 'Crackle';"
   ]
  },
  {
   "cell_type": "code",
   "execution_count": 68,
   "metadata": {},
   "outputs": [
    {
     "name": "stdout",
     "output_type": "stream",
     "text": [
      " * postgresql://postgres:***@db\n",
      "11 rows affected.\n"
     ]
    },
    {
     "data": {
      "text/html": [
       "<table>\n",
       "    <tr>\n",
       "        <th>id</th>\n",
       "        <th>name</th>\n",
       "    </tr>\n",
       "    <tr>\n",
       "        <td>0</td>\n",
       "        <td>placeholder</td>\n",
       "    </tr>\n",
       "    <tr>\n",
       "        <td>1</td>\n",
       "        <td>Explosive Trap</td>\n",
       "    </tr>\n",
       "    <tr>\n",
       "        <td>3</td>\n",
       "        <td>Ysera</td>\n",
       "    </tr>\n",
       "    <tr>\n",
       "        <td>4</td>\n",
       "        <td>Mechanical Yeti</td>\n",
       "    </tr>\n",
       "    <tr>\n",
       "        <td>6</td>\n",
       "        <td>Lord Jaraxxus</td>\n",
       "    </tr>\n",
       "    <tr>\n",
       "        <td>8</td>\n",
       "        <td>Drakonid Operator</td>\n",
       "    </tr>\n",
       "    <tr>\n",
       "        <td>9</td>\n",
       "        <td>Kvaldir Raider</td>\n",
       "    </tr>\n",
       "    <tr>\n",
       "        <td>10</td>\n",
       "        <td>Zombie Chow</td>\n",
       "    </tr>\n",
       "    <tr>\n",
       "        <td>11</td>\n",
       "        <td>Murloc Tinyfin</td>\n",
       "    </tr>\n",
       "    <tr>\n",
       "        <td>12</td>\n",
       "        <td>Grim Patron</td>\n",
       "    </tr>\n",
       "    <tr>\n",
       "        <td>13</td>\n",
       "        <td>Mind Control</td>\n",
       "    </tr>\n",
       "</table>"
      ],
      "text/plain": [
       "[(0, 'placeholder'),\n",
       " (1, 'Explosive Trap'),\n",
       " (3, 'Ysera'),\n",
       " (4, 'Mechanical Yeti'),\n",
       " (6, 'Lord Jaraxxus'),\n",
       " (8, 'Drakonid Operator'),\n",
       " (9, 'Kvaldir Raider'),\n",
       " (10, 'Zombie Chow'),\n",
       " (11, 'Murloc Tinyfin'),\n",
       " (12, 'Grim Patron'),\n",
       " (13, 'Mind Control')]"
      ]
     },
     "execution_count": 68,
     "metadata": {},
     "output_type": "execute_result"
    }
   ],
   "source": [
    "%sql SELECT * FROM ise_ex4_hs.cards"
   ]
  },
  {
   "cell_type": "code",
   "execution_count": 69,
   "metadata": {},
   "outputs": [
    {
     "name": "stdout",
     "output_type": "stream",
     "text": [
      " * postgresql://postgres:***@db\n",
      "8 rows affected.\n"
     ]
    },
    {
     "data": {
      "text/html": [
       "<table>\n",
       "    <tr>\n",
       "        <th>name</th>\n",
       "    </tr>\n",
       "    <tr>\n",
       "        <td>Beast</td>\n",
       "    </tr>\n",
       "    <tr>\n",
       "        <td>Elemental</td>\n",
       "    </tr>\n",
       "    <tr>\n",
       "        <td>Demon</td>\n",
       "    </tr>\n",
       "    <tr>\n",
       "        <td>Dragon</td>\n",
       "    </tr>\n",
       "    <tr>\n",
       "        <td>Mech</td>\n",
       "    </tr>\n",
       "    <tr>\n",
       "        <td>Murloc</td>\n",
       "    </tr>\n",
       "    <tr>\n",
       "        <td>Pirate</td>\n",
       "    </tr>\n",
       "    <tr>\n",
       "        <td>Totem</td>\n",
       "    </tr>\n",
       "</table>"
      ],
      "text/plain": [
       "[('Beast',),\n",
       " ('Elemental',),\n",
       " ('Demon',),\n",
       " ('Dragon',),\n",
       " ('Mech',),\n",
       " ('Murloc',),\n",
       " ('Pirate',),\n",
       " ('Totem',)]"
      ]
     },
     "execution_count": 69,
     "metadata": {},
     "output_type": "execute_result"
    }
   ],
   "source": [
    "%sql SELECT * FROM ise_ex4_hs.races"
   ]
  },
  {
   "cell_type": "code",
   "execution_count": 70,
   "metadata": {},
   "outputs": [
    {
     "name": "stdout",
     "output_type": "stream",
     "text": [
      " * postgresql://postgres:***@db\n",
      "10 rows affected.\n"
     ]
    },
    {
     "data": {
      "text/html": [
       "<table>\n",
       "    <tr>\n",
       "        <th>name</th>\n",
       "    </tr>\n",
       "    <tr>\n",
       "        <td>Neutral</td>\n",
       "    </tr>\n",
       "    <tr>\n",
       "        <td>Druid</td>\n",
       "    </tr>\n",
       "    <tr>\n",
       "        <td>Hunter</td>\n",
       "    </tr>\n",
       "    <tr>\n",
       "        <td>Mage</td>\n",
       "    </tr>\n",
       "    <tr>\n",
       "        <td>Paladin</td>\n",
       "    </tr>\n",
       "    <tr>\n",
       "        <td>Priest</td>\n",
       "    </tr>\n",
       "    <tr>\n",
       "        <td>Rogue</td>\n",
       "    </tr>\n",
       "    <tr>\n",
       "        <td>Shaman</td>\n",
       "    </tr>\n",
       "    <tr>\n",
       "        <td>Warlock</td>\n",
       "    </tr>\n",
       "    <tr>\n",
       "        <td>Warrior</td>\n",
       "    </tr>\n",
       "</table>"
      ],
      "text/plain": [
       "[('Neutral',),\n",
       " ('Druid',),\n",
       " ('Hunter',),\n",
       " ('Mage',),\n",
       " ('Paladin',),\n",
       " ('Priest',),\n",
       " ('Rogue',),\n",
       " ('Shaman',),\n",
       " ('Warlock',),\n",
       " ('Warrior',)]"
      ]
     },
     "execution_count": 70,
     "metadata": {},
     "output_type": "execute_result"
    }
   ],
   "source": [
    "%sql SELECT * FROM ise_ex4_hs.classes"
   ]
  },
  {
   "cell_type": "code",
   "execution_count": 71,
   "metadata": {},
   "outputs": [
    {
     "name": "stdout",
     "output_type": "stream",
     "text": [
      " * postgresql://postgres:***@db\n",
      "12 rows affected.\n"
     ]
    },
    {
     "data": {
      "text/html": [
       "<table>\n",
       "    <tr>\n",
       "        <th>name</th>\n",
       "    </tr>\n",
       "    <tr>\n",
       "        <td>Basic</td>\n",
       "    </tr>\n",
       "    <tr>\n",
       "        <td>Expert</td>\n",
       "    </tr>\n",
       "    <tr>\n",
       "        <td>Curse of Naxxramas</td>\n",
       "    </tr>\n",
       "    <tr>\n",
       "        <td>Goblins vs Gnomes</td>\n",
       "    </tr>\n",
       "    <tr>\n",
       "        <td>Blackrock Mountain</td>\n",
       "    </tr>\n",
       "    <tr>\n",
       "        <td>The Grand Tournament</td>\n",
       "    </tr>\n",
       "    <tr>\n",
       "        <td>League of Explorers</td>\n",
       "    </tr>\n",
       "    <tr>\n",
       "        <td>Whispers of the Old Gods</td>\n",
       "    </tr>\n",
       "    <tr>\n",
       "        <td>Mean Streets of Gadgetzan</td>\n",
       "    </tr>\n",
       "    <tr>\n",
       "        <td>One Night in Karazhan</td>\n",
       "    </tr>\n",
       "    <tr>\n",
       "        <td>Journey to Un&#x27;Goro</td>\n",
       "    </tr>\n",
       "    <tr>\n",
       "        <td>Knights of the Frozen Throne</td>\n",
       "    </tr>\n",
       "</table>"
      ],
      "text/plain": [
       "[('Basic',),\n",
       " ('Expert',),\n",
       " ('Curse of Naxxramas',),\n",
       " ('Goblins vs Gnomes',),\n",
       " ('Blackrock Mountain',),\n",
       " ('The Grand Tournament',),\n",
       " ('League of Explorers',),\n",
       " ('Whispers of the Old Gods',),\n",
       " ('Mean Streets of Gadgetzan',),\n",
       " ('One Night in Karazhan',),\n",
       " (\"Journey to Un'Goro\",),\n",
       " ('Knights of the Frozen Throne',)]"
      ]
     },
     "execution_count": 71,
     "metadata": {},
     "output_type": "execute_result"
    }
   ],
   "source": [
    "%sql SELECT * FROM ise_ex4_hs.sets"
   ]
  },
  {
   "cell_type": "code",
   "execution_count": 72,
   "metadata": {},
   "outputs": [
    {
     "name": "stdout",
     "output_type": "stream",
     "text": [
      " * postgresql://postgres:***@db\n",
      "8 rows affected.\n"
     ]
    },
    {
     "data": {
      "text/html": [
       "<table>\n",
       "    <tr>\n",
       "        <th>name</th>\n",
       "        <th>mana</th>\n",
       "        <th>attack</th>\n",
       "        <th>health</th>\n",
       "        <th>race</th>\n",
       "        <th>class</th>\n",
       "        <th>set</th>\n",
       "    </tr>\n",
       "    <tr>\n",
       "        <td>Ysera</td>\n",
       "        <td>9</td>\n",
       "        <td>4</td>\n",
       "        <td>12</td>\n",
       "        <td>Dragon</td>\n",
       "        <td>Neutral</td>\n",
       "        <td>Expert</td>\n",
       "    </tr>\n",
       "    <tr>\n",
       "        <td>Mechanical Yeti</td>\n",
       "        <td>4</td>\n",
       "        <td>4</td>\n",
       "        <td>5</td>\n",
       "        <td>Mech</td>\n",
       "        <td>Neutral</td>\n",
       "        <td>Goblins vs Gnomes</td>\n",
       "    </tr>\n",
       "    <tr>\n",
       "        <td>Lord Jaraxxus</td>\n",
       "        <td>9</td>\n",
       "        <td>3</td>\n",
       "        <td>15</td>\n",
       "        <td>Demon</td>\n",
       "        <td>Warlock</td>\n",
       "        <td>Expert</td>\n",
       "    </tr>\n",
       "    <tr>\n",
       "        <td>Drakonid Operator</td>\n",
       "        <td>5</td>\n",
       "        <td>5</td>\n",
       "        <td>6</td>\n",
       "        <td>Dragon</td>\n",
       "        <td>Priest</td>\n",
       "        <td>Mean Streets of Gadgetzan</td>\n",
       "    </tr>\n",
       "    <tr>\n",
       "        <td>Kvaldir Raider</td>\n",
       "        <td>5</td>\n",
       "        <td>4</td>\n",
       "        <td>4</td>\n",
       "        <td>None</td>\n",
       "        <td>Neutral</td>\n",
       "        <td>The Grand Tournament</td>\n",
       "    </tr>\n",
       "    <tr>\n",
       "        <td>Zombie Chow</td>\n",
       "        <td>1</td>\n",
       "        <td>2</td>\n",
       "        <td>3</td>\n",
       "        <td>None</td>\n",
       "        <td>Neutral</td>\n",
       "        <td>Curse of Naxxramas</td>\n",
       "    </tr>\n",
       "    <tr>\n",
       "        <td>Murloc Tinyfin</td>\n",
       "        <td>0</td>\n",
       "        <td>1</td>\n",
       "        <td>1</td>\n",
       "        <td>Murloc</td>\n",
       "        <td>Neutral</td>\n",
       "        <td>League of Explorers</td>\n",
       "    </tr>\n",
       "    <tr>\n",
       "        <td>Grim Patron</td>\n",
       "        <td>5</td>\n",
       "        <td>3</td>\n",
       "        <td>3</td>\n",
       "        <td>None</td>\n",
       "        <td>Neutral</td>\n",
       "        <td>Blackrock Mountain</td>\n",
       "    </tr>\n",
       "</table>"
      ],
      "text/plain": [
       "[('Ysera', 9, 4, 12, 'Dragon', 'Neutral', 'Expert'),\n",
       " ('Mechanical Yeti', 4, 4, 5, 'Mech', 'Neutral', 'Goblins vs Gnomes'),\n",
       " ('Lord Jaraxxus', 9, 3, 15, 'Demon', 'Warlock', 'Expert'),\n",
       " ('Drakonid Operator', 5, 5, 6, 'Dragon', 'Priest', 'Mean Streets of Gadgetzan'),\n",
       " ('Kvaldir Raider', 5, 4, 4, None, 'Neutral', 'The Grand Tournament'),\n",
       " ('Zombie Chow', 1, 2, 3, None, 'Neutral', 'Curse of Naxxramas'),\n",
       " ('Murloc Tinyfin', 0, 1, 1, 'Murloc', 'Neutral', 'League of Explorers'),\n",
       " ('Grim Patron', 5, 3, 3, None, 'Neutral', 'Blackrock Mountain')]"
      ]
     },
     "execution_count": 72,
     "metadata": {},
     "output_type": "execute_result"
    }
   ],
   "source": [
    "%sql SELECT * FROM ise_ex4_hs.minions"
   ]
  },
  {
   "cell_type": "code",
   "execution_count": 73,
   "metadata": {},
   "outputs": [
    {
     "name": "stdout",
     "output_type": "stream",
     "text": [
      " * postgresql://postgres:***@db\n",
      "1 rows affected.\n"
     ]
    },
    {
     "data": {
      "text/html": [
       "<table>\n",
       "    <tr>\n",
       "        <th>name</th>\n",
       "        <th>mana</th>\n",
       "        <th>attack</th>\n",
       "        <th>durability</th>\n",
       "        <th>class</th>\n",
       "        <th>set</th>\n",
       "    </tr>\n",
       "    <tr>\n",
       "        <td>placeholder</td>\n",
       "        <td>7</td>\n",
       "        <td>7</td>\n",
       "        <td>1</td>\n",
       "        <td>Warrior</td>\n",
       "        <td>Expert</td>\n",
       "    </tr>\n",
       "</table>"
      ],
      "text/plain": [
       "[('placeholder', 7, 7, 1, 'Warrior', 'Expert')]"
      ]
     },
     "execution_count": 73,
     "metadata": {},
     "output_type": "execute_result"
    }
   ],
   "source": [
    "%sql SELECT * FROM ise_ex4_hs.weapons"
   ]
  },
  {
   "cell_type": "code",
   "execution_count": 74,
   "metadata": {},
   "outputs": [
    {
     "name": "stdout",
     "output_type": "stream",
     "text": [
      " * postgresql://postgres:***@db\n",
      "3 rows affected.\n"
     ]
    },
    {
     "data": {
      "text/html": [
       "<table>\n",
       "    <tr>\n",
       "        <th>name</th>\n",
       "        <th>mana</th>\n",
       "        <th>class</th>\n",
       "        <th>set</th>\n",
       "    </tr>\n",
       "    <tr>\n",
       "        <td>Explosive Trap</td>\n",
       "        <td>2</td>\n",
       "        <td>Hunter</td>\n",
       "        <td>Expert</td>\n",
       "    </tr>\n",
       "    <tr>\n",
       "        <td>Mind Control</td>\n",
       "        <td>10</td>\n",
       "        <td>Priest</td>\n",
       "        <td>Basic</td>\n",
       "    </tr>\n",
       "    <tr>\n",
       "        <td>None</td>\n",
       "        <td>2</td>\n",
       "        <td>Shaman</td>\n",
       "        <td>Goblins vs Gnomes</td>\n",
       "    </tr>\n",
       "</table>"
      ],
      "text/plain": [
       "[('Explosive Trap', 2, 'Hunter', 'Expert'),\n",
       " ('Mind Control', 10, 'Priest', 'Basic'),\n",
       " (None, 2, 'Shaman', 'Goblins vs Gnomes')]"
      ]
     },
     "execution_count": 74,
     "metadata": {},
     "output_type": "execute_result"
    }
   ],
   "source": [
    "%sql SELECT * FROM ise_ex4_hs.abilities"
   ]
  },
  {
   "cell_type": "code",
   "execution_count": 75,
   "metadata": {},
   "outputs": [
    {
     "name": "stdout",
     "output_type": "stream",
     "text": [
      " * postgresql://postgres:***@db\n",
      "0 rows affected.\n"
     ]
    },
    {
     "data": {
      "text/html": [
       "<table>\n",
       "    <tr>\n",
       "        <th>name</th>\n",
       "        <th>mana</th>\n",
       "        <th>class</th>\n",
       "        <th>set</th>\n",
       "    </tr>\n",
       "</table>"
      ],
      "text/plain": [
       "[]"
      ]
     },
     "execution_count": 75,
     "metadata": {},
     "output_type": "execute_result"
    }
   ],
   "source": [
    "%sql SELECT * FROM ise_ex4_hs.playable_heroes"
   ]
  },
  {
   "cell_type": "markdown",
   "metadata": {},
   "source": [
    "- Think about deleting Mind Control from the ***cards*** table. As already seen, depending on the **ON DELETE** option selected, there will be different effects on the table ***abilities***, specifically in the ***name*** entry for Mind Control. Now consider the scenario where by deleting, among others, Mind Control from the ***cards*** table, the Mind Control tuple in the ***abilities*** table becomes:\n",
    "```\n",
    "  (placeholder, 0, Neutral, Expert)  \n",
    "```\n",
    "  Modify your last script so that you can reproduce this effect. You will have to delete tuples in more than one tables (and of course set the necessary **ON DELETE** options). \n",
    "  (hint: you may have to create another table as well ...)"
   ]
  },
  {
   "cell_type": "code",
   "execution_count": 76,
   "metadata": {},
   "outputs": [
    {
     "name": "stdout",
     "output_type": "stream",
     "text": [
      " * postgresql://postgres:***@db\n",
      "Done.\n",
      "Done.\n",
      "Done.\n",
      "14 rows affected.\n",
      "Done.\n",
      "10 rows affected.\n",
      "Done.\n",
      "12 rows affected.\n",
      "Done.\n",
      "8 rows affected.\n",
      "Done.\n",
      "11 rows affected.\n",
      "Done.\n",
      "8 rows affected.\n",
      "Done.\n",
      "3 rows affected.\n",
      "Done.\n",
      "1 rows affected.\n",
      "Done.\n",
      "1 rows affected.\n"
     ]
    },
    {
     "data": {
      "text/plain": [
       "[]"
      ]
     },
     "execution_count": 76,
     "metadata": {},
     "output_type": "execute_result"
    }
   ],
   "source": [
    "%%sql\n",
    "DROP SCHEMA ise_ex4_hs CASCADE;\n",
    "CREATE SCHEMA ise_ex4_hs;\n",
    "\n",
    "\n",
    "CREATE TABLE ise_ex4_hs.cards(\n",
    "    id INT PRIMARY KEY,\n",
    "    name VARCHAR(30) UNIQUE NOT NULL);\n",
    "\n",
    "INSERT INTO ise_ex4_hs.cards\n",
    "    (id, name) VALUES\n",
    "    (0, 'placeholder'),\n",
    "    (1, 'Explosive Trap'),\n",
    "    (2, 'Crackle'),\n",
    "    (3, 'Ysera'),\n",
    "    (4, 'Mechanical Yeti'),\n",
    "    (5, 'Frost Lich Jaina'),\n",
    "    (6, 'Lord Jaraxxus'),\n",
    "    (7, 'Gorehowl'),\n",
    "    (8, 'Drakonid Operator'),\n",
    "    (9, 'Kvaldir Raider'),\n",
    "    (10, 'Zombie Chow'),\n",
    "    (11, 'Murloc Tinyfin'),\n",
    "    (12, 'Grim Patron'),\n",
    "    (13, 'Mind Control');\n",
    "    \n",
    "    \n",
    "CREATE TABLE ise_ex4_hs.classes(\n",
    "    name VARCHAR(20) PRIMARY KEY);\n",
    "\n",
    "INSERT INTO ise_ex4_hs.classes VALUES\n",
    "    ('Neutral'), ('Druid'), ('Hunter'),\n",
    "    ('Mage'), ('Paladin'), ('Priest'),\n",
    "    ('Rogue'), ('Shaman'), ('Warlock'), ('Warrior');\n",
    "    \n",
    "\n",
    "CREATE TABLE ise_ex4_hs.sets(\n",
    "    name VARCHAR(255) PRIMARY KEY);\n",
    "\n",
    "INSERT INTO ise_ex4_hs.sets VALUES\n",
    "    ('Basic'), ('Expert'), ('Curse of Naxxramas'),\n",
    "    ('Goblins vs Gnomes'), ('Blackrock Mountain'), ('The Grand Tournament'),\n",
    "    ('League of Explorers'), ('Whispers of the Old Gods'), ('Mean Streets of Gadgetzan'),\n",
    "    ('One Night in Karazhan'), ('Journey to Un''Goro'), ('Knights of the Frozen Throne');\n",
    "    \n",
    "    \n",
    "CREATE TABLE ise_ex4_hs.races(\n",
    "    name VARCHAR(20) PRIMARY KEY);\n",
    "\n",
    "INSERT INTO ise_ex4_hs.races VALUES\n",
    "    ('Beast'), ('Elemental'), ('Demon'), ('Dragon'),\n",
    "    ('Mech'), ('Murloc'), ('Pirate'), ('Totem');\n",
    "    \n",
    "CREATE TABLE ise_ex4_hs.mana_values(mana INT PRIMARY KEY);\n",
    "\n",
    "INSERT INTO ise_ex4_hs.mana_values VALUES (0), (1), (2), (3), (4), (5), (6), (7), (8), (9), (10);\n",
    "    \n",
    "CREATE TABLE ise_ex4_hs.minions(\n",
    "    name VARCHAR(30) NOT NULL REFERENCES ise_ex4_hs.cards(name),\n",
    "    mana INT NOT NULL CHECK(mana >= 0) REFERENCES ise_ex4_hs.mana_values(mana) ON DELETE CASCADE,\n",
    "    attack INT NOT NULL CHECK(attack >= 0),\n",
    "    health INT NOT NULL CHECK(health >= 0),\n",
    "    race VARCHAR(20) NULL REFERENCES ise_ex4_hs.races(name) ON DELETE CASCADE,\n",
    "    class VARCHAR(20) NOT NULL REFERENCES ise_ex4_hs.classes(name) ON DELETE CASCADE,\n",
    "    set VARCHAR(255) NOT NULL REFERENCES ise_ex4_hs.sets(name) ON DELETE CASCADE);\n",
    "\n",
    "INSERT INTO ise_ex4_hs.minions\n",
    "    (name, mana, attack, health, race, class, set) VALUES\n",
    "    ('Ysera', 9, 4, 12, 'Dragon', 'Neutral', 'Expert'),\n",
    "    ('Mechanical Yeti', 4, 4, 5, 'Mech', 'Neutral', 'Goblins vs Gnomes'),\n",
    "    ('Lord Jaraxxus', 9, 3, 15, 'Demon', 'Warlock', 'Expert'), \n",
    "    ('Drakonid Operator', 5, 5, 6, 'Dragon', 'Priest', 'Mean Streets of Gadgetzan'), \n",
    "    ('Kvaldir Raider', 5, 4, 4, DEFAULT, 'Neutral', 'The Grand Tournament'), \n",
    "    ('Zombie Chow', 1, 2, 3, DEFAULT, 'Neutral', 'Curse of Naxxramas'),\n",
    "    ('Murloc Tinyfin', 0, 1, 1, 'Murloc', 'Neutral', 'League of Explorers'),\n",
    "    ('Grim Patron', 5, 3, 3, DEFAULT, 'Neutral', 'Blackrock Mountain');\n",
    "    \n",
    "    \n",
    "    \n",
    "CREATE TABLE ise_ex4_hs.abilities(\n",
    "    name VARCHAR(30) DEFAULT 'placeholder' REFERENCES ise_ex4_hs.cards(name) ON DELETE SET DEFAULT,\n",
    "    mana INT DEFAULT 0 CHECK(mana >= 0) REFERENCES ise_ex4_hs.mana_values(mana) ON DELETE SET DEFAULT,\n",
    "    class VARCHAR(20) DEFAULT 'Neutral' REFERENCES ise_ex4_hs.classes(name) ON DELETE SET DEFAULT,\n",
    "    set VARCHAR(255) DEFAULT 'Expert' REFERENCES ise_ex4_hs.sets(name) ON DELETE SET DEFAULT);\n",
    "\n",
    "INSERT INTO ise_ex4_hs.abilities\n",
    "    (name, mana, class, set) VALUES\n",
    "    ('Explosive Trap', 2, 'Hunter', 'Expert'),\n",
    "    ('Crackle', 2, 'Shaman', 'Goblins vs Gnomes'),\n",
    "    ('Mind Control', 10, 'Priest', 'Basic');\n",
    "    \n",
    "    \n",
    "CREATE TABLE ise_ex4_hs.weapons(\n",
    "    name VARCHAR(30) DEFAULT 'placeholder' REFERENCES ise_ex4_hs.cards(name),\n",
    "    mana INT DEFAULT 1 CHECK(mana >= 0) REFERENCES ise_ex4_hs.mana_values(mana) ON DELETE CASCADE,\n",
    "    attack INT DEFAULT 1 CHECK(attack >= 0),\n",
    "    durability INT DEFAULT 1 CHECK(durability >= 0),\n",
    "    class VARCHAR(20) DEFAULT 'Neutral' REFERENCES ise_ex4_hs.classes(name) ON DELETE CASCADE,\n",
    "    set VARCHAR(255) DEFAULT 'Basic' REFERENCES ise_ex4_hs.sets(name) ON DELETE CASCADE);\n",
    "\n",
    "INSERT INTO ise_ex4_hs.weapons\n",
    "    (name, mana, attack, durability, class, set) VALUES\n",
    "    ('Gorehowl', 7, 7, 1, 'Warrior', 'Expert');\n",
    "    \n",
    "\n",
    "CREATE TABLE ise_ex4_hs.playable_heroes(\n",
    "    name VARCHAR(30) NOT NULL REFERENCES ise_ex4_hs.cards(name),\n",
    "    mana INT NOT NULL CHECK(mana >= 0) REFERENCES ise_ex4_hs.mana_values(mana) ON DELETE CASCADE,\n",
    "    class VARCHAR(20) NOT NULL REFERENCES ise_ex4_hs.classes(name) ON DELETE CASCADE,\n",
    "    set VARCHAR(255) NOT NULL REFERENCES ise_ex4_hs.sets(name) ON DELETE CASCADE);\n",
    "\n",
    "INSERT INTO ise_ex4_hs.playable_heroes\n",
    "    (name, mana, class, set) VALUES\n",
    "    ('Frost Lich Jaina', 9, 'Mage', 'Knights of the Frozen Throne');"
   ]
  },
  {
   "cell_type": "markdown",
   "metadata": {
    "collapsed": true
   },
   "source": [
    "- Delete the necessary tuples in order to get the desired result in ***abilities***"
   ]
  },
  {
   "cell_type": "code",
   "execution_count": 77,
   "metadata": {},
   "outputs": [
    {
     "name": "stdout",
     "output_type": "stream",
     "text": [
      " * postgresql://postgres:***@db\n",
      "1 rows affected.\n",
      "1 rows affected.\n",
      "1 rows affected.\n",
      "1 rows affected.\n"
     ]
    }
   ],
   "source": [
    "%%sql\n",
    "DELETE FROM ise_ex4_hs.cards WHERE name = 'Mind Control';\n",
    "DELETE FROM ise_ex4_hs.mana_values WHERE mana = 10;\n",
    "DELETE FROM ise_ex4_hs.classes WHERE name = 'Priest';\n",
    "DELETE FROM ise_ex4_hs.sets WHERE name = 'Basic';"
   ]
  },
  {
   "cell_type": "code",
   "execution_count": 78,
   "metadata": {},
   "outputs": [
    {
     "name": "stdout",
     "output_type": "stream",
     "text": [
      " * postgresql://postgres:***@db\n",
      "13 rows affected.\n"
     ]
    },
    {
     "data": {
      "text/html": [
       "<table>\n",
       "    <tr>\n",
       "        <th>id</th>\n",
       "        <th>name</th>\n",
       "    </tr>\n",
       "    <tr>\n",
       "        <td>0</td>\n",
       "        <td>placeholder</td>\n",
       "    </tr>\n",
       "    <tr>\n",
       "        <td>1</td>\n",
       "        <td>Explosive Trap</td>\n",
       "    </tr>\n",
       "    <tr>\n",
       "        <td>2</td>\n",
       "        <td>Crackle</td>\n",
       "    </tr>\n",
       "    <tr>\n",
       "        <td>3</td>\n",
       "        <td>Ysera</td>\n",
       "    </tr>\n",
       "    <tr>\n",
       "        <td>4</td>\n",
       "        <td>Mechanical Yeti</td>\n",
       "    </tr>\n",
       "    <tr>\n",
       "        <td>5</td>\n",
       "        <td>Frost Lich Jaina</td>\n",
       "    </tr>\n",
       "    <tr>\n",
       "        <td>6</td>\n",
       "        <td>Lord Jaraxxus</td>\n",
       "    </tr>\n",
       "    <tr>\n",
       "        <td>7</td>\n",
       "        <td>Gorehowl</td>\n",
       "    </tr>\n",
       "    <tr>\n",
       "        <td>8</td>\n",
       "        <td>Drakonid Operator</td>\n",
       "    </tr>\n",
       "    <tr>\n",
       "        <td>9</td>\n",
       "        <td>Kvaldir Raider</td>\n",
       "    </tr>\n",
       "    <tr>\n",
       "        <td>10</td>\n",
       "        <td>Zombie Chow</td>\n",
       "    </tr>\n",
       "    <tr>\n",
       "        <td>11</td>\n",
       "        <td>Murloc Tinyfin</td>\n",
       "    </tr>\n",
       "    <tr>\n",
       "        <td>12</td>\n",
       "        <td>Grim Patron</td>\n",
       "    </tr>\n",
       "</table>"
      ],
      "text/plain": [
       "[(0, 'placeholder'),\n",
       " (1, 'Explosive Trap'),\n",
       " (2, 'Crackle'),\n",
       " (3, 'Ysera'),\n",
       " (4, 'Mechanical Yeti'),\n",
       " (5, 'Frost Lich Jaina'),\n",
       " (6, 'Lord Jaraxxus'),\n",
       " (7, 'Gorehowl'),\n",
       " (8, 'Drakonid Operator'),\n",
       " (9, 'Kvaldir Raider'),\n",
       " (10, 'Zombie Chow'),\n",
       " (11, 'Murloc Tinyfin'),\n",
       " (12, 'Grim Patron')]"
      ]
     },
     "execution_count": 78,
     "metadata": {},
     "output_type": "execute_result"
    }
   ],
   "source": [
    "%sql SELECT * FROM ise_ex4_hs.cards"
   ]
  },
  {
   "cell_type": "code",
   "execution_count": 79,
   "metadata": {},
   "outputs": [
    {
     "name": "stdout",
     "output_type": "stream",
     "text": [
      " * postgresql://postgres:***@db\n",
      "8 rows affected.\n"
     ]
    },
    {
     "data": {
      "text/html": [
       "<table>\n",
       "    <tr>\n",
       "        <th>name</th>\n",
       "    </tr>\n",
       "    <tr>\n",
       "        <td>Beast</td>\n",
       "    </tr>\n",
       "    <tr>\n",
       "        <td>Elemental</td>\n",
       "    </tr>\n",
       "    <tr>\n",
       "        <td>Demon</td>\n",
       "    </tr>\n",
       "    <tr>\n",
       "        <td>Dragon</td>\n",
       "    </tr>\n",
       "    <tr>\n",
       "        <td>Mech</td>\n",
       "    </tr>\n",
       "    <tr>\n",
       "        <td>Murloc</td>\n",
       "    </tr>\n",
       "    <tr>\n",
       "        <td>Pirate</td>\n",
       "    </tr>\n",
       "    <tr>\n",
       "        <td>Totem</td>\n",
       "    </tr>\n",
       "</table>"
      ],
      "text/plain": [
       "[('Beast',),\n",
       " ('Elemental',),\n",
       " ('Demon',),\n",
       " ('Dragon',),\n",
       " ('Mech',),\n",
       " ('Murloc',),\n",
       " ('Pirate',),\n",
       " ('Totem',)]"
      ]
     },
     "execution_count": 79,
     "metadata": {},
     "output_type": "execute_result"
    }
   ],
   "source": [
    "%sql SELECT * FROM ise_ex4_hs.races"
   ]
  },
  {
   "cell_type": "code",
   "execution_count": 80,
   "metadata": {},
   "outputs": [
    {
     "name": "stdout",
     "output_type": "stream",
     "text": [
      " * postgresql://postgres:***@db\n",
      "9 rows affected.\n"
     ]
    },
    {
     "data": {
      "text/html": [
       "<table>\n",
       "    <tr>\n",
       "        <th>name</th>\n",
       "    </tr>\n",
       "    <tr>\n",
       "        <td>Neutral</td>\n",
       "    </tr>\n",
       "    <tr>\n",
       "        <td>Druid</td>\n",
       "    </tr>\n",
       "    <tr>\n",
       "        <td>Hunter</td>\n",
       "    </tr>\n",
       "    <tr>\n",
       "        <td>Mage</td>\n",
       "    </tr>\n",
       "    <tr>\n",
       "        <td>Paladin</td>\n",
       "    </tr>\n",
       "    <tr>\n",
       "        <td>Rogue</td>\n",
       "    </tr>\n",
       "    <tr>\n",
       "        <td>Shaman</td>\n",
       "    </tr>\n",
       "    <tr>\n",
       "        <td>Warlock</td>\n",
       "    </tr>\n",
       "    <tr>\n",
       "        <td>Warrior</td>\n",
       "    </tr>\n",
       "</table>"
      ],
      "text/plain": [
       "[('Neutral',),\n",
       " ('Druid',),\n",
       " ('Hunter',),\n",
       " ('Mage',),\n",
       " ('Paladin',),\n",
       " ('Rogue',),\n",
       " ('Shaman',),\n",
       " ('Warlock',),\n",
       " ('Warrior',)]"
      ]
     },
     "execution_count": 80,
     "metadata": {},
     "output_type": "execute_result"
    }
   ],
   "source": [
    "%sql SELECT * FROM ise_ex4_hs.classes"
   ]
  },
  {
   "cell_type": "code",
   "execution_count": 81,
   "metadata": {},
   "outputs": [
    {
     "name": "stdout",
     "output_type": "stream",
     "text": [
      " * postgresql://postgres:***@db\n",
      "11 rows affected.\n"
     ]
    },
    {
     "data": {
      "text/html": [
       "<table>\n",
       "    <tr>\n",
       "        <th>name</th>\n",
       "    </tr>\n",
       "    <tr>\n",
       "        <td>Expert</td>\n",
       "    </tr>\n",
       "    <tr>\n",
       "        <td>Curse of Naxxramas</td>\n",
       "    </tr>\n",
       "    <tr>\n",
       "        <td>Goblins vs Gnomes</td>\n",
       "    </tr>\n",
       "    <tr>\n",
       "        <td>Blackrock Mountain</td>\n",
       "    </tr>\n",
       "    <tr>\n",
       "        <td>The Grand Tournament</td>\n",
       "    </tr>\n",
       "    <tr>\n",
       "        <td>League of Explorers</td>\n",
       "    </tr>\n",
       "    <tr>\n",
       "        <td>Whispers of the Old Gods</td>\n",
       "    </tr>\n",
       "    <tr>\n",
       "        <td>Mean Streets of Gadgetzan</td>\n",
       "    </tr>\n",
       "    <tr>\n",
       "        <td>One Night in Karazhan</td>\n",
       "    </tr>\n",
       "    <tr>\n",
       "        <td>Journey to Un&#x27;Goro</td>\n",
       "    </tr>\n",
       "    <tr>\n",
       "        <td>Knights of the Frozen Throne</td>\n",
       "    </tr>\n",
       "</table>"
      ],
      "text/plain": [
       "[('Expert',),\n",
       " ('Curse of Naxxramas',),\n",
       " ('Goblins vs Gnomes',),\n",
       " ('Blackrock Mountain',),\n",
       " ('The Grand Tournament',),\n",
       " ('League of Explorers',),\n",
       " ('Whispers of the Old Gods',),\n",
       " ('Mean Streets of Gadgetzan',),\n",
       " ('One Night in Karazhan',),\n",
       " (\"Journey to Un'Goro\",),\n",
       " ('Knights of the Frozen Throne',)]"
      ]
     },
     "execution_count": 81,
     "metadata": {},
     "output_type": "execute_result"
    }
   ],
   "source": [
    "%sql SELECT * FROM ise_ex4_hs.sets"
   ]
  },
  {
   "cell_type": "code",
   "execution_count": 82,
   "metadata": {},
   "outputs": [
    {
     "name": "stdout",
     "output_type": "stream",
     "text": [
      " * postgresql://postgres:***@db\n",
      "7 rows affected.\n"
     ]
    },
    {
     "data": {
      "text/html": [
       "<table>\n",
       "    <tr>\n",
       "        <th>name</th>\n",
       "        <th>mana</th>\n",
       "        <th>attack</th>\n",
       "        <th>health</th>\n",
       "        <th>race</th>\n",
       "        <th>class</th>\n",
       "        <th>set</th>\n",
       "    </tr>\n",
       "    <tr>\n",
       "        <td>Ysera</td>\n",
       "        <td>9</td>\n",
       "        <td>4</td>\n",
       "        <td>12</td>\n",
       "        <td>Dragon</td>\n",
       "        <td>Neutral</td>\n",
       "        <td>Expert</td>\n",
       "    </tr>\n",
       "    <tr>\n",
       "        <td>Mechanical Yeti</td>\n",
       "        <td>4</td>\n",
       "        <td>4</td>\n",
       "        <td>5</td>\n",
       "        <td>Mech</td>\n",
       "        <td>Neutral</td>\n",
       "        <td>Goblins vs Gnomes</td>\n",
       "    </tr>\n",
       "    <tr>\n",
       "        <td>Lord Jaraxxus</td>\n",
       "        <td>9</td>\n",
       "        <td>3</td>\n",
       "        <td>15</td>\n",
       "        <td>Demon</td>\n",
       "        <td>Warlock</td>\n",
       "        <td>Expert</td>\n",
       "    </tr>\n",
       "    <tr>\n",
       "        <td>Kvaldir Raider</td>\n",
       "        <td>5</td>\n",
       "        <td>4</td>\n",
       "        <td>4</td>\n",
       "        <td>None</td>\n",
       "        <td>Neutral</td>\n",
       "        <td>The Grand Tournament</td>\n",
       "    </tr>\n",
       "    <tr>\n",
       "        <td>Zombie Chow</td>\n",
       "        <td>1</td>\n",
       "        <td>2</td>\n",
       "        <td>3</td>\n",
       "        <td>None</td>\n",
       "        <td>Neutral</td>\n",
       "        <td>Curse of Naxxramas</td>\n",
       "    </tr>\n",
       "    <tr>\n",
       "        <td>Murloc Tinyfin</td>\n",
       "        <td>0</td>\n",
       "        <td>1</td>\n",
       "        <td>1</td>\n",
       "        <td>Murloc</td>\n",
       "        <td>Neutral</td>\n",
       "        <td>League of Explorers</td>\n",
       "    </tr>\n",
       "    <tr>\n",
       "        <td>Grim Patron</td>\n",
       "        <td>5</td>\n",
       "        <td>3</td>\n",
       "        <td>3</td>\n",
       "        <td>None</td>\n",
       "        <td>Neutral</td>\n",
       "        <td>Blackrock Mountain</td>\n",
       "    </tr>\n",
       "</table>"
      ],
      "text/plain": [
       "[('Ysera', 9, 4, 12, 'Dragon', 'Neutral', 'Expert'),\n",
       " ('Mechanical Yeti', 4, 4, 5, 'Mech', 'Neutral', 'Goblins vs Gnomes'),\n",
       " ('Lord Jaraxxus', 9, 3, 15, 'Demon', 'Warlock', 'Expert'),\n",
       " ('Kvaldir Raider', 5, 4, 4, None, 'Neutral', 'The Grand Tournament'),\n",
       " ('Zombie Chow', 1, 2, 3, None, 'Neutral', 'Curse of Naxxramas'),\n",
       " ('Murloc Tinyfin', 0, 1, 1, 'Murloc', 'Neutral', 'League of Explorers'),\n",
       " ('Grim Patron', 5, 3, 3, None, 'Neutral', 'Blackrock Mountain')]"
      ]
     },
     "execution_count": 82,
     "metadata": {},
     "output_type": "execute_result"
    }
   ],
   "source": [
    "%sql SELECT * FROM ise_ex4_hs.minions"
   ]
  },
  {
   "cell_type": "code",
   "execution_count": 83,
   "metadata": {},
   "outputs": [
    {
     "name": "stdout",
     "output_type": "stream",
     "text": [
      " * postgresql://postgres:***@db\n",
      "1 rows affected.\n"
     ]
    },
    {
     "data": {
      "text/html": [
       "<table>\n",
       "    <tr>\n",
       "        <th>name</th>\n",
       "        <th>mana</th>\n",
       "        <th>attack</th>\n",
       "        <th>durability</th>\n",
       "        <th>class</th>\n",
       "        <th>set</th>\n",
       "    </tr>\n",
       "    <tr>\n",
       "        <td>Gorehowl</td>\n",
       "        <td>7</td>\n",
       "        <td>7</td>\n",
       "        <td>1</td>\n",
       "        <td>Warrior</td>\n",
       "        <td>Expert</td>\n",
       "    </tr>\n",
       "</table>"
      ],
      "text/plain": [
       "[('Gorehowl', 7, 7, 1, 'Warrior', 'Expert')]"
      ]
     },
     "execution_count": 83,
     "metadata": {},
     "output_type": "execute_result"
    }
   ],
   "source": [
    "%sql SELECT * FROM ise_ex4_hs.weapons"
   ]
  },
  {
   "cell_type": "code",
   "execution_count": 84,
   "metadata": {},
   "outputs": [
    {
     "name": "stdout",
     "output_type": "stream",
     "text": [
      " * postgresql://postgres:***@db\n",
      "3 rows affected.\n"
     ]
    },
    {
     "data": {
      "text/html": [
       "<table>\n",
       "    <tr>\n",
       "        <th>name</th>\n",
       "        <th>mana</th>\n",
       "        <th>class</th>\n",
       "        <th>set</th>\n",
       "    </tr>\n",
       "    <tr>\n",
       "        <td>Explosive Trap</td>\n",
       "        <td>2</td>\n",
       "        <td>Hunter</td>\n",
       "        <td>Expert</td>\n",
       "    </tr>\n",
       "    <tr>\n",
       "        <td>Crackle</td>\n",
       "        <td>2</td>\n",
       "        <td>Shaman</td>\n",
       "        <td>Goblins vs Gnomes</td>\n",
       "    </tr>\n",
       "    <tr>\n",
       "        <td>placeholder</td>\n",
       "        <td>0</td>\n",
       "        <td>Neutral</td>\n",
       "        <td>Expert</td>\n",
       "    </tr>\n",
       "</table>"
      ],
      "text/plain": [
       "[('Explosive Trap', 2, 'Hunter', 'Expert'),\n",
       " ('Crackle', 2, 'Shaman', 'Goblins vs Gnomes'),\n",
       " ('placeholder', 0, 'Neutral', 'Expert')]"
      ]
     },
     "execution_count": 84,
     "metadata": {},
     "output_type": "execute_result"
    }
   ],
   "source": [
    "%sql SELECT * FROM ise_ex4_hs.abilities"
   ]
  },
  {
   "cell_type": "code",
   "execution_count": 85,
   "metadata": {},
   "outputs": [
    {
     "name": "stdout",
     "output_type": "stream",
     "text": [
      " * postgresql://postgres:***@db\n",
      "1 rows affected.\n"
     ]
    },
    {
     "data": {
      "text/html": [
       "<table>\n",
       "    <tr>\n",
       "        <th>name</th>\n",
       "        <th>mana</th>\n",
       "        <th>class</th>\n",
       "        <th>set</th>\n",
       "    </tr>\n",
       "    <tr>\n",
       "        <td>Frost Lich Jaina</td>\n",
       "        <td>9</td>\n",
       "        <td>Mage</td>\n",
       "        <td>Knights of the Frozen Throne</td>\n",
       "    </tr>\n",
       "</table>"
      ],
      "text/plain": [
       "[('Frost Lich Jaina', 9, 'Mage', 'Knights of the Frozen Throne')]"
      ]
     },
     "execution_count": 85,
     "metadata": {},
     "output_type": "execute_result"
    }
   ],
   "source": [
    "%sql SELECT * FROM ise_ex4_hs.playable_heroes"
   ]
  },
  {
   "cell_type": "markdown",
   "metadata": {},
   "source": [
    "- This next exercise is optional. It presents the issue of potential circular dependencies with foreign keys.\n",
    "  Run the following script."
   ]
  },
  {
   "cell_type": "code",
   "execution_count": 86,
   "metadata": {},
   "outputs": [
    {
     "name": "stdout",
     "output_type": "stream",
     "text": [
      " * postgresql://postgres:***@db\n",
      "Done.\n",
      "Done.\n",
      "Done.\n",
      "14 rows affected.\n",
      "Done.\n",
      "10 rows affected.\n",
      "Done.\n",
      "13 rows affected.\n",
      "Done.\n",
      "8 rows affected.\n",
      "Done.\n",
      "14 rows affected.\n"
     ]
    },
    {
     "data": {
      "text/plain": [
       "[]"
      ]
     },
     "execution_count": 86,
     "metadata": {},
     "output_type": "execute_result"
    }
   ],
   "source": [
    "%%sql\n",
    "DROP SCHEMA IF EXISTS ise_ex4_hs CASCADE;\n",
    "CREATE SCHEMA ise_ex4_hs;\n",
    "\n",
    "\n",
    "CREATE TABLE ise_ex4_hs.cards(\n",
    "    id INT PRIMARY KEY,\n",
    "    name VARCHAR(30) UNIQUE NOT NULL);\n",
    "\n",
    "INSERT INTO ise_ex4_hs.cards\n",
    "    (id, name) VALUES\n",
    "    (3, 'Ysera'),\n",
    "    (4, 'Mechanical Yeti'),\n",
    "    (6, 'Lord Jaraxxus'),\n",
    "    (8, 'Drakonid Operator'),\n",
    "    (9, 'Kvaldir Raider'),\n",
    "    (10, 'Zombie Chow'),\n",
    "    (11, 'Murloc Tinyfin'),\n",
    "    (12, 'Grim Patron'),\n",
    "    (14, 'Voodoo Doctor'),\n",
    "    (15, 'C''thun'),\n",
    "    (16, 'Kazakus'),\n",
    "    (17, 'Silverware Golem'),\n",
    "    (18, 'Tyrantus'),\n",
    "    (19, 'Bonemare');\n",
    "    \n",
    "    \n",
    "CREATE TABLE ise_ex4_hs.classes(\n",
    "    name VARCHAR(20) PRIMARY KEY);\n",
    "\n",
    "INSERT INTO ise_ex4_hs.classes VALUES\n",
    "    ('Neutral'), ('Druid'), ('Hunter'),\n",
    "    ('Mage'), ('Paladin'), ('Priest'),\n",
    "    ('Rogue'), ('Shaman'), ('Warlock'), ('Warrior');\n",
    "    \n",
    "\n",
    "CREATE TABLE ise_ex4_hs.sets(\n",
    "    name VARCHAR(255) PRIMARY KEY);\n",
    "\n",
    "INSERT INTO ise_ex4_hs.sets VALUES\n",
    "    ('Basic'), ('Expert'), ('Curse of Naxxramas'),\n",
    "    ('Goblins vs Gnomes'), ('Blackrock Mountain'), ('the cake is a lie'), ('The Grand Tournament'),\n",
    "    ('League of Explorers'), ('Whispers of the Old Gods'), ('Mean Streets of Gadgetzan'),\n",
    "    ('One Night in Karazhan'), ('Journey to Un''Goro'), ('Knights of the Frozen Throne');\n",
    "    \n",
    "    \n",
    "CREATE TABLE ise_ex4_hs.races(\n",
    "    name VARCHAR(20) PRIMARY KEY);\n",
    "\n",
    "INSERT INTO ise_ex4_hs.races VALUES\n",
    "    ('Beast'), ('Elemental'), ('Demon'), ('Dragon'),\n",
    "    ('Mech'), ('Murloc'), ('Pirate'), ('Totem');\n",
    "    \n",
    "    \n",
    "CREATE TABLE ise_ex4_hs.minions(\n",
    "    name VARCHAR(30) NOT NULL REFERENCES ise_ex4_hs.cards(name),\n",
    "    mana INT NOT NULL CHECK(mana >= 0),\n",
    "    attack INT NOT NULL CHECK(attack >= 0),\n",
    "    health INT NOT NULL CHECK(health >= 0),\n",
    "    race VARCHAR(20) NULL REFERENCES ise_ex4_hs.races(name),\n",
    "    class VARCHAR(20) NOT NULL REFERENCES ise_ex4_hs.classes(name),\n",
    "    set VARCHAR(255) NOT NULL REFERENCES ise_ex4_hs.sets(name));\n",
    "\n",
    "INSERT INTO ise_ex4_hs.minions\n",
    "    (name, mana, attack, health, race, class, set) VALUES\n",
    "    ('Ysera', 9, 4, 12, 'Dragon', 'Neutral', 'Expert'),\n",
    "    ('Mechanical Yeti', 4, 4, 5, 'Mech', 'Neutral', 'Goblins vs Gnomes'),\n",
    "    ('Lord Jaraxxus', 9, 3, 15, 'Demon', 'Warlock', 'Expert'), \n",
    "    ('Drakonid Operator', 5, 5, 6, 'Dragon', 'Priest', 'Mean Streets of Gadgetzan'), \n",
    "    ('Kvaldir Raider', 5, 4, 4, DEFAULT, 'Neutral', 'The Grand Tournament'), \n",
    "    ('Zombie Chow', 1, 2, 3, DEFAULT, 'Neutral', 'Curse of Naxxramas'),\n",
    "    ('Murloc Tinyfin', 0, 1, 1, 'Murloc', 'Neutral', 'League of Explorers'),\n",
    "    ('Grim Patron', 5, 3, 3, DEFAULT, 'Neutral', 'Blackrock Mountain'),\n",
    "    ('Voodoo Doctor', 1, 2, 1, DEFAULT, 'Neutral', 'Basic'),\n",
    "    ('C''thun', 10, 6, 6, DEFAULT, 'Neutral', 'Whispers of the Old Gods'),\n",
    "    ('Kazakus', 4, 3, 3, DEFAULT, 'Neutral', 'Mean Streets of Gadgetzan'),\n",
    "    ('Silverware Golem', 3, 3, 3, DEFAULT, 'Warlock', 'One Night in Karazhan'),\n",
    "    ('Tyrantus', 10, 12, 12, 'Beast', 'Druid', 'Journey to Un''Goro'),\n",
    "    ('Bonemare', 7, 5, 5, DEFAULT, 'Neutral', 'Knights of the Frozen Throne');"
   ]
  },
  {
   "cell_type": "markdown",
   "metadata": {},
   "source": [
    "- Add a foreign key constraint to the ***cards*** table: cards.name references minions.name  \n",
    "  (You may need to add other constraints too)"
   ]
  },
  {
   "cell_type": "code",
   "execution_count": 87,
   "metadata": {},
   "outputs": [
    {
     "name": "stdout",
     "output_type": "stream",
     "text": [
      " * postgresql://postgres:***@db\n",
      "Done.\n",
      "Done.\n"
     ]
    },
    {
     "data": {
      "text/plain": [
       "[]"
      ]
     },
     "execution_count": 87,
     "metadata": {},
     "output_type": "execute_result"
    }
   ],
   "source": [
    "%%sql\n",
    "ALTER TABLE ise_ex4_hs.minions\n",
    "    ADD PRIMARY KEY(name);\n",
    "ALTER TABLE ise_ex4_hs.cards\n",
    "    ADD FOREIGN KEY(name) REFERENCES ise_ex4_hs.minions(name);"
   ]
  },
  {
   "cell_type": "markdown",
   "metadata": {},
   "source": [
    "- Try to insert the following tuple to the ***cards*** table:  \n",
    "  (20, Coliseum Manager)"
   ]
  },
  {
   "cell_type": "code",
   "execution_count": 88,
   "metadata": {},
   "outputs": [
    {
     "name": "stdout",
     "output_type": "stream",
     "text": [
      " * postgresql://postgres:***@db\n",
      "(psycopg2.errors.ForeignKeyViolation) insert or update on table \"cards\" violates foreign key constraint \"cards_name_fkey\"\n",
      "DETAIL:  Key (name)=(Coliseum Manager) is not present in table \"minions\".\n",
      "\n",
      "[SQL: INSERT INTO ise_ex4_hs.cards VALUES (20, 'Coliseum Manager' );]\n",
      "(Background on this error at: https://sqlalche.me/e/14/gkpj)\n"
     ]
    }
   ],
   "source": [
    "%sql INSERT INTO ise_ex4_hs.cards VALUES (20, 'Coliseum Manager');"
   ]
  },
  {
   "cell_type": "markdown",
   "metadata": {},
   "source": [
    "- Try to insert the following tuple to the ***minions*** table:  \n",
    "  (Coliseum Manager, 3, 2, 5, -, Neutral, The Grand Tournament)"
   ]
  },
  {
   "cell_type": "code",
   "execution_count": 89,
   "metadata": {},
   "outputs": [
    {
     "name": "stdout",
     "output_type": "stream",
     "text": [
      " * postgresql://postgres:***@db\n",
      "(psycopg2.errors.ForeignKeyViolation) insert or update on table \"minions\" violates foreign key constraint \"minions_name_fkey\"\n",
      "DETAIL:  Key (name)=(Coliseum Manager) is not present in table \"cards\".\n",
      "\n",
      "[SQL: INSERT INTO ise_ex4_hs.minions VALUES\n",
      "    ('Coliseum Manager', 3, 2, 5, DEFAULT, 'Neutral', 'The Grand Tournament');]\n",
      "(Background on this error at: https://sqlalche.me/e/14/gkpj)\n"
     ]
    }
   ],
   "source": [
    "%%sql\n",
    "INSERT INTO ise_ex4_hs.minions VALUES\n",
    "    ('Coliseum Manager', 3, 2, 5, DEFAULT, 'Neutral', 'The Grand Tournament');"
   ]
  },
  {
   "cell_type": "markdown",
   "metadata": {},
   "source": [
    "- Those interested can read [here](https://www.postgresql.org/docs/current/static/sql-set-constraints.html) how the issue may be potentially resolved. Unfortunately though, to apply it in practice you need 'transactions', which are well beyond the concept of this exercise and are not even supported by ipython/jupyter. Still, it is good to have a good grasp of the pitfalls of foreign keys and how to solve them."
   ]
  },
  {
   "cell_type": "code",
   "execution_count": 90,
   "metadata": {},
   "outputs": [
    {
     "name": "stdout",
     "output_type": "stream",
     "text": [
      " * postgresql://postgres:***@db\n",
      "1 rows affected.\n"
     ]
    }
   ],
   "source": [
    "%%sql\n",
    "SELECT *\n",
    "FROM ise_ex4_hs.sets\n",
    "WHERE NOT EXISTS (\n",
    "    SELECT *\n",
    "    FROM ise_ex4_hs.minions\n",
    "    WHERE ise_ex4_hs.sets.name = ise_ex4_hs.minions.set);"
   ]
  },
  {
   "cell_type": "code",
   "execution_count": null,
   "metadata": {},
   "outputs": [],
   "source": []
  }
 ],
 "metadata": {
  "kernelspec": {
   "display_name": "Python 3 (ipykernel)",
   "language": "python",
   "name": "python3"
  },
  "language_info": {
   "codemirror_mode": {
    "name": "ipython",
    "version": 3
   },
   "file_extension": ".py",
   "mimetype": "text/x-python",
   "name": "python",
   "nbconvert_exporter": "python",
   "pygments_lexer": "ipython3",
   "version": "3.9.20"
  }
 },
 "nbformat": 4,
 "nbformat_minor": 2
}
